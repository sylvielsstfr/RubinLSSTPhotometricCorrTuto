{
 "cells": [
  {
   "cell_type": "markdown",
   "id": "ad5a3ac3-1d31-4599-995b-fc544a7da5ae",
   "metadata": {},
   "source": [
    "# Read Gaia and Calspec spectra from hdf5 file"
   ]
  },
  {
   "cell_type": "markdown",
   "id": "ac5107e7-d490-4e81-9296-6bfb7af6dce4",
   "metadata": {},
   "source": [
    "- author Sylvie Dagoret-Campagne\n",
    "- affiliation IJCLab\n",
    "- creation date : 2024/10/05\n",
    "- update : 2024/10/05 : "
   ]
  },
  {
   "cell_type": "markdown",
   "id": "1b9e9219-8434-4143-a863-9dd87e1f6630",
   "metadata": {},
   "source": [
    "- inspired from : https://github.com/JospehCeh/PhotoZ_PhD/blob/u/dagoret/StudyFors2SED/ReadFors2spectrafromh5.ipynb"
   ]
  },
  {
   "cell_type": "code",
   "execution_count": null,
   "id": "1edbe7f0-c493-4659-8949-c17da1b52dfc",
   "metadata": {
    "execution": {
     "iopub.execute_input": "2024-10-05T17:49:17.994605Z",
     "iopub.status.busy": "2024-10-05T17:49:17.994431Z",
     "iopub.status.idle": "2024-10-05T17:49:18.738734Z",
     "shell.execute_reply": "2024-10-05T17:49:18.738214Z",
     "shell.execute_reply.started": "2024-10-05T17:49:17.994592Z"
    },
    "tags": []
   },
   "outputs": [],
   "source": [
    "import numpy as np\n",
    "import matplotlib.pyplot as plt\n",
    "%matplotlib inline\n",
    "import matplotlib as mpl\n",
    "import matplotlib.colors as colors\n",
    "import matplotlib.cm as cmx\n",
    "from mpl_toolkits.axes_grid1 import make_axes_locatable\n",
    "from matplotlib.colors import LogNorm\n",
    "from matplotlib.gridspec import GridSpec\n",
    "import pandas as pd\n",
    "\n",
    "import matplotlib.ticker                         # here's where the formatter is\n",
    "import os,sys\n",
    "import re\n",
    "import pandas as pd\n",
    "\n",
    "from astropy.io import fits\n",
    "from astropy import units as u\n",
    "from astropy import constants as c\n",
    "\n",
    "plt.rcParams[\"figure.figsize\"] = (8,6)\n",
    "plt.rcParams[\"axes.labelsize\"] = 'xx-large'\n",
    "plt.rcParams['axes.titlesize'] = 'xx-large'\n",
    "plt.rcParams['xtick.labelsize']= 'xx-large'\n",
    "plt.rcParams['ytick.labelsize']= 'xx-large'\n",
    "\n",
    "import pickle\n",
    "from scipy.interpolate import RegularGridInterpolator\n",
    "import h5py"
   ]
  },
  {
   "cell_type": "code",
   "execution_count": null,
   "id": "faed402e-c407-49d4-b992-a8728eaf15c9",
   "metadata": {
    "execution": {
     "iopub.execute_input": "2024-10-05T17:49:18.739640Z",
     "iopub.status.busy": "2024-10-05T17:49:18.739362Z",
     "iopub.status.idle": "2024-10-05T17:49:18.741757Z",
     "shell.execute_reply": "2024-10-05T17:49:18.741408Z",
     "shell.execute_reply.started": "2024-10-05T17:49:18.739626Z"
    }
   },
   "outputs": [],
   "source": [
    "pd.set_option('display.max_columns', 500)"
   ]
  },
  {
   "cell_type": "code",
   "execution_count": null,
   "id": "ce04b895-01a2-4112-aa2c-8953f6a0caee",
   "metadata": {
    "execution": {
     "iopub.execute_input": "2024-10-05T17:49:18.742383Z",
     "iopub.status.busy": "2024-10-05T17:49:18.742266Z",
     "iopub.status.idle": "2024-10-05T17:49:18.747237Z",
     "shell.execute_reply": "2024-10-05T17:49:18.746803Z",
     "shell.execute_reply.started": "2024-10-05T17:49:18.742371Z"
    },
    "tags": []
   },
   "outputs": [],
   "source": [
    "machine_name = os.uname().nodename\n",
    "path_rubinsimphot = \"repos/repos_w_2024_38/rubinsimphot/src\"\n",
    "if 'sdf' in machine_name:\n",
    "    #machine_name_usdf = 'sdfrome001'\n",
    "    print(\"Set environment for USDF\")\n",
    "    newpythonpath = os.path.join(os.getenv(\"HOME\"),path_rubinsimphot)\n",
    "    sys.path.append(newpythonpath)\n",
    "elif 'dagoret-nb' in machine_name:\n",
    "    print(\"Set environment for USDF Rubin Science Platform\")\n",
    "    newpythonpath = os.path.join(os.getenv(\"HOME\"),path_rubinsimphot)\n",
    "    sys.path.append(newpythonpath)    \n",
    "elif 'mac' in machine_name:\n",
    "    print(\"Be sure to run this notebook in conda environment named conda_py310\")\n",
    "else:\n",
    "    print(f\"Your current machine name is {machine_name}. Check your python environment\")"
   ]
  },
  {
   "cell_type": "markdown",
   "id": "85f7c4c3-d53f-4c8f-8382-2f49e4a7b570",
   "metadata": {},
   "source": [
    "## Config "
   ]
  },
  {
   "cell_type": "code",
   "execution_count": null,
   "id": "f3d46d43-3bc0-4d14-a043-c7a98cae796b",
   "metadata": {
    "execution": {
     "iopub.execute_input": "2024-10-05T17:49:18.748661Z",
     "iopub.status.busy": "2024-10-05T17:49:18.748509Z",
     "iopub.status.idle": "2024-10-05T17:49:18.750895Z",
     "shell.execute_reply": "2024-10-05T17:49:18.750574Z",
     "shell.execute_reply.started": "2024-10-05T17:49:18.748649Z"
    }
   },
   "outputs": [],
   "source": [
    "input_path = \"data_gaiacalspecspectra\"\n",
    "input_file_h5  = 'GAIACALSPECspectra.hdf5'\n",
    "input_fullfile_h5 = os.path.join(input_path,input_file_h5)"
   ]
  },
  {
   "cell_type": "markdown",
   "id": "40e65347-98cd-4a40-b9aa-7055acc9e89a",
   "metadata": {},
   "source": [
    "## Read file"
   ]
  },
  {
   "cell_type": "code",
   "execution_count": null,
   "id": "f93aa0f4-68a0-490b-a318-bf65e3d146e0",
   "metadata": {
    "execution": {
     "iopub.execute_input": "2024-10-05T17:49:18.751448Z",
     "iopub.status.busy": "2024-10-05T17:49:18.751332Z",
     "iopub.status.idle": "2024-10-05T17:49:18.757093Z",
     "shell.execute_reply": "2024-10-05T17:49:18.756741Z",
     "shell.execute_reply.started": "2024-10-05T17:49:18.751437Z"
    }
   },
   "outputs": [],
   "source": [
    "hf =  h5py.File(input_fullfile_h5, 'r') \n",
    "list_of_keys = list(hf.keys())"
   ]
  },
  {
   "cell_type": "code",
   "execution_count": null,
   "id": "688a03ff-591f-4a62-aa34-1cd2cfbc0e3b",
   "metadata": {
    "execution": {
     "iopub.execute_input": "2024-10-05T17:49:18.757719Z",
     "iopub.status.busy": "2024-10-05T17:49:18.757601Z",
     "iopub.status.idle": "2024-10-05T17:49:18.760659Z",
     "shell.execute_reply": "2024-10-05T17:49:18.760334Z",
     "shell.execute_reply.started": "2024-10-05T17:49:18.757708Z"
    }
   },
   "outputs": [],
   "source": [
    "list_of_keys"
   ]
  },
  {
   "cell_type": "code",
   "execution_count": null,
   "id": "dfa68880-29d7-429d-84af-e708db66c9e4",
   "metadata": {
    "execution": {
     "iopub.execute_input": "2024-10-05T17:49:18.761265Z",
     "iopub.status.busy": "2024-10-05T17:49:18.761146Z",
     "iopub.status.idle": "2024-10-05T17:49:18.763555Z",
     "shell.execute_reply": "2024-10-05T17:49:18.763223Z",
     "shell.execute_reply.started": "2024-10-05T17:49:18.761254Z"
    }
   },
   "outputs": [],
   "source": [
    "# pick one key    \n",
    "key_sel =  list_of_keys[0]\n",
    "# pick one group\n",
    "group = hf.get(key_sel)  "
   ]
  },
  {
   "cell_type": "code",
   "execution_count": null,
   "id": "d412549f-02f5-4379-9ee3-fc3e06edaa47",
   "metadata": {
    "execution": {
     "iopub.execute_input": "2024-10-05T17:49:18.764189Z",
     "iopub.status.busy": "2024-10-05T17:49:18.764075Z",
     "iopub.status.idle": "2024-10-05T17:49:18.768219Z",
     "shell.execute_reply": "2024-10-05T17:49:18.767847Z",
     "shell.execute_reply.started": "2024-10-05T17:49:18.764177Z"
    }
   },
   "outputs": [],
   "source": [
    "#pickup all attribute names\n",
    "all_subgroup_keys = []\n",
    "for k in group.attrs.keys():\n",
    "    all_subgroup_keys.append(k)"
   ]
  },
  {
   "cell_type": "code",
   "execution_count": null,
   "id": "f3e99003-d603-4f81-9df8-1bc40a571dc5",
   "metadata": {
    "execution": {
     "iopub.execute_input": "2024-10-05T17:49:18.768900Z",
     "iopub.status.busy": "2024-10-05T17:49:18.768728Z",
     "iopub.status.idle": "2024-10-05T17:49:18.771656Z",
     "shell.execute_reply": "2024-10-05T17:49:18.771328Z",
     "shell.execute_reply.started": "2024-10-05T17:49:18.768888Z"
    }
   },
   "outputs": [],
   "source": [
    "all_subgroup_keys"
   ]
  },
  {
   "cell_type": "code",
   "execution_count": null,
   "id": "81cdeb28-3a99-40a7-b600-53d5864ebf99",
   "metadata": {
    "execution": {
     "iopub.execute_input": "2024-10-05T17:49:18.772221Z",
     "iopub.status.busy": "2024-10-05T17:49:18.772107Z",
     "iopub.status.idle": "2024-10-05T17:49:18.776463Z",
     "shell.execute_reply": "2024-10-05T17:49:18.776098Z",
     "shell.execute_reply.started": "2024-10-05T17:49:18.772211Z"
    }
   },
   "outputs": [],
   "source": [
    "def GetColumnHfData(hff,list_of_keys,nameval):\n",
    "    \"\"\"\n",
    "    Extract hff atttribute \n",
    "    \n",
    "    parameters\n",
    "      hff           : descriptor of h5 file\n",
    "      list_of_keys : list of exposures\n",
    "      nameval      : name of the attribute\n",
    "      \n",
    "    return\n",
    "           the array of values in the order of \n",
    "    \"\"\"\n",
    "    \n",
    "\n",
    "    all_data = []\n",
    "    for key in list_of_keys:\n",
    "        group=hff.get(key)\n",
    "        val=group.attrs[nameval]\n",
    "        all_data.append(val)\n",
    "    return all_data"
   ]
  },
  {
   "cell_type": "code",
   "execution_count": null,
   "id": "f252dfd4-38a5-4fcc-a198-f434f5d67e8d",
   "metadata": {
    "execution": {
     "iopub.execute_input": "2024-10-05T17:49:18.777222Z",
     "iopub.status.busy": "2024-10-05T17:49:18.777025Z",
     "iopub.status.idle": "2024-10-05T17:49:18.828204Z",
     "shell.execute_reply": "2024-10-05T17:49:18.827814Z",
     "shell.execute_reply.started": "2024-10-05T17:49:18.777210Z"
    }
   },
   "outputs": [],
   "source": [
    "# create info\n",
    "df_info = pd.DataFrame()\n",
    "for key in all_subgroup_keys:\n",
    "    arr=GetColumnHfData(hf, list_of_keys ,key)\n",
    "    df_info[key] = arr"
   ]
  },
  {
   "cell_type": "code",
   "execution_count": null,
   "id": "29cf09fb-d521-4cd8-8d4a-8062940073ac",
   "metadata": {
    "execution": {
     "iopub.execute_input": "2024-10-05T17:49:18.828780Z",
     "iopub.status.busy": "2024-10-05T17:49:18.828664Z",
     "iopub.status.idle": "2024-10-05T17:49:18.846057Z",
     "shell.execute_reply": "2024-10-05T17:49:18.845708Z",
     "shell.execute_reply.started": "2024-10-05T17:49:18.828768Z"
    }
   },
   "outputs": [],
   "source": [
    "df_info"
   ]
  },
  {
   "cell_type": "code",
   "execution_count": null,
   "id": "5422995a-dd80-4a2d-842d-7078819c205f",
   "metadata": {
    "execution": {
     "iopub.execute_input": "2024-10-05T17:49:18.846627Z",
     "iopub.status.busy": "2024-10-05T17:49:18.846511Z",
     "iopub.status.idle": "2024-10-05T17:49:18.848525Z",
     "shell.execute_reply": "2024-10-05T17:49:18.848171Z",
     "shell.execute_reply.started": "2024-10-05T17:49:18.846616Z"
    }
   },
   "outputs": [],
   "source": [
    "N = len(df_info)"
   ]
  },
  {
   "cell_type": "markdown",
   "id": "7f807997-9b8e-48e3-a22b-a51cd27f160a",
   "metadata": {},
   "source": [
    "## Extract the spectra"
   ]
  },
  {
   "cell_type": "code",
   "execution_count": null,
   "id": "5e351c3b-4d6a-4244-926f-eeec6c8c6dd2",
   "metadata": {
    "execution": {
     "iopub.execute_input": "2024-10-05T17:49:18.849170Z",
     "iopub.status.busy": "2024-10-05T17:49:18.849047Z",
     "iopub.status.idle": "2024-10-05T17:49:19.043207Z",
     "shell.execute_reply": "2024-10-05T17:49:19.042795Z",
     "shell.execute_reply.started": "2024-10-05T17:49:18.849159Z"
    }
   },
   "outputs": [],
   "source": [
    "all_dfg = [] \n",
    "all_dfc = [] \n",
    "    \n",
    "idx=0\n",
    "for key in list_of_keys :\n",
    "        \n",
    "    group = hf.get(key)\n",
    "    dfg = pd.DataFrame()\n",
    "    dfc = pd.DataFrame()\n",
    "\n",
    "    dfg[\"WAVELENGTH\"] = np.array(group.get(\"gWAVELENGTH\"))\n",
    "    dfg[\"FLUX\"] = np.array(group.get(\"gFLUX\")) \n",
    "    dfg[\"STATERROR\"] = np.array(group.get(\"gSTATERROR\")) \n",
    "    dfg[\"SYSERROR\"] = np.array(group.get(\"gSYSERROR\")) \n",
    "    dfc[\"WAVELENGTH\"] = np.array(group.get(\"cWAVELENGTH\"))\n",
    "    dfc[\"FLUX\"] = np.array(group.get(\"cFLUX\")) \n",
    "    dfc[\"STATERROR\"] = np.array(group.get(\"cSTATERROR\")) \n",
    "    dfc[\"SYSERROR\"] = np.array(group.get(\"cSYSERROR\")) \n",
    " \n",
    " \n",
    "    all_dfg.append(dfg)\n",
    "    all_dfc.append(dfc)\n",
    "        \n",
    "    idx+=1"
   ]
  },
  {
   "cell_type": "markdown",
   "id": "095644f0-3a42-4ec5-94a5-76a920396635",
   "metadata": {},
   "source": [
    "## Check"
   ]
  },
  {
   "cell_type": "code",
   "execution_count": null,
   "id": "21d54312-90f4-47f2-94df-af902b04da04",
   "metadata": {
    "execution": {
     "iopub.execute_input": "2024-10-05T17:49:19.044022Z",
     "iopub.status.busy": "2024-10-05T17:49:19.043886Z",
     "iopub.status.idle": "2024-10-05T17:49:19.045915Z",
     "shell.execute_reply": "2024-10-05T17:49:19.045566Z",
     "shell.execute_reply.started": "2024-10-05T17:49:19.044010Z"
    }
   },
   "outputs": [],
   "source": [
    "index = 0"
   ]
  },
  {
   "cell_type": "code",
   "execution_count": null,
   "id": "c912efca-a123-46f9-b5b7-c1d6297e4750",
   "metadata": {
    "execution": {
     "iopub.execute_input": "2024-10-05T17:49:19.046606Z",
     "iopub.status.busy": "2024-10-05T17:49:19.046405Z",
     "iopub.status.idle": "2024-10-05T17:49:19.049964Z",
     "shell.execute_reply": "2024-10-05T17:49:19.049608Z",
     "shell.execute_reply.started": "2024-10-05T17:49:19.046594Z"
    }
   },
   "outputs": [],
   "source": [
    "row = df_info.iloc[index]"
   ]
  },
  {
   "cell_type": "code",
   "execution_count": null,
   "id": "3c3f1fce-9ea4-4ac3-939c-5c47888dcbed",
   "metadata": {
    "execution": {
     "iopub.execute_input": "2024-10-05T17:49:19.050737Z",
     "iopub.status.busy": "2024-10-05T17:49:19.050534Z",
     "iopub.status.idle": "2024-10-05T17:49:19.056789Z",
     "shell.execute_reply": "2024-10-05T17:49:19.056457Z",
     "shell.execute_reply.started": "2024-10-05T17:49:19.050723Z"
    }
   },
   "outputs": [],
   "source": [
    "row"
   ]
  },
  {
   "cell_type": "code",
   "execution_count": null,
   "id": "4c114b71-1597-4b1f-962a-485b9d23d4ca",
   "metadata": {
    "execution": {
     "iopub.execute_input": "2024-10-05T17:49:19.057371Z",
     "iopub.status.busy": "2024-10-05T17:49:19.057252Z",
     "iopub.status.idle": "2024-10-05T17:49:19.059954Z",
     "shell.execute_reply": "2024-10-05T17:49:19.059616Z",
     "shell.execute_reply.started": "2024-10-05T17:49:19.057360Z"
    }
   },
   "outputs": [],
   "source": [
    "hdname = row[\"HD_name\"]\n",
    "gaianame = row[\"GAIA_ED3_Name\"]\n",
    "tag = f\"{hdname}_{gaianame}\""
   ]
  },
  {
   "cell_type": "code",
   "execution_count": null,
   "id": "0585c7ac-f808-4ea2-8dda-5da2d6de7769",
   "metadata": {
    "execution": {
     "iopub.execute_input": "2024-10-05T17:49:19.061889Z",
     "iopub.status.busy": "2024-10-05T17:49:19.061714Z",
     "iopub.status.idle": "2024-10-05T17:49:19.064197Z",
     "shell.execute_reply": "2024-10-05T17:49:19.063856Z",
     "shell.execute_reply.started": "2024-10-05T17:49:19.061877Z"
    }
   },
   "outputs": [],
   "source": [
    "hdname"
   ]
  },
  {
   "cell_type": "code",
   "execution_count": null,
   "id": "10759b86-7835-45bd-8faf-07571eb69ebf",
   "metadata": {
    "execution": {
     "iopub.execute_input": "2024-10-05T17:49:19.064781Z",
     "iopub.status.busy": "2024-10-05T17:49:19.064663Z",
     "iopub.status.idle": "2024-10-05T17:49:19.067271Z",
     "shell.execute_reply": "2024-10-05T17:49:19.066942Z",
     "shell.execute_reply.started": "2024-10-05T17:49:19.064770Z"
    }
   },
   "outputs": [],
   "source": [
    "dfg = all_dfg[index]\n",
    "dfc = all_dfc[index]"
   ]
  },
  {
   "cell_type": "code",
   "execution_count": null,
   "id": "546aa0a6-cb1d-49cf-bd4a-6ed2573a54c4",
   "metadata": {
    "execution": {
     "iopub.execute_input": "2024-10-05T17:52:03.659631Z",
     "iopub.status.busy": "2024-10-05T17:52:03.659309Z",
     "iopub.status.idle": "2024-10-05T17:52:03.663428Z",
     "shell.execute_reply": "2024-10-05T17:52:03.663040Z",
     "shell.execute_reply.started": "2024-10-05T17:52:03.659617Z"
    }
   },
   "outputs": [],
   "source": [
    "def plotspec(tag,dfc,dfg):\n",
    "    \"\"\"\n",
    "    tag : name of the star to appear un title\n",
    "    dfc : dataframe for calspec\n",
    "    dfg : dataframe for gaia\n",
    "    \"\"\"\n",
    "    \n",
    "    fig, ax = plt.subplots(1,1,figsize=(8,5))\n",
    "    leg = ax.get_legend()\n",
    "    title = \"calspec-gaia : \" + tag\n",
    "    dfc.plot(x=\"WAVELENGTH\",y=\"FLUX\",ax=ax,marker='.',color='b',legend=leg,label=\"calspec\")\n",
    "    dfg.plot(x=\"WAVELENGTH\",y=\"FLUX\",ax=ax,marker='.',color='r',legend=leg,label=\"gaia\")\n",
    "    ax.set_xlim(300.,1100.)\n",
    "    wl = dfc.WAVELENGTH\n",
    "    index_sel = np.where(np.logical_and(wl>300.,wl<1100.))[0]\n",
    "    fl = dfc.FLUX[index_sel]\n",
    "    flmax = np.max(fl)*1.2\n",
    "    ax.set_ylim(0.,flmax)    \n",
    "\n",
    "    ax.legend()\n",
    "    ax.set_xlabel(\"$\\\\lambda$ (nm)\")\n",
    "    ax.set_ylabel(\"Flux erg/cm$^2$/s/nm \")\n",
    "    ax.set_title(title)\n",
    "    plt.show()"
   ]
  },
  {
   "cell_type": "code",
   "execution_count": null,
   "id": "46e48bcf-87d3-4649-af92-519133b2fcb0",
   "metadata": {
    "execution": {
     "iopub.execute_input": "2024-10-05T17:52:06.232807Z",
     "iopub.status.busy": "2024-10-05T17:52:06.232482Z",
     "iopub.status.idle": "2024-10-05T17:52:06.460784Z",
     "shell.execute_reply": "2024-10-05T17:52:06.460335Z",
     "shell.execute_reply.started": "2024-10-05T17:52:06.232794Z"
    }
   },
   "outputs": [],
   "source": [
    "plotspec(tag,dfc,dfg)"
   ]
  },
  {
   "cell_type": "markdown",
   "id": "db00c5cc-f8f3-47ec-a8ff-982d4260b7b2",
   "metadata": {},
   "source": [
    "## Plot all spectra"
   ]
  },
  {
   "cell_type": "code",
   "execution_count": null,
   "id": "66e96932-f581-4d03-96c1-17370098fba4",
   "metadata": {
    "execution": {
     "iopub.execute_input": "2024-10-05T17:52:10.987574Z",
     "iopub.status.busy": "2024-10-05T17:52:10.987375Z",
     "iopub.status.idle": "2024-10-05T17:52:15.561970Z",
     "shell.execute_reply": "2024-10-05T17:52:15.561581Z",
     "shell.execute_reply.started": "2024-10-05T17:52:10.987560Z"
    }
   },
   "outputs": [],
   "source": [
    "for index in range(N):\n",
    "    # info\n",
    "    row = df_info.iloc[index]\n",
    "\n",
    "    # the title\n",
    "    hdname = row[\"HD_name\"]\n",
    "    gaianame = row[\"GAIA_ED3_Name\"]\n",
    "    tag = f\"{hdname}_{gaianame}\"\n",
    "\n",
    "    # the spectra\n",
    "    dfg = all_dfg[index]\n",
    "    dfc = all_dfc[index]\n",
    "\n",
    "    plotspec(tag,dfc,dfg)\n",
    "    "
   ]
  },
  {
   "cell_type": "code",
   "execution_count": null,
   "id": "39e24e9f-67bc-4600-af7b-cc3fb923632c",
   "metadata": {},
   "outputs": [],
   "source": []
  }
 ],
 "metadata": {
  "kernelspec": {
   "display_name": "LSST",
   "language": "python",
   "name": "lsst"
  },
  "language_info": {
   "codemirror_mode": {
    "name": "ipython",
    "version": 3
   },
   "file_extension": ".py",
   "mimetype": "text/x-python",
   "name": "python",
   "nbconvert_exporter": "python",
   "pygments_lexer": "ipython3",
   "version": "3.11.9"
  }
 },
 "nbformat": 4,
 "nbformat_minor": 5
}
