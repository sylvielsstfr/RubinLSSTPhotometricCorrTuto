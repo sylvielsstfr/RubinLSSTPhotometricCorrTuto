{
 "cells": [
  {
   "cell_type": "markdown",
   "id": "ad5a3ac3-1d31-4599-995b-fc544a7da5ae",
   "metadata": {},
   "source": [
    "# Read Gaia and Calspec spectra from hdf5 file"
   ]
  },
  {
   "cell_type": "markdown",
   "id": "ac5107e7-d490-4e81-9296-6bfb7af6dce4",
   "metadata": {},
   "source": [
    "- author Sylvie Dagoret-Campagne\n",
    "- affiliation IJCLab\n",
    "- creation date : 2024/10/05\n",
    "- update : 2024/10/05 : "
   ]
  },
  {
   "cell_type": "markdown",
   "id": "1b9e9219-8434-4143-a863-9dd87e1f6630",
   "metadata": {},
   "source": [
    "- inspired from : https://github.com/JospehCeh/PhotoZ_PhD/blob/u/dagoret/StudyFors2SED/ReadFors2spectrafromh5.ipynb"
   ]
  },
  {
   "cell_type": "code",
   "execution_count": null,
   "id": "1edbe7f0-c493-4659-8949-c17da1b52dfc",
   "metadata": {
    "tags": []
   },
   "outputs": [],
   "source": [
    "import numpy as np\n",
    "import matplotlib.pyplot as plt\n",
    "%matplotlib inline\n",
    "import matplotlib as mpl\n",
    "import matplotlib.colors as colors\n",
    "import matplotlib.cm as cmx\n",
    "from mpl_toolkits.axes_grid1 import make_axes_locatable\n",
    "from matplotlib.colors import LogNorm\n",
    "from matplotlib.gridspec import GridSpec\n",
    "import pandas as pd\n",
    "\n",
    "import matplotlib.ticker                         # here's where the formatter is\n",
    "import os,sys\n",
    "import re\n",
    "import pandas as pd\n",
    "\n",
    "from astropy.io import fits\n",
    "from astropy import units as u\n",
    "from astropy import constants as c\n",
    "\n",
    "plt.rcParams[\"figure.figsize\"] = (8,6)\n",
    "plt.rcParams[\"axes.labelsize\"] = 'xx-large'\n",
    "plt.rcParams['axes.titlesize'] = 'xx-large'\n",
    "plt.rcParams['xtick.labelsize']= 'xx-large'\n",
    "plt.rcParams['ytick.labelsize']= 'xx-large'\n",
    "\n",
    "import pickle\n",
    "from scipy.interpolate import RegularGridInterpolator\n",
    "import h5py"
   ]
  },
  {
   "cell_type": "code",
   "execution_count": null,
   "id": "faed402e-c407-49d4-b992-a8728eaf15c9",
   "metadata": {},
   "outputs": [],
   "source": [
    "pd.set_option('display.max_columns', 500)"
   ]
  },
  {
   "cell_type": "code",
   "execution_count": null,
   "id": "ce04b895-01a2-4112-aa2c-8953f6a0caee",
   "metadata": {
    "tags": []
   },
   "outputs": [],
   "source": [
    "machine_name = os.uname().nodename\n",
    "path_rubinsimphot = \"repos/repos_w_2024_38/rubinsimphot/src\"\n",
    "if 'sdf' in machine_name:\n",
    "    #machine_name_usdf = 'sdfrome001'\n",
    "    print(\"Set environment for USDF\")\n",
    "    newpythonpath = os.path.join(os.getenv(\"HOME\"),path_rubinsimphot)\n",
    "    sys.path.append(newpythonpath)\n",
    "elif 'dagoret-nb' in machine_name:\n",
    "    print(\"Set environment for USDF Rubin Science Platform\")\n",
    "    newpythonpath = os.path.join(os.getenv(\"HOME\"),path_rubinsimphot)\n",
    "    sys.path.append(newpythonpath)    \n",
    "elif 'mac' in machine_name:\n",
    "    print(\"Be sure to run this notebook in conda environment named conda_py310\")\n",
    "else:\n",
    "    print(f\"Your current machine name is {machine_name}. Check your python environment\")"
   ]
  },
  {
   "cell_type": "markdown",
   "id": "85f7c4c3-d53f-4c8f-8382-2f49e4a7b570",
   "metadata": {},
   "source": [
    "## Config "
   ]
  },
  {
   "cell_type": "code",
   "execution_count": null,
   "id": "f3d46d43-3bc0-4d14-a043-c7a98cae796b",
   "metadata": {},
   "outputs": [],
   "source": [
    "input_path = \"data_gaiacalspecspectra\"\n",
    "input_file_h5  = 'GAIACALSPECspectra.hdf5'\n",
    "input_fullfile_h5 = os.path.join(input_path,input_file_h5)"
   ]
  },
  {
   "cell_type": "markdown",
   "id": "40e65347-98cd-4a40-b9aa-7055acc9e89a",
   "metadata": {},
   "source": [
    "## Read file"
   ]
  },
  {
   "cell_type": "code",
   "execution_count": null,
   "id": "f93aa0f4-68a0-490b-a318-bf65e3d146e0",
   "metadata": {},
   "outputs": [],
   "source": [
    "hf =  h5py.File(input_fullfile_h5, 'r') \n",
    "list_of_keys = list(hf.keys())"
   ]
  },
  {
   "cell_type": "code",
   "execution_count": null,
   "id": "688a03ff-591f-4a62-aa34-1cd2cfbc0e3b",
   "metadata": {},
   "outputs": [],
   "source": [
    "list_of_keys"
   ]
  },
  {
   "cell_type": "code",
   "execution_count": null,
   "id": "dfa68880-29d7-429d-84af-e708db66c9e4",
   "metadata": {},
   "outputs": [],
   "source": [
    "# pick one key    \n",
    "key_sel =  list_of_keys[0]\n",
    "# pick one group\n",
    "group = hf.get(key_sel)  "
   ]
  },
  {
   "cell_type": "code",
   "execution_count": null,
   "id": "d412549f-02f5-4379-9ee3-fc3e06edaa47",
   "metadata": {},
   "outputs": [],
   "source": [
    "#pickup all attribute names\n",
    "all_subgroup_keys = []\n",
    "for k in group.attrs.keys():\n",
    "    all_subgroup_keys.append(k)"
   ]
  },
  {
   "cell_type": "code",
   "execution_count": null,
   "id": "f3e99003-d603-4f81-9df8-1bc40a571dc5",
   "metadata": {},
   "outputs": [],
   "source": [
    "all_subgroup_keys"
   ]
  },
  {
   "cell_type": "code",
   "execution_count": null,
   "id": "81cdeb28-3a99-40a7-b600-53d5864ebf99",
   "metadata": {},
   "outputs": [],
   "source": [
    "def GetColumnHfData(hff,list_of_keys,nameval):\n",
    "    \"\"\"\n",
    "    Extract hff atttribute \n",
    "    \n",
    "    parameters\n",
    "      hff           : descriptor of h5 file\n",
    "      list_of_keys : list of exposures\n",
    "      nameval      : name of the attribute\n",
    "      \n",
    "    return\n",
    "           the array of values in the order of \n",
    "    \"\"\"\n",
    "    \n",
    "\n",
    "    all_data = []\n",
    "    for key in list_of_keys:\n",
    "        group=hff.get(key)\n",
    "        val=group.attrs[nameval]\n",
    "        all_data.append(val)\n",
    "    return all_data"
   ]
  },
  {
   "cell_type": "code",
   "execution_count": null,
   "id": "f252dfd4-38a5-4fcc-a198-f434f5d67e8d",
   "metadata": {},
   "outputs": [],
   "source": [
    "# create info\n",
    "df_info = pd.DataFrame()\n",
    "for key in all_subgroup_keys:\n",
    "    arr=GetColumnHfData(hf, list_of_keys ,key)\n",
    "    df_info[key] = arr"
   ]
  },
  {
   "cell_type": "code",
   "execution_count": null,
   "id": "29cf09fb-d521-4cd8-8d4a-8062940073ac",
   "metadata": {},
   "outputs": [],
   "source": [
    "df_info"
   ]
  },
  {
   "cell_type": "code",
   "execution_count": null,
   "id": "5e351c3b-4d6a-4244-926f-eeec6c8c6dd2",
   "metadata": {},
   "outputs": [],
   "source": [
    "all_dfg = [] \n",
    "all_dfc = [] \n",
    "    \n",
    "idx=0\n",
    "for key in list_of_keys :\n",
    "        \n",
    "    group = hf.get(key)\n",
    "    dfg = pd.DataFrame()\n",
    "    dfc = pd.DataFrame()\n",
    "\n",
    "    dfg[\"WAVELENGTH\"] = np.array(group.get(\"gWAVELENGTH\"))\n",
    "    dfg[\"FLUX\"] = np.array(group.get(\"gFLUX\")) \n",
    "    dfg[\"STATERROR\"] = np.array(group.get(\"gSTATERROR\")) \n",
    "    dfg[\"SYSERROR\"] = np.array(group.get(\"gSYSERROR\")) \n",
    "    dfc[\"WAVELENGTH\"] = np.array(group.get(\"cWAVELENGTH\"))\n",
    "    dfc[\"FLUX\"] = np.array(group.get(\"cFLUX\")) \n",
    "    dfc[\"STATERROR\"] = np.array(group.get(\"cSTATERROR\")) \n",
    "    dfc[\"SYSERROR\"] = np.array(group.get(\"cSYSERROR\")) \n",
    " \n",
    " \n",
    "    all_dfg.append(dfg)\n",
    "    all_dfc.append(dfc)\n",
    "        \n",
    "    idx+=1"
   ]
  },
  {
   "cell_type": "markdown",
   "id": "095644f0-3a42-4ec5-94a5-76a920396635",
   "metadata": {},
   "source": [
    "## Check"
   ]
  },
  {
   "cell_type": "code",
   "execution_count": null,
   "id": "21d54312-90f4-47f2-94df-af902b04da04",
   "metadata": {},
   "outputs": [],
   "source": [
    "index = 0"
   ]
  },
  {
   "cell_type": "code",
   "execution_count": null,
   "id": "c912efca-a123-46f9-b5b7-c1d6297e4750",
   "metadata": {},
   "outputs": [],
   "source": [
    "row = df_info.iloc[index]"
   ]
  },
  {
   "cell_type": "code",
   "execution_count": null,
   "id": "3c3f1fce-9ea4-4ac3-939c-5c47888dcbed",
   "metadata": {},
   "outputs": [],
   "source": [
    "row"
   ]
  },
  {
   "cell_type": "code",
   "execution_count": null,
   "id": "4c114b71-1597-4b1f-962a-485b9d23d4ca",
   "metadata": {},
   "outputs": [],
   "source": [
    "hdname = row[\"HD_name\"]\n",
    "gaianame = row[\"GAIA_ED3_Name\"]\n",
    "tag = f\"{hdname}_{gaianame}\""
   ]
  },
  {
   "cell_type": "code",
   "execution_count": null,
   "id": "0585c7ac-f808-4ea2-8dda-5da2d6de7769",
   "metadata": {},
   "outputs": [],
   "source": [
    "hdname"
   ]
  },
  {
   "cell_type": "code",
   "execution_count": null,
   "id": "10759b86-7835-45bd-8faf-07571eb69ebf",
   "metadata": {},
   "outputs": [],
   "source": [
    "dfg = all_dfg[index]\n",
    "dfc = all_dfc[index]"
   ]
  },
  {
   "cell_type": "code",
   "execution_count": null,
   "id": "60024678-6528-41bf-b8d6-7463850f35a2",
   "metadata": {},
   "outputs": [],
   "source": [
    "df"
   ]
  },
  {
   "cell_type": "code",
   "execution_count": null,
   "id": "546aa0a6-cb1d-49cf-bd4a-6ed2573a54c4",
   "metadata": {},
   "outputs": [],
   "source": [
    "fig, (ax1,ax2) = plt.subplots(2,1,figsize=(8,10))\n",
    "leg1 = ax1.get_legend()\n",
    "leg2 = ax2.get_legend()\n",
    "title = \"gaia : \" + tag\n",
    "dfg.plot(x=\"WAVELENGTH\",y=\"FLUX\",ax=ax1,marker='+',color='b',legend=leg,label=hdname)\n",
    "ax1.set_title(title)\n",
    "ax1.set_xlim(300.,1000.)\n",
    "ax1.legend()\n",
    "\n",
    "dfc.plot(x=\"WAVELENGTH\",y=\"FLUX\",ax=ax2,marker='+',color='b',legend=leg,label=hdname)\n",
    "ax2.set_xlim(3000.,10000.)\n",
    "ax2.legend()"
   ]
  },
  {
   "cell_type": "code",
   "execution_count": null,
   "id": "46e48bcf-87d3-4649-af92-519133b2fcb0",
   "metadata": {},
   "outputs": [],
   "source": []
  }
 ],
 "metadata": {
  "kernelspec": {
   "display_name": "LSST",
   "language": "python",
   "name": "lsst"
  },
  "language_info": {
   "codemirror_mode": {
    "name": "ipython",
    "version": 3
   },
   "file_extension": ".py",
   "mimetype": "text/x-python",
   "name": "python",
   "nbconvert_exporter": "python",
   "pygments_lexer": "ipython3",
   "version": "3.11.9"
  }
 },
 "nbformat": 4,
 "nbformat_minor": 5
}
