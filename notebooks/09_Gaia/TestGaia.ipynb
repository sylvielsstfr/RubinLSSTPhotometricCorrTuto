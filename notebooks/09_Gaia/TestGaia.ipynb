{
 "cells": [
  {
   "cell_type": "markdown",
   "id": "ad5a3ac3-1d31-4599-995b-fc544a7da5ae",
   "metadata": {},
   "source": [
    "# Read Gaia spectra"
   ]
  },
  {
   "cell_type": "markdown",
   "id": "ac5107e7-d490-4e81-9296-6bfb7af6dce4",
   "metadata": {},
   "source": [
    "- author Sylvie Dagoret-Campagne\n",
    "- affiliation IJCLab\n",
    "- creation date : 2024/10/02\n",
    "- update : 2024/10/03"
   ]
  },
  {
   "cell_type": "code",
   "execution_count": null,
   "id": "1edbe7f0-c493-4659-8949-c17da1b52dfc",
   "metadata": {
    "tags": []
   },
   "outputs": [],
   "source": [
    "import numpy as np\n",
    "import matplotlib.pyplot as plt\n",
    "%matplotlib inline\n",
    "import matplotlib as mpl\n",
    "import matplotlib.colors as colors\n",
    "import matplotlib.cm as cmx\n",
    "from mpl_toolkits.axes_grid1 import make_axes_locatable\n",
    "from matplotlib.colors import LogNorm\n",
    "from matplotlib.gridspec import GridSpec\n",
    "import pandas as pd\n",
    "\n",
    "import matplotlib.ticker                         # here's where the formatter is\n",
    "import os,sys\n",
    "import re\n",
    "import pandas as pd\n",
    "\n",
    "from astropy.io import fits\n",
    "from astropy import units as u\n",
    "from astropy import constants as c\n",
    "\n",
    "plt.rcParams[\"figure.figsize\"] = (8,6)\n",
    "plt.rcParams[\"axes.labelsize\"] = 'xx-large'\n",
    "plt.rcParams['axes.titlesize'] = 'xx-large'\n",
    "plt.rcParams['xtick.labelsize']= 'xx-large'\n",
    "plt.rcParams['ytick.labelsize']= 'xx-large'\n",
    "\n",
    "import pickle\n",
    "from scipy.interpolate import RegularGridInterpolator"
   ]
  },
  {
   "cell_type": "code",
   "execution_count": null,
   "id": "bb21cb9f-a29d-4562-8c54-658567c0ea02",
   "metadata": {
    "tags": []
   },
   "outputs": [],
   "source": [
    "try:\n",
    "    from gaiaspec import getGaia\n",
    "except ModuleNotFoundError:\n",
    "    getGaia = None"
   ]
  },
  {
   "cell_type": "code",
   "execution_count": null,
   "id": "d62aebf9-8cc0-4cd4-9648-1d791cd29bd2",
   "metadata": {
    "tags": []
   },
   "outputs": [],
   "source": [
    "dir(getGaia)"
   ]
  },
  {
   "cell_type": "code",
   "execution_count": null,
   "id": "ce04b895-01a2-4112-aa2c-8953f6a0caee",
   "metadata": {
    "tags": []
   },
   "outputs": [],
   "source": [
    "machine_name = os.uname().nodename\n",
    "path_rubinsimphot = \"repos/repos_w_2024_38/rubinsimphot/src\"\n",
    "if 'sdf' in machine_name:\n",
    "    #machine_name_usdf = 'sdfrome001'\n",
    "    print(\"Set environment for USDF\")\n",
    "    newpythonpath = os.path.join(os.getenv(\"HOME\"),path_rubinsimphot)\n",
    "    sys.path.append(newpythonpath)\n",
    "elif 'dagoret-nb' in machine_name:\n",
    "    print(\"Set environment for USDF Rubin Science Platform\")\n",
    "    newpythonpath = os.path.join(os.getenv(\"HOME\"),path_rubinsimphot)\n",
    "    sys.path.append(newpythonpath)    \n",
    "elif 'mac' in machine_name:\n",
    "    print(\"Be sure to run this notebook in conda environment named conda_py310\")\n",
    "else:\n",
    "    print(f\"Your current machine name is {machine_name}. Check your python environment\")"
   ]
  },
  {
   "cell_type": "code",
   "execution_count": null,
   "id": "26b4fa86-7aa3-4165-bcb2-04cf735ad830",
   "metadata": {
    "tags": []
   },
   "outputs": [],
   "source": [
    "list_of_targets = [\"HD111235\",\"HD144334\",\"HD73495\",\"HD165763\"] "
   ]
  },
  {
   "cell_type": "code",
   "execution_count": null,
   "id": "19303e44-c61a-4758-9d65-0904a0176990",
   "metadata": {
    "tags": []
   },
   "outputs": [],
   "source": [
    "the_target = list_of_targets[3]"
   ]
  },
  {
   "cell_type": "code",
   "execution_count": null,
   "id": "eaa35727-d60b-4ce9-aebb-5783564c90c4",
   "metadata": {},
   "outputs": [],
   "source": [
    "gaia_sources = getGaia.get_gaia_sources()"
   ]
  },
  {
   "cell_type": "code",
   "execution_count": null,
   "id": "3bd38dcc-e985-4e90-9a2d-245b2d493f57",
   "metadata": {},
   "outputs": [],
   "source": [
    "gaia_sources"
   ]
  },
  {
   "cell_type": "code",
   "execution_count": null,
   "id": "a38aeb04-5d86-4782-88ff-0d12ebc8a5b0",
   "metadata": {},
   "outputs": [],
   "source": [
    "list_of_sources = gaia_sources[\"SOURCE_ID\"].unique().astype(int)"
   ]
  },
  {
   "cell_type": "code",
   "execution_count": null,
   "id": "9f4fa919-de1b-4e23-996c-eca01e8bc9f5",
   "metadata": {},
   "outputs": [],
   "source": [
    "list_of_sources"
   ]
  },
  {
   "cell_type": "code",
   "execution_count": null,
   "id": "513afef6-b59a-4546-88a0-37594d48cb1e",
   "metadata": {
    "tags": []
   },
   "outputs": [],
   "source": [
    "is_gaiaspec = False\n",
    "is_gaiaspec = getGaia.is_gaiaspec(\"160886283751041408\")\n",
    "is_gaiaspec "
   ]
  },
  {
   "cell_type": "code",
   "execution_count": null,
   "id": "788517c0-f982-49e9-8bd0-611df295efc4",
   "metadata": {},
   "outputs": [],
   "source": []
  },
  {
   "cell_type": "code",
   "execution_count": null,
   "id": "f9c27fdd-ec69-410e-a248-9e739dc46a8a",
   "metadata": {},
   "outputs": [],
   "source": [
    "#if is_gaiaspec == False:\n",
    "is_gaia_full = getGaia.is_gaia_full(160886283751041408)"
   ]
  },
  {
   "cell_type": "code",
   "execution_count": null,
   "id": "9080ad73-ca73-44b2-b2e3-ae6bcca00b44",
   "metadata": {},
   "outputs": [],
   "source": [
    "is_gaiaspec"
   ]
  },
  {
   "cell_type": "code",
   "execution_count": null,
   "id": "49c79ce7-8edc-403e-99c8-eabd91d88f3a",
   "metadata": {},
   "outputs": [],
   "source": [
    "getGaia.get_gaia_spectra?"
   ]
  },
  {
   "cell_type": "code",
   "execution_count": null,
   "id": "619c9ced-b99f-45b4-9fca-e5072c7a819c",
   "metadata": {},
   "outputs": [],
   "source": []
  }
 ],
 "metadata": {
  "kernelspec": {
   "display_name": "conda_py310",
   "language": "python",
   "name": "conda_py310"
  },
  "language_info": {
   "codemirror_mode": {
    "name": "ipython",
    "version": 3
   },
   "file_extension": ".py",
   "mimetype": "text/x-python",
   "name": "python",
   "nbconvert_exporter": "python",
   "pygments_lexer": "ipython3",
   "version": "3.10.12"
  }
 },
 "nbformat": 4,
 "nbformat_minor": 5
}
