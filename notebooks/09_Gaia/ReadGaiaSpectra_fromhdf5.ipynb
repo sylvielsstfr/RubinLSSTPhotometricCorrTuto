{
 "cells": [
  {
   "cell_type": "markdown",
   "id": "ad5a3ac3-1d31-4599-995b-fc544a7da5ae",
   "metadata": {},
   "source": [
    "# Read Gaia spectra from hdf5 file"
   ]
  },
  {
   "cell_type": "markdown",
   "id": "ac5107e7-d490-4e81-9296-6bfb7af6dce4",
   "metadata": {},
   "source": [
    "- author Sylvie Dagoret-Campagne\n",
    "- affiliation IJCLab\n",
    "- creation date : 2024/10/04\n",
    "- update : 2024/10/04 : "
   ]
  },
  {
   "cell_type": "markdown",
   "id": "1b9e9219-8434-4143-a863-9dd87e1f6630",
   "metadata": {},
   "source": [
    "- inspired from : https://github.com/JospehCeh/PhotoZ_PhD/blob/u/dagoret/StudyFors2SED/ReadFors2spectrafromh5.ipynb"
   ]
  },
  {
   "cell_type": "code",
   "execution_count": null,
   "id": "1edbe7f0-c493-4659-8949-c17da1b52dfc",
   "metadata": {
    "execution": {
     "iopub.execute_input": "2024-10-04T08:05:03.326612Z",
     "iopub.status.busy": "2024-10-04T08:05:03.326493Z",
     "iopub.status.idle": "2024-10-04T08:05:04.011081Z",
     "shell.execute_reply": "2024-10-04T08:05:04.010673Z",
     "shell.execute_reply.started": "2024-10-04T08:05:03.326599Z"
    },
    "tags": []
   },
   "outputs": [],
   "source": [
    "import numpy as np\n",
    "import matplotlib.pyplot as plt\n",
    "%matplotlib inline\n",
    "import matplotlib as mpl\n",
    "import matplotlib.colors as colors\n",
    "import matplotlib.cm as cmx\n",
    "from mpl_toolkits.axes_grid1 import make_axes_locatable\n",
    "from matplotlib.colors import LogNorm\n",
    "from matplotlib.gridspec import GridSpec\n",
    "import pandas as pd\n",
    "\n",
    "import matplotlib.ticker                         # here's where the formatter is\n",
    "import os,sys\n",
    "import re\n",
    "import pandas as pd\n",
    "\n",
    "from astropy.io import fits\n",
    "from astropy import units as u\n",
    "from astropy import constants as c\n",
    "\n",
    "plt.rcParams[\"figure.figsize\"] = (8,6)\n",
    "plt.rcParams[\"axes.labelsize\"] = 'xx-large'\n",
    "plt.rcParams['axes.titlesize'] = 'xx-large'\n",
    "plt.rcParams['xtick.labelsize']= 'xx-large'\n",
    "plt.rcParams['ytick.labelsize']= 'xx-large'\n",
    "\n",
    "import pickle\n",
    "from scipy.interpolate import RegularGridInterpolator\n",
    "import h5py"
   ]
  },
  {
   "cell_type": "code",
   "execution_count": null,
   "id": "faed402e-c407-49d4-b992-a8728eaf15c9",
   "metadata": {
    "execution": {
     "iopub.execute_input": "2024-10-04T08:05:04.011862Z",
     "iopub.status.busy": "2024-10-04T08:05:04.011599Z",
     "iopub.status.idle": "2024-10-04T08:05:04.014059Z",
     "shell.execute_reply": "2024-10-04T08:05:04.013779Z",
     "shell.execute_reply.started": "2024-10-04T08:05:04.011848Z"
    }
   },
   "outputs": [],
   "source": [
    "pd.set_option('display.max_columns', 500)"
   ]
  },
  {
   "cell_type": "code",
   "execution_count": null,
   "id": "ce04b895-01a2-4112-aa2c-8953f6a0caee",
   "metadata": {
    "execution": {
     "iopub.execute_input": "2024-10-04T08:05:04.014622Z",
     "iopub.status.busy": "2024-10-04T08:05:04.014503Z",
     "iopub.status.idle": "2024-10-04T08:05:04.019475Z",
     "shell.execute_reply": "2024-10-04T08:05:04.019192Z",
     "shell.execute_reply.started": "2024-10-04T08:05:04.014609Z"
    },
    "tags": []
   },
   "outputs": [],
   "source": [
    "machine_name = os.uname().nodename\n",
    "path_rubinsimphot = \"repos/repos_w_2024_38/rubinsimphot/src\"\n",
    "if 'sdf' in machine_name:\n",
    "    #machine_name_usdf = 'sdfrome001'\n",
    "    print(\"Set environment for USDF\")\n",
    "    newpythonpath = os.path.join(os.getenv(\"HOME\"),path_rubinsimphot)\n",
    "    sys.path.append(newpythonpath)\n",
    "elif 'dagoret-nb' in machine_name:\n",
    "    print(\"Set environment for USDF Rubin Science Platform\")\n",
    "    newpythonpath = os.path.join(os.getenv(\"HOME\"),path_rubinsimphot)\n",
    "    sys.path.append(newpythonpath)    \n",
    "elif 'mac' in machine_name:\n",
    "    print(\"Be sure to run this notebook in conda environment named conda_py310\")\n",
    "else:\n",
    "    print(f\"Your current machine name is {machine_name}. Check your python environment\")"
   ]
  },
  {
   "cell_type": "markdown",
   "id": "85f7c4c3-d53f-4c8f-8382-2f49e4a7b570",
   "metadata": {},
   "source": [
    "## Config "
   ]
  },
  {
   "cell_type": "code",
   "execution_count": null,
   "id": "f3d46d43-3bc0-4d14-a043-c7a98cae796b",
   "metadata": {
    "execution": {
     "iopub.execute_input": "2024-10-04T08:05:04.020808Z",
     "iopub.status.busy": "2024-10-04T08:05:04.020685Z",
     "iopub.status.idle": "2024-10-04T08:05:04.023355Z",
     "shell.execute_reply": "2024-10-04T08:05:04.023074Z",
     "shell.execute_reply.started": "2024-10-04T08:05:04.020796Z"
    }
   },
   "outputs": [],
   "source": [
    "input_file_h5  = 'GAIAspectra.hdf5'\n",
    "\n",
    "input_path = \"data_gaiaspectra\"\n",
    "input_file_h5  = 'GAIAspectra.hdf5'\n",
    "input_fullfile_h5 = os.path.join(input_path,input_file_h5)"
   ]
  },
  {
   "cell_type": "markdown",
   "id": "40e65347-98cd-4a40-b9aa-7055acc9e89a",
   "metadata": {},
   "source": [
    "## Read file"
   ]
  },
  {
   "cell_type": "code",
   "execution_count": null,
   "id": "f93aa0f4-68a0-490b-a318-bf65e3d146e0",
   "metadata": {
    "execution": {
     "iopub.execute_input": "2024-10-04T08:05:04.023856Z",
     "iopub.status.busy": "2024-10-04T08:05:04.023738Z",
     "iopub.status.idle": "2024-10-04T08:05:04.029742Z",
     "shell.execute_reply": "2024-10-04T08:05:04.029464Z",
     "shell.execute_reply.started": "2024-10-04T08:05:04.023844Z"
    }
   },
   "outputs": [],
   "source": [
    "hf =  h5py.File(input_fullfile_h5, 'r') \n",
    "list_of_keys = list(hf.keys())"
   ]
  },
  {
   "cell_type": "code",
   "execution_count": null,
   "id": "688a03ff-591f-4a62-aa34-1cd2cfbc0e3b",
   "metadata": {
    "execution": {
     "iopub.execute_input": "2024-10-04T08:05:04.030253Z",
     "iopub.status.busy": "2024-10-04T08:05:04.030137Z",
     "iopub.status.idle": "2024-10-04T08:05:04.032993Z",
     "shell.execute_reply": "2024-10-04T08:05:04.032730Z",
     "shell.execute_reply.started": "2024-10-04T08:05:04.030242Z"
    }
   },
   "outputs": [],
   "source": [
    "list_of_keys"
   ]
  },
  {
   "cell_type": "code",
   "execution_count": null,
   "id": "dfa68880-29d7-429d-84af-e708db66c9e4",
   "metadata": {
    "execution": {
     "iopub.execute_input": "2024-10-04T08:05:04.033515Z",
     "iopub.status.busy": "2024-10-04T08:05:04.033399Z",
     "iopub.status.idle": "2024-10-04T08:05:04.036405Z",
     "shell.execute_reply": "2024-10-04T08:05:04.036134Z",
     "shell.execute_reply.started": "2024-10-04T08:05:04.033504Z"
    }
   },
   "outputs": [],
   "source": [
    "# pick one key    \n",
    "key_sel =  list_of_keys[0]\n",
    "# pick one group\n",
    "group = hf.get(key_sel)  "
   ]
  },
  {
   "cell_type": "code",
   "execution_count": null,
   "id": "d412549f-02f5-4379-9ee3-fc3e06edaa47",
   "metadata": {
    "execution": {
     "iopub.execute_input": "2024-10-04T08:05:04.036909Z",
     "iopub.status.busy": "2024-10-04T08:05:04.036795Z",
     "iopub.status.idle": "2024-10-04T08:05:04.040412Z",
     "shell.execute_reply": "2024-10-04T08:05:04.040135Z",
     "shell.execute_reply.started": "2024-10-04T08:05:04.036897Z"
    }
   },
   "outputs": [],
   "source": [
    "#pickup all attribute names\n",
    "all_subgroup_keys = []\n",
    "for k in group.attrs.keys():\n",
    "    all_subgroup_keys.append(k)"
   ]
  },
  {
   "cell_type": "code",
   "execution_count": null,
   "id": "f3e99003-d603-4f81-9df8-1bc40a571dc5",
   "metadata": {
    "execution": {
     "iopub.execute_input": "2024-10-04T08:05:04.040914Z",
     "iopub.status.busy": "2024-10-04T08:05:04.040801Z",
     "iopub.status.idle": "2024-10-04T08:05:04.045065Z",
     "shell.execute_reply": "2024-10-04T08:05:04.044799Z",
     "shell.execute_reply.started": "2024-10-04T08:05:04.040903Z"
    }
   },
   "outputs": [],
   "source": [
    "all_subgroup_keys"
   ]
  },
  {
   "cell_type": "code",
   "execution_count": null,
   "id": "81cdeb28-3a99-40a7-b600-53d5864ebf99",
   "metadata": {
    "execution": {
     "iopub.execute_input": "2024-10-04T08:05:04.045577Z",
     "iopub.status.busy": "2024-10-04T08:05:04.045465Z",
     "iopub.status.idle": "2024-10-04T08:05:04.049356Z",
     "shell.execute_reply": "2024-10-04T08:05:04.049077Z",
     "shell.execute_reply.started": "2024-10-04T08:05:04.045567Z"
    }
   },
   "outputs": [],
   "source": [
    "def GetColumnHfData(hff,list_of_keys,nameval):\n",
    "    \"\"\"\n",
    "    Extract hff atttribute \n",
    "    \n",
    "    parameters\n",
    "      hff           : descriptor of h5 file\n",
    "      list_of_keys : list of exposures\n",
    "      nameval      : name of the attribute\n",
    "      \n",
    "    return\n",
    "           the array of values in the order of \n",
    "    \"\"\"\n",
    "    \n",
    "\n",
    "    all_data = []\n",
    "    for key in list_of_keys:\n",
    "        group=hff.get(key)\n",
    "        val=group.attrs[nameval]\n",
    "        all_data.append(val)\n",
    "    return all_data"
   ]
  },
  {
   "cell_type": "code",
   "execution_count": null,
   "id": "f252dfd4-38a5-4fcc-a198-f434f5d67e8d",
   "metadata": {
    "execution": {
     "iopub.execute_input": "2024-10-04T08:05:04.049888Z",
     "iopub.status.busy": "2024-10-04T08:05:04.049776Z",
     "iopub.status.idle": "2024-10-04T08:05:04.102169Z",
     "shell.execute_reply": "2024-10-04T08:05:04.101781Z",
     "shell.execute_reply.started": "2024-10-04T08:05:04.049877Z"
    }
   },
   "outputs": [],
   "source": [
    "# create info\n",
    "df_info = pd.DataFrame()\n",
    "for key in all_subgroup_keys:\n",
    "    arr=GetColumnHfData(hf, list_of_keys ,key)\n",
    "    df_info[key] = arr"
   ]
  },
  {
   "cell_type": "code",
   "execution_count": null,
   "id": "29cf09fb-d521-4cd8-8d4a-8062940073ac",
   "metadata": {
    "execution": {
     "iopub.execute_input": "2024-10-04T08:05:04.102695Z",
     "iopub.status.busy": "2024-10-04T08:05:04.102578Z",
     "iopub.status.idle": "2024-10-04T08:05:04.119207Z",
     "shell.execute_reply": "2024-10-04T08:05:04.118927Z",
     "shell.execute_reply.started": "2024-10-04T08:05:04.102684Z"
    }
   },
   "outputs": [],
   "source": [
    "df_info"
   ]
  },
  {
   "cell_type": "code",
   "execution_count": null,
   "id": "5e351c3b-4d6a-4244-926f-eeec6c8c6dd2",
   "metadata": {
    "execution": {
     "iopub.execute_input": "2024-10-04T08:05:36.425379Z",
     "iopub.status.busy": "2024-10-04T08:05:36.425080Z",
     "iopub.status.idle": "2024-10-04T08:05:36.501049Z",
     "shell.execute_reply": "2024-10-04T08:05:36.500713Z",
     "shell.execute_reply.started": "2024-10-04T08:05:36.425366Z"
    }
   },
   "outputs": [],
   "source": [
    "all_df = []  \n",
    "    \n",
    "idx=0\n",
    "for key in list_of_keys :\n",
    "        \n",
    "    group = hf.get(key)\n",
    "    df = pd.DataFrame()\n",
    "\n",
    "    df[\"WAVELENGTH\"] = np.array(group.get(\"WAVELENGTH\"))\n",
    "    df[\"FLUX\"] = np.array(group.get(\"FLUX\")) \n",
    "    df[\"STATERROR\"] = np.array(group.get(\"STATERROR\")) \n",
    "    df[\"SYSERROR\"] = np.array(group.get(\"SYSERROR\")) \n",
    " \n",
    "    all_df.append(df)\n",
    "        \n",
    "    idx+=1"
   ]
  },
  {
   "cell_type": "code",
   "execution_count": null,
   "id": "10759b86-7835-45bd-8faf-07571eb69ebf",
   "metadata": {
    "execution": {
     "iopub.execute_input": "2024-10-04T08:05:50.047898Z",
     "iopub.status.busy": "2024-10-04T08:05:50.047609Z",
     "iopub.status.idle": "2024-10-04T08:05:50.050137Z",
     "shell.execute_reply": "2024-10-04T08:05:50.049839Z",
     "shell.execute_reply.started": "2024-10-04T08:05:50.047885Z"
    }
   },
   "outputs": [],
   "source": [
    "df = all_df[0]"
   ]
  },
  {
   "cell_type": "code",
   "execution_count": null,
   "id": "60024678-6528-41bf-b8d6-7463850f35a2",
   "metadata": {
    "execution": {
     "iopub.execute_input": "2024-10-04T08:05:52.567186Z",
     "iopub.status.busy": "2024-10-04T08:05:52.566654Z",
     "iopub.status.idle": "2024-10-04T08:05:52.574754Z",
     "shell.execute_reply": "2024-10-04T08:05:52.574470Z",
     "shell.execute_reply.started": "2024-10-04T08:05:52.567162Z"
    }
   },
   "outputs": [],
   "source": [
    "df"
   ]
  },
  {
   "cell_type": "code",
   "execution_count": null,
   "id": "546aa0a6-cb1d-49cf-bd4a-6ed2573a54c4",
   "metadata": {},
   "outputs": [],
   "source": []
  }
 ],
 "metadata": {
  "kernelspec": {
   "display_name": "LSST",
   "language": "python",
   "name": "lsst"
  },
  "language_info": {
   "codemirror_mode": {
    "name": "ipython",
    "version": 3
   },
   "file_extension": ".py",
   "mimetype": "text/x-python",
   "name": "python",
   "nbconvert_exporter": "python",
   "pygments_lexer": "ipython3",
   "version": "3.11.9"
  }
 },
 "nbformat": 4,
 "nbformat_minor": 5
}
