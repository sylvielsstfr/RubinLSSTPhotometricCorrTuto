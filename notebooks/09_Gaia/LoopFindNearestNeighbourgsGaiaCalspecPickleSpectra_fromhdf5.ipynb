{
 "cells": [
  {
   "cell_type": "markdown",
   "id": "ad5a3ac3-1d31-4599-995b-fc544a7da5ae",
   "metadata": {},
   "source": [
    "# Loop over gaia to Find the nearest neighbourg of a gaia spectrum from magnitude Gaia and Calspec and Pickles spectra from hdf5 file"
   ]
  },
  {
   "cell_type": "markdown",
   "id": "ac5107e7-d490-4e81-9296-6bfb7af6dce4",
   "metadata": {},
   "source": [
    "- author Sylvie Dagoret-Campagne\n",
    "- affiliation IJCLab\n",
    "- creation date : 2024/10/06\n",
    "- update : 2024/10/07 : "
   ]
  },
  {
   "cell_type": "markdown",
   "id": "e5e68d7b-f2c4-4d6a-9e06-6f3991a8f0f8",
   "metadata": {},
   "source": [
    "The goal is to find the neared Pickle SED to a Gaia Spectrum. The nearest Neighbourg is done after renormalizing Pickle Spectra to match Z band magnitude to that of Gaia. Then the Nearest Neighbourg is done by Matching the magnitudes in G,R,I (ad Z) by definition."
   ]
  },
  {
   "cell_type": "code",
   "execution_count": null,
   "id": "1edbe7f0-c493-4659-8949-c17da1b52dfc",
   "metadata": {
    "tags": []
   },
   "outputs": [],
   "source": [
    "import numpy as np\n",
    "import matplotlib.pyplot as plt\n",
    "%matplotlib inline\n",
    "import matplotlib as mpl\n",
    "import matplotlib.colors as colors\n",
    "import matplotlib.cm as cmx\n",
    "from mpl_toolkits.axes_grid1 import make_axes_locatable\n",
    "from matplotlib.colors import LogNorm\n",
    "from matplotlib.gridspec import GridSpec\n",
    "import pandas as pd\n",
    "\n",
    "import matplotlib.ticker                         # here's where the formatter is\n",
    "import os,sys\n",
    "import re\n",
    "import pandas as pd\n",
    "\n",
    "from astropy.io import fits\n",
    "from astropy import units as u\n",
    "from astropy import constants as c\n",
    "\n",
    "plt.rcParams[\"figure.figsize\"] = (8,6)\n",
    "plt.rcParams[\"axes.labelsize\"] = 'xx-large'\n",
    "plt.rcParams['axes.titlesize'] = 'xx-large'\n",
    "plt.rcParams['xtick.labelsize']= 'xx-large'\n",
    "plt.rcParams['ytick.labelsize']= 'xx-large'\n",
    "\n",
    "from scipy.interpolate import interp1d\n",
    "from sklearn.neighbors import NearestNeighbors\n",
    "from sklearn.neighbors import KDTree, BallTree\n",
    "import h5py"
   ]
  },
  {
   "cell_type": "code",
   "execution_count": null,
   "id": "faed402e-c407-49d4-b992-a8728eaf15c9",
   "metadata": {},
   "outputs": [],
   "source": [
    "pd.set_option('display.max_columns', 500)"
   ]
  },
  {
   "cell_type": "code",
   "execution_count": null,
   "id": "ce04b895-01a2-4112-aa2c-8953f6a0caee",
   "metadata": {
    "tags": []
   },
   "outputs": [],
   "source": [
    "machine_name = os.uname().nodename\n",
    "path_rubinsimphot = \"repos/repos_w_2024_38/rubinsimphot/src\"\n",
    "if 'sdf' in machine_name:\n",
    "    #machine_name_usdf = 'sdfrome001'\n",
    "    print(\"Set environment for USDF\")\n",
    "    newpythonpath = os.path.join(os.getenv(\"HOME\"),path_rubinsimphot)\n",
    "    sys.path.append(newpythonpath)\n",
    "elif 'dagoret-nb' in machine_name:\n",
    "    print(\"Set environment for USDF Rubin Science Platform\")\n",
    "    newpythonpath = os.path.join(os.getenv(\"HOME\"),path_rubinsimphot)\n",
    "    sys.path.append(newpythonpath)    \n",
    "elif 'mac' in machine_name:\n",
    "    print(\"Be sure to run this notebook in conda environment named conda_py310\")\n",
    "else:\n",
    "    print(f\"Your current machine name is {machine_name}. Check your python environment\")"
   ]
  },
  {
   "cell_type": "code",
   "execution_count": null,
   "id": "48225e3e-2527-4025-8a82-2c23828bb7c5",
   "metadata": {},
   "outputs": [],
   "source": [
    "# reference flux in Jy\n",
    "F0 = ((0.*u.ABmag).to(u.Jy)).value\n",
    "F0"
   ]
  },
  {
   "cell_type": "markdown",
   "id": "85f7c4c3-d53f-4c8f-8382-2f49e4a7b570",
   "metadata": {},
   "source": [
    "## Config "
   ]
  },
  {
   "cell_type": "code",
   "execution_count": null,
   "id": "56dd9ba5-ed39-418a-a289-0b0ecdd193f5",
   "metadata": {},
   "outputs": [],
   "source": [
    "FLAG_PLOTSPECTRA = False\n",
    "FLAG_PLOTATMOSPHERETRANSM = False\n",
    "FLAG_PLOTDETECTORTRANSM = False\n",
    "FLAG_PLOTTOTALTRANSM = False\n",
    "FLAG_PLOTPICKLESSED = False"
   ]
  },
  {
   "cell_type": "code",
   "execution_count": null,
   "id": "f3d46d43-3bc0-4d14-a043-c7a98cae796b",
   "metadata": {},
   "outputs": [],
   "source": [
    "input_path = \"data_gaiacalspecspectra\"\n",
    "input_file_h5  = 'GAIACALSPECspectra.hdf5'\n",
    "input_fullfile_h5 = os.path.join(input_path,input_file_h5)"
   ]
  },
  {
   "cell_type": "markdown",
   "id": "40e65347-98cd-4a40-b9aa-7055acc9e89a",
   "metadata": {},
   "source": [
    "## Read file spectra"
   ]
  },
  {
   "cell_type": "code",
   "execution_count": null,
   "id": "f93aa0f4-68a0-490b-a318-bf65e3d146e0",
   "metadata": {},
   "outputs": [],
   "source": [
    "hf =  h5py.File(input_fullfile_h5, 'r') \n",
    "list_of_keys = list(hf.keys())"
   ]
  },
  {
   "cell_type": "code",
   "execution_count": null,
   "id": "688a03ff-591f-4a62-aa34-1cd2cfbc0e3b",
   "metadata": {},
   "outputs": [],
   "source": [
    "list_of_keys"
   ]
  },
  {
   "cell_type": "code",
   "execution_count": null,
   "id": "dfa68880-29d7-429d-84af-e708db66c9e4",
   "metadata": {},
   "outputs": [],
   "source": [
    "# pick one key    \n",
    "key_sel =  list_of_keys[0]\n",
    "# pick one group\n",
    "group = hf.get(key_sel)  "
   ]
  },
  {
   "cell_type": "code",
   "execution_count": null,
   "id": "d412549f-02f5-4379-9ee3-fc3e06edaa47",
   "metadata": {},
   "outputs": [],
   "source": [
    "#pickup all attribute names\n",
    "all_subgroup_keys = []\n",
    "for k in group.attrs.keys():\n",
    "    all_subgroup_keys.append(k)"
   ]
  },
  {
   "cell_type": "code",
   "execution_count": null,
   "id": "f3e99003-d603-4f81-9df8-1bc40a571dc5",
   "metadata": {},
   "outputs": [],
   "source": [
    "all_subgroup_keys"
   ]
  },
  {
   "cell_type": "code",
   "execution_count": null,
   "id": "81cdeb28-3a99-40a7-b600-53d5864ebf99",
   "metadata": {},
   "outputs": [],
   "source": [
    "def GetColumnHfData(hff,list_of_keys,nameval):\n",
    "    \"\"\"\n",
    "    Extract hff atttribute \n",
    "    \n",
    "    parameters\n",
    "      hff           : descriptor of h5 file\n",
    "      list_of_keys : list of exposures\n",
    "      nameval      : name of the attribute\n",
    "      \n",
    "    return\n",
    "           the array of values in the order of \n",
    "    \"\"\"\n",
    "    \n",
    "\n",
    "    all_data = []\n",
    "    for key in list_of_keys:\n",
    "        group=hff.get(key)\n",
    "        val=group.attrs[nameval]\n",
    "        all_data.append(val)\n",
    "    return all_data"
   ]
  },
  {
   "cell_type": "code",
   "execution_count": null,
   "id": "f252dfd4-38a5-4fcc-a198-f434f5d67e8d",
   "metadata": {},
   "outputs": [],
   "source": [
    "# create info\n",
    "df_info = pd.DataFrame()\n",
    "for key in all_subgroup_keys:\n",
    "    arr=GetColumnHfData(hf, list_of_keys ,key)\n",
    "    df_info[key] = arr"
   ]
  },
  {
   "cell_type": "code",
   "execution_count": null,
   "id": "29cf09fb-d521-4cd8-8d4a-8062940073ac",
   "metadata": {},
   "outputs": [],
   "source": [
    "df_info"
   ]
  },
  {
   "cell_type": "code",
   "execution_count": null,
   "id": "5422995a-dd80-4a2d-842d-7078819c205f",
   "metadata": {},
   "outputs": [],
   "source": [
    "NSPEC = len(df_info)"
   ]
  },
  {
   "cell_type": "markdown",
   "id": "7f807997-9b8e-48e3-a22b-a51cd27f160a",
   "metadata": {},
   "source": [
    "## Extract the spectra"
   ]
  },
  {
   "cell_type": "code",
   "execution_count": null,
   "id": "5e351c3b-4d6a-4244-926f-eeec6c8c6dd2",
   "metadata": {},
   "outputs": [],
   "source": [
    "all_dfg = [] \n",
    "all_dfc = [] \n",
    "    \n",
    "idx=0\n",
    "for key in list_of_keys :\n",
    "        \n",
    "    group = hf.get(key)\n",
    "    dfg = pd.DataFrame()\n",
    "    dfc = pd.DataFrame()\n",
    "\n",
    "    dfg[\"WAVELENGTH\"] = np.array(group.get(\"gWAVELENGTH\"))\n",
    "    dfg[\"FLUX\"] = np.array(group.get(\"gFLUX\")) \n",
    "    dfg[\"STATERROR\"] = np.array(group.get(\"gSTATERROR\")) \n",
    "    dfg[\"SYSERROR\"] = np.array(group.get(\"gSYSERROR\")) \n",
    "    dfc[\"WAVELENGTH\"] = np.array(group.get(\"cWAVELENGTH\"))\n",
    "    dfc[\"FLUX\"] = np.array(group.get(\"cFLUX\")) \n",
    "    dfc[\"STATERROR\"] = np.array(group.get(\"cSTATERROR\")) \n",
    "    dfc[\"SYSERROR\"] = np.array(group.get(\"cSYSERROR\")) \n",
    " \n",
    " \n",
    "    all_dfg.append(dfg)\n",
    "    all_dfc.append(dfc)\n",
    "        \n",
    "    idx+=1"
   ]
  },
  {
   "cell_type": "markdown",
   "id": "095644f0-3a42-4ec5-94a5-76a920396635",
   "metadata": {},
   "source": [
    "## Check by plot"
   ]
  },
  {
   "cell_type": "code",
   "execution_count": null,
   "id": "21d54312-90f4-47f2-94df-af902b04da04",
   "metadata": {},
   "outputs": [],
   "source": [
    "index = 0\n",
    "row = df_info.iloc[index]\n",
    "hdname = row[\"HD_name\"]\n",
    "gaianame = row[\"GAIA_ED3_Name\"]\n",
    "tag = f\"{hdname}_{gaianame}\"\n",
    "dfg = all_dfg[index]\n",
    "dfc = all_dfc[index]"
   ]
  },
  {
   "cell_type": "code",
   "execution_count": null,
   "id": "546aa0a6-cb1d-49cf-bd4a-6ed2573a54c4",
   "metadata": {},
   "outputs": [],
   "source": [
    "def plotspec(tag,dfc,dfg):\n",
    "    \"\"\"\n",
    "    tag : name of the star to appear un title\n",
    "    dfc : dataframe for calspec\n",
    "    dfg : dataframe for gaia\n",
    "    \"\"\"\n",
    "    \n",
    "    fig, ax = plt.subplots(1,1,figsize=(8,5))\n",
    "    leg = ax.get_legend()\n",
    "    title = \"calspec-gaia : \" + tag\n",
    "    dfc.plot(x=\"WAVELENGTH\",y=\"FLUX\",ax=ax,marker='.',color='b',legend=leg,label=\"calspec\")\n",
    "    dfg.plot(x=\"WAVELENGTH\",y=\"FLUX\",ax=ax,marker='.',color='r',legend=leg,label=\"gaia\")\n",
    "    ax.set_xlim(300.,1100.)\n",
    "    wl = dfc.WAVELENGTH\n",
    "    index_sel = np.where(np.logical_and(wl>300.,wl<1100.))[0]\n",
    "    fl = dfc.FLUX[index_sel]\n",
    "    flmax = np.max(fl)*1.2\n",
    "    ax.set_ylim(0.,flmax)    \n",
    "\n",
    "    ax.legend()\n",
    "    ax.set_xlabel(\"$\\\\lambda$ (nm)\")\n",
    "    ax.set_ylabel(\"Flux erg/cm$^2$/s/nm \")\n",
    "    ax.set_title(title)\n",
    "    plt.show()"
   ]
  },
  {
   "cell_type": "code",
   "execution_count": null,
   "id": "46e48bcf-87d3-4649-af92-519133b2fcb0",
   "metadata": {},
   "outputs": [],
   "source": [
    "if FLAG_PLOTSPECTRA: \n",
    "    plotspec(tag,dfc,dfg)"
   ]
  },
  {
   "cell_type": "markdown",
   "id": "db00c5cc-f8f3-47ec-a8ff-982d4260b7b2",
   "metadata": {},
   "source": [
    "## Plot all spectra"
   ]
  },
  {
   "cell_type": "code",
   "execution_count": null,
   "id": "66e96932-f581-4d03-96c1-17370098fba4",
   "metadata": {},
   "outputs": [],
   "source": [
    "if FLAG_PLOTSPECTRA: \n",
    "    for index in range(NSPEC):\n",
    "        # info\n",
    "        row = df_info.iloc[index]\n",
    "\n",
    "        # the title\n",
    "        hdname = row[\"HD_name\"]\n",
    "        gaianame = row[\"GAIA_ED3_Name\"]\n",
    "        tag = f\"{hdname}_{gaianame}\"\n",
    "\n",
    "        # the spectra\n",
    "        dfg = all_dfg[index]\n",
    "        dfc = all_dfc[index]\n",
    "\n",
    "        plotspec(tag,dfc,dfg)\n",
    "    "
   ]
  },
  {
   "cell_type": "markdown",
   "id": "b5402bc6-816c-46d5-9d4b-3711e8439b28",
   "metadata": {},
   "source": [
    "## Atmospheric emulator"
   ]
  },
  {
   "cell_type": "code",
   "execution_count": null,
   "id": "801d2e41-7c4c-4d1e-a48c-664ebe053eab",
   "metadata": {},
   "outputs": [],
   "source": [
    "from importlib.metadata import version\n",
    "the_ver = version('getObsAtmo')\n",
    "print(f\"Version of getObsAtmo : {the_ver}\")"
   ]
  },
  {
   "cell_type": "code",
   "execution_count": null,
   "id": "d9840b28-f024-42d5-832b-53a86dcbed20",
   "metadata": {},
   "outputs": [],
   "source": [
    "from getObsAtmo import ObsAtmo\n",
    "emul = ObsAtmo(\"AUXTEL\")"
   ]
  },
  {
   "cell_type": "markdown",
   "id": "2effda72-843d-4338-936d-731af455e84f",
   "metadata": {},
   "source": [
    "## Process transmission"
   ]
  },
  {
   "cell_type": "code",
   "execution_count": null,
   "id": "0b088e9e-1558-432a-8a01-9d3ab1ee2381",
   "metadata": {},
   "outputs": [],
   "source": [
    "import sys\n",
    "sys.path.append('../lib')\n",
    "#import libAtmosphericFit"
   ]
  },
  {
   "cell_type": "code",
   "execution_count": null,
   "id": "858eb8de-f084-4abb-a66b-531a82c5a0b4",
   "metadata": {},
   "outputs": [],
   "source": [
    "# This package encapsulate the calculation on calibration used in this nb\n",
    "from libPhotometricCorrections import *"
   ]
  },
  {
   "cell_type": "code",
   "execution_count": null,
   "id": "675d492a-fbb5-4dae-bb06-fea6dd062799",
   "metadata": {},
   "outputs": [],
   "source": [
    "def set_photometric_parameters(exptime, nexp, readnoise=None):\n",
    "    # readnoise = None will use the default (8.8 e/pixel). Readnoise should be in electrons/pixel.\n",
    "    photParams = PhotometricParameters(exptime=exptime, nexp=nexp, readnoise=readnoise)\n",
    "    return photParams"
   ]
  },
  {
   "cell_type": "code",
   "execution_count": null,
   "id": "74ebb221-a207-4330-afa8-c34e63817244",
   "metadata": {},
   "outputs": [],
   "source": [
    "def scale_sed(ref_mag, ref_filter, sed):\n",
    "    fluxNorm = sed.calc_flux_norm(ref_mag, lsst_std[ref_filter])\n",
    "    sed.multiply_flux_norm(fluxNorm)\n",
    "    return sed"
   ]
  },
  {
   "cell_type": "markdown",
   "id": "4cdb93ff-9e60-4439-9201-136f62d9c0f1",
   "metadata": {},
   "source": [
    "## library rubin_sim defining LSST parameters, namely for photometric calculations"
   ]
  },
  {
   "cell_type": "code",
   "execution_count": null,
   "id": "a86f23b0-e66a-4e09-851f-bc8144ed23aa",
   "metadata": {},
   "outputs": [],
   "source": [
    "from rubinsimphot.phot_utils import Bandpass, Sed\n",
    "from rubinsimphot.data import get_data_dir"
   ]
  },
  {
   "cell_type": "markdown",
   "id": "7f6ea92e-d334-4d82-9c09-a9d277156a95",
   "metadata": {},
   "source": [
    "### Config of atmosphere"
   ]
  },
  {
   "cell_type": "code",
   "execution_count": null,
   "id": "2e3aa286-d26f-4d5c-9e07-ffe630b03633",
   "metadata": {},
   "outputs": [],
   "source": [
    "am0 =1.20    # airmass\n",
    "pwv0 = 3.0  # Precipitable water vapor vertical column depth in mm\n",
    "oz0 = 300.  # Ozone vertical column depth in Dobson Unit (DU)\n",
    "ncomp=1     # Number of aerosol components\n",
    "tau0= 0.0 # Vertical Aerosol depth (VAOD) \n",
    "beta0 = 1.2 # Aerosol Angstrom exponent\n",
    "pc = PhotometricCorrections(am0,pwv0,oz0,tau0,beta0)"
   ]
  },
  {
   "cell_type": "code",
   "execution_count": null,
   "id": "6cb69d37-a7c7-4ba9-9502-ef909304479e",
   "metadata": {},
   "outputs": [],
   "source": [
    "if FLAG_PLOTATMOSPHERETRANSM:\n",
    "    fig, axs = plt.subplots(1,1,figsize=(6,4))\n",
    "    axs.plot(pc.WL,pc.atm_std,'k-')\n",
    "    axs.set_xlabel(\"$\\\\lambda$ (nm)\")\n",
    "    axs.set_title(\"Standard atmosphere transmission\")\n",
    "    plt.show()"
   ]
  },
  {
   "cell_type": "code",
   "execution_count": null,
   "id": "97e2e79c-e247-4983-b15a-c0a4604a62ae",
   "metadata": {},
   "outputs": [],
   "source": [
    "if FLAG_PLOTDETECTORTRANSM:\n",
    "    fig, axs = plt.subplots(1,1,figsize=(6,4))\n",
    "    # loop on filter\n",
    "    for index,f in enumerate(filter_tagnames):\n",
    "        axs.plot(pc.bandpass_inst[f].wavelen,pc.bandpass_inst[f].sb,color=filter_color[index]) \n",
    "        axs.fill_between(pc.bandpass_inst[f].wavelen,pc.bandpass_inst[f].sb,color=filter_color[index],alpha=0.2) \n",
    "        axs.axvline(FILTERWL[index,2],color=filter_color[index],linestyle=\"-.\") \n",
    "    axs.set_xlabel(\"$\\\\lambda$ (nm)\")\n",
    "    axs.set_title(\"Instrument throughput (rubin-obs)\")\n",
    "    plt.show()"
   ]
  },
  {
   "cell_type": "code",
   "execution_count": null,
   "id": "ff638927-854e-4678-bf0d-b47c5ae60a3a",
   "metadata": {},
   "outputs": [],
   "source": [
    "if FLAG_PLOTTOTALTRANSM:\n",
    "    fig, axs = plt.subplots(1,1,figsize=(6,4))\n",
    "    # loop on filter\n",
    "    for index,f in enumerate(filter_tagnames):\n",
    "        axs.plot(pc.bandpass_total_std[f].wavelen,pc.bandpass_total_std[f].sb,color=filter_color[index]) \n",
    "        axs.fill_between(pc.bandpass_total_std[f].wavelen,pc.bandpass_total_std[f].sb,color=filter_color[index],alpha=0.2) \n",
    "        axs.axvline(FILTERWL[index,2],color=filter_color[index],linestyle=\"-.\")    \n",
    "    axs.set_xlabel(\"$\\\\lambda$ (nm)\")\n",
    "    axs.set_title(\"Total filter throughput (rubin-obs)\")\n",
    "    plt.show()\n"
   ]
  },
  {
   "cell_type": "markdown",
   "id": "a0f37093-0469-410b-98ab-17e0d4edf2ce",
   "metadata": {},
   "source": [
    "## Convert Gaia-Calspec sed into rubin-sim SED"
   ]
  },
  {
   "cell_type": "code",
   "execution_count": null,
   "id": "4cd0b751-f2a6-49e5-a2a4-c009497a1b02",
   "metadata": {},
   "outputs": [],
   "source": [
    "all_sed_gaia = []\n",
    "all_sed_calspec = []\n",
    "all_sed_names = []\n",
    "#zmag = 20.0\n",
    "for index in np.arange(NSPEC):\n",
    "\n",
    "    row = df_info.iloc[index]\n",
    "\n",
    "    # the title\n",
    "    hdname = row[\"HD_name\"]\n",
    "    gaianame = row[\"GAIA_ED3_Name\"]\n",
    "    tag = f\"{hdname}_{gaianame}\"\n",
    "\n",
    "    # the spectra\n",
    "    dfg = all_dfg[index]\n",
    "    dfc = all_dfc[index]\n",
    "    spectype = tag\n",
    "    \n",
    "    #wavelen (nm)\n",
    "    #flambda (ergs/cm^2/s/nm)\n",
    "    #set_sed\n",
    "    the_sed_c = Sed(wavelen=dfc.WAVELENGTH.values, flambda=dfc.FLUX.values, name=\"calspec_\" + spectype)\n",
    "    the_sed_c.set_sed(wavelen=dfc.WAVELENGTH.values, flambda=dfc.FLUX.values, name=\"calspec_\" + spectype) \n",
    "    the_sed_g = Sed(wavelen=dfg.WAVELENGTH.values, flambda=dfg.FLUX.values, name=\"gaiaspec_\" + spectype)\n",
    "    the_sed_g.set_sed(wavelen=dfg.WAVELENGTH.values, flambda=dfg.FLUX.values, name=\"gaiaspec_\" + spectype)\n",
    "    #flux_norm = the_sed.calc_flux_norm(zmag, pc.bandpass_total_std['r'])\n",
    "    #the_sed.multiply_flux_norm(flux_norm)\n",
    "    all_sed_gaia.append(the_sed_g) \n",
    "    all_sed_calspec.append(the_sed_c) \n",
    "    all_sed_names.append(tag)"
   ]
  },
  {
   "cell_type": "code",
   "execution_count": null,
   "id": "10797eaf-8272-48c2-8351-e84ca3ce1931",
   "metadata": {},
   "outputs": [],
   "source": [
    "#the_sed_g.get_sed_fnu()"
   ]
  },
  {
   "cell_type": "markdown",
   "id": "42273e67-87ad-45fe-8c85-4bdb5c0c9944",
   "metadata": {},
   "source": [
    "## Compute magnitudes "
   ]
  },
  {
   "cell_type": "code",
   "execution_count": null,
   "id": "a006ab12-342f-4ac8-84b7-e2490a63c8bc",
   "metadata": {},
   "outputs": [],
   "source": [
    "# container for all magnitudes and magnitudes differences\n",
    "all_mags_std_gaia = []\n",
    "all_mags_std_calspec = []\n",
    "\n",
    "# loop on spectra\n",
    "for index in np.arange(NSPEC):\n",
    "    mags_std_gaia = {}\n",
    "    mags_std_calspec = {}\n",
    "    the_sed_c = all_sed_calspec[index] \n",
    "    the_sed_g = all_sed_gaia[index] \n",
    "\n",
    "    # loop on filters\n",
    "    for index2,f in enumerate(filter_tagnames) :\n",
    "\n",
    "        # extrapolate the gaia sed in filter range\n",
    "        WLMIN_f = pc.bandpass_total_std[f].wavelen.min()\n",
    "        WLMAX_f = pc.bandpass_total_std[f].wavelen.max()\n",
    "        WL = np.arange(WLMIN_f-1.,WLMAX_f+1.,1.)\n",
    "\n",
    "        # extrapolate the gaia\n",
    "        finterp = interp1d(the_sed_g.wavelen, the_sed_g.flambda, kind = 'nearest',fill_value=\"extrapolate\")\n",
    "        the_sed_g_extrapolated = Sed(wavelen=WL, flambda= finterp(WL), name=the_sed_g.name)\n",
    "        # compute magnitude\n",
    "        mags_std_gaia[f] = the_sed_g_extrapolated .calc_mag(pc.bandpass_total_std[f])\n",
    "\n",
    "        # extrapolate the calspec\n",
    "        finterp = interp1d(the_sed_c.wavelen, the_sed_c.flambda, kind = 'nearest',fill_value=\"extrapolate\")\n",
    "        the_sed_c_extrapolated = Sed(wavelen=WL, flambda= finterp(WL), name=the_sed_c.name)\n",
    "\n",
    "        mags_std_calspec[f] = the_sed_c_extrapolated.calc_mag(pc.bandpass_total_std[f])\n",
    "\n",
    "    \n",
    "    dfmag_c = pd.DataFrame(mags_std_calspec, index=[the_sed_c.name]).T\n",
    "    dfmag_g = pd.DataFrame(mags_std_gaia, index=[the_sed_g.name]).T\n",
    "    #dfmag_cg  =pd.concat([dfmag_c,dfmag_g],axis=1)\n",
    "    #all_mags_std_gaiacalspec.append(dfmag_cg.T)\n",
    "    all_mags_std_gaia.append(dfmag_g.T) \n",
    "    all_mags_std_calspec.append(dfmag_c.T)\n",
    "    "
   ]
  },
  {
   "cell_type": "code",
   "execution_count": null,
   "id": "6bad337e-121b-4019-9ff1-09c6a9d960df",
   "metadata": {},
   "outputs": [],
   "source": [
    "df_maggaia = pd.concat(all_mags_std_gaia)\n",
    "df_maggaia"
   ]
  },
  {
   "cell_type": "code",
   "execution_count": null,
   "id": "9624a5f7-63e7-434e-ae44-7e338136c22c",
   "metadata": {},
   "outputs": [],
   "source": [
    "all_sed_gaia_renorm = []\n",
    "for index in np.arange(NSPEC):\n",
    "    list_of_mags = df_maggaia.iloc[index]\n",
    "    zmag = list_of_mags[\"z\"]\n",
    "    the_sed_g = all_sed_gaia[index] \n",
    "\n",
    "    # extrapolate the gaia sed in filter range\n",
    "    WLMIN_f = pc.bandpass_total_std[\"z\"].wavelen.min()\n",
    "    WLMAX_f = pc.bandpass_total_std[\"z\"].wavelen.max()\n",
    "    WL_f = np.arange(WLMIN_f-1.,WLMAX_f+1.,1.)\n",
    "\n",
    "    # extrapolate the gaia\n",
    "    finterp = interp1d(the_sed_g.wavelen, the_sed_g.flambda, kind = 'nearest',fill_value=\"extrapolate\")\n",
    "    the_sed_g_extrapolated = Sed(wavelen=WL_f, flambda= finterp(WL_f), name=the_sed_g.name)\n",
    "\n",
    "    flux_norm = the_sed_g_extrapolated .calc_flux_norm(zmag, pc.bandpass_total_std['z'])\n",
    "    the_sed_g_extrapolated.multiply_flux_norm(flux_norm)\n",
    "    all_sed_gaia_renorm.append(the_sed_g_extrapolated) "
   ]
  },
  {
   "cell_type": "code",
   "execution_count": null,
   "id": "a6df49ca-4dfb-4803-900c-e37d77c407c6",
   "metadata": {},
   "outputs": [],
   "source": [
    "df_magcalspec = pd.concat(all_mags_std_calspec)\n",
    "df_magcalspec"
   ]
  },
  {
   "cell_type": "code",
   "execution_count": null,
   "id": "f9f53650-e292-4832-9060-fe02df3a6532",
   "metadata": {},
   "outputs": [],
   "source": [
    "all_sed_calspec_renorm = []\n",
    "\n",
    "for index in np.arange(NSPEC):\n",
    "    list_of_mags = df_magcalspec.iloc[index]\n",
    "    zmag = list_of_mags[\"z\"]\n",
    "    the_sed_c = all_sed_calspec[index] \n",
    "\n",
    "    # extrapolate the gaia sed in filter range\n",
    "    WLMIN_f = pc.bandpass_total_std[\"z\"].wavelen.min()\n",
    "    WLMAX_f = pc.bandpass_total_std[\"z\"].wavelen.max()\n",
    "    WL_f = np.arange(WLMIN_f-1.,WLMAX_f+1.,1.)\n",
    "\n",
    "    # extrapolate the gaia\n",
    "    finterp = interp1d(the_sed_c.wavelen, the_sed_c.flambda, kind = 'nearest',fill_value=\"extrapolate\")\n",
    "    the_sed_c_extrapolated = Sed(wavelen=WL_f, flambda= finterp(WL_f), name=the_sed_c.name)\n",
    "\n",
    "    flux_norm = the_sed_c_extrapolated .calc_flux_norm(zmag, pc.bandpass_total_std['z'])\n",
    "    the_sed_c_extrapolated.multiply_flux_norm(flux_norm)\n",
    "    all_sed_calspec_renorm.append(the_sed_c_extrapolated) \n"
   ]
  },
  {
   "cell_type": "code",
   "execution_count": null,
   "id": "760ca1e9-6eb4-42f9-96a0-a8f00c078376",
   "metadata": {},
   "outputs": [],
   "source": [
    "# substraction not working\n",
    "df_maggaia.sub(df_magcalspec)\n",
    "df_maggaia.subtract(df_magcalspec)"
   ]
  },
  {
   "cell_type": "markdown",
   "id": "b9e991e0-2d42-40f0-9e33-78936bfc3e50",
   "metadata": {},
   "source": [
    "## Convert Gaia-Calspec sed into rubin-sim SED"
   ]
  },
  {
   "cell_type": "markdown",
   "id": "10a83285-fc1a-40e3-90a9-2919f12c7bfe",
   "metadata": {},
   "source": [
    "## access to pickle model"
   ]
  },
  {
   "cell_type": "code",
   "execution_count": null,
   "id": "6a62802e-3f9d-4d65-b3c8-d0f0c93d1bbf",
   "metadata": {},
   "outputs": [],
   "source": [
    "# Find the throughputs directory \n",
    "#fdir = os.getenv('RUBIN_SIM_DATA_DIR')\n",
    "fdir = get_data_dir()\n",
    "if fdir is None:  #environment variable not set\n",
    "    fdir = os.path.join(os.getenv('HOME'), 'rubin_sim_data')"
   ]
  },
  {
   "cell_type": "code",
   "execution_count": null,
   "id": "8f2c7240-60e8-4781-8a94-e058e61978fe",
   "metadata": {},
   "outputs": [],
   "source": [
    "seddir = os.path.join(fdir, 'pysynphot', 'pickles')\n",
    "seddir_uvk = os.path.join(seddir,\"dat_uvk\")\n",
    "file_ref = os.path.join(seddir_uvk, \"pickles_uk.fits\")\n",
    "hdul = fits.open(file_ref)\n",
    "df_pickle = pd.DataFrame(hdul[1].data)\n",
    "NSED = len(df_pickle)"
   ]
  },
  {
   "cell_type": "code",
   "execution_count": null,
   "id": "4da97764-9edd-47b9-85ce-b718bee11695",
   "metadata": {},
   "outputs": [],
   "source": [
    "# sed colors\n",
    "jet = plt.get_cmap('jet')\n",
    "cNorm = mpl.colors.Normalize(vmin=0, vmax=NSED)\n",
    "scalarMap = cmx.ScalarMappable(norm=cNorm, cmap=jet)\n",
    "all_colors = scalarMap.to_rgba(np.arange(NSED), alpha=1)"
   ]
  },
  {
   "cell_type": "code",
   "execution_count": null,
   "id": "87fcc2fb-e125-4f2e-a0a2-3024e97c4ab9",
   "metadata": {},
   "outputs": [],
   "source": [
    "fig, ax = plt.subplots(figsize=(18, 0.6), layout='constrained')\n",
    "cmap = mpl.cm.jet\n",
    "norm = mpl.colors.Normalize(vmin=0, vmax=NSED)\n",
    "cbar = fig.colorbar(mpl.cm.ScalarMappable(norm=norm, cmap=cmap),cax=ax, orientation='horizontal', label='spectral type')\n",
    "\n",
    "# change the number of labels\n",
    "labels = [item.get_text() for item in cbar.ax.get_xticklabels()]\n",
    "cbar.ax.locator_params(axis='x', nbins=4*len(labels)) \n",
    "labels = [item.get_text() for item in cbar.ax.get_xticklabels()]\n",
    "\n",
    "# rename the labels\n",
    "Nlabels = len(labels)\n",
    "for ilab in range(0,Nlabels-1):\n",
    "    the_label = int(labels[ilab])\n",
    "    labels[ilab] = df_pickle.loc[the_label,\"SPTYPE\"]\n",
    "cbar.ax.set_xticklabels(labels,rotation=45);\n",
    "plt.show()\n"
   ]
  },
  {
   "cell_type": "code",
   "execution_count": null,
   "id": "7184b1f0-22ab-4d6a-9e03-fdc2d0831a68",
   "metadata": {},
   "outputs": [],
   "source": [
    "if FLAG_PLOTPICKLESSED: \n",
    "    fig,(ax,ax2) = plt.subplots(1,2,figsize=(16,6))\n",
    "    for index in np.arange(NSED):\n",
    "        filename = df_pickle.loc[index,\"FILENAME\"].strip()+\".fits\"\n",
    "        fullfilename = os.path.join(seddir_uvk,filename) \n",
    "        hdul = fits.open(fullfilename)\n",
    "        dff = pd.DataFrame(hdul[1].data)\n",
    "        #if index <= 103 or index >= 105:\n",
    "        if index < 100 or index > 104:    \n",
    "            ax.plot(dff.WAVELENGTH,dff.FLUX,color=all_colors[index])\n",
    "    ax.set_yscale('log')\n",
    "    ax.set_xlim(3000.,11000)\n",
    "    ax.set_ylim(1e-11,1e-6)\n",
    "    ax.grid()\n",
    "    ax.set_title(\"Pickles $F_\\lambda$\")\n",
    "    ax.set_ylabel(\"$F_\\lambda$\")\n",
    "    ax.set_xlabel(\"$\\lambda \\, (\\AA$)\")\n",
    "    #plt.colorbar(ax.collections[0],ax=ax,orientation = 'horizontal',shrink=0.8)\n",
    "    #ax.collections[-1].colorbar\n",
    "\n",
    "    for index in np.arange(NSED):\n",
    "        filename = df_pickle.loc[index,\"FILENAME\"].strip()+\".fits\"\n",
    "        fullfilename = os.path.join(seddir_uvk,filename) \n",
    "        hdul = fits.open(fullfilename)\n",
    "        dff = pd.DataFrame(hdul[1].data)\n",
    "        label= f\"{index}, {filename}\"\n",
    "        #if index <= 103 or index >= 105:\n",
    "        if index >= 99 and index <= 104: \n",
    "            if index == 99:\n",
    "                ax2.plot(dff.WAVELENGTH,dff.FLUX,color=\"k\",label=label)\n",
    "            elif index == 104:\n",
    "                ax2.plot(dff.WAVELENGTH,dff.FLUX,color=\"purple\",label=label)\n",
    "            else:\n",
    "                ax2.plot(dff.WAVELENGTH,dff.FLUX,color=all_colors[index],ls=\":\",label=label)\n",
    "    ax2.set_yscale('log')\n",
    "    ax2.set_xlim(3000.,11000)\n",
    "    ax2.set_ylim(1e-11,1e-6)\n",
    "    ax2.grid()\n",
    "    ax2.set_title(\"Pickles $F_\\lambda$\")\n",
    "    ax2.set_ylabel(\"$F_\\lambda$\")\n",
    "    ax2.set_xlabel(\"$\\lambda \\, (\\AA$)\")\n",
    "    ax2.legend()\n",
    "    plt.show()"
   ]
  },
  {
   "cell_type": "code",
   "execution_count": null,
   "id": "93c5197a-aa14-42de-a912-feddbed48e45",
   "metadata": {},
   "outputs": [],
   "source": [
    "fig,ax = plt.subplots(1,1,figsize=(10,6))\n",
    "for index in np.arange(NSED):\n",
    "    filename = df_pickle.loc[index,\"FILENAME\"].strip()+\".fits\"\n",
    "    fullfilename = os.path.join(seddir_uvk,filename) \n",
    "    hdul = fits.open(fullfilename)\n",
    "    dff = pd.DataFrame(hdul[1].data)\n",
    "    #if index <= 103 or index >= 105:\n",
    "    if index < 100 or index > 104:    \n",
    "        ax.plot(dff.WAVELENGTH,dff.FLUX,color=all_colors[index])\n",
    "ax.set_yscale('log')\n",
    "ax.set_xlim(3000.,11000)\n",
    "ax.set_ylim(1e-11,1e-7)\n",
    "ax.grid()\n",
    "ax.set_title(\"Pickles $F_\\lambda$\")\n",
    "ax.set_ylabel(\"$F_\\lambda$\")\n",
    "ax.set_xlabel(\"$\\lambda \\, (\\AA$)\")\n",
    "\n",
    "#cbar= fig.colorbar(cm.ScalarMappable(norm=norm, cmap=\"jet\"), ax=ax)\n",
    "cbar =fig.colorbar(mpl.cm.ScalarMappable(norm=norm, cmap=cmap),ax=ax, orientation='vertical', label='spectral type')\n",
    "\n",
    "#cbar = plt.colorbar(ax.collections[0],ax=ax)\n",
    "#cbar.ax.set_ylabel('spectral type', rotation=90)\n",
    "\n",
    "labels = [item.get_text() for item in cbar.ax.get_yticklabels()]\n",
    "cbar.ax.locator_params(axis='y', nbins=2*len(labels)) \n",
    "labels = [item.get_text() for item in cbar.ax.get_yticklabels()]\n",
    "\n",
    "Nlabels = len(labels)\n",
    "for ilab in range(0,Nlabels-1):\n",
    "    the_label = int(labels[ilab])\n",
    "    labels[ilab] = df_pickle.loc[the_label,\"SPTYPE\"]\n",
    "cbar.ax.set_yticklabels(labels,rotation=0);\n",
    "plt.tight_layout()\n",
    "plt.show()"
   ]
  },
  {
   "cell_type": "markdown",
   "id": "cd54ef8d-e5a1-4745-8ae4-75a792c67248",
   "metadata": {},
   "source": [
    "## Select the gaia-calspec"
   ]
  },
  {
   "cell_type": "code",
   "execution_count": null,
   "id": "d3faba6d-ccba-48cb-9601-55eb06c0a0b2",
   "metadata": {},
   "outputs": [],
   "source": [
    "index = 2\n",
    "row = df_info.iloc[index]\n",
    "hdname = row[\"HD_name\"]\n",
    "gaianame = row[\"GAIA_ED3_Name\"]\n",
    "tag = f\"{hdname}_{gaianame}\"\n",
    "dfg = all_dfg[index]\n",
    "dfc = all_dfc[index]\n",
    "tag"
   ]
  },
  {
   "cell_type": "code",
   "execution_count": null,
   "id": "1f715eef-479b-463c-ab19-ecdb46746f3c",
   "metadata": {},
   "outputs": [],
   "source": [
    "the_sed_gaia = all_sed_gaia[index]\n",
    "the_sed_calspec = all_sed_calspec[index]\n",
    "\n",
    "the_sed_gaia_renorm = all_sed_gaia_renorm[index]\n",
    "the_sed_calspec_renorm = all_sed_calspec_renorm[index]\n",
    "\n",
    "the_sed_name = all_sed_names[index]\n",
    "the_sed_name"
   ]
  },
  {
   "cell_type": "code",
   "execution_count": null,
   "id": "4621bff4-3db3-435c-b667-fd6c84e68e57",
   "metadata": {},
   "outputs": [],
   "source": [
    "plotspec(tag,dfc,dfg)"
   ]
  },
  {
   "cell_type": "code",
   "execution_count": null,
   "id": "1876f28e-87cc-45c1-bfa9-dffaaa0ee4ff",
   "metadata": {},
   "outputs": [],
   "source": [
    "df_maggaia.head()"
   ]
  },
  {
   "cell_type": "code",
   "execution_count": null,
   "id": "a6e2d58a-5ba6-4fb7-b727-7195619f8d71",
   "metadata": {},
   "outputs": [],
   "source": [
    "ser_mags = df_maggaia.loc[\"gaiaspec_\" + tag]\n",
    "ser_mags"
   ]
  },
  {
   "cell_type": "markdown",
   "id": "abfc8827-0e62-4b32-ab53-b3861f718b05",
   "metadata": {},
   "source": [
    "## Convert all SED-pickles in rubin-sim format"
   ]
  },
  {
   "cell_type": "code",
   "execution_count": null,
   "id": "ba55f041-1b54-497f-be2d-0b02e55e7993",
   "metadata": {},
   "outputs": [],
   "source": [
    "def get_rubinsim_sed_pickles(magref,bandref,df_pickle):\n",
    "    \"\"\"\n",
    "    Renormalise all pickes sed according the magnitute magref in band bandref.\n",
    "    df_picke s the dataframe containing info to accesssto SED pickles from file\n",
    "    \"\"\"\n",
    "    all_sed_pickles = []\n",
    "    \n",
    "    for index in np.arange(NSED):\n",
    "        spectype = df_pickle.loc[index,\"SPTYPE\"].strip()\n",
    "        filename = df_pickle.loc[index,\"FILENAME\"].strip()+\".fits\"\n",
    "        fullfilename = os.path.join(seddir_uvk,filename) \n",
    "        hdul = fits.open(fullfilename)\n",
    "        dff = pd.DataFrame(hdul[1].data)\n",
    "        wl= dff.WAVELENGTH.values\n",
    "        flux = dff.FLUX.values\n",
    "        #wavelen (nm)\n",
    "        #flambda (ergs/cm^2/s/nm)\n",
    "        sed_label = f\"{index}_{spectype}\"\n",
    "        the_sed = Sed(wavelen=wl/10., flambda=flux*10., name=sed_label)\n",
    "        flux_norm = the_sed.calc_flux_norm(magref, pc.bandpass_total_std[bandref])\n",
    "        the_sed.multiply_flux_norm(flux_norm)\n",
    "        all_sed_pickles.append(the_sed) \n",
    "    return all_sed_pickles"
   ]
  },
  {
   "cell_type": "code",
   "execution_count": null,
   "id": "aa13e80b-a344-4e85-9e47-933aa00f1e49",
   "metadata": {},
   "outputs": [],
   "source": [
    "zmag = ser_mags[\"z\"]\n",
    "all_sed_pickles = get_rubinsim_sed_pickles(zmag,'z',df_pickle)\n",
    "NPICKLES = len(all_sed_pickles)"
   ]
  },
  {
   "cell_type": "markdown",
   "id": "a53951f8-da0c-4cff-b1f1-d2004da7e5bd",
   "metadata": {},
   "source": [
    "### Check the normalisation over 2 pickles"
   ]
  },
  {
   "cell_type": "code",
   "execution_count": null,
   "id": "4f82306d-312a-46b2-9531-866584e9a413",
   "metadata": {},
   "outputs": [],
   "source": [
    "def PlotFlambdaFnuGaiaPickle(the_sed_gaia,all_sed_pickles):\n",
    "    \"\"\"\n",
    "    \"\"\"\n",
    "\n",
    "    the_sed1 = all_sed_pickles[0]\n",
    "    #flux_norm = the_sed1.calc_flux_norm(zmag, pc.bandpass_total_std['r'])\n",
    "    #the_sed1.multiply_flux_norm(flux_norm)\n",
    "\n",
    "    the_sed2 = all_sed_pickles[-1]\n",
    "    #flux_norm = the_sed2.calc_flux_norm(zmag, pc.bandpass_total_std['r'])\n",
    "    #the_sed2.multiply_flux_norm(flux_norm)\n",
    "\n",
    "    fig,(ax1,ax2) = plt.subplots(1,2,figsize=(16,6))\n",
    "    ax1.plot(the_sed1.wavelen,the_sed1.flambda,\"b-\",label=the_sed1.name)\n",
    "    ax1.plot(the_sed2.wavelen,the_sed2.flambda,\"r-\",label=the_sed2.name)\n",
    "    ax1.plot(the_sed_gaia.wavelen,the_sed_gaia.flambda,\"k-\",lw=3,label = \"gaia_\"+tag)\n",
    "    ax1.set_yscale(\"log\")\n",
    "    ax1.legend()\n",
    "    ax1.set_ylim(1e-13,1e-9)\n",
    "    ax1.set_xlim(300.,2000.)\n",
    "    ax1.set_title(\"Pickles $F_\\lambda$\")\n",
    "    ax1.set_ylabel(\"$F_\\lambda$\")\n",
    "    ax1.set_xlabel(\"$\\lambda \\, (nm)$\")\n",
    "\n",
    "    ax2.plot(the_sed1 .wavelen,the_sed1.fnu,\"b-\",label=the_sed1.name)\n",
    "    ax2.plot(the_sed2.wavelen,the_sed2.fnu,\"r-\",label=the_sed2.name)\n",
    "\n",
    "    ax2.plot(the_sed_gaia_renorm.wavelen,the_sed_gaia_renorm.fnu,\"k-\",lw=3,label = \"gaia_\"+tag)\n",
    "    ax2.set_yscale(\"log\")\n",
    "    ax2.legend()\n",
    "    ax2.set_ylim(1e-3,100.)\n",
    "    ax2.set_xlim(300.,2000.)\n",
    "    ax2.set_title(\"Pickles $F_\\\\nu$\")\n",
    "    ax2.set_ylabel(\"$F_\\\\nu$\")\n",
    "    ax2.set_xlabel(\"$\\lambda \\, (nm)$\")\n",
    "\n",
    "    ax3 = ax1.twinx()\n",
    "    for ifilt,f in enumerate(filter_tagnames):\n",
    "        ax3.fill_between(pc.bandpass_total_std[f].wavelen,pc.bandpass_total_std[f].sb,color=filter_color[ifilt],alpha=0.1) \n",
    "        ax3.set_yticks([])\n",
    "    \n",
    "    ax4 = ax2.twinx()\n",
    "    for ifilt,f in enumerate(filter_tagnames):\n",
    "        ax4.fill_between(pc.bandpass_total_std[f].wavelen,pc.bandpass_total_std[f].sb,color=filter_color[ifilt],alpha=0.1) \n",
    "        ax4.set_yticks([])\n",
    "\n",
    "    plt.show()"
   ]
  },
  {
   "cell_type": "code",
   "execution_count": null,
   "id": "c284be9b-e953-4b28-9e89-078d59676212",
   "metadata": {},
   "outputs": [],
   "source": [
    "PlotFlambdaFnuGaiaPickle(the_sed_gaia,all_sed_pickles)"
   ]
  },
  {
   "cell_type": "markdown",
   "id": "34ceec68-2f10-4f40-b6ca-7d549e03098a",
   "metadata": {},
   "source": [
    "## Compute pickles magnitudes"
   ]
  },
  {
   "cell_type": "code",
   "execution_count": null,
   "id": "a8597109-36f9-4229-973e-e0f3e8f404b4",
   "metadata": {},
   "outputs": [],
   "source": [
    "def get_rubinsim_mag_pickles(all_sed_pickles):\n",
    "    \"\"\"\n",
    "    Compute the magnitude for all pickle sed in all_sed_pickles\n",
    "    Return the magnitude pandas dataframe all_mags_std_pickles in filters u,g,r,i,z,y\n",
    "    \"\"\"\n",
    "\n",
    "    NPICKLES = len(all_sed_pickles)\n",
    "    \n",
    "    # container for all magnitudes and magnitudes differences\n",
    "    all_mags_std_pickles = []\n",
    "\n",
    "    # loop on spectra\n",
    "    for index in np.arange(NPICKLES):\n",
    "        mags_std_pickles = {}\n",
    "        the_sed = all_sed_pickles[index]\n",
    "\n",
    "        # loop on filters\n",
    "        for index2,f in enumerate(filter_tagnames) :\n",
    "            mags_std_pickles[f] = the_sed.calc_mag(pc.bandpass_total_std[f])\n",
    "   \n",
    "        dfmag = pd.DataFrame(mags_std_pickles, index=[the_sed.name]).T\n",
    "        all_mags_std_pickles.append(dfmag.T)\n",
    "\n",
    "    df_mags_std_pickles = pd.concat(all_mags_std_pickles)\n",
    "    return df_mags_std_pickles\n",
    "   "
   ]
  },
  {
   "cell_type": "code",
   "execution_count": null,
   "id": "5e2d9bc9-e4a1-49e2-a8ab-c065a65e1b9c",
   "metadata": {},
   "outputs": [],
   "source": [
    "df_mags_std_pickles = get_rubinsim_mag_pickles(all_sed_pickles)\n",
    "df_mags_std_pickles"
   ]
  },
  {
   "cell_type": "markdown",
   "id": "d4eb9bf7-29ed-4690-a5f5-cd43ccac9c91",
   "metadata": {},
   "source": [
    "## Find Nearest Neighbourg"
   ]
  },
  {
   "cell_type": "code",
   "execution_count": null,
   "id": "06481149-cccf-4ace-9f90-bcac6ff99ab1",
   "metadata": {},
   "outputs": [],
   "source": [
    "def FindNearestNeighbors(X_data,X_neigh):\n",
    "    nbrs = NearestNeighbors(n_neighbors=1, algorithm='ball_tree').fit(X_neigh)\n",
    "    distances, indices = nbrs.kneighbors(X_data)\n",
    "    return indices,distances  "
   ]
  },
  {
   "cell_type": "code",
   "execution_count": null,
   "id": "ca987fad-f591-485c-9b6e-b8bb429f3a3d",
   "metadata": {},
   "outputs": [],
   "source": [
    "def FindNearestKDT(X_data,X_neigh):\n",
    "    kdt = KDTree(X_neigh,leaf_size=30, metric='euclidean')\n",
    "    distances,indices = kdt.query(X_data, k=1, return_distance=True)\n",
    "    return indices,distances  "
   ]
  },
  {
   "cell_type": "code",
   "execution_count": null,
   "id": "85c2c1e1-46f9-4dae-b9af-eff803caa047",
   "metadata": {},
   "outputs": [],
   "source": [
    "def FindNearestBallT(X_data,X_neigh):\n",
    "    bt = BallTree(X_neigh, metric='euclidean')\n",
    "    distances,indices = bt.query(X_data,k=1,return_distance=True)\n",
    "    return indices,distances  "
   ]
  },
  {
   "cell_type": "code",
   "execution_count": null,
   "id": "72fa4487-d039-4eae-8a3d-4103b4d3be13",
   "metadata": {},
   "outputs": [],
   "source": [
    "# select in G,R,I,Z\n",
    "# exclude border U,Y\n",
    "X_pkl = df_mags_std_pickles.values[:,1:-1]\n",
    "X_data = [ser_mags.values[1:-1]]"
   ]
  },
  {
   "cell_type": "code",
   "execution_count": null,
   "id": "7c58c804-022b-462c-8e70-ac7f93a6f27b",
   "metadata": {},
   "outputs": [],
   "source": [
    "indices1,distances1 = FindNearestNeighbors(X_data,X_pkl)\n",
    "indices2,distances2 = FindNearestKDT(X_data,X_pkl)\n",
    "indices3,distances3 = FindNearestBallT(X_data,X_pkl)"
   ]
  },
  {
   "cell_type": "code",
   "execution_count": null,
   "id": "42357636-6b95-4d18-82eb-e7257bf10867",
   "metadata": {},
   "outputs": [],
   "source": [
    "np.hstack([indices1,indices2,indices3])"
   ]
  },
  {
   "cell_type": "code",
   "execution_count": null,
   "id": "ea6f8a9c-320d-4a79-ab32-9533b8f47c55",
   "metadata": {},
   "outputs": [],
   "source": [
    "indice = indices1[0][0]"
   ]
  },
  {
   "cell_type": "code",
   "execution_count": null,
   "id": "f12223d9-568f-4682-b60d-4a22b60c67e4",
   "metadata": {},
   "outputs": [],
   "source": [
    "the_sed_pickle = all_sed_pickles[indice]"
   ]
  },
  {
   "cell_type": "code",
   "execution_count": null,
   "id": "81a23572-6fdb-4270-b71a-10c5b6942f61",
   "metadata": {},
   "outputs": [],
   "source": [
    "def find_fminfmax(wl,flux,wlmin=300.,wlmax=1200.):\n",
    "    \"\"\"\n",
    "    \"\"\"\n",
    "    indexes = np.where(np.logical_and(wl>=wlmin,wl<=wlmax))[0]\n",
    "    flux_sel = flux[indexes]\n",
    "    return flux_sel.min(),flux_sel.max()"
   ]
  },
  {
   "cell_type": "code",
   "execution_count": null,
   "id": "c9b2f04c-2ce8-4098-af86-2db7306c356a",
   "metadata": {},
   "outputs": [],
   "source": [
    "def PlotFlambdaGaiaCalspecPickle(the_sed_gaia,the_sed_calspec,the_sed_pickle):\n",
    "    \"\"\"\n",
    "    \"\"\"\n",
    "    fig,ax = plt.subplots(1,1,figsize=(8,6))\n",
    "\n",
    "    ax.plot(the_sed_gaia.wavelen,the_sed_gaia.flambda,\"b-\",lw=2,label = \"gaia_\"+tag)\n",
    "    ax.plot(the_sed_calspec.wavelen,the_sed_calspec.flambda,\"g:\",lw=2,label = \"calspec_\"+tag)\n",
    "    ax.plot(the_sed_pickle.wavelen,the_sed_pickle.flambda,\"r-\",lw=1,label=the_sed_pickle.name)\n",
    "    ax.set_yscale(\"log\")\n",
    "    ax.legend()\n",
    "\n",
    "    fmin,fmax = find_fminfmax(the_sed_pickle.wavelen,the_sed_pickle.flambda)\n",
    "    fmin /=2\n",
    "    fmax *=2\n",
    "\n",
    "    ax.set_ylim(fmin,fmax)\n",
    "    ax.set_xlim(300.,1100.)\n",
    "    ax.set_title(\"Pickles $F_\\lambda$\")\n",
    "    ax.set_ylabel(\"$F_\\lambda$\")\n",
    "    ax.set_xlabel(\"$\\lambda \\, (nm)$\")\n",
    "\n",
    "    ax2 = ax.twinx()\n",
    "    for ifilt,f in enumerate(filter_tagnames):\n",
    "        ax2.fill_between(pc.bandpass_total_std[f].wavelen,pc.bandpass_total_std[f].sb,color=filter_color[ifilt],alpha=0.1) \n",
    "        ax2.set_yticks([])\n",
    "    \n",
    "    plt.show()\n",
    "    "
   ]
  },
  {
   "cell_type": "code",
   "execution_count": null,
   "id": "4daadabb-167e-4466-a6da-4ac95cca230b",
   "metadata": {},
   "outputs": [],
   "source": [
    "PlotFlambdaGaiaCalspecPickle(the_sed_gaia,the_sed_calspec,the_sed_pickle)"
   ]
  },
  {
   "cell_type": "code",
   "execution_count": null,
   "id": "21fc1830-4d71-4a06-b995-2c33023d2992",
   "metadata": {},
   "outputs": [],
   "source": [
    "def PlotFlambdaFnuGaiaCalspecPickle(the_sed_gaia,the_sed_calspec,the_sed_pickle):\n",
    "    \"\"\"\n",
    "    \"\"\"\n",
    "    \n",
    "    fig,(ax1,ax2) = plt.subplots(1,2,figsize=(18,6))\n",
    "    ax1.plot(the_sed_pickle.wavelen,the_sed_pickle.flambda,\"r-\",label=the_sed_pickle.name)\n",
    "    ax1.plot(the_sed_gaia.wavelen,the_sed_gaia.flambda,\"b-\",lw=2,label = \"gaia_\"+tag)\n",
    "    ax1.set_yscale(\"log\")\n",
    "    ax1.legend()\n",
    "\n",
    "    fmin,fmax = find_fminfmax(the_sed_pickle.wavelen,the_sed_pickle.flambda)\n",
    "    fmin /=2\n",
    "    fmax *=2\n",
    "\n",
    "    ax1.set_ylim(fmin,fmax)\n",
    "    ax1.set_xlim(300.,1200.)\n",
    "    ax1.set_title(\"Pickles $F_\\lambda$\")\n",
    "    ax1.set_ylabel(\"$F_\\lambda$\")\n",
    "    ax1.set_xlabel(\"$\\lambda \\, (nm)$\")\n",
    "\n",
    "\n",
    "    wlp,fnup = the_sed_pickle.get_sed_fnu() \n",
    "    ax2.plot(the_sed_pickle.wavelen,the_sed_pickle.fnu,\"r-\",label=the_sed_pickle.name)\n",
    "    # force the calculation of fnu\n",
    "    #wlg,fnug = the_sed_g.get_sed_fnu() \n",
    "    #ax2.plot(wlg,fnug,\"b-\",lw=2,label = \"gaia_\"+tag)\n",
    "    ax2.plot(the_sed_gaia_renorm.wavelen,the_sed_gaia_renorm.fnu,\"b-\",lw=2,label = \"gaia_\"+tag)\n",
    "\n",
    "    fmin,fmax = find_fminfmax(the_sed_pickle.wavelen,the_sed_pickle.fnu)\n",
    "    fmin /=2\n",
    "    fmax *=2\n",
    "\n",
    "    ax2.set_yscale(\"log\")\n",
    "    ax2.legend()\n",
    "    ax2.set_ylim(fmin,fmax)\n",
    "    ax2.set_xlim(300.,1200.)\n",
    "    ax2.set_title(\"Pickles $F_\\\\nu$\")\n",
    "    ax2.set_ylabel(\"$F_\\\\nu$\")\n",
    "    ax2.set_xlabel(\"$\\lambda \\, (nm)$\")\n",
    "\n",
    "    ax3 = ax.twinx()\n",
    "    for ifilt,f in enumerate(filter_tagnames):\n",
    "        ax3.fill_between(pc.bandpass_total_std[f].wavelen,pc.bandpass_total_std[f].sb,color=filter_color[ifilt],alpha=0.1) \n",
    "        ax3.set_yticks([])\n",
    "    \n",
    "    ax4 = ax2.twinx()\n",
    "    for ifilt,f in enumerate(filter_tagnames):\n",
    "        ax4.fill_between(pc.bandpass_total_std[f].wavelen,pc.bandpass_total_std[f].sb,color=filter_color[ifilt],alpha=0.1) \n",
    "        ax4.set_yticks([])\n",
    "\n",
    "    plt.show()"
   ]
  },
  {
   "cell_type": "code",
   "execution_count": null,
   "id": "6bafb5a4-4109-4037-9c18-344b1de9c72e",
   "metadata": {},
   "outputs": [],
   "source": [
    "PlotFlambdaFnuGaiaCalspecPickle(the_sed_gaia,the_sed_calspec,the_sed_pickle)"
   ]
  },
  {
   "cell_type": "markdown",
   "id": "3e8cb307-1d6c-49c5-9bee-ded364876e34",
   "metadata": {},
   "source": [
    "## Loop on Gaia "
   ]
  },
  {
   "cell_type": "code",
   "execution_count": null,
   "id": "5017923f-8c76-4a91-9a77-fb84810b6c92",
   "metadata": {},
   "outputs": [],
   "source": [
    "for index in np.arange(NSPEC):\n",
    "\n",
    "    # get info on the current Gaia \n",
    "    row = df_info.iloc[index]\n",
    "    hdname = row[\"HD_name\"]\n",
    "    gaianame = row[\"GAIA_ED3_Name\"]\n",
    "    tag = f\"{hdname}_{gaianame}\"\n",
    "    dfg = all_dfg[index]\n",
    "    dfc = all_dfc[index]\n",
    "    the_sed_gaia = all_sed_gaia[index]\n",
    "    the_sed_calspec = all_sed_calspec[index]\n",
    "    the_sed_gaia_renorm = all_sed_gaia_renorm[index]\n",
    "    the_sed_calspec_renorm = all_sed_calspec_renorm[index]\n",
    "    the_sed_name = all_sed_names[index]\n",
    "\n",
    "    # retrieve the magnitudes of the gaia\n",
    "    ser_mags = df_maggaia.loc[\"gaiaspec_\" + tag]\n",
    "    zmag = ser_mags[\"z\"]\n",
    "\n",
    "    # get the sed pickles renormaliszed\n",
    "    all_sed_pickles = get_rubinsim_sed_pickles(zmag,'z',df_pickle)\n",
    "    NPICKLES = len(all_sed_pickles)\n",
    "\n",
    "\n",
    "    # compare gaia wrt extremme blue red pickles\n",
    "    #PlotFlambdaFnuGaiaPickle(the_sed_gaia,the_sed_pickle)\n",
    "\n",
    "    # compute the magnitudes\n",
    "    df_mags_std_pickles = get_rubinsim_mag_pickles(all_sed_pickles)\n",
    "\n",
    "    # Nearest neighbourg\n",
    "    X_pkl = df_mags_std_pickles.values[:,1:-1]\n",
    "    X_data = [ser_mags.values[1:-1]]\n",
    "\n",
    "    indices,distances = FindNearestNeighbors(X_data,X_pkl)\n",
    "    indice = indices[0][0]\n",
    "    the_sed_pickle = all_sed_pickles[indice]\n",
    "\n",
    "    # Plot Flambda\n",
    "    PlotFlambdaGaiaCalspecPickle(the_sed_gaia,the_sed_calspec,the_sed_pickle)\n",
    "    "
   ]
  },
  {
   "cell_type": "code",
   "execution_count": null,
   "id": "ec5338f8-0ac8-4c2b-ac4c-a0b441831d71",
   "metadata": {},
   "outputs": [],
   "source": []
  }
 ],
 "metadata": {
  "kernelspec": {
   "display_name": "Python 3 (ipykernel)",
   "language": "python",
   "name": "python3"
  },
  "language_info": {
   "codemirror_mode": {
    "name": "ipython",
    "version": 3
   },
   "file_extension": ".py",
   "mimetype": "text/x-python",
   "name": "python",
   "nbconvert_exporter": "python",
   "pygments_lexer": "ipython3",
   "version": "3.10.12"
  }
 },
 "nbformat": 4,
 "nbformat_minor": 5
}
