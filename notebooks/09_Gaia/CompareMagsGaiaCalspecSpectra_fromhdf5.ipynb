{
 "cells": [
  {
   "cell_type": "markdown",
   "id": "ad5a3ac3-1d31-4599-995b-fc544a7da5ae",
   "metadata": {},
   "source": [
    "# Compare magnitudes  Gaia and Calspec spectra from hdf5 file"
   ]
  },
  {
   "cell_type": "markdown",
   "id": "ac5107e7-d490-4e81-9296-6bfb7af6dce4",
   "metadata": {},
   "source": [
    "- author Sylvie Dagoret-Campagne\n",
    "- affiliation IJCLab\n",
    "- creation date : 2024/10/06\n",
    "- update : 2024/10/07 : "
   ]
  },
  {
   "cell_type": "markdown",
   "id": "37c3a4a6-61fb-4518-97e1-b96621d79728",
   "metadata": {},
   "source": [
    "Goal : Learn  how to compute magnitudes in LSST bands from Spectra:\n",
    "Show the histogram of magnitudes of Gaia spectra in the LSST bands. And it computes the magnitude difference between Gaia and Calspec Spectra.\n",
    "Note it is needed to extend the Gaia spectra spectrum at its borders inside the whole wavelength LSST band range definition. "
   ]
  },
  {
   "cell_type": "code",
   "execution_count": null,
   "id": "1edbe7f0-c493-4659-8949-c17da1b52dfc",
   "metadata": {
    "tags": []
   },
   "outputs": [],
   "source": [
    "import numpy as np\n",
    "import matplotlib.pyplot as plt\n",
    "%matplotlib inline\n",
    "import matplotlib as mpl\n",
    "import matplotlib.colors as colors\n",
    "import matplotlib.cm as cmx\n",
    "from mpl_toolkits.axes_grid1 import make_axes_locatable\n",
    "from matplotlib.colors import LogNorm\n",
    "from matplotlib.gridspec import GridSpec\n",
    "import pandas as pd\n",
    "\n",
    "import matplotlib.ticker                         # here's where the formatter is\n",
    "import os,sys\n",
    "import re\n",
    "import pandas as pd\n",
    "\n",
    "from astropy.io import fits\n",
    "from astropy import units as u\n",
    "from astropy import constants as c\n",
    "\n",
    "plt.rcParams[\"figure.figsize\"] = (8,6)\n",
    "plt.rcParams[\"axes.labelsize\"] = 'xx-large'\n",
    "plt.rcParams['axes.titlesize'] = 'xx-large'\n",
    "plt.rcParams['xtick.labelsize']= 'xx-large'\n",
    "plt.rcParams['ytick.labelsize']= 'xx-large'\n",
    "\n",
    "#import pickle\n",
    "#from scipy.interpolate import RegularGridInterpolator\n",
    "from scipy.interpolate import interp1d\n",
    "import h5py"
   ]
  },
  {
   "cell_type": "code",
   "execution_count": null,
   "id": "faed402e-c407-49d4-b992-a8728eaf15c9",
   "metadata": {},
   "outputs": [],
   "source": [
    "pd.set_option('display.max_columns', 500)"
   ]
  },
  {
   "cell_type": "code",
   "execution_count": null,
   "id": "ce04b895-01a2-4112-aa2c-8953f6a0caee",
   "metadata": {
    "tags": []
   },
   "outputs": [],
   "source": [
    "machine_name = os.uname().nodename\n",
    "path_rubinsimphot = \"repos/repos_w_2024_38/rubinsimphot/src\"\n",
    "if 'sdf' in machine_name:\n",
    "    #machine_name_usdf = 'sdfrome001'\n",
    "    print(\"Set environment for USDF\")\n",
    "    newpythonpath = os.path.join(os.getenv(\"HOME\"),path_rubinsimphot)\n",
    "    sys.path.append(newpythonpath)\n",
    "elif 'dagoret-nb' in machine_name:\n",
    "    print(\"Set environment for USDF Rubin Science Platform\")\n",
    "    newpythonpath = os.path.join(os.getenv(\"HOME\"),path_rubinsimphot)\n",
    "    sys.path.append(newpythonpath)    \n",
    "elif 'mac' in machine_name:\n",
    "    print(\"Be sure to run this notebook in conda environment named conda_py310\")\n",
    "else:\n",
    "    print(f\"Your current machine name is {machine_name}. Check your python environment\")"
   ]
  },
  {
   "cell_type": "markdown",
   "id": "85f7c4c3-d53f-4c8f-8382-2f49e4a7b570",
   "metadata": {},
   "source": [
    "## Config "
   ]
  },
  {
   "cell_type": "code",
   "execution_count": null,
   "id": "56dd9ba5-ed39-418a-a289-0b0ecdd193f5",
   "metadata": {},
   "outputs": [],
   "source": [
    "FLAG_PLOTSPECTRA = False\n",
    "FLAG_PLOTATMOSPHERETRANSM = False\n",
    "FLAG_PLOTDETECTORTRANSM = False\n",
    "FLAG_PLOTTOTALTRANSM = False"
   ]
  },
  {
   "cell_type": "code",
   "execution_count": null,
   "id": "f3d46d43-3bc0-4d14-a043-c7a98cae796b",
   "metadata": {},
   "outputs": [],
   "source": [
    "input_path = \"data_gaiacalspecspectra\"\n",
    "input_file_h5  = 'GAIACALSPECspectra.hdf5'\n",
    "input_fullfile_h5 = os.path.join(input_path,input_file_h5)"
   ]
  },
  {
   "cell_type": "markdown",
   "id": "40e65347-98cd-4a40-b9aa-7055acc9e89a",
   "metadata": {},
   "source": [
    "## Read file spectra"
   ]
  },
  {
   "cell_type": "code",
   "execution_count": null,
   "id": "f93aa0f4-68a0-490b-a318-bf65e3d146e0",
   "metadata": {},
   "outputs": [],
   "source": [
    "hf =  h5py.File(input_fullfile_h5, 'r') \n",
    "list_of_keys = list(hf.keys())"
   ]
  },
  {
   "cell_type": "code",
   "execution_count": null,
   "id": "688a03ff-591f-4a62-aa34-1cd2cfbc0e3b",
   "metadata": {},
   "outputs": [],
   "source": [
    "list_of_keys"
   ]
  },
  {
   "cell_type": "code",
   "execution_count": null,
   "id": "dfa68880-29d7-429d-84af-e708db66c9e4",
   "metadata": {},
   "outputs": [],
   "source": [
    "# pick one key    \n",
    "key_sel =  list_of_keys[0]\n",
    "# pick one group\n",
    "group = hf.get(key_sel)  "
   ]
  },
  {
   "cell_type": "code",
   "execution_count": null,
   "id": "d412549f-02f5-4379-9ee3-fc3e06edaa47",
   "metadata": {},
   "outputs": [],
   "source": [
    "#pickup all attribute names\n",
    "all_subgroup_keys = []\n",
    "for k in group.attrs.keys():\n",
    "    all_subgroup_keys.append(k)"
   ]
  },
  {
   "cell_type": "code",
   "execution_count": null,
   "id": "f3e99003-d603-4f81-9df8-1bc40a571dc5",
   "metadata": {},
   "outputs": [],
   "source": [
    "all_subgroup_keys"
   ]
  },
  {
   "cell_type": "code",
   "execution_count": null,
   "id": "81cdeb28-3a99-40a7-b600-53d5864ebf99",
   "metadata": {},
   "outputs": [],
   "source": [
    "def GetColumnHfData(hff,list_of_keys,nameval):\n",
    "    \"\"\"\n",
    "    Extract hff atttribute \n",
    "    \n",
    "    parameters\n",
    "      hff           : descriptor of h5 file\n",
    "      list_of_keys : list of exposures\n",
    "      nameval      : name of the attribute\n",
    "      \n",
    "    return\n",
    "           the array of values in the order of \n",
    "    \"\"\"\n",
    "    \n",
    "\n",
    "    all_data = []\n",
    "    for key in list_of_keys:\n",
    "        group=hff.get(key)\n",
    "        val=group.attrs[nameval]\n",
    "        all_data.append(val)\n",
    "    return all_data"
   ]
  },
  {
   "cell_type": "code",
   "execution_count": null,
   "id": "f252dfd4-38a5-4fcc-a198-f434f5d67e8d",
   "metadata": {},
   "outputs": [],
   "source": [
    "# create info\n",
    "df_info = pd.DataFrame()\n",
    "for key in all_subgroup_keys:\n",
    "    arr=GetColumnHfData(hf, list_of_keys ,key)\n",
    "    df_info[key] = arr"
   ]
  },
  {
   "cell_type": "code",
   "execution_count": null,
   "id": "29cf09fb-d521-4cd8-8d4a-8062940073ac",
   "metadata": {},
   "outputs": [],
   "source": [
    "df_info"
   ]
  },
  {
   "cell_type": "code",
   "execution_count": null,
   "id": "5422995a-dd80-4a2d-842d-7078819c205f",
   "metadata": {},
   "outputs": [],
   "source": [
    "NSPEC = len(df_info)"
   ]
  },
  {
   "cell_type": "markdown",
   "id": "7f807997-9b8e-48e3-a22b-a51cd27f160a",
   "metadata": {},
   "source": [
    "## Extract the spectra"
   ]
  },
  {
   "cell_type": "code",
   "execution_count": null,
   "id": "5e351c3b-4d6a-4244-926f-eeec6c8c6dd2",
   "metadata": {},
   "outputs": [],
   "source": [
    "all_dfg = [] \n",
    "all_dfc = [] \n",
    "    \n",
    "idx=0\n",
    "for key in list_of_keys :\n",
    "        \n",
    "    group = hf.get(key)\n",
    "    dfg = pd.DataFrame()\n",
    "    dfc = pd.DataFrame()\n",
    "\n",
    "    dfg[\"WAVELENGTH\"] = np.array(group.get(\"gWAVELENGTH\"))\n",
    "    dfg[\"FLUX\"] = np.array(group.get(\"gFLUX\")) \n",
    "    dfg[\"STATERROR\"] = np.array(group.get(\"gSTATERROR\")) \n",
    "    dfg[\"SYSERROR\"] = np.array(group.get(\"gSYSERROR\")) \n",
    "    dfc[\"WAVELENGTH\"] = np.array(group.get(\"cWAVELENGTH\"))\n",
    "    dfc[\"FLUX\"] = np.array(group.get(\"cFLUX\")) \n",
    "    dfc[\"STATERROR\"] = np.array(group.get(\"cSTATERROR\")) \n",
    "    dfc[\"SYSERROR\"] = np.array(group.get(\"cSYSERROR\")) \n",
    " \n",
    " \n",
    "    all_dfg.append(dfg)\n",
    "    all_dfc.append(dfc)\n",
    "        \n",
    "    idx+=1"
   ]
  },
  {
   "cell_type": "markdown",
   "id": "095644f0-3a42-4ec5-94a5-76a920396635",
   "metadata": {},
   "source": [
    "## Check"
   ]
  },
  {
   "cell_type": "code",
   "execution_count": null,
   "id": "21d54312-90f4-47f2-94df-af902b04da04",
   "metadata": {},
   "outputs": [],
   "source": [
    "index = 0"
   ]
  },
  {
   "cell_type": "code",
   "execution_count": null,
   "id": "c912efca-a123-46f9-b5b7-c1d6297e4750",
   "metadata": {},
   "outputs": [],
   "source": [
    "row = df_info.iloc[index]"
   ]
  },
  {
   "cell_type": "code",
   "execution_count": null,
   "id": "3c3f1fce-9ea4-4ac3-939c-5c47888dcbed",
   "metadata": {},
   "outputs": [],
   "source": [
    "row"
   ]
  },
  {
   "cell_type": "code",
   "execution_count": null,
   "id": "4c114b71-1597-4b1f-962a-485b9d23d4ca",
   "metadata": {},
   "outputs": [],
   "source": [
    "hdname = row[\"HD_name\"]\n",
    "gaianame = row[\"GAIA_ED3_Name\"]\n",
    "tag = f\"{hdname}_{gaianame}\""
   ]
  },
  {
   "cell_type": "code",
   "execution_count": null,
   "id": "0585c7ac-f808-4ea2-8dda-5da2d6de7769",
   "metadata": {},
   "outputs": [],
   "source": [
    "hdname"
   ]
  },
  {
   "cell_type": "code",
   "execution_count": null,
   "id": "10759b86-7835-45bd-8faf-07571eb69ebf",
   "metadata": {},
   "outputs": [],
   "source": [
    "dfg = all_dfg[index]\n",
    "dfc = all_dfc[index]"
   ]
  },
  {
   "cell_type": "code",
   "execution_count": null,
   "id": "546aa0a6-cb1d-49cf-bd4a-6ed2573a54c4",
   "metadata": {},
   "outputs": [],
   "source": [
    "def plotspec(tag,dfc,dfg):\n",
    "    \"\"\"\n",
    "    tag : name of the star to appear un title\n",
    "    dfc : dataframe for calspec\n",
    "    dfg : dataframe for gaia\n",
    "    \"\"\"\n",
    "    \n",
    "    fig, ax = plt.subplots(1,1,figsize=(8,5))\n",
    "    leg = ax.get_legend()\n",
    "    title = \"calspec-gaia : \" + tag\n",
    "    dfc.plot(x=\"WAVELENGTH\",y=\"FLUX\",ax=ax,marker='.',color='b',legend=leg,label=\"calspec\")\n",
    "    dfg.plot(x=\"WAVELENGTH\",y=\"FLUX\",ax=ax,marker='.',color='r',legend=leg,label=\"gaia\")\n",
    "    ax.set_xlim(300.,1100.)\n",
    "    wl = dfc.WAVELENGTH\n",
    "    index_sel = np.where(np.logical_and(wl>300.,wl<1100.))[0]\n",
    "    fl = dfc.FLUX[index_sel]\n",
    "    flmax = np.max(fl)*1.2\n",
    "    ax.set_ylim(0.,flmax)    \n",
    "\n",
    "    ax.legend()\n",
    "    ax.set_xlabel(\"$\\\\lambda$ (nm)\")\n",
    "    ax.set_ylabel(\"Flux erg/cm$^2$/s/nm \")\n",
    "    ax.set_title(title)\n",
    "    plt.show()"
   ]
  },
  {
   "cell_type": "code",
   "execution_count": null,
   "id": "46e48bcf-87d3-4649-af92-519133b2fcb0",
   "metadata": {},
   "outputs": [],
   "source": [
    "if FLAG_PLOTSPECTRA: \n",
    "    plotspec(tag,dfc,dfg)"
   ]
  },
  {
   "cell_type": "markdown",
   "id": "db00c5cc-f8f3-47ec-a8ff-982d4260b7b2",
   "metadata": {},
   "source": [
    "## Plot all spectra"
   ]
  },
  {
   "cell_type": "code",
   "execution_count": null,
   "id": "66e96932-f581-4d03-96c1-17370098fba4",
   "metadata": {},
   "outputs": [],
   "source": [
    "if FLAG_PLOTSPECTRA: \n",
    "    for index in range(NSPEC):\n",
    "        # info\n",
    "        row = df_info.iloc[index]\n",
    "\n",
    "        # the title\n",
    "        hdname = row[\"HD_name\"]\n",
    "        gaianame = row[\"GAIA_ED3_Name\"]\n",
    "        tag = f\"{hdname}_{gaianame}\"\n",
    "\n",
    "        # the spectra\n",
    "        dfg = all_dfg[index]\n",
    "        dfc = all_dfc[index]\n",
    "\n",
    "        plotspec(tag,dfc,dfg)\n",
    "    "
   ]
  },
  {
   "cell_type": "markdown",
   "id": "b5402bc6-816c-46d5-9d4b-3711e8439b28",
   "metadata": {},
   "source": [
    "## Atmospheric emulator"
   ]
  },
  {
   "cell_type": "code",
   "execution_count": null,
   "id": "801d2e41-7c4c-4d1e-a48c-664ebe053eab",
   "metadata": {},
   "outputs": [],
   "source": [
    "from importlib.metadata import version\n",
    "the_ver = version('getObsAtmo')\n",
    "print(f\"Version of getObsAtmo : {the_ver}\")"
   ]
  },
  {
   "cell_type": "code",
   "execution_count": null,
   "id": "d9840b28-f024-42d5-832b-53a86dcbed20",
   "metadata": {},
   "outputs": [],
   "source": [
    "from getObsAtmo import ObsAtmo\n",
    "emul = ObsAtmo(\"AUXTEL\")"
   ]
  },
  {
   "cell_type": "markdown",
   "id": "2effda72-843d-4338-936d-731af455e84f",
   "metadata": {},
   "source": [
    "## Process transmission"
   ]
  },
  {
   "cell_type": "code",
   "execution_count": null,
   "id": "0b088e9e-1558-432a-8a01-9d3ab1ee2381",
   "metadata": {},
   "outputs": [],
   "source": [
    "import sys\n",
    "sys.path.append('../lib')\n",
    "#import libAtmosphericFit"
   ]
  },
  {
   "cell_type": "code",
   "execution_count": null,
   "id": "858eb8de-f084-4abb-a66b-531a82c5a0b4",
   "metadata": {},
   "outputs": [],
   "source": [
    "# This package encapsulate the calculation on calibration used in this nb\n",
    "from libPhotometricCorrections import *"
   ]
  },
  {
   "cell_type": "code",
   "execution_count": null,
   "id": "675d492a-fbb5-4dae-bb06-fea6dd062799",
   "metadata": {},
   "outputs": [],
   "source": [
    "def set_photometric_parameters(exptime, nexp, readnoise=None):\n",
    "    # readnoise = None will use the default (8.8 e/pixel). Readnoise should be in electrons/pixel.\n",
    "    photParams = PhotometricParameters(exptime=exptime, nexp=nexp, readnoise=readnoise)\n",
    "    return photParams"
   ]
  },
  {
   "cell_type": "code",
   "execution_count": null,
   "id": "74ebb221-a207-4330-afa8-c34e63817244",
   "metadata": {},
   "outputs": [],
   "source": [
    "def scale_sed(ref_mag, ref_filter, sed):\n",
    "    fluxNorm = sed.calc_flux_norm(ref_mag, lsst_std[ref_filter])\n",
    "    sed.multiply_flux_norm(fluxNorm)\n",
    "    return sed"
   ]
  },
  {
   "cell_type": "markdown",
   "id": "4cdb93ff-9e60-4439-9201-136f62d9c0f1",
   "metadata": {},
   "source": [
    "## library rubin_sim defining LSST parameters, namely for photometric calculations"
   ]
  },
  {
   "cell_type": "code",
   "execution_count": null,
   "id": "a86f23b0-e66a-4e09-851f-bc8144ed23aa",
   "metadata": {},
   "outputs": [],
   "source": [
    "from rubinsimphot.phot_utils import Bandpass, Sed\n",
    "from rubinsimphot.data import get_data_dir"
   ]
  },
  {
   "cell_type": "markdown",
   "id": "7f6ea92e-d334-4d82-9c09-a9d277156a95",
   "metadata": {},
   "source": [
    "### Config of atmosphere"
   ]
  },
  {
   "cell_type": "code",
   "execution_count": null,
   "id": "2e3aa286-d26f-4d5c-9e07-ffe630b03633",
   "metadata": {},
   "outputs": [],
   "source": [
    "am0 =1.20    # airmass\n",
    "pwv0 = 3.0  # Precipitable water vapor vertical column depth in mm\n",
    "oz0 = 300.  # Ozone vertical column depth in Dobson Unit (DU)\n",
    "ncomp=1     # Number of aerosol components\n",
    "tau0= 0.0 # Vertical Aerosol depth (VAOD) \n",
    "beta0 = 1.2 # Aerosol Angstrom exponent\n",
    "pc = PhotometricCorrections(am0,pwv0,oz0,tau0,beta0)"
   ]
  },
  {
   "cell_type": "code",
   "execution_count": null,
   "id": "6cb69d37-a7c7-4ba9-9502-ef909304479e",
   "metadata": {},
   "outputs": [],
   "source": [
    "if FLAG_PLOTATMOSPHERETRANSM:\n",
    "    fig, axs = plt.subplots(1,1,figsize=(6,4))\n",
    "    axs.plot(pc.WL,pc.atm_std,'k-')\n",
    "    axs.set_xlabel(\"$\\\\lambda$ (nm)\")\n",
    "    axs.set_title(\"Standard atmosphere transmission\")\n",
    "    plt.show()"
   ]
  },
  {
   "cell_type": "code",
   "execution_count": null,
   "id": "97e2e79c-e247-4983-b15a-c0a4604a62ae",
   "metadata": {},
   "outputs": [],
   "source": [
    "if FLAG_PLOTDETECTORTRANSM:\n",
    "    fig, axs = plt.subplots(1,1,figsize=(6,4))\n",
    "    # loop on filter\n",
    "    for index,f in enumerate(filter_tagnames):\n",
    "        axs.plot(pc.bandpass_inst[f].wavelen,pc.bandpass_inst[f].sb,color=filter_color[index]) \n",
    "        axs.fill_between(pc.bandpass_inst[f].wavelen,pc.bandpass_inst[f].sb,color=filter_color[index],alpha=0.2) \n",
    "        axs.axvline(FILTERWL[index,2],color=filter_color[index],linestyle=\"-.\") \n",
    "    axs.set_xlabel(\"$\\\\lambda$ (nm)\")\n",
    "    axs.set_title(\"Instrument throughput (rubin-obs)\")\n",
    "    plt.show()"
   ]
  },
  {
   "cell_type": "code",
   "execution_count": null,
   "id": "ff638927-854e-4678-bf0d-b47c5ae60a3a",
   "metadata": {},
   "outputs": [],
   "source": [
    "if FLAG_PLOTTOTALTRANSM:\n",
    "    fig, axs = plt.subplots(1,1,figsize=(6,4))\n",
    "    # loop on filter\n",
    "    for index,f in enumerate(filter_tagnames):\n",
    "        axs.plot(pc.bandpass_total_std[f].wavelen,pc.bandpass_total_std[f].sb,color=filter_color[index]) \n",
    "        axs.fill_between(pc.bandpass_total_std[f].wavelen,pc.bandpass_total_std[f].sb,color=filter_color[index],alpha=0.2) \n",
    "        axs.axvline(FILTERWL[index,2],color=filter_color[index],linestyle=\"-.\")    \n",
    "    axs.set_xlabel(\"$\\\\lambda$ (nm)\")\n",
    "    axs.set_title(\"Total filter throughput (rubin-obs)\")\n",
    "    plt.show()\n"
   ]
  },
  {
   "cell_type": "markdown",
   "id": "881744b3-bad2-4c29-a351-62885111c622",
   "metadata": {},
   "source": [
    "## Convert Gaia-Calspec sed into rubin-sim SED"
   ]
  },
  {
   "cell_type": "code",
   "execution_count": null,
   "id": "07240ad2-5273-4b0f-b7a1-d1f09c359652",
   "metadata": {},
   "outputs": [],
   "source": [
    "all_sed_gaia = []\n",
    "all_sed_calspec = []\n",
    "all_sed_names = []\n",
    "#zmag = 20.0\n",
    "for index in np.arange(NSPEC):\n",
    "\n",
    "    row = df_info.iloc[index]\n",
    "\n",
    "    # the title\n",
    "    hdname = row[\"HD_name\"]\n",
    "    gaianame = row[\"GAIA_ED3_Name\"]\n",
    "    tag = f\"{hdname}_{gaianame}\"\n",
    "\n",
    "    # the spectra\n",
    "    dfg = all_dfg[index]\n",
    "    dfc = all_dfc[index]\n",
    "    spectype = tag\n",
    "    \n",
    "    #wavelen (nm)\n",
    "    #flambda (ergs/cm^2/s/nm)\n",
    "    the_sed_c = Sed(wavelen=dfc.WAVELENGTH.values, flambda=dfc.FLUX.values, name=\"calspec_\" + spectype)\n",
    "    the_sed_g = Sed(wavelen=dfg.WAVELENGTH.values, flambda=dfg.FLUX.values, name=\"gaiaspec_\" + spectype)\n",
    "    #flux_norm = the_sed.calc_flux_norm(zmag, pc.bandpass_total_std['r'])\n",
    "    #the_sed.multiply_flux_norm(flux_norm)\n",
    "    all_sed_gaia.append(the_sed_g) \n",
    "    all_sed_calspec.append(the_sed_c) \n",
    "    all_sed_names.append(tag)"
   ]
  },
  {
   "cell_type": "markdown",
   "id": "a9ce21bd-e872-48bc-ac15-f131aaac86ff",
   "metadata": {},
   "source": [
    "## Compute magnitudes and magnitudes differences"
   ]
  },
  {
   "cell_type": "code",
   "execution_count": null,
   "id": "ddbdb98c-c4ec-4ccf-a383-a13be87fec1f",
   "metadata": {},
   "outputs": [],
   "source": [
    "# container for all magnitudes and magnitudes differences\n",
    "all_mags_std_gaiacalspec = []\n",
    "all_magsdiff_std_g_c = []\n",
    "all_maggaia = []\n",
    "\n",
    "# loop on spectra\n",
    "for index in np.arange(NSPEC):\n",
    "    mags_std_gaia = {}\n",
    "    mags_std_calspec = {}\n",
    "    the_sed_c = all_sed_calspec[index] \n",
    "    the_sed_g = all_sed_gaia[index] \n",
    "\n",
    "    # loop on filters\n",
    "    for index2,f in enumerate(filter_tagnames) :\n",
    "\n",
    "        # extrapolate the gaia sed in filter range\n",
    "        WLMIN_f = pc.bandpass_total_std[f].wavelen.min()\n",
    "        WLMAX_f = pc.bandpass_total_std[f].wavelen.max()\n",
    "        WL = np.arange(WLMIN_f-1.,WLMAX_f+1.,1.)\n",
    "\n",
    "        # extrapolate the gaia\n",
    "        finterp = interp1d(the_sed_g.wavelen, the_sed_g.flambda, kind = 'nearest',fill_value=\"extrapolate\")\n",
    "        the_sed_g_extrapolated = Sed(wavelen=WL, flambda= finterp(WL), name=the_sed_g.name)\n",
    "        # compute magnitude\n",
    "        mags_std_gaia[f] = the_sed_g_extrapolated .calc_mag(pc.bandpass_total_std[f])\n",
    "\n",
    "        # extrapolate the calspec\n",
    "        finterp = interp1d(the_sed_c.wavelen, the_sed_c.flambda, kind = 'nearest',fill_value=\"extrapolate\")\n",
    "        the_sed_c_extrapolated = Sed(wavelen=WL, flambda= finterp(WL), name=the_sed_c.name)\n",
    "\n",
    "        mags_std_calspec[f] = the_sed_c_extrapolated.calc_mag(pc.bandpass_total_std[f])\n",
    "\n",
    "    \n",
    "    dfmag_c = pd.DataFrame(mags_std_calspec, index=[the_sed_c.name]).T\n",
    "    dfmag_g = pd.DataFrame(mags_std_gaia, index=[the_sed_g.name]).T\n",
    "    dfmag_cg  =pd.concat([dfmag_c,dfmag_g],axis=1)\n",
    "    col1 = dfmag_cg.columns[0] # calspec\n",
    "    col2 = dfmag_cg.columns[1] # gaia\n",
    "    col3 = all_sed_names[index] \n",
    "    dfmag_cg[col3] = (dfmag_cg[col2] - dfmag_cg[col1])*1000.0 # in mmag \n",
    "    all_mags_std_gaiacalspec.append(dfmag_cg)\n",
    "    all_magsdiff_std_g_c.append(dfmag_cg.iloc[:,2].to_frame().T) # convert into a dataframe with col u,g,r,i,z,y\n",
    "    all_maggaia.append(dfmag_cg.iloc[:,1].to_frame().T)"
   ]
  },
  {
   "cell_type": "markdown",
   "id": "91c9df7f-bc38-46ad-9f22-60aa29e5d66d",
   "metadata": {},
   "source": [
    "### concatenate results for all"
   ]
  },
  {
   "cell_type": "markdown",
   "id": "bfe078ba-aca6-42a3-a4b2-84a9a7875fde",
   "metadata": {},
   "source": [
    "#### concatenate gaia magnitudes"
   ]
  },
  {
   "cell_type": "code",
   "execution_count": null,
   "id": "447e2b91-42ee-49f0-8d38-b22bb5d55db8",
   "metadata": {},
   "outputs": [],
   "source": [
    "df_maggaia = pd.concat(all_maggaia)\n",
    "df_maggaia"
   ]
  },
  {
   "cell_type": "code",
   "execution_count": null,
   "id": "4b099d43-e94d-4f70-9d11-ede91ed98874",
   "metadata": {},
   "outputs": [],
   "source": [
    "df_maggaia.describe()"
   ]
  },
  {
   "cell_type": "code",
   "execution_count": null,
   "id": "ea3d409a-c028-4e87-b7ae-6b8115763e21",
   "metadata": {},
   "outputs": [],
   "source": [
    "fig,axs = plt.subplots(1,6,figsize=(20,4),sharey=True)\n",
    "ax1,ax2,ax3,ax4,ax5,ax6 = axs\n",
    "df_maggaia[\"u\"].plot.hist(bins=20,ax=ax1,color=\"b\",xlabel=\"$m_u$ (mag)\",title=\"magnitudes in u\")\n",
    "df_maggaia[\"g\"].plot.hist(bins=20,ax=ax2,color=\"g\",xlabel=\"$m_g$ (mag)\",title=\"magnitudes in g\")\n",
    "df_maggaia[\"r\"].plot.hist(bins=20,ax=ax3,color=\"r\",xlabel=\"$m_r$ (mag)\",title=\"magnitudes in r\")\n",
    "df_maggaia[\"i\"].plot.hist(bins=20,ax=ax4,color=\"orange\",xlabel=\"$m_i$ (mag)\",title=\"magnitudes in i\")\n",
    "df_maggaia[\"z\"].plot.hist(bins=20,ax=ax5,color=\"grey\",xlabel=\"$m_z$ (mag)\",title=\"magnitudes in z\")\n",
    "df_maggaia[\"y\"].plot.hist(bins=20,ax=ax6,color=\"k\",xlabel=\"$m_y$ (mag)\",title=\"magnitudes in y\")\n",
    "plt.tight_layout()\n",
    "plt.tight_layout()\n",
    "plt.show()"
   ]
  },
  {
   "cell_type": "markdown",
   "id": "bd985c11-a505-4cbd-8e64-928ce2bd2d57",
   "metadata": {},
   "source": [
    "#### concatenate magnitudes difference : gaia-calspec"
   ]
  },
  {
   "cell_type": "code",
   "execution_count": null,
   "id": "8921f3f9-581d-4a12-8699-cbfd6c5dd1f5",
   "metadata": {},
   "outputs": [],
   "source": [
    "df_magdiff = pd.concat(all_magsdiff_std_g_c)\n",
    "df_magdiff"
   ]
  },
  {
   "cell_type": "code",
   "execution_count": null,
   "id": "cb6cde3f-9570-46a4-bde2-1d3698afedc2",
   "metadata": {},
   "outputs": [],
   "source": [
    "df_stat = df_magdiff.describe()\n",
    "df_stat"
   ]
  },
  {
   "cell_type": "code",
   "execution_count": null,
   "id": "45380cae-ca00-4144-b1d9-ca8db98f5e67",
   "metadata": {},
   "outputs": [],
   "source": [
    "#df_magdiff.plot.hist(bins=50,color=[\"b\",\"g\",\"r\",\"orange\",\"grey\",\"k\"],histtype='step',lw=3)\n",
    "fig,ax = plt.subplots(1,1,figsize=(8,4))\n",
    "df_magdiff.plot.hist(bins=50,ax=ax,color=[\"b\",\"g\",\"r\",\"orange\",\"grey\",\"k\"],alpha=0.5,xlim=[-80.,80.],xlabel=\"$\\\\Delta m$ (mmag)\",title=\"difference in magnitudes (gaia-calspec)\")"
   ]
  },
  {
   "cell_type": "code",
   "execution_count": null,
   "id": "87c6d96b-0551-4fcf-a3e6-7a12b44dde6d",
   "metadata": {},
   "outputs": [],
   "source": []
  }
 ],
 "metadata": {
  "kernelspec": {
   "display_name": "Python 3 (ipykernel)",
   "language": "python",
   "name": "python3"
  },
  "language_info": {
   "codemirror_mode": {
    "name": "ipython",
    "version": 3
   },
   "file_extension": ".py",
   "mimetype": "text/x-python",
   "name": "python",
   "nbconvert_exporter": "python",
   "pygments_lexer": "ipython3",
   "version": "3.11.5"
  }
 },
 "nbformat": 4,
 "nbformat_minor": 5
}
