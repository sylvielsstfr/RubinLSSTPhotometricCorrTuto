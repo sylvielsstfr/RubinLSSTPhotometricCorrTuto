{
 "cells": [
  {
   "cell_type": "markdown",
   "id": "ad5a3ac3-1d31-4599-995b-fc544a7da5ae",
   "metadata": {},
   "source": [
    "# Smooth Gaia spectra "
   ]
  },
  {
   "cell_type": "markdown",
   "id": "ac5107e7-d490-4e81-9296-6bfb7af6dce4",
   "metadata": {},
   "source": [
    "- author Sylvie Dagoret-Campagne\n",
    "- affiliation IJCLab\n",
    "- creation date : 2024/10/04\n",
    "- update : 2024/10/05 : "
   ]
  },
  {
   "cell_type": "code",
   "execution_count": null,
   "id": "1edbe7f0-c493-4659-8949-c17da1b52dfc",
   "metadata": {
    "tags": []
   },
   "outputs": [],
   "source": [
    "import numpy as np\n",
    "import matplotlib.pyplot as plt\n",
    "%matplotlib inline\n",
    "import matplotlib as mpl\n",
    "import matplotlib.colors as colors\n",
    "import matplotlib.cm as cmx\n",
    "from mpl_toolkits.axes_grid1 import make_axes_locatable\n",
    "from matplotlib.colors import LogNorm\n",
    "from matplotlib.gridspec import GridSpec\n",
    "import pandas as pd\n",
    "\n",
    "import matplotlib.ticker                         # here's where the formatter is\n",
    "import os,sys\n",
    "import re\n",
    "import pandas as pd\n",
    "\n",
    "from astropy.io import fits\n",
    "from astropy import units as u\n",
    "from astropy import constants as c\n",
    "\n",
    "plt.rcParams[\"figure.figsize\"] = (8,6)\n",
    "plt.rcParams[\"axes.labelsize\"] = 'xx-large'\n",
    "plt.rcParams['axes.titlesize'] = 'xx-large'\n",
    "plt.rcParams['xtick.labelsize']= 'xx-large'\n",
    "plt.rcParams['ytick.labelsize']= 'xx-large'\n",
    "\n",
    "import pickle\n",
    "#from scipy.interpolate import RegularGridInterpolator\n",
    "import h5py"
   ]
  },
  {
   "cell_type": "code",
   "execution_count": null,
   "id": "1045b99f-1032-49c7-b7f4-d0c924561603",
   "metadata": {},
   "outputs": [],
   "source": [
    "from scipy.interpolate import interp1d,CubicSpline"
   ]
  },
  {
   "cell_type": "code",
   "execution_count": null,
   "id": "faed402e-c407-49d4-b992-a8728eaf15c9",
   "metadata": {},
   "outputs": [],
   "source": [
    "pd.set_option('display.max_columns', 500)"
   ]
  },
  {
   "cell_type": "code",
   "execution_count": null,
   "id": "ce04b895-01a2-4112-aa2c-8953f6a0caee",
   "metadata": {
    "tags": []
   },
   "outputs": [],
   "source": [
    "machine_name = os.uname().nodename\n",
    "path_rubinsimphot = \"repos/repos_w_2024_38/rubinsimphot/src\"\n",
    "if 'sdf' in machine_name:\n",
    "    #machine_name_usdf = 'sdfrome001'\n",
    "    print(\"Set environment for USDF\")\n",
    "    newpythonpath = os.path.join(os.getenv(\"HOME\"),path_rubinsimphot)\n",
    "    sys.path.append(newpythonpath)\n",
    "elif 'dagoret-nb' in machine_name:\n",
    "    print(\"Set environment for USDF Rubin Science Platform\")\n",
    "    newpythonpath = os.path.join(os.getenv(\"HOME\"),path_rubinsimphot)\n",
    "    sys.path.append(newpythonpath)    \n",
    "elif 'mac' in machine_name:\n",
    "    print(\"Be sure to run this notebook in conda environment named conda_py310\")\n",
    "else:\n",
    "    print(f\"Your current machine name is {machine_name}. Check your python environment\")"
   ]
  },
  {
   "cell_type": "markdown",
   "id": "8f4193d6-96dc-45c7-b65f-0306b085df4d",
   "metadata": {},
   "source": [
    "## Smoothing\n",
    "https://scipy-cookbook.readthedocs.io/items/SignalSmooth.html"
   ]
  },
  {
   "cell_type": "code",
   "execution_count": null,
   "id": "30dd38f6-0705-4272-85ee-f20e6a309f9d",
   "metadata": {},
   "outputs": [],
   "source": [
    "def smooth(x,window_len=11,window='hanning'):\n",
    "    \"\"\"smooth the data using a window with requested size.\n",
    "    \n",
    "    This method is based on the convolution of a scaled window with the signal.\n",
    "    The signal is prepared by introducing reflected copies of the signal \n",
    "    (with the window size) in both ends so that transient parts are minimized\n",
    "    in the begining and end part of the output signal.\n",
    "    \n",
    "    input:\n",
    "        x: the input signal \n",
    "        window_len: the dimension of the smoothing window; should be an odd integer\n",
    "        window: the type of window from 'flat', 'hanning', 'hamming', 'bartlett', 'blackman'\n",
    "            flat window will produce a moving average smoothing.\n",
    "\n",
    "    output:\n",
    "        the smoothed signal\n",
    "        \n",
    "    example:\n",
    "\n",
    "    t=linspace(-2,2,0.1)\n",
    "    x=sin(t)+randn(len(t))*0.1\n",
    "    y=smooth(x)\n",
    "    \n",
    "    see also: \n",
    "    \n",
    "    numpy.hanning, numpy.hamming, numpy.bartlett, numpy.blackman, numpy.convolve\n",
    "    scipy.signal.lfilter\n",
    " \n",
    "    TODO: the window parameter could be the window itself if an array instead of a string\n",
    "    NOTE: length(output) != length(input), to correct this: return y[(window_len/2-1):-(window_len/2)] instead of just y.\n",
    "    \"\"\"\n",
    "\n",
    "    if x.ndim != 1:\n",
    "        raise(ValueError, \"smooth only accepts 1 dimension arrays.\")\n",
    "\n",
    "    if x.size < window_len:\n",
    "        raise(ValueError, \"Input vector needs to be bigger than window size.\")\n",
    "\n",
    "\n",
    "    if window_len<3:\n",
    "        return x\n",
    "\n",
    "\n",
    "    if not window in ['flat', 'hanning', 'hamming', 'bartlett', 'blackman']:\n",
    "        raise(ValueError, \"Window is on of 'flat', 'hanning', 'hamming', 'bartlett', 'blackman'\")\n",
    "    s=np.r_[x[window_len-1:0:-1],x,x[-2:-window_len-1:-1]]\n",
    " \n",
    "    if window == 'flat': #moving average\n",
    "        w=np.ones(window_len,'d')\n",
    "    else:\n",
    "        w=eval('np.'+window+'(window_len)')\n",
    "\n",
    "    y=np.convolve(w/w.sum(),s,mode='valid')\n",
    "   \n",
    "    \n",
    "    return y\n"
   ]
  },
  {
   "cell_type": "code",
   "execution_count": null,
   "id": "6ef69004-cc31-4a14-9519-8c5afe1ce14e",
   "metadata": {},
   "outputs": [],
   "source": [
    "np.convolve?"
   ]
  },
  {
   "cell_type": "code",
   "execution_count": null,
   "id": "be3be1d6-ab51-4f07-a870-7b0d7758aea8",
   "metadata": {},
   "outputs": [],
   "source": [
    "def continuum(x,y,N):\n",
    "    contin = np.convolve(y, np.ones((N,))/N, mode='valid')\n",
    "    x_new = np.linspace(x[0],x[-1],len(contin))        \n",
    "    return x_new,contin"
   ]
  },
  {
   "cell_type": "markdown",
   "id": "85f7c4c3-d53f-4c8f-8382-2f49e4a7b570",
   "metadata": {},
   "source": [
    "## Config "
   ]
  },
  {
   "cell_type": "code",
   "execution_count": null,
   "id": "f3d46d43-3bc0-4d14-a043-c7a98cae796b",
   "metadata": {},
   "outputs": [],
   "source": [
    "input_path = \"data_gaiaspectra\"\n",
    "input_file_h5  = 'GAIAspectra.hdf5'\n",
    "input_fullfile_h5 = os.path.join(input_path,input_file_h5)"
   ]
  },
  {
   "cell_type": "markdown",
   "id": "40e65347-98cd-4a40-b9aa-7055acc9e89a",
   "metadata": {},
   "source": [
    "## Read file"
   ]
  },
  {
   "cell_type": "code",
   "execution_count": null,
   "id": "f93aa0f4-68a0-490b-a318-bf65e3d146e0",
   "metadata": {},
   "outputs": [],
   "source": [
    "hf =  h5py.File(input_fullfile_h5, 'r') \n",
    "list_of_keys = list(hf.keys())"
   ]
  },
  {
   "cell_type": "code",
   "execution_count": null,
   "id": "dfa68880-29d7-429d-84af-e708db66c9e4",
   "metadata": {},
   "outputs": [],
   "source": [
    "# pick one key    \n",
    "key_sel =  list_of_keys[0]\n",
    "# pick one group\n",
    "group = hf.get(key_sel)  "
   ]
  },
  {
   "cell_type": "code",
   "execution_count": null,
   "id": "d412549f-02f5-4379-9ee3-fc3e06edaa47",
   "metadata": {},
   "outputs": [],
   "source": [
    "#pickup all attribute names\n",
    "all_subgroup_keys = []\n",
    "for k in group.attrs.keys():\n",
    "    all_subgroup_keys.append(k)"
   ]
  },
  {
   "cell_type": "code",
   "execution_count": null,
   "id": "81cdeb28-3a99-40a7-b600-53d5864ebf99",
   "metadata": {},
   "outputs": [],
   "source": [
    "def GetColumnHfData(hff,list_of_keys,nameval):\n",
    "    \"\"\"\n",
    "    Extract hff atttribute \n",
    "    \n",
    "    parameters\n",
    "      hff           : descriptor of h5 file\n",
    "      list_of_keys : list of exposures\n",
    "      nameval      : name of the attribute\n",
    "      \n",
    "    return\n",
    "           the array of values in the order of \n",
    "    \"\"\"\n",
    "    \n",
    "\n",
    "    all_data = []\n",
    "    for key in list_of_keys:\n",
    "        group=hff.get(key)\n",
    "        val=group.attrs[nameval]\n",
    "        all_data.append(val)\n",
    "    return all_data"
   ]
  },
  {
   "cell_type": "code",
   "execution_count": null,
   "id": "f252dfd4-38a5-4fcc-a198-f434f5d67e8d",
   "metadata": {},
   "outputs": [],
   "source": [
    "# create info\n",
    "df_info = pd.DataFrame()\n",
    "for key in all_subgroup_keys:\n",
    "    arr=GetColumnHfData(hf, list_of_keys ,key)\n",
    "    df_info[key] = arr"
   ]
  },
  {
   "cell_type": "code",
   "execution_count": null,
   "id": "5e351c3b-4d6a-4244-926f-eeec6c8c6dd2",
   "metadata": {},
   "outputs": [],
   "source": [
    "all_df = []  \n",
    "    \n",
    "idx=0\n",
    "for key in list_of_keys :\n",
    "        \n",
    "    group = hf.get(key)\n",
    "    df = pd.DataFrame()\n",
    "\n",
    "    df[\"WAVELENGTH\"] = np.array(group.get(\"WAVELENGTH\"))\n",
    "    df[\"FLUX\"] = np.array(group.get(\"FLUX\")) \n",
    "    df[\"STATERROR\"] = np.array(group.get(\"STATERROR\")) \n",
    "    df[\"SYSERROR\"] = np.array(group.get(\"SYSERROR\")) \n",
    " \n",
    "    all_df.append(df)\n",
    "        \n",
    "    idx+=1"
   ]
  },
  {
   "cell_type": "markdown",
   "id": "095644f0-3a42-4ec5-94a5-76a920396635",
   "metadata": {},
   "source": [
    "## Plot"
   ]
  },
  {
   "cell_type": "code",
   "execution_count": null,
   "id": "00420b8d-c1e7-4d0f-bf08-42f74f5ae27b",
   "metadata": {},
   "outputs": [],
   "source": [
    "def plotspec(tag,df):\n",
    "    \"\"\"\n",
    "    tag : name of the star to appear un title\n",
    "    df : dataframe for gaia\n",
    "    \"\"\"\n",
    "    \n",
    "    fig, ax = plt.subplots(1,1,figsize=(8,5))\n",
    "    leg = ax.get_legend()\n",
    "    title = \"gaia : \" + tag\n",
    "    df.plot(x=\"WAVELENGTH\",y=\"FLUX\",ax=ax,marker='.',color='r',legend=leg,label=\"gaia\")\n",
    "    ax.set_xlim(300.,1100.)\n",
    "    wl = df.WAVELENGTH\n",
    "    index_sel = np.where(np.logical_and(wl>300.,wl<1100.))[0]\n",
    "    fl = df.FLUX[index_sel]\n",
    "    flmax = np.max(fl)*1.2\n",
    "    ax.set_ylim(0.,flmax)    \n",
    "\n",
    "    ax.legend()\n",
    "    ax.set_xlabel(\"$\\\\lambda$ (nm)\")\n",
    "    ax.set_ylabel(\"Flux erg/cm$^2$/s/nm \")\n",
    "    ax.set_title(title)\n",
    "    plt.show()"
   ]
  },
  {
   "cell_type": "code",
   "execution_count": null,
   "id": "21d54312-90f4-47f2-94df-af902b04da04",
   "metadata": {},
   "outputs": [],
   "source": [
    "index = 0"
   ]
  },
  {
   "cell_type": "code",
   "execution_count": null,
   "id": "c912efca-a123-46f9-b5b7-c1d6297e4750",
   "metadata": {},
   "outputs": [],
   "source": [
    "row = df_info.iloc[index]"
   ]
  },
  {
   "cell_type": "code",
   "execution_count": null,
   "id": "4c114b71-1597-4b1f-962a-485b9d23d4ca",
   "metadata": {},
   "outputs": [],
   "source": [
    "hdname = row[\"HD_name\"]\n",
    "gaianame = row[\"GAIA_ED3_Name\"]\n",
    "tag = f\"{hdname}_{gaianame}\""
   ]
  },
  {
   "cell_type": "code",
   "execution_count": null,
   "id": "10759b86-7835-45bd-8faf-07571eb69ebf",
   "metadata": {},
   "outputs": [],
   "source": [
    "df = all_df[index]"
   ]
  },
  {
   "cell_type": "code",
   "execution_count": null,
   "id": "2dffd90d-7e0f-4af4-95d2-7357e7daf2e5",
   "metadata": {},
   "outputs": [],
   "source": [
    "plotspec(tag,df)"
   ]
  },
  {
   "cell_type": "markdown",
   "id": "abebddbf-0244-4016-bc5b-df160e4f012a",
   "metadata": {},
   "source": [
    "## Interpolate and smooth"
   ]
  },
  {
   "cell_type": "code",
   "execution_count": null,
   "id": "69ab8fd7-7d91-4df3-93d6-49177605eb95",
   "metadata": {},
   "outputs": [],
   "source": [
    "def plotspecinterpsmooth(tag,df,wli,fli,wls=[0],fls=[0],tau=0):\n",
    "    \"\"\"\n",
    "    tag : name of the star to appear un title\n",
    "    df : dataframe for gaia\n",
    "    \"\"\"\n",
    "    \n",
    "    fig, ax = plt.subplots(1,1,figsize=(8,5))\n",
    "    leg = ax.get_legend()\n",
    "    title = \"interpolation-gaia: \" + tag\n",
    "    df.plot(x=\"WAVELENGTH\",y=\"FLUX\",ax=ax,marker='.',color='b',legend=leg,label=\"gaia\")\n",
    "    ax.plot(wli,fli,\"g-.\",label=\"interpolation\",lw=2)\n",
    "    if len(wls) > 1:\n",
    "        ax.plot(wls,fls,\"r-\",label=f\"smoothed ({tau})\")\n",
    "    ax.set_xlim(300.,1100.)\n",
    "    wl = df.WAVELENGTH\n",
    "    index_sel = np.where(np.logical_and(wl>300.,wl<1100.))[0]\n",
    "    fl = df.FLUX[index_sel]\n",
    "    flmax = np.max(fl)*1.2\n",
    "    ax.set_ylim(0.,flmax)    \n",
    "\n",
    "    ax.legend()\n",
    "    ax.set_xlabel(\"$\\\\lambda$ (nm)\")\n",
    "    ax.set_ylabel(\"Flux erg/cm$^2$/s/nm \")\n",
    "    ax.set_title(title)\n",
    "    plt.show()"
   ]
  },
  {
   "cell_type": "code",
   "execution_count": null,
   "id": "9d0bfe96-3125-4b22-bd5f-47b710311e0a",
   "metadata": {},
   "outputs": [],
   "source": [
    "WL = np.arange(300.,1050.,1.)"
   ]
  },
  {
   "cell_type": "code",
   "execution_count": null,
   "id": "cdca04d7-37c9-47c0-99a0-7d8832092c41",
   "metadata": {},
   "outputs": [],
   "source": [
    "finterp = interp1d(df.WAVELENGTH, df.FLUX, kind = 'nearest',fill_value=\"extrapolate\")\n",
    "#finterp = CubicSpline(df.WAVELENGTH, df.FLUX, axis=0, bc_type='natural',extrapolate=True)"
   ]
  },
  {
   "cell_type": "code",
   "execution_count": null,
   "id": "9310d5e6-b677-43a3-88d4-da5a43486e62",
   "metadata": {},
   "outputs": [],
   "source": [
    "plotspecinterpsmooth(tag,df,WL,finterp(WL))"
   ]
  },
  {
   "cell_type": "markdown",
   "id": "ef47d270-4a2d-4aac-a822-27ff90940790",
   "metadata": {},
   "source": [
    "### Smooth"
   ]
  },
  {
   "cell_type": "code",
   "execution_count": null,
   "id": "acf45d8c-3e7c-4079-8f0e-3fa9e284253a",
   "metadata": {},
   "outputs": [],
   "source": [
    "sm_const = 35\n",
    "#WL_sm,fl_sm = continuum(WL,finterp(WL),sm_const)\n",
    "\n",
    "fl_sm = smooth(finterp(WL),window_len=sm_const,window=\"hanning\")\n",
    "WL_sm = smooth(WL,window_len=sm_const,window=\"hanning\")"
   ]
  },
  {
   "cell_type": "code",
   "execution_count": null,
   "id": "8c70f515-37bc-4f50-8ec5-46eccc576df4",
   "metadata": {},
   "outputs": [],
   "source": [
    "plotspecinterpsmooth(tag,df,WL,finterp(WL),WL_sm,fl_sm,tau=sm_const) "
   ]
  },
  {
   "cell_type": "code",
   "execution_count": null,
   "id": "076af272-881a-4f29-9aa1-62357ea1d90d",
   "metadata": {},
   "outputs": [],
   "source": []
  }
 ],
 "metadata": {
  "kernelspec": {
   "display_name": "conda_py310",
   "language": "python",
   "name": "conda_py310"
  },
  "language_info": {
   "codemirror_mode": {
    "name": "ipython",
    "version": 3
   },
   "file_extension": ".py",
   "mimetype": "text/x-python",
   "name": "python",
   "nbconvert_exporter": "python",
   "pygments_lexer": "ipython3",
   "version": "3.10.12"
  }
 },
 "nbformat": 4,
 "nbformat_minor": 5
}
