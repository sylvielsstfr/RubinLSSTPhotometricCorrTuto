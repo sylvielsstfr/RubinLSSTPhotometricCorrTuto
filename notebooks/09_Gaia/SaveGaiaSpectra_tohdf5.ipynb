{
 "cells": [
  {
   "cell_type": "markdown",
   "id": "ad5a3ac3-1d31-4599-995b-fc544a7da5ae",
   "metadata": {},
   "source": [
    "# Save Gaia spectra in hdf5 file"
   ]
  },
  {
   "cell_type": "markdown",
   "id": "ac5107e7-d490-4e81-9296-6bfb7af6dce4",
   "metadata": {},
   "source": [
    "- author Sylvie Dagoret-Campagne\n",
    "- affiliation IJCLab\n",
    "- creation date : 2024/10/04\n",
    "- update : 2024/10/04 : write spectra\n",
    "- last update : 2024/10/05 : convert flux in erg/cm2/s/nm"
   ]
  },
  {
   "cell_type": "markdown",
   "id": "258fb1b3-0daf-4dbe-971a-247c8a92d4f2",
   "metadata": {},
   "source": [
    "- Inspried from : https://github.com/JospehCeh/PhotoZ_PhD/blob/u/dagoret/StudyFors2SED/convertFors2spectratohdf5.ipynb"
   ]
  },
  {
   "cell_type": "code",
   "execution_count": null,
   "id": "1edbe7f0-c493-4659-8949-c17da1b52dfc",
   "metadata": {
    "execution": {
     "iopub.execute_input": "2024-10-05T18:00:02.528603Z",
     "iopub.status.busy": "2024-10-05T18:00:02.528478Z",
     "iopub.status.idle": "2024-10-05T18:00:03.252697Z",
     "shell.execute_reply": "2024-10-05T18:00:03.252342Z",
     "shell.execute_reply.started": "2024-10-05T18:00:02.528590Z"
    },
    "tags": []
   },
   "outputs": [],
   "source": [
    "import numpy as np\n",
    "import matplotlib.pyplot as plt\n",
    "%matplotlib inline\n",
    "import matplotlib as mpl\n",
    "import matplotlib.colors as colors\n",
    "import matplotlib.cm as cmx\n",
    "from mpl_toolkits.axes_grid1 import make_axes_locatable\n",
    "from matplotlib.colors import LogNorm\n",
    "from matplotlib.gridspec import GridSpec\n",
    "import pandas as pd\n",
    "\n",
    "import matplotlib.ticker                         # here's where the formatter is\n",
    "import os,sys\n",
    "import re\n",
    "import pandas as pd\n",
    "\n",
    "from astropy.io import fits\n",
    "from astropy import units as u\n",
    "from astropy import constants as c\n",
    "\n",
    "plt.rcParams[\"figure.figsize\"] = (8,6)\n",
    "plt.rcParams[\"axes.labelsize\"] = 'xx-large'\n",
    "plt.rcParams['axes.titlesize'] = 'xx-large'\n",
    "plt.rcParams['xtick.labelsize']= 'xx-large'\n",
    "plt.rcParams['ytick.labelsize']= 'xx-large'\n",
    "\n",
    "import pickle\n",
    "from scipy.interpolate import RegularGridInterpolator\n",
    "import h5py"
   ]
  },
  {
   "cell_type": "code",
   "execution_count": null,
   "id": "faed402e-c407-49d4-b992-a8728eaf15c9",
   "metadata": {
    "execution": {
     "iopub.execute_input": "2024-10-05T18:00:03.253478Z",
     "iopub.status.busy": "2024-10-05T18:00:03.253212Z",
     "iopub.status.idle": "2024-10-05T18:00:03.255618Z",
     "shell.execute_reply": "2024-10-05T18:00:03.255333Z",
     "shell.execute_reply.started": "2024-10-05T18:00:03.253465Z"
    }
   },
   "outputs": [],
   "source": [
    "pd.set_option('display.max_columns', 500)"
   ]
  },
  {
   "cell_type": "code",
   "execution_count": null,
   "id": "ce04b895-01a2-4112-aa2c-8953f6a0caee",
   "metadata": {
    "execution": {
     "iopub.execute_input": "2024-10-05T18:00:03.256163Z",
     "iopub.status.busy": "2024-10-05T18:00:03.256043Z",
     "iopub.status.idle": "2024-10-05T18:00:03.260770Z",
     "shell.execute_reply": "2024-10-05T18:00:03.260488Z",
     "shell.execute_reply.started": "2024-10-05T18:00:03.256151Z"
    },
    "tags": []
   },
   "outputs": [],
   "source": [
    "machine_name = os.uname().nodename\n",
    "path_rubinsimphot = \"repos/repos_w_2024_38/rubinsimphot/src\"\n",
    "if 'sdf' in machine_name:\n",
    "    #machine_name_usdf = 'sdfrome001'\n",
    "    print(\"Set environment for USDF\")\n",
    "    newpythonpath = os.path.join(os.getenv(\"HOME\"),path_rubinsimphot)\n",
    "    sys.path.append(newpythonpath)\n",
    "elif 'dagoret-nb' in machine_name:\n",
    "    print(\"Set environment for USDF Rubin Science Platform\")\n",
    "    newpythonpath = os.path.join(os.getenv(\"HOME\"),path_rubinsimphot)\n",
    "    sys.path.append(newpythonpath)    \n",
    "elif 'mac' in machine_name:\n",
    "    print(\"Be sure to run this notebook in conda environment named conda_py310\")\n",
    "else:\n",
    "    print(f\"Your current machine name is {machine_name}. Check your python environment\")"
   ]
  },
  {
   "cell_type": "markdown",
   "id": "85f7c4c3-d53f-4c8f-8382-2f49e4a7b570",
   "metadata": {},
   "source": [
    "## Config "
   ]
  },
  {
   "cell_type": "code",
   "execution_count": null,
   "id": "fd140ca9-9abe-4a1f-9e07-4505b5d50468",
   "metadata": {
    "execution": {
     "iopub.execute_input": "2024-10-05T18:00:03.262136Z",
     "iopub.status.busy": "2024-10-05T18:00:03.261998Z",
     "iopub.status.idle": "2024-10-05T18:00:03.264424Z",
     "shell.execute_reply": "2024-10-05T18:00:03.264147Z",
     "shell.execute_reply.started": "2024-10-05T18:00:03.262122Z"
    }
   },
   "outputs": [],
   "source": [
    "cat_fn = \"calspec_v2.csv\""
   ]
  },
  {
   "cell_type": "code",
   "execution_count": null,
   "id": "26b4fa86-7aa3-4165-bcb2-04cf735ad830",
   "metadata": {
    "execution": {
     "iopub.execute_input": "2024-10-05T18:00:03.264969Z",
     "iopub.status.busy": "2024-10-05T18:00:03.264847Z",
     "iopub.status.idle": "2024-10-05T18:00:03.267305Z",
     "shell.execute_reply": "2024-10-05T18:00:03.267028Z",
     "shell.execute_reply.started": "2024-10-05T18:00:03.264957Z"
    },
    "tags": []
   },
   "outputs": [],
   "source": [
    "list_of_targets = [\"HD111235\",\"HD144334\",\"HD73495\",\"HD165763\"] "
   ]
  },
  {
   "cell_type": "code",
   "execution_count": null,
   "id": "f6e83722-ceb7-437d-8484-2abc723e28ee",
   "metadata": {
    "execution": {
     "iopub.execute_input": "2024-10-05T18:00:03.267817Z",
     "iopub.status.busy": "2024-10-05T18:00:03.267702Z",
     "iopub.status.idle": "2024-10-05T18:00:03.271493Z",
     "shell.execute_reply": "2024-10-05T18:00:03.271218Z",
     "shell.execute_reply.started": "2024-10-05T18:00:03.267806Z"
    }
   },
   "outputs": [],
   "source": [
    "FLAG_PLOT = False\n",
    "FLAG_SAVEHDF5 = True"
   ]
  },
  {
   "cell_type": "code",
   "execution_count": null,
   "id": "576d7e81-1b9d-43ac-a02b-0cd81701a4c4",
   "metadata": {
    "execution": {
     "iopub.execute_input": "2024-10-05T18:00:03.272004Z",
     "iopub.status.busy": "2024-10-05T18:00:03.271890Z",
     "iopub.status.idle": "2024-10-05T18:00:03.275076Z",
     "shell.execute_reply": "2024-10-05T18:00:03.274800Z",
     "shell.execute_reply.started": "2024-10-05T18:00:03.271993Z"
    }
   },
   "outputs": [],
   "source": [
    "output_path = \"data_gaiaspectra\"\n",
    "output_file_h5  = 'GAIAspectra.hdf5'\n",
    "output_fullfile_h5 = os.path.join(output_path,output_file_h5)"
   ]
  },
  {
   "cell_type": "code",
   "execution_count": null,
   "id": "12ba0aa5-6c02-41ff-8e7b-dfddf80a090a",
   "metadata": {
    "execution": {
     "iopub.execute_input": "2024-10-05T18:00:03.275583Z",
     "iopub.status.busy": "2024-10-05T18:00:03.275469Z",
     "iopub.status.idle": "2024-10-05T18:00:03.279119Z",
     "shell.execute_reply": "2024-10-05T18:00:03.278851Z",
     "shell.execute_reply.started": "2024-10-05T18:00:03.275571Z"
    }
   },
   "outputs": [],
   "source": [
    "if not os.path.exists(output_path):\n",
    "    os.mkdir(output_path)"
   ]
  },
  {
   "cell_type": "markdown",
   "id": "3928a3c2-ffbf-4e71-8d62-fcab643c4696",
   "metadata": {},
   "source": [
    "## Read catalog"
   ]
  },
  {
   "cell_type": "code",
   "execution_count": null,
   "id": "ae8ff3b1-e951-499b-b8c1-7b5be3c9f0c3",
   "metadata": {
    "execution": {
     "iopub.execute_input": "2024-10-05T18:00:03.279770Z",
     "iopub.status.busy": "2024-10-05T18:00:03.279557Z",
     "iopub.status.idle": "2024-10-05T18:00:03.296435Z",
     "shell.execute_reply": "2024-10-05T18:00:03.296153Z",
     "shell.execute_reply.started": "2024-10-05T18:00:03.279758Z"
    }
   },
   "outputs": [],
   "source": [
    "df = pd.read_csv(cat_fn,index_col=0)\n",
    "df[\"GAIA_ED3_Name\"] = df[\"GAIA_ED3_Name\"].astype('Int64')\n",
    "df"
   ]
  },
  {
   "cell_type": "code",
   "execution_count": null,
   "id": "7f2a9d52-fb13-4059-9a3a-8ddcd1902862",
   "metadata": {
    "execution": {
     "iopub.execute_input": "2024-10-05T18:00:03.296956Z",
     "iopub.status.busy": "2024-10-05T18:00:03.296832Z",
     "iopub.status.idle": "2024-10-05T18:00:03.301336Z",
     "shell.execute_reply": "2024-10-05T18:00:03.300954Z",
     "shell.execute_reply.started": "2024-10-05T18:00:03.296945Z"
    }
   },
   "outputs": [],
   "source": [
    "for target in list_of_targets:\n",
    "    row = df[df.HD_name == target]\n",
    "    print(row)"
   ]
  },
  {
   "cell_type": "code",
   "execution_count": null,
   "id": "a72d465a-96ad-4f70-b347-d0373075abb9",
   "metadata": {
    "execution": {
     "iopub.execute_input": "2024-10-05T18:00:03.301828Z",
     "iopub.status.busy": "2024-10-05T18:00:03.301715Z",
     "iopub.status.idle": "2024-10-05T18:00:03.305515Z",
     "shell.execute_reply": "2024-10-05T18:00:03.305236Z",
     "shell.execute_reply.started": "2024-10-05T18:00:03.301818Z"
    }
   },
   "outputs": [],
   "source": [
    "df_s = df[[\"HD_name\",\"GAIA_ED3_Name\"]]"
   ]
  },
  {
   "cell_type": "code",
   "execution_count": null,
   "id": "87cc2421-6960-43be-adbd-eb5b5315fd03",
   "metadata": {
    "execution": {
     "iopub.execute_input": "2024-10-05T18:00:03.306039Z",
     "iopub.status.busy": "2024-10-05T18:00:03.305925Z",
     "iopub.status.idle": "2024-10-05T18:00:03.309830Z",
     "shell.execute_reply": "2024-10-05T18:00:03.309561Z",
     "shell.execute_reply.started": "2024-10-05T18:00:03.306028Z"
    }
   },
   "outputs": [],
   "source": [
    "df_s = df_s.dropna(axis=0)"
   ]
  },
  {
   "cell_type": "code",
   "execution_count": null,
   "id": "84b39bbd-c14c-4992-8f52-c678b9b91c3d",
   "metadata": {
    "execution": {
     "iopub.execute_input": "2024-10-05T18:00:03.310491Z",
     "iopub.status.busy": "2024-10-05T18:00:03.310268Z",
     "iopub.status.idle": "2024-10-05T18:00:03.312739Z",
     "shell.execute_reply": "2024-10-05T18:00:03.312470Z",
     "shell.execute_reply.started": "2024-10-05T18:00:03.310479Z"
    }
   },
   "outputs": [],
   "source": [
    "list_of_gaia_ids = df_s.GAIA_ED3_Name.unique()"
   ]
  },
  {
   "cell_type": "code",
   "execution_count": null,
   "id": "8d29c76e-8b33-40a0-9b4b-b09d934aaafe",
   "metadata": {
    "execution": {
     "iopub.execute_input": "2024-10-05T18:00:03.313252Z",
     "iopub.status.busy": "2024-10-05T18:00:03.313138Z",
     "iopub.status.idle": "2024-10-05T18:00:03.316792Z",
     "shell.execute_reply": "2024-10-05T18:00:03.316525Z",
     "shell.execute_reply.started": "2024-10-05T18:00:03.313241Z"
    }
   },
   "outputs": [],
   "source": [
    "list_of_gaia_ids = list_of_gaia_ids[~np.isnan(list_of_gaia_ids)]"
   ]
  },
  {
   "cell_type": "code",
   "execution_count": null,
   "id": "b3bf6729-e4d1-4873-b7fa-87204764fb89",
   "metadata": {
    "execution": {
     "iopub.execute_input": "2024-10-05T18:00:03.317303Z",
     "iopub.status.busy": "2024-10-05T18:00:03.317190Z",
     "iopub.status.idle": "2024-10-05T18:00:03.320405Z",
     "shell.execute_reply": "2024-10-05T18:00:03.320109Z",
     "shell.execute_reply.started": "2024-10-05T18:00:03.317292Z"
    }
   },
   "outputs": [],
   "source": [
    "list_of_gaia_ids = list_of_gaia_ids.astype(int)"
   ]
  },
  {
   "cell_type": "code",
   "execution_count": null,
   "id": "fb4ad23d-c811-4ca6-985b-d34b234e0a05",
   "metadata": {
    "execution": {
     "iopub.execute_input": "2024-10-05T18:00:03.321004Z",
     "iopub.status.busy": "2024-10-05T18:00:03.320789Z",
     "iopub.status.idle": "2024-10-05T18:00:03.327173Z",
     "shell.execute_reply": "2024-10-05T18:00:03.326905Z",
     "shell.execute_reply.started": "2024-10-05T18:00:03.320992Z"
    }
   },
   "outputs": [],
   "source": [
    "list_of_gaia_ids"
   ]
  },
  {
   "cell_type": "code",
   "execution_count": null,
   "id": "f82497d0-91fe-4738-b3b7-33883f827141",
   "metadata": {
    "execution": {
     "iopub.execute_input": "2024-10-05T18:00:03.327689Z",
     "iopub.status.busy": "2024-10-05T18:00:03.327574Z",
     "iopub.status.idle": "2024-10-05T18:00:04.362274Z",
     "shell.execute_reply": "2024-10-05T18:00:04.361815Z",
     "shell.execute_reply.started": "2024-10-05T18:00:03.327678Z"
    }
   },
   "outputs": [],
   "source": [
    "try:\n",
    "    from gaiaspec import getGaia\n",
    "except ModuleNotFoundError:\n",
    "    getGaia = None"
   ]
  },
  {
   "cell_type": "markdown",
   "id": "75c8aee7-6ca0-4eab-b9ae-dfa0b38d8840",
   "metadata": {},
   "source": [
    "## Check the correspondence of names"
   ]
  },
  {
   "cell_type": "code",
   "execution_count": null,
   "id": "696f0b6b-4269-440d-b741-7d3a283b9e04",
   "metadata": {
    "execution": {
     "iopub.execute_input": "2024-10-05T18:00:04.363174Z",
     "iopub.status.busy": "2024-10-05T18:00:04.362907Z",
     "iopub.status.idle": "2024-10-05T18:00:04.369105Z",
     "shell.execute_reply": "2024-10-05T18:00:04.368689Z",
     "shell.execute_reply.started": "2024-10-05T18:00:04.363161Z"
    }
   },
   "outputs": [],
   "source": [
    "df_s.reset_index(drop=True, inplace=True)\n",
    "df_s['GAIA_ED3_Name']= df_s['GAIA_ED3_Name'].astype('Int64')\n",
    "df_s"
   ]
  },
  {
   "cell_type": "markdown",
   "id": "b93a0014-19bb-4e4a-bccf-7e0bcaf27634",
   "metadata": {},
   "source": [
    "## Extract all the spectra"
   ]
  },
  {
   "cell_type": "code",
   "execution_count": null,
   "id": "5f12ffcd-6d62-43b8-9a63-59c5430eba60",
   "metadata": {
    "execution": {
     "iopub.execute_input": "2024-10-05T18:00:04.371831Z",
     "iopub.status.busy": "2024-10-05T18:00:04.371500Z",
     "iopub.status.idle": "2024-10-05T18:00:22.508893Z",
     "shell.execute_reply": "2024-10-05T18:00:22.508315Z",
     "shell.execute_reply.started": "2024-10-05T18:00:04.371812Z"
    }
   },
   "outputs": [],
   "source": [
    "all_gaia = [] # container for gaia object\n",
    "all_spec = [] # container for gaia spectra spectra\n",
    "all_row = [] # container for info on \n",
    "for idx,hd_name in enumerate(df_s.HD_name.values):\n",
    "    row = df[df[\"HD_name\"] == hd_name]\n",
    "    gaianum = getGaia.get_gaia_name_from_star_name(hd_name)\n",
    "    print(hd_name, gaianum)\n",
    "    g = getGaia.Gaia(hd_name)\n",
    "    try:\n",
    "        #spec_dict = getGaia.get_gaia_from_query_id(gaianum)\n",
    "        spec_dict = g.get_spectrum_numpy(hd_name)\n",
    "        all_spec.append(spec_dict)\n",
    "        all_gaia.append(g)\n",
    "        all_row.append(row)\n",
    "        #pass\n",
    "    except Exception as inst:\n",
    "        print(type(inst))    # the exception type\n",
    "        print(inst.args)     # arguments stored in .args\n",
    "        print(inst)          # __str__ allows args to be printed directly,\n",
    "                         # but may be overridden in exception subclasses\n",
    "        #x, y = inst.args     # unpack args\n",
    "        #print('x =', x)\n",
    "        #print('y =', y)\n",
    "    \n",
    "N = len(all_gaia)"
   ]
  },
  {
   "cell_type": "code",
   "execution_count": null,
   "id": "538dad99-6855-4317-b3fc-87b83efa9016",
   "metadata": {
    "execution": {
     "iopub.execute_input": "2024-10-05T18:00:22.509692Z",
     "iopub.status.busy": "2024-10-05T18:00:22.509550Z",
     "iopub.status.idle": "2024-10-05T18:00:22.512410Z",
     "shell.execute_reply": "2024-10-05T18:00:22.511943Z",
     "shell.execute_reply.started": "2024-10-05T18:00:22.509679Z"
    }
   },
   "outputs": [],
   "source": [
    "if FLAG_PLOT:\n",
    "    for idx,star_gaia in enumerate(all_gaia):  \n",
    "        star_gaia.plot_spectrum(xscale='linear', yscale='linear') "
   ]
  },
  {
   "cell_type": "markdown",
   "id": "193180aa-729d-4238-b256-cb84c87f8f7a",
   "metadata": {},
   "source": [
    "## Save spectra in files\n",
    "- example TO WRITE : https://github.com/JospehCeh/PhotoZ_PhD/blob/u/dagoret/StudyFors2SED/convertFors2spectratohdf5.ipynb\n",
    "- example TO READ : https://github.com/JospehCeh/PhotoZ_PhD/blob/u/dagoret/StudyFors2SED/ReadFors2spectrafromh5.ipynb"
   ]
  },
  {
   "cell_type": "code",
   "execution_count": null,
   "id": "3c4a1cd6-8f07-477b-8eb7-1481a28a2dc5",
   "metadata": {
    "execution": {
     "iopub.execute_input": "2024-10-05T18:00:22.513093Z",
     "iopub.status.busy": "2024-10-05T18:00:22.512971Z",
     "iopub.status.idle": "2024-10-05T18:00:22.649665Z",
     "shell.execute_reply": "2024-10-05T18:00:22.649105Z",
     "shell.execute_reply.started": "2024-10-05T18:00:22.513082Z"
    }
   },
   "outputs": [],
   "source": [
    "if FLAG_SAVEHDF5:\n",
    "\n",
    "    hf_outfile =  h5py.File(output_fullfile_h5, 'w') \n",
    "    for idx,star_gaia in enumerate(all_gaia):  \n",
    "        the_row = all_row[idx]\n",
    "        the_spec = all_spec[idx]\n",
    "        hdname = the_row[\"HD_name\"].values[0]\n",
    "        gaianame = the_row[\"GAIA_ED3_Name\"].values[0]\n",
    "        tag = f\"{hdname}_{gaianame}\"\n",
    "        print(tag)\n",
    "        h5group = hf_outfile.create_group(tag)\n",
    "        # save attributes\n",
    "        for colname in list(the_row.columns):\n",
    "            #print(colname)\n",
    "            h5group.attrs[colname] = the_row[colname].values[0]\n",
    "        #print(the_spec.keys())\n",
    "        #print(the_spec['WAVELENGTH'])\n",
    "        #print(the_spec['FLUX'])\n",
    "        #print(the_spec['STATERROR'])\n",
    "        #print(the_spec['SYSERROR'])\n",
    "\n",
    "        # wavelength in nm in gaia\n",
    "        # convert in erg/cm2/nm\n",
    "        gwl = the_spec['WAVELENGTH'].to(u.nm)\n",
    "        gfluxdata = the_spec['FLUX'].to(u.erg/(u.cm)**2/u.s/u.nm, equivalencies=u.spectral())\n",
    "        gfluxstaterr = the_spec['STATERROR'].to(u.erg/(u.cm)**2/u.s/u.nm, equivalencies=u.spectral())\n",
    "        gfluxsyserr = np.sqrt(the_spec['SYSERROR']).to(u.erg/(u.cm)**2/u.s/u.nm, equivalencies=u.spectral())\n",
    "\n",
    "        \n",
    "        # save the arrays\n",
    "        d = h5group.create_dataset(\"WAVELENGTH\",data=gwl,compression=\"gzip\", compression_opts=9)\n",
    "        d = h5group.create_dataset(\"FLUX\",data=gfluxdata,compression=\"gzip\", compression_opts=9)\n",
    "        d = h5group.create_dataset(\"STATERROR\",data=gfluxstaterr,compression=\"gzip\", compression_opts=9)\n",
    "        d = h5group.create_dataset(\"SYSERROR\",data=gfluxsyserr,compression=\"gzip\", compression_opts=9)\n",
    "\n",
    "        "
   ]
  },
  {
   "cell_type": "code",
   "execution_count": null,
   "id": "6e8f5351-ef6c-4d80-b92a-90c851fc9653",
   "metadata": {
    "execution": {
     "iopub.execute_input": "2024-10-05T18:00:22.650405Z",
     "iopub.status.busy": "2024-10-05T18:00:22.650273Z",
     "iopub.status.idle": "2024-10-05T18:00:22.652794Z",
     "shell.execute_reply": "2024-10-05T18:00:22.652324Z",
     "shell.execute_reply.started": "2024-10-05T18:00:22.650393Z"
    }
   },
   "outputs": [],
   "source": [
    "if FLAG_SAVEHDF5:\n",
    "    hf_outfile.keys()"
   ]
  },
  {
   "cell_type": "code",
   "execution_count": null,
   "id": "7bc9150b-89b4-488a-a54f-880e26940045",
   "metadata": {
    "execution": {
     "iopub.execute_input": "2024-10-05T18:00:22.653473Z",
     "iopub.status.busy": "2024-10-05T18:00:22.653349Z",
     "iopub.status.idle": "2024-10-05T18:00:22.661795Z",
     "shell.execute_reply": "2024-10-05T18:00:22.661282Z",
     "shell.execute_reply.started": "2024-10-05T18:00:22.653461Z"
    }
   },
   "outputs": [],
   "source": [
    "if FLAG_SAVEHDF5:\n",
    "    hf_outfile.close() "
   ]
  },
  {
   "cell_type": "code",
   "execution_count": null,
   "id": "511cb2f5-ea78-4857-ba98-f021ce597133",
   "metadata": {},
   "outputs": [],
   "source": []
  }
 ],
 "metadata": {
  "kernelspec": {
   "display_name": "LSST",
   "language": "python",
   "name": "lsst"
  },
  "language_info": {
   "codemirror_mode": {
    "name": "ipython",
    "version": 3
   },
   "file_extension": ".py",
   "mimetype": "text/x-python",
   "name": "python",
   "nbconvert_exporter": "python",
   "pygments_lexer": "ipython3",
   "version": "3.11.9"
  }
 },
 "nbformat": 4,
 "nbformat_minor": 5
}
