{
 "cells": [
  {
   "cell_type": "markdown",
   "id": "ad5a3ac3-1d31-4599-995b-fc544a7da5ae",
   "metadata": {},
   "source": [
    "# Save Gaia spectra in hdf5 file"
   ]
  },
  {
   "cell_type": "markdown",
   "id": "ac5107e7-d490-4e81-9296-6bfb7af6dce4",
   "metadata": {},
   "source": [
    "- author Sylvie Dagoret-Campagne\n",
    "- affiliation IJCLab\n",
    "- creation date : 2024/10/04\n",
    "- update : 2024/10/04 : write spectra"
   ]
  },
  {
   "cell_type": "markdown",
   "id": "258fb1b3-0daf-4dbe-971a-247c8a92d4f2",
   "metadata": {},
   "source": [
    "- Inspried from : https://github.com/JospehCeh/PhotoZ_PhD/blob/u/dagoret/StudyFors2SED/convertFors2spectratohdf5.ipynb"
   ]
  },
  {
   "cell_type": "code",
   "execution_count": null,
   "id": "1edbe7f0-c493-4659-8949-c17da1b52dfc",
   "metadata": {
    "execution": {
     "iopub.execute_input": "2024-10-04T07:57:25.257681Z",
     "iopub.status.busy": "2024-10-04T07:57:25.257564Z",
     "iopub.status.idle": "2024-10-04T07:57:25.991622Z",
     "shell.execute_reply": "2024-10-04T07:57:25.991237Z",
     "shell.execute_reply.started": "2024-10-04T07:57:25.257669Z"
    },
    "tags": []
   },
   "outputs": [],
   "source": [
    "import numpy as np\n",
    "import matplotlib.pyplot as plt\n",
    "%matplotlib inline\n",
    "import matplotlib as mpl\n",
    "import matplotlib.colors as colors\n",
    "import matplotlib.cm as cmx\n",
    "from mpl_toolkits.axes_grid1 import make_axes_locatable\n",
    "from matplotlib.colors import LogNorm\n",
    "from matplotlib.gridspec import GridSpec\n",
    "import pandas as pd\n",
    "\n",
    "import matplotlib.ticker                         # here's where the formatter is\n",
    "import os,sys\n",
    "import re\n",
    "import pandas as pd\n",
    "\n",
    "from astropy.io import fits\n",
    "from astropy import units as u\n",
    "from astropy import constants as c\n",
    "\n",
    "plt.rcParams[\"figure.figsize\"] = (8,6)\n",
    "plt.rcParams[\"axes.labelsize\"] = 'xx-large'\n",
    "plt.rcParams['axes.titlesize'] = 'xx-large'\n",
    "plt.rcParams['xtick.labelsize']= 'xx-large'\n",
    "plt.rcParams['ytick.labelsize']= 'xx-large'\n",
    "\n",
    "import pickle\n",
    "from scipy.interpolate import RegularGridInterpolator\n",
    "import h5py"
   ]
  },
  {
   "cell_type": "code",
   "execution_count": null,
   "id": "faed402e-c407-49d4-b992-a8728eaf15c9",
   "metadata": {
    "execution": {
     "iopub.execute_input": "2024-10-04T07:57:25.992453Z",
     "iopub.status.busy": "2024-10-04T07:57:25.992171Z",
     "iopub.status.idle": "2024-10-04T07:57:25.994727Z",
     "shell.execute_reply": "2024-10-04T07:57:25.994438Z",
     "shell.execute_reply.started": "2024-10-04T07:57:25.992438Z"
    }
   },
   "outputs": [],
   "source": [
    "pd.set_option('display.max_columns', 500)"
   ]
  },
  {
   "cell_type": "code",
   "execution_count": null,
   "id": "ce04b895-01a2-4112-aa2c-8953f6a0caee",
   "metadata": {
    "execution": {
     "iopub.execute_input": "2024-10-04T07:57:25.995300Z",
     "iopub.status.busy": "2024-10-04T07:57:25.995178Z",
     "iopub.status.idle": "2024-10-04T07:57:26.000073Z",
     "shell.execute_reply": "2024-10-04T07:57:25.999799Z",
     "shell.execute_reply.started": "2024-10-04T07:57:25.995288Z"
    },
    "tags": []
   },
   "outputs": [],
   "source": [
    "machine_name = os.uname().nodename\n",
    "path_rubinsimphot = \"repos/repos_w_2024_38/rubinsimphot/src\"\n",
    "if 'sdf' in machine_name:\n",
    "    #machine_name_usdf = 'sdfrome001'\n",
    "    print(\"Set environment for USDF\")\n",
    "    newpythonpath = os.path.join(os.getenv(\"HOME\"),path_rubinsimphot)\n",
    "    sys.path.append(newpythonpath)\n",
    "elif 'dagoret-nb' in machine_name:\n",
    "    print(\"Set environment for USDF Rubin Science Platform\")\n",
    "    newpythonpath = os.path.join(os.getenv(\"HOME\"),path_rubinsimphot)\n",
    "    sys.path.append(newpythonpath)    \n",
    "elif 'mac' in machine_name:\n",
    "    print(\"Be sure to run this notebook in conda environment named conda_py310\")\n",
    "else:\n",
    "    print(f\"Your current machine name is {machine_name}. Check your python environment\")"
   ]
  },
  {
   "cell_type": "markdown",
   "id": "85f7c4c3-d53f-4c8f-8382-2f49e4a7b570",
   "metadata": {},
   "source": [
    "## Config "
   ]
  },
  {
   "cell_type": "code",
   "execution_count": null,
   "id": "fd140ca9-9abe-4a1f-9e07-4505b5d50468",
   "metadata": {
    "execution": {
     "iopub.execute_input": "2024-10-04T07:57:26.001439Z",
     "iopub.status.busy": "2024-10-04T07:57:26.001315Z",
     "iopub.status.idle": "2024-10-04T07:57:26.004093Z",
     "shell.execute_reply": "2024-10-04T07:57:26.003828Z",
     "shell.execute_reply.started": "2024-10-04T07:57:26.001427Z"
    }
   },
   "outputs": [],
   "source": [
    "cat_fn = \"calspec_v2.csv\""
   ]
  },
  {
   "cell_type": "code",
   "execution_count": null,
   "id": "26b4fa86-7aa3-4165-bcb2-04cf735ad830",
   "metadata": {
    "execution": {
     "iopub.execute_input": "2024-10-04T07:57:26.004615Z",
     "iopub.status.busy": "2024-10-04T07:57:26.004496Z",
     "iopub.status.idle": "2024-10-04T07:57:26.007799Z",
     "shell.execute_reply": "2024-10-04T07:57:26.007526Z",
     "shell.execute_reply.started": "2024-10-04T07:57:26.004603Z"
    },
    "tags": []
   },
   "outputs": [],
   "source": [
    "list_of_targets = [\"HD111235\",\"HD144334\",\"HD73495\",\"HD165763\"] "
   ]
  },
  {
   "cell_type": "code",
   "execution_count": null,
   "id": "f6e83722-ceb7-437d-8484-2abc723e28ee",
   "metadata": {
    "execution": {
     "iopub.execute_input": "2024-10-04T07:57:26.008310Z",
     "iopub.status.busy": "2024-10-04T07:57:26.008197Z",
     "iopub.status.idle": "2024-10-04T07:57:26.012023Z",
     "shell.execute_reply": "2024-10-04T07:57:26.011750Z",
     "shell.execute_reply.started": "2024-10-04T07:57:26.008299Z"
    }
   },
   "outputs": [],
   "source": [
    "FLAG_PLOT = False\n",
    "FLAG_SAVEHDF5 = True"
   ]
  },
  {
   "cell_type": "code",
   "execution_count": null,
   "id": "576d7e81-1b9d-43ac-a02b-0cd81701a4c4",
   "metadata": {
    "execution": {
     "iopub.execute_input": "2024-10-04T07:57:26.012532Z",
     "iopub.status.busy": "2024-10-04T07:57:26.012419Z",
     "iopub.status.idle": "2024-10-04T07:57:26.014967Z",
     "shell.execute_reply": "2024-10-04T07:57:26.014706Z",
     "shell.execute_reply.started": "2024-10-04T07:57:26.012521Z"
    }
   },
   "outputs": [],
   "source": [
    "output_path = \"data_gaiaspectra\"\n",
    "output_file_h5  = 'GAIAspectra.hdf5'\n",
    "output_fullfile_h5 = os.path.join(output_path,output_file_h5)"
   ]
  },
  {
   "cell_type": "code",
   "execution_count": null,
   "id": "12ba0aa5-6c02-41ff-8e7b-dfddf80a090a",
   "metadata": {
    "execution": {
     "iopub.execute_input": "2024-10-04T07:57:26.015645Z",
     "iopub.status.busy": "2024-10-04T07:57:26.015383Z",
     "iopub.status.idle": "2024-10-04T07:57:26.019425Z",
     "shell.execute_reply": "2024-10-04T07:57:26.019140Z",
     "shell.execute_reply.started": "2024-10-04T07:57:26.015633Z"
    }
   },
   "outputs": [],
   "source": [
    "if not os.path.exists(output_path):\n",
    "    os.mkdir(output_path)"
   ]
  },
  {
   "cell_type": "markdown",
   "id": "3928a3c2-ffbf-4e71-8d62-fcab643c4696",
   "metadata": {},
   "source": [
    "## Read catalog"
   ]
  },
  {
   "cell_type": "code",
   "execution_count": null,
   "id": "ae8ff3b1-e951-499b-b8c1-7b5be3c9f0c3",
   "metadata": {
    "execution": {
     "iopub.execute_input": "2024-10-04T07:57:26.019936Z",
     "iopub.status.busy": "2024-10-04T07:57:26.019825Z",
     "iopub.status.idle": "2024-10-04T07:57:26.038053Z",
     "shell.execute_reply": "2024-10-04T07:57:26.037786Z",
     "shell.execute_reply.started": "2024-10-04T07:57:26.019925Z"
    }
   },
   "outputs": [],
   "source": [
    "df = pd.read_csv(cat_fn,index_col=0)\n",
    "df[\"GAIA_ED3_Name\"] = df[\"GAIA_ED3_Name\"].astype('Int64')\n",
    "df"
   ]
  },
  {
   "cell_type": "code",
   "execution_count": null,
   "id": "7f2a9d52-fb13-4059-9a3a-8ddcd1902862",
   "metadata": {
    "execution": {
     "iopub.execute_input": "2024-10-04T07:57:26.038575Z",
     "iopub.status.busy": "2024-10-04T07:57:26.038458Z",
     "iopub.status.idle": "2024-10-04T07:57:26.042994Z",
     "shell.execute_reply": "2024-10-04T07:57:26.042697Z",
     "shell.execute_reply.started": "2024-10-04T07:57:26.038564Z"
    }
   },
   "outputs": [],
   "source": [
    "for target in list_of_targets:\n",
    "    row = df[df.HD_name == target]\n",
    "    print(row)"
   ]
  },
  {
   "cell_type": "code",
   "execution_count": null,
   "id": "a72d465a-96ad-4f70-b347-d0373075abb9",
   "metadata": {
    "execution": {
     "iopub.execute_input": "2024-10-04T07:57:26.043512Z",
     "iopub.status.busy": "2024-10-04T07:57:26.043397Z",
     "iopub.status.idle": "2024-10-04T07:57:26.046077Z",
     "shell.execute_reply": "2024-10-04T07:57:26.045790Z",
     "shell.execute_reply.started": "2024-10-04T07:57:26.043501Z"
    }
   },
   "outputs": [],
   "source": [
    "df_s = df[[\"HD_name\",\"GAIA_ED3_Name\"]]"
   ]
  },
  {
   "cell_type": "code",
   "execution_count": null,
   "id": "87cc2421-6960-43be-adbd-eb5b5315fd03",
   "metadata": {
    "execution": {
     "iopub.execute_input": "2024-10-04T07:57:26.046657Z",
     "iopub.status.busy": "2024-10-04T07:57:26.046541Z",
     "iopub.status.idle": "2024-10-04T07:57:26.050985Z",
     "shell.execute_reply": "2024-10-04T07:57:26.050715Z",
     "shell.execute_reply.started": "2024-10-04T07:57:26.046646Z"
    }
   },
   "outputs": [],
   "source": [
    "df_s = df_s.dropna(axis=0)"
   ]
  },
  {
   "cell_type": "code",
   "execution_count": null,
   "id": "84b39bbd-c14c-4992-8f52-c678b9b91c3d",
   "metadata": {
    "execution": {
     "iopub.execute_input": "2024-10-04T07:57:26.051498Z",
     "iopub.status.busy": "2024-10-04T07:57:26.051384Z",
     "iopub.status.idle": "2024-10-04T07:57:26.054677Z",
     "shell.execute_reply": "2024-10-04T07:57:26.054384Z",
     "shell.execute_reply.started": "2024-10-04T07:57:26.051487Z"
    }
   },
   "outputs": [],
   "source": [
    "list_of_gaia_ids = df_s.GAIA_ED3_Name.unique()"
   ]
  },
  {
   "cell_type": "code",
   "execution_count": null,
   "id": "8d29c76e-8b33-40a0-9b4b-b09d934aaafe",
   "metadata": {
    "execution": {
     "iopub.execute_input": "2024-10-04T07:57:26.055183Z",
     "iopub.status.busy": "2024-10-04T07:57:26.055065Z",
     "iopub.status.idle": "2024-10-04T07:57:26.059211Z",
     "shell.execute_reply": "2024-10-04T07:57:26.058932Z",
     "shell.execute_reply.started": "2024-10-04T07:57:26.055172Z"
    }
   },
   "outputs": [],
   "source": [
    "list_of_gaia_ids = list_of_gaia_ids[~np.isnan(list_of_gaia_ids)]"
   ]
  },
  {
   "cell_type": "code",
   "execution_count": null,
   "id": "b3bf6729-e4d1-4873-b7fa-87204764fb89",
   "metadata": {
    "execution": {
     "iopub.execute_input": "2024-10-04T07:57:26.059717Z",
     "iopub.status.busy": "2024-10-04T07:57:26.059607Z",
     "iopub.status.idle": "2024-10-04T07:57:26.063003Z",
     "shell.execute_reply": "2024-10-04T07:57:26.062738Z",
     "shell.execute_reply.started": "2024-10-04T07:57:26.059707Z"
    }
   },
   "outputs": [],
   "source": [
    "list_of_gaia_ids = list_of_gaia_ids.astype(int)"
   ]
  },
  {
   "cell_type": "code",
   "execution_count": null,
   "id": "fb4ad23d-c811-4ca6-985b-d34b234e0a05",
   "metadata": {
    "execution": {
     "iopub.execute_input": "2024-10-04T07:57:26.063503Z",
     "iopub.status.busy": "2024-10-04T07:57:26.063374Z",
     "iopub.status.idle": "2024-10-04T07:57:26.067777Z",
     "shell.execute_reply": "2024-10-04T07:57:26.067495Z",
     "shell.execute_reply.started": "2024-10-04T07:57:26.063472Z"
    }
   },
   "outputs": [],
   "source": [
    "list_of_gaia_ids"
   ]
  },
  {
   "cell_type": "code",
   "execution_count": null,
   "id": "f82497d0-91fe-4738-b3b7-33883f827141",
   "metadata": {
    "execution": {
     "iopub.execute_input": "2024-10-04T07:57:26.068294Z",
     "iopub.status.busy": "2024-10-04T07:57:26.068179Z",
     "iopub.status.idle": "2024-10-04T07:57:27.104447Z",
     "shell.execute_reply": "2024-10-04T07:57:27.104094Z",
     "shell.execute_reply.started": "2024-10-04T07:57:26.068283Z"
    }
   },
   "outputs": [],
   "source": [
    "try:\n",
    "    from gaiaspec import getGaia\n",
    "except ModuleNotFoundError:\n",
    "    getGaia = None"
   ]
  },
  {
   "cell_type": "markdown",
   "id": "75c8aee7-6ca0-4eab-b9ae-dfa0b38d8840",
   "metadata": {},
   "source": [
    "## Check the correspondence of names"
   ]
  },
  {
   "cell_type": "code",
   "execution_count": null,
   "id": "696f0b6b-4269-440d-b741-7d3a283b9e04",
   "metadata": {
    "execution": {
     "iopub.execute_input": "2024-10-04T07:57:27.105219Z",
     "iopub.status.busy": "2024-10-04T07:57:27.104953Z",
     "iopub.status.idle": "2024-10-04T07:57:27.110783Z",
     "shell.execute_reply": "2024-10-04T07:57:27.110506Z",
     "shell.execute_reply.started": "2024-10-04T07:57:27.105206Z"
    }
   },
   "outputs": [],
   "source": [
    "df_s.reset_index(drop=True, inplace=True)\n",
    "df_s['GAIA_ED3_Name']= df_s['GAIA_ED3_Name'].astype('Int64')\n",
    "df_s"
   ]
  },
  {
   "cell_type": "markdown",
   "id": "b93a0014-19bb-4e4a-bccf-7e0bcaf27634",
   "metadata": {},
   "source": [
    "## Extract all the spectra"
   ]
  },
  {
   "cell_type": "code",
   "execution_count": null,
   "id": "5f12ffcd-6d62-43b8-9a63-59c5430eba60",
   "metadata": {
    "execution": {
     "iopub.execute_input": "2024-10-04T07:57:27.112768Z",
     "iopub.status.busy": "2024-10-04T07:57:27.112453Z",
     "iopub.status.idle": "2024-10-04T07:57:44.965451Z",
     "shell.execute_reply": "2024-10-04T07:57:44.964988Z",
     "shell.execute_reply.started": "2024-10-04T07:57:27.112755Z"
    }
   },
   "outputs": [],
   "source": [
    "all_gaia = [] # container for gaia object\n",
    "all_spec = [] # container for gaia spectra spectra\n",
    "all_row = [] # container for info on \n",
    "for idx,hd_name in enumerate(df_s.HD_name.values):\n",
    "    row = df[df[\"HD_name\"] == hd_name]\n",
    "    gaianum = getGaia.get_gaia_name_from_star_name(hd_name)\n",
    "    print(hd_name, gaianum)\n",
    "    g = getGaia.Gaia(hd_name)\n",
    "    try:\n",
    "        #spec_dict = getGaia.get_gaia_from_query_id(gaianum)\n",
    "        spec_dict = g.get_spectrum_numpy(hd_name)\n",
    "        all_spec.append(spec_dict)\n",
    "        all_gaia.append(g)\n",
    "        all_row.append(row)\n",
    "        #pass\n",
    "    except Exception as inst:\n",
    "        print(type(inst))    # the exception type\n",
    "        print(inst.args)     # arguments stored in .args\n",
    "        print(inst)          # __str__ allows args to be printed directly,\n",
    "                         # but may be overridden in exception subclasses\n",
    "        #x, y = inst.args     # unpack args\n",
    "        #print('x =', x)\n",
    "        #print('y =', y)\n",
    "    \n",
    "N = len(all_gaia)"
   ]
  },
  {
   "cell_type": "code",
   "execution_count": null,
   "id": "538dad99-6855-4317-b3fc-87b83efa9016",
   "metadata": {
    "execution": {
     "iopub.execute_input": "2024-10-04T07:57:44.966226Z",
     "iopub.status.busy": "2024-10-04T07:57:44.966082Z",
     "iopub.status.idle": "2024-10-04T07:57:44.968725Z",
     "shell.execute_reply": "2024-10-04T07:57:44.968356Z",
     "shell.execute_reply.started": "2024-10-04T07:57:44.966214Z"
    }
   },
   "outputs": [],
   "source": [
    "if FLAG_PLOT:\n",
    "    for idx,star_gaia in enumerate(all_gaia):  \n",
    "        star_gaia.plot_spectrum(xscale='linear', yscale='linear') "
   ]
  },
  {
   "cell_type": "markdown",
   "id": "193180aa-729d-4238-b256-cb84c87f8f7a",
   "metadata": {},
   "source": [
    "## Save spectra in files\n",
    "- example TO WRITE : https://github.com/JospehCeh/PhotoZ_PhD/blob/u/dagoret/StudyFors2SED/convertFors2spectratohdf5.ipynb\n",
    "- example TO READ : https://github.com/JospehCeh/PhotoZ_PhD/blob/u/dagoret/StudyFors2SED/ReadFors2spectrafromh5.ipynb"
   ]
  },
  {
   "cell_type": "code",
   "execution_count": null,
   "id": "3c4a1cd6-8f07-477b-8eb7-1481a28a2dc5",
   "metadata": {
    "execution": {
     "iopub.execute_input": "2024-10-04T07:57:44.969362Z",
     "iopub.status.busy": "2024-10-04T07:57:44.969240Z",
     "iopub.status.idle": "2024-10-04T07:57:45.092267Z",
     "shell.execute_reply": "2024-10-04T07:57:45.091805Z",
     "shell.execute_reply.started": "2024-10-04T07:57:44.969351Z"
    }
   },
   "outputs": [],
   "source": [
    "if FLAG_SAVEHDF5:\n",
    "\n",
    "    hf_outfile =  h5py.File(output_fullfile_h5, 'w') \n",
    "    for idx,star_gaia in enumerate(all_gaia):  \n",
    "        the_row = all_row[idx]\n",
    "        the_spec = all_spec[idx]\n",
    "        hdname = the_row[\"HD_name\"].values[0]\n",
    "        gaianame = the_row[\"GAIA_ED3_Name\"].values[0]\n",
    "        tag = f\"{hdname}_{gaianame}\"\n",
    "        print(tag)\n",
    "        h5group = hf_outfile.create_group(tag)\n",
    "        # save attributes\n",
    "        for colname in list(the_row.columns):\n",
    "            #print(colname)\n",
    "            h5group.attrs[colname] = the_row[colname].values[0]\n",
    "        #print(the_spec.keys())\n",
    "        #print(the_spec['WAVELENGTH'])\n",
    "        #print(the_spec['FLUX'])\n",
    "        #print(the_spec['STATERROR'])\n",
    "        #print(the_spec['SYSERROR'])\n",
    "        # save the arrays\n",
    "        d = h5group.create_dataset(\"WAVELENGTH\",data=the_spec['WAVELENGTH'],compression=\"gzip\", compression_opts=9)\n",
    "        d = h5group.create_dataset(\"FLUX\",data=the_spec['FLUX'],compression=\"gzip\", compression_opts=9)\n",
    "        d = h5group.create_dataset(\"STATERROR\",data=the_spec['STATERROR'],compression=\"gzip\", compression_opts=9)\n",
    "        d = h5group.create_dataset(\"SYSERROR\",data=the_spec['SYSERROR'],compression=\"gzip\", compression_opts=9)\n",
    "\n",
    "        "
   ]
  },
  {
   "cell_type": "code",
   "execution_count": null,
   "id": "6e8f5351-ef6c-4d80-b92a-90c851fc9653",
   "metadata": {
    "execution": {
     "iopub.execute_input": "2024-10-04T07:57:45.092904Z",
     "iopub.status.busy": "2024-10-04T07:57:45.092778Z",
     "iopub.status.idle": "2024-10-04T07:57:45.094902Z",
     "shell.execute_reply": "2024-10-04T07:57:45.094538Z",
     "shell.execute_reply.started": "2024-10-04T07:57:45.092892Z"
    }
   },
   "outputs": [],
   "source": [
    "if FLAG_SAVEHDF5:\n",
    "    hf_outfile.keys()"
   ]
  },
  {
   "cell_type": "code",
   "execution_count": null,
   "id": "7bc9150b-89b4-488a-a54f-880e26940045",
   "metadata": {
    "execution": {
     "iopub.execute_input": "2024-10-04T07:57:45.095589Z",
     "iopub.status.busy": "2024-10-04T07:57:45.095469Z",
     "iopub.status.idle": "2024-10-04T07:57:45.103864Z",
     "shell.execute_reply": "2024-10-04T07:57:45.103518Z",
     "shell.execute_reply.started": "2024-10-04T07:57:45.095578Z"
    }
   },
   "outputs": [],
   "source": [
    "if FLAG_SAVEHDF5:\n",
    "    hf_outfile.close() "
   ]
  },
  {
   "cell_type": "code",
   "execution_count": null,
   "id": "511cb2f5-ea78-4857-ba98-f021ce597133",
   "metadata": {},
   "outputs": [],
   "source": []
  }
 ],
 "metadata": {
  "kernelspec": {
   "display_name": "LSST",
   "language": "python",
   "name": "lsst"
  },
  "language_info": {
   "codemirror_mode": {
    "name": "ipython",
    "version": 3
   },
   "file_extension": ".py",
   "mimetype": "text/x-python",
   "name": "python",
   "nbconvert_exporter": "python",
   "pygments_lexer": "ipython3",
   "version": "3.11.9"
  }
 },
 "nbformat": 4,
 "nbformat_minor": 5
}
