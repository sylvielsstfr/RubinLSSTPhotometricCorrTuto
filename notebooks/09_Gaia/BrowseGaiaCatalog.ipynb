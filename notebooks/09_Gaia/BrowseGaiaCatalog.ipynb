{
 "cells": [
  {
   "cell_type": "markdown",
   "id": "ad5a3ac3-1d31-4599-995b-fc544a7da5ae",
   "metadata": {},
   "source": [
    "# Browse Gaia catalog"
   ]
  },
  {
   "cell_type": "markdown",
   "id": "ac5107e7-d490-4e81-9296-6bfb7af6dce4",
   "metadata": {},
   "source": [
    "- author Sylvie Dagoret-Campagne\n",
    "- affiliation IJCLab\n",
    "- creation date : 2024/10/03\n",
    "- update : 2024/10/03 : succedd to browse spectra only at usdf\n",
    "- last update : 2024/10/04 : handle both file list and gaiaspec package"
   ]
  },
  {
   "cell_type": "code",
   "execution_count": null,
   "id": "1edbe7f0-c493-4659-8949-c17da1b52dfc",
   "metadata": {
    "execution": {
     "iopub.execute_input": "2024-10-04T06:57:18.387058Z",
     "iopub.status.busy": "2024-10-04T06:57:18.386937Z",
     "iopub.status.idle": "2024-10-04T06:57:19.140186Z",
     "shell.execute_reply": "2024-10-04T06:57:19.139760Z",
     "shell.execute_reply.started": "2024-10-04T06:57:18.387045Z"
    },
    "tags": []
   },
   "outputs": [],
   "source": [
    "import numpy as np\n",
    "import matplotlib.pyplot as plt\n",
    "%matplotlib inline\n",
    "import matplotlib as mpl\n",
    "import matplotlib.colors as colors\n",
    "import matplotlib.cm as cmx\n",
    "from mpl_toolkits.axes_grid1 import make_axes_locatable\n",
    "from matplotlib.colors import LogNorm\n",
    "from matplotlib.gridspec import GridSpec\n",
    "import pandas as pd\n",
    "\n",
    "import matplotlib.ticker                         # here's where the formatter is\n",
    "import os,sys\n",
    "import re\n",
    "import pandas as pd\n",
    "\n",
    "from astropy.io import fits\n",
    "from astropy import units as u\n",
    "from astropy import constants as c\n",
    "\n",
    "plt.rcParams[\"figure.figsize\"] = (8,6)\n",
    "plt.rcParams[\"axes.labelsize\"] = 'xx-large'\n",
    "plt.rcParams['axes.titlesize'] = 'xx-large'\n",
    "plt.rcParams['xtick.labelsize']= 'xx-large'\n",
    "plt.rcParams['ytick.labelsize']= 'xx-large'\n",
    "\n",
    "import pickle\n",
    "from scipy.interpolate import RegularGridInterpolator"
   ]
  },
  {
   "cell_type": "code",
   "execution_count": null,
   "id": "faed402e-c407-49d4-b992-a8728eaf15c9",
   "metadata": {
    "execution": {
     "iopub.execute_input": "2024-10-04T06:57:19.141055Z",
     "iopub.status.busy": "2024-10-04T06:57:19.140793Z",
     "iopub.status.idle": "2024-10-04T06:57:19.143284Z",
     "shell.execute_reply": "2024-10-04T06:57:19.142945Z",
     "shell.execute_reply.started": "2024-10-04T06:57:19.141042Z"
    }
   },
   "outputs": [],
   "source": [
    "pd.set_option('display.max_columns', 500)"
   ]
  },
  {
   "cell_type": "code",
   "execution_count": null,
   "id": "ce04b895-01a2-4112-aa2c-8953f6a0caee",
   "metadata": {
    "execution": {
     "iopub.execute_input": "2024-10-04T06:57:19.143894Z",
     "iopub.status.busy": "2024-10-04T06:57:19.143772Z",
     "iopub.status.idle": "2024-10-04T06:57:19.148959Z",
     "shell.execute_reply": "2024-10-04T06:57:19.148596Z",
     "shell.execute_reply.started": "2024-10-04T06:57:19.143882Z"
    },
    "tags": []
   },
   "outputs": [],
   "source": [
    "machine_name = os.uname().nodename\n",
    "path_rubinsimphot = \"repos/repos_w_2024_38/rubinsimphot/src\"\n",
    "if 'sdf' in machine_name:\n",
    "    #machine_name_usdf = 'sdfrome001'\n",
    "    print(\"Set environment for USDF\")\n",
    "    newpythonpath = os.path.join(os.getenv(\"HOME\"),path_rubinsimphot)\n",
    "    sys.path.append(newpythonpath)\n",
    "elif 'dagoret-nb' in machine_name:\n",
    "    print(\"Set environment for USDF Rubin Science Platform\")\n",
    "    newpythonpath = os.path.join(os.getenv(\"HOME\"),path_rubinsimphot)\n",
    "    sys.path.append(newpythonpath)    \n",
    "elif 'mac' in machine_name:\n",
    "    print(\"Be sure to run this notebook in conda environment named conda_py310\")\n",
    "else:\n",
    "    print(f\"Your current machine name is {machine_name}. Check your python environment\")"
   ]
  },
  {
   "cell_type": "markdown",
   "id": "85f7c4c3-d53f-4c8f-8382-2f49e4a7b570",
   "metadata": {},
   "source": [
    "## Config "
   ]
  },
  {
   "cell_type": "code",
   "execution_count": null,
   "id": "fb411074-9de5-4b05-97aa-737744b7928a",
   "metadata": {
    "execution": {
     "iopub.execute_input": "2024-10-05T12:36:52.520611Z",
     "iopub.status.busy": "2024-10-05T12:36:52.520398Z",
     "iopub.status.idle": "2024-10-05T12:36:52.523087Z",
     "shell.execute_reply": "2024-10-05T12:36:52.522703Z",
     "shell.execute_reply.started": "2024-10-05T12:36:52.520595Z"
    }
   },
   "outputs": [],
   "source": [
    "FLAG_FILE_ACCESS = True"
   ]
  },
  {
   "cell_type": "code",
   "execution_count": null,
   "id": "704081e1-753a-4a8d-93ac-8f3b6e6e5f97",
   "metadata": {
    "execution": {
     "iopub.execute_input": "2024-10-05T12:31:10.663673Z",
     "iopub.status.busy": "2024-10-05T12:31:10.663458Z",
     "iopub.status.idle": "2024-10-05T12:31:10.666008Z",
     "shell.execute_reply": "2024-10-05T12:31:10.665660Z",
     "shell.execute_reply.started": "2024-10-05T12:31:10.663658Z"
    }
   },
   "outputs": [],
   "source": [
    "try:\n",
    "    from gaiaspec import getGaia\n",
    "except ModuleNotFoundError:\n",
    "    getGaia = None"
   ]
  },
  {
   "cell_type": "code",
   "execution_count": null,
   "id": "fd140ca9-9abe-4a1f-9e07-4505b5d50468",
   "metadata": {
    "execution": {
     "iopub.execute_input": "2024-10-04T06:57:19.150384Z",
     "iopub.status.busy": "2024-10-04T06:57:19.150260Z",
     "iopub.status.idle": "2024-10-04T06:57:19.152819Z",
     "shell.execute_reply": "2024-10-04T06:57:19.152493Z",
     "shell.execute_reply.started": "2024-10-04T06:57:19.150372Z"
    }
   },
   "outputs": [],
   "source": [
    "cat_fn = \"calspec_v2.csv\""
   ]
  },
  {
   "cell_type": "code",
   "execution_count": null,
   "id": "26b4fa86-7aa3-4165-bcb2-04cf735ad830",
   "metadata": {
    "execution": {
     "iopub.execute_input": "2024-10-04T06:57:19.153462Z",
     "iopub.status.busy": "2024-10-04T06:57:19.153344Z",
     "iopub.status.idle": "2024-10-04T06:57:19.157552Z",
     "shell.execute_reply": "2024-10-04T06:57:19.157210Z",
     "shell.execute_reply.started": "2024-10-04T06:57:19.153450Z"
    },
    "tags": []
   },
   "outputs": [],
   "source": [
    "#list_of_targets = [\"HD111235\",\"HD144334\",\"HD73495\",\"HD165763\"] "
   ]
  },
  {
   "cell_type": "markdown",
   "id": "3928a3c2-ffbf-4e71-8d62-fcab643c4696",
   "metadata": {},
   "source": [
    "## Read catalog"
   ]
  },
  {
   "cell_type": "code",
   "execution_count": null,
   "id": "ae8ff3b1-e951-499b-b8c1-7b5be3c9f0c3",
   "metadata": {
    "execution": {
     "iopub.execute_input": "2024-10-05T12:37:51.761998Z",
     "iopub.status.busy": "2024-10-05T12:37:51.761561Z",
     "iopub.status.idle": "2024-10-05T12:37:51.776756Z",
     "shell.execute_reply": "2024-10-05T12:37:51.776412Z",
     "shell.execute_reply.started": "2024-10-05T12:37:51.761982Z"
    }
   },
   "outputs": [],
   "source": [
    "if FLAG_FILE_ACCESS: \n",
    "    df = pd.read_csv(cat_fn,index_col=0)\n",
    "    df[\"GAIA_ED3_Name\"] = df[\"GAIA_ED3_Name\"].astype('Int64')\n",
    "else:\n",
    "    df = getGaia.get_gaia_calspec_matching()\n",
    "    df[\"GAIA_DR3_Name\"] = df[\"GAIA_DR3_Name\"].astype('Int64')\n",
    "df"
   ]
  },
  {
   "cell_type": "code",
   "execution_count": null,
   "id": "7f2a9d52-fb13-4059-9a3a-8ddcd1902862",
   "metadata": {
    "execution": {
     "iopub.execute_input": "2024-10-05T12:33:42.251380Z",
     "iopub.status.busy": "2024-10-05T12:33:42.250788Z",
     "iopub.status.idle": "2024-10-05T12:33:42.253658Z",
     "shell.execute_reply": "2024-10-05T12:33:42.253220Z",
     "shell.execute_reply.started": "2024-10-05T12:33:42.251362Z"
    }
   },
   "outputs": [],
   "source": [
    "#for target in list_of_targets:\n",
    "#    row = df[df.HD_name == target]\n",
    "#    print(row)"
   ]
  },
  {
   "cell_type": "code",
   "execution_count": null,
   "id": "a72d465a-96ad-4f70-b347-d0373075abb9",
   "metadata": {
    "execution": {
     "iopub.execute_input": "2024-10-05T12:38:40.529732Z",
     "iopub.status.busy": "2024-10-05T12:38:40.529103Z",
     "iopub.status.idle": "2024-10-05T12:38:40.532611Z",
     "shell.execute_reply": "2024-10-05T12:38:40.532274Z",
     "shell.execute_reply.started": "2024-10-05T12:38:40.529717Z"
    }
   },
   "outputs": [],
   "source": [
    "if FLAG_FILE_ACCESS: \n",
    "    df_s = df[[\"HD_name\",\"GAIA_ED3_Name\"]]\n",
    "else:\n",
    "    df_s = df[[\"HD_name\",\"GAIA_DR3_Name\"]] "
   ]
  },
  {
   "cell_type": "code",
   "execution_count": null,
   "id": "87cc2421-6960-43be-adbd-eb5b5315fd03",
   "metadata": {
    "execution": {
     "iopub.execute_input": "2024-10-05T12:38:47.027758Z",
     "iopub.status.busy": "2024-10-05T12:38:47.027552Z",
     "iopub.status.idle": "2024-10-05T12:38:47.030749Z",
     "shell.execute_reply": "2024-10-05T12:38:47.030376Z",
     "shell.execute_reply.started": "2024-10-05T12:38:47.027743Z"
    }
   },
   "outputs": [],
   "source": [
    "df_s = df_s.dropna(axis=0)"
   ]
  },
  {
   "cell_type": "code",
   "execution_count": null,
   "id": "84b39bbd-c14c-4992-8f52-c678b9b91c3d",
   "metadata": {
    "execution": {
     "iopub.execute_input": "2024-10-05T12:34:31.673628Z",
     "iopub.status.busy": "2024-10-05T12:34:31.673408Z",
     "iopub.status.idle": "2024-10-05T12:34:31.676323Z",
     "shell.execute_reply": "2024-10-05T12:34:31.675947Z",
     "shell.execute_reply.started": "2024-10-05T12:34:31.673612Z"
    }
   },
   "outputs": [],
   "source": [
    "if FLAG_FILE_ACCESS: \n",
    "    list_of_gaia_ids = df_s.GAIA_ED3_Name.unique()\n",
    "else:    \n",
    "    list_of_gaia_ids = df_s.GAIA_DR3_Name.unique()"
   ]
  },
  {
   "cell_type": "code",
   "execution_count": null,
   "id": "8d29c76e-8b33-40a0-9b4b-b09d934aaafe",
   "metadata": {
    "execution": {
     "iopub.execute_input": "2024-10-05T12:39:31.824337Z",
     "iopub.status.busy": "2024-10-05T12:39:31.823761Z",
     "iopub.status.idle": "2024-10-05T12:39:31.826476Z",
     "shell.execute_reply": "2024-10-05T12:39:31.826078Z",
     "shell.execute_reply.started": "2024-10-05T12:39:31.824323Z"
    }
   },
   "outputs": [],
   "source": [
    "list_of_gaia_ids = list_of_gaia_ids[~np.isnan(list_of_gaia_ids)]"
   ]
  },
  {
   "cell_type": "code",
   "execution_count": null,
   "id": "b3bf6729-e4d1-4873-b7fa-87204764fb89",
   "metadata": {
    "execution": {
     "iopub.execute_input": "2024-10-05T12:39:34.124592Z",
     "iopub.status.busy": "2024-10-05T12:39:34.124069Z",
     "iopub.status.idle": "2024-10-05T12:39:34.126613Z",
     "shell.execute_reply": "2024-10-05T12:39:34.126277Z",
     "shell.execute_reply.started": "2024-10-05T12:39:34.124576Z"
    }
   },
   "outputs": [],
   "source": [
    "list_of_gaia_ids = list_of_gaia_ids.astype(int)"
   ]
  },
  {
   "cell_type": "code",
   "execution_count": null,
   "id": "fb4ad23d-c811-4ca6-985b-d34b234e0a05",
   "metadata": {
    "execution": {
     "iopub.execute_input": "2024-10-05T12:39:35.805153Z",
     "iopub.status.busy": "2024-10-05T12:39:35.804947Z",
     "iopub.status.idle": "2024-10-05T12:39:35.807990Z",
     "shell.execute_reply": "2024-10-05T12:39:35.807699Z",
     "shell.execute_reply.started": "2024-10-05T12:39:35.805138Z"
    }
   },
   "outputs": [],
   "source": [
    "list_of_gaia_ids"
   ]
  },
  {
   "cell_type": "code",
   "execution_count": null,
   "id": "696f0b6b-4269-440d-b741-7d3a283b9e04",
   "metadata": {
    "execution": {
     "iopub.execute_input": "2024-10-05T12:40:05.387165Z",
     "iopub.status.busy": "2024-10-05T12:40:05.386727Z",
     "iopub.status.idle": "2024-10-05T12:40:05.392242Z",
     "shell.execute_reply": "2024-10-05T12:40:05.391941Z",
     "shell.execute_reply.started": "2024-10-05T12:40:05.387151Z"
    }
   },
   "outputs": [],
   "source": [
    "df_s.reset_index(drop=True, inplace=True)\n",
    "df_s"
   ]
  },
  {
   "cell_type": "markdown",
   "id": "b93a0014-19bb-4e4a-bccf-7e0bcaf27634",
   "metadata": {},
   "source": [
    "## Extract all the spectra"
   ]
  },
  {
   "cell_type": "code",
   "execution_count": null,
   "id": "5f12ffcd-6d62-43b8-9a63-59c5430eba60",
   "metadata": {
    "execution": {
     "iopub.execute_input": "2024-10-05T12:40:56.321559Z",
     "iopub.status.busy": "2024-10-05T12:40:56.321100Z",
     "iopub.status.idle": "2024-10-05T12:41:15.412987Z",
     "shell.execute_reply": "2024-10-05T12:41:15.412547Z",
     "shell.execute_reply.started": "2024-10-05T12:40:56.321543Z"
    }
   },
   "outputs": [],
   "source": [
    "all_gaia = [] # container for gaia object\n",
    "all_spec = [] # container for gaia spectra spectra\n",
    "all_row = [] # container for info on \n",
    "for idx,hd_name in enumerate(df_s.HD_name.values):\n",
    "    row = df[df[\"HD_name\"] == hd_name]\n",
    "    gaianum = getGaia.get_gaia_name_from_star_name(hd_name)\n",
    "    print(hd_name, gaianum,row)\n",
    "    g = getGaia.Gaia(hd_name)\n",
    "    try:\n",
    "        #spec_dict = getGaia.get_gaia_from_query_id(gaianum)\n",
    "        spec_dict = g.get_spectrum_numpy(hd_name)\n",
    "        all_spec.append(spec_dict)\n",
    "        all_gaia.append(g)\n",
    "        all_row.append(row)\n",
    "        #pass\n",
    "    except Exception as inst:\n",
    "        print(type(inst))    # the exception type\n",
    "        print(inst.args)     # arguments stored in .args\n",
    "        print(inst)          # __str__ allows args to be printed directly,\n",
    "                         # but may be overridden in exception subclasses\n",
    "        #x, y = inst.args     # unpack args\n",
    "        #print('x =', x)\n",
    "        #print('y =', y)\n",
    "    \n",
    "N = len(all_gaia)"
   ]
  },
  {
   "cell_type": "markdown",
   "id": "11c19315-c144-48ab-90f9-06d9047603b2",
   "metadata": {},
   "source": [
    "## Plot the spectra"
   ]
  },
  {
   "cell_type": "code",
   "execution_count": null,
   "id": "538dad99-6855-4317-b3fc-87b83efa9016",
   "metadata": {
    "execution": {
     "iopub.execute_input": "2024-10-05T12:41:42.933318Z",
     "iopub.status.busy": "2024-10-05T12:41:42.932846Z",
     "iopub.status.idle": "2024-10-05T12:41:59.528319Z",
     "shell.execute_reply": "2024-10-05T12:41:59.527895Z",
     "shell.execute_reply.started": "2024-10-05T12:41:42.933303Z"
    }
   },
   "outputs": [],
   "source": [
    "for idx,star_gaia in enumerate(all_gaia):  \n",
    "    star_gaia.plot_spectrum(xscale='linear', yscale='linear') "
   ]
  },
  {
   "cell_type": "code",
   "execution_count": null,
   "id": "6e8f5351-ef6c-4d80-b92a-90c851fc9653",
   "metadata": {},
   "outputs": [],
   "source": []
  }
 ],
 "metadata": {
  "kernelspec": {
   "display_name": "LSST",
   "language": "python",
   "name": "lsst"
  },
  "language_info": {
   "codemirror_mode": {
    "name": "ipython",
    "version": 3
   },
   "file_extension": ".py",
   "mimetype": "text/x-python",
   "name": "python",
   "nbconvert_exporter": "python",
   "pygments_lexer": "ipython3",
   "version": "3.11.9"
  }
 },
 "nbformat": 4,
 "nbformat_minor": 5
}
