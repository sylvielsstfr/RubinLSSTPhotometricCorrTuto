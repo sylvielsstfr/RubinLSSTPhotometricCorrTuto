{
 "cells": [
  {
   "cell_type": "markdown",
   "id": "ad5a3ac3-1d31-4599-995b-fc544a7da5ae",
   "metadata": {},
   "source": [
    "# Save Gaia and Calspec spectra in hdf5 file"
   ]
  },
  {
   "cell_type": "markdown",
   "id": "ac5107e7-d490-4e81-9296-6bfb7af6dce4",
   "metadata": {},
   "source": [
    "- author Sylvie Dagoret-Campagne\n",
    "- affiliation IJCLab\n",
    "- creation date : 2024/10/05\n",
    "- update : 2024/10/05 : write both spectra"
   ]
  },
  {
   "cell_type": "markdown",
   "id": "a2acc7f7-3d04-4003-b9ae-bb9e2bced716",
   "metadata": {},
   "source": [
    "Those notebooks produce a single hdf5 file with all spectra. Thoe spectra are extracted from gaiaspec package (Corentin Ravoux). Then these spectra in hdf5 can be read from anywhere. Note Spectra are converted in unit erg/cm2/nm/s. "
   ]
  },
  {
   "cell_type": "markdown",
   "id": "258fb1b3-0daf-4dbe-971a-247c8a92d4f2",
   "metadata": {},
   "source": [
    "- Inspired from : https://github.com/JospehCeh/PhotoZ_PhD/blob/u/dagoret/StudyFors2SED/convertFors2spectratohdf5.ipynb"
   ]
  },
  {
   "cell_type": "code",
   "execution_count": null,
   "id": "1edbe7f0-c493-4659-8949-c17da1b52dfc",
   "metadata": {
    "execution": {
     "iopub.execute_input": "2024-10-05T17:58:27.576413Z",
     "iopub.status.busy": "2024-10-05T17:58:27.576292Z",
     "iopub.status.idle": "2024-10-05T17:58:28.320247Z",
     "shell.execute_reply": "2024-10-05T17:58:28.319863Z",
     "shell.execute_reply.started": "2024-10-05T17:58:27.576400Z"
    },
    "tags": []
   },
   "outputs": [],
   "source": [
    "import numpy as np\n",
    "import matplotlib.pyplot as plt\n",
    "%matplotlib inline\n",
    "import matplotlib as mpl\n",
    "import matplotlib.colors as colors\n",
    "import matplotlib.cm as cmx\n",
    "from mpl_toolkits.axes_grid1 import make_axes_locatable\n",
    "from matplotlib.colors import LogNorm\n",
    "from matplotlib.gridspec import GridSpec\n",
    "import pandas as pd\n",
    "\n",
    "import matplotlib.ticker                         # here's where the formatter is\n",
    "import os,sys\n",
    "import re\n",
    "import pandas as pd\n",
    "\n",
    "from astropy.io import fits\n",
    "from astropy import units as u\n",
    "from astropy import constants as c\n",
    "\n",
    "plt.rcParams[\"figure.figsize\"] = (8,6)\n",
    "plt.rcParams[\"axes.labelsize\"] = 'xx-large'\n",
    "plt.rcParams['axes.titlesize'] = 'xx-large'\n",
    "plt.rcParams['xtick.labelsize']= 'xx-large'\n",
    "plt.rcParams['ytick.labelsize']= 'xx-large'\n",
    "\n",
    "import pickle\n",
    "from scipy.interpolate import RegularGridInterpolator\n",
    "import h5py"
   ]
  },
  {
   "cell_type": "code",
   "execution_count": null,
   "id": "faed402e-c407-49d4-b992-a8728eaf15c9",
   "metadata": {
    "execution": {
     "iopub.execute_input": "2024-10-05T17:58:28.321236Z",
     "iopub.status.busy": "2024-10-05T17:58:28.320780Z",
     "iopub.status.idle": "2024-10-05T17:58:28.323346Z",
     "shell.execute_reply": "2024-10-05T17:58:28.323055Z",
     "shell.execute_reply.started": "2024-10-05T17:58:28.321221Z"
    }
   },
   "outputs": [],
   "source": [
    "pd.set_option('display.max_columns', 500)"
   ]
  },
  {
   "cell_type": "code",
   "execution_count": null,
   "id": "ce04b895-01a2-4112-aa2c-8953f6a0caee",
   "metadata": {
    "execution": {
     "iopub.execute_input": "2024-10-05T17:58:28.324303Z",
     "iopub.status.busy": "2024-10-05T17:58:28.324176Z",
     "iopub.status.idle": "2024-10-05T17:58:28.329153Z",
     "shell.execute_reply": "2024-10-05T17:58:28.328857Z",
     "shell.execute_reply.started": "2024-10-05T17:58:28.324290Z"
    },
    "tags": []
   },
   "outputs": [],
   "source": [
    "machine_name = os.uname().nodename\n",
    "path_rubinsimphot = \"repos/repos_w_2024_38/rubinsimphot/src\"\n",
    "if 'sdf' in machine_name:\n",
    "    #machine_name_usdf = 'sdfrome001'\n",
    "    print(\"Set environment for USDF\")\n",
    "    newpythonpath = os.path.join(os.getenv(\"HOME\"),path_rubinsimphot)\n",
    "    sys.path.append(newpythonpath)\n",
    "elif 'dagoret-nb' in machine_name:\n",
    "    print(\"Set environment for USDF Rubin Science Platform\")\n",
    "    newpythonpath = os.path.join(os.getenv(\"HOME\"),path_rubinsimphot)\n",
    "    sys.path.append(newpythonpath)    \n",
    "elif 'mac' in machine_name:\n",
    "    print(\"Be sure to run this notebook in conda environment named conda_py310\")\n",
    "else:\n",
    "    print(f\"Your current machine name is {machine_name}. Check your python environment\")"
   ]
  },
  {
   "cell_type": "code",
   "execution_count": null,
   "id": "cd9d63cd-664a-439f-8ba7-3799182c8b66",
   "metadata": {
    "execution": {
     "iopub.execute_input": "2024-10-05T17:58:28.329679Z",
     "iopub.status.busy": "2024-10-05T17:58:28.329559Z",
     "iopub.status.idle": "2024-10-05T17:58:28.451171Z",
     "shell.execute_reply": "2024-10-05T17:58:28.450822Z",
     "shell.execute_reply.started": "2024-10-05T17:58:28.329667Z"
    }
   },
   "outputs": [],
   "source": [
    "import getCalspec"
   ]
  },
  {
   "cell_type": "code",
   "execution_count": null,
   "id": "8b6ebaef-5afc-4bfe-8710-682526edea02",
   "metadata": {
    "execution": {
     "iopub.execute_input": "2024-10-05T17:58:28.451891Z",
     "iopub.status.busy": "2024-10-05T17:58:28.451648Z",
     "iopub.status.idle": "2024-10-05T17:58:29.383214Z",
     "shell.execute_reply": "2024-10-05T17:58:29.382855Z",
     "shell.execute_reply.started": "2024-10-05T17:58:28.451878Z"
    }
   },
   "outputs": [],
   "source": [
    "try:\n",
    "    from gaiaspec import getGaia\n",
    "except ModuleNotFoundError:\n",
    "    getGaia = None"
   ]
  },
  {
   "cell_type": "markdown",
   "id": "85f7c4c3-d53f-4c8f-8382-2f49e4a7b570",
   "metadata": {},
   "source": [
    "## Config "
   ]
  },
  {
   "cell_type": "code",
   "execution_count": null,
   "id": "8a2bd1d2-6dfc-48c1-b0f3-74938f1792f6",
   "metadata": {
    "execution": {
     "iopub.execute_input": "2024-10-05T17:58:29.383857Z",
     "iopub.status.busy": "2024-10-05T17:58:29.383712Z",
     "iopub.status.idle": "2024-10-05T17:58:29.385995Z",
     "shell.execute_reply": "2024-10-05T17:58:29.385702Z",
     "shell.execute_reply.started": "2024-10-05T17:58:29.383831Z"
    }
   },
   "outputs": [],
   "source": [
    "FLAG_FILE_ACCESS = True"
   ]
  },
  {
   "cell_type": "code",
   "execution_count": null,
   "id": "fd140ca9-9abe-4a1f-9e07-4505b5d50468",
   "metadata": {
    "execution": {
     "iopub.execute_input": "2024-10-05T17:58:29.386515Z",
     "iopub.status.busy": "2024-10-05T17:58:29.386390Z",
     "iopub.status.idle": "2024-10-05T17:58:29.389994Z",
     "shell.execute_reply": "2024-10-05T17:58:29.389708Z",
     "shell.execute_reply.started": "2024-10-05T17:58:29.386503Z"
    }
   },
   "outputs": [],
   "source": [
    "cat_fn = \"calspec_v2.csv\""
   ]
  },
  {
   "cell_type": "code",
   "execution_count": null,
   "id": "f6e83722-ceb7-437d-8484-2abc723e28ee",
   "metadata": {
    "execution": {
     "iopub.execute_input": "2024-10-05T17:58:29.390515Z",
     "iopub.status.busy": "2024-10-05T17:58:29.390398Z",
     "iopub.status.idle": "2024-10-05T17:58:29.394134Z",
     "shell.execute_reply": "2024-10-05T17:58:29.393855Z",
     "shell.execute_reply.started": "2024-10-05T17:58:29.390502Z"
    }
   },
   "outputs": [],
   "source": [
    "FLAG_PLOT = False\n",
    "FLAG_SAVEHDF5 = True"
   ]
  },
  {
   "cell_type": "code",
   "execution_count": null,
   "id": "576d7e81-1b9d-43ac-a02b-0cd81701a4c4",
   "metadata": {
    "execution": {
     "iopub.execute_input": "2024-10-05T17:58:29.395869Z",
     "iopub.status.busy": "2024-10-05T17:58:29.395612Z",
     "iopub.status.idle": "2024-10-05T17:58:29.397731Z",
     "shell.execute_reply": "2024-10-05T17:58:29.397455Z",
     "shell.execute_reply.started": "2024-10-05T17:58:29.395858Z"
    }
   },
   "outputs": [],
   "source": [
    "output_path = \"data_gaiacalspecspectra\"\n",
    "output_file_h5  = 'GAIACALSPECspectra.hdf5'\n",
    "output_fullfile_h5 = os.path.join(output_path,output_file_h5)"
   ]
  },
  {
   "cell_type": "code",
   "execution_count": null,
   "id": "12ba0aa5-6c02-41ff-8e7b-dfddf80a090a",
   "metadata": {
    "execution": {
     "iopub.execute_input": "2024-10-05T17:58:29.398235Z",
     "iopub.status.busy": "2024-10-05T17:58:29.398102Z",
     "iopub.status.idle": "2024-10-05T17:58:29.402026Z",
     "shell.execute_reply": "2024-10-05T17:58:29.401723Z",
     "shell.execute_reply.started": "2024-10-05T17:58:29.398224Z"
    }
   },
   "outputs": [],
   "source": [
    "if not os.path.exists(output_path):\n",
    "    os.mkdir(output_path)"
   ]
  },
  {
   "cell_type": "markdown",
   "id": "3928a3c2-ffbf-4e71-8d62-fcab643c4696",
   "metadata": {},
   "source": [
    "## Read catalog"
   ]
  },
  {
   "cell_type": "code",
   "execution_count": null,
   "id": "b35178a4-e1ef-40a3-a0f8-68cc3558bde8",
   "metadata": {
    "execution": {
     "iopub.execute_input": "2024-10-05T17:58:29.402583Z",
     "iopub.status.busy": "2024-10-05T17:58:29.402469Z",
     "iopub.status.idle": "2024-10-05T17:58:29.419817Z",
     "shell.execute_reply": "2024-10-05T17:58:29.419543Z",
     "shell.execute_reply.started": "2024-10-05T17:58:29.402572Z"
    }
   },
   "outputs": [],
   "source": [
    "if FLAG_FILE_ACCESS: \n",
    "    df = pd.read_csv(cat_fn,index_col=0)\n",
    "    df[\"GAIA_ED3_Name\"] = df[\"GAIA_ED3_Name\"].astype('Int64')\n",
    "else:\n",
    "    df = getGaia.get_gaia_calspec_matching()\n",
    "    df[\"GAIA_DR3_Name\"] = df[\"GAIA_DR3_Name\"].astype('Int64')\n",
    "df"
   ]
  },
  {
   "cell_type": "code",
   "execution_count": null,
   "id": "c3d34890-c0d3-4e90-a5fd-79b6e9216245",
   "metadata": {
    "execution": {
     "iopub.execute_input": "2024-10-05T17:58:29.420341Z",
     "iopub.status.busy": "2024-10-05T17:58:29.420223Z",
     "iopub.status.idle": "2024-10-05T17:58:29.422728Z",
     "shell.execute_reply": "2024-10-05T17:58:29.422443Z",
     "shell.execute_reply.started": "2024-10-05T17:58:29.420330Z"
    }
   },
   "outputs": [],
   "source": [
    "if FLAG_FILE_ACCESS: \n",
    "    df_s = df[[\"HD_name\",\"GAIA_ED3_Name\"]]\n",
    "else:\n",
    "    df_s = df[[\"HD_name\",\"GAIA_DR3_Name\"]] "
   ]
  },
  {
   "cell_type": "code",
   "execution_count": null,
   "id": "87cc2421-6960-43be-adbd-eb5b5315fd03",
   "metadata": {
    "execution": {
     "iopub.execute_input": "2024-10-05T17:58:29.423250Z",
     "iopub.status.busy": "2024-10-05T17:58:29.423134Z",
     "iopub.status.idle": "2024-10-05T17:58:29.426998Z",
     "shell.execute_reply": "2024-10-05T17:58:29.426714Z",
     "shell.execute_reply.started": "2024-10-05T17:58:29.423239Z"
    }
   },
   "outputs": [],
   "source": [
    "df_s = df_s.dropna(axis=0)"
   ]
  },
  {
   "cell_type": "code",
   "execution_count": null,
   "id": "53378a3e-b456-4e67-841d-5d52d5d7a33b",
   "metadata": {
    "execution": {
     "iopub.execute_input": "2024-10-05T17:58:29.427512Z",
     "iopub.status.busy": "2024-10-05T17:58:29.427395Z",
     "iopub.status.idle": "2024-10-05T17:58:29.431342Z",
     "shell.execute_reply": "2024-10-05T17:58:29.431038Z",
     "shell.execute_reply.started": "2024-10-05T17:58:29.427501Z"
    }
   },
   "outputs": [],
   "source": [
    "if FLAG_FILE_ACCESS: \n",
    "    list_of_gaia_ids = df_s.GAIA_ED3_Name.unique()\n",
    "else:    \n",
    "    list_of_gaia_ids = df_s.GAIA_DR3_Name.unique()"
   ]
  },
  {
   "cell_type": "code",
   "execution_count": null,
   "id": "8d29c76e-8b33-40a0-9b4b-b09d934aaafe",
   "metadata": {
    "execution": {
     "iopub.execute_input": "2024-10-05T17:58:29.431884Z",
     "iopub.status.busy": "2024-10-05T17:58:29.431761Z",
     "iopub.status.idle": "2024-10-05T17:58:29.434289Z",
     "shell.execute_reply": "2024-10-05T17:58:29.434022Z",
     "shell.execute_reply.started": "2024-10-05T17:58:29.431873Z"
    }
   },
   "outputs": [],
   "source": [
    "list_of_gaia_ids = list_of_gaia_ids[~np.isnan(list_of_gaia_ids)]"
   ]
  },
  {
   "cell_type": "code",
   "execution_count": null,
   "id": "b3bf6729-e4d1-4873-b7fa-87204764fb89",
   "metadata": {
    "execution": {
     "iopub.execute_input": "2024-10-05T17:58:29.434798Z",
     "iopub.status.busy": "2024-10-05T17:58:29.434683Z",
     "iopub.status.idle": "2024-10-05T17:58:29.438502Z",
     "shell.execute_reply": "2024-10-05T17:58:29.438233Z",
     "shell.execute_reply.started": "2024-10-05T17:58:29.434787Z"
    }
   },
   "outputs": [],
   "source": [
    "list_of_gaia_ids = list_of_gaia_ids.astype(int)"
   ]
  },
  {
   "cell_type": "code",
   "execution_count": null,
   "id": "fb4ad23d-c811-4ca6-985b-d34b234e0a05",
   "metadata": {
    "execution": {
     "iopub.execute_input": "2024-10-05T17:58:29.439007Z",
     "iopub.status.busy": "2024-10-05T17:58:29.438894Z",
     "iopub.status.idle": "2024-10-05T17:58:29.442806Z",
     "shell.execute_reply": "2024-10-05T17:58:29.442550Z",
     "shell.execute_reply.started": "2024-10-05T17:58:29.438997Z"
    }
   },
   "outputs": [],
   "source": [
    "list_of_gaia_ids"
   ]
  },
  {
   "cell_type": "code",
   "execution_count": null,
   "id": "f82497d0-91fe-4738-b3b7-33883f827141",
   "metadata": {
    "execution": {
     "iopub.execute_input": "2024-10-05T17:58:29.443308Z",
     "iopub.status.busy": "2024-10-05T17:58:29.443196Z",
     "iopub.status.idle": "2024-10-05T17:58:29.446780Z",
     "shell.execute_reply": "2024-10-05T17:58:29.446513Z",
     "shell.execute_reply.started": "2024-10-05T17:58:29.443297Z"
    }
   },
   "outputs": [],
   "source": [
    "try:\n",
    "    from gaiaspec import getGaia\n",
    "except ModuleNotFoundError:\n",
    "    getGaia = None"
   ]
  },
  {
   "cell_type": "markdown",
   "id": "75c8aee7-6ca0-4eab-b9ae-dfa0b38d8840",
   "metadata": {},
   "source": [
    "## Check the correspondence of names"
   ]
  },
  {
   "cell_type": "code",
   "execution_count": null,
   "id": "696f0b6b-4269-440d-b741-7d3a283b9e04",
   "metadata": {
    "execution": {
     "iopub.execute_input": "2024-10-05T17:58:29.447284Z",
     "iopub.status.busy": "2024-10-05T17:58:29.447172Z",
     "iopub.status.idle": "2024-10-05T17:58:29.452994Z",
     "shell.execute_reply": "2024-10-05T17:58:29.452719Z",
     "shell.execute_reply.started": "2024-10-05T17:58:29.447273Z"
    }
   },
   "outputs": [],
   "source": [
    "df_s.reset_index(drop=True, inplace=True)\n",
    "df_s"
   ]
  },
  {
   "cell_type": "markdown",
   "id": "b93a0014-19bb-4e4a-bccf-7e0bcaf27634",
   "metadata": {},
   "source": [
    "## Extract all the spectra"
   ]
  },
  {
   "cell_type": "code",
   "execution_count": null,
   "id": "5f12ffcd-6d62-43b8-9a63-59c5430eba60",
   "metadata": {
    "execution": {
     "iopub.execute_input": "2024-10-05T17:58:29.453513Z",
     "iopub.status.busy": "2024-10-05T17:58:29.453393Z",
     "iopub.status.idle": "2024-10-05T17:58:49.506820Z",
     "shell.execute_reply": "2024-10-05T17:58:49.506499Z",
     "shell.execute_reply.started": "2024-10-05T17:58:29.453502Z"
    }
   },
   "outputs": [],
   "source": [
    "all_gaia = [] # container for gaia object\n",
    "all_spec_dict = [] # container for gaia spectra spectra\n",
    "all_calspec = []\n",
    "all_calspec_dict = []\n",
    "all_row = [] # container for info on \n",
    "for idx,hd_name in enumerate(df_s.HD_name.values):\n",
    "    row = df[df[\"HD_name\"] == hd_name]\n",
    "    gaianum = getGaia.get_gaia_name_from_star_name(hd_name)\n",
    "    print(hd_name, gaianum)\n",
    "    g = getGaia.Gaia(hd_name)\n",
    "    c = getCalspec.Calspec(hd_name)\n",
    "    try:\n",
    "        #spec_dict = getGaia.get_gaia_from_query_id(gaianum)\n",
    "        spec_dict = g.get_spectrum_numpy(hd_name)\n",
    "        calspec_dict = c.get_spectrum_numpy()\n",
    "        all_spec_dict.append(spec_dict)\n",
    "        all_calspec_dict.append(calspec_dict)\n",
    "        all_gaia.append(g)\n",
    "        all_calspec.append(c)\n",
    "        all_row.append(row)\n",
    "        #pass\n",
    "    except Exception as inst:\n",
    "        print(type(inst))    # the exception type\n",
    "        print(inst.args)     # arguments stored in .args\n",
    "        print(inst)          # __str__ allows args to be printed directly,\n",
    "                         # but may be overridden in exception subclasses\n",
    "        #x, y = inst.args     # unpack args\n",
    "        #print('x =', x)\n",
    "        #print('y =', y)\n",
    "    \n",
    "N = len(all_gaia)"
   ]
  },
  {
   "cell_type": "code",
   "execution_count": null,
   "id": "538dad99-6855-4317-b3fc-87b83efa9016",
   "metadata": {
    "execution": {
     "iopub.execute_input": "2024-10-05T17:58:49.507440Z",
     "iopub.status.busy": "2024-10-05T17:58:49.507310Z",
     "iopub.status.idle": "2024-10-05T17:58:49.509614Z",
     "shell.execute_reply": "2024-10-05T17:58:49.509337Z",
     "shell.execute_reply.started": "2024-10-05T17:58:49.507428Z"
    }
   },
   "outputs": [],
   "source": [
    "if FLAG_PLOT:\n",
    "    for idx,star_gaia in enumerate(all_gaia):  \n",
    "        star_gaia.plot_spectrum(xscale='linear', yscale='linear') "
   ]
  },
  {
   "cell_type": "markdown",
   "id": "3a48ecf4-823e-46da-ba4b-01c5f5bdce92",
   "metadata": {},
   "source": [
    "## Check Units"
   ]
  },
  {
   "cell_type": "code",
   "execution_count": null,
   "id": "77cba602-67d7-4f3a-9de7-455864ed3a8f",
   "metadata": {
    "execution": {
     "iopub.execute_input": "2024-10-05T17:58:49.510126Z",
     "iopub.status.busy": "2024-10-05T17:58:49.510012Z",
     "iopub.status.idle": "2024-10-05T17:58:49.514774Z",
     "shell.execute_reply": "2024-10-05T17:58:49.514512Z",
     "shell.execute_reply.started": "2024-10-05T17:58:49.510115Z"
    }
   },
   "outputs": [],
   "source": [
    "all_spec_dict[0]['WAVELENGTH'].unit "
   ]
  },
  {
   "cell_type": "code",
   "execution_count": null,
   "id": "38a96c08-46a2-4ef1-91bd-32d9c13cab54",
   "metadata": {
    "execution": {
     "iopub.execute_input": "2024-10-05T17:58:49.515284Z",
     "iopub.status.busy": "2024-10-05T17:58:49.515170Z",
     "iopub.status.idle": "2024-10-05T17:58:49.519308Z",
     "shell.execute_reply": "2024-10-05T17:58:49.519032Z",
     "shell.execute_reply.started": "2024-10-05T17:58:49.515273Z"
    }
   },
   "outputs": [],
   "source": [
    "all_spec_dict[0]['FLUX'].unit "
   ]
  },
  {
   "cell_type": "code",
   "execution_count": null,
   "id": "63b5e4f3-9f46-48f6-971a-763c45da5fc9",
   "metadata": {
    "execution": {
     "iopub.execute_input": "2024-10-05T17:58:49.519815Z",
     "iopub.status.busy": "2024-10-05T17:58:49.519701Z",
     "iopub.status.idle": "2024-10-05T17:58:49.522386Z",
     "shell.execute_reply": "2024-10-05T17:58:49.522127Z",
     "shell.execute_reply.started": "2024-10-05T17:58:49.519804Z"
    }
   },
   "outputs": [],
   "source": [
    "all_spec_dict[0]['STATERROR'].unit "
   ]
  },
  {
   "cell_type": "code",
   "execution_count": null,
   "id": "4723dc2e-b39a-4154-81f4-688da1c24e92",
   "metadata": {
    "execution": {
     "iopub.execute_input": "2024-10-05T17:58:49.522992Z",
     "iopub.status.busy": "2024-10-05T17:58:49.522878Z",
     "iopub.status.idle": "2024-10-05T17:58:49.527042Z",
     "shell.execute_reply": "2024-10-05T17:58:49.526779Z",
     "shell.execute_reply.started": "2024-10-05T17:58:49.522982Z"
    }
   },
   "outputs": [],
   "source": [
    "all_spec_dict[0]['SYSERROR'].unit "
   ]
  },
  {
   "cell_type": "code",
   "execution_count": null,
   "id": "6eccb1f4-b27f-4f20-a814-5fd8fedde88d",
   "metadata": {
    "execution": {
     "iopub.execute_input": "2024-10-05T17:58:49.527520Z",
     "iopub.status.busy": "2024-10-05T17:58:49.527409Z",
     "iopub.status.idle": "2024-10-05T17:58:49.531109Z",
     "shell.execute_reply": "2024-10-05T17:58:49.530852Z",
     "shell.execute_reply.started": "2024-10-05T17:58:49.527509Z"
    }
   },
   "outputs": [],
   "source": [
    "all_calspec_dict[0]['WAVELENGTH'].unit "
   ]
  },
  {
   "cell_type": "code",
   "execution_count": null,
   "id": "71443792-a33d-4896-ac14-fc1f86aafb3a",
   "metadata": {
    "execution": {
     "iopub.execute_input": "2024-10-05T17:58:49.533075Z",
     "iopub.status.busy": "2024-10-05T17:58:49.532950Z",
     "iopub.status.idle": "2024-10-05T17:58:49.535513Z",
     "shell.execute_reply": "2024-10-05T17:58:49.535241Z",
     "shell.execute_reply.started": "2024-10-05T17:58:49.533064Z"
    }
   },
   "outputs": [],
   "source": [
    "all_calspec_dict[0]['FLUX'].unit "
   ]
  },
  {
   "cell_type": "code",
   "execution_count": null,
   "id": "be8b3960-0baf-4437-bc6b-5b70e423ed92",
   "metadata": {
    "execution": {
     "iopub.execute_input": "2024-10-05T17:58:49.536075Z",
     "iopub.status.busy": "2024-10-05T17:58:49.535956Z",
     "iopub.status.idle": "2024-10-05T17:58:49.538898Z",
     "shell.execute_reply": "2024-10-05T17:58:49.538623Z",
     "shell.execute_reply.started": "2024-10-05T17:58:49.536063Z"
    }
   },
   "outputs": [],
   "source": [
    "all_calspec_dict[0]['STATERROR'].unit "
   ]
  },
  {
   "cell_type": "code",
   "execution_count": null,
   "id": "f9cef252-3fb4-4654-9d19-cd196c7e5c89",
   "metadata": {
    "execution": {
     "iopub.execute_input": "2024-10-05T17:58:49.539416Z",
     "iopub.status.busy": "2024-10-05T17:58:49.539297Z",
     "iopub.status.idle": "2024-10-05T17:58:49.543511Z",
     "shell.execute_reply": "2024-10-05T17:58:49.543226Z",
     "shell.execute_reply.started": "2024-10-05T17:58:49.539405Z"
    }
   },
   "outputs": [],
   "source": [
    "all_calspec_dict[0]['SYSERROR'].unit "
   ]
  },
  {
   "cell_type": "markdown",
   "id": "193180aa-729d-4238-b256-cb84c87f8f7a",
   "metadata": {},
   "source": [
    "## Save spectra in files\n",
    "- example TO WRITE : https://github.com/JospehCeh/PhotoZ_PhD/blob/u/dagoret/StudyFors2SED/convertFors2spectratohdf5.ipynb\n",
    "- example TO READ : https://github.com/JospehCeh/PhotoZ_PhD/blob/u/dagoret/StudyFors2SED/ReadFors2spectrafromh5.ipynb"
   ]
  },
  {
   "cell_type": "code",
   "execution_count": null,
   "id": "3c4a1cd6-8f07-477b-8eb7-1481a28a2dc5",
   "metadata": {
    "execution": {
     "iopub.execute_input": "2024-10-05T17:58:49.544040Z",
     "iopub.status.busy": "2024-10-05T17:58:49.543924Z",
     "iopub.status.idle": "2024-10-05T17:58:49.880957Z",
     "shell.execute_reply": "2024-10-05T17:58:49.880571Z",
     "shell.execute_reply.started": "2024-10-05T17:58:49.544029Z"
    }
   },
   "outputs": [],
   "source": [
    "if FLAG_SAVEHDF5:\n",
    "\n",
    "    hf_outfile =  h5py.File(output_fullfile_h5, 'w') \n",
    "    for idx,star_gaia in enumerate(all_gaia):  \n",
    "        the_row = all_row[idx]\n",
    "        the_spec = all_spec_dict[idx]\n",
    "        the_calspec = all_calspec_dict[idx]\n",
    "        hdname = the_row[\"HD_name\"].values[0]\n",
    "        gaianame = the_row[\"GAIA_ED3_Name\"].values[0]\n",
    "        tag = f\"{hdname}_{gaianame}\"\n",
    "        print(tag)\n",
    "        h5group = hf_outfile.create_group(tag)\n",
    "        # save attributes\n",
    "        for colname in list(the_row.columns):\n",
    "            #print(colname)\n",
    "            h5group.attrs[colname] = the_row[colname].values[0]\n",
    "        #print(the_spec.keys())\n",
    "        #print(the_spec['WAVELENGTH'])\n",
    "        #print(the_spec['FLUX'])\n",
    "        #print(the_spec['STATERROR'])\n",
    "        #print(the_spec['SYSERROR'])\n",
    "        # save the arrays\n",
    "\n",
    "        # wavelength in nm in gaia\n",
    "        # convert in erg/cm2/nm\n",
    "        gwl = the_spec['WAVELENGTH'].to(u.nm)\n",
    "        gfluxdata = the_spec['FLUX'].to(u.erg/(u.cm)**2/u.s/u.nm, equivalencies=u.spectral())\n",
    "        gfluxstaterr = the_spec['STATERROR'].to(u.erg/(u.cm)**2/u.s/u.nm, equivalencies=u.spectral())\n",
    "        gfluxsyserr = np.sqrt(the_spec['SYSERROR']).to(u.erg/(u.cm)**2/u.s/u.nm, equivalencies=u.spectral())\n",
    "        \n",
    "        d = h5group.create_dataset(\"gWAVELENGTH\",data=gwl,compression=\"gzip\", compression_opts=9)\n",
    "        d = h5group.create_dataset(\"gFLUX\",data=gfluxdata,compression=\"gzip\", compression_opts=9)\n",
    "        d = h5group.create_dataset(\"gSTATERROR\",data=gfluxstaterr,compression=\"gzip\", compression_opts=9)\n",
    "        d = h5group.create_dataset(\"gSYSERROR\",data=gfluxsyserr,compression=\"gzip\", compression_opts=9)\n",
    "\n",
    "        cwl = the_calspec['WAVELENGTH'].to(u.nm)\n",
    "        cfluxdata = the_calspec['FLUX'].to(u.erg/(u.cm)**2/u.s/u.nm, equivalencies=u.spectral())\n",
    "        cfluxstaterr = the_calspec['STATERROR'].to(u.erg/(u.cm)**2/u.s/u.nm, equivalencies=u.spectral())\n",
    "        cfluxsyserr = the_calspec['SYSERROR'].to(u.erg/(u.cm)**2/u.s/u.nm, equivalencies=u.spectral())\n",
    "        \n",
    "        d = h5group.create_dataset(\"cWAVELENGTH\",data=cwl,compression=\"gzip\", compression_opts=9)\n",
    "        d = h5group.create_dataset(\"cFLUX\",data=cfluxdata,compression=\"gzip\", compression_opts=9)\n",
    "        d = h5group.create_dataset(\"cSTATERROR\",data=cfluxstaterr,compression=\"gzip\", compression_opts=9)\n",
    "        d = h5group.create_dataset(\"cSYSERROR\",data=cfluxsyserr,compression=\"gzip\", compression_opts=9)\n",
    "\n",
    "\n",
    "        "
   ]
  },
  {
   "cell_type": "code",
   "execution_count": null,
   "id": "6e8f5351-ef6c-4d80-b92a-90c851fc9653",
   "metadata": {
    "execution": {
     "iopub.execute_input": "2024-10-05T17:58:49.881603Z",
     "iopub.status.busy": "2024-10-05T17:58:49.881472Z",
     "iopub.status.idle": "2024-10-05T17:58:49.883945Z",
     "shell.execute_reply": "2024-10-05T17:58:49.883647Z",
     "shell.execute_reply.started": "2024-10-05T17:58:49.881590Z"
    }
   },
   "outputs": [],
   "source": [
    "if FLAG_SAVEHDF5:\n",
    "    print(hf_outfile.keys())"
   ]
  },
  {
   "cell_type": "code",
   "execution_count": null,
   "id": "7bc9150b-89b4-488a-a54f-880e26940045",
   "metadata": {
    "execution": {
     "iopub.execute_input": "2024-10-05T17:58:49.884495Z",
     "iopub.status.busy": "2024-10-05T17:58:49.884378Z",
     "iopub.status.idle": "2024-10-05T17:58:50.004518Z",
     "shell.execute_reply": "2024-10-05T17:58:50.004161Z",
     "shell.execute_reply.started": "2024-10-05T17:58:49.884484Z"
    }
   },
   "outputs": [],
   "source": [
    "if FLAG_SAVEHDF5:\n",
    "    hf_outfile.close() "
   ]
  },
  {
   "cell_type": "code",
   "execution_count": null,
   "id": "511cb2f5-ea78-4857-ba98-f021ce597133",
   "metadata": {},
   "outputs": [],
   "source": []
  }
 ],
 "metadata": {
  "kernelspec": {
   "display_name": "Python 3 (ipykernel)",
   "language": "python",
   "name": "python3"
  },
  "language_info": {
   "codemirror_mode": {
    "name": "ipython",
    "version": 3
   },
   "file_extension": ".py",
   "mimetype": "text/x-python",
   "name": "python",
   "nbconvert_exporter": "python",
   "pygments_lexer": "ipython3",
   "version": "3.11.5"
  }
 },
 "nbformat": 4,
 "nbformat_minor": 5
}
