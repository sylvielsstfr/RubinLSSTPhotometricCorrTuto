{
 "cells": [
  {
   "cell_type": "markdown",
   "id": "ad5a3ac3-1d31-4599-995b-fc544a7da5ae",
   "metadata": {},
   "source": [
    "# Save Gaia and Calspec spectra in hdf5 file"
   ]
  },
  {
   "cell_type": "markdown",
   "id": "ac5107e7-d490-4e81-9296-6bfb7af6dce4",
   "metadata": {},
   "source": [
    "- author Sylvie Dagoret-Campagne\n",
    "- affiliation IJCLab\n",
    "- creation date : 2024/10/05\n",
    "- update : 2024/10/05 : write both spectra"
   ]
  },
  {
   "cell_type": "markdown",
   "id": "258fb1b3-0daf-4dbe-971a-247c8a92d4f2",
   "metadata": {},
   "source": [
    "- Inspried from : https://github.com/JospehCeh/PhotoZ_PhD/blob/u/dagoret/StudyFors2SED/convertFors2spectratohdf5.ipynb"
   ]
  },
  {
   "cell_type": "code",
   "execution_count": null,
   "id": "1edbe7f0-c493-4659-8949-c17da1b52dfc",
   "metadata": {
    "execution": {
     "iopub.execute_input": "2024-10-05T13:44:22.833577Z",
     "iopub.status.busy": "2024-10-05T13:44:22.833456Z",
     "iopub.status.idle": "2024-10-05T13:44:23.530012Z",
     "shell.execute_reply": "2024-10-05T13:44:23.529563Z",
     "shell.execute_reply.started": "2024-10-05T13:44:22.833565Z"
    },
    "tags": []
   },
   "outputs": [],
   "source": [
    "import numpy as np\n",
    "import matplotlib.pyplot as plt\n",
    "%matplotlib inline\n",
    "import matplotlib as mpl\n",
    "import matplotlib.colors as colors\n",
    "import matplotlib.cm as cmx\n",
    "from mpl_toolkits.axes_grid1 import make_axes_locatable\n",
    "from matplotlib.colors import LogNorm\n",
    "from matplotlib.gridspec import GridSpec\n",
    "import pandas as pd\n",
    "\n",
    "import matplotlib.ticker                         # here's where the formatter is\n",
    "import os,sys\n",
    "import re\n",
    "import pandas as pd\n",
    "\n",
    "from astropy.io import fits\n",
    "from astropy import units as u\n",
    "from astropy import constants as c\n",
    "\n",
    "plt.rcParams[\"figure.figsize\"] = (8,6)\n",
    "plt.rcParams[\"axes.labelsize\"] = 'xx-large'\n",
    "plt.rcParams['axes.titlesize'] = 'xx-large'\n",
    "plt.rcParams['xtick.labelsize']= 'xx-large'\n",
    "plt.rcParams['ytick.labelsize']= 'xx-large'\n",
    "\n",
    "import pickle\n",
    "from scipy.interpolate import RegularGridInterpolator\n",
    "import h5py"
   ]
  },
  {
   "cell_type": "code",
   "execution_count": null,
   "id": "faed402e-c407-49d4-b992-a8728eaf15c9",
   "metadata": {
    "execution": {
     "iopub.execute_input": "2024-10-05T13:44:23.531403Z",
     "iopub.status.busy": "2024-10-05T13:44:23.531103Z",
     "iopub.status.idle": "2024-10-05T13:44:23.533689Z",
     "shell.execute_reply": "2024-10-05T13:44:23.533295Z",
     "shell.execute_reply.started": "2024-10-05T13:44:23.531388Z"
    }
   },
   "outputs": [],
   "source": [
    "pd.set_option('display.max_columns', 500)"
   ]
  },
  {
   "cell_type": "code",
   "execution_count": null,
   "id": "ce04b895-01a2-4112-aa2c-8953f6a0caee",
   "metadata": {
    "execution": {
     "iopub.execute_input": "2024-10-05T13:44:23.534312Z",
     "iopub.status.busy": "2024-10-05T13:44:23.534191Z",
     "iopub.status.idle": "2024-10-05T13:44:23.539271Z",
     "shell.execute_reply": "2024-10-05T13:44:23.538901Z",
     "shell.execute_reply.started": "2024-10-05T13:44:23.534300Z"
    },
    "tags": []
   },
   "outputs": [],
   "source": [
    "machine_name = os.uname().nodename\n",
    "path_rubinsimphot = \"repos/repos_w_2024_38/rubinsimphot/src\"\n",
    "if 'sdf' in machine_name:\n",
    "    #machine_name_usdf = 'sdfrome001'\n",
    "    print(\"Set environment for USDF\")\n",
    "    newpythonpath = os.path.join(os.getenv(\"HOME\"),path_rubinsimphot)\n",
    "    sys.path.append(newpythonpath)\n",
    "elif 'dagoret-nb' in machine_name:\n",
    "    print(\"Set environment for USDF Rubin Science Platform\")\n",
    "    newpythonpath = os.path.join(os.getenv(\"HOME\"),path_rubinsimphot)\n",
    "    sys.path.append(newpythonpath)    \n",
    "elif 'mac' in machine_name:\n",
    "    print(\"Be sure to run this notebook in conda environment named conda_py310\")\n",
    "else:\n",
    "    print(f\"Your current machine name is {machine_name}. Check your python environment\")"
   ]
  },
  {
   "cell_type": "code",
   "execution_count": null,
   "id": "cd9d63cd-664a-439f-8ba7-3799182c8b66",
   "metadata": {
    "execution": {
     "iopub.execute_input": "2024-10-05T13:44:23.539853Z",
     "iopub.status.busy": "2024-10-05T13:44:23.539732Z",
     "iopub.status.idle": "2024-10-05T13:44:23.660945Z",
     "shell.execute_reply": "2024-10-05T13:44:23.660563Z",
     "shell.execute_reply.started": "2024-10-05T13:44:23.539841Z"
    }
   },
   "outputs": [],
   "source": [
    "import getCalspec"
   ]
  },
  {
   "cell_type": "code",
   "execution_count": null,
   "id": "8b6ebaef-5afc-4bfe-8710-682526edea02",
   "metadata": {
    "execution": {
     "iopub.execute_input": "2024-10-05T13:44:23.661678Z",
     "iopub.status.busy": "2024-10-05T13:44:23.661447Z",
     "iopub.status.idle": "2024-10-05T13:44:24.593343Z",
     "shell.execute_reply": "2024-10-05T13:44:24.592894Z",
     "shell.execute_reply.started": "2024-10-05T13:44:23.661664Z"
    }
   },
   "outputs": [],
   "source": [
    "try:\n",
    "    from gaiaspec import getGaia\n",
    "except ModuleNotFoundError:\n",
    "    getGaia = None"
   ]
  },
  {
   "cell_type": "markdown",
   "id": "85f7c4c3-d53f-4c8f-8382-2f49e4a7b570",
   "metadata": {},
   "source": [
    "## Config "
   ]
  },
  {
   "cell_type": "code",
   "execution_count": null,
   "id": "8a2bd1d2-6dfc-48c1-b0f3-74938f1792f6",
   "metadata": {
    "execution": {
     "iopub.execute_input": "2024-10-05T13:44:24.594088Z",
     "iopub.status.busy": "2024-10-05T13:44:24.593952Z",
     "iopub.status.idle": "2024-10-05T13:44:24.596184Z",
     "shell.execute_reply": "2024-10-05T13:44:24.595816Z",
     "shell.execute_reply.started": "2024-10-05T13:44:24.594075Z"
    }
   },
   "outputs": [],
   "source": [
    "FLAG_FILE_ACCESS = True"
   ]
  },
  {
   "cell_type": "code",
   "execution_count": null,
   "id": "fd140ca9-9abe-4a1f-9e07-4505b5d50468",
   "metadata": {
    "execution": {
     "iopub.execute_input": "2024-10-05T13:44:24.596913Z",
     "iopub.status.busy": "2024-10-05T13:44:24.596734Z",
     "iopub.status.idle": "2024-10-05T13:44:24.599495Z",
     "shell.execute_reply": "2024-10-05T13:44:24.599136Z",
     "shell.execute_reply.started": "2024-10-05T13:44:24.596901Z"
    }
   },
   "outputs": [],
   "source": [
    "cat_fn = \"calspec_v2.csv\""
   ]
  },
  {
   "cell_type": "code",
   "execution_count": null,
   "id": "f6e83722-ceb7-437d-8484-2abc723e28ee",
   "metadata": {
    "execution": {
     "iopub.execute_input": "2024-10-05T13:44:24.601364Z",
     "iopub.status.busy": "2024-10-05T13:44:24.601056Z",
     "iopub.status.idle": "2024-10-05T13:44:24.604055Z",
     "shell.execute_reply": "2024-10-05T13:44:24.603719Z",
     "shell.execute_reply.started": "2024-10-05T13:44:24.601350Z"
    }
   },
   "outputs": [],
   "source": [
    "FLAG_PLOT = False\n",
    "FLAG_SAVEHDF5 = True"
   ]
  },
  {
   "cell_type": "code",
   "execution_count": null,
   "id": "576d7e81-1b9d-43ac-a02b-0cd81701a4c4",
   "metadata": {
    "execution": {
     "iopub.execute_input": "2024-10-05T13:44:24.604656Z",
     "iopub.status.busy": "2024-10-05T13:44:24.604541Z",
     "iopub.status.idle": "2024-10-05T13:44:24.608004Z",
     "shell.execute_reply": "2024-10-05T13:44:24.607645Z",
     "shell.execute_reply.started": "2024-10-05T13:44:24.604644Z"
    }
   },
   "outputs": [],
   "source": [
    "output_path = \"data_gaiacalspecspectra\"\n",
    "output_file_h5  = 'GAIACALSPECspectra.hdf5'\n",
    "output_fullfile_h5 = os.path.join(output_path,output_file_h5)"
   ]
  },
  {
   "cell_type": "code",
   "execution_count": null,
   "id": "12ba0aa5-6c02-41ff-8e7b-dfddf80a090a",
   "metadata": {
    "execution": {
     "iopub.execute_input": "2024-10-05T13:44:24.608619Z",
     "iopub.status.busy": "2024-10-05T13:44:24.608502Z",
     "iopub.status.idle": "2024-10-05T13:44:24.612479Z",
     "shell.execute_reply": "2024-10-05T13:44:24.612083Z",
     "shell.execute_reply.started": "2024-10-05T13:44:24.608609Z"
    }
   },
   "outputs": [],
   "source": [
    "if not os.path.exists(output_path):\n",
    "    os.mkdir(output_path)"
   ]
  },
  {
   "cell_type": "markdown",
   "id": "3928a3c2-ffbf-4e71-8d62-fcab643c4696",
   "metadata": {},
   "source": [
    "## Read catalog"
   ]
  },
  {
   "cell_type": "code",
   "execution_count": null,
   "id": "b35178a4-e1ef-40a3-a0f8-68cc3558bde8",
   "metadata": {
    "execution": {
     "iopub.execute_input": "2024-10-05T13:44:24.613179Z",
     "iopub.status.busy": "2024-10-05T13:44:24.612975Z",
     "iopub.status.idle": "2024-10-05T13:44:24.630134Z",
     "shell.execute_reply": "2024-10-05T13:44:24.629757Z",
     "shell.execute_reply.started": "2024-10-05T13:44:24.613168Z"
    }
   },
   "outputs": [],
   "source": [
    "if FLAG_FILE_ACCESS: \n",
    "    df = pd.read_csv(cat_fn,index_col=0)\n",
    "    df[\"GAIA_ED3_Name\"] = df[\"GAIA_ED3_Name\"].astype('Int64')\n",
    "else:\n",
    "    df = getGaia.get_gaia_calspec_matching()\n",
    "    df[\"GAIA_DR3_Name\"] = df[\"GAIA_DR3_Name\"].astype('Int64')\n",
    "df"
   ]
  },
  {
   "cell_type": "code",
   "execution_count": null,
   "id": "c3d34890-c0d3-4e90-a5fd-79b6e9216245",
   "metadata": {
    "execution": {
     "iopub.execute_input": "2024-10-05T13:44:24.630749Z",
     "iopub.status.busy": "2024-10-05T13:44:24.630630Z",
     "iopub.status.idle": "2024-10-05T13:44:24.633187Z",
     "shell.execute_reply": "2024-10-05T13:44:24.632841Z",
     "shell.execute_reply.started": "2024-10-05T13:44:24.630738Z"
    }
   },
   "outputs": [],
   "source": [
    "if FLAG_FILE_ACCESS: \n",
    "    df_s = df[[\"HD_name\",\"GAIA_ED3_Name\"]]\n",
    "else:\n",
    "    df_s = df[[\"HD_name\",\"GAIA_DR3_Name\"]] "
   ]
  },
  {
   "cell_type": "code",
   "execution_count": null,
   "id": "87cc2421-6960-43be-adbd-eb5b5315fd03",
   "metadata": {
    "execution": {
     "iopub.execute_input": "2024-10-05T13:44:24.633784Z",
     "iopub.status.busy": "2024-10-05T13:44:24.633667Z",
     "iopub.status.idle": "2024-10-05T13:44:24.636773Z",
     "shell.execute_reply": "2024-10-05T13:44:24.636400Z",
     "shell.execute_reply.started": "2024-10-05T13:44:24.633774Z"
    }
   },
   "outputs": [],
   "source": [
    "df_s = df_s.dropna(axis=0)"
   ]
  },
  {
   "cell_type": "code",
   "execution_count": null,
   "id": "53378a3e-b456-4e67-841d-5d52d5d7a33b",
   "metadata": {
    "execution": {
     "iopub.execute_input": "2024-10-05T13:44:24.637404Z",
     "iopub.status.busy": "2024-10-05T13:44:24.637282Z",
     "iopub.status.idle": "2024-10-05T13:44:24.641301Z",
     "shell.execute_reply": "2024-10-05T13:44:24.640965Z",
     "shell.execute_reply.started": "2024-10-05T13:44:24.637393Z"
    }
   },
   "outputs": [],
   "source": [
    "if FLAG_FILE_ACCESS: \n",
    "    list_of_gaia_ids = df_s.GAIA_ED3_Name.unique()\n",
    "else:    \n",
    "    list_of_gaia_ids = df_s.GAIA_DR3_Name.unique()"
   ]
  },
  {
   "cell_type": "code",
   "execution_count": null,
   "id": "8d29c76e-8b33-40a0-9b4b-b09d934aaafe",
   "metadata": {
    "execution": {
     "iopub.execute_input": "2024-10-05T13:44:24.641895Z",
     "iopub.status.busy": "2024-10-05T13:44:24.641776Z",
     "iopub.status.idle": "2024-10-05T13:44:24.644462Z",
     "shell.execute_reply": "2024-10-05T13:44:24.644120Z",
     "shell.execute_reply.started": "2024-10-05T13:44:24.641884Z"
    }
   },
   "outputs": [],
   "source": [
    "list_of_gaia_ids = list_of_gaia_ids[~np.isnan(list_of_gaia_ids)]"
   ]
  },
  {
   "cell_type": "code",
   "execution_count": null,
   "id": "b3bf6729-e4d1-4873-b7fa-87204764fb89",
   "metadata": {
    "execution": {
     "iopub.execute_input": "2024-10-05T13:44:24.645055Z",
     "iopub.status.busy": "2024-10-05T13:44:24.644942Z",
     "iopub.status.idle": "2024-10-05T13:44:24.648866Z",
     "shell.execute_reply": "2024-10-05T13:44:24.648529Z",
     "shell.execute_reply.started": "2024-10-05T13:44:24.645044Z"
    }
   },
   "outputs": [],
   "source": [
    "list_of_gaia_ids = list_of_gaia_ids.astype(int)"
   ]
  },
  {
   "cell_type": "code",
   "execution_count": null,
   "id": "fb4ad23d-c811-4ca6-985b-d34b234e0a05",
   "metadata": {
    "execution": {
     "iopub.execute_input": "2024-10-05T13:44:24.649506Z",
     "iopub.status.busy": "2024-10-05T13:44:24.649388Z",
     "iopub.status.idle": "2024-10-05T13:44:24.655210Z",
     "shell.execute_reply": "2024-10-05T13:44:24.654740Z",
     "shell.execute_reply.started": "2024-10-05T13:44:24.649495Z"
    }
   },
   "outputs": [],
   "source": [
    "list_of_gaia_ids"
   ]
  },
  {
   "cell_type": "code",
   "execution_count": null,
   "id": "f82497d0-91fe-4738-b3b7-33883f827141",
   "metadata": {
    "execution": {
     "iopub.execute_input": "2024-10-05T13:44:24.655915Z",
     "iopub.status.busy": "2024-10-05T13:44:24.655736Z",
     "iopub.status.idle": "2024-10-05T13:44:24.659362Z",
     "shell.execute_reply": "2024-10-05T13:44:24.658915Z",
     "shell.execute_reply.started": "2024-10-05T13:44:24.655903Z"
    }
   },
   "outputs": [],
   "source": [
    "try:\n",
    "    from gaiaspec import getGaia\n",
    "except ModuleNotFoundError:\n",
    "    getGaia = None"
   ]
  },
  {
   "cell_type": "markdown",
   "id": "75c8aee7-6ca0-4eab-b9ae-dfa0b38d8840",
   "metadata": {},
   "source": [
    "## Check the correspondence of names"
   ]
  },
  {
   "cell_type": "code",
   "execution_count": null,
   "id": "696f0b6b-4269-440d-b741-7d3a283b9e04",
   "metadata": {
    "execution": {
     "iopub.execute_input": "2024-10-05T13:44:24.659936Z",
     "iopub.status.busy": "2024-10-05T13:44:24.659824Z",
     "iopub.status.idle": "2024-10-05T13:44:24.666493Z",
     "shell.execute_reply": "2024-10-05T13:44:24.666062Z",
     "shell.execute_reply.started": "2024-10-05T13:44:24.659925Z"
    }
   },
   "outputs": [],
   "source": [
    "df_s.reset_index(drop=True, inplace=True)\n",
    "df_s"
   ]
  },
  {
   "cell_type": "markdown",
   "id": "b93a0014-19bb-4e4a-bccf-7e0bcaf27634",
   "metadata": {},
   "source": [
    "## Extract all the spectra"
   ]
  },
  {
   "cell_type": "code",
   "execution_count": null,
   "id": "5f12ffcd-6d62-43b8-9a63-59c5430eba60",
   "metadata": {
    "execution": {
     "iopub.execute_input": "2024-10-05T13:44:24.667113Z",
     "iopub.status.busy": "2024-10-05T13:44:24.666994Z",
     "iopub.status.idle": "2024-10-05T13:44:44.298792Z",
     "shell.execute_reply": "2024-10-05T13:44:44.298328Z",
     "shell.execute_reply.started": "2024-10-05T13:44:24.667102Z"
    }
   },
   "outputs": [],
   "source": [
    "all_gaia = [] # container for gaia object\n",
    "all_spec_dict = [] # container for gaia spectra spectra\n",
    "all_calspec = []\n",
    "all_calspec_dict = []\n",
    "all_row = [] # container for info on \n",
    "for idx,hd_name in enumerate(df_s.HD_name.values):\n",
    "    row = df[df[\"HD_name\"] == hd_name]\n",
    "    gaianum = getGaia.get_gaia_name_from_star_name(hd_name)\n",
    "    print(hd_name, gaianum)\n",
    "    g = getGaia.Gaia(hd_name)\n",
    "    c = getCalspec.Calspec(hd_name)\n",
    "    try:\n",
    "        #spec_dict = getGaia.get_gaia_from_query_id(gaianum)\n",
    "        spec_dict = g.get_spectrum_numpy(hd_name)\n",
    "        calspec_dict = c.get_spectrum_numpy()\n",
    "        all_spec_dict.append(spec_dict)\n",
    "        all_calspec_dict.append(calspec_dict)\n",
    "        all_gaia.append(g)\n",
    "        all_calspec.append(c)\n",
    "        all_row.append(row)\n",
    "        #pass\n",
    "    except Exception as inst:\n",
    "        print(type(inst))    # the exception type\n",
    "        print(inst.args)     # arguments stored in .args\n",
    "        print(inst)          # __str__ allows args to be printed directly,\n",
    "                         # but may be overridden in exception subclasses\n",
    "        #x, y = inst.args     # unpack args\n",
    "        #print('x =', x)\n",
    "        #print('y =', y)\n",
    "    \n",
    "N = len(all_gaia)"
   ]
  },
  {
   "cell_type": "code",
   "execution_count": null,
   "id": "538dad99-6855-4317-b3fc-87b83efa9016",
   "metadata": {
    "execution": {
     "iopub.execute_input": "2024-10-05T13:44:44.299582Z",
     "iopub.status.busy": "2024-10-05T13:44:44.299444Z",
     "iopub.status.idle": "2024-10-05T13:44:44.302029Z",
     "shell.execute_reply": "2024-10-05T13:44:44.301661Z",
     "shell.execute_reply.started": "2024-10-05T13:44:44.299570Z"
    }
   },
   "outputs": [],
   "source": [
    "if FLAG_PLOT:\n",
    "    for idx,star_gaia in enumerate(all_gaia):  \n",
    "        star_gaia.plot_spectrum(xscale='linear', yscale='linear') "
   ]
  },
  {
   "cell_type": "markdown",
   "id": "193180aa-729d-4238-b256-cb84c87f8f7a",
   "metadata": {},
   "source": [
    "## Save spectra in files\n",
    "- example TO WRITE : https://github.com/JospehCeh/PhotoZ_PhD/blob/u/dagoret/StudyFors2SED/convertFors2spectratohdf5.ipynb\n",
    "- example TO READ : https://github.com/JospehCeh/PhotoZ_PhD/blob/u/dagoret/StudyFors2SED/ReadFors2spectrafromh5.ipynb"
   ]
  },
  {
   "cell_type": "code",
   "execution_count": null,
   "id": "3c4a1cd6-8f07-477b-8eb7-1481a28a2dc5",
   "metadata": {
    "execution": {
     "iopub.execute_input": "2024-10-05T13:44:44.302657Z",
     "iopub.status.busy": "2024-10-05T13:44:44.302530Z",
     "iopub.status.idle": "2024-10-05T13:44:44.947611Z",
     "shell.execute_reply": "2024-10-05T13:44:44.947151Z",
     "shell.execute_reply.started": "2024-10-05T13:44:44.302645Z"
    }
   },
   "outputs": [],
   "source": [
    "if FLAG_SAVEHDF5:\n",
    "\n",
    "    hf_outfile =  h5py.File(output_fullfile_h5, 'w') \n",
    "    for idx,star_gaia in enumerate(all_gaia):  \n",
    "        the_row = all_row[idx]\n",
    "        the_spec = all_spec_dict[idx]\n",
    "        the_calspec = all_calspec_dict[idx]\n",
    "        hdname = the_row[\"HD_name\"].values[0]\n",
    "        gaianame = the_row[\"GAIA_ED3_Name\"].values[0]\n",
    "        tag = f\"{hdname}_{gaianame}\"\n",
    "        print(tag)\n",
    "        h5group = hf_outfile.create_group(tag)\n",
    "        # save attributes\n",
    "        for colname in list(the_row.columns):\n",
    "            #print(colname)\n",
    "            h5group.attrs[colname] = the_row[colname].values[0]\n",
    "        #print(the_spec.keys())\n",
    "        #print(the_spec['WAVELENGTH'])\n",
    "        #print(the_spec['FLUX'])\n",
    "        #print(the_spec['STATERROR'])\n",
    "        #print(the_spec['SYSERROR'])\n",
    "        # save the arrays\n",
    "        d = h5group.create_dataset(\"gWAVELENGTH\",data=the_spec['WAVELENGTH'],compression=\"gzip\", compression_opts=9)\n",
    "        d = h5group.create_dataset(\"gFLUX\",data=the_spec['FLUX'],compression=\"gzip\", compression_opts=9)\n",
    "        d = h5group.create_dataset(\"gSTATERROR\",data=the_spec['STATERROR'],compression=\"gzip\", compression_opts=9)\n",
    "        d = h5group.create_dataset(\"gSYSERROR\",data=the_spec['SYSERROR'],compression=\"gzip\", compression_opts=9)\n",
    "        d = h5group.create_dataset(\"cWAVELENGTH\",data=the_calspec['WAVELENGTH'],compression=\"gzip\", compression_opts=9)\n",
    "        d = h5group.create_dataset(\"cFLUX\",data=the_calspec['FLUX'],compression=\"gzip\", compression_opts=9)\n",
    "        d = h5group.create_dataset(\"cSTATERROR\",data=the_calspec['STATERROR'],compression=\"gzip\", compression_opts=9)\n",
    "        d = h5group.create_dataset(\"cSYSERROR\",data=the_calspec['SYSERROR'],compression=\"gzip\", compression_opts=9)\n",
    "\n",
    "\n",
    "        "
   ]
  },
  {
   "cell_type": "code",
   "execution_count": null,
   "id": "6e8f5351-ef6c-4d80-b92a-90c851fc9653",
   "metadata": {
    "execution": {
     "iopub.execute_input": "2024-10-05T13:44:44.948376Z",
     "iopub.status.busy": "2024-10-05T13:44:44.948236Z",
     "iopub.status.idle": "2024-10-05T13:44:44.950901Z",
     "shell.execute_reply": "2024-10-05T13:44:44.950508Z",
     "shell.execute_reply.started": "2024-10-05T13:44:44.948364Z"
    }
   },
   "outputs": [],
   "source": [
    "if FLAG_SAVEHDF5:\n",
    "    print(hf_outfile.keys())"
   ]
  },
  {
   "cell_type": "code",
   "execution_count": null,
   "id": "7bc9150b-89b4-488a-a54f-880e26940045",
   "metadata": {
    "execution": {
     "iopub.execute_input": "2024-10-05T13:44:44.951653Z",
     "iopub.status.busy": "2024-10-05T13:44:44.951527Z",
     "iopub.status.idle": "2024-10-05T13:44:44.965364Z",
     "shell.execute_reply": "2024-10-05T13:44:44.965014Z",
     "shell.execute_reply.started": "2024-10-05T13:44:44.951641Z"
    }
   },
   "outputs": [],
   "source": [
    "if FLAG_SAVEHDF5:\n",
    "    hf_outfile.close() "
   ]
  },
  {
   "cell_type": "code",
   "execution_count": null,
   "id": "511cb2f5-ea78-4857-ba98-f021ce597133",
   "metadata": {},
   "outputs": [],
   "source": []
  }
 ],
 "metadata": {
  "kernelspec": {
   "display_name": "LSST",
   "language": "python",
   "name": "lsst"
  },
  "language_info": {
   "codemirror_mode": {
    "name": "ipython",
    "version": 3
   },
   "file_extension": ".py",
   "mimetype": "text/x-python",
   "name": "python",
   "nbconvert_exporter": "python",
   "pygments_lexer": "ipython3",
   "version": "3.11.9"
  }
 },
 "nbformat": 4,
 "nbformat_minor": 5
}
