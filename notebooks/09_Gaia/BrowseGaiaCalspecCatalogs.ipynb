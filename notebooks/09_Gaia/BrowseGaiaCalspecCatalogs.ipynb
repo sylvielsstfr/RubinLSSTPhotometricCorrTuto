{
 "cells": [
  {
   "cell_type": "markdown",
   "id": "ad5a3ac3-1d31-4599-995b-fc544a7da5ae",
   "metadata": {},
   "source": [
    "# Browse Gaia and Calspec catalogs"
   ]
  },
  {
   "cell_type": "markdown",
   "id": "ac5107e7-d490-4e81-9296-6bfb7af6dce4",
   "metadata": {},
   "source": [
    "- author Sylvie Dagoret-Campagne\n",
    "- affiliation IJCLab\n",
    "- creation date : 2024/10/05"
   ]
  },
  {
   "cell_type": "code",
   "execution_count": null,
   "id": "1edbe7f0-c493-4659-8949-c17da1b52dfc",
   "metadata": {
    "tags": []
   },
   "outputs": [],
   "source": [
    "import numpy as np\n",
    "import matplotlib.pyplot as plt\n",
    "%matplotlib inline\n",
    "import matplotlib as mpl\n",
    "import matplotlib.colors as colors\n",
    "import matplotlib.cm as cmx\n",
    "from mpl_toolkits.axes_grid1 import make_axes_locatable\n",
    "from matplotlib.colors import LogNorm\n",
    "from matplotlib.gridspec import GridSpec\n",
    "import pandas as pd\n",
    "\n",
    "import matplotlib.ticker                         # here's where the formatter is\n",
    "import os,sys\n",
    "import re\n",
    "import pandas as pd\n",
    "\n",
    "from astropy.io import fits\n",
    "from astropy import units as u\n",
    "from astropy import constants as c\n",
    "\n",
    "plt.rcParams[\"figure.figsize\"] = (8,6)\n",
    "plt.rcParams[\"axes.labelsize\"] = 'xx-large'\n",
    "plt.rcParams['axes.titlesize'] = 'xx-large'\n",
    "plt.rcParams['xtick.labelsize']= 'xx-large'\n",
    "plt.rcParams['ytick.labelsize']= 'xx-large'\n",
    "\n",
    "import pickle\n",
    "from scipy.interpolate import RegularGridInterpolator"
   ]
  },
  {
   "cell_type": "code",
   "execution_count": null,
   "id": "faed402e-c407-49d4-b992-a8728eaf15c9",
   "metadata": {},
   "outputs": [],
   "source": [
    "pd.set_option('display.max_columns', 500)"
   ]
  },
  {
   "cell_type": "code",
   "execution_count": null,
   "id": "ce04b895-01a2-4112-aa2c-8953f6a0caee",
   "metadata": {
    "tags": []
   },
   "outputs": [],
   "source": [
    "machine_name = os.uname().nodename\n",
    "path_rubinsimphot = \"repos/repos_w_2024_38/rubinsimphot/src\"\n",
    "if 'sdf' in machine_name:\n",
    "    #machine_name_usdf = 'sdfrome001'\n",
    "    print(\"Set environment for USDF\")\n",
    "    newpythonpath = os.path.join(os.getenv(\"HOME\"),path_rubinsimphot)\n",
    "    sys.path.append(newpythonpath)\n",
    "elif 'dagoret-nb' in machine_name:\n",
    "    print(\"Set environment for USDF Rubin Science Platform\")\n",
    "    newpythonpath = os.path.join(os.getenv(\"HOME\"),path_rubinsimphot)\n",
    "    sys.path.append(newpythonpath)    \n",
    "elif 'mac' in machine_name:\n",
    "    print(\"Be sure to run this notebook in conda environment named conda_py310\")\n",
    "else:\n",
    "    print(f\"Your current machine name is {machine_name}. Check your python environment\")"
   ]
  },
  {
   "cell_type": "code",
   "execution_count": null,
   "id": "ba5ef15e-9eb1-43eb-952c-fcdae0297e6a",
   "metadata": {},
   "outputs": [],
   "source": [
    "import getCalspec"
   ]
  },
  {
   "cell_type": "code",
   "execution_count": null,
   "id": "2fe6c64e-7558-4722-9e5a-0bd12ac32b3c",
   "metadata": {},
   "outputs": [],
   "source": [
    "try:\n",
    "    from gaiaspec import getGaia\n",
    "except ModuleNotFoundError:\n",
    "    getGaia = None"
   ]
  },
  {
   "cell_type": "markdown",
   "id": "85f7c4c3-d53f-4c8f-8382-2f49e4a7b570",
   "metadata": {},
   "source": [
    "## Config "
   ]
  },
  {
   "cell_type": "code",
   "execution_count": null,
   "id": "fb411074-9de5-4b05-97aa-737744b7928a",
   "metadata": {},
   "outputs": [],
   "source": [
    "FLAG_FILE_ACCESS = True"
   ]
  },
  {
   "cell_type": "code",
   "execution_count": null,
   "id": "704081e1-753a-4a8d-93ac-8f3b6e6e5f97",
   "metadata": {},
   "outputs": [],
   "source": []
  },
  {
   "cell_type": "code",
   "execution_count": null,
   "id": "fd140ca9-9abe-4a1f-9e07-4505b5d50468",
   "metadata": {},
   "outputs": [],
   "source": [
    "cat_fn = \"calspec_v2.csv\""
   ]
  },
  {
   "cell_type": "code",
   "execution_count": null,
   "id": "26b4fa86-7aa3-4165-bcb2-04cf735ad830",
   "metadata": {
    "tags": []
   },
   "outputs": [],
   "source": [
    "#list_of_targets = [\"HD111235\",\"HD144334\",\"HD73495\",\"HD165763\"] "
   ]
  },
  {
   "cell_type": "markdown",
   "id": "3928a3c2-ffbf-4e71-8d62-fcab643c4696",
   "metadata": {},
   "source": [
    "## Read catalog"
   ]
  },
  {
   "cell_type": "code",
   "execution_count": null,
   "id": "ae8ff3b1-e951-499b-b8c1-7b5be3c9f0c3",
   "metadata": {},
   "outputs": [],
   "source": [
    "if FLAG_FILE_ACCESS: \n",
    "    df = pd.read_csv(cat_fn,index_col=0)\n",
    "    df[\"GAIA_ED3_Name\"] = df[\"GAIA_ED3_Name\"].astype('Int64')\n",
    "else:\n",
    "    df = getGaia.get_gaia_calspec_matching()\n",
    "    df[\"GAIA_DR3_Name\"] = df[\"GAIA_DR3_Name\"].astype('Int64')\n",
    "df"
   ]
  },
  {
   "cell_type": "code",
   "execution_count": null,
   "id": "7f2a9d52-fb13-4059-9a3a-8ddcd1902862",
   "metadata": {},
   "outputs": [],
   "source": [
    "#for target in list_of_targets:\n",
    "#    row = df[df.HD_name == target]\n",
    "#    print(row)"
   ]
  },
  {
   "cell_type": "code",
   "execution_count": null,
   "id": "a72d465a-96ad-4f70-b347-d0373075abb9",
   "metadata": {},
   "outputs": [],
   "source": [
    "if FLAG_FILE_ACCESS: \n",
    "    df_s = df[[\"HD_name\",\"GAIA_ED3_Name\"]]\n",
    "else:\n",
    "    df_s = df[[\"HD_name\",\"GAIA_DR3_Name\"]] "
   ]
  },
  {
   "cell_type": "code",
   "execution_count": null,
   "id": "87cc2421-6960-43be-adbd-eb5b5315fd03",
   "metadata": {},
   "outputs": [],
   "source": [
    "df_s = df_s.dropna(axis=0)"
   ]
  },
  {
   "cell_type": "code",
   "execution_count": null,
   "id": "84b39bbd-c14c-4992-8f52-c678b9b91c3d",
   "metadata": {},
   "outputs": [],
   "source": [
    "if FLAG_FILE_ACCESS: \n",
    "    list_of_gaia_ids = df_s.GAIA_ED3_Name.unique()\n",
    "else:    \n",
    "    list_of_gaia_ids = df_s.GAIA_DR3_Name.unique()"
   ]
  },
  {
   "cell_type": "code",
   "execution_count": null,
   "id": "8d29c76e-8b33-40a0-9b4b-b09d934aaafe",
   "metadata": {},
   "outputs": [],
   "source": [
    "list_of_gaia_ids = list_of_gaia_ids[~np.isnan(list_of_gaia_ids)]"
   ]
  },
  {
   "cell_type": "code",
   "execution_count": null,
   "id": "b3bf6729-e4d1-4873-b7fa-87204764fb89",
   "metadata": {},
   "outputs": [],
   "source": [
    "list_of_gaia_ids = list_of_gaia_ids.astype(int)"
   ]
  },
  {
   "cell_type": "code",
   "execution_count": null,
   "id": "fb4ad23d-c811-4ca6-985b-d34b234e0a05",
   "metadata": {},
   "outputs": [],
   "source": [
    "list_of_gaia_ids"
   ]
  },
  {
   "cell_type": "code",
   "execution_count": null,
   "id": "696f0b6b-4269-440d-b741-7d3a283b9e04",
   "metadata": {},
   "outputs": [],
   "source": [
    "df_s.reset_index(drop=True, inplace=True)\n",
    "df_s"
   ]
  },
  {
   "cell_type": "markdown",
   "id": "b93a0014-19bb-4e4a-bccf-7e0bcaf27634",
   "metadata": {},
   "source": [
    "## Extract all the spectra"
   ]
  },
  {
   "cell_type": "code",
   "execution_count": null,
   "id": "5f12ffcd-6d62-43b8-9a63-59c5430eba60",
   "metadata": {},
   "outputs": [],
   "source": [
    "all_gaia = [] # container for gaia object\n",
    "all_calspec = []\n",
    "all_calspec_dict = []\n",
    "all_spec_dict = [] # container for gaia spectra spectra\n",
    "all_row = [] # container for info on \n",
    "for idx,hd_name in enumerate(df_s.HD_name.values):\n",
    "    row = df[df[\"HD_name\"] == hd_name]\n",
    "    flag_calspec = getCalspec.is_calspec(hd_name)\n",
    "    gaianum = getGaia.get_gaia_name_from_star_name(hd_name)\n",
    "    print(hd_name, gaianum,\"iscalspec = \",flag_calspec)\n",
    "    g = getGaia.Gaia(hd_name)\n",
    "    c = getCalspec.Calspec(hd_name)\n",
    "    try:\n",
    "        #spec_dict = getGaia.get_gaia_from_query_id(gaianum)\n",
    "        spec_dict = g.get_spectrum_numpy(hd_name)\n",
    "        calspec_dict = c.get_spectrum_numpy()\n",
    "        all_spec_dict.append(spec_dict)\n",
    "        all_calspec_dict.append(calspec_dict)\n",
    "        all_gaia.append(g)\n",
    "        all_calspec.append(c)\n",
    "        all_row.append(row)\n",
    "        #pass\n",
    "    except Exception as inst:\n",
    "        print(type(inst))    # the exception type\n",
    "        print(inst.args)     # arguments stored in .args\n",
    "        print(inst)          # __str__ allows args to be printed directly,\n",
    "                         # but may be overridden in exception subclasses\n",
    "        #x, y = inst.args     # unpack args\n",
    "        #print('x =', x)\n",
    "        #print('y =', y)\n",
    "\n",
    "\n",
    "        \n",
    "    \n",
    "N = len(all_gaia)"
   ]
  },
  {
   "cell_type": "markdown",
   "id": "e35f51b7-bd64-4f4f-8316-0a129d1f41e4",
   "metadata": {},
   "source": [
    "## Plot"
   ]
  },
  {
   "cell_type": "code",
   "execution_count": null,
   "id": "538dad99-6855-4317-b3fc-87b83efa9016",
   "metadata": {},
   "outputs": [],
   "source": [
    "for idx,star_gaia in enumerate(all_gaia):  \n",
    "    star_gaia.plot_spectrum(xscale='linear', yscale='linear') "
   ]
  },
  {
   "cell_type": "code",
   "execution_count": null,
   "id": "6e8f5351-ef6c-4d80-b92a-90c851fc9653",
   "metadata": {},
   "outputs": [],
   "source": [
    "for idx,star_calspec in enumerate(all_calspec):  \n",
    "    star_gaia.plot_spectrum(xscale='linear', yscale='linear') "
   ]
  },
  {
   "cell_type": "code",
   "execution_count": null,
   "id": "e07e656a-192f-49ba-9404-6e0e35b6780d",
   "metadata": {},
   "outputs": [],
   "source": [
    "star_calspec.plot_spectrum?"
   ]
  },
  {
   "cell_type": "code",
   "execution_count": null,
   "id": "1f0b0649-0f11-4127-a77c-3e8db5b66c6e",
   "metadata": {},
   "outputs": [],
   "source": [
    "for idx,star_calspec in enumerate(all_calspec):  \n",
    "    #ax =plt.gca()\n",
    "    #ax.set_xlim(3000.,10000.)\n",
    "    star_calspec.plot_spectrum(xscale='log', yscale='log') \n",
    "    \n",
    "    \n"
   ]
  },
  {
   "cell_type": "markdown",
   "id": "aad914c5-ef41-491f-a248-9c5ac8ed340c",
   "metadata": {},
   "source": [
    "## Check units conversions"
   ]
  },
  {
   "cell_type": "code",
   "execution_count": null,
   "id": "05d17520-e22e-42a9-89b3-b5ea342919b0",
   "metadata": {},
   "outputs": [],
   "source": [
    "all_spec_dict[0]['WAVELENGTH'].unit "
   ]
  },
  {
   "cell_type": "code",
   "execution_count": null,
   "id": "fcd81751-7915-4858-b4ca-4ed05f3154e7",
   "metadata": {},
   "outputs": [],
   "source": [
    "all_spec_dict[0]['FLUX'].unit "
   ]
  },
  {
   "cell_type": "code",
   "execution_count": null,
   "id": "6bb987ae-a53f-45d1-a6f4-fb523759eae8",
   "metadata": {},
   "outputs": [],
   "source": [
    "all_calspec_dict[0]['WAVELENGTH'].unit "
   ]
  },
  {
   "cell_type": "code",
   "execution_count": null,
   "id": "bf51849b-95a2-44f9-8f9b-864df507b302",
   "metadata": {},
   "outputs": [],
   "source": [
    "all_calspec_dict[0]['FLUX'].unit "
   ]
  },
  {
   "cell_type": "code",
   "execution_count": null,
   "id": "89dbd258-9134-4d55-b625-ad2b9f5cb8c7",
   "metadata": {},
   "outputs": [],
   "source": [
    "all_spec_dict[0]['FLUX'].to(u.erg/(u.cm)**2/u.s/u.angstrom, equivalencies=u.spectral())  "
   ]
  },
  {
   "cell_type": "code",
   "execution_count": null,
   "id": "db9da4d8-027c-4e30-a59b-6b746bc93cb0",
   "metadata": {},
   "outputs": [],
   "source": [
    "all_spec_dict[0]['FLUX'].to(u.erg/(u.cm)**2/u.s/u.nm, equivalencies=u.spectral())  "
   ]
  },
  {
   "cell_type": "code",
   "execution_count": null,
   "id": "2ca1b00d-1e25-4ba0-bf0b-15bb70966f5b",
   "metadata": {},
   "outputs": [],
   "source": [
    "all_calspec_dict[0]['FLUX'].to(u.erg/(u.cm)**2/u.s/u.nm, equivalencies=u.spectral())"
   ]
  },
  {
   "cell_type": "code",
   "execution_count": null,
   "id": "d72b1870-902b-4ebb-9857-bc1ae9a90d0f",
   "metadata": {},
   "outputs": [],
   "source": []
  }
 ],
 "metadata": {
  "kernelspec": {
   "display_name": "LSST",
   "language": "python",
   "name": "lsst"
  },
  "language_info": {
   "codemirror_mode": {
    "name": "ipython",
    "version": 3
   },
   "file_extension": ".py",
   "mimetype": "text/x-python",
   "name": "python",
   "nbconvert_exporter": "python",
   "pygments_lexer": "ipython3",
   "version": "3.11.9"
  }
 },
 "nbformat": 4,
 "nbformat_minor": 5
}
