{
 "cells": [
  {
   "cell_type": "markdown",
   "id": "8ad7a9fa-1442-466b-8143-3c220d10226e",
   "metadata": {},
   "source": [
    "# Search Ambre "
   ]
  },
  {
   "cell_type": "markdown",
   "id": "1ce3d8f4-9895-4b6e-81be-394c7d67fb68",
   "metadata": {},
   "source": [
    "- https://pollux.oreme.org/collections/\n",
    "\n",
    "https://pollux.oreme.org/explore/AMBRE/\n",
    "\n",
    "- https://astroquery.readthedocs.io/en/latest/\n",
    "- https://astroquery.readthedocs.io/en/latest/utils/tap.html"
   ]
  },
  {
   "cell_type": "code",
   "execution_count": null,
   "id": "09dd9664-106d-4fef-bca6-fbb363dd6914",
   "metadata": {},
   "outputs": [],
   "source": [
    "import os\n",
    "import numpy as np\n",
    "import pandas as pd\n",
    "from astropy.io import ascii"
   ]
  },
  {
   "cell_type": "markdown",
   "id": "6bc6743e-2f5f-4ec9-9b99-1693b9c525a6",
   "metadata": {},
   "source": [
    "## First read the table that I have donwloaded\n"
   ]
  },
  {
   "cell_type": "code",
   "execution_count": null,
   "id": "ab6520c8-5fdb-49bd-993b-3a694d147b16",
   "metadata": {},
   "outputs": [],
   "source": [
    "path = \"data\"\n",
    "filename = \"ambredr1.dat\"\n",
    "fullfilename = os.path.join(path,filename)"
   ]
  },
  {
   "cell_type": "code",
   "execution_count": null,
   "id": "eebad26c-ee13-41cc-9ddf-0933876f8405",
   "metadata": {},
   "outputs": [],
   "source": [
    "#!cat data/ambredr1.dat"
   ]
  },
  {
   "cell_type": "code",
   "execution_count": null,
   "id": "1b65c669-f78b-40ce-ae1a-883a52d0ef3f",
   "metadata": {},
   "outputs": [],
   "source": [
    "#ascii.read?"
   ]
  },
  {
   "cell_type": "code",
   "execution_count": null,
   "id": "d84c6ca1-79f9-4cad-80b6-41e15ef68870",
   "metadata": {},
   "outputs": [],
   "source": [
    "table_data = ascii.read(fullfilename,guess=False,data_start=0,format='no_header', delimiter='\\t')                      "
   ]
  },
  {
   "cell_type": "code",
   "execution_count": null,
   "id": "386e1608-1caa-4022-9205-3e846f6e69da",
   "metadata": {},
   "outputs": [],
   "source": [
    "type(table_data)"
   ]
  },
  {
   "cell_type": "code",
   "execution_count": null,
   "id": "560adedc-d631-47ad-84ed-4996ce37bf3d",
   "metadata": {},
   "outputs": [],
   "source": [
    "df =table_data.to_pandas()"
   ]
  },
  {
   "cell_type": "code",
   "execution_count": null,
   "id": "1981936a-0ebd-4b1f-b631-fcea02296063",
   "metadata": {},
   "outputs": [],
   "source": [
    "df.loc[0,\"col1\"]"
   ]
  },
  {
   "cell_type": "code",
   "execution_count": null,
   "id": "1084bdd9-d68d-4d30-a158-6586f5f96e23",
   "metadata": {},
   "outputs": [],
   "source": [
    "df.loc[1,\"col1\"]"
   ]
  },
  {
   "cell_type": "markdown",
   "id": "4796a6db-05ff-4926-a3fd-4eb275a397f0",
   "metadata": {},
   "source": [
    "SELECT TOP 100 \"J/A+A/542/A48/ambredr1\".Ident,  \n",
    "\"J/A+A/542/A48/ambredr1\".Name,  \n",
    "\"J/A+A/542/A48/ambredr1\".RAJ2000,  \n",
    "\"J/A+A/542/A48/ambredr1\".DEJ2000,  \n",
    "\"J/A+A/542/A48/ambredr1\".MJD,  \n",
    "\"J/A+A/542/A48/ambredr1\".ExpTime,  \n",
    "\"J/A+A/542/A48/ambredr1\".SNR, \n",
    "\"J/A+A/542/A48/ambredr1\".f_SNR,  \n",
    "\"J/A+A/542/A48/ambredr1\".f_EEmline,  \n",
    "\"J/A+A/542/A48/ambredr1\".f_Emline,  \n",
    "\"J/A+A/542/A48/ambredr1\".FWHM,  \n",
    "\"J/A+A/542/A48/ambredr1\".f_FWHM,  \n",
    "\"J/A+A/542/A48/ambredr1\".RV,  \n",
    "\"J/A+A/542/A48/ambredr1\".CCFFWHM,  \n",
    "\"J/A+A/542/A48/ambredr1\".q_RV, \n",
    "\"J/A+A/542/A48/ambredr1\".Teff,  \n",
    "\"J/A+A/542/A48/ambredr1\".logg,  \n",
    "\"J/A+A/542/A48/ambredr1\".\"[M/H]\",  \n",
    "\"J/A+A/542/A48/ambredr1\".\"[alpha/Fe]\",  \n",
    "\"J/A+A/542/A48/ambredr1\".logChi2,  \n",
    "\"J/A+A/542/A48/ambredr1\".f_logChi2\n",
    "FROM \"J/A+A/542/A48/ambredr1\""
   ]
  },
  {
   "cell_type": "markdown",
   "id": "3c105a92-49f2-44b4-8f72-dc6c9d09cb1a",
   "metadata": {},
   "source": [
    "We see the filenames are refered as FEROS.20XX-XX-XX..."
   ]
  },
  {
   "cell_type": "code",
   "execution_count": null,
   "id": "59a473de-fe0e-4c9f-b03a-228eb75743e9",
   "metadata": {},
   "outputs": [],
   "source": [
    "df"
   ]
  },
  {
   "cell_type": "markdown",
   "id": "f4f3fd5f-7643-4700-a419-46d2547a22c4",
   "metadata": {},
   "source": [
    "## Better access in\n",
    "\n",
    "- vizier_ja+a542a48.ipynb"
   ]
  },
  {
   "cell_type": "code",
   "execution_count": null,
   "id": "816f701f-4e2b-47ac-abf4-7c7cfd377e7b",
   "metadata": {},
   "outputs": [],
   "source": []
  }
 ],
 "metadata": {
  "kernelspec": {
   "display_name": "conda_py310",
   "language": "python",
   "name": "conda_py310"
  },
  "language_info": {
   "codemirror_mode": {
    "name": "ipython",
    "version": 3
   },
   "file_extension": ".py",
   "mimetype": "text/x-python",
   "name": "python",
   "nbconvert_exporter": "python",
   "pygments_lexer": "ipython3",
   "version": "3.10.12"
  }
 },
 "nbformat": 4,
 "nbformat_minor": 5
}
