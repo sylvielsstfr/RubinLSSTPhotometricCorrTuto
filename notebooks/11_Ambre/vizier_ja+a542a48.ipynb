{
 "cells": [
  {
   "cell_type": "markdown",
   "id": "44977e1e-8ab9-44cd-9c4d-ce793c19183b",
   "metadata": {},
   "source": [
    "# Access to Ambre synthetic spectra for photometric corrections\n",
    "\n",
    "- Sylvie Dagoret-Campagne\n",
    "- creation date : 2024-12-08\n",
    "- last update : 2024-12-10 (find the contact)"
   ]
  },
  {
   "cell_type": "code",
   "execution_count": null,
   "id": "2d8a258e-d53a-439a-8e10-27de76c266c6",
   "metadata": {},
   "outputs": [],
   "source": [
    "# Access astronomical databases\n",
    "from pyvo import registry  # version >=1.4.1 \n",
    "\n",
    "# Moc and HEALPix tools\n",
    "from mocpy import MOC\n",
    "\n",
    "# Sky visualization\n",
    "from ipyaladin import Aladin    # version >=0.3.0\n",
    "\n",
    "# For plots\n",
    "import matplotlib.pyplot as plt"
   ]
  },
  {
   "cell_type": "code",
   "execution_count": null,
   "id": "a2208aee-37dc-48e3-ae7c-99feff2fa83b",
   "metadata": {},
   "outputs": [],
   "source": [
    "# Astronomy tools\n",
    "from astropy import units as u\n",
    "from astropy.coordinates import SkyCoord\n",
    "from astropy.io import fits\n",
    "from astropy.table import vstack\n",
    "\n",
    "# Access astronomical databases\n",
    "#import pyvo\n",
    "#from astroquery.simbad import Simbad\n",
    "#from astroquery.vizier import Vizier\n",
    "#from astroquery.xmatch import XMatch\n",
    "\n",
    "# Sky visualization\n",
    "#from ipyaladin import Aladin\n"
   ]
  },
  {
   "cell_type": "markdown",
   "id": "7ad7861f",
   "metadata": {},
   "source": [
    "# Welcome to VizieR example workflow\n",
    "\n",
    "[![Vizier](https://custom-icon-badges.demolab.com/badge/Vizier-gray.svg?logo=vizier&logoColor=orange&logoWidth=20)](https://vizier.cds.unistra.fr/viz-bin/VizieR \"https://vizier.cds.unistra.fr/viz-bin/VizieR\")\n",
    "\n",
    "It is a generic notebook, highlighting what can be done once you chose a catalog. This workflow is suggested by [CDS](https://cdsweb.unistra.fr/) (Strasbourg Astronomical Data Center, house of [VizieR](https://vizier.cds.unistra.fr/viz-bin/VizieR)).\n",
    "\n",
    "--------------------------------------------------------\n",
    "\n",
    "Modify the <a href='https://vizier.cds.unistra.fr/'>VizieR catalogue</a> name (variable <b>CATALOGUE</b>) and anything else you might feel like exploring!\n",
    "\n",
    "## 1. Setup\n",
    "\n",
    "This example notebook has the following dependencies: \n",
    "\n",
    "**Required**\n",
    "- pyvo : this library facilitates the access to the Virtual Observatory (VO) resources. VizieR is part of the VO.\n",
    "This notebook needs version >=1.4.1\n",
    "\n",
    "**Optional, for visualization**\n",
    "- ipyaladin : this is the Aladin-lite sky viewer, bundled as a jupyter widget. It allows to plot catalogs and multi-order coverages (MOC)\n",
    "- matplotlib : an other option to see catalog points and MOCs\n",
    "\n",
    "## 2. Metadata exploration with the Virtual Observatory registry\n",
    "\n",
    "This part uses [pyvo](https://pyvo.readthedocs.io/en) to connect to the VO registry."
   ]
  },
  {
   "cell_type": "code",
   "execution_count": null,
   "id": "95888801",
   "metadata": {},
   "outputs": [],
   "source": [
    "# the catalogue name in VizieR\n",
    "CATALOGUE = \"J/A+A/542/A48\""
   ]
  },
  {
   "cell_type": "markdown",
   "id": "26ad3c69",
   "metadata": {},
   "source": [
    "We first retrieve catalogue information."
   ]
  },
  {
   "cell_type": "code",
   "execution_count": null,
   "id": "6db57e6b",
   "metadata": {},
   "outputs": [],
   "source": [
    "# each resource in the VO has an identifier, called ivoid. For vizier catalogs,\n",
    "# the VO ids can be constructed like this:\n",
    "catalogue_ivoid = f\"ivo://CDS.VizieR/{CATALOGUE}\"\n",
    "# the actual query to the registry\n",
    "voresource = registry.search(ivoid=catalogue_ivoid)[0]"
   ]
  },
  {
   "cell_type": "code",
   "execution_count": null,
   "id": "f3e975e3",
   "metadata": {},
   "outputs": [],
   "source": [
    "# We can print metadata information about the catalogue\n",
    "voresource.describe(verbose=True)"
   ]
  },
  {
   "cell_type": "markdown",
   "id": "bd2a7ae3",
   "metadata": {},
   "source": [
    "We can also inspect in details the `resource` object and access the attributes not provided by the describe method. See for example, the first author of a resource: "
   ]
  },
  {
   "cell_type": "code",
   "execution_count": null,
   "id": "f5a53605",
   "metadata": {},
   "outputs": [],
   "source": [
    "voresource.creators[0]"
   ]
  },
  {
   "cell_type": "code",
   "execution_count": null,
   "id": "db7db9eb-0ece-4b07-bec2-a93aa12ee39a",
   "metadata": {},
   "outputs": [],
   "source": [
    "voresource.creators[1]"
   ]
  },
  {
   "cell_type": "markdown",
   "id": "5a457510",
   "metadata": {},
   "source": [
    "## 3. Access the tabular data of this catalog\n",
    "\n",
    "We can have a look at the tables available in the catalogue."
   ]
  },
  {
   "cell_type": "code",
   "execution_count": null,
   "id": "92ebe10f",
   "metadata": {},
   "outputs": [],
   "source": [
    "tables = voresource.get_tables()\n",
    "tables"
   ]
  },
  {
   "cell_type": "code",
   "execution_count": null,
   "id": "81514878",
   "metadata": {},
   "outputs": [],
   "source": [
    "# We can also extract the tables names for later use\n",
    "tables_names = list(tables.keys())\n",
    "tables_names"
   ]
  },
  {
   "cell_type": "markdown",
   "id": "eedac527",
   "metadata": {},
   "source": [
    "The actual data can then be access using any of the ``access_modes`` of the voresource."
   ]
  },
  {
   "cell_type": "code",
   "execution_count": null,
   "id": "32db444e",
   "metadata": {},
   "outputs": [],
   "source": [
    "voresource.access_modes()"
   ]
  },
  {
   "cell_type": "markdown",
   "id": "4a7dd42f",
   "metadata": {},
   "source": [
    "The web access is found by following the ``reference_url``"
   ]
  },
  {
   "cell_type": "code",
   "execution_count": null,
   "id": "545f9bf8",
   "metadata": {},
   "outputs": [],
   "source": [
    "voresource.reference_url"
   ]
  },
  {
   "cell_type": "markdown",
   "id": "abee6ce7",
   "metadata": {},
   "source": [
    "### 3.1 Execute a SQL/ADQL query\n",
    "\n",
    "The ``tap#aux`` in the ``access_mode`` response indicates that we can also do a SQL/ADQL query for these VizieR tables.\n",
    "\n",
    "On the first table of the catalogue, we execute an <a href='https://www.ivoa.net/documents/latest/ADQL.html'>ADQL</a> query."
   ]
  },
  {
   "cell_type": "code",
   "execution_count": null,
   "id": "3a8b8d60",
   "metadata": {},
   "outputs": [],
   "source": [
    "# get the first table of the catalogue\n",
    "first_table_name = tables_names[0]\n",
    "\n",
    "# execute a synchronous ADQL query\n",
    "tap_service = voresource.get_service(\"tap\")\n",
    "tap_records = voresource.get_service(\"tap\").run_sync(\n",
    "    f'select TOP 10 * from \"{first_table_name}\"',\n",
    ")\n",
    "tap_records"
   ]
  },
  {
   "cell_type": "code",
   "execution_count": null,
   "id": "4b5156af-9d55-4447-a02d-84c95e9343cf",
   "metadata": {},
   "outputs": [],
   "source": [
    "tap_records.to_table()"
   ]
  },
  {
   "cell_type": "markdown",
   "id": "80157f1b",
   "metadata": {},
   "source": [
    "<!-- section position -->\n",
    "\n",
    "We will explore the other access modes here.\n",
    "\n",
    "### 3.2. Execute a cone search query\n",
    "\n",
    "We use the Simple Cone Search (<a href='https://www.ivoa.net/documents/latest/ConeSearch.html'>SCS</a>) protocol of the virtual observatory (only available for tables with positions).\n",
    "\n",
    "Adapt the radius and position of the center to your needs."
   ]
  },
  {
   "cell_type": "code",
   "execution_count": null,
   "id": "9c678dd4",
   "metadata": {},
   "outputs": [],
   "source": [
    "conesearch_radius = 1 / 60.0  # in degrees\n",
    "conesearch_center = (45.0, 7.726245081475826)"
   ]
  },
  {
   "cell_type": "code",
   "execution_count": null,
   "id": "8f34d3fd",
   "metadata": {},
   "outputs": [],
   "source": [
    "conesearch_records = voresource.get_service(\"conesearch\").search(\n",
    "    pos=conesearch_center,\n",
    "    sr=conesearch_radius,\n",
    ")\n",
    "conesearch_records"
   ]
  },
  {
   "cell_type": "code",
   "execution_count": null,
   "id": "d47d3e0d-5902-4d21-be40-5be22518c23c",
   "metadata": {},
   "outputs": [],
   "source": [
    "conesearch_records.to_table()"
   ]
  },
  {
   "cell_type": "markdown",
   "id": "d1df2200",
   "metadata": {},
   "source": [
    "## 4. Get the catalogue coverage\n",
    "\n",
    "VizieR also provides the coverage of each catalogue with Multiple Order Coverage (<a href='https://ivoa.net/documents/MOC/'>MOC</a>) at order 10 -- meaning with a 0.001 rad spacial resolution."
   ]
  },
  {
   "cell_type": "code",
   "execution_count": null,
   "id": "b532da7e",
   "metadata": {},
   "outputs": [],
   "source": [
    "# retrieve the MOC\n",
    "catalogue_coverage = MOC.from_fits(\n",
    "    f\"https://cdsarc.cds.unistra.fr/viz-bin/moc/{CATALOGUE}\",\n",
    ")\n",
    "catalogue_coverage.display_preview()"
   ]
  },
  {
   "cell_type": "markdown",
   "id": "a8273b53",
   "metadata": {},
   "source": [
    "We can plot the coverage with ``matplotlib``."
   ]
  },
  {
   "cell_type": "code",
   "execution_count": null,
   "id": "f47e09e2",
   "metadata": {},
   "outputs": [],
   "source": [
    "fig = plt.figure(figsize=(5, 5))\n",
    "wcs = catalogue_coverage.wcs(fig)\n",
    "ax = fig.add_subplot(projection=wcs)\n",
    "catalogue_coverage.fill(ax=ax, wcs=wcs, alpha=0.5, color=\"blue\")"
   ]
  },
  {
   "cell_type": "markdown",
   "id": "adad9fc7",
   "metadata": {},
   "source": [
    "or with ipyaladin"
   ]
  },
  {
   "cell_type": "code",
   "execution_count": null,
   "id": "53840a2b",
   "metadata": {},
   "outputs": [],
   "source": [
    "aladin = Aladin()\n",
    "aladin"
   ]
  },
  {
   "cell_type": "markdown",
   "id": "de738e90-b34b-4818-a6e6-2d07c9b4c2c2",
   "metadata": {},
   "source": [
    "We can add the tables and coverage in this ipyaladin window."
   ]
  },
  {
   "cell_type": "code",
   "execution_count": null,
   "id": "52e6635c-2500-4c49-930b-35a08b36caa0",
   "metadata": {},
   "outputs": [],
   "source": [
    "aladin.add_table(conesearch_records.to_table())"
   ]
  },
  {
   "cell_type": "code",
   "execution_count": null,
   "id": "3f55e7d1-bf38-4b7d-a73b-567f9b256f85",
   "metadata": {},
   "outputs": [],
   "source": [
    "aladin.add_table(tap_records.to_table())"
   ]
  },
  {
   "cell_type": "code",
   "execution_count": null,
   "id": "097a4505-5417-4dd3-9032-d75a76fa7c5c",
   "metadata": {},
   "outputs": [],
   "source": [
    "aladin.add_moc_from_URL(\n",
    "    f\"https://cdsarc.cds.unistra.fr/viz-bin/moc/{CATALOGUE}\",\n",
    "    moc_options={\"opacity\": 0.5, \"color\": \"pink\"},\n",
    ")"
   ]
  },
  {
   "cell_type": "markdown",
   "id": "065588dd",
   "metadata": {},
   "source": [
    "For more information about manipulating coverages, see [MOCpy documentation](https://cds-astro.github.io/mocpy/)."
   ]
  },
  {
   "cell_type": "markdown",
   "id": "4f7c98df-35f8-4868-9075-a401b0a44b95",
   "metadata": {},
   "source": [
    "## 5.) Try to access to Spectra associated to this catalog"
   ]
  },
  {
   "cell_type": "code",
   "execution_count": null,
   "id": "8f4e05e3-c7a5-4b16-b6d3-36ee26b89e08",
   "metadata": {},
   "outputs": [],
   "source": [
    "catalogue_ivoid "
   ]
  },
  {
   "cell_type": "markdown",
   "id": "6d9c4d3a-eba6-43d9-9877-6fd6836569d4",
   "metadata": {},
   "source": [
    "### Here I change the reference to the catalog to be that given in the documentation\n",
    "\n",
    "https://pollux.oreme.org/static/polluxwebapp/files/User's%20guide_v12.pdf\n",
    "\n",
    "The POLLUX database can also be accessed via\n",
    "the VizieR service at Centre de Donnees de Strasbourg (CDS). \n",
    "\n",
    "- It is a registered service of the VO :\n",
    "- ivo://ov-gso/ssap/pollux"
   ]
  },
  {
   "cell_type": "code",
   "execution_count": null,
   "id": "2be39f11-e1f6-46bc-8086-2fb0695d7e16",
   "metadata": {},
   "outputs": [],
   "source": [
    "catalogue_ivoid = f\"ivo://ov-gso/ssap/pollux\"\n",
    "# the actual query to the registry\n",
    "registry_pollux = registry.search(ivoid=catalogue_ivoid)"
   ]
  },
  {
   "cell_type": "code",
   "execution_count": null,
   "id": "c54795bf-e891-46ab-967f-4812b2b63569",
   "metadata": {},
   "outputs": [],
   "source": []
  },
  {
   "cell_type": "code",
   "execution_count": null,
   "id": "0481e0fd-df9c-4a75-8871-fa48a4a7e1a0",
   "metadata": {},
   "outputs": [],
   "source": [
    "registry_pollux = registry.search(ivoid=catalogue_ivoid)"
   ]
  },
  {
   "cell_type": "code",
   "execution_count": null,
   "id": "a06c17dc-bee5-4b43-a696-3a84bf590c6e",
   "metadata": {},
   "outputs": [],
   "source": [
    "registry_pollux.get_summary()"
   ]
  },
  {
   "cell_type": "code",
   "execution_count": null,
   "id": "fa82add1-12fb-44b1-8aba-936d4ebc9543",
   "metadata": {},
   "outputs": [],
   "source": [
    "voresource = registry_pollux[0]"
   ]
  },
  {
   "cell_type": "code",
   "execution_count": null,
   "id": "3020e345-4cf3-4c2c-adda-0dd1e78cba8c",
   "metadata": {},
   "outputs": [],
   "source": [
    "voresource"
   ]
  },
  {
   "cell_type": "code",
   "execution_count": null,
   "id": "2e0fd1db-ad04-4b75-b035-ad32cf95d63c",
   "metadata": {},
   "outputs": [],
   "source": [
    "voresource.get_contact()"
   ]
  },
  {
   "cell_type": "code",
   "execution_count": null,
   "id": "ce0dccfa-13d9-4ea2-9ad8-927af715f303",
   "metadata": {},
   "outputs": [],
   "source": [
    "voresource.describe(verbose=True)"
   ]
  },
  {
   "cell_type": "code",
   "execution_count": null,
   "id": "1c0ddc70-196b-48f2-9b30-309fd7ed35f0",
   "metadata": {},
   "outputs": [],
   "source": [
    "#web_service = voresource.get_service(\"web\")\n",
    "ssap_service = voresource.get_service(\"ssa\")"
   ]
  },
  {
   "cell_type": "markdown",
   "id": "7339669d-97b3-4073-b3fa-24a52f477352",
   "metadata": {},
   "source": [
    "Example of SSA query search\n",
    "\n",
    "- http://www.myvo.org/ssa?REQUEST=queryData&POS=22.438,-17.2&SIZE=0.02"
   ]
  },
  {
   "cell_type": "markdown",
   "id": "cf0d9fcd-3bc2-4eb9-90b3-ba6a6756b741",
   "metadata": {},
   "source": [
    "- https://pollux.oreme.org/vo/ssa?REQUEST=queryData&POS=22.438,-17.2&SIZE=0.02\n",
    "\n",
    "- https://pollux.oreme.org/vo/ssa?REQUEST=queryData"
   ]
  },
  {
   "cell_type": "code",
   "execution_count": null,
   "id": "29d05bfd-2fb9-4e5c-95f4-e9524738b5c2",
   "metadata": {},
   "outputs": [],
   "source": [
    "ssap_service.search?"
   ]
  },
  {
   "cell_type": "code",
   "execution_count": null,
   "id": "cbc852be-f69a-4886-a1a7-d4a9c9174c0e",
   "metadata": {},
   "outputs": [],
   "source": [
    "#mast_ssa_service = pyvo.dal.SSAService(\n",
    "#    \"https://archive.stsci.edu/ssap/search2.php?id=HST&\",\n",
    "#)\n",
    "#diameter = u.Quantity(2 * 40.0, unit=\"arcmin\")\n",
    "#position = SkyCoord.from_name(\"A1656\")\n",
    "#mast_hst_results = mast_ssa_service.search(pos=position, diameter=diameter)\n",
    "#mast_hst_results"
   ]
  },
  {
   "cell_type": "markdown",
   "id": "9d092f6d-17ce-4ec7-b03d-b399877253a2",
   "metadata": {},
   "source": [
    "==> Now I am sure I have an object here in "
   ]
  },
  {
   "cell_type": "code",
   "execution_count": null,
   "id": "fa461a77-d41a-4953-907a-1c061f2707c8",
   "metadata": {},
   "outputs": [],
   "source": [
    "conesearch_records.to_table()"
   ]
  },
  {
   "cell_type": "code",
   "execution_count": null,
   "id": "d6bc29b4-251b-4617-9800-708848dc0859",
   "metadata": {},
   "outputs": [],
   "source": [
    "filename = conesearch_records[\"OrigFile\"][0]\n",
    "filename"
   ]
  },
  {
   "cell_type": "code",
   "execution_count": null,
   "id": "98c3b37a-07bc-40c6-85ef-8b510025cd44",
   "metadata": {},
   "outputs": [],
   "source": [
    "position = SkyCoord(conesearch_center[0], conesearch_center[1], unit=\"deg\")\n",
    "diameter = u.Quantity(2 * 5.0, unit=\"arcmin\")"
   ]
  },
  {
   "cell_type": "code",
   "execution_count": null,
   "id": "9a01d1b0-b739-4e0e-bf57-22b37783d0a8",
   "metadata": {},
   "outputs": [],
   "source": [
    "ssap_query = ssap_service.create_query(pos=position,diameter=diameter)"
   ]
  },
  {
   "cell_type": "code",
   "execution_count": null,
   "id": "b33af3b5-ae8c-4fb0-bba1-d604c2adf51c",
   "metadata": {},
   "outputs": [],
   "source": [
    "ssap_result = ssap_service.search(pos=position,diameter=diameter)"
   ]
  },
  {
   "cell_type": "code",
   "execution_count": null,
   "id": "bd133129-df8c-4526-a556-04ce06055747",
   "metadata": {},
   "outputs": [],
   "source": [
    "ssap_result = ssap_service.search(id=\"FEROS.2009-08-27T09:19:37.279\")"
   ]
  },
  {
   "cell_type": "code",
   "execution_count": null,
   "id": "3444dd35-15bc-43d2-832f-ebd0a00122d1",
   "metadata": {},
   "outputs": [],
   "source": [
    "ssap_result = ssap_service.search(id=\"083.A-9011(B)\")"
   ]
  },
  {
   "cell_type": "code",
   "execution_count": null,
   "id": "6b9a43d2-338c-40ae-8bd3-37db5b60f0dd",
   "metadata": {},
   "outputs": [],
   "source": [
    "ssap_result = ssap_service.search(id=filename)"
   ]
  },
  {
   "cell_type": "code",
   "execution_count": null,
   "id": "938f3808-f486-4098-a42b-003793d1e6d3",
   "metadata": {},
   "outputs": [],
   "source": [
    "ssap_result = ssap_service.search(id=\"HD18632\")\t"
   ]
  },
  {
   "cell_type": "code",
   "execution_count": null,
   "id": "fc878e8e-c20f-4593-92f9-dbb2a0e6ac8d",
   "metadata": {},
   "outputs": [],
   "source": []
  },
  {
   "cell_type": "code",
   "execution_count": null,
   "id": "9e72bed2-2d19-41da-b845-226462ae4d47",
   "metadata": {},
   "outputs": [],
   "source": []
  },
  {
   "cell_type": "code",
   "execution_count": null,
   "id": "2aa60c60-e280-4ecd-9a14-15f4ea4236b3",
   "metadata": {},
   "outputs": [],
   "source": []
  }
 ],
 "metadata": {
  "kernelspec": {
   "display_name": "conda_py310",
   "language": "python",
   "name": "conda_py310"
  },
  "language_info": {
   "codemirror_mode": {
    "name": "ipython",
    "version": 3
   },
   "file_extension": ".py",
   "mimetype": "text/x-python",
   "name": "python",
   "nbconvert_exporter": "python",
   "pygments_lexer": "ipython3",
   "version": "3.10.12"
  },
  "widgets": {
   "application/vnd.jupyter.widget-state+json": {
    "state": {
     "614c056f9da546e99e13516067d84b51": {
      "model_module": "ipyaladin",
      "model_module_version": "^0.2.5",
      "model_name": "AladinModel",
      "state": {
       "_model_module_version": "^0.2.5",
       "_view_module_version": "^0.2.5",
       "allow_full_zoomout": false,
       "color_map_flag": true,
       "color_map_name": "",
       "coo_frame": "J2000",
       "fov": 0.40402,
       "full_screen": false,
       "height": 400,
       "layout": "IPY_MODEL_b614942c85f143f29cb69fd61d31fc08",
       "listener_flag": true,
       "listener_type": "",
       "log": true,
       "moc_URL": "https://cdsarc.cds.unistra.fr/viz-bin/moc/J/AJ/157/229",
       "moc_dict": {},
       "moc_from_URL_flag": false,
       "moc_from_dict_flag": true,
       "moc_options": {
        "color": "pink",
        "opacity": 0.5
       },
       "options": [
        "allow_full_zoomout",
        "coo_frame",
        "fov",
        "full_screen",
        "log",
        "overlay_survey",
        "overlay_survey_opacity",
        "reticle_color",
        "reticle_size",
        "show_catalog",
        "show_context_menu",
        "show_coo_grid",
        "show_frame",
        "show_fullscreen_control",
        "show_goto_control",
        "show_layers_control",
        "show_reticle",
        "show_share_control",
        "show_simbad_pointer_control",
        "show_zoom_control",
        "survey",
        "target"
       ],
       "overlay_from_stcs_flag": true,
       "overlay_options": {},
       "overlay_survey": "",
       "overlay_survey_opacity": 0,
       "rectangular_selection_flag": true,
       "reticle_color": "rgb(178, 50, 178)",
       "reticle_size": 22,
       "show_catalog": true,
       "show_context_menu": true,
       "show_coo_grid": false,
       "show_frame": true,
       "show_fullscreen_control": false,
       "show_goto_control": true,
       "show_layers_control": true,
       "show_reticle": true,
       "show_share_control": false,
       "show_simbad_pointer_control": true,
       "show_zoom_control": true,
       "stc_string": "",
       "survey": "P/DSS2/color",
       "table_columns": [
        [
         1,
         "1757132",
         7608,
         42.48899841308594,
         3.298799967454795e-14,
         7.765999871681779e-16,
         3.2987999886306186e-16,
         8,
         211.1,
         1
        ],
        [
         2,
         "1757132",
         7624,
         55.70100021362305,
         3.3175000832379176e-14,
         6.217699877066171e-16,
         3.3175000938258294e-16,
         8,
         211.1,
         1
        ],
        [
         3,
         "1757132",
         7640,
         67.34300231933594,
         3.196099933105642e-14,
         5.155499914781189e-16,
         3.196099890753995e-16,
         8,
         211.1,
         1
        ],
        [
         4,
         "1757132",
         7656,
         83.2770004272461,
         3.1485000696017396e-14,
         4.2738000265781385e-16,
         3.1485000801896514e-16,
         8,
         211.1,
         1
        ],
        [
         5,
         "1757132",
         7672,
         108.45999908447266,
         3.169599999131023e-14,
         3.4893998718173733e-16,
         3.169599935603552e-16,
         8,
         211.1,
         1
        ],
        [
         6,
         "1757132",
         7688,
         142.10000610351562,
         3.182499972104527e-14,
         2.856200127399625e-16,
         3.182499982692439e-16,
         8,
         211.1,
         1
        ],
        [
         7,
         "1757132",
         7704,
         183.4600067138672,
         3.21299993446926e-14,
         2.3906999363462235e-16,
         3.2130000509362903e-16,
         8,
         211.1,
         1
        ],
        [
         8,
         "1757132",
         7720,
         222.55999755859375,
         3.195000145526927e-14,
         2.072299986775536e-16,
         3.1950000714115444e-16,
         8,
         211.1,
         1
        ],
        [
         9,
         "1757132",
         7736,
         253.0500030517578,
         3.1498000957691855e-14,
         1.8742999473055349e-16,
         3.1498000110658907e-16,
         8,
         211.1,
         1
        ],
        [
         10,
         "1757132",
         7752,
         275.17999267578125,
         3.10060001762133e-14,
         1.745300005812257e-16,
         3.1006001023246247e-16,
         8,
         211.1,
         1
        ]
       ],
       "table_flag": false,
       "table_keys": [
        "recno",
        "ID",
        "Wave",
        "Net",
        "Flux",
        "Stat-err",
        "Sys-err",
        "Nobs",
        "Exp",
        "Qual"
       ],
       "target": "76.446253 52.849186",
       "thumbnail_flag": true,
       "votable_URL": "",
       "votable_from_URL_flag": true,
       "votable_options": {}
      }
     },
     "b614942c85f143f29cb69fd61d31fc08": {
      "model_module": "@jupyter-widgets/base",
      "model_module_version": "2.0.0",
      "model_name": "LayoutModel",
      "state": {}
     }
    },
    "version_major": 2,
    "version_minor": 0
   }
  }
 },
 "nbformat": 4,
 "nbformat_minor": 5
}
