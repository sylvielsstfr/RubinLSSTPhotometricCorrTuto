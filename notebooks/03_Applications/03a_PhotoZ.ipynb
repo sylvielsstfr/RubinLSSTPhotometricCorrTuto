{
 "cells": [
  {
   "cell_type": "markdown",
   "id": "c1762601-e66e-40e5-99d6-7c60b8eb5938",
   "metadata": {},
   "source": [
    "# 03a Impact of Miscalibration on PhotoZ\n",
    "\n",
    "- author Sylvie Dagoret-Campagne\n",
    "- creation date : 2023/02/26\n",
    "- last verification : 2023/03/05"
   ]
  },
  {
   "cell_type": "code",
   "execution_count": 1,
   "id": "e71210ce-c077-4178-91a4-cd9343410c97",
   "metadata": {},
   "outputs": [],
   "source": [
    "import numpy as np\n",
    "import matplotlib.pyplot as plt\n",
    "%matplotlib inline\n",
    "import matplotlib.colors as colors\n",
    "import matplotlib.cm as cmx\n",
    "from mpl_toolkits.axes_grid1 import make_axes_locatable\n",
    "from matplotlib.colors import LogNorm\n",
    "from matplotlib.gridspec import GridSpec\n",
    "import seaborn as sns\n",
    "import pandas as pd\n",
    "import copy\n",
    "\n",
    "import matplotlib.ticker                         # here's where the formatter is\n",
    "import os\n",
    "import re\n",
    "import pandas as pd\n",
    "\n",
    "plt.rcParams[\"figure.figsize\"] = (8,6)\n",
    "plt.rcParams[\"axes.labelsize\"] = 'xx-large'\n",
    "plt.rcParams['axes.titlesize'] = 'xx-large'\n",
    "plt.rcParams['xtick.labelsize']= 'xx-large'\n",
    "plt.rcParams['ytick.labelsize']= 'xx-large'\n",
    "props = dict(boxstyle='round', facecolor='yellow', alpha=0.3)"
   ]
  },
  {
   "cell_type": "code",
   "execution_count": 2,
   "id": "c817cd0d-2557-48f2-aed6-9427a2d45ef9",
   "metadata": {},
   "outputs": [],
   "source": [
    "from scipy import interpolate\n",
    "from astropy import constants as const\n",
    "from astropy import units as u"
   ]
  },
  {
   "cell_type": "markdown",
   "id": "fc03bdef-6a46-400a-92fe-cae86730c348",
   "metadata": {},
   "source": [
    "## Imports dedicated to this work\n",
    "\n",
    "- import the atmospheric transparency emulator (instead of using libradtran code).\n",
    "- import rubin sim\n",
    "- import libPhotometricCorrections : encapsulate uninteresting calculation details"
   ]
  },
  {
   "cell_type": "code",
   "execution_count": 3,
   "id": "10baa7cd-a1f2-4fd6-9c75-7dd8a6cf9270",
   "metadata": {},
   "outputs": [
    {
     "name": "stdout",
     "output_type": "stream",
     "text": [
      "Version of atmosphtransmemullsst : 0.0.1\n"
     ]
    }
   ],
   "source": [
    "from importlib.metadata import version\n",
    "the_ver = version('atmosphtransmemullsst')\n",
    "print(f\"Version of atmosphtransmemullsst : {the_ver}\")"
   ]
  },
  {
   "cell_type": "code",
   "execution_count": 4,
   "id": "28a43489-1635-4fc0-9ce4-05fe986d7460",
   "metadata": {},
   "outputs": [
    {
     "name": "stdout",
     "output_type": "stream",
     "text": [
      "SimpleAtmEmulator:path=/Users/dagoret/MacOSX/GitHub/LSST/atmosphtransmemullsst/atmosphtransmemullsst/../data/simplegrid\n"
     ]
    }
   ],
   "source": [
    "import atmosphtransmemullsst\n",
    "from atmosphtransmemullsst.simpleatmospherictransparencyemulator import SimpleAtmEmulator\n",
    "\n",
    "emul = SimpleAtmEmulator(os.path.join(atmosphtransmemullsst.__path__[0],'../data/simplegrid'))"
   ]
  },
  {
   "cell_type": "code",
   "execution_count": 5,
   "id": "07058b36-520a-42d2-8c7c-e98ad4971aa4",
   "metadata": {},
   "outputs": [],
   "source": [
    "WL = emul.GetWL()"
   ]
  },
  {
   "cell_type": "code",
   "execution_count": 6,
   "id": "a0de5102-b6a9-4da6-8539-d25cd126d55c",
   "metadata": {},
   "outputs": [
    {
     "name": "stdout",
     "output_type": "stream",
     "text": [
      "libAtmosphericFit.py :: Use atmosphtransmemullsst.__path__[0],'../data/simplegrid as the path to data\n",
      "libAtmosphericFit.py :: data_path = /Users/dagoret/MacOSX/GitHub/LSST/atmosphtransmemullsst/atmosphtransmemullsst/../data/simplegrid\n",
      "SimpleAtmEmulator:path=/Users/dagoret/MacOSX/GitHub/LSST/atmosphtransmemullsst/atmosphtransmemullsst/../data/simplegrid\n"
     ]
    }
   ],
   "source": [
    "import sys\n",
    "sys.path.append('../lib')\n",
    "import libAtmosphericFit"
   ]
  },
  {
   "cell_type": "code",
   "execution_count": 7,
   "id": "b31208b1-30e9-4248-b812-67167b539fe2",
   "metadata": {},
   "outputs": [
    {
     "name": "stdout",
     "output_type": "stream",
     "text": [
      "libPhotometricCorrections.py :: Use atmosphtransmemullsst.__path__[0],'../data/simplegrid as the path to data\n",
      "libPhotometricCorrections :: data_path = /Users/dagoret/MacOSX/GitHub/LSST/atmosphtransmemullsst/atmosphtransmemullsst/../data/simplegrid\n",
      "SimpleAtmEmulator:path=/Users/dagoret/MacOSX/GitHub/LSST/atmosphtransmemullsst/atmosphtransmemullsst/../data/simplegrid\n"
     ]
    }
   ],
   "source": [
    "# This package encapsulate the calculation on calibration used in this nb\n",
    "from libPhotometricCorrections import *"
   ]
  },
  {
   "cell_type": "markdown",
   "id": "23019f73-7062-4d30-b892-779167b7e008",
   "metadata": {},
   "source": [
    "https://github.com/lsst/rubin_sim_notebooks/blob/main/photometry/calculating_snr.ipynb"
   ]
  },
  {
   "cell_type": "code",
   "execution_count": 8,
   "id": "a93fc1ba-dfd4-4b98-abb0-d8e25e0d4297",
   "metadata": {},
   "outputs": [],
   "source": [
    "from rubin_sim.phot_utils import Bandpass, Sed\n",
    "from rubin_sim.data import get_data_dir\n",
    "from rubin_sim.phot_utils import PhotometricParameters \n",
    "from rubin_sim.site_models import SeeingModel\n",
    "from rubin_sim.phot_utils import SignalToNoise\n",
    "from rubin_sim.phot_utils import calc_neff"
   ]
  },
  {
   "cell_type": "code",
   "execution_count": 9,
   "id": "62768d65-ae88-4a23-a4cd-f463b93fd1da",
   "metadata": {},
   "outputs": [],
   "source": [
    "def set_photometric_parameters(exptime, nexp, readnoise=None):\n",
    "    # readnoise = None will use the default (8.8 e/pixel). Readnoise should be in electrons/pixel.\n",
    "    photParams = PhotometricParameters(exptime=exptime, nexp=nexp, readnoise=readnoise)\n",
    "    return photParams"
   ]
  },
  {
   "cell_type": "code",
   "execution_count": 10,
   "id": "5274f999-98b9-451c-96ab-762c9c2d8c3d",
   "metadata": {},
   "outputs": [],
   "source": [
    "def scale_sed(ref_mag, ref_filter, sed):\n",
    "    fluxNorm = sed.calc_flux_norm(ref_mag, lsst_std[ref_filter])\n",
    "    sed.multiply_flux_norm(fluxNorm)\n",
    "    return sed"
   ]
  },
  {
   "cell_type": "code",
   "execution_count": 11,
   "id": "62a4530f-6a86-460f-8397-2ccdddef3e3a",
   "metadata": {},
   "outputs": [],
   "source": [
    "seeing_model = SeeingModel()\n",
    "def seeing_at_X(obs_filter, obs_X, atmospheric_seeing_500nm=None, seeing_zenith=None):\n",
    "    \"Return FWHMeff in `obs_filter` at `obs_X`, providing either the seeing @ zenith (in filter) or the FWHM_500\"\n",
    "    if atmospheric_seeing_500nm is not None:\n",
    "        idx = filterlist.index(obs_filter)\n",
    "        fwhm_eff = seeing_model(atmospheric_seeing_500nm, obs_X)['fwhmEff'][idx]\n",
    "    elif seeing_zenith is not None:\n",
    "        # assume seeing_zenith is in the filter of choice and just approximate for airmass \n",
    "        airmass_correction = np.power(obs_X, 0.6)\n",
    "        fwhm_eff = 1.16 * seeing_zenith * airmass_correction\n",
    "    else:\n",
    "        raise ValueErorr('Must specify atmospheric_seeing_500nm or seeing_zenith')\n",
    "    return fwhm_eff"
   ]
  },
  {
   "cell_type": "code",
   "execution_count": 12,
   "id": "030bc19a-2c66-4426-8cbf-02e319e1257f",
   "metadata": {},
   "outputs": [],
   "source": [
    "def calc_snr(sed, obs_filter, obs_skymag, obs_fwhm_eff, obs_X, \n",
    "             ref_filter, ref_mag, \n",
    "             exptime=15, nexp=2, verbose=False):\n",
    "    obs_sky = scale_sky(obs_skymag, obs_filter)\n",
    "    lsst_x = throughput_at_X(obs_X)\n",
    "    scaled_sed = scale_sed(ref_mag, ref_filter, sed)\n",
    "    photParams = set_photometric_parameters(exptime, nexp)\n",
    "    snr = SignalToNoise.calc_snr_sed(scaled_sed, lsst_x[obs_filter], \n",
    "                                    obs_sky, lsst_hardware[obs_filter], \n",
    "                                    photParams, fwhm_eff=obs_fwhm_eff, \n",
    "                                    verbose=verbose)\n",
    "    return snr"
   ]
  },
  {
   "cell_type": "markdown",
   "id": "845c562a-831e-4695-b7ad-b59b02f1df10",
   "metadata": {},
   "source": [
    "## Configuration"
   ]
  },
  {
   "cell_type": "code",
   "execution_count": 13,
   "id": "146f12df-77e1-48b7-bf7f-10bf673880d6",
   "metadata": {},
   "outputs": [],
   "source": [
    "path_rubin_sim_throughput=os.path.join(os.getenv(\"HOME\"),\"rubin_sim_data/throughputs/baseline\")"
   ]
  },
  {
   "cell_type": "code",
   "execution_count": 14,
   "id": "e392ca98-b2cc-42b3-ae8a-7169b17bfe9e",
   "metadata": {},
   "outputs": [],
   "source": [
    "darksky = Sed()\n",
    "darksky.read_sed_flambda(os.path.join(path_rubin_sim_throughput, 'darksky.dat'))"
   ]
  },
  {
   "cell_type": "code",
   "execution_count": 15,
   "id": "a1cbd7ca-8c10-4c04-ace0-b163799bffc5",
   "metadata": {},
   "outputs": [],
   "source": [
    "index_sel = np.where(np.logical_and(darksky.wavelen>=WLMIN,darksky.wavelen<WLMAX))[0]\n",
    "wav = darksky.wavelen[index_sel]\n",
    "fll = darksky.flambda[index_sel]\n",
    "darksel = Sed(wavelen=wav, flambda=fll)"
   ]
  },
  {
   "cell_type": "code",
   "execution_count": 16,
   "id": "eff0c147-d4a3-484c-9bdb-fe5d75087baa",
   "metadata": {},
   "outputs": [
    {
     "data": {
      "text/plain": [
       "Text(0, 0.5, '$F_\\\\lambda (\\\\lambda)$')"
      ]
     },
     "execution_count": 16,
     "metadata": {},
     "output_type": "execute_result"
    },
    {
     "data": {
      "image/png": "[encoded data removed]",
      "text/plain": [
       "<Figure size 500x300 with 1 Axes>"
      ]
     },
     "metadata": {},
     "output_type": "display_data"
    }
   ],
   "source": [
    "fig, axs = plt.subplots(1,1,figsize=(5,3))\n",
    "axs.plot(darksky.wavelen,darksky.flambda,'r-')\n",
    "axs.plot(darksel.wavelen,darksel.flambda,'b-')\n",
    "axs.set_title(\"sky background SED\")\n",
    "axs.set_xlabel(\"$\\\\lambda$ (nm)\")\n",
    "axs.set_ylabel(\"$F_\\lambda (\\lambda)$\")"
   ]
  },
  {
   "cell_type": "markdown",
   "id": "2c062900-65de-4ee9-b1ed-63c4343d2437",
   "metadata": {},
   "source": [
    "## Chose a Standard atmosphere"
   ]
  },
  {
   "cell_type": "code",
   "execution_count": 17,
   "id": "8b282372-c591-4a9d-a6f1-ade2c96d2e51",
   "metadata": {},
   "outputs": [],
   "source": [
    "am0 =1.20    # airmass\n",
    "pwv0 = 5.0  # Precipitable water vapor vertical column depth in mm\n",
    "oz0 = 300.  # Ozone vertical column depth in Dobson Unit (DU)\n",
    "ncomp=1     # Number of aerosol components\n",
    "tau0= 0.04 # Vertical Aerosol depth (VAOD) \n",
    "beta0 = -1# Aerosol Angstrom exponent"
   ]
  },
  {
   "cell_type": "markdown",
   "id": "00e11d5b-55c0-4615-a3aa-daec0348a9da",
   "metadata": {},
   "source": [
    "### Initialisation of Atmospheric corrections"
   ]
  },
  {
   "cell_type": "code",
   "execution_count": 18,
   "id": "14ce34dd-200a-4bb7-881a-4c8e2822b8f1",
   "metadata": {},
   "outputs": [],
   "source": [
    "pc = PhotometricCorrections(am0,pwv0,oz0,ncomp,tau0,beta0)"
   ]
  },
  {
   "cell_type": "markdown",
   "id": "89e17564-b611-450a-9341-c98cad2d4c73",
   "metadata": {},
   "source": [
    "### Check standard atmosphere"
   ]
  },
  {
   "cell_type": "code",
   "execution_count": 19,
   "id": "5d7ccb4e-55f3-4395-ae38-47908f30fa27",
   "metadata": {},
   "outputs": [
    {
     "data": {
      "text/plain": [
       "Text(0.5, 1.0, 'Standard atmosphere transmission')"
      ]
     },
     "execution_count": 19,
     "metadata": {},
     "output_type": "execute_result"
    },
    {
     "data": {
      "image/png": "[encoded data removed]",
      "text/plain": [
       "<Figure size 600x400 with 1 Axes>"
      ]
     },
     "metadata": {},
     "output_type": "display_data"
    }
   ],
   "source": [
    "fig, axs = plt.subplots(1,1,figsize=(6,4))\n",
    "axs.plot(pc.WL,pc.atm_std,'k-')\n",
    "axs.set_xlabel(\"$\\\\lambda$ (nm)\")\n",
    "axs.set_title(\"Standard atmosphere transmission\")"
   ]
  },
  {
   "cell_type": "markdown",
   "id": "782ad306-cfb1-4b42-8d54-b2a9227073b9",
   "metadata": {},
   "source": [
    "## Pickup an SED"
   ]
  },
  {
   "cell_type": "code",
   "execution_count": 20,
   "id": "5b93e747-2906-4d31-801e-27b93de42e7a",
   "metadata": {},
   "outputs": [],
   "source": [
    "# this will contain attributes calculated for each SED\n",
    "df_SED = pd.DataFrame(columns=[\"name\",\"type\"])"
   ]
  },
  {
   "cell_type": "code",
   "execution_count": 21,
   "id": "6cf46788-1e60-4e21-b38e-b72824101290",
   "metadata": {},
   "outputs": [],
   "source": [
    "datadir = get_data_dir()\n",
    "#sedDir = '/Users/lynnej/other_repos/photometry_sample'\n",
    "sedDir = os.path.join(datadir,'photometry_sample')\n",
    "\n",
    "sedtypes = ['galaxies', 'quasar','photoZ_outliers','sn'] \n",
    "sedtypes_not_used = ['stars', 'white_dwarf']\n",
    "sedtypes = sedtypes \n",
    "\n",
    "NSEDTYPES = len(sedtypes)\n",
    "\n",
    "# dictionnary indexed by sed-name\n",
    "seds = {}      # dictionnary that will contain the `rubin_sim` seds-Flambdas\n",
    "sedsfnu = {}   # dictionnary that will contain the `rubin_sim` seds-Fnu\n",
    "sedtypeslists = {}  # dictionnary that contain the SED type\n",
    "count_sed =0\n",
    "\n",
    "# loop on SED type\n",
    "for idx,s in enumerate(sedtypes):\n",
    "    sedtypelist = []\n",
    "    # loop on object sed in SED type list\n",
    "    filenames = os.listdir(os.path.join(sedDir, s))\n",
    "    for f in filenames:\n",
    "        name = f.replace('.dat', '').replace('.sed', '')\n",
    "        \n",
    "        if name == \"m3.0Full\":\n",
    "            continue\n",
    "            \n",
    "        seds[name] = Sed()\n",
    "        seds[name].read_sed_flambda(os.path.join(sedDir, s, f))\n",
    "        sedsfnu[name]= Sed()\n",
    "    \n",
    "        # save the name of the sed in the list\n",
    "        sedtypelist.append(name) \n",
    "        df_SED.loc[count_sed] = [name,s]\n",
    "        count_sed+=1\n",
    "        \n",
    "    # save the above list in a dictionary\n",
    "    sedtypeslists[s] =  sedtypelist\n",
    "        \n"
   ]
  },
  {
   "cell_type": "code",
   "execution_count": 22,
   "id": "82f9b155-8233-4108-b457-3779d7f08921",
   "metadata": {},
   "outputs": [
    {
     "data": {
      "text/html": [
       "<div>\n",
       "<style scoped>\n",
       "    .dataframe tbody tr th:only-of-type {\n",
       "        vertical-align: middle;\n",
       "    }\n",
       "\n",
       "    .dataframe tbody tr th {\n",
       "        vertical-align: top;\n",
       "    }\n",
       "\n",
       "    .dataframe thead th {\n",
       "        text-align: right;\n",
       "    }\n",
       "</style>\n",
       "<table border=\"1\" class=\"dataframe\">\n",
       "  <thead>\n",
       "    <tr style=\"text-align: right;\">\n",
       "      <th></th>\n",
       "      <th>type</th>\n",
       "    </tr>\n",
       "    <tr>\n",
       "      <th>name</th>\n",
       "      <th></th>\n",
       "    </tr>\n",
       "  </thead>\n",
       "  <tbody>\n",
       "    <tr>\n",
       "      <th>Sa_template_norm</th>\n",
       "      <td>galaxies</td>\n",
       "    </tr>\n",
       "    <tr>\n",
       "      <th>Sdm_template_norm0</th>\n",
       "      <td>galaxies</td>\n",
       "    </tr>\n",
       "    <tr>\n",
       "      <th>Ell2_template_norm</th>\n",
       "      <td>galaxies</td>\n",
       "    </tr>\n",
       "    <tr>\n",
       "      <th>quasar</th>\n",
       "      <td>quasar</td>\n",
       "    </tr>\n",
       "    <tr>\n",
       "      <th>xspec_173</th>\n",
       "      <td>photoZ_outliers</td>\n",
       "    </tr>\n",
       "    <tr>\n",
       "      <th>xspec_172</th>\n",
       "      <td>photoZ_outliers</td>\n",
       "    </tr>\n",
       "    <tr>\n",
       "      <th>xspec_90</th>\n",
       "      <td>photoZ_outliers</td>\n",
       "    </tr>\n",
       "    <tr>\n",
       "      <th>xspec_91</th>\n",
       "      <td>photoZ_outliers</td>\n",
       "    </tr>\n",
       "    <tr>\n",
       "      <th>xspec_176</th>\n",
       "      <td>photoZ_outliers</td>\n",
       "    </tr>\n",
       "    <tr>\n",
       "      <th>xspec_175</th>\n",
       "      <td>photoZ_outliers</td>\n",
       "    </tr>\n",
       "    <tr>\n",
       "      <th>sn1a_10.0</th>\n",
       "      <td>sn</td>\n",
       "    </tr>\n",
       "    <tr>\n",
       "      <th>sn1a_15.0</th>\n",
       "      <td>sn</td>\n",
       "    </tr>\n",
       "    <tr>\n",
       "      <th>sn1a_20.0</th>\n",
       "      <td>sn</td>\n",
       "    </tr>\n",
       "  </tbody>\n",
       "</table>\n",
       "</div>"
      ],
      "text/plain": [
       "                               type\n",
       "name                               \n",
       "Sa_template_norm           galaxies\n",
       "Sdm_template_norm0         galaxies\n",
       "Ell2_template_norm         galaxies\n",
       "quasar                       quasar\n",
       "xspec_173           photoZ_outliers\n",
       "xspec_172           photoZ_outliers\n",
       "xspec_90            photoZ_outliers\n",
       "xspec_91            photoZ_outliers\n",
       "xspec_176           photoZ_outliers\n",
       "xspec_175           photoZ_outliers\n",
       "sn1a_10.0                        sn\n",
       "sn1a_15.0                        sn\n",
       "sn1a_20.0                        sn"
      ]
     },
     "execution_count": 22,
     "metadata": {},
     "output_type": "execute_result"
    }
   ],
   "source": [
    "df_SED=df_SED.set_index('name')\n",
    "df_SED"
   ]
  },
  {
   "cell_type": "code",
   "execution_count": 23,
   "id": "027d421d-983e-4a1b-8b1f-6eff77ec9eaf",
   "metadata": {},
   "outputs": [],
   "source": [
    "#sed_name = 'xspec_173'\n",
    "#sed_name = 'quasar'\n",
    "sed_name = 'Sa_template_norm'\n",
    "#sed_name = 'Sdm_template_norm0'\n",
    "#sed_name = 'Ell2_template_norm'\n",
    "#sed_name = 'sn1a_10.0'\n",
    "#sed_name = 'sn1a_15.0'\n",
    "#sed_name = 'sn1a_20.0'"
   ]
  },
  {
   "cell_type": "code",
   "execution_count": 24,
   "id": "5df6cb0e-8ca9-4b4b-b0f6-59d41b6d3115",
   "metadata": {},
   "outputs": [],
   "source": [
    "z=0\n",
    "seds[sed_name].redshift_sed(z)"
   ]
  },
  {
   "cell_type": "code",
   "execution_count": 25,
   "id": "d123446e-a59b-4cb0-aba4-e16de173b5e2",
   "metadata": {},
   "outputs": [],
   "source": [
    "# Scale spectrum and recalculate magnitudes.\n",
    "y = 20.0\n",
    "\n",
    "flux_norm = seds[sed_name].calc_flux_norm(y, pc.bandpass_total_std['y'])\n",
    "seds[sed_name].multiply_flux_norm(flux_norm)"
   ]
  },
  {
   "cell_type": "code",
   "execution_count": 26,
   "id": "7b0d947a-ff5e-40de-8651-01c08a795967",
   "metadata": {},
   "outputs": [],
   "source": [
    "all_redshifts = np.arange(0,3.5,0.5)\n",
    "all_seds = []\n",
    "all_seds_name = []\n",
    "NSEDS = len(all_redshifts)\n",
    "hls_colors = sns.color_palette(\"hls\", NSEDS)\n",
    "for idx,z in enumerate(all_redshifts):\n",
    "    the_sed = copy.deepcopy(seds[sed_name])\n",
    "    the_sed.redshift_sed(z)\n",
    "    all_seds.append(copy.deepcopy(the_sed))\n",
    "    the_sed_name = f\"{sed_name}_{idx}_z{z:.1f}\"\n",
    "    all_seds_name.append(the_sed_name)"
   ]
  },
  {
   "cell_type": "code",
   "execution_count": 27,
   "id": "c84b6ae7-c480-444a-bc62-e660520fad20",
   "metadata": {},
   "outputs": [
    {
     "data": {
      "image/png": "[encoded data removed]",
      "text/plain": [
       "<Figure size 600x400 with 2 Axes>"
      ]
     },
     "metadata": {},
     "output_type": "display_data"
    }
   ],
   "source": [
    "# Plot the seds\n",
    "all_fmax = np.zeros(NSEDS)\n",
    "fig, ax = plt.subplots(1,1,figsize=(6,4))\n",
    "\n",
    "for idx,the_sed in enumerate(all_seds):\n",
    "    \n",
    "    wavel,fnu = the_sed.get_sed_fnu()\n",
    "    z=all_redshifts[idx] \n",
    "    label = f\"{idx} : z={z:.1f}\"\n",
    "    \n",
    "    ax.plot(wavel, fnu,\"-\",color=hls_colors[idx],label=label,lw=2)\n",
    "    \n",
    "    indexes_sel = np.where(np.logical_and(wavel>WLMIN,wavel<WLMAX))[0]\n",
    "    flmax = np.max(fnu[indexes_sel])\n",
    "    all_fmax[idx] = flmax\n",
    "    \n",
    "ax.legend(loc=(1.01, 0.01))\n",
    "ax.set_xlim(300, 1100)\n",
    "fmax=np.max(all_fmax)\n",
    "ax.set_ylim(0,fmax)\n",
    "\n",
    "ax.grid(alpha=0.3)\n",
    "ax.set_xlabel('Wavelength (nm)')\n",
    "ax.set_ylabel(\"$F_\\\\nu (\\lambda)$\")\n",
    "ax.set_title(\"$F_\\\\nu (\\lambda)$\" + f\" SED {sed_name}\")\n",
    "\n",
    "indexes_sel = np.where(np.logical_and(wavel>WLMIN,wavel<WLMAX))[0]\n",
    "flmax = np.max(fnu[indexes_sel])\n",
    "\n",
    "                       \n",
    "\n",
    "ax2 = ax.twinx()\n",
    "for index,f in enumerate(filter_tagnames):\n",
    "    \n",
    "    ax2.plot(pc.bandpass_total_std[f].wavelen,pc.bandpass_total_std[f].sb,color=filter_color[index]) \n",
    "    ax2.fill_between(pc.bandpass_total_std[f].wavelen,pc.bandpass_total_std[f].sb,color=filter_color[index],alpha=0.2) \n",
    "    ax2.axvline(FILTERWL[index,2],color=filter_color[index],linestyle=\"-.\")\n",
    "    ax2.set_yticks([])\n",
    "    "
   ]
  },
  {
   "cell_type": "markdown",
   "id": "1d078417-cd73-4c77-a7db-a93fbaac5b78",
   "metadata": {},
   "source": [
    "# Calculations of magnitude and ADC in standard passband"
   ]
  },
  {
   "cell_type": "code",
   "execution_count": 28,
   "id": "62e6f880-63f4-44fc-9ffb-966075a87079",
   "metadata": {},
   "outputs": [
    {
     "data": {
      "text/html": [
       "<div>\n",
       "<style scoped>\n",
       "    .dataframe tbody tr th:only-of-type {\n",
       "        vertical-align: middle;\n",
       "    }\n",
       "\n",
       "    .dataframe tbody tr th {\n",
       "        vertical-align: top;\n",
       "    }\n",
       "\n",
       "    .dataframe thead th {\n",
       "        text-align: right;\n",
       "    }\n",
       "</style>\n",
       "<table border=\"1\" class=\"dataframe\">\n",
       "  <thead>\n",
       "    <tr style=\"text-align: right;\">\n",
       "      <th></th>\n",
       "      <th>Sa_template_norm</th>\n",
       "    </tr>\n",
       "  </thead>\n",
       "  <tbody>\n",
       "    <tr>\n",
       "      <th>u</th>\n",
       "      <td>23.164294</td>\n",
       "    </tr>\n",
       "    <tr>\n",
       "      <th>g</th>\n",
       "      <td>21.581681</td>\n",
       "    </tr>\n",
       "    <tr>\n",
       "      <th>r</th>\n",
       "      <td>20.848606</td>\n",
       "    </tr>\n",
       "    <tr>\n",
       "      <th>i</th>\n",
       "      <td>20.509627</td>\n",
       "    </tr>\n",
       "    <tr>\n",
       "      <th>z</th>\n",
       "      <td>20.226098</td>\n",
       "    </tr>\n",
       "    <tr>\n",
       "      <th>y</th>\n",
       "      <td>20.000000</td>\n",
       "    </tr>\n",
       "  </tbody>\n",
       "</table>\n",
       "</div>"
      ],
      "text/plain": [
       "   Sa_template_norm\n",
       "u         23.164294\n",
       "g         21.581681\n",
       "r         20.848606\n",
       "i         20.509627\n",
       "z         20.226098\n",
       "y         20.000000"
      ]
     },
     "execution_count": 28,
     "metadata": {},
     "output_type": "execute_result"
    }
   ],
   "source": [
    "mags_std = {}\n",
    "for index,f in enumerate(filter_tagnames) :\n",
    "    mags_std[f] = seds[sed_name].calc_mag(pc.bandpass_total_std[f])\n",
    "    \n",
    "pd.DataFrame(mags_std, index=[sed_name]).T"
   ]
  },
  {
   "cell_type": "code",
   "execution_count": 29,
   "id": "dcc67c2b-a3d8-456f-ba2c-24c2e8c2007a",
   "metadata": {},
   "outputs": [
    {
     "data": {
      "text/html": [
       "<div>\n",
       "<style scoped>\n",
       "    .dataframe tbody tr th:only-of-type {\n",
       "        vertical-align: middle;\n",
       "    }\n",
       "\n",
       "    .dataframe tbody tr th {\n",
       "        vertical-align: top;\n",
       "    }\n",
       "\n",
       "    .dataframe thead th {\n",
       "        text-align: right;\n",
       "    }\n",
       "</style>\n",
       "<table border=\"1\" class=\"dataframe\">\n",
       "  <thead>\n",
       "    <tr style=\"text-align: right;\">\n",
       "      <th></th>\n",
       "      <th>Sa_template_norm</th>\n",
       "    </tr>\n",
       "  </thead>\n",
       "  <tbody>\n",
       "    <tr>\n",
       "      <th>u</th>\n",
       "      <td>419.873399</td>\n",
       "    </tr>\n",
       "    <tr>\n",
       "      <th>g</th>\n",
       "      <td>6589.597063</td>\n",
       "    </tr>\n",
       "    <tr>\n",
       "      <th>r</th>\n",
       "      <td>10723.307763</td>\n",
       "    </tr>\n",
       "    <tr>\n",
       "      <th>i</th>\n",
       "      <td>11224.921306</td>\n",
       "    </tr>\n",
       "    <tr>\n",
       "      <th>z</th>\n",
       "      <td>10109.371236</td>\n",
       "    </tr>\n",
       "    <tr>\n",
       "      <th>y</th>\n",
       "      <td>5996.507357</td>\n",
       "    </tr>\n",
       "  </tbody>\n",
       "</table>\n",
       "</div>"
      ],
      "text/plain": [
       "   Sa_template_norm\n",
       "u        419.873399\n",
       "g       6589.597063\n",
       "r      10723.307763\n",
       "i      11224.921306\n",
       "z      10109.371236\n",
       "y       5996.507357"
      ]
     },
     "execution_count": 29,
     "metadata": {},
     "output_type": "execute_result"
    }
   ],
   "source": [
    "photoparams = set_photometric_parameters(15, 2 , readnoise=None)\n",
    "adcs_std = {}\n",
    "for index,f in enumerate(filter_tagnames) :\n",
    "    adcs_std[f] = seds[sed_name].calc_adu(pc.bandpass_total_std[f],photoparams)\n",
    "    \n",
    "pd.DataFrame(adcs_std, index=[sed_name]).T"
   ]
  },
  {
   "cell_type": "markdown",
   "id": "60d08284-a88d-4b83-a5c7-d6353d1c19cf",
   "metadata": {},
   "source": [
    "# Create a series of observations\n",
    "\n",
    "- vary precipitable water vapor\n",
    "- keep airmass at 1.2\n",
    "- other atmospheric parameters are kept constants"
   ]
  },
  {
   "cell_type": "code",
   "execution_count": 30,
   "id": "7ab9fbf2-feba-4c78-8f5f-ce0cd6893216",
   "metadata": {},
   "outputs": [],
   "source": [
    "PWVMIN = 1\n",
    "PWVMAX = 9\n",
    "DPWV= PWVMAX-PWVMIN \n",
    "NOBS = 100"
   ]
  },
  {
   "cell_type": "code",
   "execution_count": 31,
   "id": "67ecbac1-c39c-4e32-b2d5-407ed6b31ac0",
   "metadata": {},
   "outputs": [],
   "source": [
    "all_pwv = DPWV*np.random.rand(NOBS) + PWVMIN"
   ]
  },
  {
   "cell_type": "code",
   "execution_count": 32,
   "id": "3faa1953-6955-4da7-a6f0-f2a6f1d00471",
   "metadata": {},
   "outputs": [],
   "source": [
    "pc.CalculateMultiObs(am0,all_pwv,oz0,ncomp,tau0,beta0)"
   ]
  },
  {
   "cell_type": "markdown",
   "id": "e7d89bdf-3563-46bb-8407-80725bb97215",
   "metadata": {},
   "source": [
    "## Simulate the observations"
   ]
  },
  {
   "cell_type": "code",
   "execution_count": 33,
   "id": "c9ed21dc-e057-493b-abbe-6ef5e4748049",
   "metadata": {},
   "outputs": [],
   "source": [
    "# constant in zero point\n",
    "F0AB = 3631*(1*u.Jy).cgs.value\n",
    "Z0PTconst = 2.5*np.log10((F0AB*photoparams.effarea*photoparams.nexp*photoparams.exptime)/(photoparams.gain*const.h.cgs.value))"
   ]
  },
  {
   "cell_type": "code",
   "execution_count": 34,
   "id": "f3aa73ed-5b60-4bae-920a-3ce530063336",
   "metadata": {},
   "outputs": [
    {
     "data": {
      "text/plain": [
       "8.90006562228223"
      ]
     },
     "execution_count": 34,
     "metadata": {},
     "output_type": "execute_result"
    }
   ],
   "source": [
    "2.5*np.log10(3631)"
   ]
  },
  {
   "cell_type": "code",
   "execution_count": 35,
   "id": "7a79c0eb-0574-4791-8a1a-4c03c9e3dffa",
   "metadata": {},
   "outputs": [
    {
     "data": {
      "text/plain": [
       "-57.5"
      ]
     },
     "execution_count": 35,
     "metadata": {},
     "output_type": "execute_result"
    }
   ],
   "source": [
    "2.5*np.log10((1*u.Jy).cgs.value)"
   ]
  },
  {
   "cell_type": "code",
   "execution_count": 36,
   "id": "9cd3df98-374c-4fec-b7b4-449f206e5c86",
   "metadata": {},
   "outputs": [],
   "source": [
    "# constant in zero point\n",
    "#F0AB = 3631*(1*u.Jy).value\n",
    "#Z0PTconst = 2.5*np.log10(photoparams.gain*const.h.value/(F0AB*photoparams.effarea*photoparams.nexp*photoparams.exptime))"
   ]
  },
  {
   "cell_type": "code",
   "execution_count": 37,
   "id": "a5a3e86c-285f-4675-a35e-d140f438870d",
   "metadata": {},
   "outputs": [],
   "source": [
    "df = pd.DataFrame(columns=['count','sed', 'redshift','iobs','pwv',\n",
    "                           'adcstd_u', 'adcstd_g','adcstd_r','adcstd_i','adcstd_z','adcstd_y',\n",
    "                           'adcobs_u', 'adcobs_g','adcobs_r','adcobs_i','adcobs_z','adcobs_y',\n",
    "                           'mistd_u','mistd_g','mistd_r','mistd_i','mistd_z','mistd_y',\n",
    "                           'miobs_u','miobs_g','miobs_r','miobs_i','miobs_z','miobs_y',\n",
    "                           'II0ratio_u','II0ratio_g','II0ratio_r','II0ratio_i','II0ratio_z','II0ratio_y',\n",
    "                           'II1sub_u','II1sub_g','II1sub_r','II1sub_i','II1sub_z','II1sub_y',\n",
    "                           'magratioII0_u','magratioII0_g','magratioII0_r','magratioII0_i','magratioII0_z','magratioII0_y',\n",
    "                           'magstd_u','magstd_g','magstd_r','magstd_i','magstd_z','magstd_y',\n",
    "                           'magobs_u','magobs_g','magobs_r','magobs_i','magobs_z','magobs_y',\n",
    "                           'z0pt_u','z0pt_g','z0pt_r','z0pt_i','z0pt_z','z0pt_y' \n",
    "                          ])\n"
   ]
  },
  {
   "cell_type": "code",
   "execution_count": null,
   "id": "db5b78ad-2b3f-4997-bb29-584cba711464",
   "metadata": {},
   "outputs": [],
   "source": [
    "# loop on SEDs\n",
    "count=0\n",
    "for idx_sed,the_sed in enumerate(all_seds):\n",
    "    #loop on observations \n",
    "    for idx_obs,pwv in enumerate(all_pwv):\n",
    "        # loop in filters\n",
    "        magstd = np.zeros(NFILT)\n",
    "        magobs = np.zeros(NFILT)\n",
    "        adcstd = np.zeros(NFILT)\n",
    "        adcobs = np.zeros(NFILT)\n",
    "        mistd = np.zeros(NFILT)\n",
    "        miobs = np.zeros(NFILT)\n",
    "        ratioII0 = np.zeros(NFILT)\n",
    "        subII1 = np.zeros(NFILT)\n",
    "        magratioII0 = np.zeros(NFILT)\n",
    "        II0std = np.zeros(NFILT)\n",
    "        II1std = np.zeros(NFILT)\n",
    "        Z0PT = np.zeros(NFILT)\n",
    "        \n",
    "        for ifilt,f in enumerate(filter_tagnames):\n",
    "            # standard quanitites\n",
    "            lsst_band_std = pc.bandpass_total_std[f]\n",
    "            magstd[ifilt] = all_seds[idx_sed].calc_mag(lsst_band_std)\n",
    "            adcstd[ifilt] = all_seds[idx_sed].calc_adu(lsst_band_std,photoparams)\n",
    "            mistd[ifilt] = -2.5*np.log10(adcstd[ifilt])\n",
    "            II0std[ifilt] = pc.all_II0_std[f]\n",
    "            II1std[ifilt] = pc.all_II1_std[f]\n",
    "            # zero point\n",
    "            Z0PT[ifilt] = 2.5*np.log10(II0std[ifilt])+ Z0PTconst\n",
    "                \n",
    "            # non standard quantities    \n",
    "            lsst_band_obs = pc.coll_bandpass_total_nonstd[idx_obs][f]  \n",
    "            adcobs[ifilt] = all_seds[idx_sed].calc_adu(lsst_band_obs,photoparams)\n",
    "            miobs[ifilt] = -2.5*np.log10(adcobs[ifilt])\n",
    "            magobs[ifilt] = all_seds[idx_sed].calc_mag(lsst_band_obs)\n",
    "            \n",
    "            ratioII0[ifilt] = pc.allcollperfilter[f][\"II0ratio_nonstd\"][idx_obs]  \n",
    "            subII1[ifilt] = pc.allcollperfilter[f][\"II1sub_nonstd\"][idx_obs] \n",
    "            magratioII0[ifilt] = 2.5*np.log10(ratioII0[ifilt])\n",
    "        # fill for each observation \n",
    "        \n",
    "        df.loc[count] = [count,all_seds_name[idx_sed], all_redshifts[idx_sed], idx_obs, pwv,\n",
    "                          adcstd[0],adcstd[1],adcstd[2],adcstd[3],adcstd[4],adcstd[5],\n",
    "                          adcobs[0],adcobs[1],adcobs[2],adcobs[3],adcobs[4],adcobs[5],\n",
    "                          mistd[0],mistd[1],mistd[2],mistd[3],mistd[4],mistd[5],\n",
    "                          miobs[0],miobs[1],miobs[2],miobs[3],miobs[4],miobs[5],\n",
    "                          ratioII0[0],ratioII0[1],ratioII0[2],ratioII0[3],ratioII0[4],ratioII0[5],\n",
    "                          subII1[0],subII1[1],subII1[2],subII1[3],subII1[4],subII1[5],\n",
    "                          magratioII0[0],magratioII0[1],magratioII0[2],magratioII0[3],magratioII0[4],magratioII0[5],\n",
    "                          magstd[0],magstd[1],magstd[2],magstd[3],magstd[4],magstd[5],\n",
    "                          magobs[0],magobs[1],magobs[2],magobs[3],magobs[4],magobs[5],\n",
    "                          Z0PT[0],Z0PT[1],Z0PT[2],Z0PT[3],Z0PT[4],Z0PT[5]  \n",
    "                        ]\n",
    "        \n",
    "        count+=1\n",
    "                          \n",
    "        "
   ]
  },
  {
   "cell_type": "code",
   "execution_count": null,
   "id": "176effa9-7a25-42b1-a434-481aa576bad5",
   "metadata": {},
   "outputs": [],
   "source": [
    "df"
   ]
  },
  {
   "cell_type": "markdown",
   "id": "7e029c04-f62a-4f2f-9002-8056e9cde02f",
   "metadata": {},
   "source": [
    "# If does not calibrate with $II_b^{obs}/II_b^{std}$"
   ]
  },
  {
   "cell_type": "code",
   "execution_count": null,
   "id": "b6895175-0043-4259-9e87-4c437ecdb52b",
   "metadata": {},
   "outputs": [],
   "source": [
    "fig, ax = plt.subplots(2,3,figsize=(16,6))\n",
    "# u\n",
    "value = df[\"miobs_u\"]-df[\"mistd_u\"]\n",
    "ax[0,0].hist(value,bins=50,range=(-0.15,0.15),facecolor=filter_color[0],label=filter_tagnames[0] )\n",
    "# g\n",
    "value = df[\"miobs_g\"]-df[\"mistd_g\"]\n",
    "ax[0,1].hist(value,bins=50,range=(-0.15,0.15),facecolor=filter_color[1],label=filter_tagnames[1])\n",
    "# r\n",
    "value = df[\"miobs_r\"]-df[\"mistd_r\"]\n",
    "ax[0,2].hist(value,bins=50,range=(-0.15,0.15),facecolor=filter_color[2],label=filter_tagnames[2])\n",
    "# i\n",
    "value = df[\"miobs_i\"]-df[\"mistd_i\"]\n",
    "ax[1,0].hist(value,bins=50,range=(-0.15,0.15),facecolor=filter_color[3],label=filter_tagnames[3])\n",
    "# z\n",
    "value = df[\"miobs_z\"]-df[\"mistd_z\"]\n",
    "ax[1,1].hist(value,bins=50,range=(-0.15,0.15),facecolor=filter_color[4],label=filter_tagnames[4])\n",
    "#\n",
    "value = df[\"miobs_y\"]-df[\"mistd_y\"]\n",
    "ax[1,2].hist(value,bins=50,range=(-0.15,0.15),facecolor=filter_color[5],label=filter_tagnames[5])\n",
    "for ix in range(3):\n",
    "    for iy in range(2):\n",
    "        ax[iy,ix].legend()\n",
    "plt.tight_layout()\n",
    "plt.suptitle(\"$m_i^{obs}-m_i^{std}$ (mag)\"+ f\"for SED {sed_name}\",fontsize=20,y=1.05)"
   ]
  },
  {
   "cell_type": "markdown",
   "id": "53691225-b32e-4a60-a743-0180801537fe",
   "metadata": {},
   "source": [
    "# If one calibrates with $II_b^{obs}/II_b^{std}$\n",
    "\n",
    "- assume perfect pwv measurement"
   ]
  },
  {
   "cell_type": "code",
   "execution_count": null,
   "id": "a0f57175-6155-4cf9-b0a0-cd7fdb94dd29",
   "metadata": {},
   "outputs": [],
   "source": [
    "fig, ax = plt.subplots(2,3,figsize=(16,6))\n",
    "# u\n",
    "values = df[\"miobs_u\"]+df[\"magratioII0_u\"]-df[\"mistd_u\"]\n",
    "ax[0,0].hist(values,bins=50,range=(-0.01,0.01),facecolor=filter_color[0],label=filter_tagnames[0] )\n",
    "# g\n",
    "values = df[\"miobs_g\"]+df[\"magratioII0_g\"]-df[\"mistd_g\"]\n",
    "ax[0,1].hist(values,bins=50,range=(-0.01,0.01),facecolor=filter_color[1],label=filter_tagnames[1])\n",
    "# r\n",
    "values = df[\"miobs_r\"]+df[\"magratioII0_r\"]-df[\"mistd_r\"]\n",
    "ax[0,2].hist(values,bins=50,range=(-0.01,0.01),facecolor=filter_color[2],label=filter_tagnames[2])\n",
    "\n",
    "# i\n",
    "values = df[\"miobs_i\"]+df[\"magratioII0_i\"]-df[\"mistd_i\"]\n",
    "mean = values.describe()[\"mean\"]*1000\n",
    "std = values.describe()[\"std\"]*1000\n",
    "textstr = '\\n'.join((\n",
    "    r'$\\mu=%.2f$ mmag' % (mean, ),\n",
    "    r'$\\sigma=%.2f$ mmag' % (std, )))\n",
    "ax[1,0].hist(values,bins=50,range=(-0.01,0.01),facecolor=filter_color[3],label=filter_tagnames[3])\n",
    "ax[1,0].text(0.05, 0.95, textstr, transform=ax[1,0].transAxes, fontsize=14,\n",
    "        verticalalignment='top', bbox=props)\n",
    "\n",
    "\n",
    "#z\n",
    "values = df[\"miobs_z\"]+df[\"magratioII0_z\"]-df[\"mistd_z\"]\n",
    "mean = values.describe()[\"mean\"]*1000\n",
    "std = values.describe()[\"std\"]*1000\n",
    "textstr = '\\n'.join((\n",
    "    r'$\\mu=%.2f$ mmag' % (mean, ),\n",
    "    r'$\\sigma=%.2f$ mmag' % (std, )))\n",
    "ax[1,1].hist(values,bins=50,range=(-0.01,0.01),facecolor=filter_color[4],label=filter_tagnames[4])\n",
    "ax[1,1].text(0.05, 0.95, textstr, transform=ax[1,1].transAxes, fontsize=14,\n",
    "        verticalalignment='top', bbox=props)\n",
    "\n",
    "# y\n",
    "values = df[\"miobs_y\"]+df[\"magratioII0_y\"]-df[\"mistd_y\"]\n",
    "mean = values.describe()[\"mean\"]*1000\n",
    "std = values.describe()[\"std\"]*1000\n",
    "textstr = '\\n'.join((\n",
    "    r'$\\mu=%.2f$ mmag' % (mean, ),\n",
    "    r'$\\sigma=%.2f$ mmag' % (std, )))\n",
    "ax[1,2].hist(values,bins=50,range=(-0.01,0.01),facecolor=filter_color[5],label=filter_tagnames[5])\n",
    "ax[1,2].text(0.05, 0.95, textstr, transform=ax[1,2].transAxes, fontsize=14,\n",
    "        verticalalignment='top', bbox=props)\n",
    "\n",
    "for ix in range(3):\n",
    "    for iy in range(2):\n",
    "        ax[iy,ix].legend()\n",
    "plt.tight_layout()\n",
    "plt.suptitle(\"$m_i^{obs} + 2.5\\log_{10}(II^{obs}/II^{std})-m_i^{std}$ (mag)\" +f\" for SED {sed_name}\",fontsize=20,y=1.05)"
   ]
  },
  {
   "cell_type": "markdown",
   "id": "937b14a2-1c71-412b-86d6-176c73a96080",
   "metadata": {},
   "source": [
    "## Bias : reconstructed magnitude - true magnitude\n",
    "\n",
    "- no color correction"
   ]
  },
  {
   "cell_type": "code",
   "execution_count": null,
   "id": "d587fd3d-6dc0-401d-8506-2411a7cd9c6c",
   "metadata": {},
   "outputs": [],
   "source": [
    "fig, ax = plt.subplots(2,3,figsize=(16,6))\n",
    "\n",
    "# u\n",
    "value = df[\"miobs_u\"]+df[\"magratioII0_u\"] + df[\"z0pt_u\"] -df[\"magstd_u\"]\n",
    "ax[0,0].hist(value,bins=50,range=(-0.01,0.01),facecolor=filter_color[0],label=filter_tagnames[0] )\n",
    "# g\n",
    "value = df[\"miobs_g\"]+df[\"magratioII0_g\"] + df[\"z0pt_g\"] -df[\"magstd_g\"]\n",
    "ax[0,1].hist(df[\"miobs_g\"]+df[\"magratioII0_g\"]-df[\"mistd_g\"],bins=50,range=(-0.01,0.01),facecolor=filter_color[1],label=filter_tagnames[1])\n",
    "# r\n",
    "value = df[\"miobs_r\"]+df[\"magratioII0_r\"] + df[\"z0pt_r\"] -df[\"magstd_r\"]\n",
    "ax[0,2].hist(value,bins=50,range=(-0.01,0.01),facecolor=filter_color[2],label=filter_tagnames[2])\n",
    "\n",
    "# i\n",
    "values = df[\"miobs_i\"]+df[\"magratioII0_i\"] + df[\"z0pt_i\"] -df[\"magstd_i\"]\n",
    "mean = values.describe()[\"mean\"]*1000\n",
    "std = values.describe()[\"std\"]*1000\n",
    "textstr = '\\n'.join((\n",
    "    r'$\\mu=%.2f$ mmag' % (mean, ),\n",
    "    r'$\\sigma=%.2f$ mmag' % (std, )))\n",
    "ax[1,0].hist(values,bins=50,range=(-0.01,0.01),facecolor=filter_color[3],label=filter_tagnames[3])\n",
    "ax[1,0].text(0.05, 0.95, textstr, transform=ax[1,0].transAxes, fontsize=14,\n",
    "        verticalalignment='top', bbox=props)\n",
    "\n",
    "\n",
    "#z\n",
    "values = df[\"miobs_z\"]+df[\"magratioII0_z\"] + df[\"z0pt_z\"] -df[\"magstd_z\"]\n",
    "mean = values.describe()[\"mean\"]*1000\n",
    "std = values.describe()[\"std\"]*1000\n",
    "textstr = '\\n'.join((\n",
    "    r'$\\mu=%.2f$ mmag' % (mean, ),\n",
    "    r'$\\sigma=%.2f$ mmag' % (std, )))\n",
    "ax[1,1].hist(values,bins=50,range=(-0.01,0.01),facecolor=filter_color[4],label=filter_tagnames[4])\n",
    "ax[1,1].text(0.05, 0.95, textstr, transform=ax[1,1].transAxes, fontsize=14,\n",
    "        verticalalignment='top', bbox=props)\n",
    "\n",
    "# y\n",
    "values = df[\"miobs_y\"]+df[\"magratioII0_y\"] + df[\"z0pt_y\"] -df[\"magstd_y\"]\n",
    "mean = values.describe()[\"mean\"]*1000\n",
    "std = values.describe()[\"std\"]*1000\n",
    "textstr = '\\n'.join((\n",
    "    r'$\\mu=%.2f$ mmag' % (mean, ),\n",
    "    r'$\\sigma=%.2f$ mmag' % (std, )))\n",
    "ax[1,2].hist(values,bins=50,range=(-0.01,0.01),facecolor=filter_color[5],label=filter_tagnames[5])\n",
    "ax[1,2].text(0.05, 0.95, textstr, transform=ax[1,2].transAxes, fontsize=14,\n",
    "        verticalalignment='top', bbox=props)\n",
    "\n",
    "for ix in range(3):\n",
    "    for iy in range(2):\n",
    "        ax[iy,ix].legend()\n",
    "plt.tight_layout()\n",
    "plt.suptitle(\"$m_i^{obs} + 2.5\\log_{10}(II^{obs}/II^{std}) + Z0PT -m_{TRUE}^{std}$ (mag)\" +f\" for SED {sed_name}\",fontsize=20,y=1.05)"
   ]
  },
  {
   "cell_type": "code",
   "execution_count": null,
   "id": "539e2076-38ee-4e4d-900f-f8b787d9edbe",
   "metadata": {},
   "outputs": [],
   "source": []
  }
 ],
 "metadata": {
  "kernelspec": {
   "display_name": "python3_base",
   "language": "python",
   "name": "python3"
  },
  "language_info": {
   "codemirror_mode": {
    "name": "ipython",
    "version": 3
   },
   "file_extension": ".py",
   "mimetype": "text/x-python",
   "name": "python",
   "nbconvert_exporter": "python",
   "pygments_lexer": "ipython3",
   "version": "3.9.15"
  }
 },
 "nbformat": 4,
 "nbformat_minor": 5
}
