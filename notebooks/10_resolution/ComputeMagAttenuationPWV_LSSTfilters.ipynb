{
 "cells": [
  {
   "cell_type": "markdown",
   "id": "ad5a3ac3-1d31-4599-995b-fc544a7da5ae",
   "metadata": {},
   "source": [
    "# Compute Magnitudes Attenuation for PWV x airmass  from Flat SED in LSST filters"
   ]
  },
  {
   "cell_type": "markdown",
   "id": "ac5107e7-d490-4e81-9296-6bfb7af6dce4",
   "metadata": {},
   "source": [
    "- author Sylvie Dagoret-Campagne\n",
    "- affiliation IJCLab\n",
    "- creation date : 2024/12/04\n",
    "- last update : 2024/12/04 "
   ]
  },
  {
   "cell_type": "code",
   "execution_count": null,
   "id": "1edbe7f0-c493-4659-8949-c17da1b52dfc",
   "metadata": {
    "tags": []
   },
   "outputs": [],
   "source": [
    "import numpy as np\n",
    "import matplotlib.pyplot as plt\n",
    "%matplotlib inline\n",
    "import matplotlib as mpl\n",
    "import matplotlib.colors as colors\n",
    "import matplotlib.cm as cmx\n",
    "from mpl_toolkits.axes_grid1 import make_axes_locatable\n",
    "from matplotlib.colors import LogNorm\n",
    "from matplotlib.gridspec import GridSpec\n",
    "import pandas as pd\n",
    "\n",
    "import matplotlib.ticker                         # here's where the formatter is\n",
    "import os,sys\n",
    "import re\n",
    "import pandas as pd\n",
    "\n",
    "from astropy.io import fits\n",
    "from astropy import units as u\n",
    "from astropy import constants as c\n",
    "\n",
    "plt.rcParams[\"figure.figsize\"] = (8,6)\n",
    "plt.rcParams[\"axes.labelsize\"] = 'xx-large'\n",
    "plt.rcParams['axes.titlesize'] = 'xx-large'\n",
    "plt.rcParams['xtick.labelsize']= 'xx-large'\n",
    "plt.rcParams['ytick.labelsize']= 'xx-large'\n",
    "\n",
    "props = dict(boxstyle='round', facecolor='white', alpha=0.5)"
   ]
  },
  {
   "cell_type": "code",
   "execution_count": null,
   "id": "6c416af2-a649-41ef-8515-341c449598e3",
   "metadata": {
    "tags": []
   },
   "outputs": [],
   "source": [
    "from scipy import interpolate"
   ]
  },
  {
   "cell_type": "code",
   "execution_count": null,
   "id": "ce04b895-01a2-4112-aa2c-8953f6a0caee",
   "metadata": {
    "tags": []
   },
   "outputs": [],
   "source": [
    "machine_name = os.uname().nodename\n",
    "dm_version = \"w_2024_38\"\n",
    "path_rubinsimphot = f\"repos/repos_{dm_version}/rubinsimphot/src\"\n",
    "#path_rubinsimphot = \"repos/repos_w_2024_17/rubinsimphot/src\"\n",
    "if 'sdf' in machine_name:\n",
    "    #machine_name_usdf = 'sdfrome001'\n",
    "    print(\"Set environment for USDF\")\n",
    "    newpythonpath = os.path.join(os.getenv(\"HOME\"),path_rubinsimphot)\n",
    "    sys.path.append(newpythonpath)\n",
    "elif 'dagoret-nb' in machine_name:\n",
    "    print(\"Set environment for USDF Rubin Science Platform\")\n",
    "    newpythonpath = os.path.join(os.getenv(\"HOME\"),path_rubinsimphot)\n",
    "    sys.path.append(newpythonpath)    \n",
    "elif 'mac' in machine_name:\n",
    "    print(\"Be sure to run this notebook in conda environment named conda_py310\")\n",
    "else:\n",
    "    print(f\"Your current machine name is {machine_name}. Check your python environment\")"
   ]
  },
  {
   "cell_type": "code",
   "execution_count": null,
   "id": "8b3e51c2-f167-485a-b113-1082fcbb4bfc",
   "metadata": {},
   "outputs": [],
   "source": [
    "def Get_SED_Pickles():\n",
    "    seddir = os.path.join(fdir, 'pysynphot', 'pickles')\n",
    "    seddir_uvi = os.path.join(seddir,\"dat_uvi\")\n",
    "    seddir_uvk = os.path.join(seddir,\"dat_uvk\")\n",
    "    all_pickles_uvi = sorted(os.listdir(seddir_uvi))\n",
    "    all_pickles_uvk = sorted(os.listdir(seddir_uvk))\n",
    "    file_ref = os.path.join(seddir_uvk, \"pickles_uk.fits\")\n",
    "    hdul = fits.open(file_ref)\n",
    "    df_pickle = pd.DataFrame(hdul[1].data)\n",
    "    NSED = len(df_pickle)\n",
    "\n",
    "    for index in np.arange(NSED):\n",
    "        filename = df_pickle.loc[index,\"FILENAME\"].strip()+\".fits\"\n",
    "        fullfilename = os.path.join(seddir_uvk,filename) \n",
    "        hdul = fits.open(fullfilename)\n",
    "        dff = pd.DataFrame(hdul[1].data)"
   ]
  },
  {
   "cell_type": "code",
   "execution_count": null,
   "id": "4bb3a1b2-7634-4b92-aec1-0d700a66ba81",
   "metadata": {},
   "outputs": [],
   "source": [
    "# reference flux in Jy\n",
    "F0 = ((0.*u.ABmag).to(u.Jy)).value\n",
    "F0"
   ]
  },
  {
   "cell_type": "markdown",
   "id": "64b70c8e-4988-4468-8229-0967053b812a",
   "metadata": {},
   "source": [
    "## Imports dedicated to this work\n",
    "\n",
    "- import the atmospheric transparency emulator (instead of using libradtran code).\n",
    "- import rubin sim\n",
    "- import libPhotometricCorrections : encapsulate uninteresting calculation details"
   ]
  },
  {
   "cell_type": "markdown",
   "id": "92f9cb84-f4b5-43b7-a9f1-ae284025f4de",
   "metadata": {},
   "source": [
    "### libradtran Emulator"
   ]
  },
  {
   "cell_type": "code",
   "execution_count": null,
   "id": "513cd9b8-f462-4020-a73f-98d4754a6313",
   "metadata": {
    "tags": []
   },
   "outputs": [],
   "source": [
    "from importlib.metadata import version\n",
    "the_ver = version('getObsAtmo')\n",
    "print(f\"Version of getObsAtmo : {the_ver}\")"
   ]
  },
  {
   "cell_type": "code",
   "execution_count": null,
   "id": "4648024a-5e3b-4ab1-ba82-1a6c44802d81",
   "metadata": {
    "tags": []
   },
   "outputs": [],
   "source": [
    "from getObsAtmo import ObsAtmo\n",
    "emul = ObsAtmo(\"LSST\")"
   ]
  },
  {
   "cell_type": "code",
   "execution_count": null,
   "id": "d19507bc-98e0-4d4e-8d4d-583056b14b6b",
   "metadata": {
    "tags": []
   },
   "outputs": [],
   "source": [
    "WL = emul.GetWL()"
   ]
  },
  {
   "cell_type": "markdown",
   "id": "2d329e0a-b89e-4f88-ae18-63a5c9cc872f",
   "metadata": {},
   "source": [
    "#### Library to fit atmosphere"
   ]
  },
  {
   "cell_type": "code",
   "execution_count": null,
   "id": "bf228a68-73d0-4690-bdbe-1a4d0ae98445",
   "metadata": {
    "tags": []
   },
   "outputs": [],
   "source": [
    "import sys\n",
    "sys.path.append('../lib')\n",
    "#import libAtmosphericFit"
   ]
  },
  {
   "cell_type": "markdown",
   "id": "6be3d51c-8ba7-4654-98bf-0af4b456b1d8",
   "metadata": {},
   "source": [
    "#### Library that encapsulate calculations for Photometric correction"
   ]
  },
  {
   "cell_type": "code",
   "execution_count": null,
   "id": "38724617-a232-45c5-be1d-a7e6e19d6561",
   "metadata": {
    "tags": []
   },
   "outputs": [],
   "source": [
    "# This package encapsulate the calculation on calibration used in this nb\n",
    "from libPhotometricCorrections import *"
   ]
  },
  {
   "cell_type": "code",
   "execution_count": null,
   "id": "092ec108-49dd-464a-8d67-1c1a94679f69",
   "metadata": {
    "tags": []
   },
   "outputs": [],
   "source": [
    "def set_photometric_parameters(exptime, nexp, readnoise=None):\n",
    "    # readnoise = None will use the default (8.8 e/pixel). Readnoise should be in electrons/pixel.\n",
    "    photParams = PhotometricParameters(exptime=exptime, nexp=nexp, readnoise=readnoise)\n",
    "    return photParams"
   ]
  },
  {
   "cell_type": "code",
   "execution_count": null,
   "id": "2757add2-5460-4666-a815-c97cd739b1f6",
   "metadata": {
    "tags": []
   },
   "outputs": [],
   "source": [
    "def scale_sed(ref_mag, ref_filter, sed):\n",
    "    fluxNorm = sed.calc_flux_norm(ref_mag, lsst_std[ref_filter])\n",
    "    sed.multiply_flux_norm(fluxNorm)\n",
    "    return sed"
   ]
  },
  {
   "cell_type": "code",
   "execution_count": null,
   "id": "eee014ae-76b2-4103-ba0b-636eddddbed6",
   "metadata": {},
   "outputs": [],
   "source": [
    "# set default photometric parameters to compute ADU\n",
    "photoparams = set_photometric_parameters(30, 1 , readnoise=None)"
   ]
  },
  {
   "cell_type": "markdown",
   "id": "eefaa645-0a93-4b89-9ed5-8b6bb2c33241",
   "metadata": {},
   "source": [
    "#### library rubin_sim defining LSST parameters, namely for photometric calculations"
   ]
  },
  {
   "cell_type": "code",
   "execution_count": null,
   "id": "4a081d19-aa22-491a-b65c-08dcd684b42a",
   "metadata": {
    "tags": []
   },
   "outputs": [],
   "source": [
    "from rubinsimphot.phot_utils import Bandpass, Sed\n",
    "from rubinsimphot.data import get_data_dir"
   ]
  },
  {
   "cell_type": "markdown",
   "id": "ee546326-5cdf-49e3-8e2b-16cdc7a8a62b",
   "metadata": {},
   "source": [
    "## Configuration"
   ]
  },
  {
   "cell_type": "code",
   "execution_count": null,
   "id": "2fb7e75c-c074-44ad-89dc-d0a814fcceee",
   "metadata": {
    "tags": []
   },
   "outputs": [],
   "source": [
    "am0 = 1.20    # airmass\n",
    "pwv0 = 4.0  # Precipitable water vapor vertical column depth in mm\n",
    "oz0 = 300.  # Ozone vertical column depth in Dobson Unit (DU)\n",
    "ncomp=1     # Number of aerosol components\n",
    "tau0= 0.0 # Vertical Aerosol depth (VAOD) \n",
    "beta0 = 1.2 # Aerosol Angstrom exponent"
   ]
  },
  {
   "cell_type": "markdown",
   "id": "efbcb54f-e328-4e77-9177-733671894773",
   "metadata": {},
   "source": [
    "### Initialisation of Atmospheric corrections"
   ]
  },
  {
   "cell_type": "code",
   "execution_count": null,
   "id": "e9aad196-e82d-4477-8c31-173b4a159dde",
   "metadata": {
    "tags": []
   },
   "outputs": [],
   "source": [
    "pc = PhotometricCorrections(am0,pwv0,oz0,tau0,beta0)"
   ]
  },
  {
   "cell_type": "markdown",
   "id": "24110bb1-a4df-43b1-aaca-1b0879a20cd6",
   "metadata": {},
   "source": [
    "### Check standard atmosphere"
   ]
  },
  {
   "cell_type": "code",
   "execution_count": null,
   "id": "cf0cdba5-cbc7-44e9-967f-817f9afaaffb",
   "metadata": {
    "tags": []
   },
   "outputs": [],
   "source": [
    "fig, axs = plt.subplots(1,1,figsize=(6,4))\n",
    "axs.plot(pc.WL,pc.atm_std,'k-')\n",
    "axs.set_xlabel(\"$\\\\lambda$ (nm)\")\n",
    "axs.set_title(\"Standard atmosphere transmission\")"
   ]
  },
  {
   "cell_type": "markdown",
   "id": "faf15d14-6866-445c-befb-503582de6a9c",
   "metadata": {},
   "source": [
    "### Check LSST instrument throughput"
   ]
  },
  {
   "cell_type": "markdown",
   "id": "92cf88bc-ae63-4c3c-9d76-c6c9ab707e3c",
   "metadata": {},
   "source": [
    "Photometric Correction package should find the instrumental passband of LSST"
   ]
  },
  {
   "cell_type": "code",
   "execution_count": null,
   "id": "ccdc6966-cdca-40d3-b6a9-57c4e716c318",
   "metadata": {
    "tags": []
   },
   "outputs": [],
   "source": [
    "fig, axs = plt.subplots(1,1,figsize=(6,4))\n",
    "# loop on filter\n",
    "for index,f in enumerate(filter_tagnames):\n",
    "    \n",
    "    axs.plot(pc.bandpass_inst[f].wavelen,pc.bandpass_inst[f].sb,color=filter_color[index]) \n",
    "    axs.fill_between(pc.bandpass_inst[f].wavelen,pc.bandpass_inst[f].sb,color=filter_color[index],alpha=0.2) \n",
    "    axs.axvline(FILTERWL[index,2],color=filter_color[index],linestyle=\"-.\")\n",
    "    \n",
    "axs.set_xlabel(\"$\\\\lambda$ (nm)\")\n",
    "axs.set_title(\"Instrument throughput (auxtel)\")"
   ]
  },
  {
   "cell_type": "markdown",
   "id": "8b2d52db-c587-4ff8-995d-04adecbdcf2d",
   "metadata": {},
   "source": [
    "### Check LSST standard Filter throughputs"
   ]
  },
  {
   "cell_type": "code",
   "execution_count": null,
   "id": "09c70134-eda6-4c9e-83a0-e76510e86e97",
   "metadata": {
    "tags": []
   },
   "outputs": [],
   "source": [
    "fig, axs = plt.subplots(1,1,figsize=(6,4))\n",
    "# loop on filter\n",
    "for index,f in enumerate(filter_tagnames):\n",
    "    \n",
    "    axs.plot(pc.bandpass_total_std[f].wavelen,pc.bandpass_total_std[f].sb,color=filter_color[index]) \n",
    "    axs.fill_between(pc.bandpass_total_std[f].wavelen,pc.bandpass_total_std[f].sb,color=filter_color[index],alpha=0.2) \n",
    "    axs.axvline(FILTERWL[index,2],color=filter_color[index],linestyle=\"-.\")\n",
    "    \n",
    "axs.set_xlabel(\"$\\\\lambda$ (nm)\")\n",
    "axs.set_title(\"Total filter throughput (auxtel)\")"
   ]
  },
  {
   "cell_type": "markdown",
   "id": "b3e70b79-75ee-47b1-aad1-c4d8c796b248",
   "metadata": {},
   "source": [
    "## Range of airmasses and PWV"
   ]
  },
  {
   "cell_type": "code",
   "execution_count": null,
   "id": "8a9d6930-39a2-4a5f-9071-dc33c3afa5cf",
   "metadata": {
    "tags": []
   },
   "outputs": [],
   "source": [
    "#all_airmasses = np.linspace(1.,2.5,26)\n",
    "all_airmasses = np.arange(1,2.6,0.1)\n",
    "all_pwv = np.linspace(0.,15.,50)\n",
    "oz = oz0\n",
    "tau= tau0\n",
    "beta = beta0\n",
    "\n",
    "NAM = len(all_airmasses)\n",
    "NPWV = len(all_pwv)"
   ]
  },
  {
   "cell_type": "code",
   "execution_count": null,
   "id": "0c3ab648-305a-4245-933f-29896605abdc",
   "metadata": {},
   "outputs": [],
   "source": [
    "all_airmasses"
   ]
  },
  {
   "cell_type": "markdown",
   "id": "b1808d34-dec7-4961-b3f3-46f2e03362aa",
   "metadata": {},
   "source": [
    "## Generate multi-observations\n",
    "\n",
    "- for all PWV\n",
    "- for all airmasses"
   ]
  },
  {
   "cell_type": "code",
   "execution_count": null,
   "id": "7b42b2a6-d556-4dac-aa56-1129b853ca69",
   "metadata": {
    "tags": []
   },
   "outputs": [],
   "source": [
    "all_pc = []\n",
    "all_pc0 = []\n",
    "all_am_x_pwv = []\n",
    "for idx_am,am in enumerate(all_airmasses): \n",
    "    # create a new PhotometricCorrections by defining its standard parameters\n",
    "    the_pc = PhotometricCorrections(am0,pwv0,oz0,tau0,beta0)\n",
    "    the_pc0 = PhotometricCorrections(am,pwv0,oz0,tau0,beta0) # standard atmosphere but at airmass am\n",
    "\n",
    "    # calculate the transmissions at a given airmass am for all PWV values\n",
    "    the_pc.CalculateMultiObs(am,all_pwv,oz,tau,beta)\n",
    "    the_pc0.CalculateMultiObs(am,all_pwv,oz,tau,beta)\n",
    "    \n",
    "    all_pc.append(the_pc)\n",
    "    all_pc0.append(the_pc0)\n",
    "\n",
    "    # compute the products airmass x pwv\n",
    "    all_am_x_pwv.append(am*all_pwv) "
   ]
  },
  {
   "cell_type": "code",
   "execution_count": null,
   "id": "876faac7-ed74-413b-8e75-1a4d3ff21da0",
   "metadata": {},
   "outputs": [],
   "source": [
    "# Figure 1\n",
    "jet = plt.get_cmap('jet')\n",
    "NAM = len(all_airmasses)\n",
    "cNorm = colors.Normalize(vmin=0, vmax=NAM)\n",
    "scalarMap = cmx.ScalarMappable(norm=cNorm, cmap=jet)\n",
    "all_colors = scalarMap.to_rgba(np.arange(NAM), alpha=1)\n",
    "\n",
    "difference_airmass = np.absolute(all_airmasses-am0)\n",
    "idx_am = difference_airmass.argmin()\n",
    "the_am = all_airmasses[idx_am]\n",
    "the_pc = all_pc[idx_am]\n",
    "\n",
    "\n",
    "\n",
    "fig = plt.figure(figsize=(7,5),layout='constrained')\n",
    "ax = fig.add_subplot(1,1,1)\n",
    "for idx_am,am in enumerate(all_airmasses): \n",
    "    the_pc0 = all_pc0[idx_am]    \n",
    "    ax.plot(the_pc0.WL,the_pc0.atm_std,color=all_colors[idx_am],lw=0.5)\n",
    "\n",
    "ax.plot(the_pc.WL,the_pc.atm_std,color=\"k\",lw=0.5,label=\"standard atmosphere\")\n",
    "\n",
    "ax.legend()\n",
    "ax.set_xlabel(\"$\\lambda$ (nm)\")\n",
    "ax.set_ylabel(\"atmospheric transmission\")\n",
    "ax.set_title(\"standard atm transmission at diff airmass (1-2.5)\")\n",
    "\n",
    "ax2 = ax.twinx()\n",
    "for ifilt,f in enumerate(filter_tagnames):\n",
    "    ax2.fill_between(the_pc0.bandpass_total_std[f].wavelen,the_pc0.bandpass_total_std[f].sb,color=filter_color[ifilt],alpha=0.1) \n",
    "    ax2.set_yticks([])\n",
    "    \n",
    "plt.show()"
   ]
  },
  {
   "cell_type": "markdown",
   "id": "fe00c844-cbdf-433b-8457-f31c10dd5502",
   "metadata": {},
   "source": [
    "### PWV variation :  Observed filter and normalized response"
   ]
  },
  {
   "cell_type": "code",
   "execution_count": null,
   "id": "42162a23-c47c-4f79-836b-c88d8cfcff12",
   "metadata": {
    "tags": []
   },
   "outputs": [],
   "source": [
    "NOBS = len(all_pwv)\n",
    "\n",
    "# wavelength bin colors\n",
    "jet = plt.get_cmap('jet')\n",
    "cNorm = colors.Normalize(vmin=0, vmax=NOBS)\n",
    "scalarMap = cmx.ScalarMappable(norm=cNorm, cmap=jet)\n",
    "all_colors = scalarMap.to_rgba(np.arange(NOBS), alpha=1)\n",
    "\n",
    "\n",
    "fig = plt.figure(figsize=(12,5),layout='constrained')\n",
    "\n",
    "#find the index of the closest airmas for standard atmosphere\n",
    "difference_airmass = np.absolute(all_airmasses-am0)\n",
    "idx_am = difference_airmass.argmin()\n",
    "the_am = all_airmasses[idx_am]\n",
    "the_pc = all_pc[idx_am]\n",
    "\n",
    "\n",
    "# Figure 1\n",
    "axs=fig.add_subplot(1,2,1)\n",
    "for idx_pwv,pwv in enumerate(all_pwv):\n",
    "  \n",
    "    atm = the_pc.coll_atm_nonstd[idx_pwv]\n",
    "    \n",
    "    label = f\"pwv={pwv:.1f} mm  am = {the_am:.3f}\" \n",
    "    axs.plot(the_pc.WL,atm,color=all_colors[idx_pwv],label=label,lw=0.5)\n",
    "   \n",
    "axs.plot(the_pc.WL,the_pc.atm_std,color=\"k\",lw=2,label=\"standard atmosphere\")\n",
    "#axs.legend(bbox_to_anchor=(1.03, 1.0))  \n",
    "axs.set_xlabel(\"$\\lambda$ (nm)\")\n",
    "axs.set_ylabel(\"atmospheric transmission\")\n",
    "axs.set_title(\"standard and observed transmission\")\n",
    "\n",
    "ax2 = axs.twinx()\n",
    "for ifilt,f in enumerate(filter_tagnames):\n",
    "    ax2.fill_between(the_pc.bandpass_total_std[f].wavelen,the_pc.bandpass_total_std[f].sb,color=filter_color[ifilt],alpha=0.1) \n",
    "    ax2.set_yticks([])\n",
    "\n",
    "# Figure 2\n",
    "axs=fig.add_subplot(1,2,2)\n",
    "\n",
    "all_linestyles = ['-','--','-.',':','-','--','-.',':','-','--','-.',':','-','--','-.',':']\n",
    "\n",
    "# wavelength bin colors\n",
    "jet = plt.get_cmap('jet')\n",
    "cNorm = colors.Normalize(vmin=0, vmax=NOBS)\n",
    "scalarMap = cmx.ScalarMappable(norm=cNorm, cmap=jet)\n",
    "all_colors = scalarMap.to_rgba(np.arange(NOBS), alpha=1)\n",
    "\n",
    "\n",
    "for idx_pwv,pwv in enumerate(all_pwv):\n",
    "    \n",
    "    label = f\"pwv={pwv:.1f}\"\n",
    "    \n",
    "    for ifilt,f in enumerate(filter_tagnames):\n",
    "        \n",
    "        the_x=the_pc.WL\n",
    "        the_y=the_pc.coll_phiArray_nonstd[idx_pwv][ifilt,:]\n",
    "       \n",
    "        \n",
    "        if ifilt==1:\n",
    "            axs.plot(the_x,the_y,color=all_colors[idx_pwv],linestyle=\"-\",label=label )\n",
    "        else:\n",
    "            axs.plot(the_x,the_y,color=all_colors[idx_pwv],linestyle=\"-\")\n",
    "\n",
    "axs.set_xlabel(\"$\\lambda$ (nm)\")\n",
    "axs.set_ylabel(\"$\\\\phi_b(\\lambda)$\")\n",
    "axs.set_title(\"Normalized observed transmission\")\n",
    "#axs.legend(bbox_to_anchor=(1.03, 1.0))  \n",
    "\n",
    "\n",
    "#plt.tight_layout()\n",
    "plt.show()\n",
    "\n"
   ]
  },
  {
   "cell_type": "code",
   "execution_count": null,
   "id": "f7105217-a52d-46eb-8eda-40c7a23adae7",
   "metadata": {},
   "outputs": [],
   "source": [
    "NOBS = len(all_pwv)\n",
    "\n",
    "# wavelength bin colors\n",
    "jet = plt.get_cmap('jet')\n",
    "cNorm = colors.Normalize(vmin=0, vmax=NOBS)\n",
    "scalarMap = cmx.ScalarMappable(norm=cNorm, cmap=jet)\n",
    "all_colors = scalarMap.to_rgba(np.arange(NOBS), alpha=1)\n",
    "\n",
    "\n",
    "fig = plt.figure(figsize=(6,5))\n",
    "\n",
    "# Figure 1\n",
    "axs=fig.add_subplot(1,1,1)\n",
    "for index,pwv in enumerate(all_pwv):\n",
    "    atm_bands = the_pc.coll_bandpass_total_nonstd[index]    \n",
    "    label = f\"pwv={pwv:.1f} mm\" \n",
    "    for f in filter_tagnames: \n",
    "        axs.plot(atm_bands[f].wavelen,atm_bands[f].sb,color=all_colors[index],label=label,lw=0.5)\n",
    "\n",
    "axs.plot(the_pc.WL,the_pc.atm_std,color=\"k\",lw=2,label=\"standard atmosphere\")\n",
    "#axs.legend(bbox_to_anchor=(1.03, 1.0))  \n",
    "axs.set_xlabel(\"$\\lambda$ (nm)\")\n",
    "axs.set_ylabel(\"atmospheric transmission\")\n",
    "\n",
    "axs.set_title(f\"standard and observed transmission for airmass {the_am:.2f}\")\n",
    "\n",
    "ax2 = axs.twinx()\n",
    "for ifilt,f in enumerate(filter_tagnames):\n",
    "    ax2.fill_between(the_pc.bandpass_total_std[f].wavelen,the_pc.bandpass_total_std[f].sb,color=filter_color[ifilt],alpha=0.1) \n",
    "    ax2.set_yticks([])\n",
    "\n",
    "\n",
    "plt.tight_layout()\n",
    "plt.show()\n"
   ]
  },
  {
   "cell_type": "markdown",
   "id": "b5ebad46-cafd-4ef9-a081-b508ff20c110",
   "metadata": {},
   "source": [
    "## SED"
   ]
  },
  {
   "cell_type": "code",
   "execution_count": null,
   "id": "758940f6-acfe-472a-9416-2f9d715a11df",
   "metadata": {
    "tags": []
   },
   "outputs": [],
   "source": [
    "# Find the throughputs directory \n",
    "#fdir = os.getenv('RUBIN_SIM_DATA_DIR')\n",
    "fdir = get_data_dir()\n",
    "if fdir is None:  #environment variable not set\n",
    "    fdir = os.path.join(os.getenv('HOME'), 'rubin_sim_data')"
   ]
  },
  {
   "cell_type": "code",
   "execution_count": null,
   "id": "e01ddba7-c9e5-4052-be83-190f04b9b0e6",
   "metadata": {},
   "outputs": [],
   "source": [
    "the_sed_flat = Sed()\n",
    "the_sed_flat.set_flat_sed()\n",
    "the_sed_flat.name = 'flat'\n",
    "zmag = 20.0\n",
    "flux_norm = the_sed_flat.calc_flux_norm(zmag, pc.bandpass_total_std['z'])\n",
    "the_sed_flat.multiply_flux_norm(flux_norm)"
   ]
  },
  {
   "cell_type": "code",
   "execution_count": null,
   "id": "e97c8a67-6ea2-426f-aa03-28558260db4b",
   "metadata": {},
   "outputs": [],
   "source": [
    "fig,ax = plt.subplots(1,1,figsize=(8,6))\n",
    "ax.plot(the_sed_flat .wavelen,-2.5*np.log10(the_sed_flat.fnu/F0),\"b-\",label=the_sed_flat.name)\n",
    "\n",
    "ax.legend()\n",
    "#ax.set_ylim(1e-17,1e-14)\n",
    "#ax.set_xlim(300.,2000.)\n",
    "ax.set_title(\"Flat SED $F_\\\\nu$\")\n",
    "ax.set_ylabel(\" Magnitude = $-2.5 \\log_{10}(F_\\\\nu/F_0)$\")\n",
    "ax.set_xlabel(\"$\\\\lambda \\, (nm)$\")\n",
    "ax.yaxis.set_inverted(True)\n",
    "\n",
    "\n",
    "ax3 = ax.twinx()\n",
    "for ifilt,f in enumerate(filter_tagnames):\n",
    "    ax3.fill_between(pc.bandpass_total_std[f].wavelen,pc.bandpass_total_std[f].sb,color=filter_color[ifilt],alpha=0.1) \n",
    "    ax3.set_yticks([])"
   ]
  },
  {
   "cell_type": "code",
   "execution_count": null,
   "id": "dd69f501-84e4-4293-8b3a-3a38424c2920",
   "metadata": {
    "tags": []
   },
   "outputs": [],
   "source": [
    "the_sed = the_sed_flat"
   ]
  },
  {
   "cell_type": "code",
   "execution_count": null,
   "id": "6ceed0bd-295a-41fa-b8a2-67980fb66e2d",
   "metadata": {},
   "outputs": [],
   "source": [
    "fig,(ax,ax2) = plt.subplots(1,2,figsize=(16,6))\n",
    "ax.plot(the_sed .wavelen,the_sed .flambda,\"b-\",label=the_sed.name)\n",
    "ax.legend()\n",
    "ax.set_ylim(1e-17,1e-15)\n",
    "ax.set_xlim(300.,1200.)\n",
    "ax.set_title(\"Flast SED $F_\\lambda$\")\n",
    "ax.set_ylabel(\"$F_\\lambda$\")\n",
    "ax.set_xlabel(\"$\\lambda \\, (nm)$\")\n",
    "\n",
    "\n",
    "ax2.plot(the_sed .wavelen,the_sed.fnu,\"b-\",label=the_sed.name)\n",
    "\n",
    "ax2.set_yscale(\"log\")\n",
    "ax2.legend()\n",
    "ax2.set_ylim(1e-5,1e-4)\n",
    "ax2.set_xlim(300.,1200.)\n",
    "ax2.set_title(\"Flat $F_\\\\nu$\")\n",
    "ax2.set_ylabel(\"$F_\\\\nu$\")\n",
    "ax2.set_xlabel(\"$\\lambda \\, (nm)$\")\n",
    "\n",
    "ax3 = ax.twinx()\n",
    "for ifilt,f in enumerate(filter_tagnames):\n",
    "    ax3.fill_between(pc.bandpass_total_std[f].wavelen,pc.bandpass_total_std[f].sb,color=filter_color[ifilt],alpha=0.1) \n",
    "    ax3.set_yticks([])\n",
    "    \n",
    "ax4 = ax2.twinx()\n",
    "for ifilt,f in enumerate(filter_tagnames):\n",
    "    ax4.fill_between(pc.bandpass_total_std[f].wavelen,pc.bandpass_total_std[f].sb,color=filter_color[ifilt],alpha=0.1) \n",
    "    ax4.set_yticks([])"
   ]
  },
  {
   "cell_type": "markdown",
   "id": "e35c2646-13f0-4330-bec8-704a2eb494c5",
   "metadata": {},
   "source": [
    "## Calculate magnitudes AB and Observed Magnitudes for standard and non-standard Magnitudes \n",
    "\n",
    "- by construction the AB magnitudes are invariant as the true transmission is considered\n",
    "- the observed magnitudes provide the resolution as the true transmission-observed transmision is not the expected transmission"
   ]
  },
  {
   "cell_type": "code",
   "execution_count": null,
   "id": "e40be30a-1060-4edc-b8d4-8f1903a3ab45",
   "metadata": {
    "tags": []
   },
   "outputs": [],
   "source": [
    "mag_std = {}\n",
    "adu_std = {}\n",
    "atm_bands = the_pc.bandpass_total_std\n",
    "for index,f in enumerate(filter_tagnames) :\n",
    "    mag_std[f] = the_sed.calc_mag(atm_bands[f])\n",
    "    adu_std[f] = -2.5*np.log10(the_sed.calc_adu(atm_bands[f],photoparams))"
   ]
  },
  {
   "cell_type": "code",
   "execution_count": null,
   "id": "aa053756-199a-4f78-a387-5f1fb673c1ff",
   "metadata": {},
   "outputs": [],
   "source": [
    "mag_std"
   ]
  },
  {
   "cell_type": "code",
   "execution_count": null,
   "id": "496aaa76-47d0-4bcb-a509-338533333953",
   "metadata": {
    "tags": []
   },
   "outputs": [],
   "source": [
    "adu_std"
   ]
  },
  {
   "cell_type": "markdown",
   "id": "735bc6f4-96b6-4d48-a161-bb8b10f615de",
   "metadata": {},
   "source": [
    "#### Generate magntudes for non standard  atmosphere for all airmass and all pwv"
   ]
  },
  {
   "cell_type": "code",
   "execution_count": null,
   "id": "a33bcbc7-d26d-4fdb-ae29-98534ce63d99",
   "metadata": {},
   "outputs": [],
   "source": [
    "all_df = []\n",
    "\n",
    "# loop on airmass\n",
    "for idx_am,am in enumerate(all_airmasses): \n",
    "    # create a new PhotometricCorrections by defining its standard parameters\n",
    "    \n",
    "    the_pc = all_pc[idx_am]  # not standard atmosphere\n",
    "    the_pc0 = all_pc0[idx_am] # standard atmosphere but at airmass am\n",
    "    \n",
    "    am_x_pwv = all_am_x_pwv[idx_am]\n",
    "\n",
    "    # the standard atmosphere at this airmass\n",
    "    atm_bands_std = the_pc0.bandpass_total_std\n",
    "\n",
    "    df = pd.DataFrame(columns = [\"am\",\"pwv\",\"amxpwv\",\"magu\",\"magg\",\"magr\",\"magi\",\"magz\",\"magy\",\"aduu\",\"adug\",\"adur\",\"adui\",\"aduz\",\"aduy\",\n",
    "                                 \"aduu_std\",\"adug_std\",\"adur_std\",\"adui_std\",\"aduz_std\",\"aduy_std\",\n",
    "                                 \"aduu_0\",\"adug_0\",\"adur_0\",\"adui_0\",\"aduz_0\",\"aduy_0\" ])\n",
    "\n",
    "    #calculate the ADU for the standard atmosphere at this airmass am\n",
    "    adu_std = {}\n",
    "    for index,f in enumerate(filter_tagnames):\n",
    "        adu_std[f] = -2.5*np.log10(the_sed.calc_adu(atm_bands_std[f],photoparams)) # this is really the calculation through the physical filter\n",
    "\n",
    "    # loop on pwv for the current airmass\n",
    "    for idx_pwv,pwv in enumerate(all_pwv):\n",
    "        mag_nonstd = {}\n",
    "        adu_nonstd = {}\n",
    "        atm_bands = the_pc.coll_bandpass_total_nonstd[idx_pwv] \n",
    "\n",
    "       \n",
    "            \n",
    "        for index,f in enumerate(filter_tagnames) :\n",
    "            mag_nonstd[f] = the_sed.calc_mag(atm_bands[f]) # note by definition, for a flat SED, this calculation always return the flat-SED magnitude \n",
    "            adu_nonstd[f] = -2.5*np.log10(the_sed.calc_adu(atm_bands[f],photoparams)) # this is really the calculation through the physical filter\n",
    "\n",
    "\n",
    "        if idx_pwv == 0:\n",
    "            adu_nonstd0 = adu_nonstd.copy()\n",
    "            \n",
    "        \n",
    "        df.loc[idx_pwv] = [am,pwv, am_x_pwv[idx_pwv],mag_nonstd[\"u\"],mag_nonstd[\"g\"],mag_nonstd[\"r\"],mag_nonstd[\"i\"],mag_nonstd[\"z\"],mag_nonstd[\"y\"],\n",
    "                       adu_nonstd[\"u\"],adu_nonstd[\"g\"],adu_nonstd[\"r\"],adu_nonstd[\"i\"],adu_nonstd[\"z\"],adu_nonstd[\"y\"],\n",
    "                          adu_std[\"u\"],adu_std[\"g\"],adu_std[\"r\"],adu_std[\"i\"],adu_std[\"z\"],adu_std[\"y\"],\n",
    "                        adu_nonstd0[\"u\"],adu_nonstd0[\"g\"],adu_nonstd0[\"r\"],adu_nonstd0[\"i\"],adu_nonstd0[\"z\"],adu_nonstd0[\"y\"]] \n",
    "\n",
    "    all_df.append(df)"
   ]
  },
  {
   "cell_type": "code",
   "execution_count": null,
   "id": "4995ed6e-748a-42b8-9c06-1c3884addf8a",
   "metadata": {
    "tags": []
   },
   "outputs": [],
   "source": [
    "df_merge = pd.concat(all_df)\n",
    "df_merge.reset_index(inplace=True)"
   ]
  },
  {
   "cell_type": "code",
   "execution_count": null,
   "id": "b4a5b763-2521-49b5-bdea-f80e339c2616",
   "metadata": {
    "tags": []
   },
   "outputs": [],
   "source": [
    "df_merge"
   ]
  },
  {
   "cell_type": "markdown",
   "id": "159d53f5-6986-45fa-845f-934e9d5e5ce3",
   "metadata": {},
   "source": [
    "### Compute difference in mmag between the value and the standard atmosphere value at airmass am0"
   ]
  },
  {
   "cell_type": "code",
   "execution_count": null,
   "id": "52eda03f-9296-4e1c-8555-28a370e84a7d",
   "metadata": {
    "tags": []
   },
   "outputs": [],
   "source": [
    "for index,f in enumerate(filter_tagnames) :\n",
    "    label_in = f'adu{f}'\n",
    "    label_in_std = f'adu{f}_std'\n",
    "    label_in_0 = f'adu{f}_0'\n",
    "    label_out1 =f'd_adu{f}'\n",
    "    label_out2 =f'd_adu_0{f}'\n",
    "    #df_merge[label_out] = (df_merge[label_in]- adu_std[f])*1000. \n",
    "    df_merge[label_out1] = (df_merge[label_in]- df_merge[label_in_std])*1000.  # converted in mmag\n",
    "    df_merge[label_out2] = (df_merge[label_in]- df_merge[label_in_0])*1000.  # converted in mmag"
   ]
  },
  {
   "cell_type": "markdown",
   "id": "e227c1de-f3e9-4c79-8dae-7521a0bfaa81",
   "metadata": {},
   "source": [
    "### Drop absolute mags and keep mag difference"
   ]
  },
  {
   "cell_type": "code",
   "execution_count": null,
   "id": "c8226e85-e923-426a-b8d2-16f26b5f2811",
   "metadata": {
    "tags": []
   },
   "outputs": [],
   "source": [
    "#df = df.drop(labels=[\"aduu\",\"adug\",\"adur\",\"adui\",\"aduz\",\"aduy\"],axis=1)"
   ]
  },
  {
   "cell_type": "code",
   "execution_count": null,
   "id": "192187a4-fab7-409f-b1e0-4cfb4d209a35",
   "metadata": {},
   "outputs": [],
   "source": [
    "#fig,ax = plt.subplots(1,1,figsize=(10,6),layout=\"constrained\")\n",
    "#df_merge.plot.scatter(x=\"amxpwv\", y=\"magy\",ax=ax,marker=\".\",grid=True,c='grey',label=\"Y\") \n",
    "#df_merge.plot.scatter(x=\"amxpwv\", y=\"magz\",ax=ax,marker=\".\",grid=True,c='k',label=\"Z\") \n",
    "#df_merge.plot.scatter(x=\"amxpwv\", y=\"magi\",ax=ax,marker=\".\",grid=True,c='orange',label=\"I\") "
   ]
  },
  {
   "cell_type": "markdown",
   "id": "06060681-1e54-4311-9b57-4214233967b3",
   "metadata": {},
   "source": [
    "### Relative Extinction in -2.5 log(ADU) relative to standard atmosphere at observed airmass vs (airmass x PWV)\n",
    "\n",
    "- Relative Extinction means subtract the standard atmosphere ADU at observed airmass"
   ]
  },
  {
   "cell_type": "code",
   "execution_count": null,
   "id": "88836e4c-e3fa-4cb2-b3af-9634326a5b58",
   "metadata": {},
   "outputs": [],
   "source": [
    "fig,ax = plt.subplots(1,1,figsize=(8,6),layout=\"constrained\")\n",
    "\n",
    "df_merge.plot.scatter(x=\"amxpwv\", y=\"d_aduu\",ax=ax,marker=\".\",grid=True,c='b',label=\"band LSST-U\") \n",
    "df_merge.plot.scatter(x=\"amxpwv\", y=\"d_adug\",ax=ax,marker=\".\",grid=True,c='g',label=\"band LSST-G\") \n",
    "df_merge.plot.scatter(x=\"amxpwv\", y=\"d_adur\",ax=ax,marker=\".\",grid=True,c='r',label=\"band LSST-R\") \n",
    "df_merge.plot.scatter(x=\"amxpwv\", y=\"d_adui\",ax=ax,marker=\".\",grid=True,c='orange',label=\"band LSST-I\") \n",
    "df_merge.plot.scatter(x=\"amxpwv\", y=\"d_aduz\",ax=ax,marker=\".\",grid=True,c='k',label=\"band LSST-Z\") \n",
    "df_merge.plot.scatter(x=\"amxpwv\", y=\"d_aduy\",ax=ax,marker=\".\",grid=True,c='grey',label=\"band LSST-Y\") \n",
    "\n",
    "ax.set_xlabel(\"$airmass \\\\times PWV (mm)$\")\n",
    "ax.set_ylabel(\"rel. extinction (mmag)\")\n",
    "ax.set_title(f\"relative extinction for a flat SED wrt standard atmosphere at airmass = {am0}\")\n",
    "plt.show()"
   ]
  },
  {
   "cell_type": "markdown",
   "id": "ef748e32-6e30-4ae2-a493-baac18dda089",
   "metadata": {},
   "source": [
    "### Relative Extinction in -2.5 log(ADU) relative to standard atmosphere at observed airmass vs (PWV)\n",
    "\n",
    "- Relative Extinction means subtract the standard atmosphere ADU at observed airmass"
   ]
  },
  {
   "cell_type": "code",
   "execution_count": null,
   "id": "10b53e36-5aa7-4228-a4af-099e3b103b6d",
   "metadata": {},
   "outputs": [],
   "source": [
    "fig,ax = plt.subplots(1,1,figsize=(8,6),layout=\"constrained\")\n",
    "\n",
    "df_merge.plot.scatter(x=\"pwv\", y=\"d_aduu\",ax=ax,marker=\".\",grid=True,c='b',label=\"band LSST-U\") \n",
    "df_merge.plot.scatter(x=\"pwv\", y=\"d_adug\",ax=ax,marker=\".\",grid=True,c='g',label=\"band LSST-G\") \n",
    "df_merge.plot.scatter(x=\"pwv\", y=\"d_adur\",ax=ax,marker=\".\",grid=True,c='r',label=\"band LSST-R\") \n",
    "df_merge.plot.scatter(x=\"pwv\", y=\"d_adui\",ax=ax,marker=\".\",grid=True,c='orange',label=\"band LSST-I\") \n",
    "df_merge.plot.scatter(x=\"pwv\", y=\"d_aduz\",ax=ax,marker=\".\",grid=True,c='k',label=\"band LSST-Z\") \n",
    "df_merge.plot.scatter(x=\"pwv\", y=\"d_aduy\",ax=ax,marker=\".\",grid=True,c='grey',label=\"band LSST-Y\") \n",
    "\n",
    "ax.set_xlabel(\"$PWV (mm)$\")\n",
    "ax.set_ylabel(\"rel. extinction (mmag)\")\n",
    "ax.set_title(f\"relative extinction for a flat SED wrt standard atmosphere at airmass = {am0}\")\n",
    "\n",
    "plt.show()"
   ]
  },
  {
   "cell_type": "markdown",
   "id": "00348b55-4bbf-49f9-98b8-7c4b0ae05644",
   "metadata": {},
   "source": [
    "### Relative Extinction in -2.5 log(ADU) relative to standard atmosphere at observed airmass vs airmass\n",
    "\n",
    "- Relative Extinction means subtract the standard atmosphere ADU at observed airmass"
   ]
  },
  {
   "cell_type": "code",
   "execution_count": null,
   "id": "528f91fd-2391-4900-89e4-bd48fe622cef",
   "metadata": {},
   "outputs": [],
   "source": [
    "fig,ax = plt.subplots(1,1,figsize=(8,6),layout=\"constrained\")\n",
    "\n",
    "df_merge.plot.scatter(x=\"am\", y=\"d_aduu\",ax=ax,marker=\"^\",grid=True,c='b',label=\"band LSST-U\") \n",
    "df_merge.plot.scatter(x=\"am\", y=\"d_adug\",ax=ax,marker=\"v\",grid=True,c='g',label=\"band LSST-G\") \n",
    "df_merge.plot.scatter(x=\"am\", y=\"d_adur\",ax=ax,marker=\"s\",s=10,grid=True,c='r',label=\"band LSST-R\") \n",
    "df_merge.plot.scatter(x=\"am\", y=\"d_adui\",ax=ax,marker=\"o\",s=50,grid=True,c='orange',label=\"band LSST-I\") \n",
    "df_merge.plot.scatter(x=\"am\", y=\"d_aduz\",ax=ax,marker=\"+\",s=50,grid=True,c='k',label=\"band LSST-Z\") \n",
    "df_merge.plot.scatter(x=\"am\", y=\"d_aduy\",ax=ax,marker=\".\",s=50,grid=True,c='grey',label=\"band LSST-Y\") \n",
    "\n",
    "ax.set_xlabel(\"$airmass$\")\n",
    "ax.set_ylabel(\"rel. extinction (mmag)\")\n",
    "ax.set_title(f\"relative extinction for a flat SED wrt standard atmosphere at airmass = {am0}\")\n",
    "\n",
    "plt.show()"
   ]
  },
  {
   "cell_type": "markdown",
   "id": "3e67d69b-b3f4-4796-a30d-dc258610e229",
   "metadata": {},
   "source": [
    "### Extinction in -2.5 log(ADU) relative to standard atmosphere at observed airmass vs (airmass x PWV)\n",
    "\n",
    "- DO not subtract the standard atmosphere ADU at observed airmass"
   ]
  },
  {
   "cell_type": "code",
   "execution_count": null,
   "id": "5a898f72-c7f6-4163-a45c-f855cc30d13e",
   "metadata": {},
   "outputs": [],
   "source": [
    "fig,ax = plt.subplots(1,1,figsize=(8,6),layout=\"constrained\")\n",
    "\n",
    "#df_merge.plot.scatter(x=\"amxpwv\", y=\"aduu\",ax=ax,marker=\".\",grid=True,c='b',label=\"band U\") \n",
    "df_merge.plot.scatter(x=\"amxpwv\", y=\"adug\",ax=ax,marker=\".\",grid=True,c='g',label=\"band LSST-G\") \n",
    "df_merge.plot.scatter(x=\"amxpwv\", y=\"adur\",ax=ax,marker=\".\",grid=True,c='r',label=\"band LSST-R\") \n",
    "\n",
    "df_merge.plot.scatter(x=\"amxpwv\", y=\"adui\",ax=ax,marker=\".\",grid=True,c='orange',label=\"band LSST-I\") \n",
    "df_merge.plot.scatter(x=\"amxpwv\", y=\"aduz\",ax=ax,marker=\".\",grid=True,c='k',label=\"band LSST-Z\") \n",
    "df_merge.plot.scatter(x=\"amxpwv\", y=\"aduy\",ax=ax,marker=\".\",grid=True,c='grey',label=\"band LSST-Y\") \n",
    "\n",
    "ax.set_xlabel(\"$airmass \\\\times PWV (mm)$\")\n",
    "ax.set_ylabel(\"Extinction (mag)\")\n",
    "ax.set_title(f\"Extinction for a flat SED wrt standard atmosphere at airmass = {am0}\")\n",
    "\n",
    "plt.show()"
   ]
  },
  {
   "cell_type": "markdown",
   "id": "3c54fbc9-2fb2-4717-b476-9195d19c5d8f",
   "metadata": {},
   "source": [
    "## Remove Rayleigh at the observed airmass\n",
    "\n",
    "- Remove the instrumental magnitudes at observed airmass and PWV = 0 mm"
   ]
  },
  {
   "cell_type": "code",
   "execution_count": null,
   "id": "d167e8a8-2c5a-4697-be88-e1d719e33f03",
   "metadata": {},
   "outputs": [],
   "source": [
    "df_merge"
   ]
  },
  {
   "cell_type": "code",
   "execution_count": null,
   "id": "7278ddee-3704-45d5-bd1d-769457f9a55c",
   "metadata": {},
   "outputs": [],
   "source": [
    "fig,ax = plt.subplots(1,1,figsize=(8,6),layout=\"constrained\")\n",
    "\n",
    "df_merge.plot.scatter(x=\"amxpwv\", y=\"d_adu_0u\",ax=ax,marker=\".\",grid=True,c='b',label=\"band LSST-U\") \n",
    "df_merge.plot.scatter(x=\"amxpwv\", y=\"d_adu_0g\",ax=ax,marker=\".\",grid=True,c='g',label=\"band LSST-G\") \n",
    "df_merge.plot.scatter(x=\"amxpwv\", y=\"d_adu_0r\",ax=ax,marker=\".\",grid=True,c='r',label=\"band LSST-R\") \n",
    "df_merge.plot.scatter(x=\"amxpwv\", y=\"d_adu_0i\",ax=ax,marker=\".\",grid=True,c='orange',label=\"band LSST-I\") \n",
    "df_merge.plot.scatter(x=\"amxpwv\", y=\"d_adu_0z\",ax=ax,marker=\".\",grid=True,c='k',label=\"band LSST-Z\") \n",
    "df_merge.plot.scatter(x=\"amxpwv\", y=\"d_adu_0y\",ax=ax,marker=\".\",grid=True,c='grey',label=\"band LSST-Y\") \n",
    "\n",
    "ax.set_xlabel(\"$airmass \\\\times PWV (mm)$\")\n",
    "ax.set_ylabel(\"rel. extinction (mmag)\")\n",
    "ax.set_title(f\"relative extinction for a flat SED wrt pwv = 0 mm\")\n",
    "\n",
    "plt.show()"
   ]
  },
  {
   "cell_type": "code",
   "execution_count": null,
   "id": "04bae2e1-bc85-4453-b0db-f2ad2844659d",
   "metadata": {},
   "outputs": [],
   "source": []
  }
 ],
 "metadata": {
  "kernelspec": {
   "display_name": "conda_py310",
   "language": "python",
   "name": "conda_py310"
  },
  "language_info": {
   "codemirror_mode": {
    "name": "ipython",
    "version": 3
   },
   "file_extension": ".py",
   "mimetype": "text/x-python",
   "name": "python",
   "nbconvert_exporter": "python",
   "pygments_lexer": "ipython3",
   "version": "3.10.12"
  }
 },
 "nbformat": 4,
 "nbformat_minor": 5
}
