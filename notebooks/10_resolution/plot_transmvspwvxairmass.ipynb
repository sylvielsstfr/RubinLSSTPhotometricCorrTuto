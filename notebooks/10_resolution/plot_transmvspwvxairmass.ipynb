{
 "cells": [
  {
   "cell_type": "markdown",
   "id": "d5d58322-4791-4bff-9c51-916d345e085e",
   "metadata": {},
   "source": [
    "# Dependance of Transmission vs H2O xairmass\n",
    "\n",
    "- author : Sylvie Dagoret-Campagne\n",
    "- affiliation : IJCLab/IN2P3/CNRS\n",
    "- creation date : 2024/11/24\n",
    "- last update : 2024/12/03\n",
    "\n",
    "This emulator is based from datagrid of atmospheric transparencies extracted from libradtran"
   ]
  },
  {
   "cell_type": "code",
   "execution_count": null,
   "id": "eeb7872a-03c9-421f-8fd7-6ba5c508ff79",
   "metadata": {
    "tags": []
   },
   "outputs": [],
   "source": [
    "import seaborn as sns\n",
    "import matplotlib.pyplot as plt\n",
    "%matplotlib inline\n",
    "import numpy as np\n",
    "import pandas as pd\n",
    "\n",
    "# to enlarge the sizes\n",
    "params = {'legend.fontsize': 'large',\n",
    "          'figure.figsize': (10, 6),\n",
    "         'axes.labelsize': 'xx-large',\n",
    "         'axes.titlesize':'xx-large',\n",
    "         'xtick.labelsize':'xx-large',\n",
    "         'ytick.labelsize':'xx-large'}\n",
    "plt.rcParams.update(params)"
   ]
  },
  {
   "cell_type": "code",
   "execution_count": null,
   "id": "276967f2-8c58-4110-83cf-aebc9b4ef95a",
   "metadata": {
    "tags": []
   },
   "outputs": [],
   "source": [
    "import warnings\n",
    "warnings.filterwarnings('ignore')"
   ]
  },
  {
   "cell_type": "markdown",
   "id": "b0a9c40d-f5f4-4aca-b4fa-de020205e534",
   "metadata": {},
   "source": [
    "# Imports"
   ]
  },
  {
   "cell_type": "code",
   "execution_count": null,
   "id": "5f685430-bb32-4285-b556-20db4a226faf",
   "metadata": {},
   "outputs": [],
   "source": [
    "from getObsAtmo.getObsAtmo import ObsAtmo,validateObsName,Dict_Of_sitesPressures,getObsSiteDataFrame"
   ]
  },
  {
   "cell_type": "markdown",
   "id": "ae725422-ec9e-4ee4-bc95-012499cf117c",
   "metadata": {},
   "source": [
    "# Check information"
   ]
  },
  {
   "cell_type": "code",
   "execution_count": null,
   "id": "8bf39dcb-64b2-4ef9-a34e-5066d58c7959",
   "metadata": {
    "tags": []
   },
   "outputs": [],
   "source": [
    "Dict_Of_sitesPressures"
   ]
  },
  {
   "cell_type": "markdown",
   "id": "632dafeb-3ab5-4249-a035-729ed239485e",
   "metadata": {},
   "source": [
    "### Choose Rubin-LSST observation sites but other sites may be chosen"
   ]
  },
  {
   "cell_type": "code",
   "execution_count": null,
   "id": "3651e0ba-0e55-4109-8f85-0ab083251b90",
   "metadata": {
    "tags": []
   },
   "outputs": [],
   "source": [
    "obssitename = 'LSST'\n",
    "obs_str = validateObsName(obssitename) \n",
    "std_pressure = Dict_Of_sitesPressures[obs_str]"
   ]
  },
  {
   "cell_type": "code",
   "execution_count": null,
   "id": "20c662f8-d964-4b92-bfb5-a9e14a4e3e9b",
   "metadata": {},
   "outputs": [],
   "source": [
    "emul =  ObsAtmo(obs_str= obssitename)"
   ]
  },
  {
   "cell_type": "markdown",
   "id": "1070eded-26f6-4b27-abf9-c7bf9a08e89e",
   "metadata": {},
   "source": [
    "# Typical transmission plot\n",
    "\n",
    "- show a typical transmission plot"
   ]
  },
  {
   "cell_type": "code",
   "execution_count": null,
   "id": "6b7ea685-a3c4-4eae-895a-3ef8cca32436",
   "metadata": {},
   "outputs": [],
   "source": [
    "emul.plot_transmission()"
   ]
  },
  {
   "cell_type": "markdown",
   "id": "1949a817-9985-48b0-8735-e5bcf8e285a9",
   "metadata": {},
   "source": [
    "# Setting atmospheric parameters"
   ]
  },
  {
   "cell_type": "code",
   "execution_count": null,
   "id": "d93ddef0-1570-42a7-8ab2-edc8cf755d14",
   "metadata": {},
   "outputs": [],
   "source": [
    "WL = emul.GetWL()\n",
    "airmasses = emul.AIRMASS\n",
    "NAM = len(airmasses)\n",
    "pwvs = emul.PWV\n",
    "NPWV = len(pwvs)\n",
    "ozs = emul.OZ\n",
    "NOZ = len(ozs)"
   ]
  },
  {
   "cell_type": "code",
   "execution_count": null,
   "id": "43201a59-1fa5-4380-ab6d-72e54525cbc6",
   "metadata": {},
   "outputs": [],
   "source": [
    "hls_colors = sns.color_palette(\"hls\", NAM)\n",
    "sns.palplot(hls_colors)"
   ]
  },
  {
   "cell_type": "markdown",
   "id": "a8985efb-aa83-47c6-bf4b-ca95c9630427",
   "metadata": {},
   "source": [
    "## Check emulator with PWV absorption"
   ]
  },
  {
   "cell_type": "markdown",
   "id": "29d89c7e-b5f6-4315-89b0-b6734b8e1a05",
   "metadata": {},
   "source": [
    "Expect no difference"
   ]
  },
  {
   "cell_type": "code",
   "execution_count": null,
   "id": "60bddbab-27d1-4dc6-815b-15d8bb2adde0",
   "metadata": {},
   "outputs": [],
   "source": [
    "hls_colors = sns.color_palette(\"hls\", NPWV)\n",
    "sns.palplot(hls_colors)"
   ]
  },
  {
   "cell_type": "code",
   "execution_count": null,
   "id": "3421b63d-3603-4bcc-b06a-fb8ba98bf618",
   "metadata": {},
   "outputs": [],
   "source": [
    "am =1\n",
    "\n",
    "fig, ax = plt.subplots()\n",
    "for idx,pwv in enumerate(pwvs):\n",
    "\n",
    "    transm = emul.GetPWVabsTransparencyArray(WL,am,pwv)\n",
    "  \n",
    "    if idx == 0: \n",
    "        ax.plot(WL,transm,\"-\",color=hls_colors[idx])\n",
    "    else: \n",
    "        ax.plot(WL,transm,\"-\",color=hls_colors[idx])\n",
    "        \n",
    "title = f\"ObsAtmo : H2O absorption for different pressures, am = {am:.1f}\"\n",
    "ax.set_title(title)\n",
    "ax.set_xlabel(\"$\\lambda$ (nm)\")\n",
    "ax.set_ylabel(\"transmission\")\n",
    "ax.set_xlim(700.,1000.)\n",
    "# place a text box in upper left in axes coords\n",
    "#ax.text(0.5, 0.05, textboxstr, transform=ax.transAxes, fontsize=14,verticalalignment='bottom', bbox=textboxprops)\n",
    "ax.grid()\n",
    "ax.legend()\n",
    "\n",
    "ax.axvline(719.0,color=\"k\")\n",
    "ax.axvline(725.0,color=\"k\")\n",
    "ax.axvline(728.0,color=\"k\")\n",
    "ax.axvline(817.0,color=\"k\")\n",
    "ax.axvline(823.0,color=\"k\")\n",
    "ax.axvline(828.0,color=\"k\")\n",
    "ax.axvline(900.0,color=\"k\")\n",
    "ax.axvline(910.0,color=\"k\")\n",
    "ax.axvline(915.0,color=\"k\")\n",
    "ax.axvline(935.0,color=\"k\")\n",
    "ax.axvline(952.0,color=\"k\")\n",
    "ax.axvline(975.0,color=\"k\")\n",
    "\n",
    "plt.show()"
   ]
  },
  {
   "cell_type": "markdown",
   "id": "ca17ebfa-1e0e-4852-8f94-86d148b2e019",
   "metadata": {},
   "source": [
    "## Predefine a series of wavelengths"
   ]
  },
  {
   "cell_type": "code",
   "execution_count": null,
   "id": "c9de55bf-6ec5-4bc8-8d1d-719a83e650e3",
   "metadata": {},
   "outputs": [],
   "source": [
    "WLtest = np.array([719.,725.,728.,817.,823.,828.,900.,910.,915.,935.,952.,975.])\n",
    "NWLtest = len(WLtest)\n",
    "#hls_colors = sns.color_palette(\"Spectral_r\", NWLtest)\n",
    "hls_colors = sns.color_palette(\"coolwarm\",NWLtest)\n",
    "#sns.palplot(hls_colors)"
   ]
  },
  {
   "cell_type": "code",
   "execution_count": null,
   "id": "2c5deefc-d6f8-4aff-ad74-ad8b2d874a39",
   "metadata": {},
   "outputs": [],
   "source": [
    "binnumber = np.digitize(WLtest,WLtest)\n",
    "binnumber"
   ]
  },
  {
   "cell_type": "markdown",
   "id": "1259428f-7b04-4007-99d2-7f2a38ae2907",
   "metadata": {},
   "source": [
    "### Pick a palette from 700 to 1000 nm"
   ]
  },
  {
   "cell_type": "code",
   "execution_count": null,
   "id": "da488840-27ef-4114-89bb-c8bb4fcb7158",
   "metadata": {},
   "outputs": [],
   "source": [
    "#WLrange = np.arange(700.,1001.,1)\n",
    "#NWLrange = len(WLrange)\n",
    "#hls_colors = sns.color_palette(\"Spectral_r\", NWLrange)\n",
    "#hls_colors = sns.color_palette(\"coolwarm\",NWLrange)\n",
    "#sns.palplot(hls_colors)\n",
    "#binnumber = np.digitize(WLtest,WLrange)\n",
    "#binnumber"
   ]
  },
  {
   "cell_type": "markdown",
   "id": "71513479-62e7-4f6f-a9d2-8bf3c1ee4bd7",
   "metadata": {},
   "source": [
    "## Different values of PWV0 and different airmasses"
   ]
  },
  {
   "cell_type": "code",
   "execution_count": null,
   "id": "ec518b50-4c5b-47a8-bce7-cd59e94b007a",
   "metadata": {},
   "outputs": [],
   "source": [
    "#all_pwv0 = np.arange(0.1,12,2)\n",
    "all_pwv0 = np.logspace(-1,1.15,12)\n",
    "all_pwv0"
   ]
  },
  {
   "cell_type": "code",
   "execution_count": null,
   "id": "e66703a8-b903-4c82-8e9b-bbfecc2ae2eb",
   "metadata": {},
   "outputs": [],
   "source": [
    "linestyles = [\"-\",\"--\",\"-.\",\":\",  \"-\",\"--\",\"-.\",\":\", \"-\",\"--\",\"-.\",\":\"]\n",
    "linewidths = [4,4,4,4,3,3,3,3,2,2,2,2]"
   ]
  },
  {
   "cell_type": "markdown",
   "id": "8a110823-9c91-4169-9057-27df4b722828",
   "metadata": {},
   "source": [
    "## Plot"
   ]
  },
  {
   "cell_type": "markdown",
   "id": "09e76d9c-d5c0-4f94-9796-a579fb4357ba",
   "metadata": {},
   "source": [
    "### Plot linear scale"
   ]
  },
  {
   "cell_type": "code",
   "execution_count": null,
   "id": "3d5658af-f949-4285-bb59-64a3b38d74dc",
   "metadata": {},
   "outputs": [],
   "source": [
    "fig,ax = plt.subplots(1,1)\n",
    "\n",
    "# external loop on PWV0 (linestyles and width)\n",
    "\n",
    "for idx_pwv,pwv0 in enumerate(all_pwv0):\n",
    "\n",
    "    # compute a new transmission array in airmass x wl\n",
    "    transmarray = np.zeros((NAM,NWLtest))\n",
    "    \n",
    "    for idx_am,airmass in enumerate(airmasses):\n",
    "        transmarray[idx_am,:]  = emul.GetPWVabsTransparencyArray(WLtest,airmass,pwv0)\n",
    "    # normalize wrt airmass = 1 for each wavelength\n",
    "    #norm_am0 = np.copy(transmarray[0,:])\n",
    "    \n",
    "    # renormalize to first airmass\n",
    "    #for idx_am,airmass in enumerate(airmasses):\n",
    "    #    transmarray[idx_am,:] =  transmarray[idx_am,:]/norm_am0\n",
    "\n",
    "    # plot attenuation \n",
    "    for idx_wl,wl in enumerate(WLtest):\n",
    "        x = airmasses*pwv0\n",
    "        y = transmarray[:,idx_wl]\n",
    "        \n",
    "        bin_number_for_wl = np.digitize(wl,WLtest)-1\n",
    "        the_wl_color = hls_colors[bin_number_for_wl]\n",
    "        ls = linestyles[idx_pwv]\n",
    "        lw = linewidths[idx_pwv]\n",
    "\n",
    "        if idx_pwv==0:\n",
    "            label = \"$\\\\lambda = $\" + f\"{wl:.0f} nm\"\n",
    "            ax.plot(x,y,color=the_wl_color,ls = ls,lw=lw,label=label)\n",
    "        else:\n",
    "            ax.plot(x,y,color=the_wl_color,ls = ls,lw=lw)\n",
    "\n",
    "#ax.legend(loc='upper right')\n",
    "ax.legend(bbox_to_anchor=(1.05, 1.01))\n",
    "ax.set_xlabel(\"$airmass \\\\times pwv$ (mm)\")  \n",
    "ax.set_ylabel(\"$T_{PWV}$\")  \n",
    "ax.set_title(\"PWV Air transmission vs $airmass \\\\times pwv$\")"
   ]
  },
  {
   "cell_type": "markdown",
   "id": "13843f54-97c7-41d5-997f-db1fbf173c7d",
   "metadata": {},
   "source": [
    "### Extinction in Y - lin scale, X - lin scale"
   ]
  },
  {
   "cell_type": "code",
   "execution_count": null,
   "id": "e8da9fe3-ce55-4d4e-ac75-9aff156481f0",
   "metadata": {},
   "outputs": [],
   "source": [
    "fig,ax = plt.subplots(1,1)\n",
    "\n",
    "# external loop on PWV0 (linestyles and width)\n",
    "\n",
    "for idx_pwv,pwv0 in enumerate(all_pwv0):\n",
    "\n",
    "    # compute a new transmission array in airmass x wl\n",
    "    transmarray = np.zeros((NAM,NWLtest))\n",
    "    \n",
    "    for idx_am,airmass in enumerate(airmasses):\n",
    "        transmarray[idx_am,:]  = emul.GetPWVabsTransparencyArray(WLtest,airmass,pwv0)\n",
    "    # normalize wrt airmass = 1 for each wavelength\n",
    "    norm_am0 = np.copy(transmarray[0,:])\n",
    "    \n",
    "    # renormalize to first airmass\n",
    "    #for idx_am,airmass in enumerate(airmasses):\n",
    "    #    transmarray[idx_am,:] =  transmarray[idx_am,:]/norm_am0\n",
    "\n",
    "    # plot attenuation \n",
    "    for idx_wl,wl in enumerate(WLtest):\n",
    "        x = airmasses*pwv0\n",
    "        y = - 2.5*np.log10(transmarray[:,idx_wl])\n",
    "        \n",
    "        bin_number_for_wl = np.digitize(wl,WLtest)-1\n",
    "        the_wl_color = hls_colors[bin_number_for_wl]\n",
    "        ls = linestyles[idx_pwv]\n",
    "        lw = linewidths[idx_pwv]\n",
    "\n",
    "        if idx_pwv==0:\n",
    "            label = \"$\\\\lambda = $\" + f\"{wl:.0f} nm\"\n",
    "            ax.plot(x,y,color=the_wl_color,ls = ls,lw=lw,label=label)\n",
    "        else:\n",
    "            ax.plot(x,y,color=the_wl_color,ls = ls,lw=lw)\n",
    "\n",
    "#ax.legend(loc='lower right')\n",
    "ax.legend(bbox_to_anchor=(1.05, 1.01))\n",
    "ax.set_xlabel(\"$airmass \\\\times pwv$ (mm)\")  \n",
    "ax.set_ylabel(\"$-2.5 \\\\log_{10}(T_{PWV})$ (mag)\")  \n",
    "ax.set_title(\"PWV Air extinction vs $airmass \\\\times pwv$\")"
   ]
  },
  {
   "cell_type": "markdown",
   "id": "609125bc-c0fd-42a2-b7b0-0d8b56b8ad65",
   "metadata": {},
   "source": [
    "### Extinction in Y - lin scale, X - log scale"
   ]
  },
  {
   "cell_type": "code",
   "execution_count": null,
   "id": "9537576b-f4b5-474a-a694-2deff4105ce0",
   "metadata": {},
   "outputs": [],
   "source": [
    "fig,ax = plt.subplots(1,1)\n",
    "\n",
    "# external loop on PWV0 (linestyles and width)\n",
    "\n",
    "for idx_pwv,pwv0 in enumerate(all_pwv0):\n",
    "\n",
    "    # compute a new transmission array in airmass x wl\n",
    "    transmarray = np.zeros((NAM,NWLtest))\n",
    "    \n",
    "    for idx_am,airmass in enumerate(airmasses):\n",
    "        transmarray[idx_am,:]  = emul.GetPWVabsTransparencyArray(WLtest,airmass,pwv0)\n",
    "    # normalize wrt airmass = 1 for each wavelength\n",
    "    norm_am0 = np.copy(transmarray[0,:])\n",
    "    \n",
    "    # renormalize to first airmass\n",
    "    #for idx_am,airmass in enumerate(airmasses):\n",
    "    #    transmarray[idx_am,:] =  transmarray[idx_am,:]/norm_am0\n",
    "\n",
    "    # plot attenuation \n",
    "    for idx_wl,wl in enumerate(WLtest):\n",
    "        x = np.log10(airmasses*pwv0)\n",
    "        y = -2.5*np.log10(transmarray[:,idx_wl])\n",
    "        \n",
    "        bin_number_for_wl = np.digitize(wl,WLtest)-1\n",
    "        the_wl_color = hls_colors[bin_number_for_wl]\n",
    "        ls = linestyles[idx_pwv]\n",
    "        lw = linewidths[idx_pwv]\n",
    "\n",
    "        if idx_pwv==0:\n",
    "            label = \"$\\\\lambda = $\" + f\"{wl:.0f} nm\"\n",
    "            ax.plot(x,y,color=the_wl_color,ls = ls,lw=lw,label=label)\n",
    "        else:\n",
    "            ax.plot(x,y,color=the_wl_color,ls = ls,lw=lw)\n",
    "\n",
    "#ax.legend(loc='lower right')\n",
    "ax.legend(bbox_to_anchor=(1.05, 1.01))\n",
    "ax.set_xlabel(\"$\\\\log_{10}(airmass \\\\times pwv$ (mm))\")  \n",
    "ax.set_ylabel(\"$-2.5 \\\\log_{10}(T_{PWV})$ (mag)\")  \n",
    "ax.set_title(\"PWV Air extinction vs $airmass \\\\times pwv$\")"
   ]
  },
  {
   "cell_type": "markdown",
   "id": "a64ad2c3-5141-4185-b3a6-8caee8b0bdab",
   "metadata": {},
   "source": [
    "### Extinction in Y - log scale, X - log scale"
   ]
  },
  {
   "cell_type": "code",
   "execution_count": null,
   "id": "75db0a58-e5cc-4b85-911d-8a89869e1cc4",
   "metadata": {},
   "outputs": [],
   "source": [
    "fig,ax = plt.subplots(1,1)\n",
    "\n",
    "# external loop on PWV0 (linestyles and width)\n",
    "\n",
    "for idx_pwv,pwv0 in enumerate(all_pwv0):\n",
    "\n",
    "    # compute a new transmission array in airmass x wl\n",
    "    transmarray = np.zeros((NAM,NWLtest))\n",
    "    \n",
    "    for idx_am,airmass in enumerate(airmasses):\n",
    "        transmarray[idx_am,:]  = emul.GetPWVabsTransparencyArray(WLtest,airmass,pwv0)\n",
    "    # normalize wrt airmass = 1 for each wavelength\n",
    "    norm_am0 = np.copy(transmarray[0,:])\n",
    "    \n",
    "    # renormalize to first airmass\n",
    "    #for idx_am,airmass in enumerate(airmasses):\n",
    "    #    transmarray[idx_am,:] =  transmarray[idx_am,:]/norm_am0\n",
    "\n",
    "    # plot attenuation \n",
    "    for idx_wl,wl in enumerate(WLtest):\n",
    "        x = np.log10(airmasses*pwv0)\n",
    "        y = -2.5*np.log10(transmarray[:,idx_wl])\n",
    "        \n",
    "        bin_number_for_wl = np.digitize(wl,WLtest)-1\n",
    "        the_wl_color = hls_colors[bin_number_for_wl]\n",
    "        ls = linestyles[idx_pwv]\n",
    "        lw = linewidths[idx_pwv]\n",
    "\n",
    "        if idx_pwv==0:\n",
    "            label = \"$\\\\lambda = $\" + f\"{wl:.0f} nm\"\n",
    "            ax.plot(x,y,color=the_wl_color,ls = ls,lw=lw,label=label)\n",
    "        else:\n",
    "            ax.plot(x,y,color=the_wl_color,ls = ls,lw=lw)\n",
    "\n",
    "#ax.legend(loc='lower right')\n",
    "ax.legend(bbox_to_anchor=(1.05, 1.01))\n",
    "ax.set_xlabel(\"$\\\\log_{10}(airmass \\\\times pwv$ (mm))\")  \n",
    "ax.set_ylabel(\"$-2.5 \\\\log_{10}(T_{PWV})$ (mag)\")  \n",
    "ax.set_title(\"PWV Air extinction vs $airmass \\\\times pwv$\")\n",
    "ax.set_yscale(\"log\")\n",
    "\n",
    "plt.show()"
   ]
  },
  {
   "cell_type": "markdown",
   "id": "9d5978a0-6576-40a5-8bce-711db61be90d",
   "metadata": {},
   "source": [
    "## Compare with band"
   ]
  },
  {
   "cell_type": "code",
   "execution_count": null,
   "id": "570b8242-fc6d-4558-babd-87b6be5e59eb",
   "metadata": {},
   "outputs": [],
   "source": [
    "df = pd.read_csv(\"extinctioninbands_pwvxairmass.csv\",index_col=0)"
   ]
  },
  {
   "cell_type": "code",
   "execution_count": null,
   "id": "bf10cdd3-9571-4e17-8bd3-4eced8e4f0ae",
   "metadata": {},
   "outputs": [],
   "source": [
    "df"
   ]
  },
  {
   "cell_type": "code",
   "execution_count": null,
   "id": "652b7a25-fcd1-4eb5-bb01-dbbb6890188e",
   "metadata": {},
   "outputs": [],
   "source": [
    "fig,ax = plt.subplots(1,1)\n",
    "\n",
    "# external loop on PWV0 (linestyles and width)\n",
    "\n",
    "for idx_pwv,pwv0 in enumerate(all_pwv0):\n",
    "\n",
    "    # compute a new transmission array in airmass x wl\n",
    "    transmarray = np.zeros((NAM,NWLtest))\n",
    "    \n",
    "    for idx_am,airmass in enumerate(airmasses):\n",
    "        transmarray[idx_am,:]  = emul.GetPWVabsTransparencyArray(WLtest,airmass,pwv0)\n",
    "    # normalize wrt airmass = 1 for each wavelength\n",
    "    norm_am0 = np.copy(transmarray[0,:])\n",
    "    \n",
    "    # renormalize to first airmass\n",
    "    #for idx_am,airmass in enumerate(airmasses):\n",
    "    #    transmarray[idx_am,:] =  transmarray[idx_am,:]/norm_am0\n",
    "\n",
    "    # plot attenuation \n",
    "    for idx_wl,wl in enumerate(WLtest):\n",
    "        x = airmasses*pwv0\n",
    "        y = - 2.5*np.log10(transmarray[:,idx_wl])\n",
    "        \n",
    "        bin_number_for_wl = np.digitize(wl,WLtest)-1\n",
    "        the_wl_color = hls_colors[bin_number_for_wl]\n",
    "        ls = linestyles[idx_pwv]\n",
    "        lw = linewidths[idx_pwv]\n",
    "\n",
    "        if idx_pwv==0:\n",
    "            label = \"$\\\\lambda = $\" + f\"{wl:.0f} nm\"\n",
    "            ax.plot(x,y,color=the_wl_color,ls = ls,lw=lw,label=label)\n",
    "        else:\n",
    "            ax.plot(x,y,color=the_wl_color,ls = ls,lw=lw)\n",
    "\n",
    "#df.plot.scatter(x=\"amxpwv\", y=\"d_adu_0u_mag\",ax=ax,marker=\".\",grid=True,c='b',label=\"band LSST-U\") \n",
    "#df.plot.scatter(x=\"amxpwv\", y=\"d_adu_0g_mag\",ax=ax,marker=\".\",grid=True,c='g',label=\"band LSST-G\") \n",
    "#df.plot.scatter(x=\"amxpwv\", y=\"d_adu_0r_mag\",ax=ax,marker=\".\",grid=True,c='r',label=\"band LSST-R\") \n",
    "df.plot.scatter(x=\"amxpwv\", y=\"d_adu_0i_mag\",ax=ax,marker=\"+\",s=20,grid=True,c='brown',label=\"band LSST-I\") \n",
    "df.plot.scatter(x=\"amxpwv\", y=\"d_adu_0z_mag\",ax=ax,marker=\"*\",s=20,grid=True,c='green',label=\"band LSST-Z\") \n",
    "df.plot.scatter(x=\"amxpwv\", y=\"d_adu_0y_mag\",ax=ax,marker=\"o\",s=20,grid=True,c='purple',label=\"band LSST-Y\") \n",
    "\n",
    "\n",
    "\n",
    "#ax.legend(loc='lower right')\n",
    "ax.legend(bbox_to_anchor=(1.05, 1.01))\n",
    "ax.set_xlabel(\"$airmass \\\\times pwv$ (mm)\")  \n",
    "ax.set_ylabel(\"$-2.5 \\\\log_{10}(T_{PWV})$ (mag)\")  \n",
    "ax.set_title(\"PWV Air extinction vs $airmass \\\\times pwv$\")\n",
    "\n",
    "\n",
    "plt.show()"
   ]
  },
  {
   "cell_type": "code",
   "execution_count": null,
   "id": "92c5ea93-0f80-4873-800f-fc259745690e",
   "metadata": {},
   "outputs": [],
   "source": [
    "fig,ax = plt.subplots(1,1)\n",
    "\n",
    "# external loop on PWV0 (linestyles and width)\n",
    "\n",
    "for idx_pwv,pwv0 in enumerate(all_pwv0):\n",
    "\n",
    "    # compute a new transmission array in airmass x wl\n",
    "    transmarray = np.zeros((NAM,NWLtest))\n",
    "    \n",
    "    for idx_am,airmass in enumerate(airmasses):\n",
    "        transmarray[idx_am,:]  = emul.GetPWVabsTransparencyArray(WLtest,airmass,pwv0)\n",
    "    # normalize wrt airmass = 1 for each wavelength\n",
    "    norm_am0 = np.copy(transmarray[0,:])\n",
    "    \n",
    "    # renormalize to first airmass\n",
    "    #for idx_am,airmass in enumerate(airmasses):\n",
    "    #    transmarray[idx_am,:] =  transmarray[idx_am,:]/norm_am0\n",
    "\n",
    "    # plot attenuation \n",
    "    for idx_wl,wl in enumerate(WLtest):\n",
    "        x = airmasses*pwv0\n",
    "        y = - 2.5*np.log10(transmarray[:,idx_wl])\n",
    "        \n",
    "        bin_number_for_wl = np.digitize(wl,WLtest)-1\n",
    "        the_wl_color = hls_colors[bin_number_for_wl]\n",
    "        ls = linestyles[idx_pwv]\n",
    "        lw = linewidths[idx_pwv]\n",
    "\n",
    "        if idx_pwv==0:\n",
    "            label = \"$\\\\lambda = $\" + f\"{wl:.0f} nm\"\n",
    "            ax.plot(x,y,color=the_wl_color,ls = ls,lw=lw,label=label)\n",
    "        else:\n",
    "            ax.plot(x,y,color=the_wl_color,ls = ls,lw=lw)\n",
    "\n",
    "#df.plot.scatter(x=\"amxpwv\", y=\"d_adu_0u_mag\",ax=ax,marker=\".\",grid=True,c='b',label=\"band LSST-U\") \n",
    "#df.plot.scatter(x=\"amxpwv\", y=\"d_adu_0g_mag\",ax=ax,marker=\".\",grid=True,c='g',label=\"band LSST-G\") \n",
    "#df.plot.scatter(x=\"amxpwv\", y=\"d_adu_0r_mag\",ax=ax,marker=\".\",grid=True,c='r',label=\"band LSST-R\") \n",
    "df.plot.scatter(x=\"amxpwv\", y=\"d_adu_0i_mag\",ax=ax,marker=\"+\",s=20,grid=True,c='brown',label=\"band LSST-I\") \n",
    "df.plot.scatter(x=\"amxpwv\", y=\"d_adu_0z_mag\",ax=ax,marker=\"*\",s=20,grid=True,c='green',label=\"band LSST-Z\") \n",
    "df.plot.scatter(x=\"amxpwv\", y=\"d_adu_0y_mag\",ax=ax,marker=\"o\",s=20,grid=True,c='purple',label=\"band LSST-Y\") \n",
    "\n",
    "\n",
    "\n",
    "#ax.legend(loc='lower right')\n",
    "ax.legend(bbox_to_anchor=(1.05, 1.01))\n",
    "ax.set_xlabel(\"$airmass \\\\times pwv$ (mm)\")  \n",
    "ax.set_ylabel(\"$-2.5 \\\\log_{10}(T_{PWV})$ (mag)\")  \n",
    "ax.set_title(\"PWV Air extinction vs $airmass \\\\times pwv$\")\n",
    "ax.set_yscale(\"log\")\n",
    "ax.set_xscale(\"log\")\n",
    "plt.show()"
   ]
  },
  {
   "cell_type": "code",
   "execution_count": null,
   "id": "3e3ea3f8-830d-41df-9149-526bcf4ee3c8",
   "metadata": {},
   "outputs": [],
   "source": []
  }
 ],
 "metadata": {
  "kernelspec": {
   "display_name": "conda_py310",
   "language": "python",
   "name": "conda_py310"
  },
  "language_info": {
   "codemirror_mode": {
    "name": "ipython",
    "version": 3
   },
   "file_extension": ".py",
   "mimetype": "text/x-python",
   "name": "python",
   "nbconvert_exporter": "python",
   "pygments_lexer": "ipython3",
   "version": "3.10.12"
  },
  "vscode": {
   "interpreter": {
    "hash": "b002c99f66c5bb850ebba7ae0c2124f7695114407038504fe88ddf9182cfa7d8"
   }
  }
 },
 "nbformat": 4,
 "nbformat_minor": 5
}
