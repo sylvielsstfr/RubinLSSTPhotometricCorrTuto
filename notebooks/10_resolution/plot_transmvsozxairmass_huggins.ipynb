{
 "cells": [
  {
   "cell_type": "markdown",
   "id": "d5d58322-4791-4bff-9c51-916d345e085e",
   "metadata": {},
   "source": [
    "# Dependance of transmission vs Ozone in Huggins band times airmass\n",
    "- author : Sylvie Dagoret-Campagne\n",
    "- affiliation : IJCLab/IN2P3/CNRS\n",
    "- creation date : 2024/11/25\n",
    "- last update : 2024/12/05"
   ]
  },
  {
   "cell_type": "markdown",
   "id": "30fb6231-d128-4074-9404-ef9884da7939",
   "metadata": {},
   "source": [
    "Ozone absorbs ultraviolet radiation in three main regions known as the Hartley band, the Huggins band and the Chappuis bands. The Hartley band is a wide bell-shaped peak from 200 - 310nm. The Huggins band is a structured region from 310 - 350nm, and the Chappuis bands are found between 450 and 850 nm."
   ]
  },
  {
   "cell_type": "code",
   "execution_count": null,
   "id": "eeb7872a-03c9-421f-8fd7-6ba5c508ff79",
   "metadata": {
    "tags": []
   },
   "outputs": [],
   "source": [
    "import seaborn as sns\n",
    "import matplotlib.pyplot as plt\n",
    "%matplotlib inline\n",
    "import numpy as np\n",
    "import pandas as pd\n",
    "import os,sys\n",
    "import pickle\n",
    "# to enlarge the sizes\n",
    "params = {'legend.fontsize': 'large',\n",
    "          'figure.figsize': (10, 6),\n",
    "         'axes.labelsize': 'x-large',\n",
    "         'axes.titlesize':'x-large',\n",
    "         'xtick.labelsize':'x-large',\n",
    "         'ytick.labelsize':'x-large'}\n",
    "plt.rcParams.update(params)"
   ]
  },
  {
   "cell_type": "code",
   "execution_count": null,
   "id": "276967f2-8c58-4110-83cf-aebc9b4ef95a",
   "metadata": {
    "tags": []
   },
   "outputs": [],
   "source": [
    "import warnings\n",
    "warnings.filterwarnings('ignore')"
   ]
  },
  {
   "cell_type": "markdown",
   "id": "b0a9c40d-f5f4-4aca-b4fa-de020205e534",
   "metadata": {},
   "source": [
    "# Imports"
   ]
  },
  {
   "cell_type": "code",
   "execution_count": null,
   "id": "829bf99d-0a00-4690-80fd-c3d7db6e3b3b",
   "metadata": {},
   "outputs": [],
   "source": [
    "import getObsAtmo as obs"
   ]
  },
  {
   "cell_type": "code",
   "execution_count": null,
   "id": "c566935b-8ef9-43f5-bba8-713cf6392e3d",
   "metadata": {},
   "outputs": [],
   "source": [
    "OBS_tag = 'LSST'"
   ]
  },
  {
   "cell_type": "code",
   "execution_count": null,
   "id": "2d1228f5-ccb3-40b1-8219-2deb25a31bb2",
   "metadata": {},
   "outputs": [],
   "source": [
    "obs.__path__"
   ]
  },
  {
   "cell_type": "code",
   "execution_count": null,
   "id": "5f685430-bb32-4285-b556-20db4a226faf",
   "metadata": {},
   "outputs": [],
   "source": [
    "from getObsAtmo.getObsAtmo import ObsAtmo,Dict_Of_sitesPressures,getObsSiteDataFrame,_getPackageDir"
   ]
  },
  {
   "cell_type": "code",
   "execution_count": null,
   "id": "fdf3e2c6-6015-4462-a07a-859f4e5eb0d7",
   "metadata": {},
   "outputs": [],
   "source": [
    "\n",
    "__all__ = ['Dict_Of_sitesAltitudes',\n",
    "           'Dict_Of_sitesPressures',\n",
    "           'Dict_Of_sitesAliases',\n",
    "           'file_data_dict',\n",
    "           '_getPackageDir',\n",
    "           'get_obssite_keys',\n",
    "           'sanitizeString',\n",
    "           'validateObsName', \n",
    "           'is_obssite', \n",
    "           'ObsAtmo','ObsAtmoPressure','ObsAtmoGrid']\n",
    "\n",
    "\n",
    "# preselected sites\n",
    "Dict_Of_sitesAltitudes = {'LSST': 2.663,\n",
    "                          'CTIO': 2.207,\n",
    "                          'OHP': 0.65,\n",
    "                          'PDM': 2.8905,\n",
    "                          'OMK': 4.205,\n",
    "                          'OSL': 0.000,\n",
    "                          }\n",
    "# pressure calculated by libradtran\n",
    "Dict_Of_sitesPressures = {'LSST': 731.50433,\n",
    "                          'CTIO': 774.6052,\n",
    "                          'OHP': 937.22595,\n",
    "                          'PDM': 710.90637,\n",
    "                          'OMK': 600.17224,\n",
    "                          'OSL': 1013.000,\n",
    "                          }\n",
    "\n",
    "Dict_Of_sitesAliases = {'LSST': ['Rubin','Rubin Observatory','Auxtel'],\n",
    "                        'CTIO': [\"Cerro Tololo\"],\n",
    "                        'OHP': [\"Observatoire de Haute Provence\"],\n",
    "                        'PDM': [\"Pic du Midi\",\"Observatoire du Pic du Midi\"],\n",
    "                        'OMK': [\"Mauna Kea\",\"Mauna Kea Observatory\"],\n",
    "                        'OSL': [\"Sea Level\",\"Sea Level Observatory\"]\n",
    "                        }\n",
    "\n",
    "file_data_dict = {\n",
    "    \"info\": \"atmospherictransparencygrid_params.pickle\",\n",
    "    \"data_rayleigh\": \"atmospherictransparencygrid_rayleigh.npy\",\n",
    "    \"data_o2abs\": \"atmospherictransparencygrid_O2abs.npy\",\n",
    "    \"data_pwvabs\": \"atmospherictransparencygrid_PWVabs.npy\",\n",
    "    \"data_ozabs\": \"atmospherictransparencygrid_OZabs.npy\",\n",
    "}"
   ]
  },
  {
   "cell_type": "code",
   "execution_count": null,
   "id": "8206aaa2-cd57-4fc0-9a65-6efd1861178d",
   "metadata": {},
   "outputs": [],
   "source": [
    "# construct the path of input data file\n",
    "path = os.path.join(_getPackageDir(), '../obsatmo_data')\n",
    "info_params = {}\n",
    "\n",
    "# load all data files (training and test)\n",
    "filename = os.path.join(path, OBS_tag + \"_\" + file_data_dict[\"info\"])\n",
    "with open(filename, 'rb') as f:\n",
    "    info_params = pickle.load(f)\n",
    "\n",
    "data_rayleigh = np.load(os.path.join(path, OBS_tag + \"_\" + file_data_dict[\"data_rayleigh\"]))\n",
    "data_O2abs = np.load(os.path.join(path, OBS_tag + \"_\" + file_data_dict[\"data_o2abs\"]))\n",
    "data_PWVabs = np.load(os.path.join(path, OBS_tag + \"_\" + file_data_dict[\"data_pwvabs\"]))\n",
    "data_OZabs = np.load(os.path.join(path, OBS_tag + \"_\" + file_data_dict[\"data_ozabs\"]))"
   ]
  },
  {
   "cell_type": "code",
   "execution_count": null,
   "id": "6f633d36-06db-4c0f-9b80-b890836bff6f",
   "metadata": {},
   "outputs": [],
   "source": [
    "# setup training dataset (those used for interpolation)\n",
    "WLMIN = info_params[\"WLMIN\"]\n",
    "WLMAX = info_params[\"WLMAX\"]\n",
    "WLBIN = info_params[\"WLBIN\"]\n",
    "NWLBIN = info_params['NWLBIN']\n",
    "WL     = info_params['WL']\n",
    "OBS = info_params['OBS']\n",
    "\n",
    "AIRMASSMIN = info_params['AIRMASSMIN']\n",
    "AIRMASSMAX = info_params['AIRMASSMAX']\n",
    "NAIRMASS = info_params['NAIRMASS']\n",
    "DAIRMASS = info_params['DAIRMASS']\n",
    "AIRMASS = info_params['AIRMASS']\n",
    "\n",
    "PWVMIN = info_params['PWVMIN']\n",
    "PWVMAX = info_params['PWVMAX']\n",
    "NPWV = info_params['NPWV']\n",
    "DPWV = info_params['DPWV']\n",
    "PWV = info_params['PWV']\n",
    "\n",
    "OZMIN = info_params['OZMIN']\n",
    "OZMAX = info_params['OZMAX']\n",
    "NOZ = info_params['NOZ']\n",
    "DOZ = info_params['DOZ']\n",
    "OZ = info_params['OZ']\n"
   ]
  },
  {
   "cell_type": "code",
   "execution_count": null,
   "id": "421c4427-07eb-4251-8814-3486bed219a9",
   "metadata": {},
   "outputs": [],
   "source": [
    "data_PWVabs.shape"
   ]
  },
  {
   "cell_type": "code",
   "execution_count": null,
   "id": "baafc31c-a20f-49b0-8b5f-49b639f90004",
   "metadata": {},
   "outputs": [],
   "source": [
    "data_PWVabs.min()"
   ]
  },
  {
   "cell_type": "markdown",
   "id": "ae725422-ec9e-4ee4-bc95-012499cf117c",
   "metadata": {},
   "source": [
    "# Check information"
   ]
  },
  {
   "cell_type": "code",
   "execution_count": null,
   "id": "8bf39dcb-64b2-4ef9-a34e-5066d58c7959",
   "metadata": {
    "tags": []
   },
   "outputs": [],
   "source": [
    "Dict_Of_sitesPressures"
   ]
  },
  {
   "cell_type": "markdown",
   "id": "632dafeb-3ab5-4249-a035-729ed239485e",
   "metadata": {},
   "source": [
    "### Choose Rubin-LSST observation sites but other sites may be chosen"
   ]
  },
  {
   "cell_type": "code",
   "execution_count": null,
   "id": "3651e0ba-0e55-4109-8f85-0ab083251b90",
   "metadata": {
    "tags": []
   },
   "outputs": [],
   "source": [
    "obs_str = 'LSST'"
   ]
  },
  {
   "cell_type": "code",
   "execution_count": null,
   "id": "20c662f8-d964-4b92-bfb5-a9e14a4e3e9b",
   "metadata": {},
   "outputs": [],
   "source": [
    "emul =  ObsAtmo(obs_str=obs_str)"
   ]
  },
  {
   "cell_type": "markdown",
   "id": "1070eded-26f6-4b27-abf9-c7bf9a08e89e",
   "metadata": {},
   "source": [
    "# Typical transmission plot\n",
    "\n",
    "- show a typical transmission plot"
   ]
  },
  {
   "cell_type": "code",
   "execution_count": null,
   "id": "6b7ea685-a3c4-4eae-895a-3ef8cca32436",
   "metadata": {},
   "outputs": [],
   "source": [
    "emul.plot_transmission()"
   ]
  },
  {
   "cell_type": "markdown",
   "id": "1949a817-9985-48b0-8735-e5bcf8e285a9",
   "metadata": {},
   "source": [
    "# Setting atmospheric parameters"
   ]
  },
  {
   "cell_type": "code",
   "execution_count": null,
   "id": "d93ddef0-1570-42a7-8ab2-edc8cf755d14",
   "metadata": {},
   "outputs": [],
   "source": [
    "WL = emul.GetWL()\n",
    "airmasses = emul.AIRMASS\n",
    "NAM = len(airmasses)\n",
    "pwvs = emul.PWV\n",
    "NPWV = len(pwvs)\n",
    "ozs = emul.OZ\n",
    "NOZ = len(ozs)"
   ]
  },
  {
   "cell_type": "code",
   "execution_count": null,
   "id": "43201a59-1fa5-4380-ab6d-72e54525cbc6",
   "metadata": {},
   "outputs": [],
   "source": [
    "hls_colors = sns.color_palette(\"hls\", NAM)\n",
    "sns.palplot(hls_colors)"
   ]
  },
  {
   "cell_type": "markdown",
   "id": "a3802a0a-42a2-4aab-8293-8be3d8bb9713",
   "metadata": {},
   "source": [
    "## Check emulator with Ozone absorption\n",
    "\n",
    "- expect no difference"
   ]
  },
  {
   "cell_type": "code",
   "execution_count": null,
   "id": "b025a29c-181c-4a61-ba6c-db908e7b1c63",
   "metadata": {},
   "outputs": [],
   "source": [
    "hls_colors = sns.color_palette(\"hls\", NOZ)\n",
    "sns.palplot(hls_colors)"
   ]
  },
  {
   "cell_type": "code",
   "execution_count": null,
   "id": "f588adf2-d3d2-482c-89e7-b89a1ba9258c",
   "metadata": {
    "tags": []
   },
   "outputs": [],
   "source": [
    "am =1\n",
    "\n",
    "fig, ax = plt.subplots()\n",
    "for idx,oz in enumerate(ozs):\n",
    "\n",
    "    transm = emul.GetOZabsTransparencyArray(WL,am,oz)\n",
    "\n",
    "    \n",
    "    if idx == 0:\n",
    "        ax.plot(WL,transm,\"-\",color=hls_colors[idx],label=\"\")\n",
    "    else:\n",
    "        ax.plot(WL,transm,\"-\",color=hls_colors[idx])\n",
    "     \n",
    "title = f\" ObsAtmo : Ozone absorption for different pressure, am = {am:.1f}\"\n",
    "ax.set_title(title)\n",
    "ax.set_xlabel(\"$\\lambda$ (nm)\")\n",
    "ax.set_ylabel(\"transmission\")\n",
    "ax.set_xlim(300.,360.)\n",
    "ax.set_ylim(0.,1.0)\n",
    "# place a text box in upper left in axes coords\n",
    "#ax.text(0.5, 0.05, textboxstr, transform=ax.transAxes, fontsize=14,verticalalignment='bottom', bbox=textboxprops)\n",
    "ax.grid()\n",
    "ax.legend()\n",
    "plt.show()"
   ]
  },
  {
   "cell_type": "markdown",
   "id": "f862a840-733f-4215-a845-29a7a311ed7c",
   "metadata": {},
   "source": [
    "## Predefine a series of wavelengths"
   ]
  },
  {
   "cell_type": "code",
   "execution_count": null,
   "id": "fcdfb3ca-e785-4ed6-816c-913dfda27734",
   "metadata": {},
   "outputs": [],
   "source": [
    "WLtest = np.array([300.,310.,320.,330., 340.,350.,400.])\n",
    "NWLtest = len(WLtest)\n",
    "#hls_colors = sns.color_palette(\"Spectral_r\", NWLtest)\n",
    "hls_colors = sns.color_palette(\"coolwarm\",NWLtest)\n",
    "sns.palplot(hls_colors)"
   ]
  },
  {
   "cell_type": "code",
   "execution_count": null,
   "id": "fe22f7ce-0003-4ce6-a334-5872cf2c758d",
   "metadata": {},
   "outputs": [],
   "source": [
    "binnumber = np.digitize(WLtest,WLtest)\n",
    "binnumber"
   ]
  },
  {
   "cell_type": "markdown",
   "id": "f069b647-fb20-4e74-baab-3468b16a3503",
   "metadata": {},
   "source": [
    "## Different values of Ozone and different airmasses"
   ]
  },
  {
   "cell_type": "code",
   "execution_count": null,
   "id": "45bf04f6-23f4-40bb-8709-d5386defd93a",
   "metadata": {},
   "outputs": [],
   "source": [
    "all_oz0 = np.array([1.,5.,10.,100.,200.,300.,400.,500.])\n",
    "all_oz0"
   ]
  },
  {
   "cell_type": "markdown",
   "id": "24f19099-65bc-4240-a1f0-04a0b5be8ae1",
   "metadata": {},
   "source": [
    "## Plot"
   ]
  },
  {
   "cell_type": "code",
   "execution_count": null,
   "id": "b5042a16-9c32-4ce4-88e6-3489d53ad516",
   "metadata": {},
   "outputs": [],
   "source": [
    "linestyles = [\"-\",\"--\",\"-.\",\":\",  \"-\",\"--\",\"-.\",\":\"]\n",
    "linewidths = [4,4,4,4,2,2,2,2]"
   ]
  },
  {
   "cell_type": "markdown",
   "id": "17f1747a-7f87-4257-bc53-b13faff2ae32",
   "metadata": {},
   "source": [
    "### Plot linear scale"
   ]
  },
  {
   "cell_type": "code",
   "execution_count": null,
   "id": "83d67aeb-3ef6-486b-86e8-a18aadf14659",
   "metadata": {},
   "outputs": [],
   "source": [
    "fig,ax = plt.subplots(1,1)\n",
    "\n",
    "# external loop on Ozone (linestyles and width)\n",
    "\n",
    "for idx_oz,oz0 in enumerate(all_oz0):\n",
    "\n",
    "    # compute a new transmission array in airmass x wl\n",
    "    transmarray = np.zeros((NAM,NWLtest))\n",
    "    \n",
    "    for idx_am,airmass in enumerate(airmasses):\n",
    "        transmarray[idx_am,:]  = emul.GetOZabsTransparencyArray(WLtest,airmass,oz0)\n",
    "    # normalize wrt airmass = 1 for each wavelength\n",
    "    #norm_am0 = np.copy(transmarray[0,:])\n",
    "    \n",
    "    # renormalize to first airmass\n",
    "    #for idx_am,airmass in enumerate(airmasses):\n",
    "    #    transmarray[idx_am,:] =  transmarray[idx_am,:]/norm_am0\n",
    "\n",
    "    # plot attenuation \n",
    "    for idx_wl,wl in enumerate(WLtest):\n",
    "        x = airmasses*oz0\n",
    "        y = transmarray[:,idx_wl]\n",
    "        \n",
    "        bin_number_for_wl = np.digitize(wl,WLtest)-1\n",
    "        the_wl_color = hls_colors[bin_number_for_wl]\n",
    "        ls = linestyles[idx_oz]\n",
    "        lw = linewidths[idx_oz]\n",
    "\n",
    "        if idx_oz==0:\n",
    "            label = \"$\\\\lambda = $\" + f\"{wl:.0f} nm\"\n",
    "            ax.plot(x,y,color=the_wl_color,ls = ls,lw=lw,label=label)\n",
    "        else:\n",
    "            ax.plot(x,y,color=the_wl_color,ls = ls,lw=lw)\n",
    "\n",
    "#ax.legend(loc='lower left')\n",
    "ax.legend(bbox_to_anchor=(1.05, 1.01))\n",
    "ax.set_xlabel(\"$airmass \\\\times ozone$ (DU)\")  \n",
    "ax.set_ylabel(\"$T_{ozone}$\")  \n",
    "ax.set_title(\"Ozone Air transmission vs $airmass \\\\times ozone$ in Huggins band\")"
   ]
  },
  {
   "cell_type": "code",
   "execution_count": null,
   "id": "29dfaa10-2087-417a-b413-6ece0d5c7697",
   "metadata": {},
   "outputs": [],
   "source": [
    "fig,ax = plt.subplots(1,1)\n",
    "\n",
    "# external loop on Ozone (linestyles and width)\n",
    "\n",
    "for idx_oz,oz0 in enumerate(all_oz0):\n",
    "\n",
    "    # compute a new transmission array in airmass x wl\n",
    "    transmarray = np.zeros((NAM,NWLtest))\n",
    "    \n",
    "    for idx_am,airmass in enumerate(airmasses):\n",
    "        transmarray[idx_am,:]  = emul.GetOZabsTransparencyArray(WLtest,airmass,oz0)\n",
    "    # normalize wrt airmass = 1 for each wavelength\n",
    "    #norm_am0 = np.copy(transmarray[0,:])\n",
    "    \n",
    "    # renormalize to first airmass\n",
    "    #for idx_am,airmass in enumerate(airmasses):\n",
    "    #    transmarray[idx_am,:] =  transmarray[idx_am,:]/norm_am0\n",
    "\n",
    "    # plot attenuation \n",
    "    for idx_wl,wl in enumerate(WLtest):\n",
    "        x = airmasses*oz0\n",
    "        y = -2.5*np.log10(transmarray[:,idx_wl])\n",
    "        \n",
    "        bin_number_for_wl = np.digitize(wl,WLtest)-1\n",
    "        the_wl_color = hls_colors[bin_number_for_wl]\n",
    "        ls = linestyles[idx_oz]\n",
    "        lw = linewidths[idx_oz]\n",
    "\n",
    "        if idx_oz==0:\n",
    "            label = \"$\\\\lambda = $\" + f\"{wl:.0f} nm\"\n",
    "            ax.plot(x,y,color=the_wl_color,ls = ls,lw=lw,label=label)\n",
    "        else:\n",
    "            ax.plot(x,y,color=the_wl_color,ls = ls,lw=lw)\n",
    "\n",
    "#ax.legend(loc='lower right')\n",
    "ax.legend(bbox_to_anchor=(1.05, 1.01))\n",
    "ax.set_xlabel(\"$airmass \\\\times ozone$ (DU)\")  \n",
    "ax.set_ylabel(\"$-2.5\\\\log_{10}(T_{ozone})$ (mag)\")  \n",
    "ax.set_title(\"Ozone extinction vs $airmass \\\\times ozone$ in Huggins band\")"
   ]
  },
  {
   "cell_type": "code",
   "execution_count": null,
   "id": "572df92c-de49-4b8f-b932-06fb04d10634",
   "metadata": {},
   "outputs": [],
   "source": [
    "fig,ax = plt.subplots(1,1)\n",
    "\n",
    "# external loop on Ozone (linestyles and width)\n",
    "\n",
    "for idx_oz,oz0 in enumerate(all_oz0):\n",
    "\n",
    "    # compute a new transmission array in airmass x wl\n",
    "    transmarray = np.zeros((NAM,NWLtest))\n",
    "    \n",
    "    for idx_am,airmass in enumerate(airmasses):\n",
    "        transmarray[idx_am,:]  = emul.GetOZabsTransparencyArray(WLtest,airmass,oz0)\n",
    "    # normalize wrt airmass = 1 for each wavelength\n",
    "    #norm_am0 = np.copy(transmarray[0,:])\n",
    "    \n",
    "    # renormalize to first airmass\n",
    "    #for idx_am,airmass in enumerate(airmasses):\n",
    "    #    transmarray[idx_am,:] =  transmarray[idx_am,:]/norm_am0\n",
    "\n",
    "    # plot attenuation \n",
    "    for idx_wl,wl in enumerate(WLtest):\n",
    "        x = np.log10(airmasses*oz0)\n",
    "        y = -2.5*np.log10(transmarray[:,idx_wl])\n",
    "        \n",
    "        bin_number_for_wl = np.digitize(wl,WLtest)-1\n",
    "        the_wl_color = hls_colors[bin_number_for_wl]\n",
    "        ls = linestyles[idx_oz]\n",
    "        lw = linewidths[idx_oz]\n",
    "\n",
    "        if idx_oz==0:\n",
    "            label = \"$\\\\lambda = $\" + f\"{wl:.0f} nm\"\n",
    "            ax.plot(x,y,color=the_wl_color,ls = ls,lw=lw,label=label)\n",
    "        else:\n",
    "            ax.plot(x,y,color=the_wl_color,ls = ls,lw=lw)\n",
    "\n",
    "#ax.legend(loc='lower right')\n",
    "ax.legend(bbox_to_anchor=(1.05, 1.01))\n",
    "ax.set_xlabel(\"$\\\\log_{10}(airmass \\\\times ozone$ (DU))\")  \n",
    "ax.set_ylabel(\"$-2.5\\\\log_{10}(T_{ozone})$ (mag)\")  \n",
    "ax.set_title(\"Ozone extinction vs $airmass \\\\times ozone$ in Huggins band\")"
   ]
  },
  {
   "cell_type": "markdown",
   "id": "e656918f-9726-41f8-83ce-0e5911054201",
   "metadata": {},
   "source": [
    "## Fit"
   ]
  },
  {
   "cell_type": "code",
   "execution_count": null,
   "id": "5a9e16de-8db3-43c4-b8a8-81d8d06b59b4",
   "metadata": {},
   "outputs": [],
   "source": [
    "# fill transmarray 3D array\n",
    "NOZ = len(all_oz0)\n",
    "\n",
    "transmarray = np.zeros((NAM,NOZ,NWLtest))\n",
    "\n",
    "for idx_oz,oz0 in enumerate(all_oz0):\n",
    "            # compute a new transmission array in airmass x wl\n",
    "   \n",
    "    for idx_am,airmass in enumerate(airmasses):\n",
    "            transmarray[idx_am,idx_oz,:]  = emul.GetOZabsTransparencyArray(WLtest,airmass,oz0)"
   ]
  },
  {
   "cell_type": "code",
   "execution_count": null,
   "id": "1cdc29e7-ff23-4b90-9d62-0262680f0923",
   "metadata": {},
   "outputs": [],
   "source": [
    "# do the fit\n",
    "xfit = np.linspace(0.5,1500.,100)\n",
    "\n",
    "fig,ax = plt.subplots(1,1)\n",
    "\n",
    "# loop on wavelength\n",
    "for idx_wl,wl in enumerate(WLtest):\n",
    "\n",
    "    bin_number_for_wl = np.digitize(wl,WLtest)-1\n",
    "    the_wl_color = hls_colors[bin_number_for_wl]\n",
    "\n",
    "    all_x = []\n",
    "    all_y = []\n",
    "\n",
    "    # loop on ozone\n",
    "    for idx_oz,oz0 in enumerate(all_oz0):  \n",
    "        x = airmasses*oz0\n",
    "        y = -2.5*np.log10(transmarray[:,idx_oz,idx_wl])\n",
    "\n",
    "        all_x.append(x)\n",
    "        all_y.append(y)\n",
    "\n",
    "    # concatenate all ozonexairmass\n",
    "    x = np.concatenate(all_x)\n",
    "    y = np.concatenate(all_y)\n",
    "\n",
    "    z = np.polyfit(x, y, deg=1)\n",
    "    p = np.poly1d(z)\n",
    "\n",
    "    # slope and constant in mmag\n",
    "    gamma = z[0]*1000.  #mmag/DU\n",
    "    const = z[1]*1000.  #mmag\n",
    "\n",
    "    label = \"$\\\\lambda$ = \"+f\"{wl:.0f} nm \"+ f\"fit : slope = {gamma:.3f} mmag/DU const = {const:.3f} mmag\"\n",
    "\n",
    "    ax.plot(x,y,color=the_wl_color,ls = \"-\",lw=5.,label=label)\n",
    "    ax.plot(xfit,p(xfit),':',color=\"grey\")\n",
    "\n",
    "ax.legend(bbox_to_anchor=(1.05, 1.01))\n",
    "ax.set_xlabel(\"$airmass \\\\times ozone$ (DU)\")  \n",
    "ax.set_ylabel(\"$-2.5\\\\log_{10}(T_{ozone})$ (mag)\")  \n",
    "ax.set_title(\"Ozone extinction vs $airmass \\\\times ozone$ in Huggins band\")\n",
    "    "
   ]
  },
  {
   "cell_type": "markdown",
   "id": "ef9a8b54-d431-495b-a508-19343e7a8094",
   "metadata": {},
   "source": [
    "## Compare with band"
   ]
  },
  {
   "cell_type": "code",
   "execution_count": null,
   "id": "ca5a44d1-71ae-4f12-ba46-17f5da7af65b",
   "metadata": {},
   "outputs": [],
   "source": [
    "df = pd.read_csv(\"extinctioninbands_ozxairmass.csv\",index_col=0)"
   ]
  },
  {
   "cell_type": "code",
   "execution_count": null,
   "id": "bce15b51-4490-4833-9438-0f0102a325bb",
   "metadata": {},
   "outputs": [],
   "source": [
    "# do the fit\n",
    "xfit = np.linspace(0.5,1500.,100)\n",
    "\n",
    "fig,ax = plt.subplots(1,1)\n",
    "\n",
    "# loop on wavelength\n",
    "for idx_wl,wl in enumerate(WLtest):\n",
    "\n",
    "    bin_number_for_wl = np.digitize(wl,WLtest)-1\n",
    "    the_wl_color = hls_colors[bin_number_for_wl]\n",
    "\n",
    "    all_x = []\n",
    "    all_y = []\n",
    "\n",
    "    # loop on ozone\n",
    "    for idx_oz,oz0 in enumerate(all_oz0):  \n",
    "        x = airmasses*oz0\n",
    "        y = -2.5*np.log10(transmarray[:,idx_oz,idx_wl])\n",
    "\n",
    "        all_x.append(x)\n",
    "        all_y.append(y)\n",
    "\n",
    "    # concatenate all ozonexairmass\n",
    "    x = np.concatenate(all_x)\n",
    "    y = np.concatenate(all_y)\n",
    "\n",
    "    z = np.polyfit(x, y, deg=1)\n",
    "    p = np.poly1d(z)\n",
    "\n",
    "    # slope and constant in mmag\n",
    "    gamma = z[0]*1000.  #mmag/DU\n",
    "    const = z[1]*1000.  #mmag\n",
    "\n",
    "    label = \"$\\\\lambda$ = \"+f\"{wl:.0f} nm \"+ f\"fit : slope = {gamma:.3f} mmag/DU const = {const:.3f} mmag\"\n",
    "\n",
    "    ax.plot(x,y,color=the_wl_color,ls = \"-\",lw=5.,label=label)\n",
    "    ax.plot(xfit,p(xfit),':',color=\"grey\")\n",
    "\n",
    "df.plot.scatter(x=\"amxoz\", y=\"d_adu_0u_mag\",ax=ax,marker=\"+\",grid=True,c='purple',s=50,label=\"band LSST-U\") \n",
    "#df.plot.scatter(x=\"amxoz\", y=\"d_adu_0g_mag\",ax=ax,marker=\"s\",grid=True,c='g',s=20,label=\"band LSST-G\") \n",
    "#df.plot.scatter(x=\"amxoz\", y=\"d_adu_0r_mag\",ax=ax,marker=\"o\",grid=True,c='r',s=20,label=\"band LSST-R\") \n",
    "#df.plot.scatter(x=\"amxoz\", y=\"d_adu_0i_mag\",ax=ax,marker=\"*\",s=20,grid=True,c='k',label=\"band LSST-I\") \n",
    "#df.plot.scatter(x=\"amxoz\", y=\"d_adu_0z_mag\",ax=ax,marker=\"*\",s=20,grid=True,c='green',label=\"band LSST-Z\") \n",
    "#df.plot.scatter(x=\"amxoz\", y=\"d_adu_0y_mag\",ax=ax,marker=\"o\",s=20,grid=True,c='purple',label=\"band LSST-Y\") \n",
    "\n",
    "\n",
    "\n",
    "ax.legend(bbox_to_anchor=(1.05, 1.01))\n",
    "ax.set_xlabel(\"$airmass \\\\times ozone$ (DU)\")  \n",
    "ax.set_ylabel(\"$-2.5\\\\log_{10}(T_{ozone})$ (mag)\")  \n",
    "ax.set_title(\"Ozone extinction vs $airmass \\\\times ozone$ in Huggins band\")"
   ]
  },
  {
   "cell_type": "code",
   "execution_count": null,
   "id": "58ff483f-91c6-4d7a-8bc6-f69c404e8c5d",
   "metadata": {},
   "outputs": [],
   "source": [
    "# do the fit\n",
    "xfit = np.linspace(0.5,1500.,100)\n",
    "\n",
    "fig,ax = plt.subplots(1,1)\n",
    "\n",
    "# loop on wavelength\n",
    "for idx_wl,wl in enumerate(WLtest):\n",
    "\n",
    "    bin_number_for_wl = np.digitize(wl,WLtest)-1\n",
    "    the_wl_color = hls_colors[bin_number_for_wl]\n",
    "\n",
    "    all_x = []\n",
    "    all_y = []\n",
    "\n",
    "    # loop on ozone\n",
    "    for idx_oz,oz0 in enumerate(all_oz0):  \n",
    "        x = airmasses*oz0\n",
    "        y = -2.5*np.log10(transmarray[:,idx_oz,idx_wl])\n",
    "\n",
    "        all_x.append(x)\n",
    "        all_y.append(y)\n",
    "\n",
    "    # concatenate all ozonexairmass\n",
    "    x = np.concatenate(all_x)\n",
    "    y = np.concatenate(all_y)\n",
    "\n",
    "    z = np.polyfit(x, y, deg=1)\n",
    "    p = np.poly1d(z)\n",
    "\n",
    "    # slope and constant in mmag\n",
    "    gamma = z[0]*1000.  #mmag/DU\n",
    "    const = z[1]*1000.  #mmag\n",
    "\n",
    "    label = \"$\\\\lambda$ = \"+f\"{wl:.0f} nm \"+ f\"fit : slope = {gamma:.3f} mmag/DU const = {const:.3f} mmag\"\n",
    "\n",
    "    ax.plot(x,y,color=the_wl_color,ls = \"-\",lw=5.,label=label)\n",
    "    ax.plot(xfit,p(xfit),':',color=\"grey\")\n",
    "\n",
    "df.plot.scatter(x=\"amxoz\", y=\"d_adu_0u_mag\",ax=ax,marker=\"+\",grid=True,c='purple',s=50,label=\"band LSST-U\") \n",
    "#df.plot.scatter(x=\"amxoz\", y=\"d_adu_0g_mag\",ax=ax,marker=\"s\",grid=True,c='g',s=20,label=\"band LSST-G\") \n",
    "#df.plot.scatter(x=\"amxoz\", y=\"d_adu_0r_mag\",ax=ax,marker=\"o\",grid=True,c='r',s=20,label=\"band LSST-R\") \n",
    "#df.plot.scatter(x=\"amxoz\", y=\"d_adu_0i_mag\",ax=ax,marker=\"*\",s=20,grid=True,c='k',label=\"band LSST-I\") \n",
    "#df.plot.scatter(x=\"amxoz\", y=\"d_adu_0z_mag\",ax=ax,marker=\"*\",s=20,grid=True,c='green',label=\"band LSST-Z\") \n",
    "#df.plot.scatter(x=\"amxoz\", y=\"d_adu_0y_mag\",ax=ax,marker=\"o\",s=20,grid=True,c='purple',label=\"band LSST-Y\") \n",
    "\n",
    "ax.set_ylim(0.,0.02)\n",
    "\n",
    "ax.legend(bbox_to_anchor=(1.05, 1.01))\n",
    "ax.set_xlabel(\"$airmass \\\\times ozone$ (DU)\")  \n",
    "ax.set_ylabel(\"$-2.5\\\\log_{10}(T_{ozone})$ (mag)\")  \n",
    "ax.set_title(\"Ozone extinction vs $airmass \\\\times ozone$ in Huggins band\")"
   ]
  },
  {
   "cell_type": "code",
   "execution_count": null,
   "id": "893f09f4-ecfc-4292-b54d-3fa90e1d5f1c",
   "metadata": {},
   "outputs": [],
   "source": []
  }
 ],
 "metadata": {
  "kernelspec": {
   "display_name": "conda_py310",
   "language": "python",
   "name": "conda_py310"
  },
  "language_info": {
   "codemirror_mode": {
    "name": "ipython",
    "version": 3
   },
   "file_extension": ".py",
   "mimetype": "text/x-python",
   "name": "python",
   "nbconvert_exporter": "python",
   "pygments_lexer": "ipython3",
   "version": "3.10.12"
  },
  "vscode": {
   "interpreter": {
    "hash": "b002c99f66c5bb850ebba7ae0c2124f7695114407038504fe88ddf9182cfa7d8"
   }
  }
 },
 "nbformat": 4,
 "nbformat_minor": 5
}
