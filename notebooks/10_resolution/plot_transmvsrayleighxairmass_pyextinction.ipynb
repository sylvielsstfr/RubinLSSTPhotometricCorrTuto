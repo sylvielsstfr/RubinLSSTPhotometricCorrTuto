{
 "cells": [
  {
   "cell_type": "markdown",
   "id": "d5d58322-4791-4bff-9c51-916d345e085e",
   "metadata": {},
   "source": [
    "# Dependance of Rayleigh wrt airmass and compare libradtran and pyextinction\n",
    "\n",
    "- author : Sylvie Dagoret-Campagne\n",
    "- affiliation : IJCLab/IN2P3/CNRS\n",
    "- creation date : 2024/11/25\n",
    "- last update : 2024/12/03\n",
    "\n",
    "This comparison between getObsAtmo and pyExtinction is done only if libradtranpy is installed"
   ]
  },
  {
   "cell_type": "code",
   "execution_count": null,
   "id": "eeb7872a-03c9-421f-8fd7-6ba5c508ff79",
   "metadata": {
    "tags": []
   },
   "outputs": [],
   "source": [
    "import seaborn as sns\n",
    "import matplotlib.pyplot as plt\n",
    "%matplotlib inline\n",
    "import numpy as np\n",
    "\n",
    "# to enlarge the sizes\n",
    "params = {'legend.fontsize': 'large',\n",
    "          'figure.figsize': (10, 6),\n",
    "         'axes.labelsize': 'xx-large',\n",
    "         'axes.titlesize':'xx-large',\n",
    "         'xtick.labelsize':'xx-large',\n",
    "         'ytick.labelsize':'xx-large'}\n",
    "plt.rcParams.update(params)"
   ]
  },
  {
   "cell_type": "code",
   "execution_count": null,
   "id": "276967f2-8c58-4110-83cf-aebc9b4ef95a",
   "metadata": {
    "tags": []
   },
   "outputs": [],
   "source": [
    "import warnings\n",
    "warnings.filterwarnings('ignore')"
   ]
  },
  {
   "cell_type": "markdown",
   "id": "b0a9c40d-f5f4-4aca-b4fa-de020205e534",
   "metadata": {},
   "source": [
    "# Imports"
   ]
  },
  {
   "cell_type": "code",
   "execution_count": null,
   "id": "7c032106-5aff-4d41-bbdc-d7caa5d28716",
   "metadata": {},
   "outputs": [],
   "source": [
    "import copy\n",
    "import astropy.io.fits as F"
   ]
  },
  {
   "cell_type": "code",
   "execution_count": null,
   "id": "5f685430-bb32-4285-b556-20db4a226faf",
   "metadata": {},
   "outputs": [],
   "source": [
    "from getObsAtmo.getObsAtmo import ObsAtmo,validateObsName,Dict_Of_sitesPressures,getObsSiteDataFrame"
   ]
  },
  {
   "cell_type": "code",
   "execution_count": null,
   "id": "8e3868b5-816d-4cd1-b406-1d431b296f91",
   "metadata": {},
   "outputs": [],
   "source": [
    "from pyextinction.AtmosphericExtinction import ExtinctionModel,EXT2OPT"
   ]
  },
  {
   "cell_type": "markdown",
   "id": "5f4f59e7-aa2c-4950-903f-ccc95a3523ee",
   "metadata": {},
   "source": [
    "## Do thing with pyExtinction"
   ]
  },
  {
   "cell_type": "code",
   "execution_count": null,
   "id": "41f970af-43f1-41ad-9b82-968184d13fa3",
   "metadata": {},
   "outputs": [],
   "source": [
    "def readOzoneTemplatexy(ozoneName,\n",
    "                      colLbda='LAMBDA', colTrans='OZONE', ext=1):\n",
    "    \"\"\"\n",
    "    Read ozone transmission template, interpolate over\n",
    "    wavelengthes, and convert to extinction [mag/airmass].\n",
    "\n",
    "    :param ozoneName: input FITS table, with columns *colLbda*\n",
    "      (wavelength in AA) and *colTrans* (fractional transmission), and\n",
    "      key 'REFO3COL' specifing the reference ozone column density [DU]\n",
    "    :param lbda: output wavelengthes [AA]\n",
    "    :param colLbda: name of the wavelength (in AA) column\n",
    "    :param colTrans: name of the ozone transmission column\n",
    "    :param ext: extension in which to look for wavelength and\n",
    "      transmission columns\n",
    "    :return: ozone extinction [mag/airmass], refO3col\n",
    "    \"\"\"\n",
    "\n",
    "    # Read wavelength and transmission columns\n",
    "    ffile = F.open(ozoneName)\n",
    "    x = ffile[ext].data.field(colLbda)   # Wavelength\n",
    "    y = ffile[ext].data.field(colTrans)  # Transmission\n",
    "    refO3col = ffile[ext].header[\"REFO3COL\"]\n",
    "    return x,y,refO3col\n"
   ]
  },
  {
   "cell_type": "code",
   "execution_count": null,
   "id": "b0b994a6-5681-4d90-aead-c29d8ebbf3d3",
   "metadata": {},
   "outputs": [],
   "source": [
    "# Default ozone template\n",
    "#pyE_O3Template = os.path.join(os.path.dirname(os.path.abspath(__file__)),'o3data/ozoneTemplate.fits')\n",
    "pyE_O3Template = '/Users/dagoret/MacOSX/GitHub/LSST/AtmosphericSimulation/libradtranpy/src/pyextinction/o3data/ozoneTemplate.fits'"
   ]
  },
  {
   "cell_type": "markdown",
   "id": "ae725422-ec9e-4ee4-bc95-012499cf117c",
   "metadata": {},
   "source": [
    "# Check information"
   ]
  },
  {
   "cell_type": "code",
   "execution_count": null,
   "id": "8bf39dcb-64b2-4ef9-a34e-5066d58c7959",
   "metadata": {
    "tags": []
   },
   "outputs": [],
   "source": [
    "Dict_Of_sitesPressures"
   ]
  },
  {
   "cell_type": "markdown",
   "id": "632dafeb-3ab5-4249-a035-729ed239485e",
   "metadata": {},
   "source": [
    "### Choose Rubin-LSST observation sites but other sites may be chosen"
   ]
  },
  {
   "cell_type": "code",
   "execution_count": null,
   "id": "3651e0ba-0e55-4109-8f85-0ab083251b90",
   "metadata": {
    "tags": []
   },
   "outputs": [],
   "source": [
    "obssitename = 'LSST'\n",
    "obs_str = validateObsName(obssitename) \n",
    "std_pressure = Dict_Of_sitesPressures[obs_str]"
   ]
  },
  {
   "cell_type": "code",
   "execution_count": null,
   "id": "20c662f8-d964-4b92-bfb5-a9e14a4e3e9b",
   "metadata": {},
   "outputs": [],
   "source": [
    "emul =  ObsAtmo(obs_str= obssitename)"
   ]
  },
  {
   "cell_type": "markdown",
   "id": "1070eded-26f6-4b27-abf9-c7bf9a08e89e",
   "metadata": {},
   "source": [
    "# Typical transmission plot\n",
    "\n",
    "- show a typical transmission plot"
   ]
  },
  {
   "cell_type": "code",
   "execution_count": null,
   "id": "6b7ea685-a3c4-4eae-895a-3ef8cca32436",
   "metadata": {},
   "outputs": [],
   "source": [
    "emul.plot_transmission()"
   ]
  },
  {
   "cell_type": "markdown",
   "id": "1949a817-9985-48b0-8735-e5bcf8e285a9",
   "metadata": {},
   "source": [
    "# Setting atmospheric parameters"
   ]
  },
  {
   "cell_type": "code",
   "execution_count": null,
   "id": "d93ddef0-1570-42a7-8ab2-edc8cf755d14",
   "metadata": {},
   "outputs": [],
   "source": [
    "WL = emul.GetWL()\n",
    "airmasses = emul.AIRMASS\n",
    "NAM = len(airmasses)\n",
    "pwvs = emul.PWV\n",
    "NPWV = len(pwvs)\n",
    "ozs = emul.OZ\n",
    "NOZ = len(ozs)"
   ]
  },
  {
   "cell_type": "code",
   "execution_count": null,
   "id": "7e171653-966b-402b-9cae-bb95d5918504",
   "metadata": {},
   "outputs": [],
   "source": [
    "airmasses"
   ]
  },
  {
   "cell_type": "code",
   "execution_count": null,
   "id": "43201a59-1fa5-4380-ab6d-72e54525cbc6",
   "metadata": {},
   "outputs": [],
   "source": [
    "hls_colors = sns.color_palette(\"hls\", NAM)\n",
    "sns.palplot(hls_colors)"
   ]
  },
  {
   "cell_type": "markdown",
   "id": "294073fd-e1ec-4eed-8144-ad92198dc38d",
   "metadata": {},
   "source": [
    "## Rayleigh scattering with pyExtinction"
   ]
  },
  {
   "cell_type": "code",
   "execution_count": null,
   "id": "69e5ff1b-a693-4e94-b566-a122cf605549",
   "metadata": {},
   "outputs": [],
   "source": [
    "#pyE_press = 731.50433\n",
    "pyE_press = 675.0\n",
    "pyE_o3 = 300.\n",
    "pyE_tau = 0.0\n",
    "pyE_ang = 1\n",
    "pyE_pars = np.array([pyE_press,pyE_o3,pyE_tau,pyE_ang])"
   ]
  },
  {
   "cell_type": "code",
   "execution_count": null,
   "id": "fe004042-e9dc-49e6-82ac-b4aad41f5321",
   "metadata": {},
   "outputs": [],
   "source": [
    "label1='Rayleigh [%.0f mbar]' % pyE_press\n",
    "label2='Ozone [%.0f DU]' % pyE_o3\n",
    "label3=u'Aerosols [τ=%.4f, å=%.2f]' % (pyE_tau, pyE_ang)\n",
    "all_labels = [label1,label2,label3]"
   ]
  },
  {
   "cell_type": "code",
   "execution_count": null,
   "id": "8f2086f9-21a4-471c-97b5-ceabe2c21235",
   "metadata": {},
   "outputs": [],
   "source": [
    "pyExt_model = ExtinctionModel(WL*10.)"
   ]
  },
  {
   "cell_type": "code",
   "execution_count": null,
   "id": "547f3205-0f19-491a-889d-06dadefb53bb",
   "metadata": {},
   "outputs": [],
   "source": [
    "pyExt_model.setParams(pyE_pars, dpars=None)\n",
    "pyE_components_extinctions = pyExt_model.extinctionComponents()\n",
    "pyE_opticalindexes = EXT2OPT * pyE_components_extinctions\n",
    "pyE_xO3ref,pyE_yO3ref,pyE_refO3col = readOzoneTemplatexy(pyE_O3Template)"
   ]
  },
  {
   "cell_type": "code",
   "execution_count": null,
   "id": "ea17ff8f-6337-43fe-ba27-d14d9fa6311b",
   "metadata": {},
   "outputs": [],
   "source": [
    "rayleigh_extinction = pyE_components_extinctions[0,:]\n",
    "ozone_extinction = pyE_components_extinctions[1,:]\n",
    "aerosol_extinction = pyE_components_extinctions[2,:]\n",
    "rayleigh_opticalindex = EXT2OPT * rayleigh_extinction \n",
    "ozone_opticalindex = EXT2OPT * ozone_extinction \n",
    "aerosol_opticalindex = EXT2OPT * aerosol_extinction \n",
    "all_optical_indexes = [rayleigh_opticalindex,ozone_opticalindex ,aerosol_opticalindex]"
   ]
  },
  {
   "cell_type": "code",
   "execution_count": null,
   "id": "980c9cd4-d95a-45f5-bb00-7d679254daea",
   "metadata": {},
   "outputs": [],
   "source": [
    "ncomp = pyE_components_extinctions.shape[0]"
   ]
  },
  {
   "cell_type": "code",
   "execution_count": null,
   "id": "9274add7-cd9a-4602-bc50-84c1c5fa72e9",
   "metadata": {},
   "outputs": [],
   "source": [
    "hls_colors = sns.color_palette(\"hls\", ncomp)\n",
    "sns.palplot(hls_colors)"
   ]
  },
  {
   "cell_type": "code",
   "execution_count": null,
   "id": "63b3ef21-a195-4310-977b-c3bce753068e",
   "metadata": {},
   "outputs": [],
   "source": [
    "fig = plt.figure(figsize=(10,6))\n",
    "ax=fig.add_subplot()\n",
    "\n",
    "for idx in range(ncomp):\n",
    "    ax.plot(WL,np.exp(-all_optical_indexes[idx]),color=hls_colors[idx],label=all_labels[idx],lw=2) \n",
    "\n",
    "ax.grid()\n",
    "\n",
    "\n",
    "#ax.plot(xozref/10,yozref,color=\"k\",label=labeloz_ref)\n",
    "ax.legend()\n",
    "ax.set_title(pyExt_model.__str__())\n",
    "ax.set_ylabel(\"Component transmission\")\n",
    "ax.set_xlabel(\"$\\\\lambda$ (nm)\")\n"
   ]
  },
  {
   "cell_type": "markdown",
   "id": "a8985efb-aa83-47c6-bf4b-ca95c9630427",
   "metadata": {},
   "source": [
    "## Check emulator with Rayleigh scattering"
   ]
  },
  {
   "cell_type": "markdown",
   "id": "29d89c7e-b5f6-4315-89b0-b6734b8e1a05",
   "metadata": {},
   "source": [
    "    @staticmethod\n",
    "        def rayleigh_HT74(lbda, pressure):\n",
    "            \"\"\"\n",
    "            Rayleigh extinction from `Hansen & Travis (1974)\n",
    "            <http://cdsads.u-strasbg.fr/abs/1974SSRv...16..527H>`_.\n",
    "\n",
    "            :param lbda: wavelength vector [AA]\n",
    "            :param pressure: effective surface pressure [mbar]\n",
    "            :return: Rayleigh extinction [mag/airmass]\n",
    "            \"\"\"\n",
    "\n",
    "            lm = lbda * 1e-4                # Wavelength from A to microns\n",
    "\n",
    "            # Optical depth\n",
    "            tau = 0.008569 / lm**4 * (1 + 0.0113 / lm**2 + 0.00013 / lm**4)\n",
    "            tau *= pressure / 1013.25\n",
    "\n",
    "            return tau / EXT2OPT    # Convert to attenuation [mag/airmass]"
   ]
  },
  {
   "cell_type": "code",
   "execution_count": null,
   "id": "60bddbab-27d1-4dc6-815b-15d8bb2adde0",
   "metadata": {},
   "outputs": [],
   "source": [
    "hls_colors = sns.color_palette(\"hls\", NPWV)\n",
    "sns.palplot(hls_colors)"
   ]
  },
  {
   "cell_type": "code",
   "execution_count": null,
   "id": "cd3108cf-1d0e-4581-a630-eac510a45d52",
   "metadata": {},
   "outputs": [],
   "source": [
    "WLtest = np.arange(350,1000,100)"
   ]
  },
  {
   "cell_type": "code",
   "execution_count": null,
   "id": "5ceb18a1-f692-46eb-940b-50052eea3f7d",
   "metadata": {},
   "outputs": [],
   "source": [
    "WLtest"
   ]
  },
  {
   "cell_type": "code",
   "execution_count": null,
   "id": "3421b63d-3603-4bcc-b06a-fb8ba98bf618",
   "metadata": {},
   "outputs": [],
   "source": [
    "am =1\n",
    "\n",
    "fig, ax = plt.subplots()\n",
    "\n",
    "transm = emul.GetRayleighTransparencyArray(WL,am)\n",
    "  \n",
    "  \n",
    "ax.plot(WL,transm,\"-\",color=\"r\",label=\"getObsAtmo\")\n",
    "ax.plot(WL,np.exp(-rayleigh_extinction),'-',color=\"b\",label=\"pyExtinction\")\n",
    "        \n",
    "title = f\"ObsAtmo : Rayleigh scattering)\"\n",
    "ax.set_title(title)\n",
    "ax.set_xlabel(\"$\\lambda$ (nm)\")\n",
    "ax.set_ylabel(\"transmission\")\n",
    "#ax.set_xlim(680.,780.)\n",
    "# place a text box in upper left in axes coords\n",
    "#ax.text(0.5, 0.05, textboxstr, transform=ax.transAxes, fontsize=14,verticalalignment='bottom', bbox=textboxprops)\n",
    "ax.grid()\n",
    "ax.legend()\n",
    "\n",
    "for wl in WLtest:\n",
    "    ax.axvline(wl,color=\"k\")\n",
    "\n",
    "plt.show()"
   ]
  },
  {
   "cell_type": "markdown",
   "id": "ca17ebfa-1e0e-4852-8f94-86d148b2e019",
   "metadata": {},
   "source": [
    "## Dependence with airmass"
   ]
  },
  {
   "cell_type": "code",
   "execution_count": null,
   "id": "c9de55bf-6ec5-4bc8-8d1d-719a83e650e3",
   "metadata": {},
   "outputs": [],
   "source": [
    "WLtest = np.arange(350,1050,50)\n",
    "NWLtest = len(WLtest)\n",
    "hls_colors = sns.color_palette(\"Spectral_r\", NWLtest)\n",
    "#hls_colors = sns.color_palette(\"coolwarm\",NWLtest)\n",
    "#sns.palplot(hls_colors)\n",
    "sns.palplot(hls_colors)"
   ]
  },
  {
   "cell_type": "code",
   "execution_count": null,
   "id": "dbc30443-f0a0-4d6c-9847-236ec282222a",
   "metadata": {},
   "outputs": [],
   "source": [
    "binnumber = np.digitize(WLtest,WLtest)\n",
    "binnumber"
   ]
  },
  {
   "cell_type": "code",
   "execution_count": null,
   "id": "3f3f7397-4660-49ce-9baf-a9f44d7ee62b",
   "metadata": {},
   "outputs": [],
   "source": [
    "linestyles = [\"-\",\"--\",\"-.\",\":\",  \"-\",\"--\",\"-.\",\":\"]\n",
    "linewidths = [4,4,4,4,2,2,2,2]"
   ]
  },
  {
   "cell_type": "code",
   "execution_count": null,
   "id": "1afa6490-6d2d-41a9-a591-1dbe8f063987",
   "metadata": {},
   "outputs": [],
   "source": [
    "am =1\n",
    "\n",
    "fig, ax = plt.subplots()\n",
    "\n",
    "transm = emul.GetRayleighTransparencyArray(WL,am)\n",
    "\n",
    "ax.plot(WL,transm,\"-\",color=\"k\",label=\"getObsAtmo\")\n",
    "ax.plot(WL,np.exp(-rayleigh_extinction),'-',color=\"g\",label=\"pyExtinction\")\n",
    "        \n",
    "title = f\"ObsAtmo : Rayleigh scattering\"\n",
    "ax.set_title(title)\n",
    "ax.set_xlabel(\"$\\lambda$ (nm)\")\n",
    "ax.set_ylabel(\"transmission\")\n",
    "#ax.set_xlim(680.,780.)\n",
    "# place a text box in upper left in axes coords\n",
    "#ax.text(0.5, 0.05, textboxstr, transform=ax.transAxes, fontsize=14,verticalalignment='bottom', bbox=textboxprops)\n",
    "\n",
    "for idx,wl in enumerate(WLtest):\n",
    "    ax.axvline(wl,color=hls_colors[idx])\n",
    "\n",
    "ax.grid()\n",
    "ax.legend()\n"
   ]
  },
  {
   "cell_type": "markdown",
   "id": "54ff72b6-9d2a-4903-a4a3-5722fcdcd598",
   "metadata": {},
   "source": [
    "## pyExtinction with WLtest"
   ]
  },
  {
   "cell_type": "code",
   "execution_count": null,
   "id": "dfe495d2-c0f1-491d-a0e5-53caa8f1812a",
   "metadata": {},
   "outputs": [],
   "source": [
    "#pyE_press = 731.50433\n",
    "#pyE_press = 680.0\n",
    "pyE_o3 = 300.\n",
    "pyE_tau = 0.0\n",
    "pyE_ang = 1\n",
    "pyE_pars = np.array([pyE_press,pyE_o3,pyE_tau,pyE_ang])"
   ]
  },
  {
   "cell_type": "code",
   "execution_count": null,
   "id": "a2fb850b-4f55-4712-be8a-96574dc70448",
   "metadata": {},
   "outputs": [],
   "source": [
    "pyExt_model = ExtinctionModel(WLtest*10.)\n",
    "pyExt_model.setParams(pyE_pars, dpars=None)\n",
    "pyE_components_extinctions = pyExt_model.extinctionComponents()\n",
    "pyE_opticalindexes = EXT2OPT * pyE_components_extinctions"
   ]
  },
  {
   "cell_type": "code",
   "execution_count": null,
   "id": "dc8bae91-98f8-49ed-999f-4bb307dbb0c7",
   "metadata": {},
   "outputs": [],
   "source": [
    "rayleigh_extinction = pyE_components_extinctions[0,:]\n",
    "#ozone_extinction = pyE_components_extinctions[1,:]\n",
    "#aerosol_extinction = pyE_components_extinctions[2,:]\n",
    "rayleigh_opticalindex = EXT2OPT * rayleigh_extinction "
   ]
  },
  {
   "cell_type": "markdown",
   "id": "1948a1e9-19c5-4797-9e01-a9dd4b790bc1",
   "metadata": {},
   "source": [
    "## Plot"
   ]
  },
  {
   "cell_type": "code",
   "execution_count": null,
   "id": "7ddb7c60-7c46-45cc-8c2f-142befd26b35",
   "metadata": {},
   "outputs": [],
   "source": [
    "fig,ax = plt.subplots(1,1)\n",
    "\n",
    "# compute a new transmission array in airmass x wl\n",
    "transmarray = np.zeros((NAM,NWLtest))\n",
    "    \n",
    "for idx_am,airmass in enumerate(airmasses):\n",
    "    transmarray[idx_am,:]  = emul.GetRayleighTransparencyArray(WLtest,airmass)\n",
    "    # normalize wrt airmass = 1 for each wavelength\n",
    "    #norm_am0 = np.copy(transmarray[0,:])\n",
    "    \n",
    "    # renormalize to first airmass\n",
    "    #for idx_am,airmass in enumerate(airmasses):\n",
    "    #    transmarray[idx_am,:] =  transmarray[idx_am,:]/norm_am0\n",
    "\n",
    "    # plot attenuation \n",
    "for idx_wl,wl in enumerate(WLtest):\n",
    "    x = airmasses\n",
    "    y = transmarray[:,idx_wl]\n",
    "\n",
    "    y_pyE = np.exp(-rayleigh_extinction[idx_wl]*x)\n",
    "        \n",
    "    bin_number_for_wl = np.digitize(wl,WLtest)-1\n",
    "    the_wl_color = hls_colors[bin_number_for_wl]\n",
    "    ls = linestyles[0]\n",
    "    lw = linewidths[0]\n",
    "\n",
    "    \n",
    "    label = \"$\\\\lambda = $\" + f\"{wl:.0f} nm\"\n",
    "    ax.plot(x,y,color=the_wl_color,ls = ls,lw=lw,label=label)\n",
    "    ax.plot(x,y_pyE,color=the_wl_color,lw=0,marker=\"o\")\n",
    "        \n",
    "#ax.legend(loc='upper right')\n",
    "ax.legend(bbox_to_anchor=(1.05, 1.01))\n",
    "ax.set_xlabel(\"$airmass$\")  \n",
    "ax.set_ylabel(\"$T_{rayleigh}$\")  \n",
    "ax.set_title(\"Rayleigh scatt transmission vs $airmass$\")"
   ]
  },
  {
   "cell_type": "code",
   "execution_count": null,
   "id": "468ff6ab-d7e0-4d2a-b612-d0a4fa043e37",
   "metadata": {},
   "outputs": [],
   "source": [
    "fig,ax = plt.subplots(1,1)\n",
    "\n",
    "# compute a new transmission array in airmass x wl\n",
    "transmarray = np.zeros((NAM,NWLtest))\n",
    "    \n",
    "for idx_am,airmass in enumerate(airmasses):\n",
    "    transmarray[idx_am,:]  = emul.GetRayleighTransparencyArray(WLtest,airmass)\n",
    "    # normalize wrt airmass = 1 for each wavelength\n",
    "    #norm_am0 = np.copy(transmarray[0,:])\n",
    "    \n",
    "    # renormalize to first airmass\n",
    "    #for idx_am,airmass in enumerate(airmasses):\n",
    "    #    transmarray[idx_am,:] =  transmarray[idx_am,:]/norm_am0\n",
    "\n",
    "    # plot attenuation \n",
    "for idx_wl,wl in enumerate(WLtest):\n",
    "    x = airmasses\n",
    "    y = -2.5*np.log10(transmarray[:,idx_wl])\n",
    "    y_pyE = -2.5*np.log10(np.exp(-rayleigh_extinction[idx_wl]*x))\n",
    "        \n",
    "    bin_number_for_wl = np.digitize(wl,WLtest)-1\n",
    "    the_wl_color = hls_colors[bin_number_for_wl]\n",
    "    ls = linestyles[0]\n",
    "    lw = linewidths[0]\n",
    "\n",
    "    \n",
    "    label = \"$\\\\lambda = $\" + f\"{wl:.0f} nm\"\n",
    "    ax.plot(x,y,color=the_wl_color,ls = ls,lw=lw,label=label)\n",
    "    ax.plot(x,y_pyE,color=the_wl_color,lw=0,marker=\"o\")\n",
    "        \n",
    "#ax.legend(loc='upper right')\n",
    "ax.legend(bbox_to_anchor=(1.05, 1.01))\n",
    "ax.set_xlabel(\"$airmass$\")  \n",
    "ax.set_ylabel(\"$-2.5\\\\log_{10}(T_{rayleigh)}$ (mag)\")  \n",
    "ax.set_title(\"Rayleigh scatt extinction vs $airmass$\")"
   ]
  },
  {
   "cell_type": "code",
   "execution_count": null,
   "id": "7ab62149-3536-4640-bc27-d3a00de3bf3e",
   "metadata": {},
   "outputs": [],
   "source": [
    "fig,ax = plt.subplots(1,1)\n",
    "\n",
    "# compute a new transmission array in airmass x wl\n",
    "transmarray = np.zeros((NAM,NWLtest))\n",
    "    \n",
    "for idx_am,airmass in enumerate(airmasses):\n",
    "    transmarray[idx_am,:]  = emul.GetRayleighTransparencyArray(WLtest,airmass)\n",
    "    # normalize wrt airmass = 1 for each wavelength\n",
    "    #norm_am0 = np.copy(transmarray[0,:])\n",
    "    \n",
    "    # renormalize to first airmass\n",
    "    #for idx_am,airmass in enumerate(airmasses):\n",
    "    #    transmarray[idx_am,:] =  transmarray[idx_am,:]/norm_am0\n",
    "\n",
    "    # plot attenuation \n",
    "for idx_wl,wl in enumerate(WLtest):\n",
    "    x = np.log10(airmasses)\n",
    "    y = -2.5*np.log10(transmarray[:,idx_wl])\n",
    "    y_pyE = -2.5*np.log10(np.exp(-rayleigh_extinction[idx_wl]*airmasses))\n",
    "        \n",
    "    bin_number_for_wl = np.digitize(wl,WLtest)-1\n",
    "    the_wl_color = hls_colors[bin_number_for_wl]\n",
    "    ls = linestyles[0]\n",
    "    lw = linewidths[0]\n",
    "\n",
    "    \n",
    "    label = \"$\\\\lambda = $\" + f\"{wl:.0f} nm\"\n",
    "    ax.plot(x,y,color=the_wl_color,ls = ls,lw=lw,label=label)\n",
    "    ax.plot(x,y_pyE,color=the_wl_color,lw=0,marker=\"o\")\n",
    "        \n",
    "#ax.legend(loc='upper right')\n",
    "ax.legend(bbox_to_anchor=(1.05, 1.01))\n",
    "ax.set_xlabel(\"$\\\\log_{10}(airmass)$\")  \n",
    "ax.set_ylabel(\"$-2.5\\\\log_{10}(T_{rayleigh)}$ (mag)\")  \n",
    "ax.set_title(\"Rayleigh scatt extinction vs $airmass$\")"
   ]
  },
  {
   "cell_type": "markdown",
   "id": "a0de02ae-7670-429c-841e-60a86a88885f",
   "metadata": {},
   "source": [
    "## Fit"
   ]
  },
  {
   "cell_type": "code",
   "execution_count": null,
   "id": "945eb4af-54bf-4c5e-bbd3-95d359a6b8e1",
   "metadata": {},
   "outputs": [],
   "source": [
    "xfit = np.linspace(0.0,3.,100)\n",
    "\n",
    "fig,ax = plt.subplots(1,1)\n",
    "\n",
    "# compute a new transmission array in airmass x wl\n",
    "transmarray = np.zeros((NAM,NWLtest))\n",
    "    \n",
    "for idx_am,airmass in enumerate(airmasses):\n",
    "    transmarray[idx_am,:]  = emul.GetRayleighTransparencyArray(WLtest,airmass)\n",
    "\n",
    "# plot attenuation \n",
    "for idx_wl,wl in enumerate(WLtest):\n",
    "    x = airmasses\n",
    "    y = -2.5*np.log10(transmarray[:,idx_wl])\n",
    "    y_pyE = -2.5*np.log10(np.exp(-rayleigh_extinction[idx_wl]*x))\n",
    "\n",
    "    z = np.polyfit(x, y, deg=1)\n",
    "    p = np.poly1d(z)\n",
    "    gamma = z[0]*1000\n",
    "    const = z[1]*1000\n",
    "    \n",
    "        \n",
    "    bin_number_for_wl = np.digitize(wl,WLtest)-1\n",
    "    the_wl_color = hls_colors[bin_number_for_wl]\n",
    "    ls = linestyles[0]\n",
    "    lw = linewidths[0]\n",
    "\n",
    "    \n",
    "    label = \"$\\\\lambda$ = \"+f\"{wl:.0f} nm \"+ f\"fit : slope = {gamma:.2f} mmag/airmass const = {const:.2f} mmag\"\n",
    "    \n",
    "    ax.plot(x,y,color=the_wl_color,ls = ls,lw=lw,label=label)\n",
    "    ax.plot(xfit,p(xfit),'-.',color=\"k\")\n",
    "    ax.plot(x,y_pyE,color=\"k\",lw=0,marker=\"+\")\n",
    "        \n",
    "#ax.legend(loc='upper right')\n",
    "ax.legend(bbox_to_anchor=(1.05, 1.01))\n",
    "ax.set_xlabel(\"$airmass$\")  \n",
    "ax.set_ylabel(\"$-2.5\\\\log_{10}(T_{rayleigh)}$ (mag)\")  \n",
    "ax.set_title(\"Rayleigh scatt extinction vs $airmass$\")"
   ]
  },
  {
   "cell_type": "code",
   "execution_count": null,
   "id": "a84d29a9-47d9-40a0-837e-ecdffa426bd3",
   "metadata": {},
   "outputs": [],
   "source": [
    "xfit = np.log10(np.linspace(0.5,3.,100))\n",
    "\n",
    "fig,ax = plt.subplots(1,1)\n",
    "\n",
    "# compute a new transmission array in airmass x wl\n",
    "transmarray = np.zeros((NAM,NWLtest))\n",
    "    \n",
    "for idx_am,airmass in enumerate(airmasses):\n",
    "    transmarray[idx_am,:]  = emul.GetRayleighTransparencyArray(WLtest,airmass)\n",
    "\n",
    "# plot attenuation \n",
    "for idx_wl,wl in enumerate(WLtest):\n",
    "    x = np.log10(airmasses)\n",
    "    y = -2.5*np.log10(transmarray[:,idx_wl])\n",
    "    y_pyE = -2.5*np.log10(np.exp(-rayleigh_extinction[idx_wl]*airmasses))\n",
    "\n",
    "    z = np.polyfit(x, y, deg=1)\n",
    "    p = np.poly1d(z)\n",
    "    gamma = z[0]*1000.\n",
    "    const = z[1]*1000.\n",
    "    \n",
    "        \n",
    "    bin_number_for_wl = np.digitize(wl,WLtest)-1\n",
    "    the_wl_color = hls_colors[bin_number_for_wl]\n",
    "    ls = linestyles[0]\n",
    "    lw = linewidths[0]\n",
    "\n",
    "    \n",
    "    label = \"$\\\\lambda$ = \"+f\"{wl:.0f} nm \"+ f\"fit : slope = {gamma:.2f} mmag/log10(airmass) const = {const:.2f} mmag\"\n",
    "    \n",
    "    ax.plot(x,y,color=the_wl_color,ls = ls,lw=lw,label=label)\n",
    "    ax.plot(xfit,p(xfit),'-.',color=\"k\")\n",
    "    ax.plot(x,y_pyE,color=\"k\",lw=0,marker=\"+\")\n",
    "        \n",
    "#ax.legend(loc='upper right')\n",
    "ax.legend(bbox_to_anchor=(1.05, 1.01))\n",
    "ax.set_xlabel(\"$\\\\log_{10}(airmass)$\")  \n",
    "ax.set_ylabel(\"$-2.5\\\\log_{10}(T_{rayleigh)}$\")  \n",
    "ax.set_title(\"Rayleigh scatt extinction vs $airmass$\")"
   ]
  },
  {
   "cell_type": "code",
   "execution_count": null,
   "id": "2d026317-237d-49b8-8cfa-3a86501d932e",
   "metadata": {},
   "outputs": [],
   "source": [
    "xfit = np.linspace(0.5,3.,100)\n",
    "\n",
    "fig,ax = plt.subplots(1,1)\n",
    "\n",
    "# compute a new transmission array in airmass x wl\n",
    "transmarray = np.zeros((NAM,NWLtest))\n",
    "    \n",
    "for idx_am,airmass in enumerate(airmasses):\n",
    "    transmarray[idx_am,:]  = emul.GetRayleighTransparencyArray(WLtest,airmass)\n",
    "\n",
    "# plot attenuation \n",
    "for idx_wl,wl in enumerate(WLtest):\n",
    "    x = airmasses\n",
    "    y = np.log(transmarray[:,idx_wl])\n",
    "    y_pyE = np.log(np.exp(-rayleigh_extinction[idx_wl]*x))\n",
    "\n",
    "    z = np.polyfit(x, y, deg=1)\n",
    "    p = np.poly1d(z)\n",
    "    gamma = z[0]\n",
    "    const = z[1]\n",
    "    \n",
    "        \n",
    "    bin_number_for_wl = np.digitize(wl,WLtest)-1\n",
    "    the_wl_color = hls_colors[bin_number_for_wl]\n",
    "    ls = linestyles[0]\n",
    "    lw = linewidths[0]\n",
    "\n",
    "    \n",
    "    label = \"$\\\\lambda$ = \"+f\"{wl:.0f} nm \"+ f\"fit : slope = {gamma:.3f} const = {const:.3f}\"\n",
    "\n",
    "    ratio_extinction = y/p(x)\n",
    "    ratio_extinction_pyE = y_pyE/p(x)\n",
    "    \n",
    "    ax.plot(x,ratio_extinction,color=the_wl_color,ls = ls,lw=lw,label=label)\n",
    "    ax.plot(x,ratio_extinction_pyE,color=\"k\",lw=0.5,marker=\"+\")\n",
    "        \n",
    "#ax.legend(loc='upper right')\n",
    "ax.legend(bbox_to_anchor=(1.05, 1.01))\n",
    "ax.set_xlabel(\"$airmass$\")  \n",
    "ax.set_ylabel(\"extinction ratio\")  \n",
    "ax.set_title(\"Rayleigh scatt extinction-ratio data/fit value vs $airmass$\")"
   ]
  },
  {
   "cell_type": "code",
   "execution_count": null,
   "id": "8a63cab5-f83d-42c4-8fa5-dd50534a95fc",
   "metadata": {},
   "outputs": [],
   "source": [
    "xfit = np.log10(np.linspace(0.5,3.,100))\n",
    "fig,ax = plt.subplots(1,1)\n",
    "\n",
    "# compute a new transmission array in airmass x wl\n",
    "transmarray = np.zeros((NAM,NWLtest))\n",
    "    \n",
    "for idx_am,airmass in enumerate(airmasses):\n",
    "    transmarray[idx_am,:]  = emul.GetRayleighTransparencyArray(WLtest,airmass)\n",
    "\n",
    "# plot attenuation \n",
    "for idx_wl,wl in enumerate(WLtest):\n",
    "    x = np.log10(airmasses)\n",
    "    y = -2.5*np.log10(transmarray[:,idx_wl])\n",
    "    y_pyE = -2.5*np.log10(np.exp(-rayleigh_extinction[idx_wl]*airmasses))\n",
    "\n",
    "    z = np.polyfit(x, y, deg=1)\n",
    "    p = np.poly1d(z)\n",
    "    gamma = z[0]\n",
    "    const = z[1]\n",
    "    \n",
    "        \n",
    "    bin_number_for_wl = np.digitize(wl,WLtest)-1\n",
    "    the_wl_color = hls_colors[bin_number_for_wl]\n",
    "    ls = linestyles[0]\n",
    "    lw = linewidths[0]\n",
    "\n",
    "    \n",
    "    label = \"$\\\\lambda$ = \"+f\"{wl:.0f} nm \"+ f\"fit : slope = {gamma:.3f} const = {const:.3f}\"\n",
    "\n",
    "    ratio_extinction = y/p(x)\n",
    "    ratio_extinction_pyE = y_pyE/p(x)\n",
    "    \n",
    "    ax.plot(x,ratio_extinction,color=the_wl_color,ls = ls,lw=lw,label=label)\n",
    "    ax.plot(x,ratio_extinction_pyE,color=\"k\",lw=0.5,marker=\"+\")\n",
    "        \n",
    "#ax.legend(loc='upper right')\n",
    "ax.legend(bbox_to_anchor=(1.05, 1.01))\n",
    "ax.set_xlabel(\"$\\\\log_{10}(airmass)$\")  \n",
    "ax.set_ylabel(\"extinction ratio\")  \n",
    "ax.set_title(\"Rayleigh scatt extinction-ratio data/fit value vs $airmass$\")"
   ]
  },
  {
   "cell_type": "code",
   "execution_count": null,
   "id": "6242c157-1fd4-48f9-a4ee-359435cacd18",
   "metadata": {},
   "outputs": [],
   "source": []
  }
 ],
 "metadata": {
  "kernelspec": {
   "display_name": "conda_py310",
   "language": "python",
   "name": "conda_py310"
  },
  "language_info": {
   "codemirror_mode": {
    "name": "ipython",
    "version": 3
   },
   "file_extension": ".py",
   "mimetype": "text/x-python",
   "name": "python",
   "nbconvert_exporter": "python",
   "pygments_lexer": "ipython3",
   "version": "3.10.12"
  },
  "vscode": {
   "interpreter": {
    "hash": "b002c99f66c5bb850ebba7ae0c2124f7695114407038504fe88ddf9182cfa7d8"
   }
  }
 },
 "nbformat": 4,
 "nbformat_minor": 5
}
