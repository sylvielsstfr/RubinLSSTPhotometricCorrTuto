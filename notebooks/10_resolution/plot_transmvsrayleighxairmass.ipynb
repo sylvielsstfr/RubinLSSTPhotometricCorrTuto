{
 "cells": [
  {
   "cell_type": "markdown",
   "id": "d5d58322-4791-4bff-9c51-916d345e085e",
   "metadata": {},
   "source": [
    "# Dependance of Rayleigh wrt airmass\n",
    "\n",
    "- author : Sylvie Dagoret-Campagne\n",
    "- affiliation : IJCLab/IN2P3/CNRS\n",
    "- creation date : 2024/11/24\n",
    "- last update : 2024/12/05\n",
    "\n",
    "\n",
    "This emulator is based from datagrid of atmospheric transparencies extracted from libradtran"
   ]
  },
  {
   "cell_type": "code",
   "execution_count": null,
   "id": "eeb7872a-03c9-421f-8fd7-6ba5c508ff79",
   "metadata": {
    "tags": []
   },
   "outputs": [],
   "source": [
    "import seaborn as sns\n",
    "import matplotlib.pyplot as plt\n",
    "%matplotlib inline\n",
    "import numpy as np\n",
    "\n",
    "# to enlarge the sizes\n",
    "params = {'legend.fontsize': 'large',\n",
    "          'figure.figsize': (10, 6),\n",
    "         'axes.labelsize': 'xx-large',\n",
    "         'axes.titlesize':'xx-large',\n",
    "         'xtick.labelsize':'xx-large',\n",
    "         'ytick.labelsize':'xx-large'}\n",
    "plt.rcParams.update(params)"
   ]
  },
  {
   "cell_type": "code",
   "execution_count": null,
   "id": "276967f2-8c58-4110-83cf-aebc9b4ef95a",
   "metadata": {
    "tags": []
   },
   "outputs": [],
   "source": [
    "import warnings\n",
    "warnings.filterwarnings('ignore')"
   ]
  },
  {
   "cell_type": "markdown",
   "id": "b0a9c40d-f5f4-4aca-b4fa-de020205e534",
   "metadata": {},
   "source": [
    "# Imports"
   ]
  },
  {
   "cell_type": "code",
   "execution_count": null,
   "id": "5f685430-bb32-4285-b556-20db4a226faf",
   "metadata": {},
   "outputs": [],
   "source": [
    "from getObsAtmo.getObsAtmo import ObsAtmo,validateObsName,Dict_Of_sitesPressures,getObsSiteDataFrame"
   ]
  },
  {
   "cell_type": "markdown",
   "id": "ae725422-ec9e-4ee4-bc95-012499cf117c",
   "metadata": {},
   "source": [
    "# Check information"
   ]
  },
  {
   "cell_type": "code",
   "execution_count": null,
   "id": "8bf39dcb-64b2-4ef9-a34e-5066d58c7959",
   "metadata": {
    "tags": []
   },
   "outputs": [],
   "source": [
    "Dict_Of_sitesPressures"
   ]
  },
  {
   "cell_type": "markdown",
   "id": "632dafeb-3ab5-4249-a035-729ed239485e",
   "metadata": {},
   "source": [
    "### Choose Rubin-LSST observation sites but other sites may be chosen"
   ]
  },
  {
   "cell_type": "code",
   "execution_count": null,
   "id": "3651e0ba-0e55-4109-8f85-0ab083251b90",
   "metadata": {
    "tags": []
   },
   "outputs": [],
   "source": [
    "obssitename = 'LSST'\n",
    "obs_str = validateObsName(obssitename) \n",
    "std_pressure = Dict_Of_sitesPressures[obs_str]"
   ]
  },
  {
   "cell_type": "code",
   "execution_count": null,
   "id": "20c662f8-d964-4b92-bfb5-a9e14a4e3e9b",
   "metadata": {},
   "outputs": [],
   "source": [
    "emul =  ObsAtmo(obs_str= obssitename)"
   ]
  },
  {
   "cell_type": "markdown",
   "id": "1070eded-26f6-4b27-abf9-c7bf9a08e89e",
   "metadata": {},
   "source": [
    "# Typical transmission plot\n",
    "\n",
    "- show a typical transmission plot"
   ]
  },
  {
   "cell_type": "code",
   "execution_count": null,
   "id": "6b7ea685-a3c4-4eae-895a-3ef8cca32436",
   "metadata": {},
   "outputs": [],
   "source": [
    "emul.plot_transmission()"
   ]
  },
  {
   "cell_type": "markdown",
   "id": "1949a817-9985-48b0-8735-e5bcf8e285a9",
   "metadata": {},
   "source": [
    "# Setting atmospheric parameters"
   ]
  },
  {
   "cell_type": "code",
   "execution_count": null,
   "id": "d93ddef0-1570-42a7-8ab2-edc8cf755d14",
   "metadata": {},
   "outputs": [],
   "source": [
    "WL = emul.GetWL()\n",
    "airmasses = emul.AIRMASS\n",
    "NAM = len(airmasses)\n",
    "pwvs = emul.PWV\n",
    "NPWV = len(pwvs)\n",
    "ozs = emul.OZ\n",
    "NOZ = len(ozs)"
   ]
  },
  {
   "cell_type": "code",
   "execution_count": null,
   "id": "7e171653-966b-402b-9cae-bb95d5918504",
   "metadata": {},
   "outputs": [],
   "source": [
    "airmasses"
   ]
  },
  {
   "cell_type": "code",
   "execution_count": null,
   "id": "43201a59-1fa5-4380-ab6d-72e54525cbc6",
   "metadata": {},
   "outputs": [],
   "source": [
    "hls_colors = sns.color_palette(\"hls\", NAM)\n",
    "sns.palplot(hls_colors)"
   ]
  },
  {
   "cell_type": "markdown",
   "id": "a8985efb-aa83-47c6-bf4b-ca95c9630427",
   "metadata": {},
   "source": [
    "## Check emulator with Rayleigh scattering"
   ]
  },
  {
   "cell_type": "markdown",
   "id": "29d89c7e-b5f6-4315-89b0-b6734b8e1a05",
   "metadata": {},
   "source": [
    "Expect no difference"
   ]
  },
  {
   "cell_type": "code",
   "execution_count": null,
   "id": "60bddbab-27d1-4dc6-815b-15d8bb2adde0",
   "metadata": {},
   "outputs": [],
   "source": [
    "hls_colors = sns.color_palette(\"hls\", NPWV)\n",
    "sns.palplot(hls_colors)"
   ]
  },
  {
   "cell_type": "code",
   "execution_count": null,
   "id": "cd3108cf-1d0e-4581-a630-eac510a45d52",
   "metadata": {},
   "outputs": [],
   "source": [
    "WLtest = np.arange(350,1000,100)"
   ]
  },
  {
   "cell_type": "code",
   "execution_count": null,
   "id": "5ceb18a1-f692-46eb-940b-50052eea3f7d",
   "metadata": {},
   "outputs": [],
   "source": [
    "WLtest"
   ]
  },
  {
   "cell_type": "code",
   "execution_count": null,
   "id": "3421b63d-3603-4bcc-b06a-fb8ba98bf618",
   "metadata": {},
   "outputs": [],
   "source": [
    "am =1\n",
    "\n",
    "fig, ax = plt.subplots()\n",
    "\n",
    "transm = emul.GetRayleighTransparencyArray(WL,am)\n",
    "  \n",
    "  \n",
    "ax.plot(WL,transm,\"-\",color=hls_colors[0])\n",
    "        \n",
    "title = f\"ObsAtmo : Rayleigh scattering)\"\n",
    "ax.set_title(title)\n",
    "ax.set_xlabel(\"$\\lambda$ (nm)\")\n",
    "ax.set_ylabel(\"transmission\")\n",
    "#ax.set_xlim(680.,780.)\n",
    "# place a text box in upper left in axes coords\n",
    "#ax.text(0.5, 0.05, textboxstr, transform=ax.transAxes, fontsize=14,verticalalignment='bottom', bbox=textboxprops)\n",
    "ax.grid()\n",
    "ax.legend()\n",
    "\n",
    "for wl in WLtest:\n",
    "    ax.axvline(wl,color=\"k\")\n",
    "\n",
    "plt.show()"
   ]
  },
  {
   "cell_type": "markdown",
   "id": "ca17ebfa-1e0e-4852-8f94-86d148b2e019",
   "metadata": {},
   "source": [
    "## Dependence with airmass"
   ]
  },
  {
   "cell_type": "code",
   "execution_count": null,
   "id": "c9de55bf-6ec5-4bc8-8d1d-719a83e650e3",
   "metadata": {},
   "outputs": [],
   "source": [
    "WLtest = np.arange(350,1050,50)\n",
    "NWLtest = len(WLtest)\n",
    "hls_colors = sns.color_palette(\"Spectral_r\", NWLtest)\n",
    "#hls_colors = sns.color_palette(\"coolwarm\",NWLtest)\n",
    "#sns.palplot(hls_colors)\n",
    "sns.palplot(hls_colors)"
   ]
  },
  {
   "cell_type": "code",
   "execution_count": null,
   "id": "dbc30443-f0a0-4d6c-9847-236ec282222a",
   "metadata": {},
   "outputs": [],
   "source": [
    "binnumber = np.digitize(WLtest,WLtest)\n",
    "binnumber"
   ]
  },
  {
   "cell_type": "code",
   "execution_count": null,
   "id": "3f3f7397-4660-49ce-9baf-a9f44d7ee62b",
   "metadata": {},
   "outputs": [],
   "source": [
    "linestyles = [\"-\",\"--\",\"-.\",\":\",  \"-\",\"--\",\"-.\",\":\"]\n",
    "linewidths = [4,4,4,4,2,2,2,2]"
   ]
  },
  {
   "cell_type": "code",
   "execution_count": null,
   "id": "1afa6490-6d2d-41a9-a591-1dbe8f063987",
   "metadata": {},
   "outputs": [],
   "source": [
    "am =1\n",
    "\n",
    "fig, ax = plt.subplots()\n",
    "\n",
    "transm = emul.GetRayleighTransparencyArray(WL,am)\n",
    "\n",
    "ax.plot(WL,transm,\"-\",color=\"k\")\n",
    "        \n",
    "title = f\"ObsAtmo : Rayleigh scattering\"\n",
    "ax.set_title(title)\n",
    "ax.set_xlabel(\"$\\lambda$ (nm)\")\n",
    "ax.set_ylabel(\"transmission\")\n",
    "#ax.set_xlim(680.,780.)\n",
    "# place a text box in upper left in axes coords\n",
    "#ax.text(0.5, 0.05, textboxstr, transform=ax.transAxes, fontsize=14,verticalalignment='bottom', bbox=textboxprops)\n",
    "\n",
    "for idx,wl in enumerate(WLtest):\n",
    "    ax.axvline(wl,color=hls_colors[idx])\n",
    "\n",
    "ax.grid()\n",
    "ax.legend()\n"
   ]
  },
  {
   "cell_type": "markdown",
   "id": "1948a1e9-19c5-4797-9e01-a9dd4b790bc1",
   "metadata": {},
   "source": [
    "## Plot"
   ]
  },
  {
   "cell_type": "code",
   "execution_count": null,
   "id": "7ddb7c60-7c46-45cc-8c2f-142befd26b35",
   "metadata": {},
   "outputs": [],
   "source": [
    "fig,ax = plt.subplots(1,1)\n",
    "\n",
    "# compute a new transmission array in airmass x wl\n",
    "transmarray = np.zeros((NAM,NWLtest))\n",
    "    \n",
    "for idx_am,airmass in enumerate(airmasses):\n",
    "    transmarray[idx_am,:]  = emul.GetRayleighTransparencyArray(WLtest,airmass)\n",
    "    # normalize wrt airmass = 1 for each wavelength\n",
    "    #norm_am0 = np.copy(transmarray[0,:])\n",
    "    \n",
    "    # renormalize to first airmass\n",
    "    #for idx_am,airmass in enumerate(airmasses):\n",
    "    #    transmarray[idx_am,:] =  transmarray[idx_am,:]/norm_am0\n",
    "\n",
    "    # plot attenuation \n",
    "for idx_wl,wl in enumerate(WLtest):\n",
    "    x = airmasses\n",
    "    y = transmarray[:,idx_wl]\n",
    "        \n",
    "    bin_number_for_wl = np.digitize(wl,WLtest)-1\n",
    "    the_wl_color = hls_colors[bin_number_for_wl]\n",
    "    ls = linestyles[0]\n",
    "    lw = linewidths[0]\n",
    "\n",
    "    \n",
    "    label = \"$\\\\lambda = $\" + f\"{wl:.0f} nm\"\n",
    "    ax.plot(x,y,color=the_wl_color,ls = ls,lw=lw,label=label)\n",
    "        \n",
    "#ax.legend(loc='upper right')\n",
    "ax.legend(bbox_to_anchor=(1.05, 1.01))\n",
    "ax.set_xlabel(\"$airmass$\")  \n",
    "ax.set_ylabel(\"$T_{rayleigh}$\")  \n",
    "ax.set_title(\"Rayleigh scatt transmission vs $airmass$\")"
   ]
  },
  {
   "cell_type": "code",
   "execution_count": null,
   "id": "468ff6ab-d7e0-4d2a-b612-d0a4fa043e37",
   "metadata": {},
   "outputs": [],
   "source": [
    "fig,ax = plt.subplots(1,1)\n",
    "\n",
    "# compute a new transmission array in airmass x wl\n",
    "transmarray = np.zeros((NAM,NWLtest))\n",
    "    \n",
    "for idx_am,airmass in enumerate(airmasses):\n",
    "    transmarray[idx_am,:]  = emul.GetRayleighTransparencyArray(WLtest,airmass)\n",
    "    # normalize wrt airmass = 1 for each wavelength\n",
    "    #norm_am0 = np.copy(transmarray[0,:])\n",
    "    \n",
    "    # renormalize to first airmass\n",
    "    #for idx_am,airmass in enumerate(airmasses):\n",
    "    #    transmarray[idx_am,:] =  transmarray[idx_am,:]/norm_am0\n",
    "\n",
    "    # plot attenuation \n",
    "for idx_wl,wl in enumerate(WLtest):\n",
    "    x = airmasses\n",
    "    y = -2.5*np.log10(transmarray[:,idx_wl])\n",
    "        \n",
    "    bin_number_for_wl = np.digitize(wl,WLtest)-1\n",
    "    the_wl_color = hls_colors[bin_number_for_wl]\n",
    "    ls = linestyles[0]\n",
    "    lw = linewidths[0]\n",
    "\n",
    "    \n",
    "    label = \"$\\\\lambda = $\" + f\"{wl:.0f} nm\"\n",
    "    ax.plot(x,y,color=the_wl_color,ls = ls,lw=lw,label=label)\n",
    "        \n",
    "#ax.legend(loc='upper right')\n",
    "ax.legend(bbox_to_anchor=(1.05, 1.01))\n",
    "ax.set_xlabel(\"$airmass$\")  \n",
    "ax.set_ylabel(\"$-2.5\\\\log_{10}(T_{rayleigh)}$ (mag)\")  \n",
    "ax.set_title(\"Rayleigh scatt extinction vs $airmass$\")"
   ]
  },
  {
   "cell_type": "code",
   "execution_count": null,
   "id": "7ab62149-3536-4640-bc27-d3a00de3bf3e",
   "metadata": {},
   "outputs": [],
   "source": [
    "fig,ax = plt.subplots(1,1)\n",
    "\n",
    "# compute a new transmission array in airmass x wl\n",
    "transmarray = np.zeros((NAM,NWLtest))\n",
    "    \n",
    "for idx_am,airmass in enumerate(airmasses):\n",
    "    transmarray[idx_am,:]  = emul.GetRayleighTransparencyArray(WLtest,airmass)\n",
    "    # normalize wrt airmass = 1 for each wavelength\n",
    "    #norm_am0 = np.copy(transmarray[0,:])\n",
    "    \n",
    "    # renormalize to first airmass\n",
    "    #for idx_am,airmass in enumerate(airmasses):\n",
    "    #    transmarray[idx_am,:] =  transmarray[idx_am,:]/norm_am0\n",
    "\n",
    "    # plot attenuation \n",
    "for idx_wl,wl in enumerate(WLtest):\n",
    "    x = np.log10(airmasses)\n",
    "    y = -2.5*np.log10(transmarray[:,idx_wl])\n",
    "        \n",
    "    bin_number_for_wl = np.digitize(wl,WLtest)-1\n",
    "    the_wl_color = hls_colors[bin_number_for_wl]\n",
    "    ls = linestyles[0]\n",
    "    lw = linewidths[0]\n",
    "\n",
    "    \n",
    "    label = \"$\\\\lambda = $\" + f\"{wl:.0f} nm\"\n",
    "    ax.plot(x,y,color=the_wl_color,ls = ls,lw=lw,label=label)\n",
    "        \n",
    "#ax.legend(loc='upper right')\n",
    "ax.legend(bbox_to_anchor=(1.05, 1.01))\n",
    "ax.set_xlabel(\"$\\\\log_{10}(airmass)$\")  \n",
    "ax.set_ylabel(\"$-2.5\\\\log_{10}(T_{rayleigh)}$ (mag)\")  \n",
    "ax.set_title(\"Rayleigh scatt extinction vs $airmass$\")"
   ]
  },
  {
   "cell_type": "markdown",
   "id": "a0de02ae-7670-429c-841e-60a86a88885f",
   "metadata": {},
   "source": [
    "## Fit"
   ]
  },
  {
   "cell_type": "code",
   "execution_count": null,
   "id": "945eb4af-54bf-4c5e-bbd3-95d359a6b8e1",
   "metadata": {},
   "outputs": [],
   "source": [
    "xfit = np.linspace(0.,3.,100)\n",
    "\n",
    "fig,ax = plt.subplots(1,1)\n",
    "\n",
    "# compute a new transmission array in airmass x wl\n",
    "transmarray = np.zeros((NAM,NWLtest))\n",
    "    \n",
    "for idx_am,airmass in enumerate(airmasses):\n",
    "    transmarray[idx_am,:]  = emul.GetRayleighTransparencyArray(WLtest,airmass)\n",
    "\n",
    "# plot attenuation \n",
    "for idx_wl,wl in enumerate(WLtest):\n",
    "    x = airmasses\n",
    "    y = -2.5*np.log10(transmarray[:,idx_wl])\n",
    "\n",
    "    z = np.polyfit(x, y, deg=1)\n",
    "    p = np.poly1d(z)\n",
    "    gamma = z[0]\n",
    "    const = z[1]\n",
    "    \n",
    "        \n",
    "    bin_number_for_wl = np.digitize(wl,WLtest)-1\n",
    "    the_wl_color = hls_colors[bin_number_for_wl]\n",
    "    ls = linestyles[0]\n",
    "    lw = linewidths[0]\n",
    "\n",
    "    \n",
    "    label = \"$\\\\lambda$ = \"+f\"{wl:.0f} nm \"+ f\"fit : slope = {gamma:.3f} mag/airmass const = {const:.3f} mag\"\n",
    "    \n",
    "    ax.plot(x,y,color=the_wl_color,ls = ls,lw=lw,label=label)\n",
    "    ax.plot(xfit,p(xfit),'-.',color=\"k\")\n",
    "        \n",
    "#ax.legend(loc='upper right')\n",
    "ax.legend(bbox_to_anchor=(1.05, 1.01))\n",
    "ax.set_xlabel(\"$airmass$\")  \n",
    "ax.set_ylabel(\"$-2.5\\\\log_{10}(T_{rayleigh)}$ (mag)\")  \n",
    "ax.set_title(\"Rayleigh scatt extinction vs $airmass$\")"
   ]
  },
  {
   "cell_type": "code",
   "execution_count": null,
   "id": "a84d29a9-47d9-40a0-837e-ecdffa426bd3",
   "metadata": {},
   "outputs": [],
   "source": [
    "xfit = np.log10(np.linspace(0.5,3.,100))\n",
    "\n",
    "fig,ax = plt.subplots(1,1)\n",
    "\n",
    "# compute a new transmission array in airmass x wl\n",
    "transmarray = np.zeros((NAM,NWLtest))\n",
    "    \n",
    "for idx_am,airmass in enumerate(airmasses):\n",
    "    transmarray[idx_am,:]  = emul.GetRayleighTransparencyArray(WLtest,airmass)\n",
    "\n",
    "# plot attenuation \n",
    "for idx_wl,wl in enumerate(WLtest):\n",
    "    x = np.log10(airmasses)\n",
    "    y = -2.5*np.log10(transmarray[:,idx_wl])\n",
    "\n",
    "    z = np.polyfit(x, y, deg=1)\n",
    "    p = np.poly1d(z)\n",
    "    gamma = z[0]\n",
    "    const = z[1]\n",
    "    \n",
    "        \n",
    "    bin_number_for_wl = np.digitize(wl,WLtest)-1\n",
    "    the_wl_color = hls_colors[bin_number_for_wl]\n",
    "    ls = linestyles[0]\n",
    "    lw = linewidths[0]\n",
    "\n",
    "    \n",
    "    label = \"$\\\\lambda$ = \"+f\"{wl:.0f} nm \"+ f\"fit : slope = {gamma:.3f} mag/log10(am) const = {const:.3f} mag\"\n",
    "    \n",
    "    ax.plot(x,y,color=the_wl_color,ls = ls,lw=lw,label=label)\n",
    "    ax.plot(xfit,p(xfit),'-.',color=\"k\")\n",
    "        \n",
    "#ax.legend(loc='upper right')\n",
    "ax.legend(bbox_to_anchor=(1.05, 1.01))\n",
    "ax.set_xlabel(\"$\\\\log_{10}(airmass)$\")  \n",
    "ax.set_ylabel(\"$-2.5\\\\log_{10}(T_{rayleigh)}$ (mag)\")  \n",
    "ax.set_title(\"Rayleigh scatt extinction vs $airmass$\")"
   ]
  },
  {
   "cell_type": "code",
   "execution_count": null,
   "id": "2d026317-237d-49b8-8cfa-3a86501d932e",
   "metadata": {},
   "outputs": [],
   "source": [
    "xfit = np.linspace(0.5,3.,100)\n",
    "\n",
    "fig,ax = plt.subplots(1,1)\n",
    "\n",
    "# compute a new transmission array in airmass x wl\n",
    "transmarray = np.zeros((NAM,NWLtest))\n",
    "    \n",
    "for idx_am,airmass in enumerate(airmasses):\n",
    "    transmarray[idx_am,:]  = emul.GetRayleighTransparencyArray(WLtest,airmass)\n",
    "\n",
    "# plot attenuation \n",
    "for idx_wl,wl in enumerate(WLtest):\n",
    "    x = airmasses\n",
    "    y = np.log(transmarray[:,idx_wl])\n",
    "\n",
    "    z = np.polyfit(x, y, deg=1)\n",
    "    p = np.poly1d(z)\n",
    "    gamma = z[0]\n",
    "    const = z[1]\n",
    "    \n",
    "        \n",
    "    bin_number_for_wl = np.digitize(wl,WLtest)-1\n",
    "    the_wl_color = hls_colors[bin_number_for_wl]\n",
    "    ls = linestyles[0]\n",
    "    lw = linewidths[0]\n",
    "\n",
    "    \n",
    "    label = \"$\\\\lambda$ = \"+f\"{wl:.0f} nm \"+ f\"fit : slope = {gamma:.3f} const = {const:.3f}\"\n",
    "\n",
    "    ratio_extinction = y/p(x)\n",
    "    \n",
    "    ax.plot(x,ratio_extinction,color=the_wl_color,ls = ls,lw=lw,label=label)\n",
    "        \n",
    "#ax.legend(loc='upper right')\n",
    "ax.legend(bbox_to_anchor=(1.05, 1.01))\n",
    "ax.set_ylim(0.99,1.01)\n",
    "ax.set_xlabel(\"$airmass$\")  \n",
    "ax.set_ylabel(\"extinction ratio\")  \n",
    "ax.set_title(\"Rayleigh scatt extinction-ratio data/fit value vs $airmass$\")"
   ]
  },
  {
   "cell_type": "code",
   "execution_count": null,
   "id": "8a63cab5-f83d-42c4-8fa5-dd50534a95fc",
   "metadata": {},
   "outputs": [],
   "source": [
    "xfit = np.log10(np.linspace(0.5,3.,100))\n",
    "fig,ax = plt.subplots(1,1)\n",
    "\n",
    "# compute a new transmission array in airmass x wl\n",
    "transmarray = np.zeros((NAM,NWLtest))\n",
    "    \n",
    "for idx_am,airmass in enumerate(airmasses):\n",
    "    transmarray[idx_am,:]  = emul.GetRayleighTransparencyArray(WLtest,airmass)\n",
    "\n",
    "# plot attenuation \n",
    "for idx_wl,wl in enumerate(WLtest):\n",
    "    x = np.log10(airmasses)\n",
    "    y = -2.5*np.log10(transmarray[:,idx_wl])\n",
    "\n",
    "    z = np.polyfit(x, y, deg=1)\n",
    "    p = np.poly1d(z)\n",
    "    gamma = z[0]\n",
    "    const = z[1]\n",
    "    \n",
    "        \n",
    "    bin_number_for_wl = np.digitize(wl,WLtest)-1\n",
    "    the_wl_color = hls_colors[bin_number_for_wl]\n",
    "    ls = linestyles[0]\n",
    "    lw = linewidths[0]\n",
    "\n",
    "    \n",
    "    label = \"$\\\\lambda$ = \"+f\"{wl:.0f} nm \"+ f\"fit : slope = {gamma:.3f} const = {const:.3f}\"\n",
    "\n",
    "    ratio_extinction = y/p(x)\n",
    "    \n",
    "    ax.plot(x,ratio_extinction,color=the_wl_color,ls = ls,lw=lw,label=label)\n",
    "        \n",
    "#ax.legend(loc='upper right')\n",
    "ax.legend(bbox_to_anchor=(1.05, 1.01))\n",
    "ax.set_xlabel(\"$\\\\log_{10}(airmass)$\")  \n",
    "ax.set_ylabel(\"extinction ratio\")  \n",
    "ax.set_title(\"Rayleigh scatt extinction-ratio data/fit value vs $airmass$\")"
   ]
  }
 ],
 "metadata": {
  "kernelspec": {
   "display_name": "conda_py310",
   "language": "python",
   "name": "conda_py310"
  },
  "language_info": {
   "codemirror_mode": {
    "name": "ipython",
    "version": 3
   },
   "file_extension": ".py",
   "mimetype": "text/x-python",
   "name": "python",
   "nbconvert_exporter": "python",
   "pygments_lexer": "ipython3",
   "version": "3.10.12"
  },
  "vscode": {
   "interpreter": {
    "hash": "b002c99f66c5bb850ebba7ae0c2124f7695114407038504fe88ddf9182cfa7d8"
   }
  }
 },
 "nbformat": 4,
 "nbformat_minor": 5
}
