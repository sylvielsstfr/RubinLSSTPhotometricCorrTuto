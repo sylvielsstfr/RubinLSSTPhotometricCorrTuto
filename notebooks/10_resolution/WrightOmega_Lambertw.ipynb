{
 "cells": [
  {
   "cell_type": "markdown",
   "id": "65cbd1db-45b7-464f-a5d1-be98ed573847",
   "metadata": {},
   "source": [
    "# Study Omega Wright function and Lambert W function\n",
    "\n",
    "- author : Sylvie Dagoret-Campagne\n",
    "- creation date : 2024-12-05\n",
    "- last update : 2024-12-06\n"
   ]
  },
  {
   "cell_type": "code",
   "execution_count": null,
   "id": "a492dcec-9180-4864-9126-478f1f54f3cc",
   "metadata": {},
   "outputs": [],
   "source": [
    "import numpy as np\n",
    "import matplotlib.pyplot as plt\n",
    "%matplotlib inline\n",
    "import matplotlib as mpl\n",
    "import matplotlib.colors as colors\n",
    "import matplotlib.cm as cmx\n",
    "from mpl_toolkits.axes_grid1 import make_axes_locatable\n",
    "from matplotlib.colors import LogNorm\n",
    "from matplotlib.gridspec import GridSpec\n",
    "import pandas as pd\n",
    "\n",
    "import matplotlib.ticker                         # here's where the formatter is\n",
    "import os,sys\n",
    "import re\n",
    "import pandas as pd\n",
    "\n",
    "\n",
    "plt.rcParams[\"figure.figsize\"] = (6,4)\n",
    "plt.rcParams[\"axes.labelsize\"] = 'xx-large'\n",
    "plt.rcParams['axes.titlesize'] = 'xx-large'\n",
    "plt.rcParams['xtick.labelsize']= 'xx-large'\n",
    "plt.rcParams['ytick.labelsize']= 'xx-large'\n",
    "\n",
    "props = dict(boxstyle='round', facecolor='white', alpha=0.5)"
   ]
  },
  {
   "cell_type": "code",
   "execution_count": null,
   "id": "b9d2210e-275f-4e2a-b74f-caf173737c77",
   "metadata": {},
   "outputs": [],
   "source": [
    "from scipy.special import wrightomega, lambertw"
   ]
  },
  {
   "cell_type": "markdown",
   "id": "472a5dd6-b2bc-4a02-b6fe-e669a83f0833",
   "metadata": {},
   "source": [
    "## Check the shape of the Omega Wright function\n",
    "\n",
    "- https://en.wikipedia.org/wiki/Wright_omega_function\n",
    "\n",
    "\n",
    "$$\n",
    "\\omega_{Wright}(x) = W_{k=0, Lambert} (e^{x}) \n",
    "$$"
   ]
  },
  {
   "cell_type": "code",
   "execution_count": null,
   "id": "8eb738d2-e990-4591-b47b-8cf89ed983c9",
   "metadata": {},
   "outputs": [],
   "source": [
    "x = np.linspace(-4.,10.,1000)\n",
    "y_wro = wrightomega(x)\n",
    "y_lw  = lambertw(np.exp(x),0)"
   ]
  },
  {
   "cell_type": "code",
   "execution_count": null,
   "id": "fb124654-6e7d-4405-8e5a-6e2bdaadc1dc",
   "metadata": {},
   "outputs": [],
   "source": [
    "fig,ax = plt.subplots(1,1)\n",
    "ax.plot(x,y_wro,'r-',label=\"python Wright-omega function\")\n",
    "ax.plot(x,y_lw,'b:',label=\"python Wright-omega function through lambert W (k=0)\")\n",
    "ax.grid()\n",
    "ax.legend()\n",
    "ax.set_title(\"Wright-Omega function\")\n",
    "ax.set_xlabel(\"x\")\n",
    "ax.set_ylabel(\"y\")\n",
    "plt.show()"
   ]
  },
  {
   "cell_type": "markdown",
   "id": "a3eea723-9385-41b5-9d7a-b0af1b84409f",
   "metadata": {},
   "source": [
    "## Fonction de Lambert W\n",
    "\n",
    "https://fr.wikipedia.org/wiki/Fonction_W_de_Lambert"
   ]
  },
  {
   "cell_type": "code",
   "execution_count": null,
   "id": "f633b831-f283-42b5-a21a-3d1abc1a2d50",
   "metadata": {},
   "outputs": [],
   "source": [
    "x1 = np.linspace(-np.exp(-1.),3.,1000)\n",
    "x2 = np.linspace(-np.exp(-1.),0,1000)\n",
    "x3 = np.linspace(--np.exp(-1.),0,1000)\n",
    "\n",
    "y_lw_k0  = lambertw(x1,0)\n",
    "y_lw_km1  = lambertw(x2,-1)\n",
    "y_lw_kp1  = lambertw(x3,1)\n",
    "\n",
    "y_lw_km2  = lambertw(x1,-2)\n",
    "y_lw_kp2  = lambertw(x1,2)"
   ]
  },
  {
   "cell_type": "code",
   "execution_count": null,
   "id": "43036434-c340-424f-a8d5-fa778a3d174d",
   "metadata": {},
   "outputs": [],
   "source": [
    "fig,ax = plt.subplots(1,1)\n",
    "ax.plot(x1,y_lw_k0,'r-',label=\"python Lambert W function k=0\")\n",
    "ax.plot(x2,y_lw_km1,'b-',label=\"python Lambert W function k=-1\")\n",
    "ax.plot(x2,y_lw_kp1,'g-',label=\"python Lambert W function k=1\")\n",
    "\n",
    "ax.plot(x1,y_lw_km2,'-',color=\"magenta\",label=\"python Lambert W function k=-2\")\n",
    "ax.plot(x1,y_lw_kp2,'-',color=\"pink\",label=\"python Lambert W function k=2\")\n",
    "\n",
    "ax.grid()\n",
    "ax.legend()\n",
    "ax.set_xlabel(\"x\")\n",
    "ax.set_ylabel(\"y\")\n",
    "ax.set_title(\"Lambert W functions\")\n",
    "plt.show()"
   ]
  },
  {
   "cell_type": "code",
   "execution_count": null,
   "id": "93ce8dd5-9a5b-4e80-9012-ec61bbc19e3c",
   "metadata": {},
   "outputs": [],
   "source": [
    "x = np.linspace(-np.exp(-1.),3.,1000)\n",
    "\n",
    "\n",
    "y_lw_k0  = lambertw(x,0)\n",
    "y_lw_km1  = lambertw(x,-1)\n",
    "y_lw_kp1  = lambertw(x,1)\n",
    "\n",
    "y_lw_km2  = lambertw(x,-2)\n",
    "y_lw_kp2  = lambertw(x,2)\n",
    "\n",
    "y_lw_km3  = lambertw(x,-3)\n",
    "y_lw_kp3  = lambertw(x,3)"
   ]
  },
  {
   "cell_type": "code",
   "execution_count": null,
   "id": "fed13eee-3008-4d3b-8941-651735c6e1e6",
   "metadata": {},
   "outputs": [],
   "source": [
    "fig,ax = plt.subplots(1,1)\n",
    "ax.plot(x,y_lw_k0,'r-',label=\"python Lambert W function k=0\")\n",
    "ax.plot(x,y_lw_km1,'b-',label=\"python Lambert W function k=-1\")\n",
    "ax.plot(x,y_lw_kp1,'g-',label=\"python Lambert W function k=1\")\n",
    "\n",
    "ax.plot(x,y_lw_km2,'-',color=\"magenta\",label=\"python Lambert W function k=-2\")\n",
    "ax.plot(x,y_lw_kp2,'-',color=\"pink\",label=\"python Lambert W function k=2\")\n",
    "\n",
    "ax.plot(x,y_lw_km3,'-',color=\"orange\",label=\"python Lambert W function k=-3\")\n",
    "ax.plot(x,y_lw_kp3,'-',color=\"yellow\",label=\"python Lambert W function k=3\")\n",
    "\n",
    "ax.grid()\n",
    "ax.legend()\n",
    "\n",
    "ax.set_xlabel(\"x\")\n",
    "ax.set_ylabel(\"y\")\n",
    "\n",
    "ax.set_title(\"Lambert W functions\")\n",
    "plt.show()"
   ]
  },
  {
   "cell_type": "code",
   "execution_count": null,
   "id": "d68e7c62-14c8-4025-b54e-95381817071a",
   "metadata": {},
   "outputs": [],
   "source": [
    "x = np.linspace(-np.exp(-1.),1000,10001)\n",
    "y_lw_k0  = lambertw(x,0)\n",
    "y_lw_km1  = lambertw(x,-1)\n",
    "y_lw_kp1  = lambertw(x,1)\n",
    "\n",
    "y_lw_km2  = lambertw(x,-2)\n",
    "y_lw_kp2  = lambertw(x,2)\n",
    "\n",
    "y_lw_km3  = lambertw(x,-3)\n",
    "y_lw_kp3  = lambertw(x,3)"
   ]
  },
  {
   "cell_type": "code",
   "execution_count": null,
   "id": "a505ef3e-8ffd-4cc3-b308-77272583fb65",
   "metadata": {},
   "outputs": [],
   "source": [
    "fig,(ax1,ax2) = plt.subplots(1,2,figsize=(12,4),layout='constrained')\n",
    "\n",
    "ax1.plot(x,y_lw_k0,'r-',label=\"python Lambert W function k=0\")\n",
    "ax1.plot(x,y_lw_km1,'b-',label=\"python Lambert W function k=-1\")\n",
    "ax1.plot(x,y_lw_kp1,'g-',label=\"python Lambert W function k=1\")\n",
    "\n",
    "ax1.plot(x,y_lw_km2,'-',color=\"magenta\",label=\"python Lambert W function k=-2\")\n",
    "ax1.plot(x,y_lw_kp2,'-',color=\"pink\",label=\"python Lambert W function k=2\")\n",
    "\n",
    "ax1.plot(x,y_lw_km3,'-',color=\"orange\",label=\"python Lambert W function k=-3\")\n",
    "ax.plot(x,y_lw_kp3,'-',color=\"yellow\",label=\"python Lambert W function k=3\")\n",
    "\n",
    "ax1.grid()\n",
    "ax1.legend(loc=\"best\")\n",
    "ax1.set_title(\"Lambert W functions \\n(linear scale)\")\n",
    "#ax1.set_xscale(\"log\")\n",
    "#ax1.set_yscale(\"log\")\n",
    "ax1.set_xlabel(\"x\")\n",
    "ax1.set_ylabel(\"y\")\n",
    "\n",
    "ax2.plot(x,y_lw_k0,'r-',label=\"python Lambert W function k=0\")\n",
    "ax2.plot(x,y_lw_km1,'b-',label=\"python Lambert W function k=-1\")\n",
    "ax2.plot(x,y_lw_kp1,'g-',label=\"python Lambert W function k=1\")\n",
    "\n",
    "ax2.plot(x,y_lw_km2,'-',color=\"magenta\",label=\"python Lambert W function k=-2\")\n",
    "ax2.plot(x,y_lw_kp2,'-',color=\"pink\",label=\"python Lambert W function k=2\")\n",
    "\n",
    "ax2.plot(x,y_lw_km3,'-',color=\"orange\",label=\"python Lambert W function k=-3\")\n",
    "ax2.plot(x,y_lw_kp3,'-',color=\"yellow\",label=\"python Lambert W function k=3\")\n",
    "\n",
    "ax2.grid()\n",
    "ax2.legend(loc=\"best\")\n",
    "ax2.set_title(\"Lambert W functions \\n(log-scale)\")\n",
    "ax2.set_xscale(\"log\")\n",
    "ax2.set_yscale(\"log\")\n",
    "ax2.set_xlabel(\"x\")\n",
    "ax2.set_ylabel(\"y\")\n",
    "\n",
    "plt.show()"
   ]
  },
  {
   "cell_type": "markdown",
   "id": "d205fdfe-3935-4c1f-ae4a-a749c02838f7",
   "metadata": {},
   "source": [
    "## Omega(-t)"
   ]
  },
  {
   "cell_type": "code",
   "execution_count": null,
   "id": "20cd00c1-0da6-4315-acb3-88c1751f2aa4",
   "metadata": {},
   "outputs": [],
   "source": [
    "x = np.linspace(-1.,10.,1000)\n",
    "y_wro = wrightomega(-x)\n",
    "y_lw  = lambertw(np.exp(-x),0)"
   ]
  },
  {
   "cell_type": "code",
   "execution_count": null,
   "id": "b46592ad-18d2-4c75-b12e-b7ca3a6a08f9",
   "metadata": {},
   "outputs": [],
   "source": [
    "fig,(ax1,ax2) = plt.subplots(1,2,figsize=(12,4),layout='constrained')\n",
    "\n",
    "ax1.plot(x,y_wro,'r-',label=\"python Wright-omega(-t) function\")\n",
    "ax1.plot(x,y_lw,'b:',label=\"python Wright-omega function through lambert W (k=0)\",lw=5)\n",
    "ax1.grid()\n",
    "ax1.legend()\n",
    "ax1.set_title(\"Wright-Omega function (-t) \\n (lin-scale)\")\n",
    "ax1.set_xlabel(\"x\")\n",
    "ax1.set_ylabel(\"y\")\n",
    "\n",
    "ax2.plot(x,y_wro,'r-',label=\"python Wright-omega(-t) function\")\n",
    "ax2.plot(x,y_lw,'b:',label=\"python Wright-omega function through lambert W (k=0)\",lw=5)\n",
    "ax2.grid()\n",
    "ax2.legend()\n",
    "ax2.set_title(\"Wright-Omega function (-t) \\n (log-scale)\")\n",
    "ax2.set_xlabel(\"x\")\n",
    "ax2.set_ylabel(\"y\")\n",
    "ax2.set_xscale(\"log\")\n",
    "ax2.set_yscale(\"log\")\n",
    "\n",
    "plt.show()"
   ]
  },
  {
   "cell_type": "code",
   "execution_count": null,
   "id": "0d4ce8b8-b27e-47a0-aeac-b2a946d04e8e",
   "metadata": {},
   "outputs": [],
   "source": [
    "x = np.linspace(-1.,10.,1000)\n",
    "y_wro = 1-wrightomega(-x)/wrightomega(0)\n",
    "y_lw  = 1-lambertw(np.exp(-x),0)/lambertw(np.exp(0),0)"
   ]
  },
  {
   "cell_type": "code",
   "execution_count": null,
   "id": "1e4f43e4-ba85-4845-b229-5703e61d0f01",
   "metadata": {},
   "outputs": [],
   "source": [
    "fig,(ax1,ax2) = plt.subplots(1,2,figsize=(12,4),layout='constrained')\n",
    "\n",
    "ax1.plot(x,y_wro,'r-',label=\"python 1-Wright-omega(-t) function\")\n",
    "ax1.plot(x,y_lw,'b:',label=\"python 1-Wright-omega function through lambert W (k=0)\",lw=5)\n",
    "ax1.grid()\n",
    "ax1.legend()\n",
    "ax1.set_title(\"1-Wright-Omega function (-t) \\n (lin-scale)\")\n",
    "ax1.set_xlabel(\"x\")\n",
    "ax1.set_ylabel(\"y\")\n",
    "\n",
    "ax2.plot(x,y_wro,'r-',label=\"python 1-Wright-omega(-t) function\")\n",
    "ax2.plot(x,y_lw,'b:',label=\"python 1-Wright-omega function through lambert W (k=0)\",lw=5)\n",
    "ax2.grid()\n",
    "ax2.legend()\n",
    "ax2.set_title(\"1-Wright-Omega function (-t) \\n (log-scale)\")\n",
    "ax2.set_xlabel(\"x\")\n",
    "ax2.set_ylabel(\"y\")\n",
    "ax2.set_xscale(\"log\")\n",
    "ax2.set_yscale(\"log\")\n",
    "\n",
    "plt.show()"
   ]
  },
  {
   "cell_type": "markdown",
   "id": "ae978024-41da-4e3d-a6b6-8aa6a0d580e4",
   "metadata": {},
   "source": [
    "## For our transmission\n",
    "\n",
    "Probab"
   ]
  },
  {
   "cell_type": "code",
   "execution_count": null,
   "id": "1c41437c-9ec5-456b-af77-f59af700d348",
   "metadata": {},
   "outputs": [],
   "source": [
    "x = np.linspace(-np.exp(-1),1000,10001)"
   ]
  },
  {
   "cell_type": "code",
   "execution_count": null,
   "id": "03f1c7cd-51f4-411e-941b-c21f136e7bb8",
   "metadata": {},
   "outputs": [],
   "source": [
    "y_wo = np.log(wrightomega(x))\n",
    "y_wk0 = lambertw(x,0)\n",
    "y_wk1 = lambertw(x,1)\n",
    "y_wkm1 = lambertw(x,-1)"
   ]
  },
  {
   "cell_type": "code",
   "execution_count": null,
   "id": "7228ffbb-8522-4378-93dc-cb79862185d7",
   "metadata": {},
   "outputs": [],
   "source": [
    "fig,(ax1,ax2) = plt.subplots(1,2,figsize=(12,4),layout='constrained')\n",
    "\n",
    "ax1.plot(x,y_wo,'r-',label=\"log of Wright omega function\")\n",
    "ax1.plot(x,y_wk0,'b-',label=\"W Lambert function k=0\")\n",
    "ax1.plot(x,y_wk1,'g-',label=\"W Lambert function k=1\")\n",
    "ax1.plot(x,y_wkm1,'k-',label=\"W Lambert function k=-1\")\n",
    "ax1.legend(loc=\"best\")\n",
    "ax1.grid()\n",
    "ax1.set_xlim(-np.exp(-1),10.)\n",
    "#ax.set_ylim(0.,2.)\n",
    "ax1.set_xlabel(\"x\")\n",
    "ax1.set_ylabel(\"y\")\n",
    "ax1.set_title(\"Wright omega and Lambert W functions \\n(linear scale)\")\n",
    "\n",
    "ax2.plot(x,y_wo,'r-',label=\"log of Wright omega function\")\n",
    "ax2.plot(x,y_wk0,'b-',label=\"W Lambert function k=0\")\n",
    "ax2.plot(x,y_wk1,'g-',label=\"W Lambert function k=1\")\n",
    "ax2.plot(x,y_wkm1,'k-',label=\"W Lambert function k=-1\")\n",
    "ax2.legend(loc=\"best\")\n",
    "ax2.grid()\n",
    "ax2.set_yscale(\"log\")\n",
    "ax2.set_xscale(\"log\")\n",
    "ax2.set_xlabel(\"x\")\n",
    "ax2.set_ylabel(\"y\")\n",
    "ax2.set_title(\"Wright omega and Lambert W functions \\n(log-scale)\")"
   ]
  },
  {
   "cell_type": "markdown",
   "id": "d1e511b6-c7a0-4173-a203-3aad7cdf6d0e",
   "metadata": {},
   "source": [
    "## Check if $\\log T = W \\log T$"
   ]
  },
  {
   "cell_type": "code",
   "execution_count": null,
   "id": "38f3054e-3302-42d4-b92d-1a686490182f",
   "metadata": {},
   "outputs": [],
   "source": [
    "x = np.linspace(-np.exp(-1),10.,101)"
   ]
  },
  {
   "cell_type": "code",
   "execution_count": null,
   "id": "67cee962-80a8-411d-93a8-77932821ff76",
   "metadata": {},
   "outputs": [],
   "source": [
    "fig,(ax1,ax2) = plt.subplots(1,2,figsize=(12,5),layout='constrained')\n",
    "\n",
    "for k in [0.0001,1.,4.,6.]:\n",
    "    label = f\"k={k:.1f}\"\n",
    "    T = 1/k*wrightomega(k+np.log(k)-x)\n",
    "    extinct = -2.5*np.log10(T)\n",
    "    ax1.plot(x,T,label=label)\n",
    "    ax2.plot(x,extinct,label=label)\n",
    "ax1.set_ylabel(\"transmission\")\n",
    "ax2.set_ylabel(\"extinction\")\n",
    "\n",
    "ax1.set_xlabel(\"optical depth\")\n",
    "ax2.set_xlabel(\"optical depth\")\n",
    "ax1.legend()\n",
    "ax2.legend()\n",
    "\n",
    "ax1.set_title(\"transmission vs optical depth\")\n",
    "ax2.set_title(\"effective extinction vs optical depth\")\n",
    "\n",
    "plt.suptitle(\"transmission predicted by two-levels system with Wright-omega function\")\n",
    "plt.show()"
   ]
  },
  {
   "cell_type": "code",
   "execution_count": null,
   "id": "577f03ef-d4fb-4e7d-bd7e-a4edfb634c17",
   "metadata": {},
   "outputs": [],
   "source": [
    "fig,(ax1,ax2) = plt.subplots(1,2,figsize=(12,5),layout='constrained')\n",
    "\n",
    "for k in [0.0001,1.,4.,6.]:\n",
    "    label = f\"k={k:.1f}\"\n",
    "    T = 1/k*lambertw(np.exp(k+np.log(k)-x))\n",
    "    extinct = -2.5*np.log10(T)\n",
    "    ax1.plot(x,T,label=label)\n",
    "    ax2.plot(x,extinct,label=label)\n",
    "ax1.set_ylabel(\"transmission\")\n",
    "ax2.set_ylabel(\"extinction\")\n",
    "\n",
    "ax1.set_xlabel(\"optical depth\")\n",
    "ax2.set_xlabel(\"optical depth\")\n",
    "\n",
    "ax1.legend()\n",
    "ax2.legend()\n",
    "\n",
    "ax1.set_title(\"transmission vs optical depth\")\n",
    "ax2.set_title(\"effective extinction vs optical depth\")\n",
    "plt.suptitle(\"transpmission predicted by two-levels system with Lambert-W function\")\n",
    "plt.show()"
   ]
  },
  {
   "cell_type": "markdown",
   "id": "2e4086fb-0af9-4c05-97c8-3c281f1e9b50",
   "metadata": {},
   "source": [
    "## Physique de la transmission"
   ]
  },
  {
   "cell_type": "markdown",
   "id": "4b0242e8-f4ad-466d-9fec-6de56c63186f",
   "metadata": {},
   "source": [
    "$$\n",
    "u(t) = \\omega(-t) = W_k(exp(-t))\n",
    "$$"
   ]
  },
  {
   "cell_type": "code",
   "execution_count": null,
   "id": "cd071c58-f060-4d0c-ae54-ed23119e120b",
   "metadata": {},
   "outputs": [],
   "source": [
    "x = np.linspace(0.,10.,1000)"
   ]
  },
  {
   "cell_type": "code",
   "execution_count": null,
   "id": "988be093-ed1f-4832-881c-9fb046ada1b4",
   "metadata": {},
   "outputs": [],
   "source": [
    "y_wo = wrightomega(-x)\n",
    "y_wk0 = lambertw(np.exp(-x),0)\n",
    "y_wk1 = lambertw(np.exp(-x),1)\n",
    "y_wkm1 = lambertw(np.exp(-x),-1)\n",
    "y_wk2 = lambertw(np.exp(-x),2)\n",
    "y_wkm2 = lambertw(np.exp(-x),-2)"
   ]
  },
  {
   "cell_type": "code",
   "execution_count": null,
   "id": "c1827060-3718-44d2-8f6e-72ff5384f66a",
   "metadata": {},
   "outputs": [],
   "source": [
    "fig,(ax1,ax2) = plt.subplots(1,2,figsize=(12,4),layout='constrained')\n",
    "\n",
    "ax1.plot(x,y_wo,'r-',label=\"Wright omega function (-x)\")\n",
    "ax1.plot(x,y_wk0,'b:',label=\"W Lambert function (exp(-x)) k=0\",lw=5)\n",
    "ax1.plot(x,y_wk1,'-',color=\"magenta\",label=\"W Lambert function  (exp(-x)) k=1\")\n",
    "ax1.plot(x,y_wkm1,'-',color=\"pink\",label=\"W Lambert function  (exp(-x)) k=-1\")\n",
    "ax1.legend(loc=\"best\")\n",
    "ax1.grid()\n",
    "\n",
    "\n",
    "ax1.set_xlabel(\"x\")\n",
    "ax1.set_ylabel(\"y\")\n",
    "ax1.set_title(\"Wright omega and Lambert W functions \\n (linear scale)\")\n",
    "\n",
    "ax2.plot(x,y_wo,'r-',label=\"Wright omega function (-x)\")\n",
    "ax2.plot(x,y_wk0,'b:',label=\"W Lambert function  (exp(-x)) k=0\",lw=5)\n",
    "ax2.plot(x,y_wk1,'-',color=\"magenta\",label=\"W Lambert function  (exp(-x))k=1\")\n",
    "ax2.plot(x,y_wkm1,'-',color=\"pink\",label=\"W Lambert function  (exp(-x)) k=-1\")\n",
    "ax2.legend(loc=\"best\")\n",
    "ax2.grid()\n",
    "ax2.set_yscale(\"log\")\n",
    "ax2.set_xscale(\"log\")\n",
    "ax2.set_xlabel(\"x\")\n",
    "ax2.set_ylabel(\"y\")\n",
    "ax2.set_title(\"Wright omega and Lambert W functions \\n(log-scale)\")"
   ]
  },
  {
   "cell_type": "code",
   "execution_count": null,
   "id": "e7b2412f-3d6e-4ae8-8163-97bc590d3cd4",
   "metadata": {},
   "outputs": [],
   "source": [
    "y_wo = np.log(wrightomega(-x))\n",
    "y_wk0 = np.log(lambertw(np.exp(-x),0))\n",
    "\n",
    "y_wk1 = np.log(lambertw(np.exp(-x),1))\n",
    "y_wkm1 = np.log(lambertw(np.exp(-x),-1))\n",
    "y_wk2 = np.log(lambertw(np.exp(-x),2))\n",
    "y_wkm2 = np.log(lambertw(np.exp(-x),-2))"
   ]
  },
  {
   "cell_type": "code",
   "execution_count": null,
   "id": "6568a3e2-b695-4ab8-b308-a36574a7f21d",
   "metadata": {},
   "outputs": [],
   "source": [
    "fig,(ax1,ax2) = plt.subplots(1,2,figsize=(12,4),layout='constrained')\n",
    "\n",
    "ax1.plot(x,y_wo,'r-',label=\"Wright omega function (-x)\")\n",
    "ax1.plot(x,y_wk0,'b:',label=\"W Lambert function (exp(-x)) k=0\",lw=5)\n",
    "ax1.plot(x,y_wk1,'-',color=\"magenta\",label=\"W Lambert function  (exp(-x)) k=1\")\n",
    "ax1.plot(x,y_wkm1,'-',color=\"pink\",label=\"W Lambert function  (exp(-x)) k=-1\")\n",
    "ax1.legend(loc=\"best\")\n",
    "ax1.grid()\n",
    "\n",
    "\n",
    "ax1.set_xlabel(\"x\")\n",
    "ax1.set_ylabel(\"y\")\n",
    "ax1.set_title(\"log of Wright omega and Lambert W functions \\n (linear scale)\")\n",
    "\n",
    "ax2.plot(x,y_wo,'r-',label=\"log of Wright omega function\")\n",
    "ax2.plot(x,y_wk0,'b:',label=\"W Lambert function  (exp(-x)) k=0\",lw=5)\n",
    "ax2.plot(x,y_wk1,'-',color=\"magenta\",label=\"W Lambert function  (exp(-x))k=1\")\n",
    "ax2.plot(x,y_wkm1,'-',color=\"pink\",label=\"W Lambert function  (exp(-x)) k=-1\")\n",
    "ax2.legend(loc=\"best\")\n",
    "ax2.grid()\n",
    "ax2.set_yscale(\"log\")\n",
    "ax2.set_xscale(\"log\")\n",
    "ax2.set_xlabel(\"x\")\n",
    "ax2.set_ylabel(\"y\")\n",
    "ax2.set_title(\"log of Wright omega and Lambert W functions \\n(log-scale)\")"
   ]
  },
  {
   "cell_type": "code",
   "execution_count": null,
   "id": "98c869ae-bf74-4d7f-9652-4e608af114b2",
   "metadata": {},
   "outputs": [],
   "source": []
  }
 ],
 "metadata": {
  "kernelspec": {
   "display_name": "conda_py310",
   "language": "python",
   "name": "conda_py310"
  },
  "language_info": {
   "codemirror_mode": {
    "name": "ipython",
    "version": 3
   },
   "file_extension": ".py",
   "mimetype": "text/x-python",
   "name": "python",
   "nbconvert_exporter": "python",
   "pygments_lexer": "ipython3",
   "version": "3.10.12"
  }
 },
 "nbformat": 4,
 "nbformat_minor": 5
}
