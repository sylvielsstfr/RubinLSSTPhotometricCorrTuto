{
 "cells": [
  {
   "cell_type": "markdown",
   "id": "65cbd1db-45b7-464f-a5d1-be98ed573847",
   "metadata": {},
   "source": [
    "# Study Omega Wright function\n"
   ]
  },
  {
   "cell_type": "code",
   "execution_count": null,
   "id": "a492dcec-9180-4864-9126-478f1f54f3cc",
   "metadata": {},
   "outputs": [],
   "source": [
    "import numpy as np\n",
    "import matplotlib.pyplot as plt\n",
    "%matplotlib inline\n",
    "import matplotlib as mpl\n",
    "import matplotlib.colors as colors\n",
    "import matplotlib.cm as cmx\n",
    "from mpl_toolkits.axes_grid1 import make_axes_locatable\n",
    "from matplotlib.colors import LogNorm\n",
    "from matplotlib.gridspec import GridSpec\n",
    "import pandas as pd\n",
    "\n",
    "import matplotlib.ticker                         # here's where the formatter is\n",
    "import os,sys\n",
    "import re\n",
    "import pandas as pd\n",
    "\n",
    "\n",
    "plt.rcParams[\"figure.figsize\"] = (10,6)\n",
    "plt.rcParams[\"axes.labelsize\"] = 'xx-large'\n",
    "plt.rcParams['axes.titlesize'] = 'xx-large'\n",
    "plt.rcParams['xtick.labelsize']= 'xx-large'\n",
    "plt.rcParams['ytick.labelsize']= 'xx-large'\n",
    "\n",
    "props = dict(boxstyle='round', facecolor='white', alpha=0.5)"
   ]
  },
  {
   "cell_type": "code",
   "execution_count": null,
   "id": "b9d2210e-275f-4e2a-b74f-caf173737c77",
   "metadata": {},
   "outputs": [],
   "source": [
    "from scipy.special import wrightomega, lambertw"
   ]
  },
  {
   "cell_type": "code",
   "execution_count": null,
   "id": "1c41437c-9ec5-456b-af77-f59af700d348",
   "metadata": {},
   "outputs": [],
   "source": [
    "x = np.linspace(0,1000,10001)"
   ]
  },
  {
   "cell_type": "code",
   "execution_count": null,
   "id": "03f1c7cd-51f4-411e-941b-c21f136e7bb8",
   "metadata": {},
   "outputs": [],
   "source": [
    "y_wo = np.log(wrightomega(np.log(x)))\n",
    "y_wk0 = lambertw(x,0)\n",
    "y_wk1 = lambertw(x,1)\n",
    "y_wkm1 = lambertw(x,-1)"
   ]
  },
  {
   "cell_type": "code",
   "execution_count": null,
   "id": "7228ffbb-8522-4378-93dc-cb79862185d7",
   "metadata": {},
   "outputs": [],
   "source": [
    "fig,ax = plt.subplots(1,1)\n",
    "\n",
    "ax.plot(x,y_wo,'r-',label=\"Wright omega function\")\n",
    "ax.plot(x,y_wk0,'b-',label=\"W Lambert function k=0\")\n",
    "ax.plot(x,y_wk1,'g-',label=\"W Lambert function k=1\")\n",
    "ax.plot(x,y_wkm1,'k-',label=\"W Lambert function k=-1\")\n",
    "ax.legend()\n",
    "ax.set_xlim(0.,10.)\n",
    "#ax.set_ylim(0.,2.)\n",
    "ax.set_xlabel(\"x\")\n",
    "ax.set_ylabel(\"y\")\n",
    "ax.set_title(\"Wright omega and Lambert W functions\")"
   ]
  },
  {
   "cell_type": "code",
   "execution_count": null,
   "id": "062266d9-14c0-4ad3-8ef3-907194978b83",
   "metadata": {},
   "outputs": [],
   "source": [
    "fig,ax = plt.subplots(1,1)\n",
    "\n",
    "ax.plot(x,y_wo,'r-',label=\"Wright omega function\")\n",
    "ax.plot(x,y_wk0,'b-',label=\"W Lambert function k=0\")\n",
    "ax.plot(x,y_wk1,'g-',label=\"W Lambert function k=1\")\n",
    "ax.plot(x,y_wkm1,'k-',label=\"W Lambert function k=-1\")\n",
    "ax.legend()\n",
    "ax.set_yscale(\"log\")\n",
    "ax.set_xscale(\"log\")\n",
    "ax.set_xlabel(\"x\")\n",
    "ax.set_ylabel(\"y\")\n",
    "ax.set_title(\"Wright omega and Lambert W functions\")"
   ]
  },
  {
   "cell_type": "code",
   "execution_count": null,
   "id": "d9f454b5-baa2-48db-b726-5c82aca9ef81",
   "metadata": {},
   "outputs": [],
   "source": [
    "fig,ax = plt.subplots(1,1)\n",
    "\n",
    "#ax.plot(x,y_wo,'r-',label=\"Wright omega function\")\n",
    "ax.plot(x,y_wk0,'b-',label=\"W Lambert function k=0\")\n",
    "ax.plot(x,y_wk1,'g-',label=\"W Lambert function k=1\")\n",
    "ax.plot(x,y_wkm1,'k-',label=\"W Lambert function k=-1\")\n",
    "ax.legend()\n",
    "ax.set_yscale(\"log\")\n",
    "ax.set_xscale(\"log\")\n",
    "ax.set_ylim(0.,10.)\n",
    "ax.set_xlabel(\"x\")\n",
    "ax.set_ylabel(\"y\")\n",
    "ax.set_title(\"Wright omega and Lambert W functions\")"
   ]
  },
  {
   "cell_type": "code",
   "execution_count": null,
   "id": "d5f82a63-6602-44cc-9ce7-421ba4bfbf56",
   "metadata": {},
   "outputs": [],
   "source": [
    "y_wo = wrightomega(-x)\n",
    "y_wk0 = lambertw(x,0)\n",
    "y_wk1 = lambertw(x,1)\n",
    "y_wkm1 = lambertw(x,-1)"
   ]
  }
 ],
 "metadata": {
  "kernelspec": {
   "display_name": "conda_py310",
   "language": "python",
   "name": "conda_py310"
  },
  "language_info": {
   "codemirror_mode": {
    "name": "ipython",
    "version": 3
   },
   "file_extension": ".py",
   "mimetype": "text/x-python",
   "name": "python",
   "nbconvert_exporter": "python",
   "pygments_lexer": "ipython3",
   "version": "3.10.12"
  }
 },
 "nbformat": 4,
 "nbformat_minor": 5
}
