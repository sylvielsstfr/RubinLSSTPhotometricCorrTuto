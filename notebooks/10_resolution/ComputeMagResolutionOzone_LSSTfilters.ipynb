{
 "cells": [
  {
   "cell_type": "markdown",
   "id": "ad5a3ac3-1d31-4599-995b-fc544a7da5ae",
   "metadata": {},
   "source": [
    "# Compute Magnitudes Resolution for Ozone from Flat SED in LSST filters"
   ]
  },
  {
   "cell_type": "markdown",
   "id": "ac5107e7-d490-4e81-9296-6bfb7af6dce4",
   "metadata": {},
   "source": [
    "- author Sylvie Dagoret-Campagne\n",
    "- affiliation IJCLab\n",
    "- creation date : 2024/10/15"
   ]
  },
  {
   "cell_type": "code",
   "execution_count": null,
   "id": "1edbe7f0-c493-4659-8949-c17da1b52dfc",
   "metadata": {
    "tags": []
   },
   "outputs": [],
   "source": [
    "import numpy as np\n",
    "import matplotlib.pyplot as plt\n",
    "%matplotlib inline\n",
    "import matplotlib as mpl\n",
    "import matplotlib.colors as colors\n",
    "import matplotlib.cm as cmx\n",
    "from mpl_toolkits.axes_grid1 import make_axes_locatable\n",
    "from matplotlib.colors import LogNorm\n",
    "from matplotlib.gridspec import GridSpec\n",
    "import pandas as pd\n",
    "\n",
    "import matplotlib.ticker                         # here's where the formatter is\n",
    "import os,sys\n",
    "import re\n",
    "import pandas as pd\n",
    "\n",
    "from astropy.io import fits\n",
    "from astropy import units as u\n",
    "from astropy import constants as c\n",
    "\n",
    "plt.rcParams[\"figure.figsize\"] = (8,6)\n",
    "plt.rcParams[\"axes.labelsize\"] = 'xx-large'\n",
    "plt.rcParams['axes.titlesize'] = 'xx-large'\n",
    "plt.rcParams['xtick.labelsize']= 'xx-large'\n",
    "plt.rcParams['ytick.labelsize']= 'xx-large'\n",
    "\n",
    "props = dict(boxstyle='round', facecolor='white', alpha=0.5)"
   ]
  },
  {
   "cell_type": "code",
   "execution_count": null,
   "id": "6c416af2-a649-41ef-8515-341c449598e3",
   "metadata": {
    "tags": []
   },
   "outputs": [],
   "source": [
    "from scipy import interpolate"
   ]
  },
  {
   "cell_type": "code",
   "execution_count": null,
   "id": "ce04b895-01a2-4112-aa2c-8953f6a0caee",
   "metadata": {
    "tags": []
   },
   "outputs": [],
   "source": [
    "machine_name = os.uname().nodename\n",
    "dm_version = \"w_2024_38\"\n",
    "path_rubinsimphot = f\"repos/repos_{dm_version}/rubinsimphot/src\"\n",
    "#path_rubinsimphot = \"repos/repos_w_2024_17/rubinsimphot/src\"\n",
    "if 'sdf' in machine_name:\n",
    "    #machine_name_usdf = 'sdfrome001'\n",
    "    print(\"Set environment for USDF\")\n",
    "    newpythonpath = os.path.join(os.getenv(\"HOME\"),path_rubinsimphot)\n",
    "    sys.path.append(newpythonpath)\n",
    "elif 'dagoret-nb' in machine_name:\n",
    "    print(\"Set environment for USDF Rubin Science Platform\")\n",
    "    newpythonpath = os.path.join(os.getenv(\"HOME\"),path_rubinsimphot)\n",
    "    sys.path.append(newpythonpath)    \n",
    "elif 'mac' in machine_name:\n",
    "    print(\"Be sure to run this notebook in conda environment named conda_py310\")\n",
    "else:\n",
    "    print(f\"Your current machine name is {machine_name}. Check your python environment\")"
   ]
  },
  {
   "cell_type": "code",
   "execution_count": null,
   "id": "8b3e51c2-f167-485a-b113-1082fcbb4bfc",
   "metadata": {},
   "outputs": [],
   "source": [
    "def Get_SED_Pickles():\n",
    "    seddir = os.path.join(fdir, 'pysynphot', 'pickles')\n",
    "    seddir_uvi = os.path.join(seddir,\"dat_uvi\")\n",
    "    seddir_uvk = os.path.join(seddir,\"dat_uvk\")\n",
    "    all_pickles_uvi = sorted(os.listdir(seddir_uvi))\n",
    "    all_pickles_uvk = sorted(os.listdir(seddir_uvk))\n",
    "    file_ref = os.path.join(seddir_uvk, \"pickles_uk.fits\")\n",
    "    hdul = fits.open(file_ref)\n",
    "    df_pickle = pd.DataFrame(hdul[1].data)\n",
    "    NSED = len(df_pickle)\n",
    "\n",
    "    for index in np.arange(NSED):\n",
    "        filename = df_pickle.loc[index,\"FILENAME\"].strip()+\".fits\"\n",
    "        fullfilename = os.path.join(seddir_uvk,filename) \n",
    "        hdul = fits.open(fullfilename)\n",
    "        dff = pd.DataFrame(hdul[1].data)"
   ]
  },
  {
   "cell_type": "code",
   "execution_count": null,
   "id": "4bb3a1b2-7634-4b92-aec1-0d700a66ba81",
   "metadata": {},
   "outputs": [],
   "source": [
    "# reference flux in Jy\n",
    "F0 = ((0.*u.ABmag).to(u.Jy)).value\n",
    "F0"
   ]
  },
  {
   "cell_type": "markdown",
   "id": "64b70c8e-4988-4468-8229-0967053b812a",
   "metadata": {},
   "source": [
    "## Imports dedicated to this work\n",
    "\n",
    "- import the atmospheric transparency emulator (instead of using libradtran code).\n",
    "- import rubin sim\n",
    "- import libPhotometricCorrections : encapsulate uninteresting calculation details"
   ]
  },
  {
   "cell_type": "markdown",
   "id": "92f9cb84-f4b5-43b7-a9f1-ae284025f4de",
   "metadata": {},
   "source": [
    "### libradtran Emulator"
   ]
  },
  {
   "cell_type": "code",
   "execution_count": null,
   "id": "513cd9b8-f462-4020-a73f-98d4754a6313",
   "metadata": {
    "tags": []
   },
   "outputs": [],
   "source": [
    "from importlib.metadata import version\n",
    "the_ver = version('getObsAtmo')\n",
    "print(f\"Version of getObsAtmo : {the_ver}\")"
   ]
  },
  {
   "cell_type": "code",
   "execution_count": null,
   "id": "4648024a-5e3b-4ab1-ba82-1a6c44802d81",
   "metadata": {
    "tags": []
   },
   "outputs": [],
   "source": [
    "from getObsAtmo import ObsAtmo\n",
    "emul = ObsAtmo(\"LSST\")"
   ]
  },
  {
   "cell_type": "code",
   "execution_count": null,
   "id": "d19507bc-98e0-4d4e-8d4d-583056b14b6b",
   "metadata": {
    "tags": []
   },
   "outputs": [],
   "source": [
    "WL = emul.GetWL()"
   ]
  },
  {
   "cell_type": "markdown",
   "id": "2d329e0a-b89e-4f88-ae18-63a5c9cc872f",
   "metadata": {},
   "source": [
    "#### Library to fit atmosphere"
   ]
  },
  {
   "cell_type": "code",
   "execution_count": null,
   "id": "bf228a68-73d0-4690-bdbe-1a4d0ae98445",
   "metadata": {
    "tags": []
   },
   "outputs": [],
   "source": [
    "import sys\n",
    "sys.path.append('../lib')\n",
    "#import libAtmosphericFit"
   ]
  },
  {
   "cell_type": "markdown",
   "id": "6be3d51c-8ba7-4654-98bf-0af4b456b1d8",
   "metadata": {},
   "source": [
    "#### Library that encapsulate calculations for Photometric correction"
   ]
  },
  {
   "cell_type": "code",
   "execution_count": null,
   "id": "38724617-a232-45c5-be1d-a7e6e19d6561",
   "metadata": {
    "tags": []
   },
   "outputs": [],
   "source": [
    "# This package encapsulate the calculation on calibration used in this nb\n",
    "from libPhotometricCorrections import *"
   ]
  },
  {
   "cell_type": "code",
   "execution_count": null,
   "id": "092ec108-49dd-464a-8d67-1c1a94679f69",
   "metadata": {
    "tags": []
   },
   "outputs": [],
   "source": [
    "def set_photometric_parameters(exptime, nexp, readnoise=None):\n",
    "    # readnoise = None will use the default (8.8 e/pixel). Readnoise should be in electrons/pixel.\n",
    "    photParams = PhotometricParameters(exptime=exptime, nexp=nexp, readnoise=readnoise)\n",
    "    return photParams"
   ]
  },
  {
   "cell_type": "code",
   "execution_count": null,
   "id": "2757add2-5460-4666-a815-c97cd739b1f6",
   "metadata": {
    "tags": []
   },
   "outputs": [],
   "source": [
    "def scale_sed(ref_mag, ref_filter, sed):\n",
    "    fluxNorm = sed.calc_flux_norm(ref_mag, lsst_std[ref_filter])\n",
    "    sed.multiply_flux_norm(fluxNorm)\n",
    "    return sed"
   ]
  },
  {
   "cell_type": "code",
   "execution_count": null,
   "id": "eee014ae-76b2-4103-ba0b-636eddddbed6",
   "metadata": {},
   "outputs": [],
   "source": [
    "# set default photometric parameters to compute ADU\n",
    "photoparams = set_photometric_parameters(30, 1 , readnoise=None)"
   ]
  },
  {
   "cell_type": "markdown",
   "id": "eefaa645-0a93-4b89-9ed5-8b6bb2c33241",
   "metadata": {},
   "source": [
    "#### library rubin_sim defining LSST parameters, namely for photometric calculations"
   ]
  },
  {
   "cell_type": "code",
   "execution_count": null,
   "id": "4a081d19-aa22-491a-b65c-08dcd684b42a",
   "metadata": {
    "tags": []
   },
   "outputs": [],
   "source": [
    "from rubinsimphot.phot_utils import Bandpass, Sed\n",
    "from rubinsimphot.data import get_data_dir"
   ]
  },
  {
   "cell_type": "markdown",
   "id": "ee546326-5cdf-49e3-8e2b-16cdc7a8a62b",
   "metadata": {},
   "source": [
    "## Configuration"
   ]
  },
  {
   "cell_type": "code",
   "execution_count": null,
   "id": "2fb7e75c-c074-44ad-89dc-d0a814fcceee",
   "metadata": {
    "tags": []
   },
   "outputs": [],
   "source": [
    "am0 = 1.20    # airmass\n",
    "pwv0 = 4.0  # Precipitable water vapor vertical column depth in mm\n",
    "oz0 = 300.  # Ozone vertical column depth in Dobson Unit (DU)\n",
    "ncomp=1     # Number of aerosol components\n",
    "tau0= 0.0 # Vertical Aerosol depth (VAOD) \n",
    "beta0 = 1.2 # Aerosol Angstrom exponent"
   ]
  },
  {
   "cell_type": "markdown",
   "id": "efbcb54f-e328-4e77-9177-733671894773",
   "metadata": {},
   "source": [
    "### Initialisation of Atmospheric corrections"
   ]
  },
  {
   "cell_type": "code",
   "execution_count": null,
   "id": "e9aad196-e82d-4477-8c31-173b4a159dde",
   "metadata": {
    "tags": []
   },
   "outputs": [],
   "source": [
    "pc = PhotometricCorrections(am0,pwv0,oz0,tau0,beta0)"
   ]
  },
  {
   "cell_type": "markdown",
   "id": "24110bb1-a4df-43b1-aaca-1b0879a20cd6",
   "metadata": {},
   "source": [
    "### Check standard atmosphere"
   ]
  },
  {
   "cell_type": "code",
   "execution_count": null,
   "id": "cf0cdba5-cbc7-44e9-967f-817f9afaaffb",
   "metadata": {
    "tags": []
   },
   "outputs": [],
   "source": [
    "fig, axs = plt.subplots(1,1,figsize=(6,4))\n",
    "axs.plot(pc.WL,pc.atm_std,'k-')\n",
    "axs.set_xlabel(\"$\\\\lambda$ (nm)\")\n",
    "axs.set_title(\"Standard atmosphere transmission\")"
   ]
  },
  {
   "cell_type": "markdown",
   "id": "faf15d14-6866-445c-befb-503582de6a9c",
   "metadata": {},
   "source": [
    "### Check LSST instrument throughput"
   ]
  },
  {
   "cell_type": "markdown",
   "id": "92cf88bc-ae63-4c3c-9d76-c6c9ab707e3c",
   "metadata": {},
   "source": [
    "Photometric Correction package should find the instrumental passband of LSST"
   ]
  },
  {
   "cell_type": "code",
   "execution_count": null,
   "id": "ccdc6966-cdca-40d3-b6a9-57c4e716c318",
   "metadata": {
    "tags": []
   },
   "outputs": [],
   "source": [
    "fig, axs = plt.subplots(1,1,figsize=(6,4))\n",
    "# loop on filter\n",
    "for index,f in enumerate(filter_tagnames):\n",
    "    \n",
    "    axs.plot(pc.bandpass_inst[f].wavelen,pc.bandpass_inst[f].sb,color=filter_color[index]) \n",
    "    axs.fill_between(pc.bandpass_inst[f].wavelen,pc.bandpass_inst[f].sb,color=filter_color[index],alpha=0.2) \n",
    "    axs.axvline(FILTERWL[index,2],color=filter_color[index],linestyle=\"-.\")\n",
    "    \n",
    "axs.set_xlabel(\"$\\\\lambda$ (nm)\")\n",
    "axs.set_title(\"Instrument throughput (auxtel)\")"
   ]
  },
  {
   "cell_type": "markdown",
   "id": "8b2d52db-c587-4ff8-995d-04adecbdcf2d",
   "metadata": {},
   "source": [
    "### Check LSST standard Filter throughputs"
   ]
  },
  {
   "cell_type": "code",
   "execution_count": null,
   "id": "09c70134-eda6-4c9e-83a0-e76510e86e97",
   "metadata": {
    "tags": []
   },
   "outputs": [],
   "source": [
    "fig, axs = plt.subplots(1,1,figsize=(6,4))\n",
    "# loop on filter\n",
    "for index,f in enumerate(filter_tagnames):\n",
    "    \n",
    "    axs.plot(pc.bandpass_total_std[f].wavelen,pc.bandpass_total_std[f].sb,color=filter_color[index]) \n",
    "    axs.fill_between(pc.bandpass_total_std[f].wavelen,pc.bandpass_total_std[f].sb,color=filter_color[index],alpha=0.2) \n",
    "    axs.axvline(FILTERWL[index,2],color=filter_color[index],linestyle=\"-.\")\n",
    "    \n",
    "axs.set_xlabel(\"$\\\\lambda$ (nm)\")\n",
    "axs.set_title(\"Total filter throughput (auxtel)\")"
   ]
  },
  {
   "cell_type": "markdown",
   "id": "b3e70b79-75ee-47b1-aad1-c4d8c796b248",
   "metadata": {},
   "source": [
    "## Distribution of Ozone"
   ]
  },
  {
   "cell_type": "markdown",
   "id": "667e5865-7eb7-46fd-93b5-c3e8080e5163",
   "metadata": {},
   "source": [
    "https://en.wikipedia.org/wiki/Log-normal_distribution\n",
    "\n",
    "\n",
    "To produce a log-normal distribution with sample mean $\\mu_x$ and sample variance $\\sigma_x$, use a log-normal distribution with parameters\n",
    "\n",
    "$$\n",
    "\\mu = \\log \\frac{\\mu_X^2}{\\sqrt{\\mu_X^2+\\sigma_x^2}}\n",
    "$$\n",
    "\n",
    "and\n",
    "\n",
    "$$\n",
    "\\sigma^2 = \\log(1+\\frac{\\sigma_x^2}{\\mu_x^2})\n",
    "$$"
   ]
  },
  {
   "cell_type": "code",
   "execution_count": null,
   "id": "8a9d6930-39a2-4a5f-9071-dc33c3afa5cf",
   "metadata": {
    "tags": []
   },
   "outputs": [],
   "source": [
    "am = am0\n",
    "tau= tau0\n",
    "pwv = pwv0\n",
    "beta = beta0\n",
    "# from repeatability\n",
    "sigma_oz = 26.1/np.sqrt(2.)\n",
    "# Generate a positive distribution of PWV of the desited mam pwv0  and width sigma_pwv\n",
    "mu = np.log(oz0**2/np.sqrt(oz0**2+sigma_oz**2))\n",
    "sig = np.sqrt(np.log(1+sigma_oz**2/oz0**2))\n",
    "# The log-normal distribution\n",
    "all_oz = np.random.lognormal(mean=mu, sigma=sig,size=1000)\n",
    "NOZ = len(all_oz)"
   ]
  },
  {
   "cell_type": "code",
   "execution_count": null,
   "id": "e1b99b50-1bb5-4f1a-a6c5-ab459b0b5b35",
   "metadata": {
    "tags": []
   },
   "outputs": [],
   "source": [
    "mu_x = np.mean(all_oz)\n",
    "sig_x = np.std(all_oz)"
   ]
  },
  {
   "cell_type": "code",
   "execution_count": null,
   "id": "1ee18c48-1f06-4806-91f7-ba2cbba3630f",
   "metadata": {
    "tags": []
   },
   "outputs": [],
   "source": [
    "textstr = '\\n'.join((\n",
    "    r'$\\mu=%.2f$ DU ' % (mu_x, ),\n",
    "    r'$\\sigma=%.2f$ DU' % (sig_x, )))"
   ]
  },
  {
   "cell_type": "code",
   "execution_count": null,
   "id": "7917a8dc-ebd4-4dd5-944b-d902078561a3",
   "metadata": {},
   "outputs": [],
   "source": [
    "fig,ax = plt.subplots(1,1,figsize=(5,4))\n",
    "ax.hist(all_oz,bins=50,range=(0,600),facecolor=\"b\")\n",
    "ax.text(0.6, 0.95, textstr, transform=ax.transAxes, fontsize=14,verticalalignment='top', bbox=props)\n",
    "ax.set_title(\"simulated Ozone\")\n",
    "ax.set_xlabel(\"Ozone (DU)\")"
   ]
  },
  {
   "cell_type": "markdown",
   "id": "b1808d34-dec7-4961-b3f3-46f2e03362aa",
   "metadata": {},
   "source": [
    "## Generate multi-observations\n",
    "\n",
    "- for all PWV\n",
    "- Notice :\n",
    "     - we keep the same airmass as the standard airmass z=1.3\n",
    "     - No aerosol to avoid confusion"
   ]
  },
  {
   "cell_type": "code",
   "execution_count": null,
   "id": "7b42b2a6-d556-4dac-aa56-1129b853ca69",
   "metadata": {
    "tags": []
   },
   "outputs": [],
   "source": [
    "pc.CalculateMultiObs(am,pwv,all_oz,tau,beta)"
   ]
  },
  {
   "cell_type": "markdown",
   "id": "fe00c844-cbdf-433b-8457-f31c10dd5502",
   "metadata": {},
   "source": [
    "### Ozone variation :  Observed filter and normalized response"
   ]
  },
  {
   "cell_type": "code",
   "execution_count": null,
   "id": "42162a23-c47c-4f79-836b-c88d8cfcff12",
   "metadata": {
    "tags": []
   },
   "outputs": [],
   "source": [
    "NOBS = len(all_oz)\n",
    "\n",
    "# wavelength bin colors\n",
    "jet = plt.get_cmap('jet')\n",
    "cNorm = colors.Normalize(vmin=0, vmax=NOBS)\n",
    "scalarMap = cmx.ScalarMappable(norm=cNorm, cmap=jet)\n",
    "all_colors = scalarMap.to_rgba(np.arange(NOBS), alpha=1)\n",
    "\n",
    "\n",
    "fig = plt.figure(figsize=(12,5))\n",
    "\n",
    "# Figure 1\n",
    "axs=fig.add_subplot(1,2,1)\n",
    "for index,oz in enumerate(all_oz):\n",
    "  \n",
    "    atm = pc.coll_atm_nonstd[index]\n",
    "    \n",
    "    label = f\"ozone={oz:.1f}\" \n",
    "    axs.plot(pc.WL,atm,color=all_colors[index],label=label,lw=0.5)\n",
    "   \n",
    "axs.plot(pc.WL,pc.atm_std,color=\"k\",lw=2,label=\"standard atmosphere\")\n",
    "#axs.legend(bbox_to_anchor=(1.03, 1.0))  \n",
    "axs.set_xlabel(\"$\\lambda$ (nm)\")\n",
    "axs.set_title(\"standard and observed transmission\")\n",
    "\n",
    "ax2 = axs.twinx()\n",
    "for ifilt,f in enumerate(filter_tagnames):\n",
    "    ax2.fill_between(pc.bandpass_total_std[f].wavelen,pc.bandpass_total_std[f].sb,color=filter_color[ifilt],alpha=0.1) \n",
    "    ax2.set_yticks([])\n",
    "\n",
    "# Figure 2\n",
    "axs=fig.add_subplot(1,2,2)\n",
    "\n",
    "all_linestyles = ['-','--','-.',':','-','--','-.',':','-','--','-.',':','-','--','-.',':']\n",
    "\n",
    "# wavelength bin colors\n",
    "jet = plt.get_cmap('jet')\n",
    "cNorm = colors.Normalize(vmin=0, vmax=NOBS)\n",
    "scalarMap = cmx.ScalarMappable(norm=cNorm, cmap=jet)\n",
    "all_colors = scalarMap.to_rgba(np.arange(NOBS), alpha=1)\n",
    "\n",
    "\n",
    "for idx_oz,oz in enumerate(all_oz):\n",
    "    \n",
    "    label = f\"ozone={oz:.1f}\"\n",
    "    \n",
    "    for ifilt,f in enumerate(filter_tagnames):\n",
    "        \n",
    "        the_x=pc.WL\n",
    "        the_y=pc.coll_phiArray_nonstd[idx_oz][ifilt,:]\n",
    "       \n",
    "        \n",
    "        if ifilt==1:\n",
    "            axs.plot(the_x,the_y,color=all_colors[idx_oz],linestyle=\"-\",label=label )\n",
    "        else:\n",
    "            axs.plot(the_x,the_y,color=all_colors[idx_oz],linestyle=\"-\")\n",
    "\n",
    "axs.set_xlabel(\"$\\lambda$ (nm)\")\n",
    "axs.set_title(\"Normalized observed transmission\")\n",
    "#axs.legend(bbox_to_anchor=(1.03, 1.0))  \n",
    "\n",
    "\n",
    "plt.tight_layout()\n",
    "plt.show()\n",
    "\n"
   ]
  },
  {
   "cell_type": "code",
   "execution_count": null,
   "id": "f7105217-a52d-46eb-8eda-40c7a23adae7",
   "metadata": {},
   "outputs": [],
   "source": [
    "NOBS = len(all_oz)\n",
    "\n",
    "# wavelength bin colors\n",
    "jet = plt.get_cmap('jet')\n",
    "cNorm = colors.Normalize(vmin=0, vmax=NOBS)\n",
    "scalarMap = cmx.ScalarMappable(norm=cNorm, cmap=jet)\n",
    "all_colors = scalarMap.to_rgba(np.arange(NOBS), alpha=1)\n",
    "\n",
    "\n",
    "fig = plt.figure(figsize=(6,5))\n",
    "\n",
    "# Figure 1\n",
    "axs=fig.add_subplot(1,1,1)\n",
    "for index,oz in enumerate(all_oz):\n",
    "    atm_bands = pc.coll_bandpass_total_nonstd[index]    \n",
    "    label = f\"ozone={oz:.1f}\" \n",
    "    for f in filter_tagnames: \n",
    "        axs.plot(atm_bands[f].wavelen,atm_bands[f].sb,color=all_colors[index],label=label,lw=0.5)\n",
    "\n",
    "axs.plot(pc.WL,pc.atm_std,color=\"k\",lw=2,label=\"standard atmosphere\")\n",
    "#axs.legend(bbox_to_anchor=(1.03, 1.0))  \n",
    "axs.set_xlabel(\"$\\lambda$ (nm)\")\n",
    "axs.set_title(f\"standard and observed transmission for airmass {am0}\")\n",
    "\n",
    "ax2 = axs.twinx()\n",
    "for ifilt,f in enumerate(filter_tagnames):\n",
    "    ax2.fill_between(pc.bandpass_total_std[f].wavelen,pc.bandpass_total_std[f].sb,color=filter_color[ifilt],alpha=0.1) \n",
    "    ax2.set_yticks([])\n",
    "\n",
    "\n",
    "plt.tight_layout()\n",
    "plt.show()\n"
   ]
  },
  {
   "cell_type": "markdown",
   "id": "b5ebad46-cafd-4ef9-a081-b508ff20c110",
   "metadata": {},
   "source": [
    "## SED"
   ]
  },
  {
   "cell_type": "code",
   "execution_count": null,
   "id": "758940f6-acfe-472a-9416-2f9d715a11df",
   "metadata": {
    "tags": []
   },
   "outputs": [],
   "source": [
    "# Find the throughputs directory \n",
    "#fdir = os.getenv('RUBIN_SIM_DATA_DIR')\n",
    "fdir = get_data_dir()\n",
    "if fdir is None:  #environment variable not set\n",
    "    fdir = os.path.join(os.getenv('HOME'), 'rubin_sim_data')"
   ]
  },
  {
   "cell_type": "code",
   "execution_count": null,
   "id": "e01ddba7-c9e5-4052-be83-190f04b9b0e6",
   "metadata": {},
   "outputs": [],
   "source": [
    "the_sed_flat = Sed()\n",
    "the_sed_flat.set_flat_sed()\n",
    "the_sed_flat.name = 'flat'\n",
    "zmag = 20.0\n",
    "flux_norm = the_sed_flat.calc_flux_norm(zmag, pc.bandpass_total_std['z'])\n",
    "the_sed_flat.multiply_flux_norm(flux_norm)"
   ]
  },
  {
   "cell_type": "code",
   "execution_count": null,
   "id": "e97c8a67-6ea2-426f-aa03-28558260db4b",
   "metadata": {},
   "outputs": [],
   "source": [
    "fig,ax = plt.subplots(1,1,figsize=(8,6))\n",
    "ax.plot(the_sed_flat .wavelen,-2.5*np.log10(the_sed_flat.fnu/F0),\"b-\",label=the_sed_flat.name)\n",
    "\n",
    "ax.legend()\n",
    "#ax.set_ylim(1e-17,1e-14)\n",
    "#ax.set_xlim(300.,2000.)\n",
    "ax.set_title(\"Flat SED $F_\\\\nu$\")\n",
    "ax.set_ylabel(\" Magnitude = $-2.5 \\log_{10}(F_\\\\nu/F_0)$\")\n",
    "ax.set_xlabel(\"$\\\\lambda \\, (nm)$\")\n",
    "ax.yaxis.set_inverted(True)\n",
    "\n",
    "\n",
    "ax3 = ax.twinx()\n",
    "for ifilt,f in enumerate(filter_tagnames):\n",
    "    ax3.fill_between(pc.bandpass_total_std[f].wavelen,pc.bandpass_total_std[f].sb,color=filter_color[ifilt],alpha=0.1) \n",
    "    ax3.set_yticks([])"
   ]
  },
  {
   "cell_type": "code",
   "execution_count": null,
   "id": "dd69f501-84e4-4293-8b3a-3a38424c2920",
   "metadata": {
    "tags": []
   },
   "outputs": [],
   "source": [
    "the_sed = the_sed_flat"
   ]
  },
  {
   "cell_type": "code",
   "execution_count": null,
   "id": "6ceed0bd-295a-41fa-b8a2-67980fb66e2d",
   "metadata": {},
   "outputs": [],
   "source": [
    "fig,(ax,ax2) = plt.subplots(1,2,figsize=(16,6))\n",
    "ax.plot(the_sed .wavelen,the_sed .flambda,\"b-\",label=the_sed.name)\n",
    "ax.legend()\n",
    "ax.set_ylim(1e-17,1e-15)\n",
    "ax.set_xlim(300.,1200.)\n",
    "ax.set_title(\"Flast SED $F_\\lambda$\")\n",
    "ax.set_ylabel(\"$F_\\lambda$\")\n",
    "ax.set_xlabel(\"$\\lambda \\, (nm)$\")\n",
    "\n",
    "\n",
    "ax2.plot(the_sed .wavelen,the_sed.fnu,\"b-\",label=the_sed.name)\n",
    "\n",
    "ax2.set_yscale(\"log\")\n",
    "ax2.legend()\n",
    "ax2.set_ylim(1e-5,1e-4)\n",
    "ax2.set_xlim(300.,1200.)\n",
    "ax2.set_title(\"Flat $F_\\\\nu$\")\n",
    "ax2.set_ylabel(\"$F_\\\\nu$\")\n",
    "ax2.set_xlabel(\"$\\lambda \\, (nm)$\")\n",
    "\n",
    "ax3 = ax.twinx()\n",
    "for ifilt,f in enumerate(filter_tagnames):\n",
    "    ax3.fill_between(pc.bandpass_total_std[f].wavelen,pc.bandpass_total_std[f].sb,color=filter_color[ifilt],alpha=0.1) \n",
    "    ax3.set_yticks([])\n",
    "    \n",
    "ax4 = ax2.twinx()\n",
    "for ifilt,f in enumerate(filter_tagnames):\n",
    "    ax4.fill_between(pc.bandpass_total_std[f].wavelen,pc.bandpass_total_std[f].sb,color=filter_color[ifilt],alpha=0.1) \n",
    "    ax4.set_yticks([])"
   ]
  },
  {
   "cell_type": "markdown",
   "id": "e35c2646-13f0-4330-bec8-704a2eb494c5",
   "metadata": {},
   "source": [
    "## Calculate magnitudes AB and Observed Magnitudes for standard and non-standard Magnitudes \n",
    "\n",
    "- by construction the AB magnitudes are invariant as the true transmission is considered\n",
    "- the observed magnitudes provide the resolution as the true transmission-observed transmision is not the expected transmission"
   ]
  },
  {
   "cell_type": "code",
   "execution_count": null,
   "id": "e40be30a-1060-4edc-b8d4-8f1903a3ab45",
   "metadata": {
    "tags": []
   },
   "outputs": [],
   "source": [
    "mag_std = {}\n",
    "adu_std = {}\n",
    "atm_bands = pc.bandpass_total_std\n",
    "for index,f in enumerate(filter_tagnames) :\n",
    "    mag_std[f] = the_sed.calc_mag(atm_bands[f])\n",
    "    adu_std[f] = -2.5*np.log10(the_sed.calc_adu(atm_bands[f],photoparams))"
   ]
  },
  {
   "cell_type": "code",
   "execution_count": null,
   "id": "aa053756-199a-4f78-a387-5f1fb673c1ff",
   "metadata": {},
   "outputs": [],
   "source": [
    "mag_std"
   ]
  },
  {
   "cell_type": "code",
   "execution_count": null,
   "id": "496aaa76-47d0-4bcb-a509-338533333953",
   "metadata": {
    "tags": []
   },
   "outputs": [],
   "source": [
    "adu_std"
   ]
  },
  {
   "cell_type": "markdown",
   "id": "735bc6f4-96b6-4d48-a161-bb8b10f615de",
   "metadata": {},
   "source": [
    "#### Generate magntudes for non standard  atmosphere"
   ]
  },
  {
   "cell_type": "code",
   "execution_count": null,
   "id": "a33bcbc7-d26d-4fdb-ae29-98534ce63d99",
   "metadata": {},
   "outputs": [],
   "source": [
    "df = pd.DataFrame(columns = [\"pwv\",\"magu\",\"magg\",\"magr\",\"magi\",\"magz\",\"magy\",\n",
    "                                   \"aduu\",\"adug\",\"adur\",\"adui\",\"aduz\",\"aduy\"])\n",
    "\n",
    "for idx_oz,oz in enumerate(all_oz):\n",
    "    mag_nonstd = {}\n",
    "    adu_nonstd = {}\n",
    "    atm_bands = pc.coll_bandpass_total_nonstd[idx_oz] \n",
    "    for index,f in enumerate(filter_tagnames) :\n",
    "        mag_nonstd[f] = the_sed.calc_mag(atm_bands[f])\n",
    "        adu_nonstd[f] = -2.5*np.log10(the_sed.calc_adu(atm_bands[f],photoparams))\n",
    "   \n",
    "    df.loc[idx_oz] = [pwv, mag_nonstd[\"u\"],mag_nonstd[\"g\"],mag_nonstd[\"r\"],mag_nonstd[\"i\"],mag_nonstd[\"z\"],mag_nonstd[\"y\"],\n",
    "                       adu_nonstd[\"u\"],adu_nonstd[\"g\"],adu_nonstd[\"r\"],adu_nonstd[\"i\"],adu_nonstd[\"z\"],adu_nonstd[\"y\"]] "
   ]
  },
  {
   "cell_type": "code",
   "execution_count": null,
   "id": "4995ed6e-748a-42b8-9c06-1c3884addf8a",
   "metadata": {
    "tags": []
   },
   "outputs": [],
   "source": [
    "df = df[[\"pwv\",\"aduu\",\"adug\",\"adur\",\"adui\",\"aduz\",\"aduy\"]]"
   ]
  },
  {
   "cell_type": "code",
   "execution_count": null,
   "id": "b4a5b763-2521-49b5-bdea-f80e339c2616",
   "metadata": {
    "tags": []
   },
   "outputs": [],
   "source": [
    "df"
   ]
  },
  {
   "cell_type": "markdown",
   "id": "159d53f5-6986-45fa-845f-934e9d5e5ce3",
   "metadata": {},
   "source": [
    "### Compute difference in mmag between the value and the standard value"
   ]
  },
  {
   "cell_type": "code",
   "execution_count": null,
   "id": "52eda03f-9296-4e1c-8555-28a370e84a7d",
   "metadata": {
    "tags": []
   },
   "outputs": [],
   "source": [
    "for index,f in enumerate(filter_tagnames) :\n",
    "    label_in = f'adu{f}'\n",
    "    label_out =f'd_adu{f}'\n",
    "    df[label_out] = (df[label_in]- adu_std[f])*1000. "
   ]
  },
  {
   "cell_type": "markdown",
   "id": "e227c1de-f3e9-4c79-8dae-7521a0bfaa81",
   "metadata": {},
   "source": [
    "### Drop absolute mags and keep mag difference"
   ]
  },
  {
   "cell_type": "code",
   "execution_count": null,
   "id": "c8226e85-e923-426a-b8d2-16f26b5f2811",
   "metadata": {
    "tags": []
   },
   "outputs": [],
   "source": [
    "df = df.drop(labels=[\"aduu\",\"adug\",\"adur\",\"adui\",\"aduz\",\"aduy\"],axis=1)"
   ]
  },
  {
   "cell_type": "code",
   "execution_count": null,
   "id": "bf9e4168-857a-4c7d-9e0a-5cb72bf7b21b",
   "metadata": {
    "tags": []
   },
   "outputs": [],
   "source": [
    "df"
   ]
  },
  {
   "cell_type": "code",
   "execution_count": null,
   "id": "a253c8d4-2c9e-400b-bc07-685628f3885e",
   "metadata": {
    "tags": []
   },
   "outputs": [],
   "source": [
    "df_stat = df.describe()\n",
    "df_stat "
   ]
  },
  {
   "cell_type": "code",
   "execution_count": null,
   "id": "86b96f0b-9ecd-455e-afb8-ac784ca00924",
   "metadata": {
    "tags": []
   },
   "outputs": [],
   "source": [
    "NF = len(filter_tagnames)\n",
    "ncols = 3\n",
    "nrows = int(np.ceil(NF/ncols))\n",
    "fig,axes = plt.subplots(nrows,ncols,figsize=(16,10),sharex=True)\n",
    "axs =axes.flatten()\n",
    "\n",
    "for idx,ax in enumerate(axs):\n",
    "    f = filter_tagnames[idx]\n",
    "    label = f'd_adu{f}'\n",
    "    data_stat = df[label].describe()\n",
    "    mean = data_stat[\"mean\"]\n",
    "    std = data_stat[\"std\"]\n",
    "    textstr = '\\n'.join((\n",
    "    r'$\\mu=%.2f$ mmag' % (mean, ),\n",
    "    r'$\\sigma=%.2f$ mmag' % (std, )))\n",
    "    df[label].hist(ax=ax,bins=50,facecolor=filter_color[idx])\n",
    "    ax.set_xlabel(\"$\\Delta m$ (mmag)\")\n",
    "    ax.set_title(f\"mag(true)-mag(std) in filt {f}\")\n",
    "    ax.text(0.05, 0.95, textstr, transform=ax.transAxes, fontsize=16,verticalalignment='top', bbox=props)\n",
    "ymin,ymax = ax.get_ylim()\n",
    "ax.set_ylim(ymin,ymax*1.3)\n",
    "plt.tight_layout() "
   ]
  },
  {
   "cell_type": "code",
   "execution_count": null,
   "id": "1ae9d3f8-4d14-4007-8850-88258914af93",
   "metadata": {
    "tags": []
   },
   "outputs": [],
   "source": [
    "df"
   ]
  },
  {
   "cell_type": "markdown",
   "id": "4c2ddf95-16c8-4859-95e2-122a259a2bd8",
   "metadata": {},
   "source": [
    "### Compute relative color difference"
   ]
  },
  {
   "cell_type": "code",
   "execution_count": null,
   "id": "a32c179d-0ccc-4f91-8b82-0ee39be3845f",
   "metadata": {
    "tags": []
   },
   "outputs": [],
   "source": [
    "df[\"d_U-G\"] = df[\"d_aduu\"] -  df[\"d_adug\"]\n",
    "df[\"d_G-R\"] = df[\"d_adug\"] -  df[\"d_adur\"]\n",
    "df[\"d_R-I\"] = df[\"d_adur\"] -  df[\"d_adui\"]"
   ]
  },
  {
   "cell_type": "code",
   "execution_count": null,
   "id": "9579e0eb-29b4-4a10-ac0e-36a86f8ae86f",
   "metadata": {
    "tags": []
   },
   "outputs": [],
   "source": [
    "ncols = 3\n",
    "nrows = 1\n",
    "\n",
    "fig,axes = plt.subplots(nrows,ncols,figsize=(16,5),sharex=True)\n",
    "axs =axes.flatten()\n",
    "col_labels = [\"d_U-G\",\"d_G-R\",\"d_R-I\"]\n",
    "col_tags = [\"U-G\",\"G-R\",\"R-I\"]\n",
    "col_colors = [\"b\",\"g\",\"r\"]\n",
    "for idx,ax in enumerate(axs):\n",
    "    xlabel = \"$\\Delta ($\" + col_tags[idx]+ \") (mmag)\"\n",
    "    title = \"col(true)-col(std) : $\\Delta ($\" + col_tags[idx]+ \")\"\n",
    "    label = col_labels[idx] \n",
    "    data_stat = df[label].describe()\n",
    "    mean = data_stat[\"mean\"]\n",
    "    std = data_stat[\"std\"]\n",
    "    textstr = '\\n'.join((\n",
    "    r'$\\mu=%.2f$ mmag' % (mean, ),\n",
    "    r'$\\sigma=%.2f$ mmag' % (std, )))\n",
    "    df[label].hist(ax=ax,bins=50,facecolor=col_colors[idx])\n",
    "    ax.set_xlabel(xlabel)\n",
    "    ax.set_title(title)\n",
    "    ax.text(0.05, 0.95, textstr, transform=ax.transAxes, fontsize=16,verticalalignment='top', bbox=props)\n",
    "ymin,ymax = ax.get_ylim()\n",
    "ax.set_ylim(ymin,ymax*1.2)\n",
    "plt.tight_layout() "
   ]
  },
  {
   "cell_type": "code",
   "execution_count": null,
   "id": "5dfb3251-809f-46bc-89ef-787185e41378",
   "metadata": {},
   "outputs": [],
   "source": []
  }
 ],
 "metadata": {
  "kernelspec": {
   "display_name": "Python 3 (ipykernel)",
   "language": "python",
   "name": "python3"
  },
  "language_info": {
   "codemirror_mode": {
    "name": "ipython",
    "version": 3
   },
   "file_extension": ".py",
   "mimetype": "text/x-python",
   "name": "python",
   "nbconvert_exporter": "python",
   "pygments_lexer": "ipython3",
   "version": "3.11.5"
  }
 },
 "nbformat": 4,
 "nbformat_minor": 5
}
