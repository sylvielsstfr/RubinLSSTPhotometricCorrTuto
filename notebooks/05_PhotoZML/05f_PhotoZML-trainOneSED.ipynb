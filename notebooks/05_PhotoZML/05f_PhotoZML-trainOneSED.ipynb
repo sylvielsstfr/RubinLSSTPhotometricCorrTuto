{
 "cells": [
  {
   "cell_type": "markdown",
   "id": "c1762601-e66e-40e5-99d6-7c60b8eb5938",
   "metadata": {},
   "source": [
    "# 05f  Train only one SED over different redshifts\n",
    "- author Sylvie Dagoret-Campagne\n",
    "- creation date : 2024/03/22\n",
    "- last verification : 2024/03/22 (CCIN2P3 - kernel conda_desc_py310)"
   ]
  },
  {
   "cell_type": "markdown",
   "id": "ed3f7b4d-90d2-40a6-acec-59a184f16dd6",
   "metadata": {},
   "source": [
    "### Use libraries\n",
    "\n",
    "- getObsAtmo : for atmosphere emulation : https://github.com/LSSTDESC/getObsAtmo/tree/main\n",
    "- rubinsimphot : a simplified version of rubin_sim : https://github.com/sylvielsstfr/rubinsimphot"
   ]
  },
  {
   "cell_type": "code",
   "execution_count": 1,
   "id": "e71210ce-c077-4178-91a4-cd9343410c97",
   "metadata": {},
   "outputs": [],
   "source": [
    "import numpy as np\n",
    "import matplotlib.pyplot as plt\n",
    "%matplotlib inline\n",
    "import matplotlib.colors as colors\n",
    "import matplotlib.cm as cmx\n",
    "from mpl_toolkits.axes_grid1 import make_axes_locatable\n",
    "from matplotlib.colors import LogNorm\n",
    "from matplotlib.gridspec import GridSpec\n",
    "import seaborn as sns\n",
    "import pandas as pd\n",
    "import copy\n",
    "\n",
    "import matplotlib.ticker                         # here's where the formatter is\n",
    "import os\n",
    "import re\n",
    "import pandas as pd\n",
    "import getpass\n",
    "import datetime\n",
    "\n",
    "plt.rcParams[\"figure.figsize\"] = (8,6)\n",
    "plt.rcParams[\"axes.labelsize\"] = 'xx-large'\n",
    "plt.rcParams['axes.titlesize'] = 'xx-large'\n",
    "plt.rcParams['xtick.labelsize']= 'xx-large'\n",
    "plt.rcParams['ytick.labelsize']= 'xx-large'\n",
    "props = dict(boxstyle='round', facecolor='yellow', alpha=0.3)\n",
    "\n",
    "# Set up some plotting defaults:\n",
    "\n",
    "params = {'axes.labelsize': 28,\n",
    "          'font.size': 24,\n",
    "          'legend.fontsize': 14,\n",
    "          'xtick.major.width': 3,\n",
    "          'xtick.minor.width': 2,\n",
    "          'xtick.major.size': 12,\n",
    "          'xtick.minor.size': 6,\n",
    "          'xtick.direction': 'in',\n",
    "          'xtick.top': True,\n",
    "          'lines.linewidth': 3,\n",
    "          'axes.linewidth': 3,\n",
    "          'axes.labelweight': 3,\n",
    "          'axes.titleweight': 3,\n",
    "          'ytick.major.width': 3,\n",
    "          'ytick.minor.width': 2,\n",
    "          'ytick.major.size': 12,\n",
    "          'ytick.minor.size': 6,\n",
    "          'ytick.direction': 'in',\n",
    "          'ytick.right': True,\n",
    "          'figure.figsize': [18, 10],\n",
    "          'figure.facecolor': 'White'\n",
    "          }\n",
    "\n",
    "plt.rcParams.update(params)"
   ]
  },
  {
   "cell_type": "code",
   "execution_count": 2,
   "id": "c817cd0d-2557-48f2-aed6-9427a2d45ef9",
   "metadata": {},
   "outputs": [],
   "source": [
    "from scipy import interpolate\n",
    "from astropy import constants as const\n",
    "from astropy import units as u\n",
    "from joblib import dump, load"
   ]
  },
  {
   "cell_type": "code",
   "execution_count": 3,
   "id": "bce3659d-ff65-4564-8b63-ed684dd78e00",
   "metadata": {},
   "outputs": [],
   "source": [
    "import warnings                      # imports the warnings library\n",
    "import gc                            # imports python's garbage collector\n",
    "# Ignore warnings\n",
    "from astropy.units import UnitsWarning\n",
    "warnings.simplefilter(\"ignore\", category=UnitsWarning)\n",
    "from sklearn.exceptions import DataConversionWarning\n",
    "warnings.filterwarnings(action='ignore', category=DataConversionWarning)\n",
    "\n",
    "from joblib import dump, load\n",
    "import pickle"
   ]
  },
  {
   "cell_type": "markdown",
   "id": "fc03bdef-6a46-400a-92fe-cae86730c348",
   "metadata": {},
   "source": [
    "## Imports dedicated to this work\n",
    "\n",
    "- import the atmospheric transparency emulator (instead of using libradtran code).\n",
    "- import rubin sim\n",
    "- import libPhotometricCorrections : encapsulate uninteresting calculation details"
   ]
  },
  {
   "cell_type": "markdown",
   "id": "1eef4e24-d82d-4f69-9542-9b78c5762732",
   "metadata": {},
   "source": [
    "### libradtran emulator"
   ]
  },
  {
   "cell_type": "code",
   "execution_count": 4,
   "id": "14f13053-a0a4-4245-a672-fb81769b7ac3",
   "metadata": {},
   "outputs": [
    {
     "name": "stdout",
     "output_type": "stream",
     "text": [
      "Version of getObsAtmo : 0.1.1\n"
     ]
    }
   ],
   "source": [
    "from importlib.metadata import version\n",
    "the_ver = version('getObsAtmo')\n",
    "print(f\"Version of getObsAtmo : {the_ver}\")"
   ]
  },
  {
   "cell_type": "code",
   "execution_count": 5,
   "id": "0f1fd062-3107-4ef0-bc56-3007e68ab2ea",
   "metadata": {},
   "outputs": [
    {
     "name": "stdout",
     "output_type": "stream",
     "text": [
      "LSST site name validated as LSST observatory\n"
     ]
    }
   ],
   "source": [
    "from getObsAtmo import ObsAtmo\n",
    "emul = ObsAtmo()"
   ]
  },
  {
   "cell_type": "code",
   "execution_count": 6,
   "id": "07058b36-520a-42d2-8c7c-e98ad4971aa4",
   "metadata": {},
   "outputs": [],
   "source": [
    "WL = emul.GetWL()"
   ]
  },
  {
   "cell_type": "code",
   "execution_count": 7,
   "id": "a0de5102-b6a9-4da6-8539-d25cd126d55c",
   "metadata": {},
   "outputs": [
    {
     "name": "stdout",
     "output_type": "stream",
     "text": [
      "LSST site name validated as LSST observatory\n"
     ]
    }
   ],
   "source": [
    "import sys\n",
    "sys.path.append('../lib')\n",
    "import libAtmosphericFit"
   ]
  },
  {
   "cell_type": "code",
   "execution_count": 8,
   "id": "b31208b1-30e9-4248-b812-67167b539fe2",
   "metadata": {},
   "outputs": [
    {
     "name": "stdout",
     "output_type": "stream",
     "text": [
      "LSST site name validated as LSST observatory\n"
     ]
    }
   ],
   "source": [
    "# This package encapsulate the calculation on calibration used in this nb\n",
    "from libPhotometricCorrections import *"
   ]
  },
  {
   "cell_type": "markdown",
   "id": "23019f73-7062-4d30-b892-779167b7e008",
   "metadata": {},
   "source": [
    "https://github.com/lsst/rubin_sim_notebooks/blob/main/photometry/calculating_snr.ipynb"
   ]
  },
  {
   "cell_type": "code",
   "execution_count": 9,
   "id": "a93fc1ba-dfd4-4b98-abb0-d8e25e0d4297",
   "metadata": {},
   "outputs": [],
   "source": [
    "from rubinsimphot.phot_utils import Bandpass, Sed\n",
    "from rubinsimphot.data import get_data_dir\n",
    "from rubinsimphot.phot_utils import PhotometricParameters \n",
    "from rubinsimphot.site_models import SeeingModel\n",
    "from rubinsimphot.phot_utils import signaltonoise\n",
    "from rubinsimphot.phot_utils import calc_neff"
   ]
  },
  {
   "cell_type": "code",
   "execution_count": 10,
   "id": "62768d65-ae88-4a23-a4cd-f463b93fd1da",
   "metadata": {},
   "outputs": [],
   "source": [
    "def set_photometric_parameters(exptime, nexp, readnoise=None):\n",
    "    # readnoise = None will use the default (8.8 e/pixel). Readnoise should be in electrons/pixel.\n",
    "    photParams = PhotometricParameters(exptime=exptime, nexp=nexp, readnoise=readnoise)\n",
    "    return photParams"
   ]
  },
  {
   "cell_type": "code",
   "execution_count": 11,
   "id": "5274f999-98b9-451c-96ab-762c9c2d8c3d",
   "metadata": {},
   "outputs": [],
   "source": [
    "def scale_sed(ref_mag, ref_filter, sed):\n",
    "    fluxNorm = sed.calc_flux_norm(ref_mag, lsst_std[ref_filter])\n",
    "    sed.multiply_flux_norm(fluxNorm)\n",
    "    return sed"
   ]
  },
  {
   "cell_type": "code",
   "execution_count": 12,
   "id": "62a4530f-6a86-460f-8397-2ccdddef3e3a",
   "metadata": {},
   "outputs": [],
   "source": [
    "seeing_model = SeeingModel()\n",
    "def seeing_at_X(obs_filter, obs_X, atmospheric_seeing_500nm=None, seeing_zenith=None):\n",
    "    \"Return FWHMeff in `obs_filter` at `obs_X`, providing either the seeing @ zenith (in filter) or the FWHM_500\"\n",
    "    if atmospheric_seeing_500nm is not None:\n",
    "        idx = filterlist.index(obs_filter)\n",
    "        fwhm_eff = seeing_model(atmospheric_seeing_500nm, obs_X)['fwhmEff'][idx]\n",
    "    elif seeing_zenith is not None:\n",
    "        # assume seeing_zenith is in the filter of choice and just approximate for airmass \n",
    "        airmass_correction = np.power(obs_X, 0.6)\n",
    "        fwhm_eff = 1.16 * seeing_zenith * airmass_correction\n",
    "    else:\n",
    "        raise ValueErorr('Must specify atmospheric_seeing_500nm or seeing_zenith')\n",
    "    return fwhm_eff"
   ]
  },
  {
   "cell_type": "code",
   "execution_count": 13,
   "id": "030bc19a-2c66-4426-8cbf-02e319e1257f",
   "metadata": {},
   "outputs": [],
   "source": [
    "def calc_snr(sed, obs_filter, obs_skymag, obs_fwhm_eff, obs_X, \n",
    "             ref_filter, ref_mag, \n",
    "             exptime=15, nexp=2, verbose=False):\n",
    "    obs_sky = scale_sky(obs_skymag, obs_filter)\n",
    "    lsst_x = throughput_at_X(obs_X)\n",
    "    scaled_sed = scale_sed(ref_mag, ref_filter, sed)\n",
    "    photParams = set_photometric_parameters(exptime, nexp)\n",
    "    snr = SignalToNoise.calc_snr_sed(scaled_sed, lsst_x[obs_filter], \n",
    "                                    obs_sky, lsst_hardware[obs_filter], \n",
    "                                    photParams, fwhm_eff=obs_fwhm_eff, \n",
    "                                    verbose=verbose)\n",
    "    return snr"
   ]
  },
  {
   "cell_type": "code",
   "execution_count": 14,
   "id": "fa075539-bc41-4630-a67b-c2cf4edec946",
   "metadata": {},
   "outputs": [],
   "source": [
    "def get_stats(z_spec,z_phot,slope=0.15):\n",
    "    \"\"\"\n",
    "    input : \n",
    "       - z_spec : spectroscopic redshift or true redshift\n",
    "       - z_phot : photo-z reedshift\n",
    "       - slope : slope of line defining the outliers  3 x sigma_z with sigma_z = 5%, so slope = 3 x 0.05 = 0.15 \n",
    "    \"\"\"\n",
    "    \n",
    "    mask = np.abs((z_phot - z_spec)/(1 + z_spec)) > slope\n",
    "    notmask = ~mask \n",
    "    \n",
    "    # Standard Deviation of the predicted redshifts compared to the data:\n",
    "    #-----------------------------------------------------------------\n",
    "    std_result = np.std((z_phot - z_spec)/(1 + z_spec), ddof=1)\n",
    "    print('Standard Deviation: %6.4f' % std_result)\n",
    "    \n",
    "\n",
    "    # Normalized MAD (Median Absolute Deviation):\n",
    "    #------------------------------------------\n",
    "    nmad = 1.48 * np.median(np.abs((z_phot - z_spec)/(1 + z_spec)))\n",
    "    print('Normalized MAD: %6.4f' % nmad)\n",
    "\n",
    "    # Percentage of delta-z > 0.15(1+z) outliers:\n",
    "    #-------------------------------------------\n",
    "    eta = np.sum(np.abs((z_phot - z_spec)/(1 + z_spec)) > 0.15)/len(z_spec)\n",
    "    print('Delta z >0.15(1+z) outliers: %6.3f percent' % (100.*eta))\n",
    "    \n",
    "    # Median offset (normalized by (1+z); i.e., bias:\n",
    "    #-----------------------------------------------\n",
    "    bias = np.median(((z_phot - z_spec)/(1 + z_spec)))\n",
    "    sigbias=std_result/np.sqrt(0.64*len(z_phot))\n",
    "    print('Median offset: %6.3f +/- %6.3f' % (bias,sigbias))\n",
    "    \n",
    "    \n",
    "     # overlay statistics with titles left-aligned and numbers right-aligned\n",
    "    stats_txt = '\\n'.join([\n",
    "        'NMAD  = {:0.4f}'.format(nmad),\n",
    "        'STDEV = {:0.4f}'.format(std_result),\n",
    "        'BIAS  = {:0.4f}'.format(bias),\n",
    "        'ETA   = {:0.4f}'.format(eta)\n",
    "    ])\n",
    "    \n",
    "    \n",
    "    return nmad,std_result,bias,eta,stats_txt\n",
    "    "
   ]
  },
  {
   "cell_type": "code",
   "execution_count": 15,
   "id": "4c4fd696-ffbe-4a6d-bc73-07202a468b58",
   "metadata": {},
   "outputs": [],
   "source": [
    "#A function that we will call a lot: makes the zphot/zspec plot and calculates key statistics\n",
    "def plotdzvsz(ax):\n",
    "    \n",
    "    x = np.arange(0,5.4,0.05)\n",
    "    outlier_upper = 0.01\n",
    "    outlier_lower = - 0.01\n",
    "    \n",
    "    #add lines to indicate outliers\n",
    "    ax.axhline(y=outlier_upper, ls=\"--\",color='k')\n",
    "    ax.axhline(y=outlier_lower, ls='--',color='k')\n",
    "    \n",
    "    ax.axhline(y=0, linewidth=1.5, color = 'red')\n",
    "    \n",
    "    ax.set_xlim([0.0, 3])\n",
    "    ax.set_ylim([-0.05, 0.05])\n",
    "    ax.set_xlabel('$z_{\\mathrm{spec}}$', fontsize = 27)\n",
    "    ax.set_ylabel('$\\Delta z/(1+z)$', fontsize = 27)\n",
    "    ax.grid(alpha = 0.8)\n",
    "    ax.tick_params(labelsize=15)\n",
    " \n",
    "    "
   ]
  },
  {
   "cell_type": "markdown",
   "id": "6634613c-c905-4b64-8b28-61332314fc71",
   "metadata": {},
   "source": [
    "## PZ estimator"
   ]
  },
  {
   "cell_type": "code",
   "execution_count": 16,
   "id": "58e82d40-2008-4624-9a29-5e6700e28b61",
   "metadata": {},
   "outputs": [],
   "source": [
    "from sklearn.ensemble import RandomForestRegressor\n",
    "#randomforest_regressor = RandomForestRegressor(n_estimators = 50, max_depth = 30, max_features = 'auto')\n",
    "randomforest_regressor = RandomForestRegressor(n_estimators = 50, max_depth = 30)"
   ]
  },
  {
   "cell_type": "code",
   "execution_count": 17,
   "id": "7048d61c-3241-4153-9c10-e0e5d7babd6b",
   "metadata": {},
   "outputs": [],
   "source": [
    "from sklearn.pipeline import make_pipeline\n",
    "from sklearn.preprocessing import StandardScaler"
   ]
  },
  {
   "cell_type": "code",
   "execution_count": 18,
   "id": "6df4747b-64b3-47d1-a403-67e5f037bcfb",
   "metadata": {},
   "outputs": [],
   "source": [
    "#filename_modelparams = 'randomforest_regressor.joblib'\n",
    "filename_modelparams = 'randomforest_regressor_standardized.joblib'\n",
    "regressor = load(filename_modelparams) "
   ]
  },
  {
   "cell_type": "markdown",
   "id": "845c562a-831e-4695-b7ad-b59b02f1df10",
   "metadata": {},
   "source": [
    "## Configuration"
   ]
  },
  {
   "cell_type": "code",
   "execution_count": 19,
   "id": "146f12df-77e1-48b7-bf7f-10bf673880d6",
   "metadata": {},
   "outputs": [],
   "source": [
    "path_rubin_sim_throughput=os.path.join(get_data_dir(),\"throughputs/baseline\")"
   ]
  },
  {
   "cell_type": "markdown",
   "id": "2c062900-65de-4ee9-b1ed-63c4343d2437",
   "metadata": {},
   "source": [
    "## Chose a Standard atmosphere"
   ]
  },
  {
   "cell_type": "code",
   "execution_count": 20,
   "id": "5d610808-0060-4805-8e84-cbd220d7a5a0",
   "metadata": {},
   "outputs": [],
   "source": [
    "# standard atmosphere\n",
    "am0 =1.20    # airmass\n",
    "pwv0 = 2.0  # Precipitable water vapor vertical column depth in mm\n",
    "oz0 = 300.  # Ozone vertical column depth in Dobson Unit (DU)\n",
    "tau0= 0.0 # Vertical Aerosol depth (VAOD) \n",
    "beta0 = 1.0 # Aerosol Angstrom exponent"
   ]
  },
  {
   "cell_type": "markdown",
   "id": "00e11d5b-55c0-4615-a3aa-daec0348a9da",
   "metadata": {},
   "source": [
    "### Initialisation of Atmospheric corrections"
   ]
  },
  {
   "cell_type": "code",
   "execution_count": 21,
   "id": "14ce34dd-200a-4bb7-881a-4c8e2822b8f1",
   "metadata": {},
   "outputs": [
    {
     "name": "stderr",
     "output_type": "stream",
     "text": [
      "/pbs/throng/lsst/users/dagoret/desc/2024/AtmosphericStuffs/rubinsimphot/src/rubinsimphot/phot_utils/bandpass.py:68: UserWarning: Wavelength sampling of 1.0 nm is > 0.2 nm, this may not work well with a Sed object. Consider resampling with resample_bandpass method.\n",
      "  warnings.warn(\n"
     ]
    }
   ],
   "source": [
    "pc = PhotometricCorrections(am0,pwv0,oz0,tau0,beta0)"
   ]
  },
  {
   "cell_type": "markdown",
   "id": "89e17564-b611-450a-9341-c98cad2d4c73",
   "metadata": {},
   "source": [
    "### Check standard atmosphere"
   ]
  },
  {
   "cell_type": "code",
   "execution_count": 22,
   "id": "5d7ccb4e-55f3-4395-ae38-47908f30fa27",
   "metadata": {},
   "outputs": [
    {
     "data": {
      "text/plain": [
       "Text(0.5, 1.0, 'Standard atmosphere transmission')"
      ]
     },
     "execution_count": 22,
     "metadata": {},
     "output_type": "execute_result"
    },
    {
     "data": {
      "image/png": "[encoded data removed]",
      "text/plain": [
       "<Figure size 600x400 with 1 Axes>"
      ]
     },
     "metadata": {},
     "output_type": "display_data"
    }
   ],
   "source": [
    "fig, axs = plt.subplots(1,1,figsize=(6,4))\n",
    "axs.plot(pc.WL,pc.atm_std,'k-')\n",
    "axs.set_xlabel(\"$\\\\lambda$ (nm)\")\n",
    "axs.set_title(\"Standard atmosphere transmission\")"
   ]
  },
  {
   "cell_type": "markdown",
   "id": "782ad306-cfb1-4b42-8d54-b2a9227073b9",
   "metadata": {},
   "source": [
    "## Pickup an SED"
   ]
  },
  {
   "cell_type": "code",
   "execution_count": 23,
   "id": "5b93e747-2906-4d31-801e-27b93de42e7a",
   "metadata": {},
   "outputs": [],
   "source": [
    "# this will contain attributes calculated for each SED\n",
    "df_SED = pd.DataFrame(columns=[\"name\",\"type\"])"
   ]
  },
  {
   "cell_type": "code",
   "execution_count": 24,
   "id": "6cf46788-1e60-4e21-b38e-b72824101290",
   "metadata": {},
   "outputs": [],
   "source": [
    "datadir = get_data_dir()\n",
    "#sedDir = '/Users/lynnej/other_repos/photometry_sample'\n",
    "sedDir = os.path.join(datadir,'photometry_sample')\n",
    "\n",
    "sedtypes = ['galaxies', 'quasar','photoZ_outliers'] \n",
    "sedtypes_not_used = ['stars', 'white_dwarf','sn']\n",
    "sedtypes = sedtypes \n",
    "\n",
    "NSEDTYPES = len(sedtypes)\n",
    "\n",
    "# dictionnary indexed by sed-name\n",
    "seds = {}      # dictionnary that will contain the `rubin_sim` seds-Flambdas\n",
    "sedsfnu = {}   # dictionnary that will contain the `rubin_sim` seds-Fnu\n",
    "sedtypeslists = {}  # dictionnary that contain the SED type\n",
    "count_sed =0\n",
    "\n",
    "# loop on SED type\n",
    "for idx,s in enumerate(sedtypes):\n",
    "    sedtypelist = []\n",
    "    # loop on object sed in SED type list\n",
    "    filenames = os.listdir(os.path.join(sedDir, s))\n",
    "    for f in filenames:\n",
    "        name = f.replace('.dat', '').replace('.sed', '')\n",
    "        \n",
    "        if name == \"m3.0Full\":\n",
    "            continue\n",
    "            \n",
    "        seds[name] = Sed()\n",
    "        seds[name].read_sed_flambda(os.path.join(sedDir, s, f))\n",
    "        sedsfnu[name]= Sed()\n",
    "    \n",
    "        # save the name of the sed in the list\n",
    "        sedtypelist.append(name) \n",
    "        df_SED.loc[count_sed] = [name,s]\n",
    "        count_sed+=1\n",
    "        \n",
    "    # save the above list in a dictionary\n",
    "    sedtypeslists[s] =  sedtypelist\n",
    "        \n"
   ]
  },
  {
   "cell_type": "code",
   "execution_count": 25,
   "id": "82f9b155-8233-4108-b457-3779d7f08921",
   "metadata": {},
   "outputs": [
    {
     "data": {
      "text/html": [
       "<div>\n",
       "<style scoped>\n",
       "    .dataframe tbody tr th:only-of-type {\n",
       "        vertical-align: middle;\n",
       "    }\n",
       "\n",
       "    .dataframe tbody tr th {\n",
       "        vertical-align: top;\n",
       "    }\n",
       "\n",
       "    .dataframe thead th {\n",
       "        text-align: right;\n",
       "    }\n",
       "</style>\n",
       "<table border=\"1\" class=\"dataframe\">\n",
       "  <thead>\n",
       "    <tr style=\"text-align: right;\">\n",
       "      <th></th>\n",
       "      <th>type</th>\n",
       "    </tr>\n",
       "    <tr>\n",
       "      <th>name</th>\n",
       "      <th></th>\n",
       "    </tr>\n",
       "  </thead>\n",
       "  <tbody>\n",
       "    <tr>\n",
       "      <th>Sa_template_norm</th>\n",
       "      <td>galaxies</td>\n",
       "    </tr>\n",
       "    <tr>\n",
       "      <th>Ell2_template_norm</th>\n",
       "      <td>galaxies</td>\n",
       "    </tr>\n",
       "    <tr>\n",
       "      <th>Sdm_template_norm0</th>\n",
       "      <td>galaxies</td>\n",
       "    </tr>\n",
       "    <tr>\n",
       "      <th>quasar</th>\n",
       "      <td>quasar</td>\n",
       "    </tr>\n",
       "    <tr>\n",
       "      <th>xspec_172</th>\n",
       "      <td>photoZ_outliers</td>\n",
       "    </tr>\n",
       "    <tr>\n",
       "      <th>xspec_90</th>\n",
       "      <td>photoZ_outliers</td>\n",
       "    </tr>\n",
       "    <tr>\n",
       "      <th>xspec_173</th>\n",
       "      <td>photoZ_outliers</td>\n",
       "    </tr>\n",
       "    <tr>\n",
       "      <th>xspec_91</th>\n",
       "      <td>photoZ_outliers</td>\n",
       "    </tr>\n",
       "    <tr>\n",
       "      <th>xspec_176</th>\n",
       "      <td>photoZ_outliers</td>\n",
       "    </tr>\n",
       "    <tr>\n",
       "      <th>xspec_175</th>\n",
       "      <td>photoZ_outliers</td>\n",
       "    </tr>\n",
       "  </tbody>\n",
       "</table>\n",
       "</div>"
      ],
      "text/plain": [
       "                               type\n",
       "name                               \n",
       "Sa_template_norm           galaxies\n",
       "Ell2_template_norm         galaxies\n",
       "Sdm_template_norm0         galaxies\n",
       "quasar                       quasar\n",
       "xspec_172           photoZ_outliers\n",
       "xspec_90            photoZ_outliers\n",
       "xspec_173           photoZ_outliers\n",
       "xspec_91            photoZ_outliers\n",
       "xspec_176           photoZ_outliers\n",
       "xspec_175           photoZ_outliers"
      ]
     },
     "execution_count": 25,
     "metadata": {},
     "output_type": "execute_result"
    }
   ],
   "source": [
    "df_SED=df_SED.set_index('name')\n",
    "df_SED"
   ]
  },
  {
   "cell_type": "code",
   "execution_count": 26,
   "id": "027d421d-983e-4a1b-8b1f-6eff77ec9eaf",
   "metadata": {},
   "outputs": [],
   "source": [
    "#sed_name = 'xspec_90'\n",
    "#sed_name = 'xspec_91'\n",
    "#sed_name = 'xspec_172'\n",
    "#sed_name = 'xspec_173'\n",
    "#sed_name = 'xspec_175'\n",
    "#sed_name = 'xspec_176'\n",
    "#sed_name = 'quasar'\n",
    "#sed_name = 'Sa_template_norm'\n",
    "#sed_name = 'Sdm_template_norm0'\n",
    "sed_name = 'Ell2_template_norm'\n",
    "#sed_name = 'sn1a_10.0'\n",
    "#sed_name = 'sn1a_15.0'\n",
    "#sed_name = 'sn1a_20.0'"
   ]
  },
  {
   "cell_type": "code",
   "execution_count": 27,
   "id": "5df6cb0e-8ca9-4b4b-b0f6-59d41b6d3115",
   "metadata": {},
   "outputs": [],
   "source": [
    "z=0\n",
    "seds[sed_name].redshift_sed(z)"
   ]
  },
  {
   "cell_type": "code",
   "execution_count": 28,
   "id": "d123446e-a59b-4cb0-aba4-e16de173b5e2",
   "metadata": {},
   "outputs": [],
   "source": [
    "# Scale spectrum and recalculate magnitudes.\n",
    "y = 20.0\n",
    "\n",
    "flux_norm = seds[sed_name].calc_flux_norm(y, pc.bandpass_total_std['y'])\n",
    "seds[sed_name].multiply_flux_norm(flux_norm)"
   ]
  },
  {
   "cell_type": "markdown",
   "id": "a26b2c74-045f-49d4-9a63-b42924cb3e30",
   "metadata": {},
   "source": [
    "## Simulate a few redshifts"
   ]
  },
  {
   "cell_type": "code",
   "execution_count": 29,
   "id": "242f71e6-2bf2-4e08-88fe-a1ae570b735c",
   "metadata": {},
   "outputs": [],
   "source": [
    "renorm_mag_inY = 20\n",
    "\n",
    "all_redshifts = np.arange(0,3.5,0.5)\n",
    "all_seds = []\n",
    "all_seds_name = []\n",
    "NSEDS = len(all_redshifts)\n",
    "hls_colors = sns.color_palette(\"hls\", NSEDS)\n",
    "for idx,z in enumerate(all_redshifts):\n",
    "    the_sed = copy.deepcopy(seds[sed_name])\n",
    "    the_sed.redshift_sed(z)\n",
    "    \n",
    "    # Scale spectrum and recalculate magnitudes.\n",
    "    flux_norm = the_sed.calc_flux_norm(renorm_mag_inY, pc.bandpass_total_std['y'])\n",
    "    the_sed.multiply_flux_norm(flux_norm)\n",
    "\n",
    "    #flux_norm = the_sed.calc_flux_norm(g, pc.bandpass_total_std['g'])\n",
    "    #the_sed.multiply_flux_norm(flux_norm)\n",
    "    the_sed_name = f\"{sed_name}_{idx}_z{z:.1f}\"\n",
    "    all_seds.append(copy.deepcopy(the_sed))\n",
    "    \n",
    "    all_seds_name.append(the_sed_name)"
   ]
  },
  {
   "cell_type": "code",
   "execution_count": 30,
   "id": "c84b6ae7-c480-444a-bc62-e660520fad20",
   "metadata": {},
   "outputs": [
    {
     "data": {
      "image/png": "[encoded data removed]",
      "text/plain": [
       "<Figure size 1000x800 with 2 Axes>"
      ]
     },
     "metadata": {},
     "output_type": "display_data"
    }
   ],
   "source": [
    "# Plot the seds\n",
    "all_fmax = np.zeros(NSEDS)\n",
    "fig, ax = plt.subplots(1,1,figsize=(10,8))\n",
    "\n",
    "for idx,the_sed in enumerate(all_seds):\n",
    "    \n",
    "    wavel,fnu = the_sed.get_sed_fnu()\n",
    "    z=all_redshifts[idx] \n",
    "    label = f\"{idx} : z={z:.1f}\"\n",
    "    \n",
    "    ax.plot(wavel, fnu,\"-\",color=hls_colors[idx],label=label,lw=2)\n",
    "    \n",
    "    indexes_sel = np.where(np.logical_and(wavel>WLMIN,wavel<WLMAX))[0]\n",
    "    flmax = np.max(fnu[indexes_sel])\n",
    "    all_fmax[idx] = flmax\n",
    "    \n",
    "ax.legend(loc=(1.01, 0.01))\n",
    "ax.set_xlim(300, 1100)\n",
    "fmax=np.max(all_fmax)\n",
    "ax.set_ylim(0,fmax)\n",
    "\n",
    "ax.grid(alpha=0.3)\n",
    "ax.set_xlabel('Wavelength (nm)')\n",
    "ax.set_ylabel(\"$F_\\\\nu (\\lambda)$\")\n",
    "ax.set_title(\"$F_\\\\nu (\\lambda)$\" + f\" SED {sed_name}\")\n",
    "\n",
    "indexes_sel = np.where(np.logical_and(wavel>WLMIN,wavel<WLMAX))[0]\n",
    "flmax = np.max(fnu[indexes_sel])\n",
    "\n",
    "                       \n",
    "\n",
    "ax2 = ax.twinx()\n",
    "for index,f in enumerate(filter_tagnames):\n",
    "    \n",
    "    ax2.plot(pc.bandpass_total_std[f].wavelen,pc.bandpass_total_std[f].sb,color=filter_color[index]) \n",
    "    ax2.fill_between(pc.bandpass_total_std[f].wavelen,pc.bandpass_total_std[f].sb,color=filter_color[index],alpha=0.2) \n",
    "    ax2.axvline(FILTERWL[index,2],color=filter_color[index],linestyle=\"-.\")\n",
    "    ax2.set_yticks([])\n",
    "    "
   ]
  },
  {
   "cell_type": "markdown",
   "id": "1d078417-cd73-4c77-a7db-a93fbaac5b78",
   "metadata": {},
   "source": [
    "# Calculations of magnitude in standard passband"
   ]
  },
  {
   "cell_type": "code",
   "execution_count": 31,
   "id": "62e6f880-63f4-44fc-9ffb-966075a87079",
   "metadata": {},
   "outputs": [
    {
     "data": {
      "text/html": [
       "<div>\n",
       "<style scoped>\n",
       "    .dataframe tbody tr th:only-of-type {\n",
       "        vertical-align: middle;\n",
       "    }\n",
       "\n",
       "    .dataframe tbody tr th {\n",
       "        vertical-align: top;\n",
       "    }\n",
       "\n",
       "    .dataframe thead th {\n",
       "        text-align: right;\n",
       "    }\n",
       "</style>\n",
       "<table border=\"1\" class=\"dataframe\">\n",
       "  <thead>\n",
       "    <tr style=\"text-align: right;\">\n",
       "      <th></th>\n",
       "      <th>Ell2_template_norm</th>\n",
       "    </tr>\n",
       "  </thead>\n",
       "  <tbody>\n",
       "    <tr>\n",
       "      <th>u</th>\n",
       "      <td>22.220226</td>\n",
       "    </tr>\n",
       "    <tr>\n",
       "      <th>g</th>\n",
       "      <td>20.963462</td>\n",
       "    </tr>\n",
       "    <tr>\n",
       "      <th>r</th>\n",
       "      <td>20.469374</td>\n",
       "    </tr>\n",
       "    <tr>\n",
       "      <th>i</th>\n",
       "      <td>20.271414</td>\n",
       "    </tr>\n",
       "    <tr>\n",
       "      <th>z</th>\n",
       "      <td>20.127280</td>\n",
       "    </tr>\n",
       "    <tr>\n",
       "      <th>y</th>\n",
       "      <td>20.000000</td>\n",
       "    </tr>\n",
       "  </tbody>\n",
       "</table>\n",
       "</div>"
      ],
      "text/plain": [
       "   Ell2_template_norm\n",
       "u           22.220226\n",
       "g           20.963462\n",
       "r           20.469374\n",
       "i           20.271414\n",
       "z           20.127280\n",
       "y           20.000000"
      ]
     },
     "execution_count": 31,
     "metadata": {},
     "output_type": "execute_result"
    }
   ],
   "source": [
    "mags_std = {}\n",
    "for index,f in enumerate(filter_tagnames) :\n",
    "    mags_std[f] = seds[sed_name].calc_mag(pc.bandpass_total_std[f])\n",
    "    \n",
    "pd.DataFrame(mags_std, index=[sed_name]).T"
   ]
  },
  {
   "cell_type": "markdown",
   "id": "60d08284-a88d-4b83-a5c7-d6353d1c19cf",
   "metadata": {},
   "source": [
    "# Create a series of observations in standard atmosphere\n",
    "\n",
    "- vary precipitable water vapor\n",
    "- keep airmass at 1.2\n",
    "- other atmospheric parameters are kept constants"
   ]
  },
  {
   "cell_type": "code",
   "execution_count": 32,
   "id": "aa273515-e59e-42b4-a92b-6e650fdee52e",
   "metadata": {},
   "outputs": [],
   "source": [
    "NTOT=20000\n",
    "all_redshifts = np.random.random(NTOT)*3.\n",
    "all_seds = []\n",
    "all_seds_name = []\n",
    "NSEDS = len(all_redshifts)\n",
    "hls_colors = sns.color_palette(\"hls\", NSEDS)\n",
    "for idx,z in enumerate(all_redshifts):\n",
    "    the_sed = copy.deepcopy(seds[sed_name])\n",
    "    the_sed.redshift_sed(z)\n",
    "    \n",
    "    flux_norm = the_sed.calc_flux_norm(renorm_mag_inY, pc.bandpass_total_std['y'])\n",
    "    the_sed.multiply_flux_norm(flux_norm)\n",
    "    the_sed_name = f\"{sed_name}_{idx}_z{z:.1f}\"\n",
    "    all_seds.append(copy.deepcopy(the_sed))\n",
    "    all_seds_name.append(the_sed_name)"
   ]
  },
  {
   "cell_type": "markdown",
   "id": "e7d89bdf-3563-46bb-8407-80725bb97215",
   "metadata": {},
   "source": [
    "## Simulate the observations"
   ]
  },
  {
   "cell_type": "code",
   "execution_count": 33,
   "id": "a5a3e86c-285f-4675-a35e-d140f438870d",
   "metadata": {},
   "outputs": [],
   "source": [
    "df = pd.DataFrame(columns=['count','sed', 'redshift','magstd_u','magstd_g','magstd_r','magstd_i','magstd_z','magstd_y'])"
   ]
  },
  {
   "cell_type": "code",
   "execution_count": 34,
   "id": "db5b78ad-2b3f-4997-bb29-584cba711464",
   "metadata": {},
   "outputs": [],
   "source": [
    "# loop on SEDs\n",
    "count=0\n",
    "for idx_sed,the_sed in enumerate(all_seds):\n",
    "    # loop in filters\n",
    "    magstd = np.zeros(NFILT)\n",
    " \n",
    "        \n",
    "    for ifilt,f in enumerate(filter_tagnames):\n",
    "        # standard quanitites\n",
    "        lsst_band_std = pc.bandpass_total_std[f]\n",
    "        try:\n",
    "            magstd[ifilt] = all_seds[idx_sed].calc_mag(lsst_band_std)\n",
    "        except:\n",
    "            magstd[ifilt] = np.nan\n",
    "          # fill for each observation \n",
    "        \n",
    "    df.loc[count] = [count,all_seds_name[idx_sed], all_redshifts[idx_sed],magstd[0],magstd[1],magstd[2],magstd[3],magstd[4],magstd[5]]\n",
    "        \n",
    "    count+=1\n",
    "                          \n",
    "        "
   ]
  },
  {
   "cell_type": "markdown",
   "id": "a1d97353-654b-4c40-b871-fed98c939711",
   "metadata": {},
   "source": [
    "## Separate features/targets"
   ]
  },
  {
   "cell_type": "code",
   "execution_count": 35,
   "id": "176effa9-7a25-42b1-a434-481aa576bad5",
   "metadata": {},
   "outputs": [
    {
     "data": {
      "text/html": [
       "<div>\n",
       "<style scoped>\n",
       "    .dataframe tbody tr th:only-of-type {\n",
       "        vertical-align: middle;\n",
       "    }\n",
       "\n",
       "    .dataframe tbody tr th {\n",
       "        vertical-align: top;\n",
       "    }\n",
       "\n",
       "    .dataframe thead th {\n",
       "        text-align: right;\n",
       "    }\n",
       "</style>\n",
       "<table border=\"1\" class=\"dataframe\">\n",
       "  <thead>\n",
       "    <tr style=\"text-align: right;\">\n",
       "      <th></th>\n",
       "      <th>count</th>\n",
       "      <th>sed</th>\n",
       "      <th>redshift</th>\n",
       "      <th>magstd_u</th>\n",
       "      <th>magstd_g</th>\n",
       "      <th>magstd_r</th>\n",
       "      <th>magstd_i</th>\n",
       "      <th>magstd_z</th>\n",
       "      <th>magstd_y</th>\n",
       "    </tr>\n",
       "  </thead>\n",
       "  <tbody>\n",
       "    <tr>\n",
       "      <th>0</th>\n",
       "      <td>0</td>\n",
       "      <td>Ell2_template_norm_0_z2.7</td>\n",
       "      <td>2.700522</td>\n",
       "      <td>27.098394</td>\n",
       "      <td>24.423279</td>\n",
       "      <td>22.372343</td>\n",
       "      <td>20.978999</td>\n",
       "      <td>20.545084</td>\n",
       "      <td>20.0</td>\n",
       "    </tr>\n",
       "    <tr>\n",
       "      <th>1</th>\n",
       "      <td>1</td>\n",
       "      <td>Ell2_template_norm_1_z1.3</td>\n",
       "      <td>1.327762</td>\n",
       "      <td>25.847958</td>\n",
       "      <td>23.819693</td>\n",
       "      <td>22.623399</td>\n",
       "      <td>21.402429</td>\n",
       "      <td>20.756495</td>\n",
       "      <td>20.0</td>\n",
       "    </tr>\n",
       "    <tr>\n",
       "      <th>2</th>\n",
       "      <td>2</td>\n",
       "      <td>Ell2_template_norm_2_z1.9</td>\n",
       "      <td>1.890632</td>\n",
       "      <td>26.529146</td>\n",
       "      <td>24.002064</td>\n",
       "      <td>22.365390</td>\n",
       "      <td>21.636677</td>\n",
       "      <td>20.514121</td>\n",
       "      <td>20.0</td>\n",
       "    </tr>\n",
       "    <tr>\n",
       "      <th>3</th>\n",
       "      <td>3</td>\n",
       "      <td>Ell2_template_norm_3_z0.7</td>\n",
       "      <td>0.700312</td>\n",
       "      <td>24.376720</td>\n",
       "      <td>23.017299</td>\n",
       "      <td>21.617962</td>\n",
       "      <td>20.572342</td>\n",
       "      <td>20.234239</td>\n",
       "      <td>20.0</td>\n",
       "    </tr>\n",
       "    <tr>\n",
       "      <th>4</th>\n",
       "      <td>4</td>\n",
       "      <td>Ell2_template_norm_4_z0.7</td>\n",
       "      <td>0.736912</td>\n",
       "      <td>24.410207</td>\n",
       "      <td>23.113076</td>\n",
       "      <td>21.714812</td>\n",
       "      <td>20.615874</td>\n",
       "      <td>20.229952</td>\n",
       "      <td>20.0</td>\n",
       "    </tr>\n",
       "    <tr>\n",
       "      <th>...</th>\n",
       "      <td>...</td>\n",
       "      <td>...</td>\n",
       "      <td>...</td>\n",
       "      <td>...</td>\n",
       "      <td>...</td>\n",
       "      <td>...</td>\n",
       "      <td>...</td>\n",
       "      <td>...</td>\n",
       "      <td>...</td>\n",
       "    </tr>\n",
       "    <tr>\n",
       "      <th>19995</th>\n",
       "      <td>19995</td>\n",
       "      <td>Ell2_template_norm_19995_z0.7</td>\n",
       "      <td>0.683070</td>\n",
       "      <td>24.370260</td>\n",
       "      <td>22.968675</td>\n",
       "      <td>21.566215</td>\n",
       "      <td>20.557012</td>\n",
       "      <td>20.231896</td>\n",
       "      <td>20.0</td>\n",
       "    </tr>\n",
       "    <tr>\n",
       "      <th>19996</th>\n",
       "      <td>19996</td>\n",
       "      <td>Ell2_template_norm_19996_z1.3</td>\n",
       "      <td>1.291804</td>\n",
       "      <td>25.790313</td>\n",
       "      <td>23.847140</td>\n",
       "      <td>22.573418</td>\n",
       "      <td>21.415259</td>\n",
       "      <td>20.723681</td>\n",
       "      <td>20.0</td>\n",
       "    </tr>\n",
       "    <tr>\n",
       "      <th>19997</th>\n",
       "      <td>19997</td>\n",
       "      <td>Ell2_template_norm_19997_z0.3</td>\n",
       "      <td>0.329226</td>\n",
       "      <td>23.513332</td>\n",
       "      <td>21.911324</td>\n",
       "      <td>20.697606</td>\n",
       "      <td>20.290302</td>\n",
       "      <td>20.112767</td>\n",
       "      <td>20.0</td>\n",
       "    </tr>\n",
       "    <tr>\n",
       "      <th>19998</th>\n",
       "      <td>19998</td>\n",
       "      <td>Ell2_template_norm_19998_z1.9</td>\n",
       "      <td>1.870553</td>\n",
       "      <td>26.448467</td>\n",
       "      <td>23.978328</td>\n",
       "      <td>22.376161</td>\n",
       "      <td>21.626369</td>\n",
       "      <td>20.499053</td>\n",
       "      <td>20.0</td>\n",
       "    </tr>\n",
       "    <tr>\n",
       "      <th>19999</th>\n",
       "      <td>19999</td>\n",
       "      <td>Ell2_template_norm_19999_z2.8</td>\n",
       "      <td>2.750312</td>\n",
       "      <td>27.305896</td>\n",
       "      <td>24.462997</td>\n",
       "      <td>22.395040</td>\n",
       "      <td>20.978049</td>\n",
       "      <td>20.489955</td>\n",
       "      <td>20.0</td>\n",
       "    </tr>\n",
       "  </tbody>\n",
       "</table>\n",
       "<p>20000 rows × 9 columns</p>\n",
       "</div>"
      ],
      "text/plain": [
       "       count                            sed  redshift   magstd_u   magstd_g  \\\n",
       "0          0      Ell2_template_norm_0_z2.7  2.700522  27.098394  24.423279   \n",
       "1          1      Ell2_template_norm_1_z1.3  1.327762  25.847958  23.819693   \n",
       "2          2      Ell2_template_norm_2_z1.9  1.890632  26.529146  24.002064   \n",
       "3          3      Ell2_template_norm_3_z0.7  0.700312  24.376720  23.017299   \n",
       "4          4      Ell2_template_norm_4_z0.7  0.736912  24.410207  23.113076   \n",
       "...      ...                            ...       ...        ...        ...   \n",
       "19995  19995  Ell2_template_norm_19995_z0.7  0.683070  24.370260  22.968675   \n",
       "19996  19996  Ell2_template_norm_19996_z1.3  1.291804  25.790313  23.847140   \n",
       "19997  19997  Ell2_template_norm_19997_z0.3  0.329226  23.513332  21.911324   \n",
       "19998  19998  Ell2_template_norm_19998_z1.9  1.870553  26.448467  23.978328   \n",
       "19999  19999  Ell2_template_norm_19999_z2.8  2.750312  27.305896  24.462997   \n",
       "\n",
       "        magstd_r   magstd_i   magstd_z  magstd_y  \n",
       "0      22.372343  20.978999  20.545084      20.0  \n",
       "1      22.623399  21.402429  20.756495      20.0  \n",
       "2      22.365390  21.636677  20.514121      20.0  \n",
       "3      21.617962  20.572342  20.234239      20.0  \n",
       "4      21.714812  20.615874  20.229952      20.0  \n",
       "...          ...        ...        ...       ...  \n",
       "19995  21.566215  20.557012  20.231896      20.0  \n",
       "19996  22.573418  21.415259  20.723681      20.0  \n",
       "19997  20.697606  20.290302  20.112767      20.0  \n",
       "19998  22.376161  21.626369  20.499053      20.0  \n",
       "19999  22.395040  20.978049  20.489955      20.0  \n",
       "\n",
       "[20000 rows x 9 columns]"
      ]
     },
     "execution_count": 35,
     "metadata": {},
     "output_type": "execute_result"
    }
   ],
   "source": [
    "df"
   ]
  },
  {
   "cell_type": "code",
   "execution_count": 36,
   "id": "bd44c485-b4b2-477f-bdd2-37bb2a120587",
   "metadata": {},
   "outputs": [],
   "source": [
    "features = df[[\"magstd_u\",\"magstd_g\",\"magstd_r\",\"magstd_i\",\"magstd_z\",\"magstd_y\"]]\n",
    "target = df[\"redshift\"]"
   ]
  },
  {
   "cell_type": "code",
   "execution_count": 37,
   "id": "e2d9c8f9-d642-4921-9d90-0884874778d4",
   "metadata": {},
   "outputs": [],
   "source": [
    "features = features.rename(columns={\"magstd_u\":\"mag_u\",\"magstd_g\":\"mag_g\",\"magstd_r\":\"mag_r\",\n",
    "                 \"magstd_i\":\"mag_i\",\"magstd_z\":\"mag_z\",\"magstd_y\":\"mag_y\"})"
   ]
  },
  {
   "cell_type": "code",
   "execution_count": 38,
   "id": "1bf130de-b95d-44ea-ae96-5a9d9fbadc22",
   "metadata": {},
   "outputs": [
    {
     "data": {
      "text/html": [
       "<div>\n",
       "<style scoped>\n",
       "    .dataframe tbody tr th:only-of-type {\n",
       "        vertical-align: middle;\n",
       "    }\n",
       "\n",
       "    .dataframe tbody tr th {\n",
       "        vertical-align: top;\n",
       "    }\n",
       "\n",
       "    .dataframe thead th {\n",
       "        text-align: right;\n",
       "    }\n",
       "</style>\n",
       "<table border=\"1\" class=\"dataframe\">\n",
       "  <thead>\n",
       "    <tr style=\"text-align: right;\">\n",
       "      <th></th>\n",
       "      <th>mag_u</th>\n",
       "      <th>mag_g</th>\n",
       "      <th>mag_r</th>\n",
       "      <th>mag_i</th>\n",
       "      <th>mag_z</th>\n",
       "      <th>mag_y</th>\n",
       "    </tr>\n",
       "  </thead>\n",
       "  <tbody>\n",
       "    <tr>\n",
       "      <th>0</th>\n",
       "      <td>27.098394</td>\n",
       "      <td>24.423279</td>\n",
       "      <td>22.372343</td>\n",
       "      <td>20.978999</td>\n",
       "      <td>20.545084</td>\n",
       "      <td>20.0</td>\n",
       "    </tr>\n",
       "    <tr>\n",
       "      <th>1</th>\n",
       "      <td>25.847958</td>\n",
       "      <td>23.819693</td>\n",
       "      <td>22.623399</td>\n",
       "      <td>21.402429</td>\n",
       "      <td>20.756495</td>\n",
       "      <td>20.0</td>\n",
       "    </tr>\n",
       "    <tr>\n",
       "      <th>2</th>\n",
       "      <td>26.529146</td>\n",
       "      <td>24.002064</td>\n",
       "      <td>22.365390</td>\n",
       "      <td>21.636677</td>\n",
       "      <td>20.514121</td>\n",
       "      <td>20.0</td>\n",
       "    </tr>\n",
       "    <tr>\n",
       "      <th>3</th>\n",
       "      <td>24.376720</td>\n",
       "      <td>23.017299</td>\n",
       "      <td>21.617962</td>\n",
       "      <td>20.572342</td>\n",
       "      <td>20.234239</td>\n",
       "      <td>20.0</td>\n",
       "    </tr>\n",
       "    <tr>\n",
       "      <th>4</th>\n",
       "      <td>24.410207</td>\n",
       "      <td>23.113076</td>\n",
       "      <td>21.714812</td>\n",
       "      <td>20.615874</td>\n",
       "      <td>20.229952</td>\n",
       "      <td>20.0</td>\n",
       "    </tr>\n",
       "  </tbody>\n",
       "</table>\n",
       "</div>"
      ],
      "text/plain": [
       "       mag_u      mag_g      mag_r      mag_i      mag_z  mag_y\n",
       "0  27.098394  24.423279  22.372343  20.978999  20.545084   20.0\n",
       "1  25.847958  23.819693  22.623399  21.402429  20.756495   20.0\n",
       "2  26.529146  24.002064  22.365390  21.636677  20.514121   20.0\n",
       "3  24.376720  23.017299  21.617962  20.572342  20.234239   20.0\n",
       "4  24.410207  23.113076  21.714812  20.615874  20.229952   20.0"
      ]
     },
     "execution_count": 38,
     "metadata": {},
     "output_type": "execute_result"
    }
   ],
   "source": [
    "features.head()"
   ]
  },
  {
   "cell_type": "code",
   "execution_count": 39,
   "id": "15a702ad-3c88-4b43-b8c1-582d36745864",
   "metadata": {},
   "outputs": [
    {
     "data": {
      "text/plain": [
       "0    2.700522\n",
       "1    1.327762\n",
       "2    1.890632\n",
       "3    0.700312\n",
       "4    0.736912\n",
       "Name: redshift, dtype: float64"
      ]
     },
     "execution_count": 39,
     "metadata": {},
     "output_type": "execute_result"
    }
   ],
   "source": [
    "target.head()"
   ]
  },
  {
   "cell_type": "markdown",
   "id": "9d3d30e5-de7a-461e-b906-0d46fc206739",
   "metadata": {},
   "source": [
    "## Train the sample with RandomForest"
   ]
  },
  {
   "cell_type": "code",
   "execution_count": 40,
   "id": "24d55937-8317-48d3-982e-4fdd1109d697",
   "metadata": {},
   "outputs": [],
   "source": [
    "from sklearn.model_selection import train_test_split"
   ]
  },
  {
   "cell_type": "code",
   "execution_count": 41,
   "id": "b5ffa797-82b2-4b05-bd74-b15396e97868",
   "metadata": {},
   "outputs": [],
   "source": [
    "from sklearn.ensemble import RandomForestRegressor\n",
    "#randomforest_regressor = RandomForestRegressor(n_estimators = 50, max_depth = 30, max_features = 'auto')\n",
    "randomforest_regressor = RandomForestRegressor(n_estimators = 50, max_depth = 30)"
   ]
  },
  {
   "cell_type": "code",
   "execution_count": 42,
   "id": "96a79040-a8b9-417b-b0ce-2609d59b0730",
   "metadata": {},
   "outputs": [],
   "source": [
    "from sklearn.pipeline import make_pipeline\n",
    "from sklearn.preprocessing import StandardScaler"
   ]
  },
  {
   "cell_type": "code",
   "execution_count": 43,
   "id": "8d254261-944e-4511-92ad-58260232230c",
   "metadata": {},
   "outputs": [],
   "source": [
    "from sklearn.metrics import r2_score\n",
    "from sklearn.metrics import mean_absolute_error\n",
    "from sklearn.metrics import mean_squared_error\n",
    "\n",
    "from sklearn.metrics import make_scorer\n",
    "scoring = {'r2': make_scorer(r2_score),'mae': make_scorer(mean_absolute_error),'mse': make_scorer(mean_squared_error)}"
   ]
  },
  {
   "cell_type": "markdown",
   "id": "7c9ad761-af10-4412-91ea-708b5133c847",
   "metadata": {},
   "source": [
    "### Create the model"
   ]
  },
  {
   "cell_type": "code",
   "execution_count": 44,
   "id": "fcc9522d-ed3a-41fa-80ca-7ed241254f84",
   "metadata": {},
   "outputs": [],
   "source": [
    "regressor = make_pipeline(StandardScaler(), RandomForestRegressor())"
   ]
  },
  {
   "cell_type": "markdown",
   "id": "2322ba95-5526-4fed-8dd7-535d76a57e39",
   "metadata": {},
   "source": [
    "### Prepare the sample"
   ]
  },
  {
   "cell_type": "code",
   "execution_count": 45,
   "id": "01b17cf8-fdd6-4da7-b834-2276bb08e5d4",
   "metadata": {},
   "outputs": [],
   "source": [
    "Ntrain = 8000\n",
    "Ntest = NTOT-Ntrain"
   ]
  },
  {
   "cell_type": "code",
   "execution_count": 46,
   "id": "1bc5b1d0-5797-4411-89a3-fb478ece503b",
   "metadata": {},
   "outputs": [
    {
     "data": {
      "text/plain": [
       "0.6"
      ]
     },
     "execution_count": 46,
     "metadata": {},
     "output_type": "execute_result"
    }
   ],
   "source": [
    "# Test fraction\n",
    "test_sample_size_fraction=Ntest/NTOT\n",
    "test_sample_size_fraction"
   ]
  },
  {
   "cell_type": "code",
   "execution_count": 47,
   "id": "f85474fa-b12b-4ef1-8253-b2ac777fb445",
   "metadata": {},
   "outputs": [],
   "source": [
    "# adapt the train dataset size according required running time \n",
    "X_train, X_test, y_train, y_test = train_test_split(features, target, test_size=test_sample_size_fraction, random_state=0)"
   ]
  },
  {
   "cell_type": "code",
   "execution_count": 48,
   "id": "a4dbf0f1-06e6-4795-9e5b-401d721d97d9",
   "metadata": {},
   "outputs": [
    {
     "data": {
      "text/html": [
       "<div>\n",
       "<style scoped>\n",
       "    .dataframe tbody tr th:only-of-type {\n",
       "        vertical-align: middle;\n",
       "    }\n",
       "\n",
       "    .dataframe tbody tr th {\n",
       "        vertical-align: top;\n",
       "    }\n",
       "\n",
       "    .dataframe thead th {\n",
       "        text-align: right;\n",
       "    }\n",
       "</style>\n",
       "<table border=\"1\" class=\"dataframe\">\n",
       "  <thead>\n",
       "    <tr style=\"text-align: right;\">\n",
       "      <th></th>\n",
       "      <th>mag_u</th>\n",
       "      <th>mag_g</th>\n",
       "      <th>mag_r</th>\n",
       "      <th>mag_i</th>\n",
       "      <th>mag_z</th>\n",
       "      <th>mag_y</th>\n",
       "    </tr>\n",
       "  </thead>\n",
       "  <tbody>\n",
       "    <tr>\n",
       "      <th>16645</th>\n",
       "      <td>22.801324</td>\n",
       "      <td>21.376262</td>\n",
       "      <td>20.541843</td>\n",
       "      <td>20.250152</td>\n",
       "      <td>20.106115</td>\n",
       "      <td>20.0</td>\n",
       "    </tr>\n",
       "    <tr>\n",
       "      <th>4463</th>\n",
       "      <td>26.728528</td>\n",
       "      <td>24.422480</td>\n",
       "      <td>22.381332</td>\n",
       "      <td>21.124151</td>\n",
       "      <td>20.846270</td>\n",
       "      <td>20.0</td>\n",
       "    </tr>\n",
       "    <tr>\n",
       "      <th>8951</th>\n",
       "      <td>23.900428</td>\n",
       "      <td>22.200016</td>\n",
       "      <td>20.809367</td>\n",
       "      <td>20.345813</td>\n",
       "      <td>20.109034</td>\n",
       "      <td>20.0</td>\n",
       "    </tr>\n",
       "    <tr>\n",
       "      <th>9909</th>\n",
       "      <td>25.815975</td>\n",
       "      <td>23.716131</td>\n",
       "      <td>22.518827</td>\n",
       "      <td>21.293703</td>\n",
       "      <td>20.522304</td>\n",
       "      <td>20.0</td>\n",
       "    </tr>\n",
       "    <tr>\n",
       "      <th>16357</th>\n",
       "      <td>25.760388</td>\n",
       "      <td>23.847620</td>\n",
       "      <td>22.550484</td>\n",
       "      <td>21.413930</td>\n",
       "      <td>20.697994</td>\n",
       "      <td>20.0</td>\n",
       "    </tr>\n",
       "  </tbody>\n",
       "</table>\n",
       "</div>"
      ],
      "text/plain": [
       "           mag_u      mag_g      mag_r      mag_i      mag_z  mag_y\n",
       "16645  22.801324  21.376262  20.541843  20.250152  20.106115   20.0\n",
       "4463   26.728528  24.422480  22.381332  21.124151  20.846270   20.0\n",
       "8951   23.900428  22.200016  20.809367  20.345813  20.109034   20.0\n",
       "9909   25.815975  23.716131  22.518827  21.293703  20.522304   20.0\n",
       "16357  25.760388  23.847620  22.550484  21.413930  20.697994   20.0"
      ]
     },
     "execution_count": 48,
     "metadata": {},
     "output_type": "execute_result"
    }
   ],
   "source": [
    "X_train.head()"
   ]
  },
  {
   "cell_type": "code",
   "execution_count": 49,
   "id": "5ac3af8d-a2eb-4b32-ad00-9c802631a017",
   "metadata": {},
   "outputs": [
    {
     "data": {
      "text/html": [
       "<div>\n",
       "<style scoped>\n",
       "    .dataframe tbody tr th:only-of-type {\n",
       "        vertical-align: middle;\n",
       "    }\n",
       "\n",
       "    .dataframe tbody tr th {\n",
       "        vertical-align: top;\n",
       "    }\n",
       "\n",
       "    .dataframe thead th {\n",
       "        text-align: right;\n",
       "    }\n",
       "</style>\n",
       "<table border=\"1\" class=\"dataframe\">\n",
       "  <thead>\n",
       "    <tr style=\"text-align: right;\">\n",
       "      <th></th>\n",
       "      <th>mag_u</th>\n",
       "      <th>mag_g</th>\n",
       "      <th>mag_r</th>\n",
       "      <th>mag_i</th>\n",
       "      <th>mag_z</th>\n",
       "      <th>mag_y</th>\n",
       "    </tr>\n",
       "  </thead>\n",
       "  <tbody>\n",
       "    <tr>\n",
       "      <th>19134</th>\n",
       "      <td>26.215594</td>\n",
       "      <td>23.900399</td>\n",
       "      <td>22.393335</td>\n",
       "      <td>21.528040</td>\n",
       "      <td>20.467748</td>\n",
       "      <td>20.0</td>\n",
       "    </tr>\n",
       "    <tr>\n",
       "      <th>4981</th>\n",
       "      <td>26.870959</td>\n",
       "      <td>24.106160</td>\n",
       "      <td>22.332045</td>\n",
       "      <td>21.654296</td>\n",
       "      <td>20.632065</td>\n",
       "      <td>20.0</td>\n",
       "    </tr>\n",
       "    <tr>\n",
       "      <th>16643</th>\n",
       "      <td>26.107452</td>\n",
       "      <td>23.855908</td>\n",
       "      <td>22.394329</td>\n",
       "      <td>21.461923</td>\n",
       "      <td>20.450031</td>\n",
       "      <td>20.0</td>\n",
       "    </tr>\n",
       "    <tr>\n",
       "      <th>19117</th>\n",
       "      <td>28.570162</td>\n",
       "      <td>24.585921</td>\n",
       "      <td>22.455069</td>\n",
       "      <td>20.964898</td>\n",
       "      <td>20.227176</td>\n",
       "      <td>20.0</td>\n",
       "    </tr>\n",
       "    <tr>\n",
       "      <th>5306</th>\n",
       "      <td>26.831435</td>\n",
       "      <td>24.418837</td>\n",
       "      <td>22.380705</td>\n",
       "      <td>21.061421</td>\n",
       "      <td>20.753533</td>\n",
       "      <td>20.0</td>\n",
       "    </tr>\n",
       "  </tbody>\n",
       "</table>\n",
       "</div>"
      ],
      "text/plain": [
       "           mag_u      mag_g      mag_r      mag_i      mag_z  mag_y\n",
       "19134  26.215594  23.900399  22.393335  21.528040  20.467748   20.0\n",
       "4981   26.870959  24.106160  22.332045  21.654296  20.632065   20.0\n",
       "16643  26.107452  23.855908  22.394329  21.461923  20.450031   20.0\n",
       "19117  28.570162  24.585921  22.455069  20.964898  20.227176   20.0\n",
       "5306   26.831435  24.418837  22.380705  21.061421  20.753533   20.0"
      ]
     },
     "execution_count": 49,
     "metadata": {},
     "output_type": "execute_result"
    }
   ],
   "source": [
    "X_test.head()"
   ]
  },
  {
   "cell_type": "markdown",
   "id": "85c199fc-8f32-416c-827d-411498479300",
   "metadata": {},
   "source": [
    "### train"
   ]
  },
  {
   "cell_type": "code",
   "execution_count": 50,
   "id": "712c293f-9438-4ec0-b08b-1ebabe66d49e",
   "metadata": {},
   "outputs": [
    {
     "name": "stdout",
     "output_type": "stream",
     "text": [
      "RandomForest : elapsed time 4.37 sec\n",
      "CPU times: user 4.35 s, sys: 13.8 ms, total: 4.37 s\n",
      "Wall time: 4.37 s\n"
     ]
    }
   ],
   "source": [
    "%%time\n",
    "# We simply use the fit method, not the cross_validate to accelerate the demo \n",
    "t1 = datetime.datetime.now()\n",
    "#randomforest_regressor.fit(X_train,y_train)\n",
    "regressor.fit(X_train,y_train)\n",
    "t2 = datetime.datetime.now()\n",
    "deltat = (t2-t1).total_seconds() \n",
    "print(f\"RandomForest : elapsed time {deltat:.2f} sec\")"
   ]
  },
  {
   "cell_type": "markdown",
   "id": "12fb7c7e-f91d-4392-a347-5e895e5939d9",
   "metadata": {},
   "source": [
    "## Estimate"
   ]
  },
  {
   "cell_type": "code",
   "execution_count": 51,
   "id": "2e459688-1ea6-464f-a509-0f9cb10c2484",
   "metadata": {},
   "outputs": [],
   "source": [
    "y_pred =  regressor.predict(X_test)"
   ]
  },
  {
   "cell_type": "code",
   "execution_count": 52,
   "id": "2e93307a-f514-4977-b78c-8bb67e742ff1",
   "metadata": {},
   "outputs": [
    {
     "data": {
      "text/plain": [
       "array([-1.71646586e-04,  6.05916553e-05, -9.03479969e-05, ...,\n",
       "       -2.52932074e-06,  1.10591995e-04, -7.32064098e-04])"
      ]
     },
     "execution_count": 52,
     "metadata": {},
     "output_type": "execute_result"
    }
   ],
   "source": [
    "y_pred - y_test.values.flatten()"
   ]
  },
  {
   "cell_type": "markdown",
   "id": "c47f99aa-8b55-4e23-abab-1ecc64d1ed35",
   "metadata": {},
   "source": [
    "### Scoring"
   ]
  },
  {
   "cell_type": "code",
   "execution_count": 53,
   "id": "afef1ca3-2b5a-401c-ab8f-7d11f3848c1d",
   "metadata": {},
   "outputs": [],
   "source": [
    "r2  = r2_score(y_pred,y_test.values.flatten())\n",
    "mae = mean_absolute_error(y_pred,y_test.values.flatten())\n",
    "mse = mean_squared_error(y_pred,y_test.values.flatten())"
   ]
  },
  {
   "cell_type": "code",
   "execution_count": 54,
   "id": "d6ab13f4-fa08-4908-9d89-d86e8bcfa4d1",
   "metadata": {},
   "outputs": [],
   "source": [
    "msg_r2   = f\"R2 score : \\t\\t {r2:.5f}\"\n",
    "msg_mae  = f\"MAE mean absolute error : \\t {mae:.5f}\"\n",
    "msg_rmsq = f\"Root MSE error : \\t\\t {np.sqrt(mse):.5f}\""
   ]
  },
  {
   "cell_type": "code",
   "execution_count": 55,
   "id": "ce32e69e-58fa-4dbb-82f6-036475360166",
   "metadata": {},
   "outputs": [
    {
     "name": "stdout",
     "output_type": "stream",
     "text": [
      "R2 score : \t\t 0.99999\n",
      "MAE mean absolute error : \t 0.00020\n",
      "Root MSE error : \t\t 0.00236\n"
     ]
    }
   ],
   "source": [
    "print(msg_r2)\n",
    "print(msg_mae)\n",
    "print(msg_rmsq)"
   ]
  },
  {
   "cell_type": "markdown",
   "id": "27ee99a2-1684-44b6-bb09-02f4634d0f19",
   "metadata": {},
   "source": [
    "### Performances"
   ]
  },
  {
   "cell_type": "code",
   "execution_count": 56,
   "id": "98d60d5e-daca-44ca-b60c-e3fcb2c5900f",
   "metadata": {},
   "outputs": [
    {
     "name": "stdout",
     "output_type": "stream",
     "text": [
      "Standard Deviation: 0.0009\n",
      "Normalized MAD: 0.0001\n",
      "Delta z >0.15(1+z) outliers:  0.000 percent\n",
      "Median offset: -0.000 +/-  0.000\n"
     ]
    }
   ],
   "source": [
    "nmad,std_result,bias,eta,stats_txt2= get_stats(y_test.values,y_pred)"
   ]
  },
  {
   "cell_type": "markdown",
   "id": "1dccb41f-47ae-4607-b88b-3da69c806f74",
   "metadata": {},
   "source": [
    "### Plot"
   ]
  },
  {
   "cell_type": "code",
   "execution_count": 57,
   "id": "eab5f738-0677-4232-a1a6-b5f64d879e7b",
   "metadata": {},
   "outputs": [],
   "source": [
    "zphot= y_pred\n",
    "zspec = y_test\n",
    "num = zphot-zspec\n",
    "dnom = (1.+zspec)\n",
    "DZZ = num/dnom"
   ]
  },
  {
   "cell_type": "code",
   "execution_count": 58,
   "id": "6a3bcdfd-9b56-442e-aef5-419b1e4cf7f2",
   "metadata": {},
   "outputs": [
    {
     "data": {
      "image/png": "[encoded data removed]",
      "text/plain": [
       "<Figure size 800x800 with 1 Axes>"
      ]
     },
     "metadata": {},
     "output_type": "display_data"
    }
   ],
   "source": [
    "props = dict(boxstyle='round', facecolor='wheat', alpha=0.5)\n",
    "fig,ax=plt.subplots(1,1,figsize=(8,8))\n",
    "ax.text(0.05, 0.95, stats_txt2, transform=ax.transAxes, fontsize=14, verticalalignment='top', bbox=props)\n",
    "ax.plot(zspec,DZZ,'o')\n",
    "ax.set_title(f\"ML PZ est. error , {sed_name}\",fontsize=14)\n",
    "plotdzvsz(ax)"
   ]
  },
  {
   "cell_type": "markdown",
   "id": "326f6fef-3e28-46e1-aa37-8af579d4f4f6",
   "metadata": {},
   "source": [
    "## Save the model parameter in output file"
   ]
  },
  {
   "cell_type": "code",
   "execution_count": 59,
   "id": "918a8609-0df8-4acd-88e3-d4b0a4c9123c",
   "metadata": {},
   "outputs": [],
   "source": [
    "filename_modelparams = f\"randomforest_regressor_standardized_{sed_name}_normMagY_{renorm_mag_inY}.joblib\""
   ]
  },
  {
   "cell_type": "code",
   "execution_count": 60,
   "id": "4b273ee3-9acd-4670-8dec-243c87ed17cd",
   "metadata": {},
   "outputs": [
    {
     "data": {
      "text/plain": [
       "['randomforest_regressor_standardized_Ell2_template_norm_normMagY_20.joblib']"
      ]
     },
     "execution_count": 60,
     "metadata": {},
     "output_type": "execute_result"
    }
   ],
   "source": [
    "dump(regressor, filename_modelparams, compress = 1 ) "
   ]
  },
  {
   "cell_type": "code",
   "execution_count": 61,
   "id": "0ff8cb09-0fad-40d9-a9ca-345d7886cf0c",
   "metadata": {},
   "outputs": [],
   "source": [
    "filename_data_zspeczphot = f\"data_zspeczphot_{sed_name}_normMagY_{renorm_mag_inY}_v1.csv\"\n",
    "df_out = pd.DataFrame()\n",
    "df_out[\"zspec\"] = zspec\n",
    "df_out[\"zphot\"] = zphot\n",
    "df_out.to_csv(filename_data_zspeczphot)"
   ]
  },
  {
   "cell_type": "markdown",
   "id": "a8853a7c-2752-4ad3-9449-6858d40d47f0",
   "metadata": {},
   "source": [
    "## Check if the model is written correctly"
   ]
  },
  {
   "cell_type": "code",
   "execution_count": 62,
   "id": "354e3240-13c7-41a0-a3f1-864456f456fc",
   "metadata": {},
   "outputs": [],
   "source": [
    "standardized_model = load(filename_modelparams) "
   ]
  },
  {
   "cell_type": "code",
   "execution_count": 63,
   "id": "b59ec6ac-aef6-4a06-a6ad-263f15cc5ee2",
   "metadata": {},
   "outputs": [
    {
     "data": {
      "text/html": [
       "<style>#sk-container-id-1 {\n",
       "  /* Definition of color scheme common for light and dark mode */\n",
       "  --sklearn-color-text: black;\n",
       "  --sklearn-color-line: gray;\n",
       "  /* Definition of color scheme for unfitted estimators */\n",
       "  --sklearn-color-unfitted-level-0: #fff5e6;\n",
       "  --sklearn-color-unfitted-level-1: #f6e4d2;\n",
       "  --sklearn-color-unfitted-level-2: #ffe0b3;\n",
       "  --sklearn-color-unfitted-level-3: chocolate;\n",
       "  /* Definition of color scheme for fitted estimators */\n",
       "  --sklearn-color-fitted-level-0: #f0f8ff;\n",
       "  --sklearn-color-fitted-level-1: #d4ebff;\n",
       "  --sklearn-color-fitted-level-2: #b3dbfd;\n",
       "  --sklearn-color-fitted-level-3: cornflowerblue;\n",
       "\n",
       "  /* Specific color for light theme */\n",
       "  --sklearn-color-text-on-default-background: var(--sg-text-color, var(--theme-code-foreground, var(--jp-content-font-color1, black)));\n",
       "  --sklearn-color-background: var(--sg-background-color, var(--theme-background, var(--jp-layout-color0, white)));\n",
       "  --sklearn-color-border-box: var(--sg-text-color, var(--theme-code-foreground, var(--jp-content-font-color1, black)));\n",
       "  --sklearn-color-icon: #696969;\n",
       "\n",
       "  @media (prefers-color-scheme: dark) {\n",
       "    /* Redefinition of color scheme for dark theme */\n",
       "    --sklearn-color-text-on-default-background: var(--sg-text-color, var(--theme-code-foreground, var(--jp-content-font-color1, white)));\n",
       "    --sklearn-color-background: var(--sg-background-color, var(--theme-background, var(--jp-layout-color0, #111)));\n",
       "    --sklearn-color-border-box: var(--sg-text-color, var(--theme-code-foreground, var(--jp-content-font-color1, white)));\n",
       "    --sklearn-color-icon: #878787;\n",
       "  }\n",
       "}\n",
       "\n",
       "#sk-container-id-1 {\n",
       "  color: var(--sklearn-color-text);\n",
       "}\n",
       "\n",
       "#sk-container-id-1 pre {\n",
       "  padding: 0;\n",
       "}\n",
       "\n",
       "#sk-container-id-1 input.sk-hidden--visually {\n",
       "  border: 0;\n",
       "  clip: rect(1px 1px 1px 1px);\n",
       "  clip: rect(1px, 1px, 1px, 1px);\n",
       "  height: 1px;\n",
       "  margin: -1px;\n",
       "  overflow: hidden;\n",
       "  padding: 0;\n",
       "  position: absolute;\n",
       "  width: 1px;\n",
       "}\n",
       "\n",
       "#sk-container-id-1 div.sk-dashed-wrapped {\n",
       "  border: 1px dashed var(--sklearn-color-line);\n",
       "  margin: 0 0.4em 0.5em 0.4em;\n",
       "  box-sizing: border-box;\n",
       "  padding-bottom: 0.4em;\n",
       "  background-color: var(--sklearn-color-background);\n",
       "}\n",
       "\n",
       "#sk-container-id-1 div.sk-container {\n",
       "  /* jupyter's `normalize.less` sets `[hidden] { display: none; }`\n",
       "     but bootstrap.min.css set `[hidden] { display: none !important; }`\n",
       "     so we also need the `!important` here to be able to override the\n",
       "     default hidden behavior on the sphinx rendered scikit-learn.org.\n",
       "     See: https://github.com/scikit-learn/scikit-learn/issues/21755 */\n",
       "  display: inline-block !important;\n",
       "  position: relative;\n",
       "}\n",
       "\n",
       "#sk-container-id-1 div.sk-text-repr-fallback {\n",
       "  display: none;\n",
       "}\n",
       "\n",
       "div.sk-parallel-item,\n",
       "div.sk-serial,\n",
       "div.sk-item {\n",
       "  /* draw centered vertical line to link estimators */\n",
       "  background-image: linear-gradient(var(--sklearn-color-text-on-default-background), var(--sklearn-color-text-on-default-background));\n",
       "  background-size: 2px 100%;\n",
       "  background-repeat: no-repeat;\n",
       "  background-position: center center;\n",
       "}\n",
       "\n",
       "/* Parallel-specific style estimator block */\n",
       "\n",
       "#sk-container-id-1 div.sk-parallel-item::after {\n",
       "  content: \"\";\n",
       "  width: 100%;\n",
       "  border-bottom: 2px solid var(--sklearn-color-text-on-default-background);\n",
       "  flex-grow: 1;\n",
       "}\n",
       "\n",
       "#sk-container-id-1 div.sk-parallel {\n",
       "  display: flex;\n",
       "  align-items: stretch;\n",
       "  justify-content: center;\n",
       "  background-color: var(--sklearn-color-background);\n",
       "  position: relative;\n",
       "}\n",
       "\n",
       "#sk-container-id-1 div.sk-parallel-item {\n",
       "  display: flex;\n",
       "  flex-direction: column;\n",
       "}\n",
       "\n",
       "#sk-container-id-1 div.sk-parallel-item:first-child::after {\n",
       "  align-self: flex-end;\n",
       "  width: 50%;\n",
       "}\n",
       "\n",
       "#sk-container-id-1 div.sk-parallel-item:last-child::after {\n",
       "  align-self: flex-start;\n",
       "  width: 50%;\n",
       "}\n",
       "\n",
       "#sk-container-id-1 div.sk-parallel-item:only-child::after {\n",
       "  width: 0;\n",
       "}\n",
       "\n",
       "/* Serial-specific style estimator block */\n",
       "\n",
       "#sk-container-id-1 div.sk-serial {\n",
       "  display: flex;\n",
       "  flex-direction: column;\n",
       "  align-items: center;\n",
       "  background-color: var(--sklearn-color-background);\n",
       "  padding-right: 1em;\n",
       "  padding-left: 1em;\n",
       "}\n",
       "\n",
       "\n",
       "/* Toggleable style: style used for estimator/Pipeline/ColumnTransformer box that is\n",
       "clickable and can be expanded/collapsed.\n",
       "- Pipeline and ColumnTransformer use this feature and define the default style\n",
       "- Estimators will overwrite some part of the style using the `sk-estimator` class\n",
       "*/\n",
       "\n",
       "/* Pipeline and ColumnTransformer style (default) */\n",
       "\n",
       "#sk-container-id-1 div.sk-toggleable {\n",
       "  /* Default theme specific background. It is overwritten whether we have a\n",
       "  specific estimator or a Pipeline/ColumnTransformer */\n",
       "  background-color: var(--sklearn-color-background);\n",
       "}\n",
       "\n",
       "/* Toggleable label */\n",
       "#sk-container-id-1 label.sk-toggleable__label {\n",
       "  cursor: pointer;\n",
       "  display: block;\n",
       "  width: 100%;\n",
       "  margin-bottom: 0;\n",
       "  padding: 0.5em;\n",
       "  box-sizing: border-box;\n",
       "  text-align: center;\n",
       "}\n",
       "\n",
       "#sk-container-id-1 label.sk-toggleable__label-arrow:before {\n",
       "  /* Arrow on the left of the label */\n",
       "  content: \"▸\";\n",
       "  float: left;\n",
       "  margin-right: 0.25em;\n",
       "  color: var(--sklearn-color-icon);\n",
       "}\n",
       "\n",
       "#sk-container-id-1 label.sk-toggleable__label-arrow:hover:before {\n",
       "  color: var(--sklearn-color-text);\n",
       "}\n",
       "\n",
       "/* Toggleable content - dropdown */\n",
       "\n",
       "#sk-container-id-1 div.sk-toggleable__content {\n",
       "  max-height: 0;\n",
       "  max-width: 0;\n",
       "  overflow: hidden;\n",
       "  text-align: left;\n",
       "  /* unfitted */\n",
       "  background-color: var(--sklearn-color-unfitted-level-0);\n",
       "}\n",
       "\n",
       "#sk-container-id-1 div.sk-toggleable__content.fitted {\n",
       "  /* fitted */\n",
       "  background-color: var(--sklearn-color-fitted-level-0);\n",
       "}\n",
       "\n",
       "#sk-container-id-1 div.sk-toggleable__content pre {\n",
       "  margin: 0.2em;\n",
       "  border-radius: 0.25em;\n",
       "  color: var(--sklearn-color-text);\n",
       "  /* unfitted */\n",
       "  background-color: var(--sklearn-color-unfitted-level-0);\n",
       "}\n",
       "\n",
       "#sk-container-id-1 div.sk-toggleable__content.fitted pre {\n",
       "  /* unfitted */\n",
       "  background-color: var(--sklearn-color-fitted-level-0);\n",
       "}\n",
       "\n",
       "#sk-container-id-1 input.sk-toggleable__control:checked~div.sk-toggleable__content {\n",
       "  /* Expand drop-down */\n",
       "  max-height: 200px;\n",
       "  max-width: 100%;\n",
       "  overflow: auto;\n",
       "}\n",
       "\n",
       "#sk-container-id-1 input.sk-toggleable__control:checked~label.sk-toggleable__label-arrow:before {\n",
       "  content: \"▾\";\n",
       "}\n",
       "\n",
       "/* Pipeline/ColumnTransformer-specific style */\n",
       "\n",
       "#sk-container-id-1 div.sk-label input.sk-toggleable__control:checked~label.sk-toggleable__label {\n",
       "  color: var(--sklearn-color-text);\n",
       "  background-color: var(--sklearn-color-unfitted-level-2);\n",
       "}\n",
       "\n",
       "#sk-container-id-1 div.sk-label.fitted input.sk-toggleable__control:checked~label.sk-toggleable__label {\n",
       "  background-color: var(--sklearn-color-fitted-level-2);\n",
       "}\n",
       "\n",
       "/* Estimator-specific style */\n",
       "\n",
       "/* Colorize estimator box */\n",
       "#sk-container-id-1 div.sk-estimator input.sk-toggleable__control:checked~label.sk-toggleable__label {\n",
       "  /* unfitted */\n",
       "  background-color: var(--sklearn-color-unfitted-level-2);\n",
       "}\n",
       "\n",
       "#sk-container-id-1 div.sk-estimator.fitted input.sk-toggleable__control:checked~label.sk-toggleable__label {\n",
       "  /* fitted */\n",
       "  background-color: var(--sklearn-color-fitted-level-2);\n",
       "}\n",
       "\n",
       "#sk-container-id-1 div.sk-label label.sk-toggleable__label,\n",
       "#sk-container-id-1 div.sk-label label {\n",
       "  /* The background is the default theme color */\n",
       "  color: var(--sklearn-color-text-on-default-background);\n",
       "}\n",
       "\n",
       "/* On hover, darken the color of the background */\n",
       "#sk-container-id-1 div.sk-label:hover label.sk-toggleable__label {\n",
       "  color: var(--sklearn-color-text);\n",
       "  background-color: var(--sklearn-color-unfitted-level-2);\n",
       "}\n",
       "\n",
       "/* Label box, darken color on hover, fitted */\n",
       "#sk-container-id-1 div.sk-label.fitted:hover label.sk-toggleable__label.fitted {\n",
       "  color: var(--sklearn-color-text);\n",
       "  background-color: var(--sklearn-color-fitted-level-2);\n",
       "}\n",
       "\n",
       "/* Estimator label */\n",
       "\n",
       "#sk-container-id-1 div.sk-label label {\n",
       "  font-family: monospace;\n",
       "  font-weight: bold;\n",
       "  display: inline-block;\n",
       "  line-height: 1.2em;\n",
       "}\n",
       "\n",
       "#sk-container-id-1 div.sk-label-container {\n",
       "  text-align: center;\n",
       "}\n",
       "\n",
       "/* Estimator-specific */\n",
       "#sk-container-id-1 div.sk-estimator {\n",
       "  font-family: monospace;\n",
       "  border: 1px dotted var(--sklearn-color-border-box);\n",
       "  border-radius: 0.25em;\n",
       "  box-sizing: border-box;\n",
       "  margin-bottom: 0.5em;\n",
       "  /* unfitted */\n",
       "  background-color: var(--sklearn-color-unfitted-level-0);\n",
       "}\n",
       "\n",
       "#sk-container-id-1 div.sk-estimator.fitted {\n",
       "  /* fitted */\n",
       "  background-color: var(--sklearn-color-fitted-level-0);\n",
       "}\n",
       "\n",
       "/* on hover */\n",
       "#sk-container-id-1 div.sk-estimator:hover {\n",
       "  /* unfitted */\n",
       "  background-color: var(--sklearn-color-unfitted-level-2);\n",
       "}\n",
       "\n",
       "#sk-container-id-1 div.sk-estimator.fitted:hover {\n",
       "  /* fitted */\n",
       "  background-color: var(--sklearn-color-fitted-level-2);\n",
       "}\n",
       "\n",
       "/* Specification for estimator info (e.g. \"i\" and \"?\") */\n",
       "\n",
       "/* Common style for \"i\" and \"?\" */\n",
       "\n",
       ".sk-estimator-doc-link,\n",
       "a:link.sk-estimator-doc-link,\n",
       "a:visited.sk-estimator-doc-link {\n",
       "  float: right;\n",
       "  font-size: smaller;\n",
       "  line-height: 1em;\n",
       "  font-family: monospace;\n",
       "  background-color: var(--sklearn-color-background);\n",
       "  border-radius: 1em;\n",
       "  height: 1em;\n",
       "  width: 1em;\n",
       "  text-decoration: none !important;\n",
       "  margin-left: 1ex;\n",
       "  /* unfitted */\n",
       "  border: var(--sklearn-color-unfitted-level-1) 1pt solid;\n",
       "  color: var(--sklearn-color-unfitted-level-1);\n",
       "}\n",
       "\n",
       ".sk-estimator-doc-link.fitted,\n",
       "a:link.sk-estimator-doc-link.fitted,\n",
       "a:visited.sk-estimator-doc-link.fitted {\n",
       "  /* fitted */\n",
       "  border: var(--sklearn-color-fitted-level-1) 1pt solid;\n",
       "  color: var(--sklearn-color-fitted-level-1);\n",
       "}\n",
       "\n",
       "/* On hover */\n",
       "div.sk-estimator:hover .sk-estimator-doc-link:hover,\n",
       ".sk-estimator-doc-link:hover,\n",
       "div.sk-label-container:hover .sk-estimator-doc-link:hover,\n",
       ".sk-estimator-doc-link:hover {\n",
       "  /* unfitted */\n",
       "  background-color: var(--sklearn-color-unfitted-level-3);\n",
       "  color: var(--sklearn-color-background);\n",
       "  text-decoration: none;\n",
       "}\n",
       "\n",
       "div.sk-estimator.fitted:hover .sk-estimator-doc-link.fitted:hover,\n",
       ".sk-estimator-doc-link.fitted:hover,\n",
       "div.sk-label-container:hover .sk-estimator-doc-link.fitted:hover,\n",
       ".sk-estimator-doc-link.fitted:hover {\n",
       "  /* fitted */\n",
       "  background-color: var(--sklearn-color-fitted-level-3);\n",
       "  color: var(--sklearn-color-background);\n",
       "  text-decoration: none;\n",
       "}\n",
       "\n",
       "/* Span, style for the box shown on hovering the info icon */\n",
       ".sk-estimator-doc-link span {\n",
       "  display: none;\n",
       "  z-index: 9999;\n",
       "  position: relative;\n",
       "  font-weight: normal;\n",
       "  right: .2ex;\n",
       "  padding: .5ex;\n",
       "  margin: .5ex;\n",
       "  width: min-content;\n",
       "  min-width: 20ex;\n",
       "  max-width: 50ex;\n",
       "  color: var(--sklearn-color-text);\n",
       "  box-shadow: 2pt 2pt 4pt #999;\n",
       "  /* unfitted */\n",
       "  background: var(--sklearn-color-unfitted-level-0);\n",
       "  border: .5pt solid var(--sklearn-color-unfitted-level-3);\n",
       "}\n",
       "\n",
       ".sk-estimator-doc-link.fitted span {\n",
       "  /* fitted */\n",
       "  background: var(--sklearn-color-fitted-level-0);\n",
       "  border: var(--sklearn-color-fitted-level-3);\n",
       "}\n",
       "\n",
       ".sk-estimator-doc-link:hover span {\n",
       "  display: block;\n",
       "}\n",
       "\n",
       "/* \"?\"-specific style due to the `<a>` HTML tag */\n",
       "\n",
       "#sk-container-id-1 a.estimator_doc_link {\n",
       "  float: right;\n",
       "  font-size: 1rem;\n",
       "  line-height: 1em;\n",
       "  font-family: monospace;\n",
       "  background-color: var(--sklearn-color-background);\n",
       "  border-radius: 1rem;\n",
       "  height: 1rem;\n",
       "  width: 1rem;\n",
       "  text-decoration: none;\n",
       "  /* unfitted */\n",
       "  color: var(--sklearn-color-unfitted-level-1);\n",
       "  border: var(--sklearn-color-unfitted-level-1) 1pt solid;\n",
       "}\n",
       "\n",
       "#sk-container-id-1 a.estimator_doc_link.fitted {\n",
       "  /* fitted */\n",
       "  border: var(--sklearn-color-fitted-level-1) 1pt solid;\n",
       "  color: var(--sklearn-color-fitted-level-1);\n",
       "}\n",
       "\n",
       "/* On hover */\n",
       "#sk-container-id-1 a.estimator_doc_link:hover {\n",
       "  /* unfitted */\n",
       "  background-color: var(--sklearn-color-unfitted-level-3);\n",
       "  color: var(--sklearn-color-background);\n",
       "  text-decoration: none;\n",
       "}\n",
       "\n",
       "#sk-container-id-1 a.estimator_doc_link.fitted:hover {\n",
       "  /* fitted */\n",
       "  background-color: var(--sklearn-color-fitted-level-3);\n",
       "}\n",
       "</style><div id=\"sk-container-id-1\" class=\"sk-top-container\"><div class=\"sk-text-repr-fallback\"><pre>Pipeline(steps=[(&#x27;standardscaler&#x27;, StandardScaler()),\n",
       "                (&#x27;randomforestregressor&#x27;, RandomForestRegressor())])</pre><b>In a Jupyter environment, please rerun this cell to show the HTML representation or trust the notebook. <br />On GitHub, the HTML representation is unable to render, please try loading this page with nbviewer.org.</b></div><div class=\"sk-container\" hidden><div class=\"sk-item sk-dashed-wrapped\"><div class=\"sk-label-container\"><div class=\"sk-label fitted sk-toggleable\"><input class=\"sk-toggleable__control sk-hidden--visually\" id=\"sk-estimator-id-1\" type=\"checkbox\" ><label for=\"sk-estimator-id-1\" class=\"sk-toggleable__label fitted sk-toggleable__label-arrow fitted\">&nbsp;&nbsp;Pipeline<a class=\"sk-estimator-doc-link fitted\" rel=\"noreferrer\" target=\"_blank\" href=\"https://scikit-learn.org/1.4/modules/generated/sklearn.pipeline.Pipeline.html\">?<span>Documentation for Pipeline</span></a><span class=\"sk-estimator-doc-link fitted\">i<span>Fitted</span></span></label><div class=\"sk-toggleable__content fitted\"><pre>Pipeline(steps=[(&#x27;standardscaler&#x27;, StandardScaler()),\n",
       "                (&#x27;randomforestregressor&#x27;, RandomForestRegressor())])</pre></div> </div></div><div class=\"sk-serial\"><div class=\"sk-item\"><div class=\"sk-estimator fitted sk-toggleable\"><input class=\"sk-toggleable__control sk-hidden--visually\" id=\"sk-estimator-id-2\" type=\"checkbox\" ><label for=\"sk-estimator-id-2\" class=\"sk-toggleable__label fitted sk-toggleable__label-arrow fitted\">&nbsp;StandardScaler<a class=\"sk-estimator-doc-link fitted\" rel=\"noreferrer\" target=\"_blank\" href=\"https://scikit-learn.org/1.4/modules/generated/sklearn.preprocessing.StandardScaler.html\">?<span>Documentation for StandardScaler</span></a></label><div class=\"sk-toggleable__content fitted\"><pre>StandardScaler()</pre></div> </div></div><div class=\"sk-item\"><div class=\"sk-estimator fitted sk-toggleable\"><input class=\"sk-toggleable__control sk-hidden--visually\" id=\"sk-estimator-id-3\" type=\"checkbox\" ><label for=\"sk-estimator-id-3\" class=\"sk-toggleable__label fitted sk-toggleable__label-arrow fitted\">&nbsp;RandomForestRegressor<a class=\"sk-estimator-doc-link fitted\" rel=\"noreferrer\" target=\"_blank\" href=\"https://scikit-learn.org/1.4/modules/generated/sklearn.ensemble.RandomForestRegressor.html\">?<span>Documentation for RandomForestRegressor</span></a></label><div class=\"sk-toggleable__content fitted\"><pre>RandomForestRegressor()</pre></div> </div></div></div></div></div></div>"
      ],
      "text/plain": [
       "Pipeline(steps=[('standardscaler', StandardScaler()),\n",
       "                ('randomforestregressor', RandomForestRegressor())])"
      ]
     },
     "execution_count": 63,
     "metadata": {},
     "output_type": "execute_result"
    }
   ],
   "source": [
    "standardized_model"
   ]
  },
  {
   "cell_type": "code",
   "execution_count": 64,
   "id": "13da9f94-d14a-4d8d-aada-84ad9e385e29",
   "metadata": {},
   "outputs": [],
   "source": [
    "y_pred1 =  standardized_model.predict(X_test)"
   ]
  },
  {
   "cell_type": "code",
   "execution_count": 65,
   "id": "105e91f7-c61a-4c81-b797-afdd0328d4a3",
   "metadata": {},
   "outputs": [],
   "source": [
    "zphot= y_pred1\n",
    "zspec = y_test"
   ]
  },
  {
   "cell_type": "code",
   "execution_count": 66,
   "id": "846636c3-d6ce-4224-a404-f872ca7c6e58",
   "metadata": {},
   "outputs": [],
   "source": [
    "num = zphot-zspec\n",
    "dnom = (1.+zspec)\n",
    "DZZ = num/dnom"
   ]
  },
  {
   "cell_type": "code",
   "execution_count": 67,
   "id": "6d660ad8-3eaf-4e87-a261-9706d72572b9",
   "metadata": {},
   "outputs": [
    {
     "data": {
      "image/png": "[encoded data removed]",
      "text/plain": [
       "<Figure size 800x800 with 1 Axes>"
      ]
     },
     "metadata": {},
     "output_type": "display_data"
    }
   ],
   "source": [
    "fig,ax=plt.subplots(1,1,figsize=(8,8))\n",
    "\n",
    "ax.plot(zspec,DZZ,'o')\n",
    "plotdzvsz(ax)"
   ]
  },
  {
   "cell_type": "code",
   "execution_count": null,
   "id": "b5604d81-5e4b-4bd7-ad6e-cb9379087a2a",
   "metadata": {},
   "outputs": [],
   "source": []
  }
 ],
 "metadata": {
  "kernelspec": {
   "display_name": "conda_desc_py310",
   "language": "python",
   "name": "conda_desc_py310"
  },
  "language_info": {
   "codemirror_mode": {
    "name": "ipython",
    "version": 3
   },
   "file_extension": ".py",
   "mimetype": "text/x-python",
   "name": "python",
   "nbconvert_exporter": "python",
   "pygments_lexer": "ipython3",
   "version": "3.10.12"
  }
 },
 "nbformat": 4,
 "nbformat_minor": 5
}
