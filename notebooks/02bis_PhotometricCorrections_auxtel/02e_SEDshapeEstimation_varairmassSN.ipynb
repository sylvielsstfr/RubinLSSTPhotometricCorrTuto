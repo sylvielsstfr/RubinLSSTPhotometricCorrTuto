{
 "cells": [
  {
   "cell_type": "markdown",
   "id": "c1762601-e66e-40e5-99d6-7c60b8eb5938",
   "metadata": {},
   "source": [
    "# 02d Estimation of the SN SED shape by varying airmass\n",
    "\n",
    "- author Sylvie Dagoret-Campagne\n",
    "- creation date : 2023/03/02\n",
    "- last verification : 2024/01/04"
   ]
  },
  {
   "cell_type": "markdown",
   "id": "5c4e1a1f-c20a-4eaf-927f-1f88a64b4322",
   "metadata": {},
   "source": [
    "### Use libraries\n",
    "\n",
    "- getObsAtmo : for atmosphere emulation : https://github.com/LSSTDESC/getObsAtmo/tree/main\n",
    "- rubinsimphot : a simplified version of rubin_sim : https://github.com/sylvielsstfr/rubinsimphot"
   ]
  },
  {
   "cell_type": "markdown",
   "id": "57cdf75d-d568-4e78-906a-a7aaa6886dca",
   "metadata": {},
   "source": [
    "**Goal** : shows the sensitivity to the SED slope in some band with color dependence"
   ]
  },
  {
   "cell_type": "markdown",
   "id": "323e6e08-6982-409b-a7f5-12b9ae055ea7",
   "metadata": {},
   "source": [
    "- simulate many atmospheric conditions\n",
    "- simulate many SEDs and their redshifts"
   ]
  },
  {
   "cell_type": "code",
   "execution_count": 1,
   "id": "e71210ce-c077-4178-91a4-cd9343410c97",
   "metadata": {},
   "outputs": [],
   "source": [
    "import numpy as np\n",
    "import matplotlib.pyplot as plt\n",
    "%matplotlib inline\n",
    "import matplotlib.colors as colors\n",
    "import matplotlib.cm as cmx\n",
    "from mpl_toolkits.axes_grid1 import make_axes_locatable\n",
    "from matplotlib.colors import LogNorm\n",
    "from matplotlib.gridspec import GridSpec\n",
    "import pandas as pd\n",
    "\n",
    "import matplotlib.ticker                         # here's where the formatter is\n",
    "import os,sys\n",
    "import re\n",
    "import pandas as pd\n",
    "\n",
    "plt.rcParams[\"figure.figsize\"] = (8,6)\n",
    "plt.rcParams[\"axes.labelsize\"] = 'xx-large'\n",
    "plt.rcParams['axes.titlesize'] = 'xx-large'\n",
    "plt.rcParams['xtick.labelsize']= 'xx-large'\n",
    "plt.rcParams['ytick.labelsize']= 'xx-large'\n",
    "\n",
    "import copy"
   ]
  },
  {
   "cell_type": "code",
   "execution_count": 2,
   "id": "c817cd0d-2557-48f2-aed6-9427a2d45ef9",
   "metadata": {},
   "outputs": [],
   "source": [
    "from scipy import interpolate"
   ]
  },
  {
   "cell_type": "code",
   "execution_count": 3,
   "id": "a57f6dbc-3fac-4cac-9d07-604cdd4b29d5",
   "metadata": {},
   "outputs": [],
   "source": [
    "from astropy import constants as const\n",
    "from astropy import units as u"
   ]
  },
  {
   "cell_type": "code",
   "execution_count": 4,
   "id": "3a39bdb8-ed94-4cb8-b235-b3d87ec29bbe",
   "metadata": {},
   "outputs": [
    {
     "name": "stdout",
     "output_type": "stream",
     "text": [
      "Be sure to run this notebook in conda environment named conda_py310\n"
     ]
    }
   ],
   "source": [
    "machine_name = os.uname().nodename\n",
    "\n",
    "if 'sdf' in machine_name:\n",
    "    #machine_name_usdf = 'sdfrome001'\n",
    "    print(\"Set environment for USDF\")\n",
    "    newpythonpath = os.path.join(os.getenv(\"HOME\"),\"repos/repos_w_2023_44/rubinsimphot/src\")\n",
    "    sys.path.append(newpythonpath)\n",
    "elif 'dagoret-nb' in machine_name:\n",
    "    print(\"Set environment for USDF Rubin Science Platform\")\n",
    "    newpythonpath = os.path.join(os.getenv(\"HOME\"),\"repos/repos_w_2023_44/rubinsimphot/src\")\n",
    "    sys.path.append(newpythonpath)  \n",
    "elif 'mac' in machine_name:\n",
    "    print(\"Be sure to run this notebook in conda environment named conda_py310\")\n",
    "else:\n",
    "    print(f\"Your current machine name is {machine_name}. Check your python environment\")"
   ]
  },
  {
   "cell_type": "markdown",
   "id": "fc03bdef-6a46-400a-92fe-cae86730c348",
   "metadata": {},
   "source": [
    "## Imports dedicated to this work\n",
    "\n",
    "- import the atmospheric transparency emulator (instead of using libradtran code).\n",
    "- import rubin sim\n",
    "- import libPhotometricCorrections : encapsulate uninteresting calculation details"
   ]
  },
  {
   "cell_type": "markdown",
   "id": "7e74385e-5df7-4a94-8a23-4d6201a6f80a",
   "metadata": {},
   "source": [
    "### libradtran emulator"
   ]
  },
  {
   "cell_type": "code",
   "execution_count": 5,
   "id": "1c11e7b6-4798-409f-a830-be2797598932",
   "metadata": {},
   "outputs": [
    {
     "name": "stdout",
     "output_type": "stream",
     "text": [
      "Version of getObsAtmo : 0.1.1\n"
     ]
    }
   ],
   "source": [
    "from importlib.metadata import version\n",
    "the_ver = version('getObsAtmo')\n",
    "print(f\"Version of getObsAtmo : {the_ver}\")"
   ]
  },
  {
   "cell_type": "code",
   "execution_count": 6,
   "id": "054508b3-2a13-4931-9f24-16599f462cef",
   "metadata": {},
   "outputs": [
    {
     "name": "stdout",
     "output_type": "stream",
     "text": [
      "LSST site name validated as LSST observatory\n"
     ]
    }
   ],
   "source": [
    "from getObsAtmo import ObsAtmo\n",
    "emul = ObsAtmo()"
   ]
  },
  {
   "cell_type": "code",
   "execution_count": 7,
   "id": "07058b36-520a-42d2-8c7c-e98ad4971aa4",
   "metadata": {},
   "outputs": [],
   "source": [
    "WL = emul.GetWL()"
   ]
  },
  {
   "cell_type": "code",
   "execution_count": 8,
   "id": "a0de5102-b6a9-4da6-8539-d25cd126d55c",
   "metadata": {},
   "outputs": [],
   "source": [
    "import sys\n",
    "sys.path.append('../lib')\n",
    "#import libAtmosphericFit"
   ]
  },
  {
   "cell_type": "code",
   "execution_count": 9,
   "id": "b31208b1-30e9-4248-b812-67167b539fe2",
   "metadata": {},
   "outputs": [
    {
     "name": "stdout",
     "output_type": "stream",
     "text": [
      "LSST site name validated as LSST observatory\n"
     ]
    }
   ],
   "source": [
    "# This package encapsulate the calculation on calibration used in this nb\n",
    "from libPhotometricCorrections_auxtel import *"
   ]
  },
  {
   "cell_type": "markdown",
   "id": "23019f73-7062-4d30-b892-779167b7e008",
   "metadata": {},
   "source": [
    "https://github.com/lsst/rubin_sim_notebooks/blob/main/photometry/calculating_snr.ipynb"
   ]
  },
  {
   "cell_type": "code",
   "execution_count": 10,
   "id": "a93fc1ba-dfd4-4b98-abb0-d8e25e0d4297",
   "metadata": {},
   "outputs": [],
   "source": [
    "from rubinsimphot.phot_utils import Bandpass, Sed\n",
    "from rubinsimphot.data import get_data_dir\n",
    "from rubinsimphot.phot_utils import PhotometricParameters \n",
    "from rubinsimphot.site_models import SeeingModel\n",
    "from rubinsimphot.phot_utils import signaltonoise\n",
    "from rubinsimphot.phot_utils import calc_neff"
   ]
  },
  {
   "cell_type": "code",
   "execution_count": 11,
   "id": "62768d65-ae88-4a23-a4cd-f463b93fd1da",
   "metadata": {},
   "outputs": [],
   "source": [
    "def set_photometric_parameters(exptime, nexp, readnoise=None):\n",
    "    # readnoise = None will use the default (8.8 e/pixel). Readnoise should be in electrons/pixel.\n",
    "    photParams = PhotometricParameters(exptime=exptime, nexp=nexp, readnoise=readnoise)\n",
    "    return photParams"
   ]
  },
  {
   "cell_type": "code",
   "execution_count": 12,
   "id": "5274f999-98b9-451c-96ab-762c9c2d8c3d",
   "metadata": {},
   "outputs": [],
   "source": [
    "def scale_sed(ref_mag, ref_filter, sed):\n",
    "    fluxNorm = sed.calc_flux_norm(ref_mag, lsst_std[ref_filter])\n",
    "    sed.multiply_flux_norm(fluxNorm)\n",
    "    return sed"
   ]
  },
  {
   "cell_type": "code",
   "execution_count": 13,
   "id": "62a4530f-6a86-460f-8397-2ccdddef3e3a",
   "metadata": {},
   "outputs": [],
   "source": [
    "seeing_model = SeeingModel()\n",
    "def seeing_at_X(obs_filter, obs_X, atmospheric_seeing_500nm=None, seeing_zenith=None):\n",
    "    \"Return FWHMeff in `obs_filter` at `obs_X`, providing either the seeing @ zenith (in filter) or the FWHM_500\"\n",
    "    if atmospheric_seeing_500nm is not None:\n",
    "        idx = filterlist.index(obs_filter)\n",
    "        fwhm_eff = seeing_model(atmospheric_seeing_500nm, obs_X)['fwhmEff'][idx]\n",
    "    elif seeing_zenith is not None:\n",
    "        # assume seeing_zenith is in the filter of choice and just approximate for airmass \n",
    "        airmass_correction = np.power(obs_X, 0.6)\n",
    "        fwhm_eff = 1.16 * seeing_zenith * airmass_correction\n",
    "    else:\n",
    "        raise ValueErorr('Must specify atmospheric_seeing_500nm or seeing_zenith')\n",
    "    return fwhm_eff"
   ]
  },
  {
   "cell_type": "code",
   "execution_count": 14,
   "id": "030bc19a-2c66-4426-8cbf-02e319e1257f",
   "metadata": {},
   "outputs": [],
   "source": [
    "def calc_snr(sed, obs_filter, obs_skymag, obs_fwhm_eff, obs_X, \n",
    "             ref_filter, ref_mag, \n",
    "             exptime=15, nexp=2, verbose=False):\n",
    "    obs_sky = scale_sky(obs_skymag, obs_filter)\n",
    "    lsst_x = throughput_at_X(obs_X)\n",
    "    scaled_sed = scale_sed(ref_mag, ref_filter, sed)\n",
    "    photParams = set_photometric_parameters(exptime, nexp)\n",
    "    snr = SignalToNoise.calc_snr_sed(scaled_sed, lsst_x[obs_filter], \n",
    "                                    obs_sky, lsst_hardware[obs_filter], \n",
    "                                    photParams, fwhm_eff=obs_fwhm_eff, \n",
    "                                    verbose=verbose)\n",
    "    return snr"
   ]
  },
  {
   "cell_type": "markdown",
   "id": "845c562a-831e-4695-b7ad-b59b02f1df10",
   "metadata": {},
   "source": [
    "## Configuration"
   ]
  },
  {
   "cell_type": "code",
   "execution_count": 15,
   "id": "146f12df-77e1-48b7-bf7f-10bf673880d6",
   "metadata": {},
   "outputs": [],
   "source": [
    "path_rubin_sim_throughput=os.path.join(get_data_dir(),\"throughputs/baseline\")"
   ]
  },
  {
   "cell_type": "code",
   "execution_count": 16,
   "id": "e392ca98-b2cc-42b3-ae8a-7169b17bfe9e",
   "metadata": {},
   "outputs": [],
   "source": [
    "darksky = Sed()\n",
    "darksky.read_sed_flambda(os.path.join(path_rubin_sim_throughput, 'darksky.dat'))"
   ]
  },
  {
   "cell_type": "code",
   "execution_count": 17,
   "id": "a1cbd7ca-8c10-4c04-ace0-b163799bffc5",
   "metadata": {},
   "outputs": [],
   "source": [
    "index_sel = np.where(np.logical_and(darksky.wavelen>=WLMIN,darksky.wavelen<WLMAX))[0]\n",
    "wav = darksky.wavelen[index_sel]\n",
    "fll = darksky.flambda[index_sel]\n",
    "darksel = Sed(wavelen=wav, flambda=fll)"
   ]
  },
  {
   "cell_type": "code",
   "execution_count": 18,
   "id": "eff0c147-d4a3-484c-9bdb-fe5d75087baa",
   "metadata": {},
   "outputs": [
    {
     "data": {
      "text/plain": [
       "Text(0, 0.5, '$F_\\\\lambda (\\\\lambda)$')"
      ]
     },
     "execution_count": 18,
     "metadata": {},
     "output_type": "execute_result"
    },
    {
     "data": {
      "image/png": "[encoded data removed]",
      "text/plain": [
       "<Figure size 500x300 with 1 Axes>"
      ]
     },
     "metadata": {},
     "output_type": "display_data"
    }
   ],
   "source": [
    "fig, axs = plt.subplots(1,1,figsize=(5,3))\n",
    "axs.plot(darksky.wavelen,darksky.flambda,'r-')\n",
    "axs.plot(darksel.wavelen,darksel.flambda,'b-')\n",
    "axs.set_title(\"sky background SED\")\n",
    "axs.set_xlabel(\"$\\\\lambda$ (nm)\")\n",
    "axs.set_ylabel(\"$F_\\lambda (\\lambda)$\")"
   ]
  },
  {
   "cell_type": "markdown",
   "id": "2c062900-65de-4ee9-b1ed-63c4343d2437",
   "metadata": {},
   "source": [
    "## Chose a Standard atmosphere"
   ]
  },
  {
   "cell_type": "code",
   "execution_count": 19,
   "id": "8b282372-c591-4a9d-a6f1-ade2c96d2e51",
   "metadata": {},
   "outputs": [],
   "source": [
    "am0 =1.20    # airmass\n",
    "pwv0 = 5.0  # Precipitable water vapor vertical column depth in mm\n",
    "oz0 = 300.  # Ozone vertical column depth in Dobson Unit (DU)\n",
    "tau0= 0.04 # Vertical Aerosol depth (VAOD) \n",
    "beta0 = 1.0# Aerosol Angstrom exponent"
   ]
  },
  {
   "cell_type": "markdown",
   "id": "00e11d5b-55c0-4615-a3aa-daec0348a9da",
   "metadata": {},
   "source": [
    "### Initialisation of Atmospheric corrections"
   ]
  },
  {
   "cell_type": "code",
   "execution_count": 20,
   "id": "14ce34dd-200a-4bb7-881a-4c8e2822b8f1",
   "metadata": {},
   "outputs": [
    {
     "name": "stderr",
     "output_type": "stream",
     "text": [
      "/Users/dagoret/MacOSX/GitHub/LSST/AtmosphericSimulation/rubinsimphot/src/rubinsimphot/phot_utils/bandpass.py:68: UserWarning: Wavelength sampling of 1.0 nm is > 0.2 nm, this may not work well with a Sed object. Consider resampling with resample_bandpass method.\n",
      "  warnings.warn(\n"
     ]
    }
   ],
   "source": [
    "pc = PhotometricCorrections(am0,pwv0,oz0,tau0,beta0)"
   ]
  },
  {
   "cell_type": "markdown",
   "id": "89e17564-b611-450a-9341-c98cad2d4c73",
   "metadata": {},
   "source": [
    "### Check standard atmosphere"
   ]
  },
  {
   "cell_type": "code",
   "execution_count": 21,
   "id": "5d7ccb4e-55f3-4395-ae38-47908f30fa27",
   "metadata": {},
   "outputs": [
    {
     "data": {
      "text/plain": [
       "Text(0.5, 1.0, 'Standard atmosphere transmission')"
      ]
     },
     "execution_count": 21,
     "metadata": {},
     "output_type": "execute_result"
    },
    {
     "data": {
      "image/png": "[encoded data removed]",
      "text/plain": [
       "<Figure size 600x400 with 1 Axes>"
      ]
     },
     "metadata": {},
     "output_type": "display_data"
    }
   ],
   "source": [
    "fig, axs = plt.subplots(1,1,figsize=(6,4))\n",
    "axs.plot(pc.WL,pc.atm_std,'k-')\n",
    "axs.set_xlabel(\"$\\\\lambda$ (nm)\")\n",
    "axs.set_title(\"Standard atmosphere transmission\")"
   ]
  },
  {
   "cell_type": "markdown",
   "id": "782ad306-cfb1-4b42-8d54-b2a9227073b9",
   "metadata": {},
   "source": [
    "## Pickup an SED"
   ]
  },
  {
   "cell_type": "code",
   "execution_count": 22,
   "id": "5b93e747-2906-4d31-801e-27b93de42e7a",
   "metadata": {},
   "outputs": [],
   "source": [
    "# this will contain attributes calculated for each SED\n",
    "df_SED = pd.DataFrame(columns=[\"name\",\"type\"])"
   ]
  },
  {
   "cell_type": "code",
   "execution_count": 23,
   "id": "6cf46788-1e60-4e21-b38e-b72824101290",
   "metadata": {},
   "outputs": [],
   "source": [
    "datadir = get_data_dir()\n",
    "#sedDir = '/Users/lynnej/other_repos/photometry_sample'\n",
    "sedDir = os.path.join(datadir,'photometry_sample')\n",
    "\n",
    "sedtypes = ['sn'] \n",
    "sedtypes_not_used = ['galaxies', 'photoZ_outliers' ,'quasar','stars' ,'white_dwarf']\n",
    "sedtypes = sedtypes \n",
    "\n",
    "NSEDTYPES = len(sedtypes)\n",
    "\n",
    "# dictionnary indexed by sed-name\n",
    "seds = {}      # dictionnary that will contain the `rubin_sim` seds-Flambdas\n",
    "sedsfnu = {}   # dictionnary that will contain the `rubin_sim` seds-Fnu\n",
    "sedtypeslists = {}  # dictionnary that contain the SED type\n",
    "count_sed =0\n",
    "\n",
    "# loop on SED type\n",
    "for idx,s in enumerate(sedtypes):\n",
    "    sedtypelist = []\n",
    "    # loop on object sed in SED type list\n",
    "    filenames = os.listdir(os.path.join(sedDir, s))\n",
    "    for f in filenames:\n",
    "        name = f.replace('.dat', '').replace('.sed', '')\n",
    "        \n",
    "        if name == \"m3.0Full\":\n",
    "            continue\n",
    "            \n",
    "        seds[name] = Sed()\n",
    "        seds[name].read_sed_flambda(os.path.join(sedDir, s, f))\n",
    "        sedsfnu[name]= Sed()\n",
    "    \n",
    "        # save the name of the sed in the list\n",
    "        sedtypelist.append(name) \n",
    "        df_SED.loc[count_sed] = [name,s]\n",
    "        count_sed+=1\n",
    "        \n",
    "    # save the above list in a dictionary\n",
    "    sedtypeslists[s] =  sedtypelist\n",
    "        \n"
   ]
  },
  {
   "cell_type": "code",
   "execution_count": 24,
   "id": "82f9b155-8233-4108-b457-3779d7f08921",
   "metadata": {},
   "outputs": [
    {
     "data": {
      "text/html": [
       "<div>\n",
       "<style scoped>\n",
       "    .dataframe tbody tr th:only-of-type {\n",
       "        vertical-align: middle;\n",
       "    }\n",
       "\n",
       "    .dataframe tbody tr th {\n",
       "        vertical-align: top;\n",
       "    }\n",
       "\n",
       "    .dataframe thead th {\n",
       "        text-align: right;\n",
       "    }\n",
       "</style>\n",
       "<table border=\"1\" class=\"dataframe\">\n",
       "  <thead>\n",
       "    <tr style=\"text-align: right;\">\n",
       "      <th></th>\n",
       "      <th>type</th>\n",
       "    </tr>\n",
       "    <tr>\n",
       "      <th>name</th>\n",
       "      <th></th>\n",
       "    </tr>\n",
       "  </thead>\n",
       "  <tbody>\n",
       "    <tr>\n",
       "      <th>sn1a_10.0</th>\n",
       "      <td>sn</td>\n",
       "    </tr>\n",
       "    <tr>\n",
       "      <th>sn1a_15.0</th>\n",
       "      <td>sn</td>\n",
       "    </tr>\n",
       "    <tr>\n",
       "      <th>sn1a_20.0</th>\n",
       "      <td>sn</td>\n",
       "    </tr>\n",
       "  </tbody>\n",
       "</table>\n",
       "</div>"
      ],
      "text/plain": [
       "          type\n",
       "name          \n",
       "sn1a_10.0   sn\n",
       "sn1a_15.0   sn\n",
       "sn1a_20.0   sn"
      ]
     },
     "execution_count": 24,
     "metadata": {},
     "output_type": "execute_result"
    }
   ],
   "source": [
    "df_SED=df_SED.set_index('name')\n",
    "df_SED"
   ]
  },
  {
   "cell_type": "code",
   "execution_count": 25,
   "id": "e1b7e356-3ec2-498b-8b81-8a0f066a3ac5",
   "metadata": {},
   "outputs": [],
   "source": [
    "dict_selected_galaxies = { 'sn1a_10.0' : {0.0,0.5,1,1.5,2,2.5}, 'sn1a_15.0' : {0.0,0.5,1,1.5,2,2.5}, 'sn1a_20.0':{0.0,0.5,1,1.5,2,2.5} }"
   ]
  },
  {
   "cell_type": "code",
   "execution_count": 26,
   "id": "027d421d-983e-4a1b-8b1f-6eff77ec9eaf",
   "metadata": {},
   "outputs": [
    {
     "name": "stderr",
     "output_type": "stream",
     "text": [
      "/Users/dagoret/MacOSX/GitHub/LSST/AtmosphericSimulation/rubinsimphot/src/rubinsimphot/phot_utils/sed.py:804: UserWarning: There is an area of non-overlap between desired wavelength range  (300.00 to 1100.00)and sed /Users/dagoret/MacOSX/GitHub/LSST/AtmosphericSimulation/rubinsimphot/src/rubin_sim_data/photometry_sample/sn/sn1a_10.0.dat (350.00 to 8750.00)\n",
      "  warnings.warn(\n",
      "/Users/dagoret/MacOSX/GitHub/LSST/AtmosphericSimulation/rubinsimphot/src/rubinsimphot/phot_utils/sed.py:804: UserWarning: There is an area of non-overlap between desired wavelength range  (300.00 to 1100.00)and sed /Users/dagoret/MacOSX/GitHub/LSST/AtmosphericSimulation/rubinsimphot/src/rubin_sim_data/photometry_sample/sn/sn1a_15.0.dat (350.00 to 8750.00)\n",
      "  warnings.warn(\n",
      "/Users/dagoret/MacOSX/GitHub/LSST/AtmosphericSimulation/rubinsimphot/src/rubinsimphot/phot_utils/sed.py:804: UserWarning: There is an area of non-overlap between desired wavelength range  (300.00 to 1100.00)and sed /Users/dagoret/MacOSX/GitHub/LSST/AtmosphericSimulation/rubinsimphot/src/rubin_sim_data/photometry_sample/sn/sn1a_20.0.dat (350.00 to 8750.00)\n",
      "  warnings.warn(\n"
     ]
    }
   ],
   "source": [
    "renorm_mag_inZ = 20\n",
    "\n",
    "all_selected_sed = []\n",
    "all_tag_sed = []\n",
    "for key, all_z in dict_selected_galaxies.items():\n",
    "  \n",
    "    for z in all_z:\n",
    "        the_sed = copy.deepcopy(seds[key])\n",
    "        the_sed.redshift_sed(z)\n",
    "        flux_norm = the_sed.calc_flux_norm(renorm_mag_inZ, pc.bandpass_total_std['z'])\n",
    "        the_sed.multiply_flux_norm(flux_norm)\n",
    "        \n",
    "        the_sed_name = key+f\" z={z:.1f}\"\n",
    "        all_selected_sed.append(the_sed)\n",
    "        all_tag_sed.append(the_sed_name)\n",
    "          "
   ]
  },
  {
   "cell_type": "code",
   "execution_count": 27,
   "id": "c8c2b3b8-0fb1-4fa4-8525-806aae288573",
   "metadata": {},
   "outputs": [],
   "source": [
    "sed_flat = Sed()\n",
    "sed_flat.set_flat_sed()\n",
    "flux_norm = sed_flat.calc_flux_norm(20, pc.bandpass_total_std['z'])\n",
    "sed_flat.multiply_flux_norm(flux_norm)\n",
    "\n",
    "all_selected_sed.append(sed_flat) \n",
    "all_tag_sed.append('flat')"
   ]
  },
  {
   "cell_type": "code",
   "execution_count": 28,
   "id": "d123446e-a59b-4cb0-aba4-e16de173b5e2",
   "metadata": {},
   "outputs": [],
   "source": [
    "NSEDSEL = len(all_selected_sed)\n",
    "jet = plt.get_cmap('jet')\n",
    "cNorm = colors.Normalize(vmin=0, vmax=NSEDSEL)\n",
    "scalarMap = cmx.ScalarMappable(norm=cNorm, cmap=jet)\n",
    "all_colors = scalarMap.to_rgba(np.arange(NSEDSEL), alpha=1)"
   ]
  },
  {
   "cell_type": "code",
   "execution_count": null,
   "id": "19651b0a-ff18-4fbc-a0bb-fa60de508803",
   "metadata": {},
   "outputs": [],
   "source": [
    "fig, ax = plt.subplots(1,1,figsize=(14,10))\n",
    "all_flmax = np.zeros(NSEDSEL)\n",
    "\n",
    "\n",
    "for idx in range(NSEDSEL):\n",
    "    the_sed = all_selected_sed[idx]\n",
    "    ax.plot(the_sed.wavelen, the_sed.flambda * the_sed.wavelen,\"-\",color=all_colors[idx],label=all_tag_sed[idx],lw=2)\n",
    "    #idx_inrange = np.where(np.logical_and(the_sed.flambda>=WLMIN, the_sed.flambda<WLMAX))[0]\n",
    "    #flinrange = (the_sed.flambda * the_sed.wavelen)[idx_inrange]\n",
    "    #all_flmax[idx] = np.max(flinrange)\n",
    "    \n",
    "ax.set_ylim(0,3e-13)    \n",
    "ax.legend(loc=(1.01, 0.01))\n",
    "ax.set_xlim(300, 1100)\n",
    "ax.grid(alpha=0.3)\n",
    "ax.set_xlabel('Wavelength (nm)')\n",
    "ax.set_ylabel(\"$\\lambda F_\\lambda(\\lambda)$\")\n",
    "ax.set_title(\"$\\lambda F_\\lambda(\\lambda)$\")\n",
    "ax2 = ax.twinx()\n",
    "\n",
    "for index,f in enumerate(filter_tagnames):\n",
    "    \n",
    "    ax2.plot(pc.bandpass_total_std[f].wavelen,pc.bandpass_total_std[f].sb,color=filter_color[index]) \n",
    "    ax2.fill_between(pc.bandpass_total_std[f].wavelen,pc.bandpass_total_std[f].sb,color=filter_color[index],alpha=0.2) \n",
    "    ax2.axvline(FILTERWL[index,2],color=filter_color[index],linestyle=\"-.\")\n",
    "    ax2.set_yticks([])"
   ]
  },
  {
   "cell_type": "code",
   "execution_count": null,
   "id": "b23dccb6-d519-4570-bb89-bfda77f36724",
   "metadata": {},
   "outputs": [],
   "source": [
    "fig, ax = plt.subplots(1,1,figsize=(14,10))\n",
    "\n",
    "\n",
    "for idx in range(NSEDSEL):\n",
    "    the_sed = all_selected_sed[idx]\n",
    "    ax.plot(the_sed.wavelen, the_sed.flambda ,\"-\",color=all_colors[idx],label=all_tag_sed[idx],lw=2)\n",
    "    #idx_inrange = np.where(np.logical_and(the_sed.flambda>=WLMIN, the_sed.flambda<WLMAX))[0]\n",
    "    #flinrange = (the_sed.flambda * the_sed.wavelen)[idx_inrange]\n",
    "    #all_flmax[idx] = np.max(flinrange)\n",
    "\n",
    "ax.set_ylim(0,1e-15)\n",
    "ax.legend(loc=(1.01, 0.01))\n",
    "ax.set_xlim(300, 1100)\n",
    "ax.grid(alpha=0.3)\n",
    "ax.set_xlabel('Wavelength (nm)')\n",
    "ax.set_ylabel(\"$F_\\lambda(\\lambda)$\")\n",
    "ax.set_title(\"$F_\\lambda (\\lambda)$\")\n",
    "ax2 = ax.twinx()\n",
    "\n",
    "for index,f in enumerate(filter_tagnames):\n",
    "    \n",
    "    ax2.plot(pc.bandpass_total_std[f].wavelen,pc.bandpass_total_std[f].sb,color=filter_color[index]) \n",
    "    ax2.fill_between(pc.bandpass_total_std[f].wavelen,pc.bandpass_total_std[f].sb,color=filter_color[index],alpha=0.2) \n",
    "    ax2.axvline(FILTERWL[index,2],color=filter_color[index],linestyle=\"-.\")\n",
    "    ax2.set_yticks([])\n",
    "    "
   ]
  },
  {
   "cell_type": "code",
   "execution_count": null,
   "id": "c84b6ae7-c480-444a-bc62-e660520fad20",
   "metadata": {},
   "outputs": [],
   "source": [
    "# Plot the seds\n",
    "fig, ax = plt.subplots(1,1,figsize=(16,10))\n",
    "for idx in range(NSEDSEL):\n",
    "    the_sed = all_selected_sed[idx]\n",
    "    wavel,fnu = the_sed.get_sed_fnu()\n",
    "    ax.plot(wavel, fnu,\"-\",color=all_colors[idx],label=all_tag_sed[idx],lw=3)\n",
    "\n",
    "\n",
    "ax.legend(loc=(1.01, 0.01))\n",
    "ax.set_xlim(300, 1100)\n",
    "\n",
    "ax.grid(alpha=0.3)\n",
    "ax.set_xlabel('Wavelength (nm)')\n",
    "ax.set_ylabel(\"$F_\\\\nu (\\lambda)$\")\n",
    "ax.set_title(\"$F_\\\\nu (\\lambda)$\")\n",
    "\n",
    "indexes_sel = np.where(np.logical_and(wavel>WLMIN,wavel<WLMAX))[0]\n",
    "flmax = np.max(fnu[indexes_sel])\n",
    "ax.set_ylim(0,5e-5)\n",
    "                       \n",
    "\n",
    "ax2 = ax.twinx()\n",
    "for index,f in enumerate(filter_tagnames):\n",
    "    \n",
    "    ax2.plot(pc.bandpass_total_std[f].wavelen,pc.bandpass_total_std[f].sb,color=filter_color[index]) \n",
    "    ax2.fill_between(pc.bandpass_total_std[f].wavelen,pc.bandpass_total_std[f].sb,color=filter_color[index],alpha=0.2) \n",
    "    ax2.axvline(FILTERWL[index,2],color=filter_color[index],linestyle=\"-.\")\n",
    "    ax2.set_yticks([])\n",
    "    "
   ]
  },
  {
   "cell_type": "markdown",
   "id": "e049dd8c-d5cb-415b-a7d3-f86c780dbcf8",
   "metadata": {},
   "source": [
    "# Usefull photometric values from rubin_sim"
   ]
  },
  {
   "cell_type": "code",
   "execution_count": null,
   "id": "dcc67c2b-a3d8-456f-ba2c-24c2e8c2007a",
   "metadata": {},
   "outputs": [],
   "source": [
    "photoparams = set_photometric_parameters(15, 2 , readnoise=None)"
   ]
  },
  {
   "cell_type": "code",
   "execution_count": null,
   "id": "db48f655-432f-4331-97b7-8be6f8156b5d",
   "metadata": {},
   "outputs": [],
   "source": [
    "# constant in zero point\n",
    "F0AB = 3631*(1*u.Jy).cgs.value\n",
    "Z0PTconst = 2.5*np.log10((F0AB*photoparams.effarea*photoparams.nexp*photoparams.exptime)/(photoparams.gain*const.h.cgs.value))\n",
    "\n",
    "z0pt_std= {}\n",
    "for index,f in enumerate(filter_tagnames):\n",
    "    z0pt_std[f] = Z0PTconst + 2.5*np.log10(pc.all_II0_std[f])\n",
    "pd.DataFrame(z0pt_std, index=[\"z0pt_std\"]).T    "
   ]
  },
  {
   "cell_type": "markdown",
   "id": "60d08284-a88d-4b83-a5c7-d6353d1c19cf",
   "metadata": {},
   "source": [
    "# Create a series of observations"
   ]
  },
  {
   "cell_type": "code",
   "execution_count": null,
   "id": "7ab9fbf2-feba-4c78-8f5f-ce0cd6893216",
   "metadata": {},
   "outputs": [],
   "source": [
    "AIRMASSMIN = 1\n",
    "AIRMASSMAX = 2.5\n",
    "DAIRMASS= AIRMASSMAX-AIRMASSMIN \n",
    "NOBS = 100"
   ]
  },
  {
   "cell_type": "code",
   "execution_count": null,
   "id": "67ecbac1-c39c-4e32-b2d5-407ed6b31ac0",
   "metadata": {},
   "outputs": [],
   "source": [
    "all_am = DAIRMASS*np.random.rand(NOBS) + AIRMASSMIN"
   ]
  },
  {
   "cell_type": "code",
   "execution_count": null,
   "id": "3faa1953-6955-4da7-a6f0-f2a6f1d00471",
   "metadata": {},
   "outputs": [],
   "source": [
    "pc.CalculateMultiObs(all_am,pwv0,oz0,tau0,beta0)"
   ]
  },
  {
   "cell_type": "markdown",
   "id": "e7d89bdf-3563-46bb-8407-80725bb97215",
   "metadata": {},
   "source": [
    "## Calculate ADCs values for each SED"
   ]
  },
  {
   "cell_type": "code",
   "execution_count": null,
   "id": "569933d5-8bfe-4abb-9f11-0bf2be1b0fdf",
   "metadata": {},
   "outputs": [],
   "source": [
    "all_df_std = []\n",
    "all_df_nonstd_Z = []\n",
    "\n",
    "for idx_sed in range(NSEDSEL):\n",
    "    the_sed = all_selected_sed[idx_sed]\n",
    "    \n",
    "    #standard values\n",
    "    adcs_std = np.zeros(NFILT)\n",
    "    z0pt_std = np.zeros(NFILT)\n",
    "    for idx_filt,f in enumerate(filter_tagnames) :\n",
    "        adcs_std[idx_filt] = the_sed.calc_adu(pc.bandpass_total_std[f],photoparams)\n",
    "        z0pt_std[idx_filt] = Z0PTconst + 2.5*np.log10(pc.all_II0_std[f])\n",
    "        \n",
    "    df_std = pd.DataFrame()\n",
    "    df_std[\"adcs_std\"] = adcs_std\n",
    "    df_std[\"z0pt_std\"] = z0pt_std\n",
    "    all_df_std.append(df_std)\n",
    "    \n",
    "    \n",
    "    #non standard values only in selected filter : Z\n",
    "    all_adc = np.zeros(NOBS)\n",
    "    all_ratioII0 = np.zeros(NOBS)\n",
    "    all_subII1 = np.zeros(NOBS)\n",
    "    selected_filter = \"z\"\n",
    "    for idx_am,am in enumerate(all_am):\n",
    "        lsst_band = pc.coll_bandpass_total_nonstd[idx_am][selected_filter]\n",
    "        adcs_nonstd = the_sed.calc_adu(lsst_band,photoparams)\n",
    "        all_adc[idx_am] = adcs_nonstd\n",
    "        all_ratioII0[idx_am] = pc.allcollperfilter[selected_filter][\"II0ratio_nonstd\"][idx_am]\n",
    "        all_subII1[idx_am] = pc.allcollperfilter[selected_filter][\"II1sub_nonstd\"][idx_am]\n",
    "        \n",
    "    df_nonstd = pd.DataFrame()\n",
    "    df_nonstd[\"adcs_nonstd\"] = all_adc\n",
    "    df_nonstd[\"ratioII0_nonstd\"] = all_ratioII0\n",
    "    df_nonstd[\"subII1_nonstd\"] = all_subII1\n",
    "    df_nonstd[\"am\"] = all_am\n",
    "    \n",
    "    all_df_nonstd_Z.append(df_nonstd)\n",
    "    \n",
    "    "
   ]
  },
  {
   "cell_type": "code",
   "execution_count": null,
   "id": "5206b0fd-de1e-4aa2-8261-f295eb214d02",
   "metadata": {},
   "outputs": [],
   "source": [
    "all_df_std[1]"
   ]
  },
  {
   "cell_type": "code",
   "execution_count": null,
   "id": "345c979d-1965-4026-b67f-68fa7b15432a",
   "metadata": {},
   "outputs": [],
   "source": [
    "all_df_std[1][\"z0pt_std\"]"
   ]
  },
  {
   "cell_type": "code",
   "execution_count": null,
   "id": "b7f2c557-cdf0-4056-915a-8a3ebc0d06dc",
   "metadata": {},
   "outputs": [],
   "source": [
    "all_df_nonstd_Z[0]"
   ]
  },
  {
   "cell_type": "markdown",
   "id": "da294a72-00a2-46ca-9fcf-62a53057030e",
   "metadata": {},
   "source": [
    "### Convergence toward the true magnitude in std filter"
   ]
  },
  {
   "cell_type": "code",
   "execution_count": null,
   "id": "efb97a8a-9f9e-4aa3-9361-e0948486b30a",
   "metadata": {},
   "outputs": [],
   "source": [
    "fig, axs = plt.subplots(1,1,figsize=(8,8))\n",
    "\n",
    "for idx_sed in range(NSEDSEL):\n",
    "    all_adc = all_df_nonstd_Z[idx_sed][\"adcs_nonstd\"].values\n",
    "    all_ratioII0 = all_df_nonstd_Z[idx_sed][\"ratioII0_nonstd\"].values\n",
    "    all_subII1 = all_df_nonstd_Z[idx_sed][\"subII1_nonstd\"].values\n",
    "    z0pt_std_iny = all_df_std[idx_sed][\"z0pt_std\"].iloc[4]\n",
    "\n",
    "    y = -2.5*np.log10(all_adc) + 2.5*np.log10(all_ratioII0) + z0pt_std_iny\n",
    "    \n",
    "    x = all_subII1\n",
    "    axs.scatter(x,y,color=all_colors[idx_sed],label=all_tag_sed[idx_sed])\n",
    "    \n",
    "axs.legend()\n",
    "axs.set_xlabel(\"$II_1^{std} - II_1^{obs}$ (mag.nm)\")\n",
    "axs.set_ylabel(\"$m_i + 2.5log(II_0^{obs}/II_0^{std} + Z0PT$ (mag)\")\n",
    "axs.set_title(\"Estimation of $1/F_{\\\\nu} dF_{\\\\nu}/d\\\\lambda$ in Z filter SN\",fontsize=20)\n",
    "\n",
    "axs2 = axs.twinx() \n",
    "for idx_sed in range(NSEDSEL):\n",
    "    \n",
    "    all_subII1 = all_df_nonstd_Z[idx_sed][\"subII1_nonstd\"].values\n",
    "    am = all_df_nonstd_Z[idx_sed][\"am\"].values\n",
    "    \n",
    "    y = am\n",
    "    x = all_subII1\n",
    "\n",
    "    axs2.scatter(x,y,marker=\".\",color=\"grey\")\n",
    "axs2.tick_params(axis='y', labelcolor=\"grey\")\n",
    "axs2.set_ylabel(\"airmass\",color=\"grey\")"
   ]
  },
  {
   "cell_type": "markdown",
   "id": "141295ec-f05f-480a-bb13-b1711190683d",
   "metadata": {},
   "source": [
    "### Substract the target standard magnitude\n",
    "\n",
    "- the magnitude for which the SED was renormalized in the Y filter"
   ]
  },
  {
   "cell_type": "code",
   "execution_count": null,
   "id": "01c211de-51c5-48aa-8b98-2dd5419fdfb8",
   "metadata": {},
   "outputs": [],
   "source": [
    "fig, axs = plt.subplots(1,1,figsize=(8,8))\n",
    "\n",
    "for idx_sed in range(NSEDSEL):\n",
    "    all_adc = all_df_nonstd_Z[idx_sed][\"adcs_nonstd\"].values\n",
    "    all_ratioII0 = all_df_nonstd_Z[idx_sed][\"ratioII0_nonstd\"].values\n",
    "    all_subII1 = all_df_nonstd_Z[idx_sed][\"subII1_nonstd\"].values\n",
    "    z0pt_std_iny = all_df_std[idx_sed][\"z0pt_std\"].iloc[4]\n",
    "\n",
    "    y = -2.5*np.log10(all_adc) + 2.5*np.log10(all_ratioII0) + z0pt_std_iny - renorm_mag_inZ\n",
    "    \n",
    "    y *= 1000\n",
    "    x = all_subII1\n",
    "    axs.scatter(x,y,color=all_colors[idx_sed],label=all_tag_sed[idx_sed])\n",
    "    \n",
    "axs.legend()\n",
    "axs.set_xlabel(\"$II_1^{std} - II_1^{obs}$ (mag.nm)\")\n",
    "axs.set_ylabel(\"$m_i + 2.5log(II_0^{obs}/II_0^{std} + Z0PT -m_{AB true}^{std}$  (mmag) \")\n",
    "axs.set_title(\"Estimation of $1/F_{\\\\nu} dF_{\\\\nu}/d\\\\lambda$ in Z filter for SN\",fontsize=20)\n",
    "\n",
    "axs2 = axs.twinx() \n",
    "for idx_sed in range(NSEDSEL):\n",
    "    \n",
    "    all_subII1 = all_df_nonstd_Z[idx_sed][\"subII1_nonstd\"].values\n",
    "    am = all_df_nonstd_Z[idx_sed][\"am\"].values\n",
    "    \n",
    "    y = am\n",
    "    x = all_subII1\n",
    "\n",
    "    axs2.scatter(x,y,marker=\".\",color=\"grey\")\n",
    "axs2.tick_params(axis='y', labelcolor=\"grey\")\n",
    "axs2.set_ylabel(\"airmass\",color=\"grey\")"
   ]
  },
  {
   "cell_type": "markdown",
   "id": "47552c8c-9af4-4f2d-88f5-4f1fa0b960be",
   "metadata": {},
   "source": [
    "# try for all bands"
   ]
  },
  {
   "cell_type": "code",
   "execution_count": null,
   "id": "2fffcc9e-865e-4a94-a698-45ff7cc1d246",
   "metadata": {},
   "outputs": [],
   "source": [
    "all_df_std = []\n",
    "all_df_nonstd = []\n",
    "\n",
    "for idx_sed in range(NSEDSEL):\n",
    "    the_sed = all_selected_sed[idx_sed]\n",
    "    \n",
    "    #standard values\n",
    "    magtrue_std = np.zeros(NFILT)\n",
    "    adcs_std = np.zeros(NFILT)\n",
    "    z0pt_std = np.zeros(NFILT)\n",
    "    for idx_filt,f in enumerate(filter_tagnames) :\n",
    "        adcs_std[idx_filt] = the_sed.calc_adu(pc.bandpass_total_std[f],photoparams)\n",
    "        z0pt_std[idx_filt] = Z0PTconst + 2.5*np.log10(pc.all_II0_std[f])\n",
    "        magtrue_std[idx_filt] = the_sed.calc_mag(pc.bandpass_total_std[f])\n",
    "        \n",
    "    df_std = {}\n",
    "    df_std[\"adcs_std\"] = adcs_std\n",
    "    df_std[\"z0pt_std\"] = z0pt_std\n",
    "    df_std[\"mag_std\"] =  magtrue_std\n",
    "    all_df_std.append(df_std)\n",
    "    \n",
    "    \n",
    "    #non standard values only in selected filter : Y\n",
    "    all_adc = np.zeros((NFILT,NOBS))\n",
    "    all_ratioII0 = np.zeros((NFILT,NOBS))\n",
    "    all_subII1 = np.zeros((NFILT,NOBS))\n",
    "    for idx_filt,f in enumerate(filter_tagnames):\n",
    "        for idx_am,am in enumerate(all_am):\n",
    "            lsst_band = pc.coll_bandpass_total_nonstd[idx_am][f]\n",
    "            adcs_nonstd = the_sed.calc_adu(lsst_band,photoparams)\n",
    "            all_adc[idx_filt,idx_am] = adcs_nonstd\n",
    "            all_ratioII0[idx_filt,idx_am] = pc.allcollperfilter[f][\"II0ratio_nonstd\"][idx_am]\n",
    "            all_subII1[idx_filt,idx_am] = pc.allcollperfilter[f][\"II1sub_nonstd\"][idx_am]\n",
    "        \n",
    "    df_nonstd = {}\n",
    "    df_nonstd[\"adcs_nonstd\"] = all_adc\n",
    "    df_nonstd[\"ratioII0_nonstd\"] = all_ratioII0\n",
    "    df_nonstd[\"subII1_nonstd\"] = all_subII1\n",
    "    df_nonstd[\"am\"] = all_am\n",
    "    \n",
    "    all_df_nonstd.append(df_nonstd)\n",
    "    \n",
    "    "
   ]
  },
  {
   "cell_type": "code",
   "execution_count": null,
   "id": "21f416e3-cc79-4169-9bff-0e896f57c3c0",
   "metadata": {},
   "outputs": [],
   "source": [
    "all_df_std[0] "
   ]
  },
  {
   "cell_type": "code",
   "execution_count": null,
   "id": "0be5abe6-7a35-473e-8a5a-89f5944d4345",
   "metadata": {},
   "outputs": [],
   "source": [
    "all_df_std[1] "
   ]
  },
  {
   "cell_type": "code",
   "execution_count": null,
   "id": "2477e22b-042c-451e-800e-a3776134b4a7",
   "metadata": {},
   "outputs": [],
   "source": [
    "all_df_std[2] "
   ]
  },
  {
   "cell_type": "code",
   "execution_count": null,
   "id": "7ee3754c-bd45-4e36-9ef1-ac23625422f1",
   "metadata": {},
   "outputs": [],
   "source": [
    "#all_df_nonstd[0]"
   ]
  },
  {
   "cell_type": "code",
   "execution_count": null,
   "id": "c36be02f-eee9-49b9-a52f-c27ac4a6222c",
   "metadata": {},
   "outputs": [],
   "source": [
    "NCOLS =3\n",
    "NROWS = 2\n",
    "\n",
    "fig, axs = plt.subplots(NROWS,NCOLS,figsize=(16,10))\n",
    "\n",
    "# main loop on filters\n",
    "for idx_filt,f in enumerate(filter_tagnames):\n",
    "    iy = idx_filt//NCOLS\n",
    "    ix = idx_filt - NCOLS*iy\n",
    "    \n",
    "    # loop on SED\n",
    "    for idx_sed in range(NSEDSEL):\n",
    "        all_adc = all_df_nonstd[idx_sed][\"adcs_nonstd\"][idx_filt,:]\n",
    "        all_ratioII0 = all_df_nonstd[idx_sed][\"ratioII0_nonstd\"][idx_filt,:]\n",
    "        all_subII1 = all_df_nonstd[idx_sed][\"subII1_nonstd\"][idx_filt,:]\n",
    "        z0pt_std = all_df_std[idx_sed][\"z0pt_std\"][idx_filt]\n",
    "        magtrue_std = all_df_std[idx_sed][\"mag_std\"][idx_filt]\n",
    "        \n",
    "\n",
    "        y = -2.5*np.log10(all_adc) + 2.5*np.log10(all_ratioII0) + z0pt_std - magtrue_std\n",
    "        y *=1000\n",
    "        x = all_subII1\n",
    "        axs[iy,ix].scatter(x,y,color=all_colors[idx_sed],label=all_tag_sed[idx_sed])\n",
    "        axs[iy,ix].set_title(f\"filter {f}\")\n",
    "        #if idx_filt==5:\n",
    "        axs[iy,ix].set_ylim(-50,50)\n",
    "        #else:\n",
    "        #    axs[iy,ix].set_ylim(-5,5)\n",
    "            \n",
    "        if idx_filt==4:    \n",
    "            axs[iy,ix].legend()\n",
    "            \n",
    "        if iy== NROWS-1:\n",
    "            axs[iy,ix].set_xlabel(\"$II_1^{std} - II_1^{obs}$ (mag.nm)\")\n",
    "        if ix== 0 and iy== NROWS-1:\n",
    "            axs[iy,ix].set_ylabel(\"$m_i + 2.5log(II_0^{obs}/II_0^{std} + Z0PT -m_{AB true}^{std}$  (mmag) \")\n",
    "        #axs[iy,ix].set_title(\"Estimation of $1/F_{\\\\nu} dF_{\\\\nu}/d\\\\lambda$ in Y filter\",fontsize=20)\n",
    "\n",
    "plt.tight_layout()        \n",
    "plt.suptitle(\"Estimation of $1/F_{\\\\nu} dF_{\\\\nu}/d\\\\lambda$ in all filter, varying airmass for SN\",fontsize=20,y=1)    \n",
    "    \n"
   ]
  },
  {
   "cell_type": "code",
   "execution_count": null,
   "id": "6803ea70-66a2-4878-aa13-88180ed7dc07",
   "metadata": {},
   "outputs": [],
   "source": []
  }
 ],
 "metadata": {
  "kernelspec": {
   "display_name": "conda_py310",
   "language": "python",
   "name": "conda_py310"
  },
  "language_info": {
   "codemirror_mode": {
    "name": "ipython",
    "version": 3
   },
   "file_extension": ".py",
   "mimetype": "text/x-python",
   "name": "python",
   "nbconvert_exporter": "python",
   "pygments_lexer": "ipython3",
   "version": "3.10.12"
  }
 },
 "nbformat": 4,
 "nbformat_minor": 5
}
