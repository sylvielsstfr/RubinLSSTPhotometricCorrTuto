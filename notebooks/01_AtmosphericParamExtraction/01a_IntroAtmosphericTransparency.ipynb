{
 "cells": [
  {
   "cell_type": "markdown",
   "id": "f6cbdeda-386a-4316-85de-94dee65d45be",
   "metadata": {},
   "source": [
    "# 01a_ Introduction to atmospheric transparency"
   ]
  },
  {
   "cell_type": "code",
   "execution_count": 1,
   "id": "e71210ce-c077-4178-91a4-cd9343410c97",
   "metadata": {},
   "outputs": [],
   "source": [
    "import numpy as np\n",
    "import matplotlib.pyplot as plt\n",
    "%matplotlib inline\n",
    "from mpl_toolkits.axes_grid1 import make_axes_locatable\n",
    "from matplotlib.colors import LogNorm\n",
    "from matplotlib.gridspec import GridSpec\n",
    "import pandas as pd\n",
    "\n",
    "import matplotlib.ticker                         # here's where the formatter is\n",
    "import os\n",
    "import re\n",
    "import pandas as pd\n",
    "\n",
    "plt.rcParams[\"figure.figsize\"] = (8,6)\n",
    "plt.rcParams[\"axes.labelsize\"] = 'xx-large'\n",
    "plt.rcParams['axes.titlesize'] = 'xx-large'\n",
    "plt.rcParams['xtick.labelsize']= 'xx-large'\n",
    "plt.rcParams['ytick.labelsize']= 'xx-large'\n"
   ]
  },
  {
   "cell_type": "code",
   "execution_count": 2,
   "id": "c817cd0d-2557-48f2-aed6-9427a2d45ef9",
   "metadata": {},
   "outputs": [],
   "source": [
    "from scipy import interpolate"
   ]
  },
  {
   "cell_type": "markdown",
   "id": "fc03bdef-6a46-400a-92fe-cae86730c348",
   "metadata": {},
   "source": [
    "## Imports dedicated to this work\n",
    "\n",
    "- import the atmospheric transparency emulator (instead of using libradtran code).\n",
    "- import the fit tools\n",
    "\n",
    "- import rubin sim"
   ]
  },
  {
   "cell_type": "code",
   "execution_count": 3,
   "id": "10baa7cd-a1f2-4fd6-9c75-7dd8a6cf9270",
   "metadata": {},
   "outputs": [
    {
     "name": "stdout",
     "output_type": "stream",
     "text": [
      "Version of atmosphtransmemullsst : 0.0.1\n"
     ]
    }
   ],
   "source": [
    "from importlib.metadata import version\n",
    "the_ver = version('atmosphtransmemullsst')\n",
    "print(f\"Version of atmosphtransmemullsst : {the_ver}\")"
   ]
  },
  {
   "cell_type": "code",
   "execution_count": 4,
   "id": "63dfc3ef-9138-43b5-9ac6-1eb3e8312f92",
   "metadata": {},
   "outputs": [
    {
     "name": "stdout",
     "output_type": "stream",
     "text": [
      "libAtmosphericFit.py :: Use atmosphtransmemullsst.__path__[0],'../data/simplegrid as the path to data\n",
      "libAtmosphericFit.py :: data_path = /Users/dagoret/MacOSX/GitHub/LSST/atmosphtransmemullsst/atmosphtransmemullsst/../data/simplegrid\n",
      "SimpleAtmEmulator:path=/Users/dagoret/MacOSX/GitHub/LSST/atmosphtransmemullsst/atmosphtransmemullsst/../data/simplegrid\n"
     ]
    }
   ],
   "source": [
    "import sys\n",
    "sys.path.append('../lib')\n",
    "import libAtmosphericFit"
   ]
  },
  {
   "cell_type": "code",
   "execution_count": 5,
   "id": "28a43489-1635-4fc0-9ce4-05fe986d7460",
   "metadata": {},
   "outputs": [
    {
     "name": "stdout",
     "output_type": "stream",
     "text": [
      "SimpleAtmEmulator:path=/Users/dagoret/MacOSX/GitHub/LSST/atmosphtransmemullsst/atmosphtransmemullsst/../data/simplegrid\n"
     ]
    }
   ],
   "source": [
    "import atmosphtransmemullsst\n",
    "from atmosphtransmemullsst.simpleatmospherictransparencyemulator import SimpleAtmEmulator\n",
    "\n",
    "emul = SimpleAtmEmulator(os.path.join(atmosphtransmemullsst.__path__[0],'../data/simplegrid'))"
   ]
  },
  {
   "cell_type": "code",
   "execution_count": 6,
   "id": "07058b36-520a-42d2-8c7c-e98ad4971aa4",
   "metadata": {},
   "outputs": [],
   "source": [
    "WL = emul.GetWL()"
   ]
  },
  {
   "cell_type": "code",
   "execution_count": 7,
   "id": "a0de5102-b6a9-4da6-8539-d25cd126d55c",
   "metadata": {},
   "outputs": [],
   "source": [
    "import sys\n",
    "sys.path.append('../lib')\n",
    "import libAtmosphericFit"
   ]
  },
  {
   "cell_type": "code",
   "execution_count": 8,
   "id": "a93fc1ba-dfd4-4b98-abb0-d8e25e0d4297",
   "metadata": {},
   "outputs": [],
   "source": [
    "import rubin_sim.photUtils.Bandpass as Bandpass\n",
    "import rubin_sim.photUtils.Sed as Sed\n",
    "from rubin_sim.data import get_data_dir"
   ]
  },
  {
   "cell_type": "code",
   "execution_count": 9,
   "id": "76dc1da8-7708-4e08-b12d-749614914c15",
   "metadata": {},
   "outputs": [],
   "source": [
    "path_rubin_sim_throughput=os.path.join(os.getenv(\"HOME\"),\"rubin_sim_data/throughputs/baseline\")\n",
    "atm_std_filename = \"atmos_std.dat\""
   ]
  },
  {
   "cell_type": "markdown",
   "id": "845c562a-831e-4695-b7ad-b59b02f1df10",
   "metadata": {},
   "source": [
    "## Configuration"
   ]
  },
  {
   "cell_type": "code",
   "execution_count": 10,
   "id": "82e66d7a-0baf-4f45-91d1-97ac7c00b24a",
   "metadata": {},
   "outputs": [],
   "source": [
    "filter_filenames = [\"total_u.dat\",\"total_g.dat\",\"total_r.dat\",\"total_i.dat\",\"total_z.dat\",\"total_y.dat\" ]\n",
    "filter_tagnames = [\"u\",\"g\",\"r\",\"i\",\"z\",\"y\"]\n",
    "Filter_tagnames = [\"U\",\"G\",\"R\",\"I\",\"Z\",\"Y\"]\n",
    "filtercolor_tagnames = [\"u-g\",\"g-r\",\"r-i\",\"i-z\",\"z-y\"]\n",
    "Filtercolor_tagnames = [\"U-G\",\"G-R\",\"R-I\",\"I-Y\",\"Z-Y\"]\n",
    "filter_color = [\"b\",\"g\",\"r\",\"orange\",\"grey\",\"k\"]\n",
    "NFILT=len(filter_filenames)"
   ]
  },
  {
   "cell_type": "code",
   "execution_count": 11,
   "id": "014efa7a-9edd-4801-af0f-ae8452f3abb8",
   "metadata": {},
   "outputs": [],
   "source": [
    "WLMIN=300.\n",
    "WLMAX=1100.\n",
    "WLBIN=1.\n",
    "NWLBIN=int((WLMAX-WLMIN)/WLBIN)\n",
    "WL=np.linspace(WLMIN,WLMAX,NWLBIN)"
   ]
  },
  {
   "cell_type": "markdown",
   "id": "0e8ebd64-6205-4d75-b20b-814a980e1886",
   "metadata": {},
   "source": [
    "## Initialisation"
   ]
  },
  {
   "cell_type": "markdown",
   "id": "f62bee28-df6e-44ec-b6c2-af65c5e0e2a2",
   "metadata": {},
   "source": [
    "FILTERWL: precalculated array containing center, boundaries and width of each filter.\n",
    "\n",
    "    index 0 : minimum wavelength of filter border\n",
    "    index 1 : minimum wavelength of filter border\n",
    "    index 2 : center wavelength of filter\n",
    "    index 3 : filter width"
   ]
  },
  {
   "cell_type": "code",
   "execution_count": 12,
   "id": "865623b5-26e1-471e-9352-78d02da1ad0a",
   "metadata": {},
   "outputs": [],
   "source": [
    "FILTERWL = np.array([[ 324.03003755,  402.12765957,  363.59690349,   78.09762203],\n",
    "       [ 392.11514393,  561.32665832,  473.54069923,  169.21151439],\n",
    "       [ 542.3028786 ,  700.50062578,  619.49926767,  158.19774718],\n",
    "       [ 681.47684606,  827.65957447,  752.01084117,  146.18272841],\n",
    "       [ 808.63579474,  932.79098874,  868.488419  ,  124.15519399],\n",
    "       [ 914.76846058, 1044.93116395,  969.10570859,  130.16270338]])"
   ]
  },
  {
   "cell_type": "markdown",
   "id": "299fb457-8388-4a24-989b-59fe049da394",
   "metadata": {},
   "source": [
    "### Standard filters\n",
    "\n",
    "We load the standard filters 'effective'for Rubin LSST from `rubin_sim` package. Note those filters includes not only the instrumental filters but also atmosphere transmission.\n",
    "\n",
    "The atmosphere transmission in those effective filters is called the standard atmosphere. The standard atmosphere is defined as the most representative the atmospheric transmission at the reference airmass $am$ being the most probable airmass calculated form the observation cadence..\n",
    "\n",
    "By convention the reference airmass $am = 1.2$."
   ]
  },
  {
   "cell_type": "markdown",
   "id": "e1e5dba4-5675-4416-b5d1-27de7617ea90",
   "metadata": {},
   "source": [
    "We are going to compute the different transmission filters.\n",
    "Those will be saved in the following pandas dataframe."
   ]
  },
  {
   "cell_type": "code",
   "execution_count": 13,
   "id": "05b6c673-1689-46f2-97cc-0cf813f7f06c",
   "metadata": {},
   "outputs": [],
   "source": [
    "df_std=pd.DataFrame()  # dataframe to hold all transmissions\n",
    "df_std[\"wl\"] = WL      # wavelength array saved in the dataframe"
   ]
  },
  {
   "cell_type": "markdown",
   "id": "0db57047-3911-4cfc-9462-23b107bf4b92",
   "metadata": {},
   "source": [
    "### Effective transmission\n",
    "\n",
    "The total transmission or throuput of the instrument is the product of the atmospheric transmission $S^{std}_{atm}(\\lambda)$ by the telescope transmission $S_b^{std}(\\lambda)$ in the band $b$:\n",
    "\n",
    "$$\n",
    "S_b^{std}(\\lambda) = S^{std}_{atm}(\\lambda) \\times S_b^{std}(\\lambda)\n",
    "$$\n",
    "\n",
    "\n",
    "Both have a wavelength dependence. In practice both the instrument transmission and the atmospheric transmission varies with time.\n",
    "Supposing we know for each LSST telescope what are the effective transmissions, \n",
    "\n",
    "$$\n",
    "S_b^{obs-i}(\\lambda) = S^{obs-i}_{atm}(\\lambda) \\times S_b^{obs-i}(\\lambda)\n",
    "$$\n",
    "\n",
    "in anycase the Flux and magnitude of the object in the catalog must be calculated as if the transmission function of the instrument was really $S_b^{std}(\\lambda)$."
   ]
  },
  {
   "cell_type": "markdown",
   "id": "e867b2f1-8541-4f87-a560-477222c674cd",
   "metadata": {},
   "source": [
    "The goal of the DESC Photometric Correction technical working group is to participate in :\n",
    "- the time dependent measurement of $S^{obs-i}_{atm}(\\lambda)$ and $S_b^{obs-i}(\\lambda)$,\n",
    "- determining the optimal standard transmissions $S^{std}_{atm}(\\lambda)$ and $S_b^{std}(\\lambda)$, minimizing biases in magnitudes.\n",
    "- apply so-called corrections to magnitude determination before flux coaddition, due to the time variation of the transmission when possible,\n",
    "- Evaluate the residuals sytematics of those corrections.\n",
    "\n",
    "\n",
    "In principle, those corrections should take place in DM pipeline before the source catalog is released.\n",
    "However in some cases of trancient sciences like that of Supernovae, it may be possible to apply some corrections after the release of the catalog."
   ]
  },
  {
   "cell_type": "code",
   "execution_count": 14,
   "id": "099e3550-1b06-411d-909e-4f1239e15af4",
   "metadata": {},
   "outputs": [
    {
     "data": {
      "text/plain": [
       "Text(0.5, 1.0, 'Instrument + atmosphere transmission')"
      ]
     },
     "execution_count": 14,
     "metadata": {},
     "output_type": "execute_result"
    },
    {
     "data": {
      "image/png": "[encoded data removed]",
      "text/plain": [
       "<Figure size 600x400 with 1 Axes>"
      ]
     },
     "metadata": {},
     "output_type": "display_data"
    }
   ],
   "source": [
    "fig, axs = plt.subplots(1,1,figsize=(6,4))\n",
    "\n",
    "# loop on filter\n",
    "for index,filename in enumerate(filter_filenames):\n",
    "    fullfilename=os.path.join(path_rubin_sim_throughput,filename)\n",
    "    arr= np.loadtxt(fullfilename)\n",
    "    \n",
    "    # interpolate  filter transmission\n",
    "    ff = interpolate.interp1d(x=arr[:,0], y=arr[:,1],fill_value=\"extrapolate\")\n",
    "    \n",
    "    # filter throughput including atm\n",
    "    throughput_x_atm = ff(WL)\n",
    "    # filter throughput without atm\n",
    "    #throughput2=throughput1/atm_std\n",
    "    \n",
    "    tag1=\"tot_\"+filter_tagnames[index] # tagname meaning the total transmission\n",
    "    \n",
    "    df_std[tag1] = throughput_x_atm # save the throughput for later use\n",
    "    \n",
    "    axs.plot(WL,throughput_x_atm,color=filter_color[index]) \n",
    "    axs.fill_between(WL,throughput_x_atm,color=filter_color[index],alpha=0.2) \n",
    "    axs.axvline(FILTERWL[index,2],color=filter_color[index],linestyle=\"-.\")\n",
    "    \n",
    "axs.set_xlabel(\"$\\\\lambda$ (nm)\")\n",
    "axs.set_title(\"Instrument + atmosphere transmission\")"
   ]
  },
  {
   "cell_type": "markdown",
   "id": "ab0e98f6-111e-468f-ac77-034b0dd4db30",
   "metadata": {},
   "source": [
    "We can calculate the instrumental filter by dividing the\n",
    "effective filter by the standard atmospheric atmosphere transmission"
   ]
  },
  {
   "cell_type": "markdown",
   "id": "986ac01f-5d8c-41c2-baf7-843cea5e21cc",
   "metadata": {},
   "source": [
    "### Standard atmosphere"
   ]
  },
  {
   "cell_type": "code",
   "execution_count": 15,
   "id": "0dce1f5f-e560-421b-98d5-4205db5f6a67",
   "metadata": {},
   "outputs": [],
   "source": [
    "fullfilename=os.path.join(path_rubin_sim_throughput,atm_std_filename)\n",
    "arr= np.loadtxt(fullfilename)\n",
    "    \n",
    "# interpolate  filter transmission\n",
    "ff = interpolate.interp1d(x=arr[:,0], y=arr[:,1],fill_value=\"extrapolate\")\n",
    "    \n",
    "# filter throughput including atm\n",
    "transm_atm_std =atm = ff(WL)"
   ]
  },
  {
   "cell_type": "code",
   "execution_count": 16,
   "id": "f4156a3d-abce-4e47-a2e2-3b95e25f51e6",
   "metadata": {},
   "outputs": [
    {
     "data": {
      "text/plain": [
       "Text(0.5, 1.0, 'Standard atmosphere transmission')"
      ]
     },
     "execution_count": 16,
     "metadata": {},
     "output_type": "execute_result"
    },
    {
     "data": {
      "image/png": "[encoded data removed]",
      "text/plain": [
       "<Figure size 600x400 with 1 Axes>"
      ]
     },
     "metadata": {},
     "output_type": "display_data"
    }
   ],
   "source": [
    "fig, axs = plt.subplots(1,1,figsize=(6,4))\n",
    "axs.plot(WL,transm_atm_std,'k-')\n",
    "axs.set_xlabel(\"$\\\\lambda$ (nm)\")\n",
    "axs.set_title(\"Standard atmosphere transmission\")"
   ]
  },
  {
   "cell_type": "markdown",
   "id": "da62a1d6-3b1f-4bfb-bdec-c21217f42605",
   "metadata": {},
   "source": [
    "Save the standard atmosphere in the pandas dataframe for later use"
   ]
  },
  {
   "cell_type": "code",
   "execution_count": 17,
   "id": "7cd40dc8-0000-4f1c-810b-7d3deed4a725",
   "metadata": {},
   "outputs": [],
   "source": [
    "df_std[\"atm\"] = transm_atm_std"
   ]
  },
  {
   "cell_type": "markdown",
   "id": "f5b7e41a-666b-4fb1-ad3b-b6dc07dbd37f",
   "metadata": {},
   "source": [
    "### Instrumental throughput"
   ]
  },
  {
   "cell_type": "markdown",
   "id": "17c9424c-af24-407d-9bc8-96e9e43b014c",
   "metadata": {},
   "source": [
    "By dividing the effective filter transmission by the standard atmospheric transmission, one get the instrumental transmission. It consists in the product of the following transmission or throughput :\n",
    "- physical filters transmission $(u,g,r,i,z,y)$,\n",
    "- 3 mirrors relfexion coefficient,\n",
    "- optics transmission,\n",
    "- CCD quantum efficiency.\n"
   ]
  },
  {
   "cell_type": "code",
   "execution_count": 18,
   "id": "ae574582-3279-4c0d-9691-f0ddb78acd23",
   "metadata": {},
   "outputs": [
    {
     "data": {
      "text/plain": [
       "Text(0.5, 1.0, 'Instrument transmission')"
      ]
     },
     "execution_count": 18,
     "metadata": {},
     "output_type": "execute_result"
    },
    {
     "data": {
      "image/png": "[encoded data removed]",
      "text/plain": [
       "<Figure size 600x400 with 1 Axes>"
      ]
     },
     "metadata": {},
     "output_type": "display_data"
    }
   ],
   "source": [
    "fig, axs = plt.subplots(1,1,figsize=(6,4))\n",
    "\n",
    "# loop on filter\n",
    "for index,filename in enumerate(filter_filenames):\n",
    "    \n",
    "    \n",
    "    # filter throughput including atm extracted from pandas dataframe\n",
    "    tag1=\"tot_\"+filter_tagnames[index]\n",
    "    throughput_x_atm = df_std[tag1].values\n",
    "    # filter throughput without atm\n",
    "    #throughput2=throughput1/atm_std\n",
    "    throughput = throughput_x_atm/transm_atm_std \n",
    "    tag2 = \"inst_\"+filter_tagnames[index] # tagname meaning the instrumental transmission\n",
    "    \n",
    "    df_std[tag2] = throughput# save the throughput for later use in dataframe\n",
    "   \n",
    "    axs.plot(WL,throughput,color=filter_color[index]) \n",
    "    axs.fill_between(WL,throughput,color=filter_color[index],alpha=0.2) \n",
    "    axs.axvline(FILTERWL[index,2],color=filter_color[index],linestyle=\"-.\")\n",
    "    \n",
    "axs.set_xlabel(\"$\\\\lambda$ (nm)\")\n",
    "axs.set_title(\"Instrument transmission\")"
   ]
  },
  {
   "cell_type": "markdown",
   "id": "2e8bc950-d545-4422-b57d-f539a5a93bfc",
   "metadata": {},
   "source": [
    "Note at this point we have saved the transmissions in the folowing dataframe"
   ]
  },
  {
   "cell_type": "code",
   "execution_count": 19,
   "id": "74ac6fa4-4261-47e6-ba9c-fbcd9a08ed20",
   "metadata": {},
   "outputs": [
    {
     "data": {
      "text/html": [
       "<div>\n",
       "<style scoped>\n",
       "    .dataframe tbody tr th:only-of-type {\n",
       "        vertical-align: middle;\n",
       "    }\n",
       "\n",
       "    .dataframe tbody tr th {\n",
       "        vertical-align: top;\n",
       "    }\n",
       "\n",
       "    .dataframe thead th {\n",
       "        text-align: right;\n",
       "    }\n",
       "</style>\n",
       "<table border=\"1\" class=\"dataframe\">\n",
       "  <thead>\n",
       "    <tr style=\"text-align: right;\">\n",
       "      <th></th>\n",
       "      <th>wl</th>\n",
       "      <th>tot_u</th>\n",
       "      <th>tot_g</th>\n",
       "      <th>tot_r</th>\n",
       "      <th>tot_i</th>\n",
       "      <th>tot_z</th>\n",
       "      <th>tot_y</th>\n",
       "      <th>atm</th>\n",
       "      <th>inst_u</th>\n",
       "      <th>inst_g</th>\n",
       "      <th>inst_r</th>\n",
       "      <th>inst_i</th>\n",
       "      <th>inst_z</th>\n",
       "      <th>inst_y</th>\n",
       "    </tr>\n",
       "  </thead>\n",
       "  <tbody>\n",
       "    <tr>\n",
       "      <th>0</th>\n",
       "      <td>300.000000</td>\n",
       "      <td>0.0</td>\n",
       "      <td>0.0</td>\n",
       "      <td>0.0</td>\n",
       "      <td>0.0</td>\n",
       "      <td>0.0</td>\n",
       "      <td>0.0</td>\n",
       "      <td>0.006410</td>\n",
       "      <td>0.0</td>\n",
       "      <td>0.0</td>\n",
       "      <td>0.0</td>\n",
       "      <td>0.0</td>\n",
       "      <td>0.0</td>\n",
       "      <td>0.0</td>\n",
       "    </tr>\n",
       "    <tr>\n",
       "      <th>1</th>\n",
       "      <td>301.001252</td>\n",
       "      <td>0.0</td>\n",
       "      <td>0.0</td>\n",
       "      <td>0.0</td>\n",
       "      <td>0.0</td>\n",
       "      <td>0.0</td>\n",
       "      <td>0.0</td>\n",
       "      <td>0.011915</td>\n",
       "      <td>0.0</td>\n",
       "      <td>0.0</td>\n",
       "      <td>0.0</td>\n",
       "      <td>0.0</td>\n",
       "      <td>0.0</td>\n",
       "      <td>0.0</td>\n",
       "    </tr>\n",
       "    <tr>\n",
       "      <th>2</th>\n",
       "      <td>302.002503</td>\n",
       "      <td>0.0</td>\n",
       "      <td>0.0</td>\n",
       "      <td>0.0</td>\n",
       "      <td>0.0</td>\n",
       "      <td>0.0</td>\n",
       "      <td>0.0</td>\n",
       "      <td>0.017428</td>\n",
       "      <td>0.0</td>\n",
       "      <td>0.0</td>\n",
       "      <td>0.0</td>\n",
       "      <td>0.0</td>\n",
       "      <td>0.0</td>\n",
       "      <td>0.0</td>\n",
       "    </tr>\n",
       "    <tr>\n",
       "      <th>3</th>\n",
       "      <td>303.003755</td>\n",
       "      <td>0.0</td>\n",
       "      <td>0.0</td>\n",
       "      <td>0.0</td>\n",
       "      <td>0.0</td>\n",
       "      <td>0.0</td>\n",
       "      <td>0.0</td>\n",
       "      <td>0.026622</td>\n",
       "      <td>0.0</td>\n",
       "      <td>0.0</td>\n",
       "      <td>0.0</td>\n",
       "      <td>0.0</td>\n",
       "      <td>0.0</td>\n",
       "      <td>0.0</td>\n",
       "    </tr>\n",
       "    <tr>\n",
       "      <th>4</th>\n",
       "      <td>304.005006</td>\n",
       "      <td>0.0</td>\n",
       "      <td>0.0</td>\n",
       "      <td>0.0</td>\n",
       "      <td>0.0</td>\n",
       "      <td>0.0</td>\n",
       "      <td>0.0</td>\n",
       "      <td>0.035820</td>\n",
       "      <td>0.0</td>\n",
       "      <td>0.0</td>\n",
       "      <td>0.0</td>\n",
       "      <td>0.0</td>\n",
       "      <td>0.0</td>\n",
       "      <td>0.0</td>\n",
       "    </tr>\n",
       "  </tbody>\n",
       "</table>\n",
       "</div>"
      ],
      "text/plain": [
       "           wl  tot_u  tot_g  tot_r  tot_i  tot_z  tot_y       atm  inst_u  \\\n",
       "0  300.000000    0.0    0.0    0.0    0.0    0.0    0.0  0.006410     0.0   \n",
       "1  301.001252    0.0    0.0    0.0    0.0    0.0    0.0  0.011915     0.0   \n",
       "2  302.002503    0.0    0.0    0.0    0.0    0.0    0.0  0.017428     0.0   \n",
       "3  303.003755    0.0    0.0    0.0    0.0    0.0    0.0  0.026622     0.0   \n",
       "4  304.005006    0.0    0.0    0.0    0.0    0.0    0.0  0.035820     0.0   \n",
       "\n",
       "   inst_g  inst_r  inst_i  inst_z  inst_y  \n",
       "0     0.0     0.0     0.0     0.0     0.0  \n",
       "1     0.0     0.0     0.0     0.0     0.0  \n",
       "2     0.0     0.0     0.0     0.0     0.0  \n",
       "3     0.0     0.0     0.0     0.0     0.0  \n",
       "4     0.0     0.0     0.0     0.0     0.0  "
      ]
     },
     "execution_count": 19,
     "metadata": {},
     "output_type": "execute_result"
    }
   ],
   "source": [
    "df_std.head()"
   ]
  },
  {
   "cell_type": "markdown",
   "id": "bed257a7-a610-4045-8fd5-147a3f3ef1bc",
   "metadata": {},
   "source": [
    "# Question 1 : Estimate the parameters of the standard atmosphere in `rubin_sim`"
   ]
  },
  {
   "cell_type": "markdown",
   "id": "d28c391d-bd3f-4c2a-8317-01541679d3f1",
   "metadata": {},
   "source": [
    "## Example of calling the atmospheric emulator"
   ]
  },
  {
   "cell_type": "code",
   "execution_count": 20,
   "id": "8b282372-c591-4a9d-a6f1-ade2c96d2e51",
   "metadata": {},
   "outputs": [],
   "source": [
    "am0 =1.20    # airmass\n",
    "pwv0 = 5.0  # Precipitable water vapor vertical column depth in mm\n",
    "oz0 = 300.  # Ozone vertical column depth in Dobson Unit (DU)\n",
    "ncomp=1     # Number of aerosol components\n",
    "taus= [0.04]# Vertical Aerosol depth (VAOD) \n",
    "betas = [-1]# Aerosol Angstrom exponent"
   ]
  },
  {
   "cell_type": "code",
   "execution_count": 21,
   "id": "eae07eeb-e9c8-46af-8a27-08a212db6294",
   "metadata": {},
   "outputs": [],
   "source": [
    "transm_atm_emul = emul.GetAllTransparencies(WL,am0,pwv0,oz0,ncomp=ncomp, taus=taus, betas=betas, flagAerosols=True)"
   ]
  },
  {
   "cell_type": "markdown",
   "id": "dddffb6b-c569-4c87-b8fa-da31bedc9942",
   "metadata": {},
   "source": [
    "### If you don't find the solution"
   ]
  },
  {
   "cell_type": "code",
   "execution_count": 23,
   "id": "8e937a68-c434-44ca-a25e-71bd2c96855e",
   "metadata": {},
   "outputs": [
    {
     "name": "stdout",
     "output_type": "stream",
     "text": [
      "Init FitAtmosphericParams\n"
     ]
    }
   ],
   "source": [
    "from libAtmosphericFit import FitAtmosphericParams\n",
    "params0 = [am0,pwv0,oz0, taus[0], betas[0]]\n",
    "my_fitter = FitAtmosphericParams()\n",
    "\n",
    "myres,myfit = my_fitter.fit_transmampwvozaer(params0,WL,transm_atm_std)"
   ]
  },
  {
   "cell_type": "code",
   "execution_count": 26,
   "id": "2c662aa3-8315-4514-893a-384117fb56b1",
   "metadata": {},
   "outputs": [
    {
     "data": {
      "text/plain": [
       "{'chi2': 0.9551158187899415,\n",
       " 'ndeg': 795,\n",
       " 'chi2_per_deg': 0.0012014035456477251,\n",
       " 'popt': array([ 1.27714184e+00,  4.45620341e+00,  3.10122246e+02,  3.25068903e-02,\n",
       "        -3.80763466e-01]),\n",
       " 'sigmas': array([8.62147903e-01, 5.77170913e+00, 5.99452904e+02, 1.14222163e-01,\n",
       "        6.42048741e+00])}"
      ]
     },
     "execution_count": 26,
     "metadata": {},
     "output_type": "execute_result"
    }
   ],
   "source": [
    "myfit"
   ]
  },
  {
   "cell_type": "markdown",
   "id": "09430fd6-2f03-4d78-adfe-d4b6af583d6d",
   "metadata": {},
   "source": [
    "## Compare the emulator and the official standard transmission"
   ]
  },
  {
   "cell_type": "code",
   "execution_count": null,
   "id": "0dc0be6d-a48f-4bfb-bf0f-20013acdfb29",
   "metadata": {},
   "outputs": [],
   "source": [
    "fig = plt.figure(figsize=(8,6))\n",
    "\n",
    "gs = GridSpec(2, 1,  height_ratios=[4, 1], figure=fig)\n",
    "axs1 = fig.add_subplot(gs[0,0])\n",
    "\n",
    "axs1.plot(WL,transm_atm_emul,'r-',label = 'atmospheric emulator ')\n",
    "axs1.plot(WL,transm_atm_std,'k-', label = \"rubin standard atmosphere\")\n",
    "axs1.legend(loc=\"lower left\")\n",
    "axs1.set_title(\"Atmospheric transmission\")\n",
    "main_ax =axs1\n",
    "\n",
    "axs2 = fig.add_subplot(gs[1,0],sharex=main_ax)\n",
    "axs2.plot(WL,transm_atm_emul/transm_atm_std,'g-',label = 'emulator/rubin-std')\n",
    "axs2.set_ylim(0.9,1.1)\n",
    "axs2.set_xlabel(\"$\\\\lambda$ (nm)\")"
   ]
  },
  {
   "cell_type": "markdown",
   "id": "f380af0d-b6d2-4b13-9d28-2535f2ee2bd3",
   "metadata": {},
   "source": [
    "### Check the emulator"
   ]
  },
  {
   "cell_type": "code",
   "execution_count": null,
   "id": "78972447-6107-4f16-bb0f-a8594fecbe51",
   "metadata": {},
   "outputs": [],
   "source": [
    "fig, axs = plt.subplots(1,1,figsize=(6,4))\n",
    "\n",
    "# loop on filter\n",
    "for index,filename in enumerate(filter_filenames):\n",
    "    \n",
    "    tag1=\"tot_\"+filter_tagnames[index]\n",
    "    throughput_x_atm = df_std[tag1].values\n",
    "    \n",
    "    # filter throughput without atm\n",
    "    throughput = throughput_x_atm/transm_atm_emul \n",
    "     \n",
    "    tag2 =\"inst_\"+filter_tagnames[index]\n",
    "      \n",
    "    axs.plot(WL,throughput,color=filter_color[index]) \n",
    "    axs.fill_between(WL,throughput,color=filter_color[index],alpha=0.2) \n",
    "    axs.axvline(FILTERWL[index,2],color=filter_color[index],linestyle=\"-.\")\n",
    "    \n",
    "axs.set_xlabel(\"$\\\\lambda$ (nm)\")\n",
    "axs.set_title(\"Instrument transmission\")"
   ]
  },
  {
   "cell_type": "markdown",
   "id": "f1f3d915-7b91-4176-8934-f1f0a6b2ecee",
   "metadata": {},
   "source": [
    "The atmospheric emulator is not that similar to the rubin standard atmosphere.\n",
    "There seems to be a slight difference in Oxygen lines and H2O bands.\n",
    "This may be due to different wavelength resolution of the atmospheric model.\n",
    "This can be checked and corrected."
   ]
  },
  {
   "cell_type": "markdown",
   "id": "f66a96ce-1065-452e-9490-824a3f5839a0",
   "metadata": {},
   "source": [
    "Because we want to handle atmospheric transmissions with the emulator, whe overwrite the standard transmission in the dataframe."
   ]
  },
  {
   "cell_type": "code",
   "execution_count": null,
   "id": "5ec1d88c-c84c-4919-aca4-6414ebd5739e",
   "metadata": {},
   "outputs": [],
   "source": [
    "# loop on filter\n",
    "for index,filename in enumerate(filter_filenames):\n",
    "    \n",
    "    \n",
    "    tag2 =\"inst_\"+filter_tagnames[index]\n",
    "    throughput = df_std[tag2].values\n",
    "    \n",
    "    df_std[\"atm\"] = transm_atm_emul\n",
    "    \n",
    "    tag1=\"tot_\"+filter_tagnames[index]\n",
    "    throughput_x_atm = throughput * transm_atm_emul\n",
    "    \n",
    "    df_std[tag1] = throughput_x_atm\n",
    "        "
   ]
  },
  {
   "cell_type": "markdown",
   "id": "6a609021-8126-489b-aa5b-53d5473f96c2",
   "metadata": {},
   "source": [
    "## Impact of atmospheric transmission variation on magnitude accuracy"
   ]
  },
  {
   "cell_type": "markdown",
   "id": "7343b469-f6a7-47e3-8c78-ea9f689344fb",
   "metadata": {},
   "source": [
    "### Choose an object , thus its SED\n",
    "\n",
    "`rubin_sim`provide a small set of SEDs for different types of objects.\n",
    "This small library of SEDs should be installed in \n",
    "     ~/rubin_sim_data/photometry_sample\n",
    "\n",
    "If you don't have it, it is possible to download it from this link:\n",
    "\n",
    "- https://github.com/rhiannonlynne/photometry_sample"
   ]
  },
  {
   "cell_type": "code",
   "execution_count": null,
   "id": "caee1d15-bf9a-4306-9db1-f71ae7c2cd2b",
   "metadata": {},
   "outputs": [],
   "source": [
    "!ls ~/rubin_sim_data/photometry_sample"
   ]
  },
  {
   "cell_type": "code",
   "execution_count": null,
   "id": "824fb628-68be-4e00-bc8e-3080854918ea",
   "metadata": {},
   "outputs": [],
   "source": [
    "!ls ~/rubin_sim_data/photometry_sample/stars"
   ]
  },
  {
   "cell_type": "markdown",
   "id": "2665cbd8-04c9-4b5a-a2be-39171b062951",
   "metadata": {},
   "source": [
    "Below we read the whole library from files in different folders, to book in a dataframe all the available objects type and objects."
   ]
  },
  {
   "cell_type": "code",
   "execution_count": null,
   "id": "293aa3c4-f35f-4546-b68e-2e0df8671dc1",
   "metadata": {},
   "outputs": [],
   "source": [
    "# this will contain attributes calculated for each SED\n",
    "df_SED = pd.DataFrame(columns=[\"name\",\"type\"])"
   ]
  },
  {
   "cell_type": "code",
   "execution_count": null,
   "id": "04285f94-dd17-402f-98d3-ded874c84a14",
   "metadata": {},
   "outputs": [],
   "source": [
    "datadir = get_data_dir()\n",
    "#sedDir = '/Users/lynnej/other_repos/photometry_sample'\n",
    "sedDir = os.path.join(datadir,'photometry_sample')\n",
    "\n",
    "sedtypes = ['galaxies', 'quasar', 'stars'] \n",
    "sedtypes_not_used = ['sn', 'photoZ_outliers', 'white_dwarf']\n",
    "sedtypes = sedtypes + sedtypes_not_used\n",
    "\n",
    "NSEDTYPES = len(sedtypes)\n",
    "\n",
    "# dictionnary indexed by sed-name\n",
    "seds = {}      # dictionnary that will contain the `rubin_sim` seds-Flambdas\n",
    "sedsfnu = {}   # dictionnary that will contain the `rubin_sim` seds-Fnu\n",
    "sedtypeslists = {}  # dictionnary that contain the SED type\n",
    "count_sed =0\n",
    "\n",
    "# loop on SED type\n",
    "for idx,s in enumerate(sedtypes):\n",
    "    sedtypelist = []\n",
    "    # loop on object sed in SED type list\n",
    "    filenames = os.listdir(os.path.join(sedDir, s))\n",
    "    for f in filenames:\n",
    "        name = f.replace('.dat', '').replace('.sed', '')\n",
    "        \n",
    "        if name == \"m3.0Full\":\n",
    "            continue\n",
    "            \n",
    "        seds[name] = Sed()\n",
    "        seds[name].readSED_flambda(os.path.join(sedDir, s, f))\n",
    "        sedsfnu[name]= Sed()\n",
    "    \n",
    "        # save the name of the sed in the list\n",
    "        sedtypelist.append(name) \n",
    "        df_SED.loc[count_sed] = [name,s]\n",
    "        count_sed+=1\n",
    "        \n",
    "    # save the above list in a dictionary\n",
    "    sedtypeslists[s] =  sedtypelist\n",
    "        \n"
   ]
  },
  {
   "cell_type": "code",
   "execution_count": null,
   "id": "05c69144-f235-484d-a8ce-93eb24296226",
   "metadata": {},
   "outputs": [],
   "source": [
    "df_SED=df_SED.set_index('name')\n",
    "df_SED"
   ]
  },
  {
   "cell_type": "markdown",
   "id": "273c4cc4-fccb-48d9-9165-b52e4d92e526",
   "metadata": {},
   "source": [
    "### Pickup one SED"
   ]
  },
  {
   "cell_type": "code",
   "execution_count": null,
   "id": "828427fa-72ed-4f1b-8e5f-b11d787e0548",
   "metadata": {},
   "outputs": [],
   "source": [
    "sed_name = 'km10_5250.fits_g45'"
   ]
  },
  {
   "cell_type": "code",
   "execution_count": null,
   "id": "d012ce9c-7bcb-4fe1-a66e-0b66686d1734",
   "metadata": {},
   "outputs": [],
   "source": [
    "# Redshift the quasar. Note repeat calls to this cell will stack, increasing the redshift multiple times.\n",
    "#z=1.5\n",
    "#seds['quasar'].redshiftSED(z)"
   ]
  },
  {
   "cell_type": "code",
   "execution_count": null,
   "id": "cc3a4f02-da9e-45bd-9052-e1c08434e176",
   "metadata": {},
   "outputs": [],
   "source": [
    "fig, ax = plt.subplots(1,1,figsize=(6,4))\n",
    "ax.plot(seds[sed_name].wavelen, seds[sed_name].flambda * seds[sed_name].wavelen,label=sed_name,lw=2)\n",
    "ax.legend(loc=(1.01, 0.01))\n",
    "ax.set_xlim(300, 1100)\n",
    "ax.grid(alpha=0.3)\n",
    "ax.set_xlabel('Wavelength (nm)')\n",
    "ax.set_ylabel(\"$\\lambda F_\\lambda(\\lambda)$\")\n",
    "ax.set_title(\"Wavelength * Flambda\")\n",
    "ax2 = ax.twinx()\n",
    "for ifilt in range(NFILT):\n",
    "    tag=\"tot_\"+filter_tagnames[ifilt]\n",
    "    #ax2.plot(WL,df_std[tag].values,color=filter_color[ifilt]) \n",
    "    ax2.fill_between(WL,df_std[tag].values,color=filter_color[ifilt],alpha=0.1) \n",
    "    ax2.set_yticks([])"
   ]
  },
  {
   "cell_type": "code",
   "execution_count": null,
   "id": "f85cd142-c1a2-4bd7-a9a4-1919976ff79b",
   "metadata": {},
   "outputs": [],
   "source": [
    "fig, ax = plt.subplots(1,1,figsize=(6,4))\n",
    "ax.plot(seds[sed_name].wavelen, seds[sed_name].flambda,label=sed_name,lw=2)\n",
    "ax.legend(loc=(1.01, 0.01))\n",
    "ax.set_xlim(300, 1100)\n",
    "ax.grid(alpha=0.3)\n",
    "ax.set_xlabel('Wavelength (nm)')\n",
    "ax.set_ylabel(\"$F_\\lambda(\\lambda)$\")\n",
    "ax.set_title(\"Flambda\")\n",
    "ax2 = ax.twinx()\n",
    "for ifilt in range(NFILT):\n",
    "    tag=\"tot_\"+filter_tagnames[ifilt]\n",
    "    #ax2.plot(WL,df_std[tag].values,color=filter_color[ifilt]) \n",
    "    ax2.fill_between(WL,df_std[tag].values,color=filter_color[ifilt],alpha=0.1) \n",
    "    ax2.set_yticks([])"
   ]
  },
  {
   "cell_type": "code",
   "execution_count": null,
   "id": "1ba827bf-2c1a-48ce-837c-1877d4c9c088",
   "metadata": {},
   "outputs": [],
   "source": [
    "# Plot the seds\n",
    "fig, ax = plt.subplots(1,1,figsize=(6,4))\n",
    "\n",
    "wavel,fnu = seds[sed_name].getSED_fnu()\n",
    "ax.plot(wavel, fnu,label=sed_name,lw=2)\n",
    "ax.legend(loc=(1.01, 0.01))\n",
    "ax.set_xlim(300, 1100)\n",
    "\n",
    "ax.grid(alpha=0.3)\n",
    "ax.set_xlabel('Wavelength (nm)')\n",
    "ax.set_ylabel(\"$F_\\\\nu (\\lambda)$\")\n",
    "ax.set_title(\"$F_\\\\nu (\\lambda)$\")\n",
    "\n",
    "ax2 = ax.twinx()\n",
    "for ifilt in range(NFILT):\n",
    "    tag=\"tot_\"+filter_tagnames[ifilt]\n",
    "    #ax2.plot(WL,df_std[tag].values,color=filter_color[ifilt]) \n",
    "    ax2.fill_between(WL,df_std[tag].values,color=filter_color[ifilt],alpha=0.1) \n",
    "    ax2.set_yticks([])"
   ]
  },
  {
   "cell_type": "markdown",
   "id": "8b7e2fba-48ec-4c75-9cdf-5064add19d44",
   "metadata": {},
   "source": [
    "### Create rubin bandpasses"
   ]
  },
  {
   "cell_type": "code",
   "execution_count": null,
   "id": "e75f1415-190e-46a9-9068-820f7ce5a866",
   "metadata": {},
   "outputs": [],
   "source": [
    "lsst = {}\n",
    "for index,f in enumerate(filter_tagnames) :\n",
    "    \n",
    "    tag = \"tot_\"+filter_tagnames[index]\n",
    "    lsst[f] = Bandpass(wavelen = WL , sb= df_std[tag].values )\n",
    "    "
   ]
  },
  {
   "cell_type": "markdown",
   "id": "f9c7e567-3ad4-486d-9fd2-6afefb71527a",
   "metadata": {},
   "source": [
    "However, let's suppose we had a star which had a spectrum this, but was further away. Say we know that it should have an AB magnitude of r=20.\n",
    "\n",
    "We can scale the above SED to have the appropriate magnitude in r band, and then calculate the resulting AB magnitudes in the other bandpasses, using the `calcFluxNorm` and `multiplyFluxNorm` methods on Sed."
   ]
  },
  {
   "cell_type": "markdown",
   "id": "66686be2-db2c-421d-a139-4130e470e52f",
   "metadata": {},
   "source": [
    "### Magnitude calculation"
   ]
  },
  {
   "cell_type": "code",
   "execution_count": null,
   "id": "fd15ceeb-1093-49cd-ac4c-e3d4b86a0266",
   "metadata": {},
   "outputs": [],
   "source": [
    "# Scale spectrum and recalculate magnitudes.\n",
    "\n",
    "r = 20.0\n",
    "\n",
    "flux_norm = seds[sed_name].calcFluxNorm(r, lsst['r'])\n",
    "\n",
    "seds[sed_name].multiplyFluxNorm(flux_norm)"
   ]
  },
  {
   "cell_type": "code",
   "execution_count": null,
   "id": "032ea1dc-c043-4a25-8337-9f8c9e6fc838",
   "metadata": {},
   "outputs": [],
   "source": [
    "mags = {}\n",
    "for index,f in enumerate(filter_tagnames) :\n",
    "    mags[f] = seds[sed_name].calcMag(lsst[f])\n",
    "    \n",
    "pd.DataFrame(mags, index=[sed_name]).T"
   ]
  },
  {
   "cell_type": "markdown",
   "id": "a20f9958-8e98-49a7-a535-b759aa8c5ebe",
   "metadata": {},
   "source": [
    "### Normalized total response\n",
    "\n",
    "The normalized total response in a band $b$ is defined as: "
   ]
  },
  {
   "cell_type": "markdown",
   "id": "26e28208-6a40-422d-876e-bf9a907d886f",
   "metadata": {},
   "source": [
    "$$\n",
    "\\phi^{obs}_b(\\lambda) = \\frac{S_b^{obs}(\\lambda) \\frac{1}{\\lambda}}{\\int S_b^{obs}(\\lambda) \\frac{d \\lambda}{\\lambda}}\n",
    "$$"
   ]
  },
  {
   "cell_type": "markdown",
   "id": "09bf2fe4-07ac-40d8-a566-5f84be271215",
   "metadata": {},
   "source": [
    "### The AB flux of a source \n",
    "\n",
    "For source with SED of $F_\\lambda (\\lambda)$,\n",
    "\n",
    "$$\n",
    "F_{\\nu}(\\lambda) = F_\\lambda(\\lambda) \\left| \\frac{d\\lambda}{d\\nu} \\right|\n",
    "$$"
   ]
  },
  {
   "cell_type": "markdown",
   "id": "b2db1f73-7e22-47da-b6b2-52968149f5c6",
   "metadata": {},
   "source": [
    "The flux of the source in the AB unit is\n",
    "$$\n",
    "F_{b}^{AB} = \\frac{1}{F_{0}^{AB}} \\int F_\\nu(\\lambda) \\phi_{b} (\\lambda) d\\lambda\n",
    "$$"
   ]
  },
  {
   "cell_type": "code",
   "execution_count": null,
   "id": "a6e8a0ba-efee-44ee-bd69-ee02981d5c29",
   "metadata": {},
   "outputs": [],
   "source": [
    "phiArray, wavelenstep = seds[sed_name].setupPhiArray([lsst[f] for f in filter_tagnames])"
   ]
  },
  {
   "cell_type": "code",
   "execution_count": null,
   "id": "ce1f52c0-7641-4678-8144-6451152cf1e6",
   "metadata": {},
   "outputs": [],
   "source": [
    "wavelenstep"
   ]
  },
  {
   "cell_type": "code",
   "execution_count": null,
   "id": "cb395684-5cb7-4e43-8d4a-f74fb0f80562",
   "metadata": {},
   "outputs": [],
   "source": [
    "fig, ax = plt.subplots(1,1,figsize=(6,4))\n",
    "for index,f in enumerate(filter_tagnames):\n",
    "    ax.plot(WL,phiArray[index,:],'-',color=filter_color[index],label = f)\n",
    "ax.set_xlabel('Wavelength (nm)')\n",
    "ax.set_ylabel(\"$\\phi_\\\\nu(\\lambda)\\; (nm^{-1})$ \")\n",
    "ax.set_title(\"Normalised filter total response $\\phi_\\\\nu(\\lambda)$\")"
   ]
  },
  {
   "cell_type": "markdown",
   "id": "1e44b619-02b7-4ac9-9562-ba3c3bb7f4ab",
   "metadata": {},
   "source": [
    "Another presentation of the normalised filter response is to show the unitless response \n",
    "by multipling the normalized response by the filter width:"
   ]
  },
  {
   "cell_type": "code",
   "execution_count": null,
   "id": "f1cab1f9-28c1-417b-a457-532bbfea63ab",
   "metadata": {},
   "outputs": [],
   "source": [
    "fig, ax = plt.subplots(1,1,figsize=(6,4))\n",
    "for index,f in enumerate(filter_tagnames):\n",
    "    ax.plot(WL,phiArray[index,:]*FILTERWL[index,3],'-',color=filter_color[index],label = f)\n",
    "ax.set_xlabel('Wavelength (nm)')\n",
    "ax.set_ylabel(\"$\\phi_b^{nu}\\\\nu(\\lambda)\\; (no \\; unit)$ \")\n",
    "ax.set_title(\"Normalised filter total response $\\phi_\\\\nu(\\lambda)$\")"
   ]
  },
  {
   "cell_type": "markdown",
   "id": "5e3e4fb6-bb90-4af4-a0d5-4e8378869373",
   "metadata": {},
   "source": [
    "### Check the integral if $\\phi_\\nu(\\lambda)$ is unitary"
   ]
  },
  {
   "cell_type": "code",
   "execution_count": null,
   "id": "8f72cb19-eb11-42d4-8208-6c70bea1182a",
   "metadata": {},
   "outputs": [],
   "source": [
    "for index,f in enumerate(filter_tagnames):\n",
    "    I = np.trapz(phiArray[index,:],WL)\n",
    "    print(f,I)"
   ]
  },
  {
   "cell_type": "markdown",
   "id": "e4ee347b-fd05-494d-b4a1-de0f47e58a1c",
   "metadata": {},
   "source": [
    "### Check the distorsion impact for varying observing conditions by changing the following variables:\n",
    "\n",
    "- airmass in range [1-2.5]\n",
    "- pwv in range [1,9] mm\n",
    "- ozone in range [100-600] DU\n",
    "- aerosols in range [0- 0.1] \n",
    "\n",
    "\n",
    "**Step 1 :** View the filter shape distorsions in a plot\n",
    "\n",
    "**Step 2 :**  Evaluate their impact by calculating independently of the SED (or assuming a Flat SED in $F_\\nu$):\n",
    "\n",
    "$$\n",
    "\\Delta m_b = 2.5 \\log_{10} \\frac{\\int \\phi_b^{obs}(\\lambda)d\\lambda}{\\int \\phi_b^{std}(\\lambda)d\\lambda}\n",
    "$$\n",
    "\n",
    "** Step 3 :** Evaluate their impact when choosing a particular SED.\n",
    "\n",
    "- for example choose a blue star SED and a red star SED and vary only the pwv. Compare the ratio in the band $b$ ($y,z,i$):\n",
    "\n",
    "$$\n",
    "\\Delta m_b = 2.5 \\log_{10} \\frac{\\int F_\\nu(\\lambda)\\phi_b^{obs}(\\lambda)d\\lambda}{\\int F_\\nu(\\lambda)\\phi_b^{std}(\\lambda)d\\lambda}\n",
    "$$\n"
   ]
  },
  {
   "cell_type": "code",
   "execution_count": null,
   "id": "56a8958c-e173-4b96-855b-58678fb53bdd",
   "metadata": {},
   "outputs": [],
   "source": []
  }
 ],
 "metadata": {
  "kernelspec": {
   "display_name": "python3_base",
   "language": "python",
   "name": "python3"
  },
  "language_info": {
   "codemirror_mode": {
    "name": "ipython",
    "version": 3
   },
   "file_extension": ".py",
   "mimetype": "text/x-python",
   "name": "python",
   "nbconvert_exporter": "python",
   "pygments_lexer": "ipython3",
   "version": "3.9.15"
  }
 },
 "nbformat": 4,
 "nbformat_minor": 5
}
