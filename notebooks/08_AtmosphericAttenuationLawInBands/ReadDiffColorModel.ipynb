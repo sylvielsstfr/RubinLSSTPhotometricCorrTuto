{
 "cells": [
  {
   "cell_type": "markdown",
   "id": "ad5a3ac3-1d31-4599-995b-fc544a7da5ae",
   "metadata": {},
   "source": [
    "# Read the diff color model for PWV"
   ]
  },
  {
   "cell_type": "markdown",
   "id": "ac5107e7-d490-4e81-9296-6bfb7af6dce4",
   "metadata": {},
   "source": [
    "- author Sylvie Dagoret-Campagne\n",
    "- affiliation IJCLab\n",
    "- creation date : 2024/09/10\n",
    "- update : 2024/09/10"
   ]
  },
  {
   "cell_type": "code",
   "execution_count": null,
   "id": "1edbe7f0-c493-4659-8949-c17da1b52dfc",
   "metadata": {
    "tags": []
   },
   "outputs": [],
   "source": [
    "import numpy as np\n",
    "import matplotlib.pyplot as plt\n",
    "%matplotlib inline\n",
    "import matplotlib as mpl\n",
    "import matplotlib.colors as colors\n",
    "import matplotlib.cm as cmx\n",
    "from mpl_toolkits.axes_grid1 import make_axes_locatable\n",
    "from matplotlib.colors import LogNorm\n",
    "from matplotlib.gridspec import GridSpec\n",
    "import pandas as pd\n",
    "\n",
    "import matplotlib.ticker                         # here's where the formatter is\n",
    "import os,sys\n",
    "import re\n",
    "import pandas as pd\n",
    "\n",
    "from astropy.io import fits\n",
    "from astropy import units as u\n",
    "from astropy import constants as c\n",
    "\n",
    "plt.rcParams[\"figure.figsize\"] = (8,6)\n",
    "plt.rcParams[\"axes.labelsize\"] = 'xx-large'\n",
    "plt.rcParams['axes.titlesize'] = 'xx-large'\n",
    "plt.rcParams['xtick.labelsize']= 'xx-large'\n",
    "plt.rcParams['ytick.labelsize']= 'xx-large'\n",
    "\n",
    "import pickle\n",
    "from scipy.interpolate import RegularGridInterpolator"
   ]
  },
  {
   "cell_type": "code",
   "execution_count": null,
   "id": "ce04b895-01a2-4112-aa2c-8953f6a0caee",
   "metadata": {
    "tags": []
   },
   "outputs": [],
   "source": [
    "machine_name = os.uname().nodename\n",
    "path_rubinsimphot = \"repos/repos_w_2024_17/rubinsimphot/src\"\n",
    "if 'sdf' in machine_name:\n",
    "    #machine_name_usdf = 'sdfrome001'\n",
    "    print(\"Set environment for USDF\")\n",
    "    newpythonpath = os.path.join(os.getenv(\"HOME\"),path_rubinsimphot)\n",
    "    sys.path.append(newpythonpath)\n",
    "elif 'dagoret-nb' in machine_name:\n",
    "    print(\"Set environment for USDF Rubin Science Platform\")\n",
    "    newpythonpath = os.path.join(os.getenv(\"HOME\"),path_rubinsimphot)\n",
    "    sys.path.append(newpythonpath)    \n",
    "elif 'mac' in machine_name:\n",
    "    print(\"Be sure to run this notebook in conda environment named conda_py310\")\n",
    "else:\n",
    "    print(f\"Your current machine name is {machine_name}. Check your python environment\")"
   ]
  },
  {
   "cell_type": "markdown",
   "id": "b7e9732a-3cc1-46de-b26c-f8695a1817b9",
   "metadata": {},
   "source": [
    "## Config"
   ]
  },
  {
   "cell_type": "code",
   "execution_count": null,
   "id": "a683ccbc-b793-4a3c-98f6-6e5381b5af09",
   "metadata": {
    "tags": []
   },
   "outputs": [],
   "source": [
    "OBS_tag = \"AUXTEL\"\n",
    "file0_out = f\"{OBS_tag}_atmosphericzycolorgrid_params.pickle\"\n",
    "file1_out = f\"{OBS_tag}_atmosphericzycolorgrid_datagrid.npy\""
   ]
  },
  {
   "cell_type": "markdown",
   "id": "c0316ab9-5593-4c61-9b9d-99269bd7d334",
   "metadata": {},
   "source": [
    "## Read files"
   ]
  },
  {
   "cell_type": "code",
   "execution_count": null,
   "id": "2282b2dc-6af9-46a4-8b5b-5aac01907fcc",
   "metadata": {
    "tags": []
   },
   "outputs": [],
   "source": [
    "with (open(file0_out, \"rb\")) as openfile:\n",
    "    while True:\n",
    "        try:\n",
    "            info_params = pickle.load(openfile)\n",
    "        except EOFError:\n",
    "            break\n"
   ]
  },
  {
   "cell_type": "code",
   "execution_count": null,
   "id": "8335361f-9a5a-4c67-8776-d18a20b5a8d0",
   "metadata": {
    "tags": []
   },
   "outputs": [],
   "source": [
    "info_params"
   ]
  },
  {
   "cell_type": "code",
   "execution_count": null,
   "id": "f38695a4-320a-45b1-8d06-0af18f2bb833",
   "metadata": {
    "tags": []
   },
   "outputs": [],
   "source": [
    "all_pwv = info_params['PWV']\n",
    "all_zycolordiff = info_params['ZYCOLDIFF']"
   ]
  },
  {
   "cell_type": "code",
   "execution_count": null,
   "id": "296e1469-eb6b-4051-968f-0194a743144e",
   "metadata": {
    "tags": []
   },
   "outputs": [],
   "source": [
    "datagrid = np.load(file1_out,mmap_mode=None, allow_pickle=False)\n",
    "print(f\"...... datagrid file {file1_out} read\")"
   ]
  },
  {
   "cell_type": "markdown",
   "id": "e94fbccb-3b2d-4bf5-b5b7-80f0a0503cfd",
   "metadata": {},
   "source": [
    "## Check the model"
   ]
  },
  {
   "cell_type": "code",
   "execution_count": null,
   "id": "a2a75a34-dc1b-4371-9cb4-03a8965f96a5",
   "metadata": {
    "tags": []
   },
   "outputs": [],
   "source": [
    "nx = len(all_pwv)\n",
    "ny = len(all_zycolordiff)\n",
    "xg, yg = np.meshgrid(all_pwv, all_zycolordiff , indexing='ij')"
   ]
  },
  {
   "cell_type": "code",
   "execution_count": null,
   "id": "8f0ee6c9-4143-47e2-98cb-19f8092c19b2",
   "metadata": {
    "tags": []
   },
   "outputs": [],
   "source": [
    "fig,(ax1,ax2,ax3) = plt.subplots(3,1,figsize=(8,10))\n",
    "im = ax1.imshow(datagrid,origin=\"lower\",cmap=\"jet\",\n",
    "           extent=(all_pwv.min(),all_pwv.max(),all_zycolordiff.min(),all_zycolordiff.max()),aspect='auto')\n",
    "#cbar\n",
    "\n",
    "ax1.set_title(\"relative color difference : $(Z-Y)_1 - (Z-Y)_2$ \")\n",
    "ax1.set_ylabel(\"$(Z-Y)_1-(Z-Y)_2$\")\n",
    "ax1.set_xlabel(\"pwv (mm)\")\n",
    "#ax1.set_aspect('auto')\n",
    "\n",
    "ax2.plot(all_pwv, datagrid[0,:],'b-')\n",
    "ax2.set_xlabel(\"pwv (mm)\")\n",
    "ax2.set_ylabel(\"rel. col. : $(Z-Y)_1 - (Z-Y)_2$\")\n",
    "ax3.plot(all_pwv, datagrid[-1,:],'r-')\n",
    "ax3.set_xlabel(\"pwv (mm)\")\n",
    "ax3.set_ylabel(\"rel. col. : $(Z-Y)_1 - (Z-Y)_2$\")\n",
    "\n",
    "plt.tight_layout()\n",
    "plt.show()"
   ]
  },
  {
   "cell_type": "code",
   "execution_count": null,
   "id": "f870878d-a475-47d3-840e-00056d765be6",
   "metadata": {
    "tags": []
   },
   "outputs": [],
   "source": [
    "interp = RegularGridInterpolator((all_pwv, all_zycolordiff), datagrid.T, bounds_error=False, fill_value=None)"
   ]
  },
  {
   "cell_type": "code",
   "execution_count": null,
   "id": "2bd9b458-5d42-4198-a2c1-f4b767b2a35e",
   "metadata": {
    "tags": []
   },
   "outputs": [],
   "source": [
    "# wavelength bin colors\n",
    "jet = plt.get_cmap('jet')\n",
    "cNorm = mpl.colors.Normalize(vmin=all_zycolordiff.min(), vmax=all_zycolordiff.max())\n",
    "scalarMap = cmx.ScalarMappable(norm=cNorm, cmap=jet)"
   ]
  },
  {
   "cell_type": "code",
   "execution_count": null,
   "id": "13248238-643c-4e0f-994f-95de1b3d72eb",
   "metadata": {
    "tags": []
   },
   "outputs": [],
   "source": [
    "fig, ax = plt.subplots(1,1,figsize=(10,6))\n",
    "\n",
    "for z_y0 in all_zycolordiff:\n",
    "    the_color = scalarMap.to_rgba(z_y0, alpha=1)\n",
    "    \n",
    "    pts = list(zip(all_pwv,z_y0*np.ones(len(all_pwv))))  \n",
    "    c = interp(pts)\n",
    "    ax.plot(all_pwv,c,'-',c=the_color)\n",
    "    \n",
    "cbar = fig.colorbar(scalarMap,ax=ax, orientation='vertical', label='Z-Y(pwv=0) (mag)')    \n",
    "ax.set_xlabel(\"pwv (mm)\")    \n",
    "#ax.set_ylabel(\"Czy1_Czy2_abmag_rel (mmag)\")\n",
    "ax.set_ylabel(\"rel. col. : $(Z-Y)_1 - (Z-Y)_2$ (mmag)\")\n",
    "ax.set_title(\"Relative color difference Z-Y from star1,star2\")"
   ]
  },
  {
   "cell_type": "code",
   "execution_count": null,
   "id": "eb87c753-bec5-4a72-896b-ac1d3b59d044",
   "metadata": {},
   "outputs": [],
   "source": []
  }
 ],
 "metadata": {
  "kernelspec": {
   "display_name": "Python 3 (ipykernel)",
   "language": "python",
   "name": "python3"
  },
  "language_info": {
   "codemirror_mode": {
    "name": "ipython",
    "version": 3
   },
   "file_extension": ".py",
   "mimetype": "text/x-python",
   "name": "python",
   "nbconvert_exporter": "python",
   "pygments_lexer": "ipython3",
   "version": "3.11.5"
  }
 },
 "nbformat": 4,
 "nbformat_minor": 5
}
