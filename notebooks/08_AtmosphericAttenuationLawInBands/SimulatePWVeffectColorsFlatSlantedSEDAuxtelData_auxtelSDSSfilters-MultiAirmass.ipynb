{
 "cells": [
  {
   "cell_type": "markdown",
   "id": "ad5a3ac3-1d31-4599-995b-fc544a7da5ae",
   "metadata": {},
   "source": [
    "# Simulate PWV effet on differential color light curves For Multiple Airmass\n",
    "\n",
    "Goal : generate a 2D grid for the model of color corrections"
   ]
  },
  {
   "cell_type": "markdown",
   "id": "ac5107e7-d490-4e81-9296-6bfb7af6dce4",
   "metadata": {},
   "source": [
    "- author Sylvie Dagoret-Campagne\n",
    "- affiliation IJCLab\n",
    "- creation date : 2024/09/10\n",
    "- update : 2024/09/11\n",
    "- update : 2024/09/12 correct a bug to show the color correction does not depend on z\n",
    "- update : 2024/09/13\n",
    "- update : 2024/09/29 : Verification, suppress aerosols"
   ]
  },
  {
   "cell_type": "code",
   "execution_count": null,
   "id": "1edbe7f0-c493-4659-8949-c17da1b52dfc",
   "metadata": {
    "tags": []
   },
   "outputs": [],
   "source": [
    "import numpy as np\n",
    "import matplotlib.pyplot as plt\n",
    "%matplotlib inline\n",
    "import matplotlib as mpl\n",
    "import matplotlib.colors as colors\n",
    "import matplotlib.cm as cmx\n",
    "from mpl_toolkits.axes_grid1 import make_axes_locatable\n",
    "from matplotlib.colors import LogNorm\n",
    "from matplotlib.gridspec import GridSpec\n",
    "import pandas as pd\n",
    "\n",
    "props = dict(boxstyle='round', facecolor='white', alpha=0.5)\n",
    "\n",
    "import matplotlib.ticker                         # here's where the formatter is\n",
    "import os,sys\n",
    "import re\n",
    "import pandas as pd\n",
    "\n",
    "from astropy.io import fits\n",
    "from astropy import units as u\n",
    "from astropy import constants as c\n",
    "\n",
    "plt.rcParams[\"figure.figsize\"] = (8,6)\n",
    "plt.rcParams[\"axes.labelsize\"] = 'xx-large'\n",
    "plt.rcParams['axes.titlesize'] = 'xx-large'\n",
    "plt.rcParams['xtick.labelsize']= 'xx-large'\n",
    "plt.rcParams['ytick.labelsize']= 'xx-large'\n",
    "\n",
    "import pickle"
   ]
  },
  {
   "cell_type": "code",
   "execution_count": null,
   "id": "6c416af2-a649-41ef-8515-341c449598e3",
   "metadata": {
    "tags": []
   },
   "outputs": [],
   "source": [
    "from scipy import interpolate\n",
    "from sklearn.neighbors import NearestNeighbors\n",
    "from sklearn.neighbors import KDTree, BallTree"
   ]
  },
  {
   "cell_type": "code",
   "execution_count": null,
   "id": "ce04b895-01a2-4112-aa2c-8953f6a0caee",
   "metadata": {
    "tags": []
   },
   "outputs": [],
   "source": [
    "machine_name = os.uname().nodename\n",
    "path_rubinsimphot = \"repos/repos_w_2024_38/rubinsimphot/src\"\n",
    "if 'sdf' in machine_name:\n",
    "    #machine_name_usdf = 'sdfrome001'\n",
    "    print(\"Set environment for USDF\")\n",
    "    newpythonpath = os.path.join(os.getenv(\"HOME\"),path_rubinsimphot)\n",
    "    sys.path.append(newpythonpath)\n",
    "elif 'dagoret-nb' in machine_name:\n",
    "    print(\"Set environment for USDF Rubin Science Platform\")\n",
    "    newpythonpath = os.path.join(os.getenv(\"HOME\"),path_rubinsimphot)\n",
    "    sys.path.append(newpythonpath)    \n",
    "elif 'mac' in machine_name:\n",
    "    print(\"Be sure to run this notebook in conda environment named conda_py310\")\n",
    "else:\n",
    "    print(f\"Your current machine name is {machine_name}. Check your python environment\")"
   ]
  },
  {
   "cell_type": "markdown",
   "id": "64b70c8e-4988-4468-8229-0967053b812a",
   "metadata": {},
   "source": [
    "## Imports dedicated to this work\n",
    "\n",
    "- import the atmospheric transparency emulator (instead of using libradtran code).\n",
    "- import rubin sim\n",
    "- import libPhotometricCorrections : encapsulate uninteresting calculation details"
   ]
  },
  {
   "cell_type": "markdown",
   "id": "92f9cb84-f4b5-43b7-a9f1-ae284025f4de",
   "metadata": {},
   "source": [
    "### libradtran Emulator"
   ]
  },
  {
   "cell_type": "code",
   "execution_count": null,
   "id": "513cd9b8-f462-4020-a73f-98d4754a6313",
   "metadata": {
    "tags": []
   },
   "outputs": [],
   "source": [
    "from importlib.metadata import version\n",
    "the_ver = version('getObsAtmo')\n",
    "print(f\"Version of getObsAtmo : {the_ver}\")"
   ]
  },
  {
   "cell_type": "code",
   "execution_count": null,
   "id": "4648024a-5e3b-4ab1-ba82-1a6c44802d81",
   "metadata": {
    "tags": []
   },
   "outputs": [],
   "source": [
    "from getObsAtmo import ObsAtmo\n",
    "OBS_tag = \"AUXTEL\"\n",
    "emul = ObsAtmo(OBS_tag)\n",
    "#emul = ObsAtmo(\"LSST\")"
   ]
  },
  {
   "cell_type": "code",
   "execution_count": null,
   "id": "d19507bc-98e0-4d4e-8d4d-583056b14b6b",
   "metadata": {
    "tags": []
   },
   "outputs": [],
   "source": [
    "WL = emul.GetWL()"
   ]
  },
  {
   "cell_type": "markdown",
   "id": "2d329e0a-b89e-4f88-ae18-63a5c9cc872f",
   "metadata": {},
   "source": [
    "#### Library to fit atmosphere"
   ]
  },
  {
   "cell_type": "code",
   "execution_count": null,
   "id": "bf228a68-73d0-4690-bdbe-1a4d0ae98445",
   "metadata": {
    "tags": []
   },
   "outputs": [],
   "source": [
    "import sys\n",
    "sys.path.append('../lib')\n",
    "#import libAtmosphericFit"
   ]
  },
  {
   "cell_type": "markdown",
   "id": "6be3d51c-8ba7-4654-98bf-0af4b456b1d8",
   "metadata": {},
   "source": [
    "#### Library that encapsulate calculations for Photometric correction"
   ]
  },
  {
   "cell_type": "code",
   "execution_count": null,
   "id": "38724617-a232-45c5-be1d-a7e6e19d6561",
   "metadata": {
    "tags": []
   },
   "outputs": [],
   "source": [
    "# This package encapsulate the calculation on calibration used in this nb\n",
    "from libPhotometricCorrections_auxtel import *"
   ]
  },
  {
   "cell_type": "code",
   "execution_count": null,
   "id": "092ec108-49dd-464a-8d67-1c1a94679f69",
   "metadata": {
    "tags": []
   },
   "outputs": [],
   "source": [
    "def set_photometric_parameters(exptime, nexp, readnoise=None):\n",
    "    # readnoise = None will use the default (8.8 e/pixel). Readnoise should be in electrons/pixel.\n",
    "    photParams = PhotometricParameters(exptime=exptime, nexp=nexp, readnoise=readnoise)\n",
    "    return photParams"
   ]
  },
  {
   "cell_type": "code",
   "execution_count": null,
   "id": "2757add2-5460-4666-a815-c97cd739b1f6",
   "metadata": {
    "tags": []
   },
   "outputs": [],
   "source": [
    "def scale_sed(ref_mag, ref_filter, sed):\n",
    "    fluxNorm = sed.calc_flux_norm(ref_mag, lsst_std[ref_filter])\n",
    "    sed.multiply_flux_norm(fluxNorm)\n",
    "    return sed"
   ]
  },
  {
   "cell_type": "markdown",
   "id": "eefaa645-0a93-4b89-9ed5-8b6bb2c33241",
   "metadata": {},
   "source": [
    "#### library rubin_sim defining LSST parameters, namely for photometric calculations"
   ]
  },
  {
   "cell_type": "code",
   "execution_count": null,
   "id": "4a081d19-aa22-491a-b65c-08dcd684b42a",
   "metadata": {
    "tags": []
   },
   "outputs": [],
   "source": [
    "from rubinsimphot.phot_utils import Bandpass, Sed\n",
    "from rubinsimphot.data import get_data_dir"
   ]
  },
  {
   "cell_type": "code",
   "execution_count": null,
   "id": "9a21bf86-4c56-474f-b281-0708c74f6fee",
   "metadata": {},
   "outputs": [],
   "source": [
    "# reference flux in Jy\n",
    "F0 = ((0.*u.ABmag).to(u.Jy)).value\n",
    "F0"
   ]
  },
  {
   "cell_type": "markdown",
   "id": "ee546326-5cdf-49e3-8e2b-16cdc7a8a62b",
   "metadata": {},
   "source": [
    "## Configuration"
   ]
  },
  {
   "cell_type": "code",
   "execution_count": null,
   "id": "2fb7e75c-c074-44ad-89dc-d0a814fcceee",
   "metadata": {
    "tags": []
   },
   "outputs": [],
   "source": [
    "am0 =1.20    # airmass\n",
    "pwv0 = 3.0  # Precipitable water vapor vertical column depth in mm\n",
    "oz0 = 300.  # Ozone vertical column depth in Dobson Unit (DU)\n",
    "ncomp=1     # Number of aerosol components\n",
    "tau0= 0.0 # Vertical Aerosol depth (VAOD)   # Set aerosols to zero\n",
    "beta0 = 1.2 # Aerosol Angstrom exponent"
   ]
  },
  {
   "cell_type": "markdown",
   "id": "efbcb54f-e328-4e77-9177-733671894773",
   "metadata": {},
   "source": [
    "### Initialisation of Atmospheric corrections\n",
    "\n",
    "- reference airmass am0 = 1.2 for all objects"
   ]
  },
  {
   "cell_type": "code",
   "execution_count": null,
   "id": "e9aad196-e82d-4477-8c31-173b4a159dde",
   "metadata": {
    "tags": []
   },
   "outputs": [],
   "source": [
    "pc = PhotometricCorrections(am0,pwv0,oz0,tau0,beta0)\n",
    "pc1 = PhotometricCorrections(am0,pwv0,oz0,tau0,beta0)\n",
    "pc2 = PhotometricCorrections(am0,pwv0,oz0,tau0,beta0)\n",
    "pc3 = PhotometricCorrections(am0,pwv0,oz0,tau0,beta0)"
   ]
  },
  {
   "cell_type": "markdown",
   "id": "24110bb1-a4df-43b1-aaca-1b0879a20cd6",
   "metadata": {},
   "source": [
    "### Check standard atmosphere"
   ]
  },
  {
   "cell_type": "code",
   "execution_count": null,
   "id": "cf0cdba5-cbc7-44e9-967f-817f9afaaffb",
   "metadata": {
    "tags": []
   },
   "outputs": [],
   "source": [
    "fig, axs = plt.subplots(1,1,figsize=(6,4))\n",
    "axs.plot(pc.WL,pc.atm_std,'k-')\n",
    "axs.set_xlabel(\"$\\\\lambda$ (nm)\")\n",
    "axs.set_title(\"Standard atmosphere transmission\")"
   ]
  },
  {
   "cell_type": "markdown",
   "id": "faf15d14-6866-445c-befb-503582de6a9c",
   "metadata": {},
   "source": [
    "### Check LSST instrument throughput"
   ]
  },
  {
   "cell_type": "markdown",
   "id": "92cf88bc-ae63-4c3c-9d76-c6c9ab707e3c",
   "metadata": {},
   "source": [
    "Photometric Correction package should find the instrumental passband of LSST"
   ]
  },
  {
   "cell_type": "code",
   "execution_count": null,
   "id": "ccdc6966-cdca-40d3-b6a9-57c4e716c318",
   "metadata": {
    "tags": []
   },
   "outputs": [],
   "source": [
    "fig, axs = plt.subplots(1,1,figsize=(6,4))\n",
    "# loop on filter\n",
    "for index,f in enumerate(filter_tagnames):\n",
    "    \n",
    "    axs.plot(pc.bandpass_inst[f].wavelen,pc.bandpass_inst[f].sb,color=filter_color[index]) \n",
    "    axs.fill_between(pc.bandpass_inst[f].wavelen,pc.bandpass_inst[f].sb,color=filter_color[index],alpha=0.2) \n",
    "    axs.axvline(FILTERWL[index,2],color=filter_color[index],linestyle=\"-.\")\n",
    "    \n",
    "axs.set_xlabel(\"$\\\\lambda$ (nm)\")\n",
    "axs.set_title(\"Instrument throughput (auxtel)\")"
   ]
  },
  {
   "cell_type": "markdown",
   "id": "8b2d52db-c587-4ff8-995d-04adecbdcf2d",
   "metadata": {},
   "source": [
    "### Check LSST standard Filter throughputs"
   ]
  },
  {
   "cell_type": "code",
   "execution_count": null,
   "id": "09c70134-eda6-4c9e-83a0-e76510e86e97",
   "metadata": {
    "tags": []
   },
   "outputs": [],
   "source": [
    "fig, axs = plt.subplots(1,1,figsize=(6,4))\n",
    "# loop on filter\n",
    "for index,f in enumerate(filter_tagnames):\n",
    "    \n",
    "    axs.plot(pc.bandpass_total_std[f].wavelen,pc.bandpass_total_std[f].sb,color=filter_color[index]) \n",
    "    axs.fill_between(pc.bandpass_total_std[f].wavelen,pc.bandpass_total_std[f].sb,color=filter_color[index],alpha=0.2) \n",
    "    axs.axvline(FILTERWL[index,2],color=filter_color[index],linestyle=\"-.\")\n",
    "    \n",
    "axs.set_xlabel(\"$\\\\lambda$ (nm)\")\n",
    "axs.set_title(\"Total filter throughput (auxtel)\")"
   ]
  },
  {
   "cell_type": "markdown",
   "id": "b3e70b79-75ee-47b1-aad1-c4d8c796b248",
   "metadata": {},
   "source": [
    "## Variation of PWV\n",
    "\n",
    "- The reference is airmass = 1.2\n",
    "- range of PWV from 0mm to 15 mm\n",
    "- No aerosol"
   ]
  },
  {
   "cell_type": "code",
   "execution_count": null,
   "id": "8a9d6930-39a2-4a5f-9071-dc33c3afa5cf",
   "metadata": {
    "tags": []
   },
   "outputs": [],
   "source": [
    "am = 1.2\n",
    "oz = 300\n",
    "tau= 0.0\n",
    "beta = 1\n",
    "all_pwv = np.arange(0,15,0.025)\n",
    "NPWV = len(all_pwv)"
   ]
  },
  {
   "cell_type": "code",
   "execution_count": null,
   "id": "7b42b2a6-d556-4dac-aa56-1129b853ca69",
   "metadata": {
    "tags": []
   },
   "outputs": [],
   "source": [
    "pc.CalculateMultiObs(am,all_pwv,oz,tau,beta)"
   ]
  },
  {
   "cell_type": "markdown",
   "id": "fe00c844-cbdf-433b-8457-f31c10dd5502",
   "metadata": {},
   "source": [
    "### PWV variation :  Observed filter and normalized response"
   ]
  },
  {
   "cell_type": "code",
   "execution_count": null,
   "id": "42162a23-c47c-4f79-836b-c88d8cfcff12",
   "metadata": {
    "tags": []
   },
   "outputs": [],
   "source": [
    "NOBS = len(all_pwv)\n",
    "\n",
    "# wavelength bin colors\n",
    "jet = plt.get_cmap('jet')\n",
    "cNorm = colors.Normalize(vmin=0, vmax=NOBS)\n",
    "scalarMap = cmx.ScalarMappable(norm=cNorm, cmap=jet)\n",
    "all_colors = scalarMap.to_rgba(np.arange(NOBS), alpha=1)\n",
    "\n",
    "\n",
    "fig = plt.figure(figsize=(12,4))\n",
    "\n",
    "# Figure 1\n",
    "axs=fig.add_subplot(1,2,1)\n",
    "for index,pwv in enumerate(all_pwv):\n",
    "  \n",
    "    atm = pc.coll_atm_nonstd[index]\n",
    "    \n",
    "    label = f\"pwv={pwv:.1f}\" \n",
    "    axs.plot(pc.WL,atm,color=all_colors[index],label=label,lw=0.5)\n",
    "   \n",
    "axs.plot(pc.WL,pc.atm_std,color=\"k\",lw=2,label=\"standard atmosphere\")\n",
    "#axs.legend(bbox_to_anchor=(1.03, 1.0))  \n",
    "axs.set_xlabel(\"$\\lambda$ (nm)\")\n",
    "axs.set_title(\"standard and observed transmission\")\n",
    "\n",
    "ax2 = axs.twinx()\n",
    "for ifilt,f in enumerate(filter_tagnames):\n",
    "    ax2.fill_between(pc.bandpass_total_std[f].wavelen,pc.bandpass_total_std[f].sb,color=filter_color[ifilt],alpha=0.1) \n",
    "    ax2.set_yticks([])\n",
    "\n",
    "\n",
    "\n",
    "# Figure 2\n",
    "axs=fig.add_subplot(1,2,2)\n",
    "\n",
    "all_linestyles = ['-','--','-.',':','-','--','-.',':','-','--','-.',':','-','--','-.',':']\n",
    "\n",
    "# wavelength bin colors\n",
    "jet = plt.get_cmap('jet')\n",
    "cNorm = colors.Normalize(vmin=0, vmax=NOBS)\n",
    "scalarMap = cmx.ScalarMappable(norm=cNorm, cmap=jet)\n",
    "all_colors = scalarMap.to_rgba(np.arange(NOBS), alpha=1)\n",
    "\n",
    "\n",
    "for idx_pwv,pwv in enumerate(all_pwv):\n",
    "    \n",
    "    label = f\"pwv={pwv:.1f}\"\n",
    "    \n",
    "    for ifilt,f in enumerate(filter_tagnames):\n",
    "        \n",
    "        the_x=pc.WL\n",
    "        the_y=pc.coll_phiArray_nonstd[idx_pwv][ifilt,:]\n",
    "       \n",
    "        \n",
    "        if ifilt==1:\n",
    "            axs.plot(the_x,the_y,color=all_colors[idx_pwv],linestyle=\"-\",label=label )\n",
    "        else:\n",
    "            axs.plot(the_x,the_y,color=all_colors[idx_pwv],linestyle=\"-\")\n",
    "\n",
    "axs.set_xlabel(\"$\\lambda$ (nm)\")\n",
    "axs.set_title(\"Normalized observed transmission\")\n",
    "#axs.legend(bbox_to_anchor=(1.03, 1.0))  \n",
    "\n",
    "\n",
    "plt.tight_layout()\n",
    "plt.show()\n",
    "\n"
   ]
  },
  {
   "cell_type": "markdown",
   "id": "b5ebad46-cafd-4ef9-a081-b508ff20c110",
   "metadata": {},
   "source": [
    "## Flat SED"
   ]
  },
  {
   "cell_type": "code",
   "execution_count": null,
   "id": "758940f6-acfe-472a-9416-2f9d715a11df",
   "metadata": {
    "tags": []
   },
   "outputs": [],
   "source": [
    "# Find the throughputs directory \n",
    "#fdir = os.getenv('RUBIN_SIM_DATA_DIR')\n",
    "fdir = get_data_dir()\n",
    "if fdir is None:  #environment variable not set\n",
    "    fdir = os.path.join(os.getenv('HOME'), 'rubin_sim_data')"
   ]
  },
  {
   "cell_type": "code",
   "execution_count": null,
   "id": "81979489-9311-4a57-a530-c3d94c3863be",
   "metadata": {},
   "outputs": [],
   "source": [
    "the_sed_flat = Sed()\n",
    "the_sed_flat.set_flat_sed()\n",
    "the_sed_flat.name = 'flat'"
   ]
  },
  {
   "cell_type": "code",
   "execution_count": null,
   "id": "6f3b3b5b-f0e6-4697-bc09-1ed35c7d053a",
   "metadata": {
    "tags": []
   },
   "outputs": [],
   "source": [
    "zmag = 20.0\n",
    "flux_norm = the_sed_flat.calc_flux_norm(zmag, pc.bandpass_total_std['z'])\n",
    "the_sed_flat.multiply_flux_norm(flux_norm)"
   ]
  },
  {
   "cell_type": "markdown",
   "id": "6b57932c-78e5-4b25-8eef-58e30dc653ed",
   "metadata": {},
   "source": [
    "### Check the calculation of the Magnitude and the ADC counts (observation)"
   ]
  },
  {
   "cell_type": "code",
   "execution_count": null,
   "id": "b4050d6c-455a-47d0-bd13-cc96806b1beb",
   "metadata": {},
   "outputs": [],
   "source": [
    "fig,ax = plt.subplots(1,1,figsize=(8,6))\n",
    "ax.plot(the_sed_flat .wavelen,-2.5*np.log10(the_sed_flat.fnu/F0),\"b-\",label=the_sed_flat.name)\n",
    "\n",
    "ax.legend()\n",
    "#ax.set_ylim(1e-17,1e-14)\n",
    "#ax.set_xlim(300.,2000.)\n",
    "ax.set_title(\"Flat SED $F_\\\\nu$\")\n",
    "ax.set_ylabel(\" Magnitude = $-2.5 \\log_{10}(F_\\\\nu/F_0)$\")\n",
    "ax.set_xlabel(\"$\\\\lambda \\, (nm)$\")\n",
    "ax.yaxis.set_inverted(True)\n",
    "\n",
    "\n",
    "ax3 = ax.twinx()\n",
    "for ifilt,f in enumerate(filter_tagnames):\n",
    "    ax3.fill_between(pc.bandpass_total_std[f].wavelen,pc.bandpass_total_std[f].sb,color=filter_color[ifilt],alpha=0.1) \n",
    "    ax3.set_yticks([])\n",
    "    "
   ]
  },
  {
   "cell_type": "markdown",
   "id": "47dada2d-7755-484d-8064-0c2d7efbb3b9",
   "metadata": {},
   "source": [
    "## Generate a series of SED with different slopes in Fnu"
   ]
  },
  {
   "cell_type": "code",
   "execution_count": null,
   "id": "9c0b732d-28da-46d1-b115-ab6cca049391",
   "metadata": {},
   "outputs": [],
   "source": [
    "photom_wl= FILTERWL[:,0]\n",
    "lambda0z = photom_wl[4]"
   ]
  },
  {
   "cell_type": "code",
   "execution_count": null,
   "id": "30bea4fd-f0a1-4a77-9e7e-43a37d147c38",
   "metadata": {},
   "outputs": [],
   "source": [
    "all_alphas = np.arange(-3.,3.1,0.05)\n",
    "#all_alphas = np.arange(-3.,3.1,0.2)\n",
    "Nalphas = len(all_alphas)\n",
    "# wavelength bin colors\n",
    "jet = plt.get_cmap('jet')\n",
    "cNorm = colors.Normalize(vmin=all_alphas.min(), vmax=all_alphas.max())\n",
    "scalarMap = cmx.ScalarMappable(norm=cNorm, cmap=jet)\n",
    "all_colors = scalarMap.to_rgba(all_alphas, alpha=1)\n"
   ]
  },
  {
   "cell_type": "code",
   "execution_count": null,
   "id": "f02ee29a-a26d-45b2-af92-6de73b7d1a5f",
   "metadata": {},
   "outputs": [],
   "source": [
    "Nalphas"
   ]
  },
  {
   "cell_type": "code",
   "execution_count": null,
   "id": "2c08cad1-e101-4fb9-a899-f3c2e6d67c48",
   "metadata": {},
   "outputs": [],
   "source": [
    "all_seds = []\n",
    "zmag = 20.0\n",
    "for idx,alpha in enumerate(all_alphas):\n",
    "    label =f\"sed{idx}_slope={alpha:.1f}\"\n",
    "    the_wl = the_sed_flat.wavelen\n",
    "    the_fnu = np.power(the_wl/lambda0z,alpha)\n",
    "    the_sed = Sed()\n",
    "    the_sed.set_sed(the_wl, flambda=None, fnu=the_fnu,name=label)\n",
    "   \n",
    "    flux_norm = the_sed.calc_flux_norm(zmag, pc.bandpass_total_std['z'])\n",
    "    the_sed.multiply_flux_norm(flux_norm)\n",
    "    all_seds.append(the_sed)"
   ]
  },
  {
   "cell_type": "code",
   "execution_count": null,
   "id": "c9aab18d-09ac-4d86-833d-985a966b0852",
   "metadata": {},
   "outputs": [],
   "source": [
    "fig,ax = plt.subplots(1,1,figsize=(10,6))\n",
    "\n",
    "\n",
    "for idx,the_sed in enumerate(all_seds):\n",
    "    ax.plot(the_sed.wavelen,-2.5*np.log10(the_sed.fnu/F0),\"-\",c=all_colors[idx],label=the_sed.name)\n",
    "ax.plot(the_sed_flat .wavelen,-2.5*np.log10(the_sed_flat.fnu/F0),\"k-\",label=the_sed_flat.name)\n",
    "\n",
    "\n",
    "cbar =fig.colorbar(scalarMap,ax=ax, orientation='vertical', label='$\\\\alpha$')\n",
    "\n",
    "#ax.legend()\n",
    "#ax.set_ylim(1e-17,1e-14)\n",
    "#ax.set_xlim(300.,2000.)\n",
    "ax.set_title(\"SED $f_\\\\nu$ for different exponents\")\n",
    "ax.set_ylabel(\" Magnitude = $-2.5 \\log_{10}(F_\\\\nu/F_0)$\")\n",
    "ax.set_xlabel(\"$\\\\lambda \\, (nm)$\")\n",
    "ax.yaxis.set_inverted(True)\n",
    "\n",
    "textstr1 = \"$f_\\\\nu(\\\\lambda) = (\\\\lambda/\\\\lambda_b)^\\\\alpha$\"\n",
    "textstr2 = \"$f_\\\\nu^\\prime(\\lambda_b) = \\\\alpha$\"\n",
    "textstr = \"\\n\".join((textstr1,textstr2))\n",
    "\n",
    "ax.text(0.75, 0.95, textstr, transform=ax.transAxes, fontsize=14,\n",
    "        verticalalignment='top', bbox=props)\n",
    "\n",
    "ax3 = ax.twinx()\n",
    "for ifilt,f in enumerate(filter_tagnames):\n",
    "    ax3.fill_between(pc.bandpass_total_std[f].wavelen,pc.bandpass_total_std[f].sb,color=filter_color[ifilt],alpha=0.1) \n",
    "    ax3.set_yticks([])"
   ]
  },
  {
   "cell_type": "code",
   "execution_count": null,
   "id": "3981d71e-4704-4de6-bf0e-ae5722ecf4a7",
   "metadata": {
    "tags": []
   },
   "outputs": [],
   "source": [
    "the_sed = all_seds[0]\n",
    "\n",
    "mags_std = {}\n",
    "for index,f in enumerate(filter_tagnames) :\n",
    "    mags_std[f] = the_sed.calc_mag(pc.bandpass_total_std[f])\n",
    "mags_std[\"g-r\"] = mags_std[\"g\"]- mags_std[\"r\"]  \n",
    "mags_std[\"z-y\"] = mags_std[\"z\"]- mags_std[\"y\"]   \n",
    "dfmag = pd.DataFrame(mags_std, index=[the_sed.name]).T\n",
    "dfmag"
   ]
  },
  {
   "cell_type": "code",
   "execution_count": null,
   "id": "1c4d2660-0dcd-4597-927a-06c2df1c3e9c",
   "metadata": {
    "tags": []
   },
   "outputs": [],
   "source": [
    "photoparams = set_photometric_parameters(30, 1 , readnoise=None)\n",
    "adcs_stdmag = {}\n",
    "for index,f in enumerate(filter_tagnames) :\n",
    "    adcs_stdmag[f] = -2.5*np.log10(the_sed.calc_adu(pc.bandpass_total_std[f],photoparams))\n",
    "adcs_stdmag[\"g-r\"] = adcs_stdmag[\"g\"]- adcs_stdmag[\"r\"]  \n",
    "adcs_stdmag[\"z-y\"] = adcs_stdmag[\"z\"]- adcs_stdmag[\"y\"]      \n",
    "dfadu = pd.DataFrame(adcs_stdmag, index=[the_sed.name]).T\n",
    "dfadu"
   ]
  },
  {
   "cell_type": "markdown",
   "id": "63e23310-eada-4590-8718-384c4718a9bb",
   "metadata": {},
   "source": [
    "## Simulate multi atmospheres at airmass 1.2, 1.0, 1.5 and 2.0"
   ]
  },
  {
   "cell_type": "code",
   "execution_count": null,
   "id": "9bb4ca33-6068-403c-84aa-096742212adf",
   "metadata": {},
   "outputs": [],
   "source": [
    "am = 1.2\n",
    "am1 = 1.0\n",
    "am2 = 1.5\n",
    "am3 = 2.0\n",
    "oz = 300\n",
    "tau= 0.0\n",
    "beta = 1\n",
    "all_pwv = np.arange(0,15.,0.05)\n",
    "NPWV = len(all_pwv)"
   ]
  },
  {
   "cell_type": "code",
   "execution_count": null,
   "id": "5b58857d-e058-47a8-a8d9-6d2eb7914bce",
   "metadata": {},
   "outputs": [],
   "source": [
    "pc.CalculateMultiObs(am,all_pwv,oz,tau,beta) # am = 1.2\n",
    "pc1.CalculateMultiObs(am1,all_pwv,oz,tau,beta) # am = 1.0\n",
    "pc2.CalculateMultiObs(am2,all_pwv,oz,tau,beta) # am = 1.5\n",
    "pc3.CalculateMultiObs(am3,all_pwv,oz,tau,beta) # am = 2.0"
   ]
  },
  {
   "cell_type": "code",
   "execution_count": null,
   "id": "8f681c0a-c833-4bb2-9ff2-b3ca02271560",
   "metadata": {},
   "outputs": [],
   "source": [
    "NOBS = len(all_pwv)\n",
    "\n",
    "# wavelength bin colors\n",
    "jet = plt.get_cmap('jet')\n",
    "cNorm = colors.Normalize(vmin=0, vmax=NOBS)\n",
    "scalarMap = cmx.ScalarMappable(norm=cNorm, cmap=jet)\n",
    "all_colors = scalarMap.to_rgba(np.arange(NOBS), alpha=1)\n",
    "\n",
    "\n",
    "fig = plt.figure(figsize=(12,8))\n",
    "\n",
    "# Figure 1\n",
    "axs=fig.add_subplot(1,1,1)\n",
    "for index,pwv in enumerate(all_pwv):\n",
    "\n",
    "    #atm = pc.coll_bandpass_total_nonstd[index]\n",
    "    atm = pc.coll_atm_nonstd[index]\n",
    "    atm1 = pc1.coll_atm_nonstd[index]\n",
    "    atm2 = pc2.coll_atm_nonstd[index]\n",
    "    atm3 = pc3.coll_atm_nonstd[index]\n",
    "    \n",
    "    label = f\"pwv={pwv:.1f}\" \n",
    "    axs.plot(pc.WL,atm,color=all_colors[index],label=label,lw=0.5)\n",
    "    axs.plot(pc1.WL,atm1,color=all_colors[index],ls=\"-.\",lw=0.5)\n",
    "    axs.plot(pc2.WL,atm2,color=all_colors[index],ls=\":\",lw=0.5)\n",
    "    axs.plot(pc3.WL,atm3,color=all_colors[index],ls=\":\",lw=0.5)\n",
    "   \n",
    "axs.plot(pc.WL,pc.atm_std,color=\"k\",lw=2,label=\"standard atmosphere\")\n",
    "#axs.legend(bbox_to_anchor=(1.03, 1.0))  \n",
    "axs.set_xlabel(\"$\\lambda$ (nm)\")\n",
    "axs.set_title(\"standard and observed transmission at airmass 1,1.2,1.5 and 2.0\")\n",
    "\n",
    "ax2 = axs.twinx()\n",
    "for ifilt,f in enumerate(filter_tagnames):\n",
    "    ax2.fill_between(pc.bandpass_total_std[f].wavelen,pc.bandpass_total_std[f].sb,color=filter_color[ifilt],alpha=0.1) \n",
    "    ax2.set_yticks([])\n",
    "\n",
    "\n",
    "plt.tight_layout()\n",
    "plt.show()\n"
   ]
  },
  {
   "cell_type": "markdown",
   "id": "f612b745-508e-4430-80a2-46ec44405cf2",
   "metadata": {},
   "source": [
    "## Plot the passband filter response including atmosphere\n",
    "- Note the passbands for each of the PWV conditions are in pc.coll_bandpass_total_nonstd"
   ]
  },
  {
   "cell_type": "code",
   "execution_count": null,
   "id": "2565a0c1-43d4-4231-9860-6fdff8bd59ef",
   "metadata": {},
   "outputs": [],
   "source": [
    "len(pc.coll_bandpass_total_nonstd)"
   ]
  },
  {
   "cell_type": "code",
   "execution_count": null,
   "id": "4a4b2bc8-0108-46d7-ad17-dd4caacfeb76",
   "metadata": {},
   "outputs": [],
   "source": [
    "NOBS = len(all_pwv)\n",
    "\n",
    "# wavelength bin colors\n",
    "jet = plt.get_cmap('jet')\n",
    "cNorm = colors.Normalize(vmin=0, vmax=NOBS)\n",
    "scalarMap = cmx.ScalarMappable(norm=cNorm, cmap=jet)\n",
    "all_colors = scalarMap.to_rgba(np.arange(NOBS), alpha=1)\n",
    "\n",
    "\n",
    "fig = plt.figure(figsize=(10,6))\n",
    "\n",
    "# Figure 1\n",
    "axs=fig.add_subplot(1,1,1)\n",
    "for index,pwv in enumerate(all_pwv):\n",
    "  \n",
    "    atm_bands = pc.coll_bandpass_total_nonstd[index]     # am = 1.2\n",
    "    atm_bands1 = pc1.coll_bandpass_total_nonstd[index]   # am = 1.0\n",
    "    atm_bands2 = pc2.coll_bandpass_total_nonstd[index]   # am = 1.5\n",
    "    atm_bands3 = pc3.coll_bandpass_total_nonstd[index]   # am = 2.0\n",
    "    \n",
    "    label = f\"pwv={pwv:.1f}\" \n",
    "\n",
    "    for f in filter_tagnames: \n",
    "        axs.plot(atm_bands[f].wavelen,atm_bands[f].sb,color=all_colors[index],label=label,lw=0.5)\n",
    "        axs.plot(atm_bands1[f].wavelen,atm_bands1[f].sb,color=all_colors[index],ls=\"-.\",lw=0.5)\n",
    "        axs.plot(atm_bands2[f].wavelen,atm_bands2[f].sb,color=all_colors[index],ls=\":\",lw=0.5)\n",
    "        axs.plot(atm_bands3[f].wavelen,atm_bands3[f].sb,color=all_colors[index],ls=\":\",lw=0.5)\n",
    "   \n",
    "axs.plot(pc.WL,pc.atm_std,color=\"k\",lw=2,label=\"standard atmosphere\")\n",
    "#axs.legend(bbox_to_anchor=(1.03, 1.0))  \n",
    "axs.set_xlabel(\"$\\lambda$ (nm)\")\n",
    "axs.set_title(\"standard and observed transmission for airmass 1, 1.2, 1.5, and 2.0\")\n",
    "\n",
    "ax2 = axs.twinx()\n",
    "for ifilt,f in enumerate(filter_tagnames):\n",
    "    ax2.fill_between(pc.bandpass_total_std[f].wavelen,pc.bandpass_total_std[f].sb,color=filter_color[ifilt],alpha=0.1) \n",
    "    ax2.set_yticks([])\n",
    "\n",
    "\n",
    "plt.tight_layout()\n",
    "plt.show()\n"
   ]
  },
  {
   "cell_type": "markdown",
   "id": "385ffc52-c86c-403e-8e76-010af1dcf4c4",
   "metadata": {},
   "source": [
    "## Compute the Magnitudes in all these transmission\n",
    "\n",
    "- in all_df_magcol"
   ]
  },
  {
   "cell_type": "code",
   "execution_count": null,
   "id": "c5679117-7d04-421b-aaa4-d944e7a6d5e5",
   "metadata": {},
   "outputs": [],
   "source": [
    "def ComputeColors(the_pc,the_sed1,the_sed2):\n",
    "    \"\"\"\n",
    "    Compute G-R and Z-R for both SED 1 and 2 independently for each at pwv conditions in the_pc\n",
    "    Return the dataframe  in color for both sed independently\n",
    "    \"\"\"\n",
    "    \n",
    "    all_df_magcol = []\n",
    "    for index,pwv in enumerate(all_pwv):\n",
    "        atm_bands = the_pc.coll_bandpass_total_nonstd[index]\n",
    "        mags_pwv1 = {}\n",
    "        mags_pwv2 = {}\n",
    "        madus_pwv1 = {}\n",
    "        madus_pwv2 = {}\n",
    "        for f in filter_tagnames: \n",
    "            mags_pwv1[f] = the_sed1.calc_mag(atm_bands[f])\n",
    "            mags_pwv2[f] = the_sed2.calc_mag(atm_bands[f])\n",
    "            madus_pwv1[f] = -2.5*np.log10(the_sed1.calc_adu(atm_bands[f],photoparams))\n",
    "            madus_pwv2[f] = -2.5*np.log10(the_sed2.calc_adu(atm_bands[f],photoparams))\n",
    "        # AB colors for star 1\n",
    "        mags_pwv1[\"g-r\"] = mags_pwv1[\"g\"]- mags_pwv1[\"r\"]  \n",
    "        mags_pwv1[\"z-y\"] = mags_pwv1[\"z\"]- mags_pwv1[\"y\"] \n",
    "        # AB colors for star 2\n",
    "        mags_pwv2[\"g-r\"] = mags_pwv2[\"g\"]- mags_pwv2[\"r\"]  \n",
    "        mags_pwv2[\"z-y\"] = mags_pwv2[\"z\"]- mags_pwv2[\"y\"] \n",
    "        # ADU mag colors for star 1\n",
    "        # MADU colors for star 1\n",
    "        madus_pwv1[\"g-r\"] = madus_pwv1[\"g\"]- madus_pwv1[\"r\"]  \n",
    "        madus_pwv1[\"z-y\"] = madus_pwv1[\"z\"]- madus_pwv1[\"y\"] \n",
    "        # MADU colors for star 2\n",
    "        madus_pwv2[\"g-r\"] = madus_pwv2[\"g\"]- madus_pwv2[\"r\"]  \n",
    "        madus_pwv2[\"z-y\"] = madus_pwv2[\"z\"]- madus_pwv2[\"y\"] \n",
    "        \n",
    "        df1 = pd.DataFrame(mags_pwv1, index=[\"abmag_1\"]).T\n",
    "        df2 = pd.DataFrame(mags_pwv2, index=[\"abmag_2\"]).T\n",
    "        df3 = pd.DataFrame(madus_pwv1, index=[\"instmag_1\"]).T\n",
    "        df4 = pd.DataFrame(madus_pwv2, index=[\"instmag_2\"]).T\n",
    "        df = pd.concat([df1,df2,df3,df4],axis=1)\n",
    "        all_df_magcol.append(df)\n",
    "        \n",
    "    return all_df_magcol\n",
    "   "
   ]
  },
  {
   "cell_type": "code",
   "execution_count": null,
   "id": "db09fe23-3082-4139-b594-2e1aadbec752",
   "metadata": {},
   "outputs": [],
   "source": [
    "def ComputeRelativeDiffColor(the_all_df_magcol):\n",
    "    \"\"\"\n",
    "    Compute the relative color difference\n",
    "    \"\"\"\n",
    "\n",
    "    df_diffcol = pd.DataFrame(columns=[\"pwv\",\"Czy1_Czy2_abmag\",\"Czy1_Czy2_instmag\"])\n",
    "    for index,pwv in enumerate(all_pwv):\n",
    "        the_df = the_all_df_magcol[index]\n",
    "        DCzyabmag = the_df.loc[\"z-y\",\"abmag_1\"] - the_df.loc[\"z-y\",\"abmag_2\"]\n",
    "        DCzyadumag = the_df.loc[\"z-y\",\"instmag_1\"] - the_df.loc[\"z-y\",\"instmag_2\"]\n",
    "        df_diffcol.loc[index] = [pwv,DCzyabmag,DCzyadumag]\n",
    "\n",
    "    # Relative difference color is in mmag for plotting\n",
    "    df_diffcol[\"Czy1_Czy2_abmag_rel\"] =  (df_diffcol[\"Czy1_Czy2_abmag\"] - df_diffcol.loc[0,\"Czy1_Czy2_abmag\"])*1000\n",
    "    df_diffcol[\"Czy1_Czy2_instmag_rel\"] =  (df_diffcol[\"Czy1_Czy2_instmag\"] - df_diffcol.loc[0,\"Czy1_Czy2_instmag\"])*1000\n",
    "\n",
    "    # differentiation  mmag per mm\n",
    "    dx = np.diff(df_diffcol.pwv.values).mean()\n",
    "    dy1 = np.diff(df_diffcol[\"Czy1_Czy2_abmag_rel\"].values)\n",
    "    dy2 = np.diff(df_diffcol[\"Czy1_Czy2_instmag_rel\"].values)\n",
    "    z_y0 = df_diffcol.loc[0,\"Czy1_Czy2_abmag\"]\n",
    "    return df_diffcol"
   ]
  },
  {
   "cell_type": "markdown",
   "id": "fa7faf2b-5569-4f05-823f-7523064b33ee",
   "metadata": {},
   "source": [
    "## Loop1 : Difference color curve wrt the Flat SED\n",
    "\n",
    "- the sed1 is the sed with the slanted slope in $f_\\nu$\n",
    "- the sed2 is the flat sed in $f_\\nu$"
   ]
  },
  {
   "cell_type": "code",
   "execution_count": null,
   "id": "972ed223-b088-4e6f-aece-b11f82fe3f69",
   "metadata": {},
   "outputs": [],
   "source": [
    "# container for color difference\n",
    "# z = 1.2\n",
    "all_zerocoldiff = []  # container Z-Y for PWV=0 for all sed pair\n",
    "all_colordiffcurves = [] # container Z-Y for each value of PWV\n",
    "\n",
    "# z = 1 \n",
    "all_zerocoldiff1 = []\n",
    "all_colordiffcurves1 = []\n",
    "\n",
    "# z = 1.5 \n",
    "all_zerocoldiff2 = []\n",
    "all_colordiffcurves2 = []\n",
    "\n",
    "\n",
    "# z= 2\n",
    "all_zerocoldiff3 = []\n",
    "all_colordiffcurves3 = []\n",
    "\n",
    "\n",
    "# loop on sed1\n",
    "for idx,the_sed in enumerate(all_seds):\n",
    "    the_sed1 = the_sed\n",
    "    the_sed2 = the_sed_flat\n",
    "    \n",
    "    # z = 1.2\n",
    "    all_df_magcol = ComputeColors(pc,the_sed1,the_sed2)\n",
    "    df_diffcol = ComputeRelativeDiffColor(all_df_magcol)\n",
    "    # the color difference for PWV = 0\n",
    "    z_y0 = df_diffcol.loc[0,\"Czy1_Czy2_abmag\"]\n",
    "    all_zerocoldiff.append(z_y0)\n",
    "    all_colordiffcurves.append(df_diffcol) \n",
    "    \n",
    "    # z = 1.\n",
    "    all_df_magcol = ComputeColors(pc1,the_sed1,the_sed2)\n",
    "    df_diffcol = ComputeRelativeDiffColor(all_df_magcol)\n",
    "    # the color difference for PWV = 0\n",
    "    z_y0 = df_diffcol.loc[0,\"Czy1_Czy2_abmag\"]\n",
    "    all_zerocoldiff1.append(z_y0)\n",
    "    all_colordiffcurves1.append(df_diffcol) \n",
    "    \n",
    "    # z = 1.5\n",
    "    all_df_magcol = ComputeColors(pc2,the_sed1,the_sed2)\n",
    "    df_diffcol = ComputeRelativeDiffColor(all_df_magcol)\n",
    "    # the color difference for PWV = 0\n",
    "    z_y0 = df_diffcol.loc[0,\"Czy1_Czy2_abmag\"]\n",
    "    all_zerocoldiff2.append(z_y0)\n",
    "    all_colordiffcurves2.append(df_diffcol) \n",
    "    \n",
    "    \n",
    "    # z = 2\n",
    "    all_df_magcol = ComputeColors(pc3,the_sed1,the_sed2)\n",
    "    df_diffcol = ComputeRelativeDiffColor(all_df_magcol)\n",
    "    # the color difference for PWV = 0\n",
    "    z_y0 = df_diffcol.loc[0,\"Czy1_Czy2_abmag\"]\n",
    "    all_zerocoldiff3.append(z_y0)\n",
    "    all_colordiffcurves3.append(df_diffcol) \n",
    "    \n",
    "    \n",
    "all_zerocoldiff = np.array(all_zerocoldiff)   \n",
    "all_zerocoldiff3 = np.array(all_zerocoldiff3)   "
   ]
  },
  {
   "cell_type": "markdown",
   "id": "0ec78d41-7758-428e-977a-43d93b78269c",
   "metadata": {},
   "source": [
    "## Plot the difference color Z-Y for PWV = 0mm for all airmass 1,,1.2,1.5,2.0\n",
    "\n",
    "- There is no difference in $\\Delta_{12}C_{zy}(pwv = 0 mm) $ due to airmass"
   ]
  },
  {
   "cell_type": "code",
   "execution_count": null,
   "id": "a648fe39-9a08-4bf9-a8f7-a96f9a2924b4",
   "metadata": {},
   "outputs": [],
   "source": [
    "fig,ax = plt.subplots(1,1,figsize=(8,6))\n",
    "ax.plot(all_alphas,all_zerocoldiff,'b-')\n",
    "ax.plot(all_alphas,all_zerocoldiff1,'g-')\n",
    "ax.plot(all_alphas,all_zerocoldiff2,'k-')\n",
    "ax.plot(all_alphas,all_zerocoldiff3,'r-')\n",
    "ax.set_title(\"Color difference vs $f_\\\\nu(\\\\lambda)$ exponent $\\\\alpha$ difference\")\n",
    "ax.set_xlabel(\"$\\delta \\\\alpha $\")\n",
    "ax.set_ylabel(\"$\\Delta_{12}C_{zy}$(pwv = 0 mm) (mag)\")\n",
    "\n",
    "textstr1 = \"$f_\\\\nu(\\\\lambda) = (\\\\lambda/\\\\lambda_b)^\\\\alpha$\"\n",
    "textstr2 = \"$f_\\\\nu^\\prime(\\lambda_b) = \\\\alpha$\"\n",
    "textstr = \"\\n\".join((textstr1,textstr2))\n",
    "\n",
    "ax.text(0.05, 0.95, textstr, transform=ax.transAxes, fontsize=14,\n",
    "        verticalalignment='top', bbox=props)"
   ]
  },
  {
   "cell_type": "markdown",
   "id": "a25e6b56-5860-457c-82c4-4637243392b2",
   "metadata": {},
   "source": [
    "## Plot Color difference correction term for PWV > 0"
   ]
  },
  {
   "cell_type": "markdown",
   "id": "7cdec9cc-7172-47e2-8d6e-e5987c4beb84",
   "metadata": {},
   "source": [
    "### Plot Color difference correction term for PWV > 0 and airmass = 1"
   ]
  },
  {
   "cell_type": "code",
   "execution_count": null,
   "id": "d2e1bfff-907c-429a-a0f2-0730dc4c8c40",
   "metadata": {},
   "outputs": [],
   "source": [
    "# wavelength bin colors\n",
    "jet = plt.get_cmap('jet')\n",
    "cNorm = mpl.colors.Normalize(vmin=all_zerocoldiff.min(), vmax=all_zerocoldiff.max())\n",
    "scalarMap = cmx.ScalarMappable(norm=cNorm, cmap=jet)"
   ]
  },
  {
   "cell_type": "code",
   "execution_count": null,
   "id": "47dae6d5-b662-4dc6-88cc-a5ec820b0145",
   "metadata": {
    "tags": []
   },
   "outputs": [],
   "source": [
    "#am = 1.2\n",
    "#am1 = 1.0\n",
    "#am2 = 1.5\n",
    "#am3 = 2.0"
   ]
  },
  {
   "cell_type": "code",
   "execution_count": null,
   "id": "b9eba6fe-9743-49dc-b343-1fe1af710fb2",
   "metadata": {
    "tags": []
   },
   "outputs": [],
   "source": [
    "fig,ax = plt.subplots(1,1,figsize=(10,6))\n",
    "\n",
    "for idx,the_color_curve in enumerate(all_colordiffcurves):\n",
    "    z_y0 = all_zerocoldiff[idx]\n",
    "    z_y01 = all_zerocoldiff1[idx]\n",
    "    z_y02 = all_zerocoldiff2[idx]\n",
    "    z_y03 = all_zerocoldiff3[idx]\n",
    "    the_color_curve = all_colordiffcurves[idx]   # am = 1.2\n",
    "    the_color_curve1 = all_colordiffcurves1[idx] # am = 1.0\n",
    "    the_color_curve2 = all_colordiffcurves2[idx] # am = 1.5\n",
    "    the_color_curve3 = all_colordiffcurves3[idx] # am = 2.0\n",
    "    the_color1 = scalarMap.to_rgba(z_y01, alpha=1)\n",
    "    the_color2 = scalarMap.to_rgba(z_y02, alpha=1)\n",
    "    the_color3 = scalarMap.to_rgba(z_y03, alpha=1)\n",
    "    \n",
    "    ax.plot(the_color_curve1.pwv,the_color_curve1.Czy1_Czy2_instmag_rel,c=the_color1)\n",
    "        \n",
    "\n",
    "\n",
    "cbar = fig.colorbar(scalarMap,ax=ax, orientation='vertical', label='$\\Delta_{12}C_{zy}$(pwv=0) (mag)')    \n",
    "ax.set_xlabel(\"pwv (mm) in obs direction (pwv(z=1) x z)\")    \n",
    "ax.set_ylabel(\"$\\delta_{12}C_{zy}(pwv)$ (mmag)\")\n",
    "#ax.set_ylabel(\"Czy1_Czy2_abmag_rel (mmag)\")\n",
    "ax.set_title(\"Relative color difference Z-Y between star1,star2 (airmass z=1)\")\n",
    "ax.legend(loc=\"upper left\")\n",
    "\n",
    "labels = [item.get_text() for item in cbar.ax.get_yticklabels()]\n",
    "Nlabels = len(labels)\n",
    "\n",
    "\n",
    "\n",
    "# If want to change the number of labels\n",
    "#cbar.ax.locator_params(axis='y', nbins=2*Nlabels) \n",
    "#labels = [item.get_text() for item in cbar.ax.get_yticklabels()]\n",
    "\n",
    "#Nlabels = len(labels)\n",
    "#newlabels = []\n",
    "#for ilab in range(0,Nlabels-1):\n",
    "#    the_label = float(labels[ilab])\n",
    "#    print(the_label)\n",
    "#    the_alpha = np.interp(the_label, all_zerocoldiff, all_alphas)\n",
    "#    newlabels.append(f\"coldiff = {the_label:.1f}\\n exp = {the_alpha:.1f}\")\n",
    "#cbar.ax.set_yticklabels(newlabels,rotation=0);\n",
    "plt.tight_layout()\n"
   ]
  },
  {
   "cell_type": "markdown",
   "id": "5f76ce85-dd7c-41b1-805c-9be15e7a6884",
   "metadata": {},
   "source": [
    "### Plot Color difference correction term for PWV > 0 and airmass = 1,1.5,2.0"
   ]
  },
  {
   "cell_type": "code",
   "execution_count": null,
   "id": "6a0b17cc-a3ca-40a7-ae3e-f13c4a6387fc",
   "metadata": {
    "tags": []
   },
   "outputs": [],
   "source": [
    "fig,ax = plt.subplots(1,1,figsize=(10,6))\n",
    "\n",
    "for idx,the_color_curve in enumerate(all_colordiffcurves):\n",
    "    z_y0 = all_zerocoldiff[idx]\n",
    "    z_y01 = all_zerocoldiff1[idx]\n",
    "    z_y02 = all_zerocoldiff2[idx]\n",
    "    z_y03 = all_zerocoldiff3[idx]\n",
    "    the_color_curve = all_colordiffcurves[idx]\n",
    "    the_color_curve1 = all_colordiffcurves1[idx]\n",
    "    the_color_curve2 = all_colordiffcurves2[idx]\n",
    "    the_color_curve3 = all_colordiffcurves3[idx]\n",
    "    the_color1 = scalarMap.to_rgba(z_y01, alpha=1)\n",
    "    the_color2 = scalarMap.to_rgba(z_y02, alpha=1)\n",
    "    the_color3 = scalarMap.to_rgba(z_y03, alpha=1)\n",
    "    if idx==0:\n",
    "        ax.plot(the_color_curve1.pwv,the_color_curve1.Czy1_Czy2_instmag_rel,c=the_color1,label=\"airmass z = 1.0\")\n",
    "    else:\n",
    "        ax.plot(the_color_curve1.pwv,the_color_curve1.Czy1_Czy2_instmag_rel,c=the_color1)\n",
    "        \n",
    "    if idx==0:\n",
    "        ax.plot(the_color_curve2.pwv*1.5,the_color_curve2.Czy1_Czy2_instmag_rel,\"-.\",c=the_color1,label=\"airmass z = 1.5\")\n",
    "    else:\n",
    "        ax.plot(the_color_curve2.pwv*1.5,the_color_curve2.Czy1_Czy2_instmag_rel,\"-.\",c=the_color1)\n",
    "        \n",
    "    if idx==0:    \n",
    "        ax.plot(the_color_curve3.pwv*2.0,the_color_curve3.Czy1_Czy2_instmag_rel,':',c=the_color3,label=\"airmass z = 2.0\")\n",
    "    else:\n",
    "        ax.plot(the_color_curve3.pwv*2.0,the_color_curve3.Czy1_Czy2_instmag_rel,':',c=the_color3)\n",
    "        \n",
    "\n",
    "cbar = fig.colorbar(scalarMap,ax=ax, orientation='vertical', label='$(Z-Y)_1-(Z-Y)_2$(pwv=0) (mag)')    \n",
    "ax.set_xlabel(\"pwv (mm) in obs direction (pwv(z=1) x z)\")    \n",
    "ax.set_ylabel(\"rel. col. : $(Z-Y)_1 - (Z-Y)_2$ (mmag)\")\n",
    "#ax.set_ylabel(\"Czy1_Czy2_abmag_rel (mmag)\")\n",
    "ax.set_title(\"Relative color difference Z-Y from star1,star2\")\n",
    "ax.legend(loc=\"upper left\")\n",
    "\n",
    "labels = [item.get_text() for item in cbar.ax.get_yticklabels()]\n",
    "Nlabels = len(labels)\n",
    "\n",
    "\n",
    "\n",
    "# If want to change the number of labels\n",
    "#cbar.ax.locator_params(axis='y', nbins=2*Nlabels) \n",
    "#labels = [item.get_text() for item in cbar.ax.get_yticklabels()]\n",
    "\n",
    "#Nlabels = len(labels)\n",
    "#newlabels = []\n",
    "#for ilab in range(0,Nlabels-1):\n",
    "#    the_label = float(labels[ilab])\n",
    "#    print(the_label)\n",
    "#    the_alpha = np.interp(the_label, all_zerocoldiff, all_alphas)\n",
    "#    newlabels.append(f\"coldiff = {the_label:.1f}\\n exp = {the_alpha:.1f}\")\n",
    "#cbar.ax.set_yticklabels(newlabels,rotation=0);\n",
    "plt.tight_layout()\n"
   ]
  },
  {
   "cell_type": "markdown",
   "id": "4837da44-55e6-43be-ab1e-426b817200bb",
   "metadata": {},
   "source": [
    "## Loop2 : Difference color curve between slanted slopes\n",
    "\n",
    "- Note all calculation are done for airmass = 1"
   ]
  },
  {
   "cell_type": "code",
   "execution_count": null,
   "id": "efc75922-e941-4cc4-b31b-6f6748cfcfd5",
   "metadata": {},
   "outputs": [],
   "source": [
    "# container for color difference\n",
    "\n",
    "all_zerocoldiff_l2 = []\n",
    "all_colordiffcurves_l2 = []\n",
    "\n",
    "# container for exponent difference\n",
    "all_alphadiff_l2 = []\n",
    "\n",
    "Nsed = len(all_seds)\n",
    "for idx in range(Nsed):\n",
    "    the_sed1 = all_seds[idx]\n",
    "    the_sed2 = all_seds[Nsed-1-idx]\n",
    "    alphadiff = all_alphas[idx] - all_alphas[Nsed-1-idx]\n",
    "    all_df_magcol = ComputeColors(pc1,the_sed1,the_sed2)   # airmass = 1\n",
    "    df_diffcol = ComputeRelativeDiffColor(all_df_magcol)\n",
    "    # the color difference for PWV = 0\n",
    "    z_y0 = df_diffcol.loc[0,\"Czy1_Czy2_abmag\"]\n",
    "    all_zerocoldiff_l2.append(z_y0)\n",
    "    all_colordiffcurves_l2.append(df_diffcol) \n",
    "    all_alphadiff_l2.append(alphadiff) \n",
    "all_zerocoldiff_l2 = np.array(all_zerocoldiff_l2)    \n",
    "all_alphadiff_l2 = np.array(all_alphadiff_l2) "
   ]
  },
  {
   "cell_type": "code",
   "execution_count": null,
   "id": "08b1982a-5a18-4a0c-9582-b65d62177c7d",
   "metadata": {},
   "outputs": [],
   "source": [
    "fig,ax = plt.subplots(1,1,figsize=(8,6))\n",
    "ax.plot(all_alphadiff_l2,all_zerocoldiff_l2,'b-',label=\"with $\\\\delta \\\\alpha$\")\n",
    "ax.plot(all_alphas,all_zerocoldiff3,'r-',label =\"with $\\\\alpha - 0$ (wrt flat sed)\")\n",
    "ax.set_title(\"Color difference vs $f_\\\\nu(\\\\lambda)$ exponent difference \")\n",
    "ax.set_xlabel(\"$\\delta \\\\alpha $\")\n",
    "#ax.set_ylabel(\"Color diff (pwv = 0 mm)\")\n",
    "ax.set_ylabel(\"$\\Delta_{12} (Z-Y)$ mag (pwv = 0 mm)\")\n",
    "\n",
    "textstr1 = \"$f_\\\\nu(\\\\lambda) = (\\\\lambda/\\\\lambda_b)^\\\\alpha$\"\n",
    "textstr2 = \"$f_\\\\nu^\\prime(\\lambda_b) = \\\\alpha$\"\n",
    "textstr = \"\\n\".join((textstr1,textstr2))\n",
    "\n",
    "ax.text(0.05, 0.95, textstr, transform=ax.transAxes, fontsize=14,\n",
    "        verticalalignment='top', bbox=props)\n",
    "ax.legend(loc=\"lower right\")"
   ]
  },
  {
   "cell_type": "code",
   "execution_count": null,
   "id": "4407981f-a27b-4561-aa6e-bda4b993218c",
   "metadata": {},
   "outputs": [],
   "source": [
    "# wavelength bin colors\n",
    "jet = plt.get_cmap('jet')\n",
    "cNorm = mpl.colors.Normalize(vmin=all_zerocoldiff_l2.min(), vmax=all_zerocoldiff_l2.max())\n",
    "scalarMap = cmx.ScalarMappable(norm=cNorm, cmap=jet)"
   ]
  },
  {
   "cell_type": "code",
   "execution_count": null,
   "id": "84f8a513-b696-48c4-b3a0-50326a802265",
   "metadata": {},
   "outputs": [],
   "source": [
    "fig,(ax,ax2) = plt.subplots(1,2,figsize=(18,6),sharey = 1)\n",
    "\n",
    "for idx,the_color_curve in enumerate(all_colordiffcurves_l2):\n",
    "    z_y0 = all_zerocoldiff_l2[idx]\n",
    "    the_color = scalarMap.to_rgba(z_y0, alpha=1)\n",
    "    ax.plot(the_color_curve.pwv,the_color_curve.Czy1_Czy2_instmag_rel,c=the_color)\n",
    "\n",
    "cbar = fig.colorbar(scalarMap,ax=ax, orientation='vertical', label='$\\Delta_{12}C_{zy}$(pwv=0) (mag)')    \n",
    "ax.set_xlabel(\"pwv (mm)\")    \n",
    "#ax.set_ylabel(\"Czy1_Czy2_abmag_rel (mmag)\")\n",
    "ax.set_ylabel(\"$\\delta_{12}C_{zy}(pwv)$ (mmag)\")\n",
    "ax.set_title(\"Color correction for seds with $\\\\delta \\\\alpha$\")\n",
    "\n",
    "labels = [item.get_text() for item in cbar.ax.get_yticklabels()]\n",
    "Nlabels = len(labels)\n",
    "\n",
    "# If want to change the number of labels\n",
    "#cbar.ax.locator_params(axis='y', nbins=2*Nlabels) \n",
    "#labels = [item.get_text() for item in cbar.ax.get_yticklabels()]\n",
    "\n",
    "#Nlabels = len(labels)\n",
    "#newlabels = []\n",
    "#for ilab in range(0,Nlabels-1):\n",
    "#    the_label = float(labels[ilab])\n",
    "#    print(the_label)\n",
    "#    the_alpha = np.interp(the_label, all_zerocoldiff, all_alphas)\n",
    "#    newlabels.append(f\"coldiff = {the_label:.1f}\\n exp = {the_alpha:.1f}\")\n",
    "#cbar.ax.set_yticklabels(newlabels,rotation=0);\n",
    "#plt.tight_layout()\n",
    "ax.grid()\n",
    "\n",
    "\n",
    "for idx,the_color_curve in enumerate(all_colordiffcurves):\n",
    "  \n",
    "    z_y01 = all_zerocoldiff1[idx]\n",
    "    the_color_curve1 = all_colordiffcurves1[idx] # am = 1.0\n",
    "    the_color1 = scalarMap.to_rgba(z_y01, alpha=1)\n",
    "    ax2.plot(the_color_curve1.pwv,the_color_curve1.Czy1_Czy2_instmag_rel,c=the_color1)\n",
    "        \n",
    "\n",
    "\n",
    "cbar = fig.colorbar(scalarMap,ax=ax2, orientation='vertical', label='$\\Delta_{12}C_{zy}$(pwv=0) (mag)')    \n",
    "ax2.set_xlabel(\"pwv (mm) in obs direction (pwv(z=1) x z)\")    \n",
    "ax2.set_ylabel(\"$\\delta_{12}C_{zy}(pwv)$ (mmag)\")\n",
    "#ax.set_ylabel(\"Czy1_Czy2_abmag_rel (mmag)\")\n",
    "ax2.set_title(\"Color correction for sed/ flat sed with $\\\\delta \\\\alpha = \\\\alpha - 0$\")\n",
    "ax2.legend(loc=\"upper left\")\n",
    "ax2.grid()"
   ]
  },
  {
   "cell_type": "markdown",
   "id": "0121d363-68f3-4569-b1f4-a72866abc965",
   "metadata": {},
   "source": [
    "### Plot Color difference correction term for PWV > 0 and airmass = 1"
   ]
  },
  {
   "cell_type": "code",
   "execution_count": null,
   "id": "d71c0546-86b2-4891-b788-092c65e71c85",
   "metadata": {},
   "outputs": [],
   "source": [
    "fig,ax = plt.subplots(1,1,figsize=(10,6))\n",
    "\n",
    "for idx,the_color_curve in enumerate(all_colordiffcurves_l2):\n",
    "    z_y0 = all_zerocoldiff_l2[idx]\n",
    "    the_color = scalarMap.to_rgba(z_y0, alpha=1)\n",
    "    ax.plot(the_color_curve.pwv,the_color_curve.Czy1_Czy2_instmag_rel,c=the_color)\n",
    "\n",
    "cbar = fig.colorbar(scalarMap,ax=ax, orientation='vertical', label='$\\Delta_{12}C_{zy}$(pwv=0) (mag)')    \n",
    "ax.set_xlabel(\"pwv (mm)\")    \n",
    "#ax.set_ylabel(\"Czy1_Czy2_abmag_rel (mmag)\")\n",
    "ax.set_ylabel(\"$\\delta_{12}C_{zy}(pwv)$ (mmag)\")\n",
    "ax.set_title(\"Relative color difference Z-Y from star1,star2\")\n",
    "ax.set_xscale('log')\n",
    "ax.set_yscale('symlog')\n",
    "labels = [item.get_text() for item in cbar.ax.get_yticklabels()]\n",
    "Nlabels = len(labels)\n",
    "ax.grid()\n",
    "# If want to change the number of labels\n",
    "#cbar.ax.locator_params(axis='y', nbins=2*Nlabels) \n",
    "#labels = [item.get_text() for item in cbar.ax.get_yticklabels()]\n",
    "\n",
    "#Nlabels = len(labels)\n",
    "#newlabels = []\n",
    "#for ilab in range(0,Nlabels-1):\n",
    "#    the_label = float(labels[ilab])\n",
    "#    print(the_label)\n",
    "#    the_alpha = np.interp(the_label, all_zerocoldiff, all_alphas)\n",
    "#    newlabels.append(f\"coldiff = {the_label:.1f}\\n exp = {the_alpha:.1f}\")\n",
    "#cbar.ax.set_yticklabels(newlabels,rotation=0);\n",
    "plt.tight_layout()"
   ]
  },
  {
   "cell_type": "markdown",
   "id": "f1a3ee27-dcb3-4085-b7f3-2061e957fccd",
   "metadata": {},
   "source": [
    "## Interpolator\n",
    "\n",
    "- grid in points (pwv,$\\Delta C_{zy} (pwv=0)$)\n",
    "- the interpolated function is $\\delta C_{ZY}$"
   ]
  },
  {
   "cell_type": "code",
   "execution_count": null,
   "id": "6b62b952-1137-466c-88fe-f771058dcb77",
   "metadata": {
    "tags": []
   },
   "outputs": [],
   "source": [
    "from scipy.interpolate import RegularGridInterpolator"
   ]
  },
  {
   "cell_type": "code",
   "execution_count": null,
   "id": "074b5556-e86f-4d59-8dfc-f2aa2a534517",
   "metadata": {
    "tags": []
   },
   "outputs": [],
   "source": [
    "nx = len(all_pwv)\n",
    "ny = len(all_zerocoldiff_l2)\n",
    "datagrid = np.zeros((ny,nx))\n",
    "xg, yg = np.meshgrid(all_pwv, all_zerocoldiff_l2 , indexing='ij')"
   ]
  },
  {
   "cell_type": "code",
   "execution_count": null,
   "id": "3aeb9b78-148b-4f7e-bfa8-14cee81296eb",
   "metadata": {
    "tags": []
   },
   "outputs": [],
   "source": [
    "for idx,the_color_curve in enumerate(all_colordiffcurves_l2):\n",
    "    z_y0 = all_zerocoldiff_l2[idx]\n",
    "    datagrid[idx,:] = the_color_curve.Czy1_Czy2_instmag_rel"
   ]
  },
  {
   "cell_type": "code",
   "execution_count": null,
   "id": "ba853fdf-7662-4814-a887-034e0e4d0336",
   "metadata": {
    "tags": []
   },
   "outputs": [],
   "source": [
    "fig,(ax1,ax2,ax3) = plt.subplots(3,1,figsize=(12,12))\n",
    "im = ax1.imshow(datagrid,origin=\"lower\",cmap=\"jet\",\n",
    "           extent=(all_pwv.min(),all_pwv.max(),all_zerocoldiff_l2.min(),all_zerocoldiff_l2.max()),aspect='auto')\n",
    "cbar = fig.colorbar(im, ax=ax1)\n",
    "cbar.set_label(\"$\\\\delta C_{zy}(pwv,\\\\Delta C_{zy}(PWV0))$ (mmag)\")\n",
    "\n",
    "ax1.set_title(\"Interpolated function $\\\\delta C_{zy}(pwv,\\\\Delta C_{zy}(PWV0))$ \")\n",
    "ax1.set_ylabel(\"$\\Delta C_{zy} (pwv=0)$\")\n",
    "ax1.set_xlabel(\"pwv (mm)\")\n",
    "\n",
    "#ax1.set_aspect('auto')\n",
    "\n",
    "ax2.plot(all_pwv, datagrid[-1,:],'r-')\n",
    "ax2.set_xlabel(\"pwv (mm)\")\n",
    "ax2.set_ylabel(\"$\\\\delta C_{zy}(pwv,\\\\Delta C_{zy}(PWV0))$ (mmag)\")\n",
    "\n",
    "ax3.plot(all_pwv, datagrid[0,:],'b-')\n",
    "ax3.set_xlabel(\"pwv (mm)\")\n",
    "ax3.set_ylabel(\"$\\\\delta C_{zy}(pwv,\\\\Delta C_{zy}(PWV0))$ (mmag)\")\n",
    "\n",
    "plt.tight_layout()\n",
    "plt.show()"
   ]
  },
  {
   "cell_type": "markdown",
   "id": "ab2c32ac-4f47-4d4d-b87e-e82830889e69",
   "metadata": {},
   "source": [
    "### Check the interpolation"
   ]
  },
  {
   "cell_type": "code",
   "execution_count": null,
   "id": "82054d97-edaa-47cc-a8c5-494d91e58b98",
   "metadata": {
    "tags": []
   },
   "outputs": [],
   "source": [
    "interp = RegularGridInterpolator((all_pwv, all_zerocoldiff_l2), datagrid.T, bounds_error=False, fill_value=None)"
   ]
  },
  {
   "cell_type": "code",
   "execution_count": null,
   "id": "6ced72b5-8bd5-4b0f-9ea3-44d47e677f3c",
   "metadata": {
    "tags": []
   },
   "outputs": [],
   "source": [
    "fig, ax = plt.subplots(1,1,figsize=(10,6))\n",
    "\n",
    "for z_y0 in all_zerocoldiff_l2:\n",
    "    the_color = scalarMap.to_rgba(z_y0, alpha=1)\n",
    "    \n",
    "    pts = list(zip(all_pwv,z_y0*np.ones(len(all_pwv))))  \n",
    "    c = interp(pts)\n",
    "    ax.plot(all_pwv,c,'-',c=the_color)\n",
    "    \n",
    "cbar = fig.colorbar(scalarMap,ax=ax, orientation='vertical', label='$\\Delta_{12}C_{zy}$(pwv=0) (mag)')    \n",
    "ax.set_xlabel(\"pwv (mm)\")    \n",
    "#ax.set_ylabel(\"Czy1_Czy2_abmag_rel (mmag)\")\n",
    "ax.set_ylabel(\"$\\delta_{12}C_{zy}(pwv)$ (mmag)\")\n",
    "ax.set_title(\"Stars Color difference Z-Y\")"
   ]
  },
  {
   "cell_type": "markdown",
   "id": "56e4e383-83d8-4625-aaa4-342e8120f184",
   "metadata": {},
   "source": [
    "## Save files"
   ]
  },
  {
   "cell_type": "code",
   "execution_count": null,
   "id": "900b9368-ceec-4e9c-9dbf-48f6d3abbb49",
   "metadata": {},
   "outputs": [],
   "source": [
    "file0_out = f\"{OBS_tag}_atmosphericzycolorgrid_params.pickle\"\n",
    "file1_out = f\"{OBS_tag}_atmosphericzycolorgrid_datagrid.npy\""
   ]
  },
  {
   "cell_type": "code",
   "execution_count": null,
   "id": "0ca718ea-d507-40f2-b9e6-e59f2e243fc1",
   "metadata": {
    "tags": []
   },
   "outputs": [],
   "source": [
    "info_params = {}\n",
    "info_params[\"OBS\"] = OBS_tag"
   ]
  },
  {
   "cell_type": "code",
   "execution_count": null,
   "id": "a24c7d67-9925-4d4b-a38a-03b7723b3619",
   "metadata": {
    "tags": []
   },
   "outputs": [],
   "source": [
    "#########################\n",
    "# ### PWV\n",
    "#########################\n",
    "\n",
    "PWVMIN = all_pwv.min()\n",
    "PWVMAX = all_pwv.max()\n",
    "DPWV = np.median(np.diff(all_pwv))\n",
    "pwvs = all_pwv\n",
    "NPWV = len(pwvs)\n",
    "\n",
    "info_params[\"PWVMIN\"] = PWVMIN\n",
    "info_params[\"PWVMAX\"] = PWVMAX\n",
    "info_params[\"NPWV\"] = NPWV \n",
    "info_params[\"DPWV\"] = DPWV \n",
    "info_params[\"PWV\"]  = pwvs\n",
    "\n",
    "msg = f\"pwv - grid : Npoints = {NPWV}, valmin={PWVMIN:.3f} , valmax={PWVMAX:.3f} , valstep= {DPWV:.3f}\"\n",
    "print(msg)\n",
    "print(pwvs)\n",
    "\n",
    "########################\n",
    "# ### Color difference\n",
    "\n",
    "ZYDIFFCOLMIN = all_zerocoldiff_l2.min()\n",
    "ZYDIFFCOLMAX = all_zerocoldiff_l2.max()\n",
    "zycolldiff =  all_zerocoldiff_l2\n",
    "NZYDC = len(zycolldiff)\n",
    "\n",
    "info_params[\"ZYDIFFCOLMIN\"] = ZYDIFFCOLMIN\n",
    "info_params[\"ZYDIFFCOLMAX\"] = ZYDIFFCOLMAX\n",
    "info_params[\"NZYDC\"] = NZYDC\n",
    "info_params[\"ZYCOLDIFF\"]  = zycolldiff\n",
    "\n",
    "msg = f\"Z-Y - grid : Npoints = {NZYDC}, valmin={ZYDIFFCOLMIN:.3f} , valmax={ZYDIFFCOLMAX:.3f}\"\n",
    "print(msg)\n",
    "print(zycolldiff)\n",
    "\n",
    "with open(file0_out, 'wb') as handle:\n",
    "    pickle.dump(info_params, handle, protocol=pickle.HIGHEST_PROTOCOL)\n",
    "    "
   ]
  },
  {
   "cell_type": "code",
   "execution_count": null,
   "id": "be3cb1e8-67ba-4c32-b724-26a87588396f",
   "metadata": {
    "tags": []
   },
   "outputs": [],
   "source": [
    "np.save(file1_out,datagrid, allow_pickle=False)\n",
    "print(f\"...... datagrid file {file1_out} written\")"
   ]
  },
  {
   "cell_type": "code",
   "execution_count": null,
   "id": "f870878d-a475-47d3-840e-00056d765be6",
   "metadata": {},
   "outputs": [],
   "source": []
  }
 ],
 "metadata": {
  "kernelspec": {
   "display_name": "Python 3 (ipykernel)",
   "language": "python",
   "name": "python3"
  },
  "language_info": {
   "codemirror_mode": {
    "name": "ipython",
    "version": 3
   },
   "file_extension": ".py",
   "mimetype": "text/x-python",
   "name": "python",
   "nbconvert_exporter": "python",
   "pygments_lexer": "ipython3",
   "version": "3.11.5"
  }
 },
 "nbformat": 4,
 "nbformat_minor": 5
}
