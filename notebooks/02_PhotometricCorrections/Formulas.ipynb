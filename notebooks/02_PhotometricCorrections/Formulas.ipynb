{
 "cells": [
  {
   "cell_type": "markdown",
   "id": "ca144cc3-2362-4db4-b720-766f1f4cd7f1",
   "metadata": {},
   "source": [
    "# Formulas"
   ]
  },
  {
   "cell_type": "markdown",
   "id": "effa3cc3-81d3-41da-8860-bb59c812acb8",
   "metadata": {},
   "source": [
    "$\n",
    "\\underbrace{m_{b\\, AB}^{std}}_\\textrm{AB magnitude} = \\underbrace{-2.5 \\log_{10}(ADU^{obs}(t))}_\\textrm{instrum. magnitude} + \\overbrace{2.5 \\log_{10}\\left(\\Pi_{0\\,b}^{obs}(t)\\right)}^\\textrm{atm. and det. attenuation} + \\underbrace{\\frac{2.5}{\\ln(10)}\\overbrace{f^{\\prime}(\\lambda_b)}^\\textrm{SED slope}(\\Pi_{1\\,b}^{std} -  \\Pi_{1\\,b}^{obs}(t))}_\\textrm{SED color term } + \\overbrace{ZPT_{CCD}(x,y,t)}^\\textrm{zero-point}\n",
    "$"
   ]
  },
  {
   "cell_type": "markdown",
   "id": "6caf17e3-766c-424f-8b4c-946dadb285aa",
   "metadata": {},
   "source": [
    "$ZPT_{CCD}(x,y,t) =  2.5 \\log_{10} \\left(\\frac{F_0 A \\Delta T(t)}{g_{el}(x,y) h} \\right)  $"
   ]
  },
  {
   "cell_type": "markdown",
   "id": "9c8c0f92-5847-4213-9086-30347f9eb00d",
   "metadata": {},
   "source": [
    "$f^\\prime(\\lambda_b) = \\frac{1}{F_\\nu(\\lambda_b)}\\frac{dF\\nu}{d\\lambda}(\\lambda_b)$ "
   ]
  },
  {
   "cell_type": "markdown",
   "id": "6842d382-f408-4765-9644-17c8cb047f31",
   "metadata": {},
   "source": [
    "$\n",
    "\\phi^{cond}_b(\\lambda) = \\frac{S_b^{cond}(\\lambda) \\frac{1}{\\lambda}}{\\int S_b^{cond}(\\lambda) \\frac{d \\lambda}{\\lambda}}\n",
    "$"
   ]
  },
  {
   "cell_type": "markdown",
   "id": "6fda582a-6e8c-4ade-a71a-85c842443bb1",
   "metadata": {},
   "source": [
    "$\n",
    "S_b^{cond}(\\lambda) = S^{cond}_{atm}(\\lambda) \\times S_{b\\; inst}^{cond}(\\lambda)\n",
    "$"
   ]
  },
  {
   "cell_type": "markdown",
   "id": "0f01d1db-6e85-4083-8388-d300398e1e3a",
   "metadata": {},
   "source": [
    "$\n",
    "\\mathbb{I}_{0\\,b}^{obs} = \\int S_{b}^{obs}(\\lambda) \\frac{d\\lambda}{\\lambda} \n",
    "$"
   ]
  },
  {
   "cell_type": "markdown",
   "id": "22f93807-4cc9-4e58-b4bf-cb7121ced92b",
   "metadata": {},
   "source": [
    "$\n",
    "\\mathbb{I}_{1\\, b}^{obs} = \\int (\\lambda - \\lambda_b) \\phi_{b}^{obs}(\\lambda) d\\lambda\n",
    "$\n",
    "\n",
    "\n",
    "\n",
    "$\n",
    "\\mathbb{I}_{1\\, b}^{std} = \\int (\\lambda - \\lambda_b) \\phi_{b}^{std}(\\lambda) d\\lambda\n",
    "$"
   ]
  },
  {
   "cell_type": "markdown",
   "id": "756b9683-abf5-4f0f-9c6a-26424bbdc01f",
   "metadata": {},
   "source": [
    "$cond = std \\;{\\rm or} \\; obs$"
   ]
  },
  {
   "cell_type": "markdown",
   "id": "eefe2924-0894-479b-be1b-f07b4b84abbd",
   "metadata": {},
   "source": [
    "$\n",
    "m_{b\\, AB}^{std}(obj_1) - m_{b\\, AB}^{std}(obj_2) \\simeq -2.5 \\left(\\log_{10}(ADU^{obs}(obj_1)- \\log_{10}(ADU^{obs}(obj_2) \\right) \n",
    "+ \\frac{2.5}{\\ln(10)}\\left(f^{\\prime}(\\lambda_b,obj_1)-f^{\\prime}(\\lambda_b,obj_2)\\right)\n",
    "\\times\\left(\\Pi_{1\\,b}^{std} - \\Pi_{1\\,b}^{obs}(t)\\right)\n",
    "$"
   ]
  },
  {
   "cell_type": "code",
   "execution_count": null,
   "id": "a22d485e-85e4-4e61-9a11-366dd5597c33",
   "metadata": {},
   "outputs": [],
   "source": []
  }
 ],
 "metadata": {
  "kernelspec": {
   "display_name": "conda_py310",
   "language": "python",
   "name": "conda_py310"
  },
  "language_info": {
   "codemirror_mode": {
    "name": "ipython",
    "version": 3
   },
   "file_extension": ".py",
   "mimetype": "text/x-python",
   "name": "python",
   "nbconvert_exporter": "python",
   "pygments_lexer": "ipython3",
   "version": "3.10.12"
  }
 },
 "nbformat": 4,
 "nbformat_minor": 5
}
