{
 "cells": [
  {
   "cell_type": "markdown",
   "id": "ad5a3ac3-1d31-4599-995b-fc544a7da5ae",
   "metadata": {},
   "source": [
    "# Simulate Ozone effet on differential color light curves"
   ]
  },
  {
   "cell_type": "markdown",
   "id": "ac5107e7-d490-4e81-9296-6bfb7af6dce4",
   "metadata": {},
   "source": [
    "- author Sylvie Dagoret-Campagne\n",
    "- creation date : 2024/08/31\n",
    "- last update : 2024/08/31 "
   ]
  },
  {
   "cell_type": "code",
   "execution_count": null,
   "id": "1edbe7f0-c493-4659-8949-c17da1b52dfc",
   "metadata": {
    "tags": []
   },
   "outputs": [],
   "source": [
    "import numpy as np\n",
    "import matplotlib.pyplot as plt\n",
    "%matplotlib inline\n",
    "import matplotlib as mpl\n",
    "import matplotlib.colors as colors\n",
    "import matplotlib.cm as cmx\n",
    "from mpl_toolkits.axes_grid1 import make_axes_locatable\n",
    "from matplotlib.colors import LogNorm\n",
    "from matplotlib.gridspec import GridSpec\n",
    "import pandas as pd\n",
    "\n",
    "import matplotlib.ticker                         # here's where the formatter is\n",
    "import os,sys\n",
    "import re\n",
    "import pandas as pd\n",
    "\n",
    "from astropy.io import fits\n",
    "\n",
    "plt.rcParams[\"figure.figsize\"] = (8,6)\n",
    "plt.rcParams[\"axes.labelsize\"] = 'xx-large'\n",
    "plt.rcParams['axes.titlesize'] = 'xx-large'\n",
    "plt.rcParams['xtick.labelsize']= 'xx-large'\n",
    "plt.rcParams['ytick.labelsize']= 'xx-large'\n"
   ]
  },
  {
   "cell_type": "code",
   "execution_count": null,
   "id": "6c416af2-a649-41ef-8515-341c449598e3",
   "metadata": {
    "tags": []
   },
   "outputs": [],
   "source": [
    "from scipy import interpolate\n",
    "from sklearn.neighbors import NearestNeighbors\n",
    "from sklearn.neighbors import KDTree, BallTree"
   ]
  },
  {
   "cell_type": "code",
   "execution_count": null,
   "id": "ce04b895-01a2-4112-aa2c-8953f6a0caee",
   "metadata": {
    "tags": []
   },
   "outputs": [],
   "source": [
    "machine_name = os.uname().nodename\n",
    "path_rubinsimphot = \"repos/repos_w_2024_17/rubinsimphot/src\"\n",
    "if 'sdf' in machine_name:\n",
    "    #machine_name_usdf = 'sdfrome001'\n",
    "    print(\"Set environment for USDF\")\n",
    "    newpythonpath = os.path.join(os.getenv(\"HOME\"),path_rubinsimphot)\n",
    "    sys.path.append(newpythonpath)\n",
    "elif 'dagoret-nb' in machine_name:\n",
    "    print(\"Set environment for USDF Rubin Science Platform\")\n",
    "    newpythonpath = os.path.join(os.getenv(\"HOME\"),path_rubinsimphot)\n",
    "    sys.path.append(newpythonpath)    \n",
    "elif 'mac' in machine_name:\n",
    "    print(\"Be sure to run this notebook in conda environment named conda_py310\")\n",
    "else:\n",
    "    print(f\"Your current machine name is {machine_name}. Check your python environment\")"
   ]
  },
  {
   "cell_type": "markdown",
   "id": "64b70c8e-4988-4468-8229-0967053b812a",
   "metadata": {},
   "source": [
    "## Imports dedicated to this work\n",
    "\n",
    "- import the atmospheric transparency emulator (instead of using libradtran code).\n",
    "- import rubin sim\n",
    "- import libPhotometricCorrections : encapsulate uninteresting calculation details"
   ]
  },
  {
   "cell_type": "markdown",
   "id": "92f9cb84-f4b5-43b7-a9f1-ae284025f4de",
   "metadata": {},
   "source": [
    "### libradtran Emulator"
   ]
  },
  {
   "cell_type": "code",
   "execution_count": null,
   "id": "513cd9b8-f462-4020-a73f-98d4754a6313",
   "metadata": {
    "tags": []
   },
   "outputs": [],
   "source": [
    "from importlib.metadata import version\n",
    "the_ver = version('getObsAtmo')\n",
    "print(f\"Version of getObsAtmo : {the_ver}\")"
   ]
  },
  {
   "cell_type": "code",
   "execution_count": null,
   "id": "4648024a-5e3b-4ab1-ba82-1a6c44802d81",
   "metadata": {
    "tags": []
   },
   "outputs": [],
   "source": [
    "from getObsAtmo import ObsAtmo\n",
    "emul = ObsAtmo(\"AUXTEL\")\n",
    "#emul = ObsAtmo(\"LSST\")"
   ]
  },
  {
   "cell_type": "code",
   "execution_count": null,
   "id": "d19507bc-98e0-4d4e-8d4d-583056b14b6b",
   "metadata": {
    "tags": []
   },
   "outputs": [],
   "source": [
    "WL = emul.GetWL()"
   ]
  },
  {
   "cell_type": "markdown",
   "id": "2d329e0a-b89e-4f88-ae18-63a5c9cc872f",
   "metadata": {},
   "source": [
    "#### Library to fit atmosphere"
   ]
  },
  {
   "cell_type": "code",
   "execution_count": null,
   "id": "bf228a68-73d0-4690-bdbe-1a4d0ae98445",
   "metadata": {
    "tags": []
   },
   "outputs": [],
   "source": [
    "import sys\n",
    "sys.path.append('../lib')\n",
    "#import libAtmosphericFit"
   ]
  },
  {
   "cell_type": "markdown",
   "id": "6be3d51c-8ba7-4654-98bf-0af4b456b1d8",
   "metadata": {},
   "source": [
    "#### Library that encapsulate calculations for Photometric correction"
   ]
  },
  {
   "cell_type": "code",
   "execution_count": null,
   "id": "38724617-a232-45c5-be1d-a7e6e19d6561",
   "metadata": {
    "tags": []
   },
   "outputs": [],
   "source": [
    "# This package encapsulate the calculation on calibration used in this nb\n",
    "from libPhotometricCorrections_auxtel import *"
   ]
  },
  {
   "cell_type": "code",
   "execution_count": null,
   "id": "092ec108-49dd-464a-8d67-1c1a94679f69",
   "metadata": {
    "tags": []
   },
   "outputs": [],
   "source": [
    "def set_photometric_parameters(exptime, nexp, readnoise=None):\n",
    "    # readnoise = None will use the default (8.8 e/pixel). Readnoise should be in electrons/pixel.\n",
    "    photParams = PhotometricParameters(exptime=exptime, nexp=nexp, readnoise=readnoise)\n",
    "    return photParams"
   ]
  },
  {
   "cell_type": "code",
   "execution_count": null,
   "id": "2757add2-5460-4666-a815-c97cd739b1f6",
   "metadata": {
    "tags": []
   },
   "outputs": [],
   "source": [
    "def scale_sed(ref_mag, ref_filter, sed):\n",
    "    fluxNorm = sed.calc_flux_norm(ref_mag, lsst_std[ref_filter])\n",
    "    sed.multiply_flux_norm(fluxNorm)\n",
    "    return sed"
   ]
  },
  {
   "cell_type": "markdown",
   "id": "eefaa645-0a93-4b89-9ed5-8b6bb2c33241",
   "metadata": {},
   "source": [
    "#### library rubin_sim defining LSST parameters, namely for photometric calculations"
   ]
  },
  {
   "cell_type": "code",
   "execution_count": null,
   "id": "4a081d19-aa22-491a-b65c-08dcd684b42a",
   "metadata": {
    "tags": []
   },
   "outputs": [],
   "source": [
    "from rubinsimphot.phot_utils import Bandpass, Sed\n",
    "from rubinsimphot.data import get_data_dir"
   ]
  },
  {
   "cell_type": "markdown",
   "id": "ee546326-5cdf-49e3-8e2b-16cdc7a8a62b",
   "metadata": {},
   "source": [
    "## Configuration"
   ]
  },
  {
   "cell_type": "code",
   "execution_count": null,
   "id": "2fb7e75c-c074-44ad-89dc-d0a814fcceee",
   "metadata": {
    "tags": []
   },
   "outputs": [],
   "source": [
    "am0 =1.20    # airmass\n",
    "pwv0 = 3.0  # Precipitable water vapor vertical column depth in mm\n",
    "oz0 = 300.  # Ozone vertical column depth in Dobson Unit (DU)\n",
    "ncomp=1     # Number of aerosol components\n",
    "tau0= 0.04 # Vertical Aerosol depth (VAOD) \n",
    "beta0 = 1.2 # Aerosol Angstrom exponent"
   ]
  },
  {
   "cell_type": "markdown",
   "id": "efbcb54f-e328-4e77-9177-733671894773",
   "metadata": {},
   "source": [
    "### Initialisation of Atmospheric corrections"
   ]
  },
  {
   "cell_type": "code",
   "execution_count": null,
   "id": "e9aad196-e82d-4477-8c31-173b4a159dde",
   "metadata": {
    "tags": []
   },
   "outputs": [],
   "source": [
    "pc = PhotometricCorrections(am0,pwv0,oz0,tau0,beta0)"
   ]
  },
  {
   "cell_type": "markdown",
   "id": "24110bb1-a4df-43b1-aaca-1b0879a20cd6",
   "metadata": {},
   "source": [
    "### Check standard atmosphere"
   ]
  },
  {
   "cell_type": "code",
   "execution_count": null,
   "id": "cf0cdba5-cbc7-44e9-967f-817f9afaaffb",
   "metadata": {
    "tags": []
   },
   "outputs": [],
   "source": [
    "fig, axs = plt.subplots(1,1,figsize=(6,4))\n",
    "axs.plot(pc.WL,pc.atm_std,'k-')\n",
    "axs.set_xlabel(\"$\\\\lambda$ (nm)\")\n",
    "axs.set_title(\"Standard atmosphere transmission\")"
   ]
  },
  {
   "cell_type": "markdown",
   "id": "faf15d14-6866-445c-befb-503582de6a9c",
   "metadata": {},
   "source": [
    "### Check LSST instrument throughput"
   ]
  },
  {
   "cell_type": "markdown",
   "id": "92cf88bc-ae63-4c3c-9d76-c6c9ab707e3c",
   "metadata": {},
   "source": [
    "Photometric Correction package should find the instrumental passband of LSST"
   ]
  },
  {
   "cell_type": "code",
   "execution_count": null,
   "id": "ccdc6966-cdca-40d3-b6a9-57c4e716c318",
   "metadata": {
    "tags": []
   },
   "outputs": [],
   "source": [
    "fig, axs = plt.subplots(1,1,figsize=(6,4))\n",
    "# loop on filter\n",
    "for index,f in enumerate(filter_tagnames):\n",
    "    \n",
    "    axs.plot(pc.bandpass_inst[f].wavelen,pc.bandpass_inst[f].sb,color=filter_color[index]) \n",
    "    axs.fill_between(pc.bandpass_inst[f].wavelen,pc.bandpass_inst[f].sb,color=filter_color[index],alpha=0.2) \n",
    "    axs.axvline(FILTERWL[index,2],color=filter_color[index],linestyle=\"-.\")\n",
    "    \n",
    "axs.set_xlabel(\"$\\\\lambda$ (nm)\")\n",
    "axs.set_title(\"Instrument throughput (auxtel)\")"
   ]
  },
  {
   "cell_type": "markdown",
   "id": "8b2d52db-c587-4ff8-995d-04adecbdcf2d",
   "metadata": {},
   "source": [
    "### Check LSST standard Filter throughputs"
   ]
  },
  {
   "cell_type": "code",
   "execution_count": null,
   "id": "09c70134-eda6-4c9e-83a0-e76510e86e97",
   "metadata": {
    "tags": []
   },
   "outputs": [],
   "source": [
    "fig, axs = plt.subplots(1,1,figsize=(6,4))\n",
    "# loop on filter\n",
    "for index,f in enumerate(filter_tagnames):\n",
    "    \n",
    "    axs.plot(pc.bandpass_total_std[f].wavelen,pc.bandpass_total_std[f].sb,color=filter_color[index]) \n",
    "    axs.fill_between(pc.bandpass_total_std[f].wavelen,pc.bandpass_total_std[f].sb,color=filter_color[index],alpha=0.2) \n",
    "    axs.axvline(FILTERWL[index,2],color=filter_color[index],linestyle=\"-.\")\n",
    "    \n",
    "axs.set_xlabel(\"$\\\\lambda$ (nm)\")\n",
    "axs.set_title(\"Total filter throughput (auxtel)\")"
   ]
  },
  {
   "cell_type": "markdown",
   "id": "b3e70b79-75ee-47b1-aad1-c4d8c796b248",
   "metadata": {},
   "source": [
    "## Variation of PWV"
   ]
  },
  {
   "cell_type": "code",
   "execution_count": null,
   "id": "8a9d6930-39a2-4a5f-9071-dc33c3afa5cf",
   "metadata": {
    "tags": []
   },
   "outputs": [],
   "source": [
    "am = 1.2\n",
    "oz = 300\n",
    "tau= 0.04\n",
    "beta = 1\n",
    "all_pwv = np.arange(0,10,0.5)\n",
    "NPWV = len(all_pwv)"
   ]
  },
  {
   "cell_type": "code",
   "execution_count": null,
   "id": "7b42b2a6-d556-4dac-aa56-1129b853ca69",
   "metadata": {
    "tags": []
   },
   "outputs": [],
   "source": [
    "pc.CalculateMultiObs(am,all_pwv,oz,tau,beta)"
   ]
  },
  {
   "cell_type": "markdown",
   "id": "fe00c844-cbdf-433b-8457-f31c10dd5502",
   "metadata": {},
   "source": [
    "### PWV variation :  Observed filter and normalized response"
   ]
  },
  {
   "cell_type": "code",
   "execution_count": null,
   "id": "42162a23-c47c-4f79-836b-c88d8cfcff12",
   "metadata": {
    "tags": []
   },
   "outputs": [],
   "source": [
    "NOBS = len(all_pwv)\n",
    "\n",
    "# wavelength bin colors\n",
    "jet = plt.get_cmap('jet')\n",
    "cNorm = colors.Normalize(vmin=0, vmax=NOBS)\n",
    "scalarMap = cmx.ScalarMappable(norm=cNorm, cmap=jet)\n",
    "all_colors = scalarMap.to_rgba(np.arange(NOBS), alpha=1)\n",
    "\n",
    "\n",
    "fig = plt.figure(figsize=(12,4))\n",
    "\n",
    "# Figure 1\n",
    "axs=fig.add_subplot(1,2,1)\n",
    "for index,pwv in enumerate(all_pwv):\n",
    "  \n",
    "    atm = pc.coll_atm_nonstd[index]\n",
    "    \n",
    "    label = f\"pwv={pwv:.1f}\" \n",
    "    axs.plot(pc.WL,atm,color=all_colors[index],label=label,lw=0.5)\n",
    "   \n",
    "axs.plot(pc.WL,pc.atm_std,color=\"k\",lw=2,label=\"standard atmosphere\")\n",
    "#axs.legend(bbox_to_anchor=(1.03, 1.0))  \n",
    "axs.set_xlabel(\"$\\lambda$ (nm)\")\n",
    "axs.set_title(\"standard and observed transmission\")\n",
    "\n",
    "ax2 = axs.twinx()\n",
    "for ifilt,f in enumerate(filter_tagnames):\n",
    "    ax2.fill_between(pc.bandpass_total_std[f].wavelen,pc.bandpass_total_std[f].sb,color=filter_color[ifilt],alpha=0.1) \n",
    "    ax2.set_yticks([])\n",
    "\n",
    "\n",
    "\n",
    "# Figure 2\n",
    "axs=fig.add_subplot(1,2,2)\n",
    "\n",
    "all_linestyles = ['-','--','-.',':','-','--','-.',':','-','--','-.',':','-','--','-.',':']\n",
    "\n",
    "# wavelength bin colors\n",
    "jet = plt.get_cmap('jet')\n",
    "cNorm = colors.Normalize(vmin=0, vmax=NOBS)\n",
    "scalarMap = cmx.ScalarMappable(norm=cNorm, cmap=jet)\n",
    "all_colors = scalarMap.to_rgba(np.arange(NOBS), alpha=1)\n",
    "\n",
    "\n",
    "for idx_pwv,pwv in enumerate(all_pwv):\n",
    "    \n",
    "    label = f\"pwv={pwv:.1f}\"\n",
    "    \n",
    "    for ifilt,f in enumerate(filter_tagnames):\n",
    "        \n",
    "        the_x=pc.WL\n",
    "        the_y=pc.coll_phiArray_nonstd[idx_pwv][ifilt,:]\n",
    "       \n",
    "        \n",
    "        if ifilt==1:\n",
    "            axs.plot(the_x,the_y,color=all_colors[idx_pwv],linestyle=\"-\",label=label )\n",
    "        else:\n",
    "            axs.plot(the_x,the_y,color=all_colors[idx_pwv],linestyle=\"-\")\n",
    "\n",
    "axs.set_xlabel(\"$\\lambda$ (nm)\")\n",
    "axs.set_title(\"Normalized observed transmission\")\n",
    "#axs.legend(bbox_to_anchor=(1.03, 1.0))  \n",
    "\n",
    "\n",
    "plt.tight_layout()\n",
    "plt.show()\n",
    "\n"
   ]
  },
  {
   "cell_type": "markdown",
   "id": "b5ebad46-cafd-4ef9-a081-b508ff20c110",
   "metadata": {},
   "source": [
    "## SED"
   ]
  },
  {
   "cell_type": "code",
   "execution_count": null,
   "id": "758940f6-acfe-472a-9416-2f9d715a11df",
   "metadata": {
    "tags": []
   },
   "outputs": [],
   "source": [
    "# Find the throughputs directory \n",
    "#fdir = os.getenv('RUBIN_SIM_DATA_DIR')\n",
    "fdir = get_data_dir()\n",
    "if fdir is None:  #environment variable not set\n",
    "    fdir = os.path.join(os.getenv('HOME'), 'rubin_sim_data')"
   ]
  },
  {
   "cell_type": "code",
   "execution_count": null,
   "id": "dd69f501-84e4-4293-8b3a-3a38424c2920",
   "metadata": {
    "tags": []
   },
   "outputs": [],
   "source": [
    "seddir = os.path.join(fdir, 'pysynphot', 'pickles')"
   ]
  },
  {
   "cell_type": "code",
   "execution_count": null,
   "id": "b08b7e77-1d53-4201-871c-fb10d5eb90e7",
   "metadata": {
    "tags": []
   },
   "outputs": [],
   "source": [
    "seddir_uvi = os.path.join(seddir,\"dat_uvi\")\n",
    "seddir_uvk = os.path.join(seddir,\"dat_uvk\")"
   ]
  },
  {
   "cell_type": "code",
   "execution_count": null,
   "id": "16585a26-9b08-4e7e-a607-27ddbde1569d",
   "metadata": {
    "tags": []
   },
   "outputs": [],
   "source": [
    "all_pickles_uvi = sorted(os.listdir(seddir_uvi))\n",
    "all_pickles_uvk = sorted(os.listdir(seddir_uvk))"
   ]
  },
  {
   "cell_type": "code",
   "execution_count": null,
   "id": "eefc36a2-baeb-4a74-97f1-a5feba504d5c",
   "metadata": {
    "tags": []
   },
   "outputs": [],
   "source": [
    "file_ref = os.path.join(seddir_uvk, \"pickles_uk.fits\")"
   ]
  },
  {
   "cell_type": "code",
   "execution_count": null,
   "id": "4a869ecd-1963-4cba-935d-23bec585df10",
   "metadata": {
    "tags": []
   },
   "outputs": [],
   "source": [
    "hdul = fits.open(file_ref)"
   ]
  },
  {
   "cell_type": "code",
   "execution_count": null,
   "id": "3a55c9a4-c5bb-4ede-a7df-bdbc1d087508",
   "metadata": {
    "tags": []
   },
   "outputs": [],
   "source": [
    "df_pickle = pd.DataFrame(hdul[1].data)"
   ]
  },
  {
   "cell_type": "code",
   "execution_count": null,
   "id": "0b751726-e0ec-4e2b-8ef0-5477d363f09c",
   "metadata": {
    "tags": []
   },
   "outputs": [],
   "source": [
    "df_pickle"
   ]
  },
  {
   "cell_type": "code",
   "execution_count": null,
   "id": "28bca611-c426-4aa9-8e1f-7c6368d9dbae",
   "metadata": {
    "tags": []
   },
   "outputs": [],
   "source": [
    "NSED = len(df_pickle)"
   ]
  },
  {
   "cell_type": "code",
   "execution_count": null,
   "id": "6d2910db-c871-4644-bb21-bff9d73a3099",
   "metadata": {
    "tags": []
   },
   "outputs": [],
   "source": [
    "# wavelength bin colors\n",
    "jet = plt.get_cmap('jet')\n",
    "cNorm = mpl.colors.Normalize(vmin=0, vmax=NSED)\n",
    "scalarMap = cmx.ScalarMappable(norm=cNorm, cmap=jet)\n",
    "all_colors = scalarMap.to_rgba(np.arange(NSED), alpha=1)"
   ]
  },
  {
   "cell_type": "code",
   "execution_count": null,
   "id": "9ba3bc3a-ec63-4cea-932c-9046935ab079",
   "metadata": {},
   "outputs": [],
   "source": [
    "fig, ax = plt.subplots(figsize=(18, 0.6), layout='constrained')\n",
    "cmap = mpl.cm.jet\n",
    "norm = mpl.colors.Normalize(vmin=0, vmax=NSED)\n",
    "cbar = fig.colorbar(mpl.cm.ScalarMappable(norm=norm, cmap=cmap),cax=ax, orientation='horizontal', label='spectral type')\n",
    "\n",
    "# change the number of labels\n",
    "labels = [item.get_text() for item in cbar.ax.get_xticklabels()]\n",
    "cbar.ax.locator_params(axis='x', nbins=4*len(labels)) \n",
    "labels = [item.get_text() for item in cbar.ax.get_xticklabels()]\n",
    "\n",
    "# rename the labels\n",
    "Nlabels = len(labels)\n",
    "for ilab in range(0,Nlabels-1):\n",
    "    the_label = int(labels[ilab])\n",
    "    labels[ilab] = df_pickle.loc[the_label,\"SPTYPE\"]\n",
    "cbar.ax.set_xticklabels(labels,rotation=45);\n",
    "plt.show()"
   ]
  },
  {
   "cell_type": "code",
   "execution_count": null,
   "id": "a1cd0291-ae1c-4c9d-9eea-a45538f4831d",
   "metadata": {
    "tags": []
   },
   "outputs": [],
   "source": [
    "fig,ax = plt.subplots(1,1,figsize=(8,6))\n",
    "for index in np.arange(NSED):\n",
    "    filename = df_pickle.loc[index,\"FILENAME\"].strip()+\".fits\"\n",
    "    fullfilename = os.path.join(seddir_uvk,filename) \n",
    "    hdul = fits.open(fullfilename)\n",
    "    dff = pd.DataFrame(hdul[1].data)\n",
    "    if index <= 103 or index >= 105:\n",
    "        ax.plot(dff.WAVELENGTH,dff.FLUX,color=all_colors[index])\n",
    "ax.set_yscale('log')\n",
    "ax.set_xlim(3000.,11000)\n",
    "ax.set_ylim(1e-11,1e-6)\n",
    "ax.grid()\n",
    "ax.set_title(\"Pickles $F_\\lambda$\")\n",
    "ax.set_ylabel(\"$F_\\lambda$\")\n",
    "ax.set_xlabel(\"$\\lambda \\, (\\AA$)\")\n",
    "#plt.colorbar(ax.collections[0],ax=ax,orientation = 'horizontal',shrink=0.8)\n",
    "#ax.collections[-1].colorbar\n"
   ]
  },
  {
   "cell_type": "markdown",
   "id": "e33b37c0-67bc-4189-aeca-8324c62341ed",
   "metadata": {},
   "source": [
    "## Convert SED in rubinsim format"
   ]
  },
  {
   "cell_type": "code",
   "execution_count": null,
   "id": "6f3b3b5b-f0e6-4697-bc09-1ed35c7d053a",
   "metadata": {
    "tags": []
   },
   "outputs": [],
   "source": [
    "all_sed = []\n",
    "rmag = 20.0\n",
    "for index in np.arange(NSED):\n",
    "    spectype = df_pickle.loc[index,\"SPTYPE\"].strip()\n",
    "    filename = df_pickle.loc[index,\"FILENAME\"].strip()+\".fits\"\n",
    "    fullfilename = os.path.join(seddir_uvk,filename) \n",
    "    hdul = fits.open(fullfilename)\n",
    "    dff = pd.DataFrame(hdul[1].data)\n",
    "    wl= dff.WAVELENGTH.values\n",
    "    flux = dff.FLUX.values\n",
    "    #wavelen (nm)\n",
    "    #flambda (ergs/cm^2/s/nm)\n",
    "    the_sed = Sed(wavelen=wl/10., flambda=flux*10., name=spectype)\n",
    "    flux_norm = the_sed.calc_flux_norm(rmag, pc.bandpass_total_std['r'])\n",
    "    the_sed.multiply_flux_norm(flux_norm)\n",
    "    all_sed.append(the_sed) "
   ]
  },
  {
   "cell_type": "markdown",
   "id": "6b57932c-78e5-4b25-8eef-58e30dc653ed",
   "metadata": {},
   "source": [
    "### Check the calculation of the Magnitude and the ADC counts (observation)"
   ]
  },
  {
   "cell_type": "code",
   "execution_count": null,
   "id": "657c00da-c646-48cd-810f-79dc1f25d027",
   "metadata": {
    "tags": []
   },
   "outputs": [],
   "source": [
    "the_sed1 = all_sed[49]\n",
    "flux_norm = the_sed1.calc_flux_norm(rmag, pc.bandpass_total_std['r'])\n",
    "the_sed1.multiply_flux_norm(flux_norm)\n",
    "\n",
    "the_sed2 = all_sed[129]\n",
    "flux_norm = the_sed2.calc_flux_norm(rmag, pc.bandpass_total_std['r'])\n",
    "the_sed2.multiply_flux_norm(flux_norm)"
   ]
  },
  {
   "cell_type": "code",
   "execution_count": null,
   "id": "6ceed0bd-295a-41fa-b8a2-67980fb66e2d",
   "metadata": {},
   "outputs": [],
   "source": [
    "fig,(ax,ax2) = plt.subplots(1,2,figsize=(16,6))\n",
    "ax.plot(the_sed1 .wavelen,the_sed1 .flambda,\"b-\",label=the_sed1.name)\n",
    "ax.plot(the_sed2.wavelen,the_sed2.flambda,\"r-\",label=the_sed2.name)\n",
    "ax.set_yscale(\"log\")\n",
    "ax.legend()\n",
    "ax.set_ylim(1e-17,1e-14)\n",
    "ax.set_xlim(300.,2000.)\n",
    "ax.set_title(\"Pickles $F_\\lambda$\")\n",
    "ax.set_ylabel(\"$F_\\lambda$\")\n",
    "ax.set_xlabel(\"$\\lambda \\, (\\AA$)\")\n",
    "\n",
    "\n",
    "ax2.plot(the_sed1 .wavelen,the_sed1.fnu,\"b-\",label=the_sed1.name)\n",
    "ax2.plot(the_sed2.wavelen,the_sed2.fnu,\"r-\",label=the_sed2.name)\n",
    "ax2.set_yscale(\"log\")\n",
    "ax2.legend()\n",
    "ax2.set_ylim(1e-7,1e-3)\n",
    "ax2.set_xlim(300.,2000.)\n",
    "ax2.set_title(\"Pickles $F_\\\\nu$\")\n",
    "ax2.set_ylabel(\"$F_\\\\nu$\")\n",
    "ax2.set_xlabel(\"$\\lambda \\, (\\AA$)\")\n",
    "\n",
    "ax3 = ax.twinx()\n",
    "for ifilt,f in enumerate(filter_tagnames):\n",
    "    ax3.fill_between(pc.bandpass_total_std[f].wavelen,pc.bandpass_total_std[f].sb,color=filter_color[ifilt],alpha=0.1) \n",
    "    ax3.set_yticks([])\n",
    "    \n",
    "ax4 = ax2.twinx()\n",
    "for ifilt,f in enumerate(filter_tagnames):\n",
    "    ax4.fill_between(pc.bandpass_total_std[f].wavelen,pc.bandpass_total_std[f].sb,color=filter_color[ifilt],alpha=0.1) \n",
    "    ax4.set_yticks([])"
   ]
  },
  {
   "cell_type": "code",
   "execution_count": null,
   "id": "3981d71e-4704-4de6-bf0e-ae5722ecf4a7",
   "metadata": {
    "tags": []
   },
   "outputs": [],
   "source": [
    "mags_std1 = {}\n",
    "for index,f in enumerate(filter_tagnames) :\n",
    "    mags_std1[f] = the_sed1.calc_mag(pc.bandpass_total_std[f])\n",
    "mags_std1[\"g-r\"] = mags_std1[\"g\"]- mags_std1[\"r\"]  \n",
    "mags_std1[\"z-y\"] = mags_std1[\"z\"]- mags_std1[\"y\"]   \n",
    "df1 = pd.DataFrame(mags_std1, index=[the_sed1.name]).T\n",
    "\n",
    "mags_std2 = {}\n",
    "for index,f in enumerate(filter_tagnames) :\n",
    "    mags_std2[f] = the_sed2.calc_mag(pc.bandpass_total_std[f])\n",
    "mags_std2[\"g-r\"] = mags_std2[\"g\"]- mags_std2[\"r\"]  \n",
    "mags_std2[\"z-y\"] = mags_std2[\"z\"]- mags_std2[\"y\"]   \n",
    "df2 = pd.DataFrame(mags_std2, index=[the_sed2.name]).T\n",
    "dfa =pd.concat([df1,df2],axis=1)\n",
    "dfa"
   ]
  },
  {
   "cell_type": "code",
   "execution_count": null,
   "id": "1c4d2660-0dcd-4597-927a-06c2df1c3e9c",
   "metadata": {
    "tags": []
   },
   "outputs": [],
   "source": [
    "photoparams = set_photometric_parameters(30, 1 , readnoise=None)\n",
    "adcs_stdmag1 = {}\n",
    "for index,f in enumerate(filter_tagnames) :\n",
    "    adcs_stdmag1[f] = -2.5*np.log10(the_sed1.calc_adu(pc.bandpass_total_std[f],photoparams))\n",
    "adcs_stdmag1[\"g-r\"] = adcs_stdmag1[\"g\"]- adcs_stdmag1[\"r\"]  \n",
    "adcs_stdmag1[\"z-y\"] = adcs_stdmag1[\"z\"]- adcs_stdmag1[\"y\"]      \n",
    "df1 = pd.DataFrame(adcs_stdmag1, index=[the_sed1.name]).T\n",
    "\n",
    "adcs_stdmag2 = {}\n",
    "for index,f in enumerate(filter_tagnames) :\n",
    "    adcs_stdmag2[f] = -2.5*np.log10(the_sed2.calc_adu(pc.bandpass_total_std[f],photoparams))\n",
    "adcs_stdmag2[\"g-r\"] = adcs_stdmag2[\"g\"]- adcs_stdmag2[\"r\"]  \n",
    "adcs_stdmag2[\"z-y\"] = adcs_stdmag2[\"z\"]- adcs_stdmag2[\"y\"]      \n",
    "df2 = pd.DataFrame(adcs_stdmag2, index=[the_sed2.name]).T\n",
    "\n",
    "dfb =pd.concat([df1,df2],axis=1)\n",
    "dfb"
   ]
  },
  {
   "cell_type": "markdown",
   "id": "63e23310-eada-4590-8718-384c4718a9bb",
   "metadata": {},
   "source": [
    "## Simulate multi atmospheres"
   ]
  },
  {
   "cell_type": "code",
   "execution_count": null,
   "id": "9bb4ca33-6068-403c-84aa-096742212adf",
   "metadata": {},
   "outputs": [],
   "source": [
    "am = 1.2\n",
    "all_oz = np.arange(0,610.,10.)\n",
    "tau= 0.04\n",
    "beta = 1\n",
    "pwv = 3.0\n",
    "\n",
    "NOZ = len(all_oz)"
   ]
  },
  {
   "cell_type": "code",
   "execution_count": null,
   "id": "5b58857d-e058-47a8-a8d9-6d2eb7914bce",
   "metadata": {},
   "outputs": [],
   "source": [
    "pc.CalculateMultiObs(am,pwv,all_oz,tau,beta)"
   ]
  },
  {
   "cell_type": "code",
   "execution_count": null,
   "id": "8f681c0a-c833-4bb2-9ff2-b3ca02271560",
   "metadata": {},
   "outputs": [],
   "source": [
    "NOBS = len(all_oz)\n",
    "\n",
    "# wavelength bin colors\n",
    "jet = plt.get_cmap('jet')\n",
    "cNorm = colors.Normalize(vmin=0, vmax=NOBS)\n",
    "scalarMap = cmx.ScalarMappable(norm=cNorm, cmap=jet)\n",
    "all_colors = scalarMap.to_rgba(np.arange(NOBS), alpha=1)\n",
    "\n",
    "\n",
    "fig = plt.figure(figsize=(12,8))\n",
    "\n",
    "# Figure 1\n",
    "axs=fig.add_subplot(1,1,1)\n",
    "for index,oz in enumerate(all_oz):\n",
    "\n",
    "    #atm = pc.coll_bandpass_total_nonstd[index]\n",
    "    atm = pc.coll_atm_nonstd[index]\n",
    "    \n",
    "    label = f\"pwv={pwv:.1f}\" \n",
    "    axs.plot(pc.WL,atm,color=all_colors[index],label=label,lw=0.5)\n",
    "   \n",
    "axs.plot(pc.WL,pc.atm_std,color=\"k\",lw=2,label=\"standard atmosphere\")\n",
    "#axs.legend(bbox_to_anchor=(1.03, 1.0))  \n",
    "axs.set_xlabel(\"$\\lambda$ (nm)\")\n",
    "axs.set_title(\"standard and observed transmission\")\n",
    "\n",
    "ax2 = axs.twinx()\n",
    "for ifilt,f in enumerate(filter_tagnames):\n",
    "    ax2.fill_between(pc.bandpass_total_std[f].wavelen,pc.bandpass_total_std[f].sb,color=filter_color[ifilt],alpha=0.1) \n",
    "    ax2.set_yticks([])\n",
    "\n",
    "\n",
    "plt.tight_layout()\n",
    "plt.show()\n"
   ]
  },
  {
   "cell_type": "markdown",
   "id": "f612b745-508e-4430-80a2-46ec44405cf2",
   "metadata": {},
   "source": [
    "## Note the passbands for each of the OZ conditions are in pc.coll_bandpass_total_nonstd"
   ]
  },
  {
   "cell_type": "code",
   "execution_count": null,
   "id": "2565a0c1-43d4-4231-9860-6fdff8bd59ef",
   "metadata": {},
   "outputs": [],
   "source": [
    "len(pc.coll_bandpass_total_nonstd)"
   ]
  },
  {
   "cell_type": "code",
   "execution_count": null,
   "id": "d8939113-2454-41bc-9aca-4d6dd4507c29",
   "metadata": {},
   "outputs": [],
   "source": [
    "pc.coll_bandpass_total_nonstd[0][\"u\"].wavelen[:5]"
   ]
  },
  {
   "cell_type": "code",
   "execution_count": null,
   "id": "fd1e856a-cfb4-45ae-b688-bb6ecf830cca",
   "metadata": {},
   "outputs": [],
   "source": [
    "pc.coll_bandpass_total_nonstd[0][\"u\"].sb[:9]"
   ]
  },
  {
   "cell_type": "code",
   "execution_count": null,
   "id": "4a4b2bc8-0108-46d7-ad17-dd4caacfeb76",
   "metadata": {},
   "outputs": [],
   "source": [
    "NOBS = len(all_oz)\n",
    "\n",
    "# wavelength bin colors\n",
    "jet = plt.get_cmap('jet')\n",
    "cNorm = colors.Normalize(vmin=0, vmax=NOBS)\n",
    "scalarMap = cmx.ScalarMappable(norm=cNorm, cmap=jet)\n",
    "all_colors = scalarMap.to_rgba(np.arange(NOBS), alpha=1)\n",
    "\n",
    "\n",
    "fig = plt.figure(figsize=(12,8))\n",
    "\n",
    "# Figure 1\n",
    "axs=fig.add_subplot(1,1,1)\n",
    "for index,oz in enumerate(all_oz):\n",
    "  \n",
    "    atm_bands = pc.coll_bandpass_total_nonstd[index]\n",
    "    \n",
    "    label = f\"pwv={pwv:.1f}\" \n",
    "\n",
    "    for f in filter_tagnames: \n",
    "        axs.plot(atm_bands[f].wavelen,atm_bands[f].sb,color=all_colors[index],label=label,lw=0.5)\n",
    "   \n",
    "axs.plot(pc.WL,pc.atm_std,color=\"k\",lw=2,label=\"standard atmosphere\")\n",
    "#axs.legend(bbox_to_anchor=(1.03, 1.0))  \n",
    "axs.set_xlabel(\"$\\lambda$ (nm)\")\n",
    "axs.set_title(\"standard and observed transmission\")\n",
    "\n",
    "ax2 = axs.twinx()\n",
    "for ifilt,f in enumerate(filter_tagnames):\n",
    "    ax2.fill_between(pc.bandpass_total_std[f].wavelen,pc.bandpass_total_std[f].sb,color=filter_color[ifilt],alpha=0.1) \n",
    "    ax2.set_yticks([])\n",
    "\n",
    "\n",
    "plt.tight_layout()\n",
    "plt.show()\n"
   ]
  },
  {
   "cell_type": "markdown",
   "id": "385ffc52-c86c-403e-8e76-010af1dcf4c4",
   "metadata": {},
   "source": [
    "## Compute the Magnitudes in all these transmission\n",
    "\n",
    "- in all_df_magcol"
   ]
  },
  {
   "cell_type": "code",
   "execution_count": null,
   "id": "c5679117-7d04-421b-aaa4-d944e7a6d5e5",
   "metadata": {},
   "outputs": [],
   "source": [
    "all_df_magcol = []\n",
    "for index,oz in enumerate(all_oz):\n",
    "    atm_bands = pc.coll_bandpass_total_nonstd[index]\n",
    "    mags_oz1 = {}\n",
    "    mags_oz2 = {}\n",
    "    madus_oz1 = {}\n",
    "    madus_oz2 = {}\n",
    "    for f in filter_tagnames: \n",
    "        mags_oz1[f] = the_sed1.calc_mag(atm_bands[f])\n",
    "        mags_oz2[f] = the_sed2.calc_mag(atm_bands[f])\n",
    "        madus_oz1[f] = -2.5*np.log10(the_sed1.calc_adu(atm_bands[f],photoparams))\n",
    "        madus_oz2[f] = -2.5*np.log10(the_sed2.calc_adu(atm_bands[f],photoparams))\n",
    "    # AB colors for star 1\n",
    "    mags_oz1[\"g-r\"] = mags_oz1[\"g\"]- mags_oz1[\"r\"]  \n",
    "    mags_oz1[\"z-y\"] = mags_oz1[\"z\"]- mags_oz1[\"y\"] \n",
    "    # AB colors for star 2\n",
    "    mags_oz2[\"g-r\"] = mags_oz2[\"g\"]- mags_oz2[\"r\"]  \n",
    "    mags_oz2[\"z-y\"] = mags_oz2[\"z\"]- mags_oz2[\"y\"] \n",
    "    # ADU mag colors for star 1\n",
    "    # MADU colors for star 1\n",
    "    madus_oz1[\"g-r\"] = madus_oz1[\"g\"]- madus_oz1[\"r\"]  \n",
    "    madus_oz1[\"z-y\"] = madus_oz1[\"z\"]- madus_oz1[\"y\"] \n",
    "    # MADU colors for star 2\n",
    "    madus_oz2[\"g-r\"] = madus_oz2[\"g\"]- madus_oz2[\"r\"]  \n",
    "    madus_oz2[\"z-y\"] = madus_oz2[\"z\"]- madus_oz2[\"y\"] \n",
    "        \n",
    "    df1 = pd.DataFrame(mags_oz1, index=[\"abmag_1\"]).T\n",
    "    df2 = pd.DataFrame(mags_oz2, index=[\"abmag_2\"]).T\n",
    "    df3 = pd.DataFrame(madus_oz1, index=[\"instmag_1\"]).T\n",
    "    df4 = pd.DataFrame(madus_oz2, index=[\"instmag_2\"]).T\n",
    "    df = pd.concat([df1,df2,df3,df4],axis=1)\n",
    "    all_df_magcol.append(df)\n",
    "   "
   ]
  },
  {
   "cell_type": "code",
   "execution_count": null,
   "id": "26acdd3b-fe08-4d64-949e-aa81ca4e48b2",
   "metadata": {},
   "outputs": [],
   "source": [
    "all_df_magcol[0]"
   ]
  },
  {
   "cell_type": "markdown",
   "id": "dfed5023-d093-4d95-9632-0b7fb1dba303",
   "metadata": {},
   "source": [
    "## Compute the relative colors of the pair"
   ]
  },
  {
   "cell_type": "code",
   "execution_count": null,
   "id": "83cbe2fe-f62c-4e5a-b037-bf1a79cbb664",
   "metadata": {},
   "outputs": [],
   "source": [
    "df_diffcol = pd.DataFrame(columns=[\"oz\",\"Cgr1_Cgr2_abmag\",\"Cgr1_Cgr2_instmag\"])\n",
    "for index,oz in enumerate(all_oz):\n",
    "    the_df = all_df_magcol[index]\n",
    "    DCgrabmag = the_df.loc[\"g-r\",\"abmag_1\"] - the_df.loc[\"g-r\",\"abmag_2\"]\n",
    "    DCgradumag = the_df.loc[\"g-r\",\"instmag_1\"] - the_df.loc[\"g-r\",\"instmag_2\"]\n",
    "    df_diffcol.loc[index] = [oz,DCgrabmag,DCgradumag]\n",
    "    \n",
    "df_diffcol[\"Cgr1_Cgr2_abmag_rel\"] =  (df_diffcol[\"Cgr1_Cgr2_abmag\"] - df_diffcol.loc[0,\"Cgr1_Cgr2_abmag\"])*1000\n",
    "df_diffcol[\"Cgr1_Cgr2_instmag_rel\"] =  (df_diffcol[\"Cgr1_Cgr2_instmag\"] - df_diffcol.loc[0,\"Cgr1_Cgr2_instmag\"])*1000\n",
    "# differentiation\n",
    "dx = np.diff(df_diffcol.oz.values).mean()\n",
    "dy1 = np.diff(df_diffcol[\"Cgr1_Cgr2_abmag_rel\"].values)\n",
    "dy2 = np.diff(df_diffcol[\"Cgr1_Cgr2_instmag_rel\"].values)\n",
    "g_r0 = df_diffcol.loc[0,\"Cgr1_Cgr2_abmag\"]"
   ]
  },
  {
   "cell_type": "code",
   "execution_count": null,
   "id": "4e620441-5dff-488a-8fc3-9727037bfc42",
   "metadata": {},
   "outputs": [],
   "source": [
    "fig, ax = plt.subplots(1,1,figsize=(8,6))\n",
    "df_diffcol.plot(x=\"oz\",y=\"Cgr1_Cgr2_abmag_rel\",ax=ax,color=\"r\",label=\"AB mag color diff\")\n",
    "df_diffcol.plot(x=\"oz\",y=\"Cgr1_Cgr2_instmag_rel\",ax=ax,color=\"b\",label=\"Inst mag color diff\")\n",
    "\n",
    "ax.set_xlabel(\"Ozone (DU)\")\n",
    "ax.set_ylabel(\"$C_{gr1}-C_{gr2}$ (mmag)\",color=\"b\")\n",
    "ax.set_title(f\"Relative differential color bias\")\n",
    "#ax.yaxis.label.set_color('r')\n",
    "ax.tick_params(axis='y', colors='b')\n",
    "\n",
    "textstr = '\\n'.join((\" relative $C_{gr1}-C_{gr2} = $\"+ f\"{g_r0:.2f} mag\",\"for Ozone = 0 DU\")) \n",
    "# these are matplotlib.patch.Patch properties\n",
    "props = dict(boxstyle='round', facecolor='white', alpha=0.5)\n",
    "\n",
    "# place a text box in upper left in axes coords\n",
    "ax.text(0.1, 0.95, textstr, transform=ax.transAxes, fontsize=14, verticalalignment='top', bbox=props)\n",
    "\n",
    "ax2 = ax.twinx()\n",
    "ax2.plot(df_diffcol.oz.values[:-1],dy1/dx,\":\",color=\"grey\",label=\"dC/doz(ABmag)\")\n",
    "ax2.plot(df_diffcol.oz.values[:-1],dy2/dx,\":\",color=\"grey\",label=\"dC/doz(Instmag)\")\n",
    "ax2.set_ylabel(\"$d(\\Delta C_{gr})/d(oz)$ (mmag)\",color=\"grey\")\n",
    "ax2.set_ylim(-.026,-0.024)\n",
    "ax2.tick_params(axis='y', colors='grey')"
   ]
  },
  {
   "cell_type": "code",
   "execution_count": null,
   "id": "6bd67792-c3b9-4810-bc75-8477d6953ba2",
   "metadata": {},
   "outputs": [],
   "source": [
    "dx = np.diff(df_diffcol.oz.values).mean()"
   ]
  },
  {
   "cell_type": "code",
   "execution_count": null,
   "id": "330b128b-b054-4811-8784-b676dee71d54",
   "metadata": {},
   "outputs": [],
   "source": [
    "dy1 = np.diff(df_diffcol[\"Cgr1_Cgr2_abmag_rel\"].values)\n",
    "dy2 = np.diff(df_diffcol[\"Cgr1_Cgr2_instmag_rel\"].values)"
   ]
  },
  {
   "cell_type": "code",
   "execution_count": null,
   "id": "0bb48a11-649e-4fc2-b7b7-382390c433c6",
   "metadata": {},
   "outputs": [],
   "source": [
    "len(dy1/dx)"
   ]
  },
  {
   "cell_type": "code",
   "execution_count": null,
   "id": "a5e979b9-fa98-4b3b-8b0e-b0bd4697cb27",
   "metadata": {},
   "outputs": [],
   "source": [
    "dy2/dx"
   ]
  },
  {
   "cell_type": "code",
   "execution_count": null,
   "id": "08b1982a-5a18-4a0c-9582-b65d62177c7d",
   "metadata": {},
   "outputs": [],
   "source": []
  }
 ],
 "metadata": {
  "kernelspec": {
   "display_name": "conda_py310",
   "language": "python",
   "name": "conda_py310"
  },
  "language_info": {
   "codemirror_mode": {
    "name": "ipython",
    "version": 3
   },
   "file_extension": ".py",
   "mimetype": "text/x-python",
   "name": "python",
   "nbconvert_exporter": "python",
   "pygments_lexer": "ipython3",
   "version": "3.10.12"
  }
 },
 "nbformat": 4,
 "nbformat_minor": 5
}
