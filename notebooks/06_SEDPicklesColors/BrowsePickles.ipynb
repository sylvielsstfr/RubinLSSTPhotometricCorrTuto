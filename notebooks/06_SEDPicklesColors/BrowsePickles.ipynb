{
 "cells": [
  {
   "cell_type": "markdown",
   "id": "64d6c94e-3718-414b-8e65-98042087a0be",
   "metadata": {},
   "source": [
    "# View pickles star SED\n",
    "\n",
    "- author Sylvie Dagoret-Campagne\n",
    "- creation date : 2024/08/01\n",
    "- update : 2024/09/02\n",
    "- last update : 2024/09/02"
   ]
  },
  {
   "cell_type": "code",
   "execution_count": null,
   "id": "793718bf-2739-4771-91a3-065c4088f418",
   "metadata": {},
   "outputs": [],
   "source": [
    "# Import some generally useful packages\n",
    "\n",
    "import os\n",
    "import numpy as np\n",
    "import matplotlib as mpl\n",
    "import matplotlib.pyplot as plt\n",
    "import matplotlib.colors as colors\n",
    "import matplotlib.cm as cmx\n",
    "%matplotlib inline\n",
    "import pandas as pd\n",
    "from astropy.io import fits"
   ]
  },
  {
   "cell_type": "code",
   "execution_count": null,
   "id": "6017af81-dec9-4479-8b1b-f88fc798a153",
   "metadata": {},
   "outputs": [],
   "source": [
    "plt.rcParams[\"figure.figsize\"] = (8,6)\n",
    "plt.rcParams[\"axes.labelsize\"] = 'x-large'\n",
    "plt.rcParams['axes.titlesize'] = 'xx-large'\n",
    "plt.rcParams['xtick.labelsize']= 'x-large'\n",
    "plt.rcParams['ytick.labelsize']= 'x-large'"
   ]
  },
  {
   "cell_type": "code",
   "execution_count": null,
   "id": "09407831-9be0-48ff-8eda-39481ed6c726",
   "metadata": {},
   "outputs": [],
   "source": [
    "# Import the primary photometry classes from rubin_sim.photUtils\n",
    "from rubinsimphot.phot_utils import Bandpass, Sed\n",
    "from rubinsimphot.data.data_sets import  get_data_dir"
   ]
  },
  {
   "cell_type": "markdown",
   "id": "32dd6783-0678-4531-8bc8-8c5e52851163",
   "metadata": {},
   "source": [
    "## Config"
   ]
  },
  {
   "cell_type": "markdown",
   "id": "ddb4a6de-873b-4a6a-a77c-f95eac780911",
   "metadata": {},
   "source": [
    "### Find where are the data"
   ]
  },
  {
   "cell_type": "code",
   "execution_count": null,
   "id": "d22ef166-ea8b-4822-b3b1-053ce45dbed6",
   "metadata": {},
   "outputs": [],
   "source": [
    "# Find the throughputs directory \n",
    "#fdir = os.getenv('RUBIN_SIM_DATA_DIR')\n",
    "fdir = get_data_dir()\n",
    "if fdir is None:  #environment variable not set\n",
    "    fdir = os.path.join(os.getenv('HOME'), 'rubin_sim_data')\n"
   ]
  },
  {
   "cell_type": "markdown",
   "id": "200c0394-f0c5-4cbb-8423-7a89b44eb69f",
   "metadata": {},
   "source": [
    "#### definition of path"
   ]
  },
  {
   "cell_type": "code",
   "execution_count": null,
   "id": "89e9e74c-9276-4239-b7a9-b7a505e107e7",
   "metadata": {},
   "outputs": [],
   "source": [
    "fauxteldir = os.path.join(fdir, 'throughputs', 'auxtel')\n",
    "flsstdir = os.path.join(fdir, 'throughputs', 'baseline')\n",
    "seddir = os.path.join(fdir, 'pysynphot', 'pickles')"
   ]
  },
  {
   "cell_type": "code",
   "execution_count": null,
   "id": "92a74f37-4b20-4d7c-ad27-7aea42461fbb",
   "metadata": {},
   "outputs": [],
   "source": [
    "#!ls $flsstdir"
   ]
  },
  {
   "cell_type": "code",
   "execution_count": null,
   "id": "9fa5a6be-820f-4d40-8129-853114537da2",
   "metadata": {},
   "outputs": [],
   "source": [
    "#!ls $fauxteldir"
   ]
  },
  {
   "cell_type": "markdown",
   "id": "f491bb95-7923-4ca3-9e72-4a61c0e278b7",
   "metadata": {},
   "source": [
    "#### Read the throughput curves"
   ]
  },
  {
   "cell_type": "code",
   "execution_count": null,
   "id": "68353373-a21e-4d39-a57c-ef3ac92eb2e0",
   "metadata": {},
   "outputs": [],
   "source": [
    "filterlist = ['u', 'g', 'r', 'i', 'z', 'y']\n",
    "filtercolors = {'u':'b', 'g':'c', 'r':'g', 'i':'orange', 'z':'r', 'y':'m'}"
   ]
  },
  {
   "cell_type": "code",
   "execution_count": null,
   "id": "8d144dda-9f5e-41de-9f8c-1966aebd28b6",
   "metadata": {},
   "outputs": [],
   "source": [
    "lsst = {}\n",
    "for f in filterlist:\n",
    "    lsst[f] = Bandpass()\n",
    "    lsst[f].read_throughput(os.path.join(flsstdir, f'hardware_{f}.dat'))"
   ]
  },
  {
   "cell_type": "code",
   "execution_count": null,
   "id": "924219e6-3ab5-4f86-a029-8ea5ab1a3b58",
   "metadata": {},
   "outputs": [],
   "source": [
    "auxtel = {}\n",
    "for f in filterlist:\n",
    "    auxtel[f] = Bandpass()\n",
    "    auxtel[f].read_throughput(os.path.join(fauxteldir, f'auxtel_sdss_{f}p_total.dat'))"
   ]
  },
  {
   "cell_type": "code",
   "execution_count": null,
   "id": "04669d26-02c7-4590-8b03-1416ab362732",
   "metadata": {},
   "outputs": [],
   "source": [
    "# Plot the curves .. see what we have. \n",
    "filtercolors = {'u':'b', 'g':'c', 'r':'g', 'i':'orange', 'z':'r', 'y':'m'}\n",
    "\n",
    "plt.figure(figsize=(8,6))\n",
    "for f in filterlist:\n",
    "    plt.plot(lsst[f].wavelen, lsst[f].sb, color=filtercolors[f], label=f\"LSST {f}\")\n",
    "    plt.plot(auxtel[f].wavelen, auxtel[f].sb,':' ,color=filtercolors[f])\n",
    "plt.xlabel(\"Wavelength (nm)\", fontsize='x-large')\n",
    "plt.ylabel(\"Throughput (0-1)\", fontsize='x-large')\n",
    "plt.ylim(0, 1)\n",
    "plt.grid(True, alpha=0.3, color='gray')\n",
    "plt.legend(loc='upper right', fancybox=True, fontsize='large')"
   ]
  },
  {
   "cell_type": "markdown",
   "id": "2f33b346-16e6-4d76-b496-0afaddd3745f",
   "metadata": {},
   "source": [
    "## SED"
   ]
  },
  {
   "cell_type": "code",
   "execution_count": null,
   "id": "b015252e-9eba-4a51-a73d-ec19656bab1d",
   "metadata": {},
   "outputs": [],
   "source": [
    "! ls $seddir"
   ]
  },
  {
   "cell_type": "code",
   "execution_count": null,
   "id": "9c7a22ac-83c6-4c6a-98fb-8ab56aa23bbe",
   "metadata": {},
   "outputs": [],
   "source": [
    "seddir_uvi = os.path.join(seddir,\"dat_uvi\")\n",
    "seddir_uvk = os.path.join(seddir,\"dat_uvk\")"
   ]
  },
  {
   "cell_type": "code",
   "execution_count": null,
   "id": "54eedb95-5d6e-455b-8932-4238bb795fad",
   "metadata": {},
   "outputs": [],
   "source": [
    "all_pickles_uvi = sorted(os.listdir(seddir_uvi))\n",
    "all_pickles_uvk = sorted(os.listdir(seddir_uvk))"
   ]
  },
  {
   "cell_type": "markdown",
   "id": "5f1631c7-487c-4c08-9ce0-6c0561682e7c",
   "metadata": {},
   "source": [
    "# all_pickles_uvi"
   ]
  },
  {
   "cell_type": "code",
   "execution_count": null,
   "id": "9f762996-54cd-4685-bb68-37a22786c1b0",
   "metadata": {},
   "outputs": [],
   "source": [
    "file_ref = os.path.join(seddir_uvi, \"pickles.fits\")"
   ]
  },
  {
   "cell_type": "code",
   "execution_count": null,
   "id": "9e92ae06-b70a-4e6e-9c28-d3ffb5a8eef7",
   "metadata": {},
   "outputs": [],
   "source": [
    "hdul = fits.open(file_ref)"
   ]
  },
  {
   "cell_type": "code",
   "execution_count": null,
   "id": "8ea0fe31-3eae-47c6-8dab-72bb6354f690",
   "metadata": {},
   "outputs": [],
   "source": [
    "#hdul.info()\n",
    "#hdul[0].header"
   ]
  },
  {
   "cell_type": "code",
   "execution_count": null,
   "id": "0aa00af5-be00-490c-821e-a9b4ccfab8a6",
   "metadata": {},
   "outputs": [],
   "source": [
    "df = pd.DataFrame(hdul[1].data)"
   ]
  },
  {
   "cell_type": "code",
   "execution_count": null,
   "id": "0c87c1cd-1392-44a2-8e4f-712210e5a0c9",
   "metadata": {},
   "outputs": [],
   "source": [
    "df.head()"
   ]
  },
  {
   "cell_type": "code",
   "execution_count": null,
   "id": "09069b24-c856-41a6-9fd6-dbde44f8ecff",
   "metadata": {},
   "outputs": [],
   "source": [
    "NSED = len(df)"
   ]
  },
  {
   "cell_type": "code",
   "execution_count": null,
   "id": "84cf703a-1119-4807-8299-de09b5fe4ec8",
   "metadata": {},
   "outputs": [],
   "source": [
    "# wavelength bin colors\n",
    "jet = plt.get_cmap('jet')\n",
    "cNorm = mpl.colors.Normalize(vmin=0, vmax=NSED)\n",
    "scalarMap = cmx.ScalarMappable(norm=cNorm, cmap=jet)\n",
    "all_colors = scalarMap.to_rgba(np.arange(NSED), alpha=1)"
   ]
  },
  {
   "cell_type": "code",
   "execution_count": null,
   "id": "f1961086-b552-4662-861c-f377e0209043",
   "metadata": {},
   "outputs": [],
   "source": [
    "fig, ax = plt.subplots(figsize=(18, 0.6), layout='constrained')\n",
    "cmap = mpl.cm.jet\n",
    "norm = mpl.colors.Normalize(vmin=0, vmax=NSED)\n",
    "cbar = fig.colorbar(mpl.cm.ScalarMappable(norm=norm, cmap=cmap),cax=ax, orientation='horizontal', label='spectral type')\n",
    "\n",
    "# change the number of labels\n",
    "labels = [item.get_text() for item in cbar.ax.get_xticklabels()]\n",
    "cbar.ax.locator_params(axis='x', nbins=4*len(labels)) \n",
    "labels = [item.get_text() for item in cbar.ax.get_xticklabels()]\n",
    "\n",
    "# rename the labels\n",
    "Nlabels = len(labels)\n",
    "for ilab in range(0,Nlabels-1):\n",
    "    the_label = int(labels[ilab])\n",
    "    labels[ilab] = df.loc[the_label,\"SPTYPE\"]\n",
    "cbar.ax.set_xticklabels(labels,rotation=45);\n",
    "plt.show()"
   ]
  },
  {
   "cell_type": "code",
   "execution_count": null,
   "id": "e9e96532-e2cd-4521-adab-9946bb2b9cc8",
   "metadata": {},
   "outputs": [],
   "source": [
    "fig,ax = plt.subplots(1,1,figsize=(10,6))\n",
    "for index in np.arange(NSED):\n",
    "    filename = df.loc[index,\"FILENAME\"].strip()+\".fits\"\n",
    "    fullfilename = os.path.join(seddir_uvi,filename) \n",
    "    hdul = fits.open(fullfilename)\n",
    "    dff = pd.DataFrame(hdul[1].data)\n",
    "    if index not in np.arange(100,105):\n",
    "        ax.plot(dff.WAVELENGTH,dff.FLUX,color=all_colors[index])\n",
    "\n",
    "    #wl = dff.WAVELENGTH.values \n",
    "    #fl = dff.FLUX.values\n",
    "\n",
    "    #idx_sel = np.where(wl>4500)[0]\n",
    "    #wl = wl[idx_sel]\n",
    "    #fl = fl[idx_sel]\n",
    "    #flmin = fl.min()\n",
    "    #if flmin < 1e-10:\n",
    "    #    print(index,filename,flmin,\"Skipped\")\n",
    "\n",
    "\n",
    "ax.set_yscale('log')\n",
    "ax.set_xlim(2500.,10500)\n",
    "ax.set_ylim(1e-11,1e-7)   \n",
    "ax.set_title(\"Pickles uvi $F_\\lambda$\")\n",
    "ax.set_ylabel(\"$F_\\lambda$\")\n",
    "ax.set_xlabel(\"$\\lambda \\, (\\AA$)\")\n",
    "\n",
    "cbar =fig.colorbar(mpl.cm.ScalarMappable(norm=norm, cmap=cmap),ax=ax, orientation='vertical', label='spectral type')\n",
    "\n",
    "labels = [item.get_text() for item in cbar.ax.get_yticklabels()]\n",
    "cbar.ax.locator_params(axis='y', nbins=2*len(labels)) \n",
    "labels = [item.get_text() for item in cbar.ax.get_yticklabels()]\n",
    "\n",
    "Nlabels = len(labels)\n",
    "for ilab in range(0,Nlabels-1):\n",
    "    the_label = int(labels[ilab])\n",
    "    labels[ilab] = df.loc[the_label,\"SPTYPE\"]\n",
    "cbar.ax.set_yticklabels(labels,rotation=0);\n",
    "plt.tight_layout()    "
   ]
  },
  {
   "cell_type": "markdown",
   "id": "e9ce4d37-2200-419a-9380-606830978ac0",
   "metadata": {},
   "source": [
    "# all_pickles_uvk"
   ]
  },
  {
   "cell_type": "code",
   "execution_count": null,
   "id": "1846399c-f1d9-4016-8e96-409557d74cd7",
   "metadata": {
    "tags": []
   },
   "outputs": [],
   "source": [
    "file_ref = os.path.join(seddir_uvk, \"pickles_uk.fits\")"
   ]
  },
  {
   "cell_type": "code",
   "execution_count": null,
   "id": "bca2eeef-c888-458d-8c25-36a032cb9b0b",
   "metadata": {
    "tags": []
   },
   "outputs": [],
   "source": [
    "hdul = fits.open(file_ref)"
   ]
  },
  {
   "cell_type": "code",
   "execution_count": null,
   "id": "0c56418b-ca4c-4358-8f53-d397c1eeb4b0",
   "metadata": {
    "tags": []
   },
   "outputs": [],
   "source": [
    "df = pd.DataFrame(hdul[1].data)"
   ]
  },
  {
   "cell_type": "code",
   "execution_count": null,
   "id": "3c119251-9669-4661-82d0-0c5695e06795",
   "metadata": {
    "tags": []
   },
   "outputs": [],
   "source": [
    "df"
   ]
  },
  {
   "cell_type": "code",
   "execution_count": null,
   "id": "46ef9afd-33d2-49bf-9ddc-5f9ddd53eace",
   "metadata": {
    "tags": []
   },
   "outputs": [],
   "source": [
    "NSED = len(df)"
   ]
  },
  {
   "cell_type": "code",
   "execution_count": null,
   "id": "1eae4a47-43a9-4f0d-b31c-394e222e67f4",
   "metadata": {
    "tags": []
   },
   "outputs": [],
   "source": [
    "# wavelength bin colors\n",
    "jet = plt.get_cmap('jet')\n",
    "cNorm = mpl.colors.Normalize(vmin=0, vmax=NSED)\n",
    "scalarMap = cmx.ScalarMappable(norm=cNorm, cmap=jet)\n",
    "all_colors = scalarMap.to_rgba(np.arange(NSED), alpha=1)"
   ]
  },
  {
   "cell_type": "code",
   "execution_count": null,
   "id": "aa046286-3f73-4e95-8bc3-cbf4bd0af15d",
   "metadata": {
    "tags": []
   },
   "outputs": [],
   "source": [
    "fig, ax = plt.subplots(figsize=(18, 0.6), layout='constrained')\n",
    "cmap = mpl.cm.jet\n",
    "norm = mpl.colors.Normalize(vmin=0, vmax=NSED)\n",
    "cbar = fig.colorbar(mpl.cm.ScalarMappable(norm=norm, cmap=cmap),cax=ax, orientation='horizontal', label='spectral type')\n",
    "\n",
    "# change the number of labels\n",
    "labels = [item.get_text() for item in cbar.ax.get_xticklabels()]\n",
    "cbar.ax.locator_params(axis='x', nbins=4*len(labels)) \n",
    "labels = [item.get_text() for item in cbar.ax.get_xticklabels()]\n",
    "\n",
    "# rename the labels\n",
    "Nlabels = len(labels)\n",
    "for ilab in range(0,Nlabels-1):\n",
    "    the_label = int(labels[ilab])\n",
    "    labels[ilab] = df.loc[the_label,\"SPTYPE\"]\n",
    "cbar.ax.set_xticklabels(labels,rotation=45);\n",
    "plt.show()"
   ]
  },
  {
   "cell_type": "code",
   "execution_count": null,
   "id": "bc64cb6b-9a63-4408-8342-fdee671a9f10",
   "metadata": {
    "tags": []
   },
   "outputs": [],
   "source": [
    "fig,ax = plt.subplots(1,1,figsize=(10,6))\n",
    "for index in np.arange(NSED):\n",
    "    filename = df.loc[index,\"FILENAME\"].strip()+\".fits\"\n",
    "    fullfilename = os.path.join(seddir_uvk,filename) \n",
    "    hdul = fits.open(fullfilename)\n",
    "    dff = pd.DataFrame(hdul[1].data)\n",
    "    if index not in np.arange(100,105):\n",
    "        ax.plot(dff.WAVELENGTH,dff.FLUX,color=all_colors[index])\n",
    "ax.set_yscale('log')\n",
    "ax.set_xlim(2500.,20500)\n",
    "ax.set_ylim(1e-11,2e-7)   \n",
    "ax.set_title(\"Pickles uvk $F_\\lambda$\")\n",
    "ax.set_ylabel(\"$F_\\lambda$\")\n",
    "ax.set_xlabel(\"$\\lambda \\, (\\AA$)\")\n",
    "\n",
    "cbar =fig.colorbar(mpl.cm.ScalarMappable(norm=norm, cmap=cmap),ax=ax, orientation='vertical', label='spectral type')\n",
    "\n",
    "labels = [item.get_text() for item in cbar.ax.get_yticklabels()]\n",
    "cbar.ax.locator_params(axis='y', nbins=2*len(labels)) \n",
    "labels = [item.get_text() for item in cbar.ax.get_yticklabels()]\n",
    "\n",
    "Nlabels = len(labels)\n",
    "for ilab in range(0,Nlabels-1):\n",
    "    the_label = int(labels[ilab])\n",
    "    labels[ilab] = df.loc[the_label,\"SPTYPE\"]\n",
    "cbar.ax.set_yticklabels(labels,rotation=0);\n",
    "plt.tight_layout()"
   ]
  }
 ],
 "metadata": {
  "kernelspec": {
   "display_name": "Python 3 (ipykernel)",
   "language": "python",
   "name": "python3"
  },
  "language_info": {
   "codemirror_mode": {
    "name": "ipython",
    "version": 3
   },
   "file_extension": ".py",
   "mimetype": "text/x-python",
   "name": "python",
   "nbconvert_exporter": "python",
   "pygments_lexer": "ipython3",
   "version": "3.11.5"
  }
 },
 "nbformat": 4,
 "nbformat_minor": 5
}
