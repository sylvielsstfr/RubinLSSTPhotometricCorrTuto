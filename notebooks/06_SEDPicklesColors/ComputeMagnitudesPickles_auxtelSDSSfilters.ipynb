{
 "cells": [
  {
   "cell_type": "markdown",
   "id": "ad5a3ac3-1d31-4599-995b-fc544a7da5ae",
   "metadata": {},
   "source": [
    "# Compute Magnitudes from Pickle SED in Auxtel filters (SDSS prime)"
   ]
  },
  {
   "cell_type": "markdown",
   "id": "ac5107e7-d490-4e81-9296-6bfb7af6dce4",
   "metadata": {},
   "source": [
    "- author Sylvie Dagoret-Campagne\n",
    "- creation date : 2024/07/29\n",
    "- update : 2024/07/30 : add spectroscopy type to colorbar and axis\n",
    "- update : 2024/07/31 : check color sign\n",
    "- update : 2024/08/01 : nicer plots\n",
    "- update : 2024/09/02"
   ]
  },
  {
   "cell_type": "code",
   "execution_count": null,
   "id": "1edbe7f0-c493-4659-8949-c17da1b52dfc",
   "metadata": {
    "tags": []
   },
   "outputs": [],
   "source": [
    "import numpy as np\n",
    "import matplotlib.pyplot as plt\n",
    "%matplotlib inline\n",
    "import matplotlib as mpl\n",
    "import matplotlib.colors as colors\n",
    "import matplotlib.cm as cmx\n",
    "from mpl_toolkits.axes_grid1 import make_axes_locatable\n",
    "from matplotlib.colors import LogNorm\n",
    "from matplotlib.gridspec import GridSpec\n",
    "import pandas as pd\n",
    "\n",
    "import matplotlib.ticker                         # here's where the formatter is\n",
    "import os,sys\n",
    "import re\n",
    "import pandas as pd\n",
    "\n",
    "from astropy.io import fits\n",
    "\n",
    "plt.rcParams[\"figure.figsize\"] = (8,6)\n",
    "plt.rcParams[\"axes.labelsize\"] = 'xx-large'\n",
    "plt.rcParams['axes.titlesize'] = 'xx-large'\n",
    "plt.rcParams['xtick.labelsize']= 'xx-large'\n",
    "plt.rcParams['ytick.labelsize']= 'xx-large'\n"
   ]
  },
  {
   "cell_type": "code",
   "execution_count": null,
   "id": "6c416af2-a649-41ef-8515-341c449598e3",
   "metadata": {
    "tags": []
   },
   "outputs": [],
   "source": [
    "from scipy import interpolate"
   ]
  },
  {
   "cell_type": "code",
   "execution_count": null,
   "id": "ce04b895-01a2-4112-aa2c-8953f6a0caee",
   "metadata": {
    "tags": []
   },
   "outputs": [],
   "source": [
    "machine_name = os.uname().nodename\n",
    "dm_version = \"w_2024_38\"\n",
    "path_rubinsimphot = f\"repos/repos_{dm_version}/rubinsimphot/src\"\n",
    "#path_rubinsimphot = \"repos/repos_w_2024_17/rubinsimphot/src\"\n",
    "if 'sdf' in machine_name:\n",
    "    #machine_name_usdf = 'sdfrome001'\n",
    "    print(\"Set environment for USDF\")\n",
    "    newpythonpath = os.path.join(os.getenv(\"HOME\"),path_rubinsimphot)\n",
    "    sys.path.append(newpythonpath)\n",
    "elif 'dagoret-nb' in machine_name:\n",
    "    print(\"Set environment for USDF Rubin Science Platform\")\n",
    "    newpythonpath = os.path.join(os.getenv(\"HOME\"),path_rubinsimphot)\n",
    "    sys.path.append(newpythonpath)    \n",
    "elif 'mac' in machine_name:\n",
    "    print(\"Be sure to run this notebook in conda environment named conda_py310\")\n",
    "else:\n",
    "    print(f\"Your current machine name is {machine_name}. Check your python environment\")"
   ]
  },
  {
   "cell_type": "markdown",
   "id": "64b70c8e-4988-4468-8229-0967053b812a",
   "metadata": {},
   "source": [
    "## Imports dedicated to this work\n",
    "\n",
    "- import the atmospheric transparency emulator (instead of using libradtran code).\n",
    "- import rubin sim\n",
    "- import libPhotometricCorrections : encapsulate uninteresting calculation details"
   ]
  },
  {
   "cell_type": "markdown",
   "id": "92f9cb84-f4b5-43b7-a9f1-ae284025f4de",
   "metadata": {},
   "source": [
    "### libradtran Emulator"
   ]
  },
  {
   "cell_type": "code",
   "execution_count": null,
   "id": "513cd9b8-f462-4020-a73f-98d4754a6313",
   "metadata": {
    "tags": []
   },
   "outputs": [],
   "source": [
    "from importlib.metadata import version\n",
    "the_ver = version('getObsAtmo')\n",
    "print(f\"Version of getObsAtmo : {the_ver}\")"
   ]
  },
  {
   "cell_type": "code",
   "execution_count": null,
   "id": "4648024a-5e3b-4ab1-ba82-1a6c44802d81",
   "metadata": {
    "tags": []
   },
   "outputs": [],
   "source": [
    "from getObsAtmo import ObsAtmo\n",
    "emul = ObsAtmo(\"AUXTEL\")"
   ]
  },
  {
   "cell_type": "code",
   "execution_count": null,
   "id": "d19507bc-98e0-4d4e-8d4d-583056b14b6b",
   "metadata": {
    "tags": []
   },
   "outputs": [],
   "source": [
    "WL = emul.GetWL()"
   ]
  },
  {
   "cell_type": "markdown",
   "id": "2d329e0a-b89e-4f88-ae18-63a5c9cc872f",
   "metadata": {},
   "source": [
    "#### Library to fit atmosphere"
   ]
  },
  {
   "cell_type": "code",
   "execution_count": null,
   "id": "bf228a68-73d0-4690-bdbe-1a4d0ae98445",
   "metadata": {
    "tags": []
   },
   "outputs": [],
   "source": [
    "import sys\n",
    "sys.path.append('../lib')\n",
    "#import libAtmosphericFit"
   ]
  },
  {
   "cell_type": "markdown",
   "id": "6be3d51c-8ba7-4654-98bf-0af4b456b1d8",
   "metadata": {},
   "source": [
    "#### Library that encapsulate calculations for Photometric correction"
   ]
  },
  {
   "cell_type": "code",
   "execution_count": null,
   "id": "38724617-a232-45c5-be1d-a7e6e19d6561",
   "metadata": {
    "tags": []
   },
   "outputs": [],
   "source": [
    "# This package encapsulate the calculation on calibration used in this nb\n",
    "from libPhotometricCorrections_auxtel import *"
   ]
  },
  {
   "cell_type": "code",
   "execution_count": null,
   "id": "092ec108-49dd-464a-8d67-1c1a94679f69",
   "metadata": {
    "tags": []
   },
   "outputs": [],
   "source": [
    "def set_photometric_parameters(exptime, nexp, readnoise=None):\n",
    "    # readnoise = None will use the default (8.8 e/pixel). Readnoise should be in electrons/pixel.\n",
    "    photParams = PhotometricParameters(exptime=exptime, nexp=nexp, readnoise=readnoise)\n",
    "    return photParams"
   ]
  },
  {
   "cell_type": "code",
   "execution_count": null,
   "id": "2757add2-5460-4666-a815-c97cd739b1f6",
   "metadata": {
    "tags": []
   },
   "outputs": [],
   "source": [
    "def scale_sed(ref_mag, ref_filter, sed):\n",
    "    fluxNorm = sed.calc_flux_norm(ref_mag, lsst_std[ref_filter])\n",
    "    sed.multiply_flux_norm(fluxNorm)\n",
    "    return sed"
   ]
  },
  {
   "cell_type": "markdown",
   "id": "eefaa645-0a93-4b89-9ed5-8b6bb2c33241",
   "metadata": {},
   "source": [
    "#### library rubin_sim defining LSST parameters, namely for photometric calculations"
   ]
  },
  {
   "cell_type": "code",
   "execution_count": null,
   "id": "4a081d19-aa22-491a-b65c-08dcd684b42a",
   "metadata": {
    "tags": []
   },
   "outputs": [],
   "source": [
    "from rubinsimphot.phot_utils import Bandpass, Sed\n",
    "from rubinsimphot.data import get_data_dir"
   ]
  },
  {
   "cell_type": "markdown",
   "id": "ee546326-5cdf-49e3-8e2b-16cdc7a8a62b",
   "metadata": {},
   "source": [
    "## Configuration"
   ]
  },
  {
   "cell_type": "code",
   "execution_count": null,
   "id": "2fb7e75c-c074-44ad-89dc-d0a814fcceee",
   "metadata": {
    "tags": []
   },
   "outputs": [],
   "source": [
    "am0 =1.20    # airmass\n",
    "pwv0 = 3.0  # Precipitable water vapor vertical column depth in mm\n",
    "oz0 = 300.  # Ozone vertical column depth in Dobson Unit (DU)\n",
    "ncomp=1     # Number of aerosol components\n",
    "tau0= 0.04 # Vertical Aerosol depth (VAOD) \n",
    "beta0 = 1.2 # Aerosol Angstrom exponent"
   ]
  },
  {
   "cell_type": "markdown",
   "id": "efbcb54f-e328-4e77-9177-733671894773",
   "metadata": {},
   "source": [
    "### Initialisation of Atmospheric corrections"
   ]
  },
  {
   "cell_type": "code",
   "execution_count": null,
   "id": "e9aad196-e82d-4477-8c31-173b4a159dde",
   "metadata": {
    "tags": []
   },
   "outputs": [],
   "source": [
    "pc = PhotometricCorrections(am0,pwv0,oz0,tau0,beta0)"
   ]
  },
  {
   "cell_type": "markdown",
   "id": "24110bb1-a4df-43b1-aaca-1b0879a20cd6",
   "metadata": {},
   "source": [
    "### Check standard atmosphere"
   ]
  },
  {
   "cell_type": "code",
   "execution_count": null,
   "id": "cf0cdba5-cbc7-44e9-967f-817f9afaaffb",
   "metadata": {
    "tags": []
   },
   "outputs": [],
   "source": [
    "fig, axs = plt.subplots(1,1,figsize=(6,4))\n",
    "axs.plot(pc.WL,pc.atm_std,'k-')\n",
    "axs.set_xlabel(\"$\\\\lambda$ (nm)\")\n",
    "axs.set_title(\"Standard atmosphere transmission\")"
   ]
  },
  {
   "cell_type": "markdown",
   "id": "faf15d14-6866-445c-befb-503582de6a9c",
   "metadata": {},
   "source": [
    "### Check LSST instrument throughput"
   ]
  },
  {
   "cell_type": "markdown",
   "id": "92cf88bc-ae63-4c3c-9d76-c6c9ab707e3c",
   "metadata": {},
   "source": [
    "Photometric Correction package should find the instrumental passband of LSST"
   ]
  },
  {
   "cell_type": "code",
   "execution_count": null,
   "id": "ccdc6966-cdca-40d3-b6a9-57c4e716c318",
   "metadata": {
    "tags": []
   },
   "outputs": [],
   "source": [
    "fig, axs = plt.subplots(1,1,figsize=(6,4))\n",
    "# loop on filter\n",
    "for index,f in enumerate(filter_tagnames):\n",
    "    \n",
    "    axs.plot(pc.bandpass_inst[f].wavelen,pc.bandpass_inst[f].sb,color=filter_color[index]) \n",
    "    axs.fill_between(pc.bandpass_inst[f].wavelen,pc.bandpass_inst[f].sb,color=filter_color[index],alpha=0.2) \n",
    "    axs.axvline(FILTERWL[index,2],color=filter_color[index],linestyle=\"-.\")\n",
    "    \n",
    "axs.set_xlabel(\"$\\\\lambda$ (nm)\")\n",
    "axs.set_title(\"Instrument throughput (auxtel)\")"
   ]
  },
  {
   "cell_type": "markdown",
   "id": "8b2d52db-c587-4ff8-995d-04adecbdcf2d",
   "metadata": {},
   "source": [
    "### Check LSST standard Filter throughputs"
   ]
  },
  {
   "cell_type": "code",
   "execution_count": null,
   "id": "09c70134-eda6-4c9e-83a0-e76510e86e97",
   "metadata": {
    "tags": []
   },
   "outputs": [],
   "source": [
    "fig, axs = plt.subplots(1,1,figsize=(6,4))\n",
    "# loop on filter\n",
    "for index,f in enumerate(filter_tagnames):\n",
    "    \n",
    "    axs.plot(pc.bandpass_total_std[f].wavelen,pc.bandpass_total_std[f].sb,color=filter_color[index]) \n",
    "    axs.fill_between(pc.bandpass_total_std[f].wavelen,pc.bandpass_total_std[f].sb,color=filter_color[index],alpha=0.2) \n",
    "    axs.axvline(FILTERWL[index,2],color=filter_color[index],linestyle=\"-.\")\n",
    "    \n",
    "axs.set_xlabel(\"$\\\\lambda$ (nm)\")\n",
    "axs.set_title(\"Total filter throughput (auxtel)\")"
   ]
  },
  {
   "cell_type": "markdown",
   "id": "b3e70b79-75ee-47b1-aad1-c4d8c796b248",
   "metadata": {},
   "source": [
    "## Variation of PWV"
   ]
  },
  {
   "cell_type": "code",
   "execution_count": null,
   "id": "8a9d6930-39a2-4a5f-9071-dc33c3afa5cf",
   "metadata": {
    "tags": []
   },
   "outputs": [],
   "source": [
    "am = 1.2\n",
    "oz = 300\n",
    "tau= 0.04\n",
    "beta = 1\n",
    "all_pwv = np.arange(0,10,0.5)\n",
    "NPWV = len(all_pwv)"
   ]
  },
  {
   "cell_type": "code",
   "execution_count": null,
   "id": "7b42b2a6-d556-4dac-aa56-1129b853ca69",
   "metadata": {
    "tags": []
   },
   "outputs": [],
   "source": [
    "pc.CalculateMultiObs(am,all_pwv,oz,tau,beta)"
   ]
  },
  {
   "cell_type": "markdown",
   "id": "fe00c844-cbdf-433b-8457-f31c10dd5502",
   "metadata": {},
   "source": [
    "### PWV variation :  Observed filter and normalized response"
   ]
  },
  {
   "cell_type": "code",
   "execution_count": null,
   "id": "42162a23-c47c-4f79-836b-c88d8cfcff12",
   "metadata": {
    "tags": []
   },
   "outputs": [],
   "source": [
    "NOBS = len(all_pwv)\n",
    "\n",
    "# wavelength bin colors\n",
    "jet = plt.get_cmap('jet')\n",
    "cNorm = colors.Normalize(vmin=0, vmax=NOBS)\n",
    "scalarMap = cmx.ScalarMappable(norm=cNorm, cmap=jet)\n",
    "all_colors = scalarMap.to_rgba(np.arange(NOBS), alpha=1)\n",
    "\n",
    "\n",
    "fig = plt.figure(figsize=(12,4))\n",
    "\n",
    "# Figure 1\n",
    "axs=fig.add_subplot(1,2,1)\n",
    "for index,pwv in enumerate(all_pwv):\n",
    "  \n",
    "    atm = pc.coll_atm_nonstd[index]\n",
    "    \n",
    "    label = f\"pwv={pwv:.1f}\" \n",
    "    axs.plot(pc.WL,atm,color=all_colors[index],label=label,lw=0.5)\n",
    "   \n",
    "axs.plot(pc.WL,pc.atm_std,color=\"k\",lw=2,label=\"standard atmosphere\")\n",
    "#axs.legend(bbox_to_anchor=(1.03, 1.0))  \n",
    "axs.set_xlabel(\"$\\lambda$ (nm)\")\n",
    "axs.set_title(\"standard and observed transmission\")\n",
    "\n",
    "ax2 = axs.twinx()\n",
    "for ifilt,f in enumerate(filter_tagnames):\n",
    "    ax2.fill_between(pc.bandpass_total_std[f].wavelen,pc.bandpass_total_std[f].sb,color=filter_color[ifilt],alpha=0.1) \n",
    "    ax2.set_yticks([])\n",
    "\n",
    "\n",
    "\n",
    "# Figure 2\n",
    "axs=fig.add_subplot(1,2,2)\n",
    "\n",
    "all_linestyles = ['-','--','-.',':','-','--','-.',':','-','--','-.',':','-','--','-.',':']\n",
    "\n",
    "# wavelength bin colors\n",
    "jet = plt.get_cmap('jet')\n",
    "cNorm = colors.Normalize(vmin=0, vmax=NOBS)\n",
    "scalarMap = cmx.ScalarMappable(norm=cNorm, cmap=jet)\n",
    "all_colors = scalarMap.to_rgba(np.arange(NOBS), alpha=1)\n",
    "\n",
    "\n",
    "for idx_pwv,pwv in enumerate(all_pwv):\n",
    "    \n",
    "    \n",
    "    label = f\"pwv={pwv:.1f}\"\n",
    "    \n",
    "    for ifilt,f in enumerate(filter_tagnames):\n",
    "        \n",
    "        the_x=pc.WL\n",
    "        the_y=pc.coll_phiArray_nonstd[idx_pwv][ifilt,:]\n",
    "       \n",
    "        \n",
    "        if ifilt==1:\n",
    "            axs.plot(the_x,the_y,color=all_colors[idx_pwv],linestyle=\"-\",label=label )\n",
    "        else:\n",
    "            axs.plot(the_x,the_y,color=all_colors[idx_pwv],linestyle=\"-\")\n",
    "\n",
    "axs.set_xlabel(\"$\\lambda$ (nm)\")\n",
    "axs.set_title(\"Normalized observed transmission\")\n",
    "#axs.legend(bbox_to_anchor=(1.03, 1.0))  \n",
    "\n",
    "\n",
    "plt.tight_layout()\n",
    "plt.show()\n",
    "\n"
   ]
  },
  {
   "cell_type": "markdown",
   "id": "b5ebad46-cafd-4ef9-a081-b508ff20c110",
   "metadata": {},
   "source": [
    "## SED"
   ]
  },
  {
   "cell_type": "code",
   "execution_count": null,
   "id": "758940f6-acfe-472a-9416-2f9d715a11df",
   "metadata": {
    "tags": []
   },
   "outputs": [],
   "source": [
    "# Find the throughputs directory \n",
    "#fdir = os.getenv('RUBIN_SIM_DATA_DIR')\n",
    "fdir = get_data_dir()\n",
    "if fdir is None:  #environment variable not set\n",
    "    fdir = os.path.join(os.getenv('HOME'), 'rubin_sim_data')"
   ]
  },
  {
   "cell_type": "code",
   "execution_count": null,
   "id": "dd69f501-84e4-4293-8b3a-3a38424c2920",
   "metadata": {
    "tags": []
   },
   "outputs": [],
   "source": [
    "seddir = os.path.join(fdir, 'pysynphot', 'pickles')"
   ]
  },
  {
   "cell_type": "code",
   "execution_count": null,
   "id": "b08b7e77-1d53-4201-871c-fb10d5eb90e7",
   "metadata": {
    "tags": []
   },
   "outputs": [],
   "source": [
    "seddir_uvi = os.path.join(seddir,\"dat_uvi\")\n",
    "seddir_uvk = os.path.join(seddir,\"dat_uvk\")"
   ]
  },
  {
   "cell_type": "code",
   "execution_count": null,
   "id": "16585a26-9b08-4e7e-a607-27ddbde1569d",
   "metadata": {
    "tags": []
   },
   "outputs": [],
   "source": [
    "all_pickles_uvi = sorted(os.listdir(seddir_uvi))\n",
    "all_pickles_uvk = sorted(os.listdir(seddir_uvk))"
   ]
  },
  {
   "cell_type": "code",
   "execution_count": null,
   "id": "eefc36a2-baeb-4a74-97f1-a5feba504d5c",
   "metadata": {
    "tags": []
   },
   "outputs": [],
   "source": [
    "file_ref = os.path.join(seddir_uvk, \"pickles_uk.fits\")"
   ]
  },
  {
   "cell_type": "code",
   "execution_count": null,
   "id": "4a869ecd-1963-4cba-935d-23bec585df10",
   "metadata": {
    "tags": []
   },
   "outputs": [],
   "source": [
    "hdul = fits.open(file_ref)"
   ]
  },
  {
   "cell_type": "code",
   "execution_count": null,
   "id": "3a55c9a4-c5bb-4ede-a7df-bdbc1d087508",
   "metadata": {
    "tags": []
   },
   "outputs": [],
   "source": [
    "df_pickle = pd.DataFrame(hdul[1].data)"
   ]
  },
  {
   "cell_type": "code",
   "execution_count": null,
   "id": "0b751726-e0ec-4e2b-8ef0-5477d363f09c",
   "metadata": {
    "tags": []
   },
   "outputs": [],
   "source": [
    "df_pickle"
   ]
  },
  {
   "cell_type": "code",
   "execution_count": null,
   "id": "28bca611-c426-4aa9-8e1f-7c6368d9dbae",
   "metadata": {
    "tags": []
   },
   "outputs": [],
   "source": [
    "NSED = len(df_pickle)"
   ]
  },
  {
   "cell_type": "code",
   "execution_count": null,
   "id": "6d2910db-c871-4644-bb21-bff9d73a3099",
   "metadata": {
    "tags": []
   },
   "outputs": [],
   "source": [
    "# wavelength bin colors\n",
    "jet = plt.get_cmap('jet')\n",
    "cNorm = mpl.colors.Normalize(vmin=0, vmax=NSED)\n",
    "scalarMap = cmx.ScalarMappable(norm=cNorm, cmap=jet)\n",
    "all_colors = scalarMap.to_rgba(np.arange(NSED), alpha=1)"
   ]
  },
  {
   "cell_type": "code",
   "execution_count": null,
   "id": "9ba3bc3a-ec63-4cea-932c-9046935ab079",
   "metadata": {},
   "outputs": [],
   "source": [
    "fig, ax = plt.subplots(figsize=(18, 0.6), layout='constrained')\n",
    "cmap = mpl.cm.jet\n",
    "norm = mpl.colors.Normalize(vmin=0, vmax=NSED)\n",
    "cbar = fig.colorbar(mpl.cm.ScalarMappable(norm=norm, cmap=cmap),cax=ax, orientation='horizontal', label='spectral type')\n",
    "\n",
    "# change the number of labels\n",
    "labels = [item.get_text() for item in cbar.ax.get_xticklabels()]\n",
    "cbar.ax.locator_params(axis='x', nbins=4*len(labels)) \n",
    "labels = [item.get_text() for item in cbar.ax.get_xticklabels()]\n",
    "\n",
    "# rename the labels\n",
    "Nlabels = len(labels)\n",
    "for ilab in range(0,Nlabels-1):\n",
    "    the_label = int(labels[ilab])\n",
    "    labels[ilab] = df_pickle.loc[the_label,\"SPTYPE\"]\n",
    "cbar.ax.set_xticklabels(labels,rotation=45);\n",
    "plt.show()"
   ]
  },
  {
   "cell_type": "code",
   "execution_count": null,
   "id": "a1cd0291-ae1c-4c9d-9eea-a45538f4831d",
   "metadata": {
    "tags": []
   },
   "outputs": [],
   "source": [
    "fig,ax = plt.subplots(1,1,figsize=(8,6))\n",
    "for index in np.arange(NSED):\n",
    "    filename = df_pickle.loc[index,\"FILENAME\"].strip()+\".fits\"\n",
    "    fullfilename = os.path.join(seddir_uvk,filename) \n",
    "    hdul = fits.open(fullfilename)\n",
    "    dff = pd.DataFrame(hdul[1].data)\n",
    "    if index <= 103 or index >= 105:\n",
    "        ax.plot(dff.WAVELENGTH,dff.FLUX,color=all_colors[index])\n",
    "ax.set_yscale('log')\n",
    "ax.set_xlim(3000.,11000)\n",
    "ax.set_ylim(1e-11,1e-6)\n",
    "ax.grid()\n",
    "ax.set_title(\"Pickles $F_\\lambda$\")\n",
    "ax.set_ylabel(\"$F_\\lambda$\")\n",
    "ax.set_xlabel(\"$\\lambda \\, (\\AA$)\")\n",
    "#plt.colorbar(ax.collections[0],ax=ax,orientation = 'horizontal',shrink=0.8)\n",
    "#ax.collections[-1].colorbar\n",
    "\n",
    "\n",
    "#cbar= fig.colorbar(cm.ScalarMappable(norm=norm, cmap=\"jet\"), ax=ax)\n",
    "cbar =fig.colorbar(mpl.cm.ScalarMappable(norm=norm, cmap=cmap),ax=ax, orientation='vertical', label='spectral type')\n",
    "\n",
    "#cbar = plt.colorbar(ax.collections[0],ax=ax)\n",
    "#cbar.ax.set_ylabel('spectral type', rotation=90)\n",
    "\n",
    "labels = [item.get_text() for item in cbar.ax.get_yticklabels()]\n",
    "cbar.ax.locator_params(axis='y', nbins=2*len(labels)) \n",
    "labels = [item.get_text() for item in cbar.ax.get_yticklabels()]\n",
    "\n",
    "Nlabels = len(labels)\n",
    "for ilab in range(0,Nlabels-1):\n",
    "    the_label = int(labels[ilab])\n",
    "    labels[ilab] = df_pickle.loc[the_label,\"SPTYPE\"]\n",
    "cbar.ax.set_yticklabels(labels,rotation=0);\n",
    "plt.tight_layout()\n"
   ]
  },
  {
   "cell_type": "markdown",
   "id": "e33b37c0-67bc-4189-aeca-8324c62341ed",
   "metadata": {},
   "source": [
    "## Convert SED in rubinsim format"
   ]
  },
  {
   "cell_type": "code",
   "execution_count": null,
   "id": "6f3b3b5b-f0e6-4697-bc09-1ed35c7d053a",
   "metadata": {
    "tags": []
   },
   "outputs": [],
   "source": [
    "all_sed = []\n",
    "zmag = 20.0\n",
    "for index in np.arange(NSED):\n",
    "    spectype = df_pickle.loc[index,\"SPTYPE\"].strip()\n",
    "    filename = df_pickle.loc[index,\"FILENAME\"].strip()+\".fits\"\n",
    "    fullfilename = os.path.join(seddir_uvk,filename) \n",
    "    hdul = fits.open(fullfilename)\n",
    "    dff = pd.DataFrame(hdul[1].data)\n",
    "    wl= dff.WAVELENGTH.values\n",
    "    flux = dff.FLUX.values\n",
    "    #wavelen (nm)\n",
    "    #flambda (ergs/cm^2/s/nm)\n",
    "    the_sed = Sed(wavelen=wl/10., flambda=flux*10., name=spectype)\n",
    "    flux_norm = the_sed.calc_flux_norm(zmag, pc.bandpass_total_std['r'])\n",
    "    the_sed.multiply_flux_norm(flux_norm)\n",
    "    all_sed.append(the_sed) "
   ]
  },
  {
   "cell_type": "markdown",
   "id": "6b57932c-78e5-4b25-8eef-58e30dc653ed",
   "metadata": {},
   "source": [
    "### Check the calculation of the Magnitude and the ADC counts (observation)"
   ]
  },
  {
   "cell_type": "code",
   "execution_count": null,
   "id": "657c00da-c646-48cd-810f-79dc1f25d027",
   "metadata": {
    "tags": []
   },
   "outputs": [],
   "source": [
    "the_sed1 = all_sed[0]\n",
    "flux_norm = the_sed1.calc_flux_norm(zmag, pc.bandpass_total_std['r'])\n",
    "the_sed1.multiply_flux_norm(flux_norm)\n",
    "\n",
    "the_sed2 = all_sed[-1]\n",
    "flux_norm = the_sed2.calc_flux_norm(zmag, pc.bandpass_total_std['r'])\n",
    "the_sed2.multiply_flux_norm(flux_norm)"
   ]
  },
  {
   "cell_type": "code",
   "execution_count": null,
   "id": "6ceed0bd-295a-41fa-b8a2-67980fb66e2d",
   "metadata": {},
   "outputs": [],
   "source": [
    "fig,(ax,ax2) = plt.subplots(1,2,figsize=(16,6))\n",
    "ax.plot(the_sed1 .wavelen,the_sed1 .flambda,\"b-\",label=the_sed1.name)\n",
    "ax.plot(the_sed2.wavelen,the_sed2.flambda,\"r-\",label=the_sed2.name)\n",
    "ax.set_yscale(\"log\")\n",
    "ax.legend()\n",
    "ax.set_ylim(1e-17,1e-14)\n",
    "ax.set_xlim(300.,2000.)\n",
    "ax.set_title(\"Pickles $F_\\lambda$\")\n",
    "ax.set_ylabel(\"$F_\\lambda$\")\n",
    "ax.set_xlabel(\"$\\lambda \\, (\\AA$)\")\n",
    "\n",
    "\n",
    "ax2.plot(the_sed1 .wavelen,the_sed1.fnu,\"b-\",label=the_sed1.name)\n",
    "ax2.plot(the_sed2.wavelen,the_sed2.fnu,\"r-\",label=the_sed2.name)\n",
    "ax2.set_yscale(\"log\")\n",
    "ax2.legend()\n",
    "ax2.set_ylim(1e-7,1e-3)\n",
    "ax2.set_xlim(300.,2000.)\n",
    "ax2.set_title(\"Pickles $F_\\\\nu$\")\n",
    "ax2.set_ylabel(\"$F_\\\\nu$\")\n",
    "ax2.set_xlabel(\"$\\lambda \\, (\\AA$)\")\n",
    "\n",
    "ax3 = ax.twinx()\n",
    "for ifilt,f in enumerate(filter_tagnames):\n",
    "    ax3.fill_between(pc.bandpass_total_std[f].wavelen,pc.bandpass_total_std[f].sb,color=filter_color[ifilt],alpha=0.1) \n",
    "    ax3.set_yticks([])\n",
    "    \n",
    "ax4 = ax2.twinx()\n",
    "for ifilt,f in enumerate(filter_tagnames):\n",
    "    ax4.fill_between(pc.bandpass_total_std[f].wavelen,pc.bandpass_total_std[f].sb,color=filter_color[ifilt],alpha=0.1) \n",
    "    ax4.set_yticks([])"
   ]
  },
  {
   "cell_type": "code",
   "execution_count": null,
   "id": "3981d71e-4704-4de6-bf0e-ae5722ecf4a7",
   "metadata": {
    "tags": []
   },
   "outputs": [],
   "source": [
    "mags_std1 = {}\n",
    "for index,f in enumerate(filter_tagnames) :\n",
    "    mags_std1[f] = the_sed1.calc_mag(pc.bandpass_total_std[f])\n",
    "mags_std1[\"g-r\"] = mags_std1[\"g\"]- mags_std1[\"r\"]  \n",
    "mags_std1[\"z-y\"] = mags_std1[\"z\"]- mags_std1[\"y\"]   \n",
    "df1 = pd.DataFrame(mags_std1, index=[the_sed1.name]).T\n",
    "\n",
    "mags_std2 = {}\n",
    "for index,f in enumerate(filter_tagnames) :\n",
    "    mags_std2[f] = the_sed2.calc_mag(pc.bandpass_total_std[f])\n",
    "mags_std2[\"g-r\"] = mags_std2[\"g\"]- mags_std2[\"r\"]  \n",
    "mags_std2[\"z-y\"] = mags_std2[\"z\"]- mags_std2[\"y\"]   \n",
    "df2 = pd.DataFrame(mags_std2, index=[the_sed2.name]).T\n",
    "dfa =pd.concat([df1,df2],axis=1)\n",
    "dfa"
   ]
  },
  {
   "cell_type": "code",
   "execution_count": null,
   "id": "1c4d2660-0dcd-4597-927a-06c2df1c3e9c",
   "metadata": {
    "tags": []
   },
   "outputs": [],
   "source": [
    "photoparams = set_photometric_parameters(30, 1 , readnoise=None)\n",
    "adcs_stdmag1 = {}\n",
    "for index,f in enumerate(filter_tagnames) :\n",
    "    adcs_stdmag1[f] = -2.5*np.log10(the_sed1.calc_adu(pc.bandpass_total_std[f],photoparams))\n",
    "adcs_stdmag1[\"g-r\"] = adcs_stdmag1[\"g\"]- adcs_stdmag1[\"r\"]  \n",
    "adcs_stdmag1[\"z-y\"] = adcs_stdmag1[\"z\"]- adcs_stdmag1[\"y\"]      \n",
    "df1 = pd.DataFrame(adcs_stdmag1, index=[the_sed1.name]).T\n",
    "\n",
    "adcs_stdmag2 = {}\n",
    "for index,f in enumerate(filter_tagnames) :\n",
    "    adcs_stdmag2[f] = -2.5*np.log10(the_sed2.calc_adu(pc.bandpass_total_std[f],photoparams))\n",
    "adcs_stdmag2[\"g-r\"] = adcs_stdmag2[\"g\"]- adcs_stdmag2[\"r\"]  \n",
    "adcs_stdmag2[\"z-y\"] = adcs_stdmag2[\"z\"]- adcs_stdmag2[\"y\"]      \n",
    "df2 = pd.DataFrame(adcs_stdmag2, index=[the_sed2.name]).T\n",
    "\n",
    "dfb =pd.concat([df1,df2],axis=1)\n",
    "dfb"
   ]
  },
  {
   "cell_type": "markdown",
   "id": "0974bf82-079f-4d82-9bbb-4a0e2531fa40",
   "metadata": {},
   "source": [
    "## Generate dataframe with magnitudes"
   ]
  },
  {
   "cell_type": "code",
   "execution_count": null,
   "id": "154c54a1-ecaf-4071-962b-3057b9225a8b",
   "metadata": {},
   "outputs": [],
   "source": [
    "filter_tagnames"
   ]
  },
  {
   "cell_type": "code",
   "execution_count": null,
   "id": "e4e80440-e661-4253-a022-943e380a5f11",
   "metadata": {},
   "outputs": [],
   "source": [
    "photoparams = set_photometric_parameters(30, 1 , readnoise=None)"
   ]
  },
  {
   "cell_type": "code",
   "execution_count": null,
   "id": "7eb2ef26-24b8-4922-910c-e7dd6e879b9c",
   "metadata": {},
   "outputs": [],
   "source": [
    "df_out = pd.DataFrame(columns = [\"index\",\"filename\",\"spectype\",\n",
    "                                 \"magu\",\"magg\",\"magr\",\"magi\",\"magz\",\"magy\",\n",
    "                                 \"aduu\",\"adug\",\"adur\",\"adui\",\"aduz\",\"aduy\"])\n",
    "mags_std = {}\n",
    "adcs_stdmag = {}\n",
    "for index in np.arange(NSED):\n",
    "    spectype = df_pickle.loc[index,\"SPTYPE\"].strip()\n",
    "    filename = df_pickle.loc[index,\"FILENAME\"].strip()+\".fits\"\n",
    "    the_sed = all_sed[index] \n",
    "    for index2,f in enumerate(filter_tagnames) :\n",
    "        mags_std[f] = the_sed.calc_mag(pc.bandpass_total_std[f])\n",
    "        adcs_stdmag[f] = -2.5*np.log10(the_sed.calc_adu(pc.bandpass_total_std[f],photoparams))\n",
    "    df_out.loc[index] = [ index,filename, spectype ,\n",
    "                    mags_std[\"u\"],mags_std[\"g\"],mags_std[\"r\"],mags_std[\"i\"],mags_std[\"z\"],mags_std[\"y\"],\n",
    "                    adcs_stdmag[\"u\"],adcs_stdmag[\"g\"],adcs_stdmag[\"r\"],adcs_stdmag[\"i\"],adcs_stdmag[\"z\"],adcs_stdmag[\"y\"]]\n",
    "                                "
   ]
  },
  {
   "cell_type": "code",
   "execution_count": null,
   "id": "6c120918-e033-411d-ba3a-fcc769fa6ab1",
   "metadata": {},
   "outputs": [],
   "source": [
    "mags_std"
   ]
  },
  {
   "cell_type": "code",
   "execution_count": null,
   "id": "c7c63a27-c457-467c-b9d9-699bb5e2a550",
   "metadata": {},
   "outputs": [],
   "source": [
    "df_out = df_out[df_out.index != 104]"
   ]
  },
  {
   "cell_type": "code",
   "execution_count": null,
   "id": "c256f625-e1ac-4164-889b-a6c21ab8e5de",
   "metadata": {},
   "outputs": [],
   "source": [
    "df_out[\"magG_R\"] = df_out[\"magg\"] - df_out[\"magr\"]\n",
    "df_out[\"magZ_Y\"] = df_out[\"magz\"] - df_out[\"magy\"]\n",
    "df_out[\"aduG_R\"] = df_out[\"adug\"] - df_out[\"adur\"]\n",
    "df_out[\"aduZ_Y\"] = df_out[\"aduz\"] - df_out[\"aduy\"]"
   ]
  },
  {
   "cell_type": "code",
   "execution_count": null,
   "id": "2fb000f9-3280-4ddb-89e0-abef6badb1df",
   "metadata": {},
   "outputs": [],
   "source": [
    "df_out.head() "
   ]
  },
  {
   "cell_type": "code",
   "execution_count": null,
   "id": "6b73177d-ba1f-42db-b152-a461db4b4792",
   "metadata": {},
   "outputs": [],
   "source": [
    "df_out.spectype.values"
   ]
  },
  {
   "cell_type": "code",
   "execution_count": null,
   "id": "64de6a01-f0de-4723-a079-f8c1d9a2955a",
   "metadata": {},
   "outputs": [],
   "source": [
    "fig,ax = plt.subplots(1,1,figsize=(8,8))\n",
    "df_out.plot.scatter(x=\"aduZ_Y\",y=\"aduG_R\",marker=\"o\",c=\"index\",colormap=\"jet\",ax=ax,grid=True,colorbar=False)\n",
    "#cbar = plt.colorbar(ax.collections[0],ax=ax,orientation = 'horizontal',shrink=0.8)\n",
    "cbar = plt.colorbar(ax.collections[0],ax=ax)\n",
    "cbar.ax.set_ylabel('spectral type', rotation=90)\n",
    "\n",
    "labels = [item.get_text() for item in cbar.ax.get_yticklabels()]\n",
    "cbar.ax.locator_params(axis='y', nbins=2*len(labels)) \n",
    "labels = [item.get_text() for item in cbar.ax.get_yticklabels()]\n",
    "\n",
    "Nlabels = len(labels)\n",
    "for ilab in range(0,Nlabels):\n",
    "    the_label = int(labels[ilab])\n",
    "    labels[ilab] = df_out.loc[the_label,\"spectype\"]\n",
    "cbar.ax.set_yticklabels(labels,rotation=0);\n",
    "ax.set_title(\"Color-Color plot (obs ADU mag) of Pickles stars\")\n",
    "ax.set_xlabel(\"Z-Y (adu) (mag)\")\n",
    "ax.set_ylabel(\"G-R (adu) (mag)\")"
   ]
  },
  {
   "cell_type": "code",
   "execution_count": null,
   "id": "b1460722-fe5b-4e8f-b34f-79375a343e62",
   "metadata": {},
   "outputs": [],
   "source": [
    "fig,ax = plt.subplots(1,1,figsize=(8,8))\n",
    "df_out.plot.scatter(x=\"magZ_Y\",y=\"magG_R\",marker=\"o\",c=\"index\",colormap=\"jet\",ax=ax,grid=True,colorbar=False)\n",
    "\n",
    "#cbar = plt.colorbar(ax.collections[0],ax=ax,orientation = 'horizontal',shrink=0.8)\n",
    "cbar = plt.colorbar(ax.collections[0],ax=ax)\n",
    "cbar.ax.set_ylabel('spectral type', rotation=90)\n",
    "\n",
    "labels = [item.get_text() for item in cbar.ax.get_yticklabels()]\n",
    "cbar.ax.locator_params(axis='y', nbins=2*len(labels)) \n",
    "labels = [item.get_text() for item in cbar.ax.get_yticklabels()]\n",
    "\n",
    "Nlabels = len(labels)\n",
    "for ilab in range(0,Nlabels):\n",
    "    the_label = int(labels[ilab])\n",
    "    labels[ilab] = df_out.loc[the_label,\"spectype\"]\n",
    "cbar.ax.set_yticklabels(labels,rotation=0);\n",
    "ax.set_title(\"Color-Color plot (calib AB mag) for Pickles stars\")\n",
    "ax.set_xlabel(\"Z-Y  (mag)\")\n",
    "ax.set_ylabel(\"G-R  (mag)\")"
   ]
  },
  {
   "cell_type": "code",
   "execution_count": null,
   "id": "ad979fb2-69a3-4d4c-98ac-60839a43f0c3",
   "metadata": {},
   "outputs": [],
   "source": [
    "fig,(ax1,ax2) = plt.subplots(2,1,figsize=(14,8))\n",
    "df_out.plot.scatter(x=\"index\",y=\"magG_R\",ax=ax1,grid=True,c=\"b\")\n",
    "df_out.plot.scatter(x=\"index\",y=\"magZ_Y\",ax=ax2,grid=True,c=\"r\")\n",
    "\n",
    "labels1 = [item.get_text() for item in ax1.get_xticklabels()]\n",
    "labels2 = [item.get_text() for item in ax2.get_xticklabels()]\n",
    "\n",
    "ax1.locator_params(axis='x', nbins=2*len(labels1)) \n",
    "ax2.locator_params(axis='x', nbins=2*len(labels2)) \n",
    "\n",
    "labels1 = [item.get_text() for item in ax1.get_xticklabels()]\n",
    "labels2 = [item.get_text() for item in ax2.get_xticklabels()]\n",
    "\n",
    "Nlabels1 = len(labels1)\n",
    "for ilab in range(1,Nlabels1-1):\n",
    "    the_label = int(labels1[ilab])\n",
    "    #print(ilab,the_label,df_out.loc[the_label,\"spectype\"])\n",
    "    labels1[ilab] = df_out.loc[the_label,\"spectype\"]\n",
    "ax1.set_xticklabels(labels1,rotation=90)\n",
    "ax1.set_xlabel(None)\n",
    "\n",
    "\n",
    "Nlabels2 = len(labels2)\n",
    "for ilab in range(1,Nlabels2-1):\n",
    "    the_label = int(labels2[ilab])\n",
    "    #print(ilab,the_label,df_out.loc[the_label,\"spectype\"])\n",
    "    labels2[ilab] = df_out.loc[the_label,\"spectype\"]\n",
    "ax2.set_xticklabels(labels2,rotation=90)\n",
    "ax2.set_xlabel(None)\n",
    "\n",
    "ax1.set_title(\"Pickles stars colors (calib AB mag)\")\n",
    "\n",
    "plt.tight_layout()"
   ]
  },
  {
   "cell_type": "code",
   "execution_count": null,
   "id": "bf9e4168-857a-4c7d-9e0a-5cb72bf7b21b",
   "metadata": {},
   "outputs": [],
   "source": []
  }
 ],
 "metadata": {
  "kernelspec": {
   "display_name": "Python 3 (ipykernel)",
   "language": "python",
   "name": "python3"
  },
  "language_info": {
   "codemirror_mode": {
    "name": "ipython",
    "version": 3
   },
   "file_extension": ".py",
   "mimetype": "text/x-python",
   "name": "python",
   "nbconvert_exporter": "python",
   "pygments_lexer": "ipython3",
   "version": "3.11.5"
  }
 },
 "nbformat": 4,
 "nbformat_minor": 5
}
