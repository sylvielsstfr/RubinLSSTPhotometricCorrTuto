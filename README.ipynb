{
 "cells": [
  {
   "cell_type": "markdown",
   "id": "95aea8cf-1b2e-40aa-85ce-159527a86cf6",
   "metadata": {},
   "source": [
    "# Program of the tutorial\n",
    "\n",
    "- last verification : March 2st 2023"
   ]
  },
  {
   "cell_type": "markdown",
   "id": "25fbfc9d-4018-48f8-904e-5a36f63022e5",
   "metadata": {},
   "source": [
    "## 01Extraction of atmospheric parameters"
   ]
  },
  {
   "cell_type": "markdown",
   "id": "b50c7d64-1a7f-4ef9-afe8-a248972a85ab",
   "metadata": {},
   "source": [
    "### [Introduction to the atmosphere](notebooks/01_AtmosphericParamExtraction/01a_IntroAtmosphericTransparency.ipynb)"
   ]
  },
  {
   "cell_type": "markdown",
   "id": "e4bad0f3-d0b5-4ff9-86c2-9f015d71153b",
   "metadata": {},
   "source": [
    "### [Example of fitting atmospheric parameters on Auxtel Spectra](notebooks/01_AtmosphericParamExtraction/01b_AuxtelSpectraFits.ipynb)"
   ]
  },
  {
   "cell_type": "markdown",
   "id": "d1c06f17-0ab8-4495-a4c2-0ffd2676a614",
   "metadata": {},
   "source": [
    "## 02 Photometric corrections\n",
    "\n",
    "\n",
    "Core of this tutorial"
   ]
  },
  {
   "cell_type": "markdown",
   "id": "7ed8053a-3171-470c-b327-d28f4e353d70",
   "metadata": {},
   "source": [
    "### [Understanding Atmospheric Corrections](notebooks/02_PhotometricCorrections/02a_IntroPhotomCorrections.ipynb)"
   ]
  },
  {
   "cell_type": "markdown",
   "id": "be121981-0906-4481-8540-634443bd4a08",
   "metadata": {},
   "source": [
    "Introduction of the  equation to calculate the standard magnitudes in AB unit\n",
    "from instrumental magnitude from the ADC values calculated at each visit by aperture photometry.\n",
    "We express this it as a sum of SED shape independent term accounting to band absorption due to atmosphere and a SED shape dependent term. \n",
    "\n",
    "We shaw we have tool to calculate these two correction terms, once we have measured the per visit atmosheric parameters\n",
    " (from Auxtel)."
   ]
  },
  {
   "cell_type": "markdown",
   "id": "0df84ae7-d456-41a3-9634-2b6473188188",
   "metadata": {},
   "source": [
    "### [First steps in estimation of SED slope in band Y](notebooks/02_PhotometricCorrections/02b_SEDshapeEstimation.ipynb)"
   ]
  },
  {
   "cell_type": "markdown",
   "id": "40f40d7c-46fe-45c6-adfd-28c6fee97e5c",
   "metadata": {},
   "source": [
    "We show that the SED shape dependent correction term can be used to estimate the SED slope in\n",
    "that band. In this example we are looking at few objects and we vary the pwv over a maximum of range."
   ]
  },
  {
   "cell_type": "markdown",
   "id": "fde60a46-ffb6-46d3-8b7d-7ce1e576dca2",
   "metadata": {},
   "source": [
    "### [SED slope estimation on many SED when varying pwv](notebooks/02_PhotometricCorrections/02c_SEDshapeEstimation_varpwv.ipynb)"
   ]
  },
  {
   "cell_type": "markdown",
   "id": "e4b19c3b-32bb-4571-a69a-c6d69f025407",
   "metadata": {},
   "source": [
    "We do the same analysis as in the previous notebook, but this time with many SED, of which are redshifted.\n",
    "Moreover we are looking at every filters.\n",
    "As expected the more sensitive to pwv variation are the Y and Z filters.\n"
   ]
  },
  {
   "cell_type": "markdown",
   "id": "089be280-0060-45f8-ab2e-7c2f6755a5ab",
   "metadata": {},
   "source": [
    "### [SED slope estimation on many SED when varying airmass](notebooks/02_PhotometricCorrections/02d_SEDshapeEstimation_varairmass.ipynb)\n",
    "\n",
    "We apply the same exercice as in the previous notebook. But this time we vary only airmass.\n",
    "This we are sensitive to the slope of the SED in U,G, R "
   ]
  },
  {
   "cell_type": "markdown",
   "id": "f68dd871-e9a8-4b35-85a3-c252603296df",
   "metadata": {},
   "source": [
    "### [SED slope estimation on many SN SED when varying airmass](notebooks/02_PhotometricCorrections/02e_SEDshapeEstimation_varairmassSN.ipynb)"
   ]
  },
  {
   "cell_type": "markdown",
   "id": "1ceb1375-3a18-4ef8-843c-f7d50004b303",
   "metadata": {},
   "source": [
    "We apply the same exercice as in the previous notebook. But this time we vary only airmass.\n",
    "This we are sensitive to the slope of the SED in U,G, R "
   ]
  },
  {
   "cell_type": "markdown",
   "id": "e92fac2a-fc03-452d-993b-091efd380d04",
   "metadata": {},
   "source": [
    "## 03 Applications"
   ]
  },
  {
   "cell_type": "markdown",
   "id": "8c35cde6-3f61-41b8-be5d-2b7b0cd34775",
   "metadata": {},
   "source": [
    "### [Simulations](notebooks/03_Applications/03a_PhotoZ.ipynb)"
   ]
  },
  {
   "cell_type": "code",
   "execution_count": null,
   "id": "4f0bc44a-931d-4b30-877e-e7a0e88eb769",
   "metadata": {},
   "outputs": [],
   "source": []
  }
 ],
 "metadata": {
  "kernelspec": {
   "display_name": "python3_base",
   "language": "python",
   "name": "python3"
  },
  "language_info": {
   "codemirror_mode": {
    "name": "ipython",
    "version": 3
   },
   "file_extension": ".py",
   "mimetype": "text/x-python",
   "name": "python",
   "nbconvert_exporter": "python",
   "pygments_lexer": "ipython3",
   "version": "3.9.15"
  }
 },
 "nbformat": 4,
 "nbformat_minor": 5
}
