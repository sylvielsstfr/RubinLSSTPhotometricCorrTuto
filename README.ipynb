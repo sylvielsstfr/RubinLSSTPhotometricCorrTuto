{
 "cells": [
  {
   "cell_type": "markdown",
   "id": "95aea8cf-1b2e-40aa-85ce-159527a86cf6",
   "metadata": {},
   "source": [
    "# Program of the tutorial"
   ]
  },
  {
   "cell_type": "markdown",
   "id": "25fbfc9d-4018-48f8-904e-5a36f63022e5",
   "metadata": {},
   "source": [
    "## 01Extraction of atmospheric parameters"
   ]
  },
  {
   "cell_type": "markdown",
   "id": "b50c7d64-1a7f-4ef9-afe8-a248972a85ab",
   "metadata": {},
   "source": [
    "### [Introduction to the atmosphere](notebooks/01_AtmosphericParamExtraction/01a_IntroAtmosphericTransparency.ipynb)"
   ]
  },
  {
   "cell_type": "code",
   "execution_count": null,
   "id": "792b8476-fc63-43bc-a9ae-97b84d45ee7d",
   "metadata": {},
   "outputs": [],
   "source": []
  }
 ],
 "metadata": {
  "kernelspec": {
   "display_name": "python3_base",
   "language": "python",
   "name": "python3"
  },
  "language_info": {
   "codemirror_mode": {
    "name": "ipython",
    "version": 3
   },
   "file_extension": ".py",
   "mimetype": "text/x-python",
   "name": "python",
   "nbconvert_exporter": "python",
   "pygments_lexer": "ipython3",
   "version": "3.9.15"
  }
 },
 "nbformat": 4,
 "nbformat_minor": 5
}
