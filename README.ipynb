{
 "cells": [
  {
   "cell_type": "markdown",
   "id": "95aea8cf-1b2e-40aa-85ce-159527a86cf6",
   "metadata": {},
   "source": [
    "# Program of the tutorial\n",
    "\n",
    "- last verificatu"
   ]
  },
  {
   "cell_type": "markdown",
   "id": "25fbfc9d-4018-48f8-904e-5a36f63022e5",
   "metadata": {},
   "source": [
    "## 01Extraction of atmospheric parameters"
   ]
  },
  {
   "cell_type": "markdown",
   "id": "b50c7d64-1a7f-4ef9-afe8-a248972a85ab",
   "metadata": {},
   "source": [
    "### [Introduction to the atmosphere](notebooks/01_AtmosphericParamExtraction/01a_IntroAtmosphericTransparency.ipynb)"
   ]
  },
  {
   "cell_type": "markdown",
   "id": "e4bad0f3-d0b5-4ff9-86c2-9f015d71153b",
   "metadata": {},
   "source": [
    "### [Example of fitting atmospheric parameters on Auxtel Spectra](notebooks/01_AtmosphericParamExtraction/01b_AuxtelSpectraFits.ipynb)"
   ]
  },
  {
   "cell_type": "markdown",
   "id": "d1c06f17-0ab8-4495-a4c2-0ffd2676a614",
   "metadata": {},
   "source": [
    "## 02 Photometric corrections\n",
    "\n",
    "\n",
    "Core of this tutorial"
   ]
  },
  {
   "cell_type": "markdown",
   "id": "7ed8053a-3171-470c-b327-d28f4e353d70",
   "metadata": {},
   "source": [
    "### [Understanding Atmospheric Corrections](notebooks/02_PhotometricCorrections/02a_IntroPhotomCorrections.ipynb)"
   ]
  },
  {
   "cell_type": "markdown",
   "id": "0df84ae7-d456-41a3-9634-2b6473188188",
   "metadata": {},
   "source": [
    "### [Understanding Atmospheric Corrections](notebooks/02_PhotometricCorrections/02b_SEDshapeEstimation.ipynb)"
   ]
  },
  {
   "cell_type": "markdown",
   "id": "e92fac2a-fc03-452d-993b-091efd380d04",
   "metadata": {},
   "source": [
    "## 03 Applications"
   ]
  },
  {
   "cell_type": "markdown",
   "id": "8c35cde6-3f61-41b8-be5d-2b7b0cd34775",
   "metadata": {},
   "source": [
    "### [Simulations](notebooks/03_Applications/03a_PhotoZ.ipynb)"
   ]
  },
  {
   "cell_type": "code",
   "execution_count": null,
   "id": "4f0bc44a-931d-4b30-877e-e7a0e88eb769",
   "metadata": {},
   "outputs": [],
   "source": []
  }
 ],
 "metadata": {
  "kernelspec": {
   "display_name": "python3_base",
   "language": "python",
   "name": "python3"
  },
  "language_info": {
   "codemirror_mode": {
    "name": "ipython",
    "version": 3
   },
   "file_extension": ".py",
   "mimetype": "text/x-python",
   "name": "python",
   "nbconvert_exporter": "python",
   "pygments_lexer": "ipython3",
   "version": "3.9.15"
  }
 },
 "nbformat": 4,
 "nbformat_minor": 5
}
